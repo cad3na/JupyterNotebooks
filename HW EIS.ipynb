{
 "metadata": {
  "name": ""
 },
 "nbformat": 3,
 "nbformat_minor": 0,
 "worksheets": [
  {
   "cells": [
    {
     "cell_type": "markdown",
     "metadata": {},
     "source": [
      "Queremos saber el valor de la funcion $x$ evaluada en $0.1$, es decir $x(0.1)$.\n",
      "\n",
      "Sabemos que $x(0) = 0.5$ y que $\\dot{x} = -3x$ con un paso $dt = 0.1$\n",
      "\n",
      "Lo primero que hacemos es definir las variables utiles."
     ]
    },
    {
     "cell_type": "code",
     "collapsed": false,
     "input": [
      "t0 = 0\n",
      "tf = 0.1\n",
      "dt = 0.05\n",
      "x0 = 0.5"
     ],
     "language": "python",
     "metadata": {},
     "outputs": [],
     "prompt_number": 11
    },
    {
     "cell_type": "markdown",
     "metadata": {},
     "source": [
      "Creamos el arreglo donde vamos a guardar los valores obtenidos."
     ]
    },
    {
     "cell_type": "code",
     "collapsed": false,
     "input": [
      "t = arange(t0, tf + dt, dt)\n",
      "x = zeros(len(t))\n",
      "x[0] = x0"
     ],
     "language": "python",
     "metadata": {},
     "outputs": [],
     "prompt_number": 12
    },
    {
     "cell_type": "markdown",
     "metadata": {},
     "source": [
      "Y corremos el ciclo que iterara a traves de todos los elementos."
     ]
    },
    {
     "cell_type": "code",
     "collapsed": false,
     "input": [
      "for i in range(len(x)-1):\n",
      "    x[i+1] = x[i] - 3*x[i]\n",
      "    \n",
      "print t,x"
     ],
     "language": "python",
     "metadata": {},
     "outputs": [
      {
       "output_type": "stream",
       "stream": "stdout",
       "text": [
        "[ 0.    0.05  0.1   0.15] [ 0.5 -1.   2.  -4. ]\n"
       ]
      }
     ],
     "prompt_number": 13
    },
    {
     "cell_type": "code",
     "collapsed": false,
     "input": [],
     "language": "python",
     "metadata": {},
     "outputs": []
    }
   ],
   "metadata": {}
  }
 ]
}