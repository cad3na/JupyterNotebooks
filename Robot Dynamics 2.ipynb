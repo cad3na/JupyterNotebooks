{
 "metadata": {
  "name": "",
  "signature": "sha256:55774a59ef37f37d79ffb39d9a5e72a4d8ff19da24117c2751ee1afc4b2e0773"
 },
 "nbformat": 3,
 "nbformat_minor": 0,
 "worksheets": [
  {
   "cells": [
    {
     "cell_type": "code",
     "collapsed": false,
     "input": [
      "from IPython.display import display\n",
      "\n",
      "from sympy.interactive import printing\n",
      "printing.init_printing()\n",
      "\n",
      "from sympy import var, simplify, collect, expand, solve, sin, cos, Matrix, diff, Function\n",
      "from sympy.physics.mechanics import mlatex, mechanics_printing"
     ],
     "language": "python",
     "metadata": {},
     "outputs": [],
     "prompt_number": 1
    },
    {
     "cell_type": "code",
     "collapsed": false,
     "input": [
      "def position(x, y):\n",
      "    \"\"\"\n",
      "    Takes the x and y coordinates of a body, and returns\n",
      "    a sympy Matrix with the position.\n",
      "    \"\"\"\n",
      "    return Matrix([x, y])"
     ],
     "language": "python",
     "metadata": {},
     "outputs": [],
     "prompt_number": 2
    },
    {
     "cell_type": "code",
     "collapsed": false,
     "input": [
      "def velocity(r):\n",
      "    \"\"\"\n",
      "    Takes the position of a body in the form of a sympy\n",
      "    Matrix and returns it's velocity.\n",
      "    \"\"\"\n",
      "    return r.diff(t)"
     ],
     "language": "python",
     "metadata": {},
     "outputs": [],
     "prompt_number": 3
    },
    {
     "cell_type": "code",
     "collapsed": false,
     "input": [
      "def square_velocity(v):\n",
      "    \"\"\"\n",
      "    Takes the velocity of a body in the form of a sympy\n",
      "    Matrix and returns it's square.\n",
      "    \"\"\"\n",
      "    return collect(simplify((v.T*v)[0]), [q_1.diff(t)*q_2.diff(t), q_1.diff(t), q_2.diff(t), q_1.diff(t)**2, q_2.diff(t)**2])"
     ],
     "language": "python",
     "metadata": {},
     "outputs": [],
     "prompt_number": 4
    },
    {
     "cell_type": "code",
     "collapsed": false,
     "input": [
      "def kinetic_energy(m, v2, I = 0, om = 0):\n",
      "    \"\"\"\n",
      "    Takes the mass (m), squared velocity (v2), Inertial\n",
      "    moment (I), and angular velocity (om) of a body, and\n",
      "    returns the kinetic energy of the body.\n",
      "    \"\"\"\n",
      "    return (m*v2)/2 + (I*om**2)/2"
     ],
     "language": "python",
     "metadata": {},
     "outputs": [],
     "prompt_number": 5
    },
    {
     "cell_type": "code",
     "collapsed": false,
     "input": [
      "def potential_energy(m, h):\n",
      "    \"\"\"\n",
      "    Takes the mass (m), and height (h) of a body and\n",
      "    returns the potential energy of the body (this\n",
      "    assumes that the acceleration due to the gravitational\n",
      "    forces is 9.81 m/s^2).\n",
      "    \"\"\"\n",
      "    g = 9.81\n",
      "    return (m*g*h)"
     ],
     "language": "python",
     "metadata": {},
     "outputs": [],
     "prompt_number": 6
    },
    {
     "cell_type": "code",
     "collapsed": false,
     "input": [
      "def lagrange_function(K, U):\n",
      "    \"\"\"\n",
      "    Takes the kinetic and potential energy of a system\n",
      "    (K and U) and returns the Langrange Function of the\n",
      "    system.\n",
      "    \"\"\"\n",
      "    return K - U"
     ],
     "language": "python",
     "metadata": {},
     "outputs": [],
     "prompt_number": 7
    },
    {
     "cell_type": "code",
     "collapsed": false,
     "input": [
      "def torque_function(L, q):\n",
      "    \"\"\"\n",
      "    Takes the Langrange function (L) and derives with\n",
      "    respect of the Freedom Degree specified (q).\n",
      "    \"\"\"\n",
      "    return collect(simplify(expand(L).diff(q.diff(t)).diff(t) + expand(L).diff(q)), [q.diff(t), q.diff(t).diff(t)])"
     ],
     "language": "python",
     "metadata": {},
     "outputs": [],
     "prompt_number": 8
    },
    {
     "cell_type": "code",
     "collapsed": false,
     "input": [
      "mechanics_printing()"
     ],
     "language": "python",
     "metadata": {},
     "outputs": [
      {
       "output_type": "stream",
       "stream": "stderr",
       "text": [
        "//anaconda/lib/python2.7/site-packages/sympy/physics/mechanics/functions.py:58: SymPyDeprecationWarning: \n",
        "\n",
        "See the doc string for slight changes to this function: keyword args\n",
        "may be needed for the desired effect. Otherwise use\n",
        "sympy.physics.vector.init_vprinting directly.\n",
        "\n",
        "  SymPyDeprecationWarning(filldedent(msg)).warn()\n"
       ]
      }
     ],
     "prompt_number": 9
    },
    {
     "cell_type": "code",
     "collapsed": false,
     "input": [
      "var(\"m_1 m_2 I_1 I_2 omega_1 omega_2 l_1 l_2 L_1 t\")\n",
      "q_1 = Function(\"q_1\")(t)\n",
      "q_2 = Function(\"q_2\")(t)"
     ],
     "language": "python",
     "metadata": {},
     "outputs": [],
     "prompt_number": 18
    },
    {
     "cell_type": "code",
     "collapsed": false,
     "input": [
      "r_1 = position(l_1*cos(q_1), l_1*sin(q_1))"
     ],
     "language": "python",
     "metadata": {},
     "outputs": [],
     "prompt_number": 11
    },
    {
     "cell_type": "code",
     "collapsed": false,
     "input": [
      "r_2 = position(L_1*cos(q_1) + l_2*cos(q_1 + q_2), L_1*sin(q_1) + l_2*sin(q_1 + q_2))"
     ],
     "language": "python",
     "metadata": {},
     "outputs": [],
     "prompt_number": 12
    },
    {
     "cell_type": "code",
     "collapsed": false,
     "input": [
      "v_1 = velocity(r_1)"
     ],
     "language": "python",
     "metadata": {},
     "outputs": [],
     "prompt_number": 13
    },
    {
     "cell_type": "code",
     "collapsed": false,
     "input": [
      "v_2 = velocity(r_2)"
     ],
     "language": "python",
     "metadata": {},
     "outputs": [],
     "prompt_number": 14
    },
    {
     "cell_type": "code",
     "collapsed": false,
     "input": [
      "v_12 = square_velocity(v_1)"
     ],
     "language": "python",
     "metadata": {},
     "outputs": [],
     "prompt_number": 15
    },
    {
     "cell_type": "code",
     "collapsed": false,
     "input": [
      "v_22 = square_velocity(v_2)"
     ],
     "language": "python",
     "metadata": {},
     "outputs": [],
     "prompt_number": 16
    },
    {
     "cell_type": "code",
     "collapsed": false,
     "input": [
      "k_1 = kinetic_energy(m_1, v_12, I_1, omega_1)"
     ],
     "language": "python",
     "metadata": {},
     "outputs": [],
     "prompt_number": 19
    },
    {
     "cell_type": "code",
     "collapsed": false,
     "input": [
      "k_2 = kinetic_energy(m_2, v_22, I_2, omega_2)"
     ],
     "language": "python",
     "metadata": {},
     "outputs": [],
     "prompt_number": 20
    },
    {
     "cell_type": "code",
     "collapsed": false,
     "input": [
      "U_1 = potential_energy(m_1, 0)"
     ],
     "language": "python",
     "metadata": {},
     "outputs": [],
     "prompt_number": 21
    },
    {
     "cell_type": "code",
     "collapsed": false,
     "input": [
      "U_2 = potential_energy(m_2, 0)"
     ],
     "language": "python",
     "metadata": {},
     "outputs": [],
     "prompt_number": 22
    },
    {
     "cell_type": "code",
     "collapsed": false,
     "input": [
      "L = lagrange_function(k_1 + k_2, U_1 + U_2)"
     ],
     "language": "python",
     "metadata": {},
     "outputs": [],
     "prompt_number": 23
    },
    {
     "cell_type": "code",
     "collapsed": false,
     "input": [
      "tau_1 = torque_function(L, q_1)"
     ],
     "language": "python",
     "metadata": {},
     "outputs": [],
     "prompt_number": 24
    },
    {
     "cell_type": "code",
     "collapsed": false,
     "input": [
      "tau_2 = torque_function(L, q_2)"
     ],
     "language": "python",
     "metadata": {},
     "outputs": [],
     "prompt_number": 25
    },
    {
     "cell_type": "code",
     "collapsed": false,
     "input": [
      "Matrix([tau_1, tau_2])"
     ],
     "language": "python",
     "metadata": {},
     "outputs": [
      {
       "latex": [
        "$$\\left[\\begin{matrix}- 2 L_{1} l_{2} m_{2} \\operatorname{sin}\\left(q_{2}\\right) \\dot{q}_{1} \\dot{q}_{2} - L_{1} l_{2} m_{2} \\operatorname{sin}\\left(q_{2}\\right) \\left(\\dot{q}_{2}\\right)^{2} + L_{1} l_{2} m_{2} \\operatorname{cos}\\left(q_{2}\\right) \\ddot{q}_{2} + l_{2}^{2} m_{2} \\ddot{q}_{2} + \\left(L_{1}^{2} m_{2} + 2 L_{1} l_{2} m_{2} \\operatorname{cos}\\left(q_{2}\\right) + l_{1}^{2} m_{1} + l_{2}^{2} m_{2}\\right) \\ddot{q}_{1}\\\\l_{2} m_{2} \\left(- L_{1} \\operatorname{sin}\\left(q_{2}\\right) \\left(\\dot{q}_{1}\\right)^{2} - 2 L_{1} \\operatorname{sin}\\left(q_{2}\\right) \\dot{q}_{1} \\dot{q}_{2} + L_{1} \\operatorname{cos}\\left(q_{2}\\right) \\ddot{q}_{1} + l_{2} \\ddot{q}_{1} + l_{2} \\ddot{q}_{2}\\right)\\end{matrix}\\right]$$"
       ],
       "metadata": {},
       "output_type": "pyout",
       "png": "[encoded data removed]",
       "prompt_number": 26,
       "text": [
        "\u23a1                                                  2                          \n",
        "\u23a2-2\u22c5L\u2081\u22c5l\u2082\u22c5m\u2082\u22c5sin(q\u2082)\u22c5q\u2081\u0307\u22c5q\u2082\u0307 - L\u2081\u22c5l\u2082\u22c5m\u2082\u22c5sin(q\u2082)\u22c5q\u2082\u0307  + L\u2081\u22c5l\u2082\u22c5m\u2082\u22c5cos(q\u2082)\u22c5q\u2082\u0308 + \n",
        "\u23a2                                                                             \n",
        "\u23a2                                   \u239b                2                        \n",
        "\u23a3                             l\u2082\u22c5m\u2082\u22c5\u239d- L\u2081\u22c5sin(q\u2082)\u22c5q\u2081\u0307  - 2\u22c5L\u2081\u22c5sin(q\u2082)\u22c5q\u2081\u0307\u22c5q\u2082\u0307 \n",
        "\n",
        "  2          \u239b  2                             2        2   \u239e    \u23a4\n",
        "l\u2082 \u22c5m\u2082\u22c5q\u2082\u0308 + \u239dL\u2081 \u22c5m\u2082 + 2\u22c5L\u2081\u22c5l\u2082\u22c5m\u2082\u22c5cos(q\u2082) + l\u2081 \u22c5m\u2081 + l\u2082 \u22c5m\u2082\u23a0\u22c5q\u2081\u0308\u23a5\n",
        "                                                                \u23a5\n",
        "                                  \u239e                             \u23a5\n",
        "+ L\u2081\u22c5cos(q\u2082)\u22c5q\u2081\u0308 + l\u2082\u22c5q\u2081\u0308 + l\u2082\u22c5q\u2082\u0308\u23a0                             \u23a6"
       ]
      }
     ],
     "prompt_number": 26
    },
    {
     "cell_type": "code",
     "collapsed": false,
     "input": [],
     "language": "python",
     "metadata": {},
     "outputs": []
    }
   ],
   "metadata": {}
  }
 ]
}