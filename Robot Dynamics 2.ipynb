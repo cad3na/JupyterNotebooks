{
 "metadata": {
  "name": "",
  "signature": "sha256:9cf320f3fdb780bf42015d8a9c3226a99b6e62adbd0c78a103e30401ee689180"
 },
 "nbformat": 3,
 "nbformat_minor": 0,
 "worksheets": [
  {
   "cells": [
    {
     "cell_type": "code",
     "collapsed": false,
     "input": [
      "from IPython.display import display\n",
      "\n",
      "from sympy.interactive import printing\n",
      "printing.init_printing()\n",
      "\n",
      "from sympy import var, simplify, collect, expand, solve, sin, cos, Matrix, diff, Function\n",
      "from sympy.physics.mechanics import mlatex, mechanics_printing"
     ],
     "language": "python",
     "metadata": {},
     "outputs": [],
     "prompt_number": 1
    },
    {
     "cell_type": "code",
     "collapsed": false,
     "input": [
      "def position(x, y, z):\n",
      "    \"\"\"\n",
      "    Takes the x and y coordinates of a body, and returns\n",
      "    a sympy Matrix with the position.\n",
      "    \"\"\"\n",
      "    return Matrix([x, y, z])"
     ],
     "language": "python",
     "metadata": {},
     "outputs": [],
     "prompt_number": 2
    },
    {
     "cell_type": "code",
     "collapsed": false,
     "input": [
      "def velocity(r):\n",
      "    \"\"\"\n",
      "    Takes the position of a body in the form of a sympy\n",
      "    Matrix and returns it's velocity.\n",
      "    \"\"\"\n",
      "    return r.diff(t)"
     ],
     "language": "python",
     "metadata": {},
     "outputs": [],
     "prompt_number": 3
    },
    {
     "cell_type": "code",
     "collapsed": false,
     "input": [
      "def square_velocity(v):\n",
      "    \"\"\"\n",
      "    Takes the velocity of a body in the form of a sympy\n",
      "    Matrix and returns it's square.\n",
      "    \"\"\"\n",
      "    return collect(simplify((v.T*v)[0]), [q_1.diff(t)*q_2.diff(t), q_1.diff(t), q_2.diff(t), q_1.diff(t)**2, q_2.diff(t)**2])"
     ],
     "language": "python",
     "metadata": {},
     "outputs": [],
     "prompt_number": 4
    },
    {
     "cell_type": "code",
     "collapsed": false,
     "input": [
      "def kinetic_energy(m, v2, cI, om):\n",
      "    \"\"\"\n",
      "    Takes the mass (m), squared velocity (v2), Inertial\n",
      "    tensor (cI), and angular velocity (om) of a body, and\n",
      "    returns the kinetic energy of the body.\n",
      "    \"\"\"\n",
      "    return (m*v2)/2 + (om.T*cI*om)[0]/2"
     ],
     "language": "python",
     "metadata": {},
     "outputs": [],
     "prompt_number": 5
    },
    {
     "cell_type": "code",
     "collapsed": false,
     "input": [
      "def potential_energy(m, h):\n",
      "    \"\"\"\n",
      "    Takes the mass (m), and height (h) of a body and\n",
      "    returns the potential energy of the body (this\n",
      "    assumes that the acceleration due to the gravitational\n",
      "    forces is 9.81 m/s^2).\n",
      "    \"\"\"\n",
      "    g = 9.81\n",
      "    return (m*g*h)"
     ],
     "language": "python",
     "metadata": {},
     "outputs": [],
     "prompt_number": 6
    },
    {
     "cell_type": "code",
     "collapsed": false,
     "input": [
      "def lagrange_function(K, U):\n",
      "    \"\"\"\n",
      "    Takes the kinetic and potential energy of a system\n",
      "    (K and U) and returns the Langrange Function of the\n",
      "    system.\n",
      "    \"\"\"\n",
      "    return K - U"
     ],
     "language": "python",
     "metadata": {},
     "outputs": [],
     "prompt_number": 7
    },
    {
     "cell_type": "code",
     "collapsed": false,
     "input": [
      "def torque_function(L, q):\n",
      "    \"\"\"\n",
      "    Takes the Langrange function (L) and derives with\n",
      "    respect of the Freedom Degree specified (q).\n",
      "    \"\"\"\n",
      "    return collect(simplify(expand(L).diff(q.diff(t)).diff(t) + expand(L).diff(q)), [q.diff(t), q.diff(t).diff(t)])"
     ],
     "language": "python",
     "metadata": {},
     "outputs": [],
     "prompt_number": 8
    },
    {
     "cell_type": "code",
     "collapsed": false,
     "input": [
      "mechanics_printing()"
     ],
     "language": "python",
     "metadata": {},
     "outputs": [
      {
       "output_type": "stream",
       "stream": "stderr",
       "text": [
        "//anaconda/lib/python2.7/site-packages/sympy/physics/mechanics/functions.py:58: SymPyDeprecationWarning: \n",
        "\n",
        "See the doc string for slight changes to this function: keyword args\n",
        "may be needed for the desired effect. Otherwise use\n",
        "sympy.physics.vector.init_vprinting directly.\n",
        "\n",
        "  SymPyDeprecationWarning(filldedent(msg)).warn()\n"
       ]
      }
     ],
     "prompt_number": 9
    },
    {
     "cell_type": "code",
     "collapsed": false,
     "input": [
      "var(\"m_1 m_2 m_3 l_1 l_2 l_3 L_1 t\")\n",
      "q_1 = Function(\"q_1\")(t)\n",
      "q_2 = Function(\"q_2\")(t)\n",
      "q_3 = Function(\"q_3\")(t)"
     ],
     "language": "python",
     "metadata": {},
     "outputs": [],
     "prompt_number": 10
    },
    {
     "cell_type": "code",
     "collapsed": false,
     "input": [
      "ixx1, ixx2, ixx3, iyy1, iyy2, iyy3, izz1, izz2, izz3 = var(\"I_{xx_1} I_{xx_2} I_{xx_3} I_{yy_1} I_{yy_2} I_{yy_3} I_{zz_1} I_{zz_2} I_{zz_3}\")"
     ],
     "language": "python",
     "metadata": {},
     "outputs": [],
     "prompt_number": 11
    },
    {
     "cell_type": "code",
     "collapsed": false,
     "input": [
      "cI1 = Matrix([[ixx1, 0, 0],\n",
      "              [0, iyy1, 0],\n",
      "              [0, 0, izz1]])\n",
      "\n",
      "cI2 = Matrix([[ixx2, 0, 0],\n",
      "              [0, iyy2, 0],\n",
      "              [0, 0, izz2]])\n",
      "\n",
      "cI3 = Matrix([[ixx3, 0, 0],\n",
      "              [0, iyy3, 0],\n",
      "              [0, 0, izz3]])\n",
      "\n",
      "om1 = Matrix([0, 0, q_1.diff(t)])\n",
      "om2 = Matrix([0, q_2.diff(t), q_1.diff(t)])\n",
      "om3 = Matrix([0, q_2.diff(t), q_1.diff(t)])"
     ],
     "language": "python",
     "metadata": {},
     "outputs": [],
     "prompt_number": 12
    },
    {
     "cell_type": "code",
     "collapsed": false,
     "input": [
      "cI1"
     ],
     "language": "python",
     "metadata": {},
     "outputs": [
      {
       "latex": [
        "$$\\left[\\begin{matrix}I_{{xx 1}} & 0 & 0\\\\0 & I_{{yy 1}} & 0\\\\0 & 0 & I_{{zz 1}}\\end{matrix}\\right]$$"
       ],
       "metadata": {},
       "output_type": "pyout",
       "png": "[encoded data removed]",
       "prompt_number": 13,
       "text": [
        "\u23a1I_{xx_1}     0         0    \u23a4\n",
        "\u23a2                            \u23a5\n",
        "\u23a2   0      I_{yy_1}     0    \u23a5\n",
        "\u23a2                            \u23a5\n",
        "\u23a3   0         0      I_{zz_1}\u23a6"
       ]
      }
     ],
     "prompt_number": 13
    },
    {
     "cell_type": "code",
     "collapsed": false,
     "input": [
      "r_1 = position(0, 0, l_1)\n",
      "r_2 = position(l_2*cos(q_2)*cos(q_1), l_2*cos(q_2)*sin(q_1), L_1 + l_2*sin(q_2))\n",
      "r_3 = position(q_3*cos(q_2)*cos(q_1), q_3*cos(q_2)*sin(q_1), L_1 + q_3*sin(q_2))"
     ],
     "language": "python",
     "metadata": {},
     "outputs": [],
     "prompt_number": 14
    },
    {
     "cell_type": "code",
     "collapsed": false,
     "input": [
      "v_1 = velocity(r_1)\n",
      "v_2 = velocity(r_2)\n",
      "v_3 = velocity(r_3)"
     ],
     "language": "python",
     "metadata": {},
     "outputs": [],
     "prompt_number": 15
    },
    {
     "cell_type": "code",
     "collapsed": false,
     "input": [
      "v_12 = square_velocity(v_1)\n",
      "v_22 = square_velocity(v_2)\n",
      "v_32 = square_velocity(v_2)"
     ],
     "language": "python",
     "metadata": {},
     "outputs": [],
     "prompt_number": 16
    },
    {
     "cell_type": "code",
     "collapsed": false,
     "input": [
      "k_1 = kinetic_energy(m_1, v_12, cI1, om1)\n",
      "k_2 = kinetic_energy(m_2, v_22, cI2, om2)\n",
      "k_3 = kinetic_energy(m_3, v_32, cI2, om2)"
     ],
     "language": "python",
     "metadata": {},
     "outputs": [],
     "prompt_number": 17
    },
    {
     "cell_type": "code",
     "collapsed": false,
     "input": [
      "U_1 = potential_energy(m_1, l_1)\n",
      "U_2 = potential_energy(m_2, L_1 + l_2*sin(q_2))\n",
      "U_3 = potential_energy(m_3, L_1 + q_3*sin(q_2))"
     ],
     "language": "python",
     "metadata": {},
     "outputs": [],
     "prompt_number": 18
    },
    {
     "cell_type": "code",
     "collapsed": false,
     "input": [
      "L = lagrange_function(k_1 + k_2 + k_3, U_1 + U_2 + U_3)"
     ],
     "language": "python",
     "metadata": {},
     "outputs": [],
     "prompt_number": 19
    },
    {
     "cell_type": "code",
     "collapsed": false,
     "input": [
      "tau_1 = torque_function(L, q_1)\n",
      "tau_2 = torque_function(L, q_2)\n",
      "tau_3 = torque_function(L, q_3)"
     ],
     "language": "python",
     "metadata": {},
     "outputs": [],
     "prompt_number": 20
    },
    {
     "cell_type": "code",
     "collapsed": false,
     "input": [
      "Matrix([tau_1, tau_2, tau_3])"
     ],
     "language": "python",
     "metadata": {},
     "outputs": [
      {
       "latex": [
        "$$\\left[\\begin{matrix}\\left(- l_{2}^{2} m_{2} \\operatorname{sin}\\left(2 q_{2}\\right) \\dot{q}_{2} - l_{2}^{2} m_{3} \\operatorname{sin}\\left(2 q_{2}\\right) \\dot{q}_{2}\\right) \\dot{q}_{1} + \\left(I_{{zz 1}} + 2 I_{{zz 2}} + l_{2}^{2} m_{2} \\operatorname{cos}^{2}\\left(q_{2}\\right) + l_{2}^{2} m_{3} \\operatorname{cos}^{2}\\left(q_{2}\\right)\\right) \\ddot{q}_{1}\\\\- \\frac{l_{2}^{2} m_{2}}{2} \\operatorname{sin}\\left(2 q_{2}\\right) \\left(\\dot{q}_{1}\\right)^{2} - \\frac{l_{2}^{2} m_{3}}{2} \\operatorname{sin}\\left(2 q_{2}\\right) \\left(\\dot{q}_{1}\\right)^{2} - 9.81 l_{2} m_{2} \\operatorname{cos}\\left(q_{2}\\right) - 9.81 m_{3} q_{3} \\operatorname{cos}\\left(q_{2}\\right) + \\left(2 I_{{yy 2}} + l_{2}^{2} m_{2} + l_{2}^{2} m_{3}\\right) \\ddot{q}_{2}\\\\- 9.81 m_{3} \\operatorname{sin}\\left(q_{2}\\right)\\end{matrix}\\right]$$"
       ],
       "metadata": {},
       "output_type": "pyout",
       "png": "[encoded data removed]",
       "prompt_number": 21,
       "text": [
        "\u23a1    \u239b    2                      2                 \u239e       \u239b                  \n",
        "\u23a2    \u239d- l\u2082 \u22c5m\u2082\u22c5sin(2\u22c5q\u2082)\u22c5q\u2082\u0307 - l\u2082 \u22c5m\u2083\u22c5sin(2\u22c5q\u2082)\u22c5q\u2082\u0307\u23a0\u22c5q\u2081\u0307 + \u239dI_{zz_1} + 2\u22c5I_{zz\n",
        "\u23a2                                                                             \n",
        "\u23a2    2                 2     2                 2                              \n",
        "\u23a2  l\u2082 \u22c5m\u2082\u22c5sin(2\u22c5q\u2082)\u22c5q\u2081\u0307    l\u2082 \u22c5m\u2083\u22c5sin(2\u22c5q\u2082)\u22c5q\u2081\u0307                               \n",
        "\u23a2- \u2500\u2500\u2500\u2500\u2500\u2500\u2500\u2500\u2500\u2500\u2500\u2500\u2500\u2500\u2500\u2500\u2500\u2500\u2500\u2500\u2500 - \u2500\u2500\u2500\u2500\u2500\u2500\u2500\u2500\u2500\u2500\u2500\u2500\u2500\u2500\u2500\u2500\u2500\u2500\u2500\u2500\u2500 - 9.81\u22c5l\u2082\u22c5m\u2082\u22c5cos(q\u2082) - 9.81\u22c5m\n",
        "\u23a2            2                       2                                        \n",
        "\u23a2                                                                             \n",
        "\u23a3                                                       -9.81\u22c5m\u2083\u22c5sin(q\u2082)      \n",
        "\n",
        "        2       2         2       2    \u239e         \u23a4\n",
        "_2} + l\u2082 \u22c5m\u2082\u22c5cos (q\u2082) + l\u2082 \u22c5m\u2083\u22c5cos (q\u2082)\u23a0\u22c5q\u2081\u0308     \u23a5\n",
        "                                                 \u23a5\n",
        "                                                 \u23a5\n",
        "               \u239b               2        2   \u239e    \u23a5\n",
        "\u2083\u22c5q\u2083\u22c5cos(q\u2082) + \u239d2\u22c5I_{yy_2} + l\u2082 \u22c5m\u2082 + l\u2082 \u22c5m\u2083\u23a0\u22c5q\u2082\u0308\u23a5\n",
        "                                                 \u23a5\n",
        "                                                 \u23a5\n",
        "                                                 \u23a6"
       ]
      }
     ],
     "prompt_number": 21
    },
    {
     "cell_type": "code",
     "collapsed": false,
     "input": [
      "tau_1.coeff(q_1.diff(t))"
     ],
     "language": "python",
     "metadata": {},
     "outputs": [
      {
       "latex": [
        "$$- l_{2}^{2} m_{2} \\operatorname{sin}\\left(2 q_{2}\\right) \\dot{q}_{2} - l_{2}^{2} m_{3} \\operatorname{sin}\\left(2 q_{2}\\right) \\dot{q}_{2}$$"
       ],
       "metadata": {},
       "output_type": "pyout",
       "png": "[encoded data removed]",
       "prompt_number": 22,
       "text": [
        "    2                      2                 \n",
        "- l\u2082 \u22c5m\u2082\u22c5sin(2\u22c5q\u2082)\u22c5q\u2082\u0307 - l\u2082 \u22c5m\u2083\u22c5sin(2\u22c5q\u2082)\u22c5q\u2082\u0307"
       ]
      }
     ],
     "prompt_number": 22
    },
    {
     "cell_type": "code",
     "collapsed": false,
     "input": [
      "tau_1.coeff(q_1.diff(t).diff(t))"
     ],
     "language": "python",
     "metadata": {},
     "outputs": [
      {
       "latex": [
        "$$I_{{zz 1}} + 2 I_{{zz 2}} + l_{2}^{2} m_{2} \\operatorname{cos}^{2}\\left(q_{2}\\right) + l_{2}^{2} m_{3} \\operatorname{cos}^{2}\\left(q_{2}\\right)$$"
       ],
       "metadata": {},
       "output_type": "pyout",
       "png": "[encoded data removed]",
       "prompt_number": 23,
       "text": [
        "                          2       2         2       2    \n",
        "I_{zz_1} + 2\u22c5I_{zz_2} + l\u2082 \u22c5m\u2082\u22c5cos (q\u2082) + l\u2082 \u22c5m\u2083\u22c5cos (q\u2082)"
       ]
      }
     ],
     "prompt_number": 23
    },
    {
     "cell_type": "code",
     "collapsed": false,
     "input": [
      "k_1"
     ],
     "language": "python",
     "metadata": {},
     "outputs": [
      {
       "latex": [
        "$$\\frac{I_{{zz 1}}}{2} \\left(\\dot{q}_{1}\\right)^{2}$$"
       ],
       "metadata": {},
       "output_type": "pyout",
       "png": "[encoded data removed]",
       "prompt_number": 24,
       "text": [
        "            2\n",
        "I_{zz_1}\u22c5q\u2081\u0307 \n",
        "\u2500\u2500\u2500\u2500\u2500\u2500\u2500\u2500\u2500\u2500\u2500\u2500\u2500\n",
        "      2      "
       ]
      }
     ],
     "prompt_number": 24
    },
    {
     "cell_type": "code",
     "collapsed": false,
     "input": [
      "k_2"
     ],
     "language": "python",
     "metadata": {},
     "outputs": [
      {
       "latex": [
        "$$\\frac{I_{{yy 2}}}{2} \\left(\\dot{q}_{2}\\right)^{2} + \\frac{I_{{zz 2}}}{2} \\left(\\dot{q}_{1}\\right)^{2} + \\frac{l_{2}^{2} m_{2}}{2} \\left(\\operatorname{cos}^{2}\\left(q_{2}\\right) \\left(\\dot{q}_{1}\\right)^{2} + \\left(\\dot{q}_{2}\\right)^{2}\\right)$$"
       ],
       "metadata": {},
       "output_type": "pyout",
       "png": "[encoded data removed]",
       "prompt_number": 25,
       "text": [
        "            2               2     2    \u239b   2        2      2\u239e\n",
        "I_{yy_2}\u22c5q\u2082\u0307    I_{zz_2}\u22c5q\u2081\u0307    l\u2082 \u22c5m\u2082\u22c5\u239dcos (q\u2082)\u22c5q\u2081\u0307  + q\u2082\u0307 \u23a0\n",
        "\u2500\u2500\u2500\u2500\u2500\u2500\u2500\u2500\u2500\u2500\u2500\u2500\u2500 + \u2500\u2500\u2500\u2500\u2500\u2500\u2500\u2500\u2500\u2500\u2500\u2500\u2500 + \u2500\u2500\u2500\u2500\u2500\u2500\u2500\u2500\u2500\u2500\u2500\u2500\u2500\u2500\u2500\u2500\u2500\u2500\u2500\u2500\u2500\u2500\u2500\u2500\u2500\u2500\u2500\u2500\u2500\n",
        "      2               2                       2              "
       ]
      }
     ],
     "prompt_number": 25
    },
    {
     "cell_type": "code",
     "collapsed": false,
     "input": [
      "k_3"
     ],
     "language": "python",
     "metadata": {},
     "outputs": [
      {
       "latex": [
        "$$\\frac{I_{{yy 2}}}{2} \\left(\\dot{q}_{2}\\right)^{2} + \\frac{I_{{zz 2}}}{2} \\left(\\dot{q}_{1}\\right)^{2} + \\frac{l_{2}^{2} m_{3}}{2} \\left(\\operatorname{cos}^{2}\\left(q_{2}\\right) \\left(\\dot{q}_{1}\\right)^{2} + \\left(\\dot{q}_{2}\\right)^{2}\\right)$$"
       ],
       "metadata": {},
       "output_type": "pyout",
       "png": "[encoded data removed]",
       "prompt_number": 26,
       "text": [
        "            2               2     2    \u239b   2        2      2\u239e\n",
        "I_{yy_2}\u22c5q\u2082\u0307    I_{zz_2}\u22c5q\u2081\u0307    l\u2082 \u22c5m\u2083\u22c5\u239dcos (q\u2082)\u22c5q\u2081\u0307  + q\u2082\u0307 \u23a0\n",
        "\u2500\u2500\u2500\u2500\u2500\u2500\u2500\u2500\u2500\u2500\u2500\u2500\u2500 + \u2500\u2500\u2500\u2500\u2500\u2500\u2500\u2500\u2500\u2500\u2500\u2500\u2500 + \u2500\u2500\u2500\u2500\u2500\u2500\u2500\u2500\u2500\u2500\u2500\u2500\u2500\u2500\u2500\u2500\u2500\u2500\u2500\u2500\u2500\u2500\u2500\u2500\u2500\u2500\u2500\u2500\u2500\n",
        "      2               2                       2              "
       ]
      }
     ],
     "prompt_number": 26
    },
    {
     "cell_type": "code",
     "collapsed": false,
     "input": [],
     "language": "python",
     "metadata": {},
     "outputs": []
    }
   ],
   "metadata": {}
  }
 ]
}