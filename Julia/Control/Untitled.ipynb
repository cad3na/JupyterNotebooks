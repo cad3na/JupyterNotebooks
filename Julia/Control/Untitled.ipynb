{
 "cells": [
  {
   "cell_type": "code",
   "execution_count": 1,
   "metadata": {},
   "outputs": [
    {
     "name": "stderr",
     "output_type": "stream",
     "text": [
      "┌ Info: Recompiling stale cache file /Users/roberto/.julia/compiled/v1.1/ControlSystems/WTvAN.ji for ControlSystems [a6e380b2-a6ca-5380-bf3e-84a91bcd477e]\n",
      "└ @ Base loading.jl:1184\n",
      "WARNING: Method definition adjoint(Function) in module Zygote at /Users/roberto/.julia/packages/Zygote/fuj2C/src/compiler/interface.jl:50 overwritten in module Calculus at /Users/roberto/.julia/packages/Calculus/2qBLt/src/derivative.jl:33.\n",
      "┌ Info: Recompiling stale cache file /Users/roberto/.julia/compiled/v1.1/Interact/XmYW4.ji for Interact [c601a237-2ae4-5e1e-952c-7a85b0c7eef1]\n",
      "└ @ Base loading.jl:1184\n"
     ]
    },
    {
     "data": {
      "text/html": [
       "<script>\n",
       "// Immediately-invoked-function-expression to avoid global variables.\n",
       "(function() {\n",
       "    var warning_div = document.getElementById(\"webio-warning-16400120050687660374\");\n",
       "    var hide = function () {\n",
       "        var script = document.getElementById(\"webio-setup-2027013397948627194\");\n",
       "        var parent = script && script.parentElement;\n",
       "        var grandparent = parent && parent.parentElement;\n",
       "        if (grandparent) {\n",
       "            grandparent.style.display = \"none\";\n",
       "        }\n",
       "        warning_div.style.display = \"none\";\n",
       "    };\n",
       "    if (typeof Jupyter !== \"undefined\") {\n",
       "        console.log(\"WebIO detected Jupyter notebook environment.\");\n",
       "        // Jupyter notebook.\n",
       "        var extensions = (\n",
       "            Jupyter\n",
       "            && Jupyter.notebook.config.data\n",
       "            && Jupyter.notebook.config.data.load_extensions\n",
       "        );\n",
       "        if (extensions && extensions[\"webio/main\"]) {\n",
       "            // Extension already loaded.\n",
       "            console.log(\"Jupyter WebIO nbextension detected; not loading ad-hoc.\");\n",
       "            hide();\n",
       "            return;\n",
       "        }\n",
       "        console.warn(\"Loading WebIO Jupyter extension on an ad-hoc basis. Consider enabling the WebIO nbextension for a stabler experience (this should happen automatically when building WebIO).\");\n",
       "        require([\"/assetserver/f040922749f00dc58e5498a0b19af566418ea107-dist/main.js\"], function (webIOModule) {\n",
       "            webIOModule.load_ipython_extension();\n",
       "        });\n",
       "        warning_div.innerHTML = \"<strong>Loading WebIO Jupyter extension on an ad-hoc basis. Consider enabling the WebIO nbextension for a stabler experience (this should happen automatically when building WebIO).</strong>\";\n",
       "    } else if (window.location.pathname.includes(\"/lab\")) {\n",
       "        // Guessing JupyterLa\n",
       "        console.log(\"Jupyter Lab detected; make sure the @webio/jupyter-lab-provider labextension is installed.\");\n",
       "        hide();\n",
       "        return;\n",
       "    }\n",
       "})();\n",
       "\n",
       "</script>\n",
       "<div\n",
       "    id=\"webio-warning-16400120050687660374\"\n",
       "    class=\"output_text output_stderr\"\n",
       "    style=\"padding: 1em; font-weight: bold;\"\n",
       ">\n",
       "    Unable to load WebIO. Please make sure WebIO works for your Jupyter client.\n",
       "    <!-- TODO: link to installation docs. -->\n",
       "</div>\n"
      ],
      "text/plain": [
       "HTML{String}(\"<script>\\n// Immediately-invoked-function-expression to avoid global variables.\\n(function() {\\n    var warning_div = document.getElementById(\\\"webio-warning-16400120050687660374\\\");\\n    var hide = function () {\\n        var script = document.getElementById(\\\"webio-setup-2027013397948627194\\\");\\n        var parent = script && script.parentElement;\\n        var grandparent = parent && parent.parentElement;\\n        if (grandparent) {\\n            grandparent.style.display = \\\"none\\\";\\n        }\\n        warning_div.style.display = \\\"none\\\";\\n    };\\n    if (typeof Jupyter !== \\\"undefined\\\") {\\n        console.log(\\\"WebIO detected Jupyter notebook environment.\\\");\\n        // Jupyter notebook.\\n        var extensions = (\\n            Jupyter\\n            && Jupyter.notebook.config.data\\n            && Jupyter.notebook.config.data.load_extensions\\n        );\\n        if (extensions && extensions[\\\"webio/main\\\"]) {\\n            // Extension already loaded.\\n            console.log(\\\"Jupyter WebIO nbextension detected; not loading ad-hoc.\\\");\\n            hide();\\n            return;\\n        }\\n        console.warn(\\\"Loading WebIO Jupyter extension on an ad-hoc basis. Consider enabling the WebIO nbextension for a stabler experience (this should happen automatically when building WebIO).\\\");\\n        require([\\\"/assetserver/f040922749f00dc58e5498a0b19af566418ea107-dist/main.js\\\"], function (webIOModule) {\\n            webIOModule.load_ipython_extension();\\n        });\\n        warning_div.innerHTML = \\\"<strong>Loading WebIO Jupyter extension on an ad-hoc basis. Consider enabling the WebIO nbextension for a stabler experience (this should happen automatically when building WebIO).</strong>\\\";\\n    } else if (window.location.pathname.includes(\\\"/lab\\\")) {\\n        // Guessing JupyterLa\\n        console.log(\\\"Jupyter Lab detected; make sure the @webio/jupyter-lab-provider labextension is installed.\\\");\\n        hide();\\n        return;\\n    }\\n})();\\n\\n</script>\\n<div\\n    id=\\\"webio-warning-16400120050687660374\\\"\\n    class=\\\"output_text output_stderr\\\"\\n    style=\\\"padding: 1em; font-weight: bold;\\\"\\n>\\n    Unable to load WebIO. Please make sure WebIO works for your Jupyter client.\\n    <!-- TODO: link to installation docs. -->\\n</div>\\n\")"
      ]
     },
     "metadata": {},
     "output_type": "display_data"
    },
    {
     "name": "stderr",
     "output_type": "stream",
     "text": [
      "┌ Warning: The call to compilecache failed to create a usable precompiled cache file for Interact [c601a237-2ae4-5e1e-952c-7a85b0c7eef1]\n",
      "│   exception = ErrorException(\"Required dependency Knockout [bcebb21b-c2e3-54f8-a781-646b90f6d2cc] failed to load from a cache file.\")\n",
      "└ @ Base loading.jl:969\n"
     ]
    }
   ],
   "source": [
    "using ControlSystems\n",
    "using Plots\n",
    "using Interact\n",
    "using OrdinaryDiffEq"
   ]
  },
  {
   "cell_type": "code",
   "execution_count": 2,
   "metadata": {},
   "outputs": [
    {
     "data": {
      "text/plain": [
       "Plots.GRBackend()"
      ]
     },
     "execution_count": 2,
     "metadata": {},
     "output_type": "execute_result"
    }
   ],
   "source": [
    "#pyplot(size = (600,300), legend = false)\n",
    "gr(size = (900,300), legend = false)"
   ]
  },
  {
   "cell_type": "code",
   "execution_count": 3,
   "metadata": {},
   "outputs": [
    {
     "data": {
      "text/plain": [
       "TransferFunction{ControlSystems.SisoRational{Int64}}\n",
       "1s\n",
       "--\n",
       "1\n",
       "\n",
       "Continuous-time transfer function model"
      ]
     },
     "execution_count": 3,
     "metadata": {},
     "output_type": "execute_result"
    }
   ],
   "source": [
    "s = tf(\"s\")"
   ]
  },
  {
   "cell_type": "code",
   "execution_count": 4,
   "metadata": {},
   "outputs": [
    {
     "data": {
      "text/plain": [
       "TransferFunction{ControlSystems.SisoRational{Int64}}\n",
       "   10\n",
       "---------\n",
       "1s^2 + 1s\n",
       "\n",
       "Continuous-time transfer function model"
      ]
     },
     "execution_count": 4,
     "metadata": {},
     "output_type": "execute_result"
    }
   ],
   "source": [
    "G1 = (10)/(s*(s+1))"
   ]
  },
  {
   "cell_type": "code",
   "execution_count": 5,
   "metadata": {},
   "outputs": [
    {
     "data": {
      "text/plain": [
       "TransferFunction{ControlSystems.SisoRational{Float64}}\n",
       "     10.0\n",
       "---------------\n",
       "1.0*s^2 + 1.0*s\n",
       "\n",
       "Continuous-time transfer function model"
      ]
     },
     "execution_count": 5,
     "metadata": {},
     "output_type": "execute_result"
    }
   ],
   "source": [
    "minreal(G1)"
   ]
  },
  {
   "cell_type": "code",
   "execution_count": 6,
   "metadata": {},
   "outputs": [
    {
     "data": {
      "text/plain": [
       "TransferFunction{ControlSystems.SisoRational{Float64}}\n",
       "1.2287*s + 2.3876098399999997\n",
       "-----------------------------\n",
       "       1.0*s + 4.6458\n",
       "\n",
       "Continuous-time transfer function model"
      ]
     },
     "execution_count": 6,
     "metadata": {},
     "output_type": "execute_result"
    }
   ],
   "source": [
    "Gc1 = 1.2287*(s+1.9432)/(s+4.6458)"
   ]
  },
  {
   "cell_type": "code",
   "execution_count": 21,
   "metadata": {},
   "outputs": [
    {
     "data": {
      "text/plain": [
       "TransferFunction{ControlSystems.SisoRational{Float64}}\n",
       "1.2287*s + 2.3876098399999997\n",
       "-----------------------------\n",
       "       1.0*s + 4.6458\n",
       "\n",
       "Continuous-time transfer function model"
      ]
     },
     "execution_count": 21,
     "metadata": {},
     "output_type": "execute_result"
    }
   ],
   "source": [
    "minreal(Gc1)"
   ]
  },
  {
   "cell_type": "code",
   "execution_count": 22,
   "metadata": {},
   "outputs": [
    {
     "data": {
      "text/plain": [
       "TransferFunction{ControlSystems.SisoRational{Float64}}\n",
       "       0.3*s + 0.3\n",
       "--------------------------\n",
       "0.3333333333333333*s + 1.0\n",
       "\n",
       "Continuous-time transfer function model"
      ]
     },
     "execution_count": 22,
     "metadata": {},
     "output_type": "execute_result"
    }
   ],
   "source": [
    "k = 0.9\n",
    "α = 1/3\n",
    "T = 1\n",
    "Gc2 = k*α*(T*s+1)/(α*T*s+1)"
   ]
  },
  {
   "cell_type": "code",
   "execution_count": 23,
   "metadata": {},
   "outputs": [
    {
     "data": {
      "text/plain": [
       "TransferFunction{ControlSystems.SisoRational{Float64}}\n",
       "0.9*s + 0.9\n",
       "-----------\n",
       "1.0*s + 3.0\n",
       "\n",
       "Continuous-time transfer function model"
      ]
     },
     "execution_count": 23,
     "metadata": {},
     "output_type": "execute_result"
    }
   ],
   "source": [
    "minreal(Gc2)"
   ]
  },
  {
   "cell_type": "code",
   "execution_count": 24,
   "metadata": {},
   "outputs": [
    {
     "data": {
      "text/plain": [
       "TransferFunction{ControlSystems.SisoRational{Int64}}\n",
       "       10*s^2 + 10*s\n",
       "----------------------------\n",
       "1s^4 + 2*s^3 + 11*s^2 + 10*s\n",
       "\n",
       "Continuous-time transfer function model"
      ]
     },
     "execution_count": 24,
     "metadata": {},
     "output_type": "execute_result"
    }
   ],
   "source": [
    "feedback(G1, tf(1))"
   ]
  },
  {
   "cell_type": "code",
   "execution_count": 25,
   "metadata": {},
   "outputs": [
    {
     "data": {
      "text/plain": [
       "TransferFunction{ControlSystems.SisoRational{Float64}}\n",
       "                      10.0\n",
       "-------------------------------------------------\n",
       "1.0*s^2 + 0.9999999999999996*s + 9.99999999999999\n",
       "\n",
       "Continuous-time transfer function model"
      ]
     },
     "execution_count": 25,
     "metadata": {},
     "output_type": "execute_result"
    }
   ],
   "source": [
    "minreal(feedback(G1, tf(1)))"
   ]
  },
  {
   "cell_type": "code",
   "execution_count": 26,
   "metadata": {},
   "outputs": [
    {
     "name": "stdout",
     "output_type": "stream",
     "text": [
      "search: \u001b[0m\u001b[1mm\u001b[22m\u001b[0m\u001b[1mi\u001b[22m\u001b[0m\u001b[1mn\u001b[22m\u001b[0m\u001b[1mr\u001b[22m\u001b[0m\u001b[1me\u001b[22m\u001b[0m\u001b[1ma\u001b[22m\u001b[0m\u001b[1ml\u001b[22m s\u001b[0m\u001b[1mm\u001b[22m\u001b[0m\u001b[1mi\u001b[22m\u001b[0m\u001b[1mn\u001b[22m\u001b[0m\u001b[1mr\u001b[22m\u001b[0m\u001b[1me\u001b[22m\u001b[0m\u001b[1ma\u001b[22m\u001b[0m\u001b[1ml\u001b[22m Extrapolation\u001b[0m\u001b[1mM\u001b[22m\u001b[0m\u001b[1mi\u001b[22mdpoi\u001b[0m\u001b[1mn\u001b[22mtHai\u001b[0m\u001b[1mr\u001b[22m\u001b[0m\u001b[1me\u001b[22mrW\u001b[0m\u001b[1ma\u001b[22mnner\n",
      "\n"
     ]
    },
    {
     "data": {
      "text/latex": [
       "\\texttt{tf = minreal(tf::TransferFunction, eps=sqrt(eps()))}\n",
       "\n",
       "Create a minimial representation of each transfer function in \\texttt{tf} by cancelling poles and zeros will promote system to an appropriate numeric type\n",
       "\n",
       "\\rule{\\textwidth}{1pt}\n",
       "\\texttt{minsys = minreal(s::StateSpace, tol=sqrt(eps()))} is implemented via \\texttt{baltrunc} and returns a system on diagonal form.\n",
       "\n"
      ],
      "text/markdown": [
       "`tf = minreal(tf::TransferFunction, eps=sqrt(eps()))`\n",
       "\n",
       "Create a minimial representation of each transfer function in `tf` by cancelling poles and zeros will promote system to an appropriate numeric type\n",
       "\n",
       "---\n",
       "\n",
       "`minsys = minreal(s::StateSpace, tol=sqrt(eps()))` is implemented via `baltrunc` and returns a system on diagonal form.\n"
      ],
      "text/plain": [
       "  \u001b[36mtf = minreal(tf::TransferFunction, eps=sqrt(eps()))\u001b[39m\n",
       "\n",
       "  Create a minimial representation of each transfer function in \u001b[36mtf\u001b[39m by\n",
       "  cancelling poles and zeros will promote system to an appropriate numeric\n",
       "  type\n",
       "\n",
       "  ────────────────────────────────────────────────────────────────────────────\n",
       "\n",
       "  \u001b[36mminsys = minreal(s::StateSpace, tol=sqrt(eps()))\u001b[39m is implemented via \u001b[36mbaltrunc\u001b[39m\n",
       "  and returns a system on diagonal form."
      ]
     },
     "execution_count": 26,
     "metadata": {},
     "output_type": "execute_result"
    }
   ],
   "source": [
    "?minreal"
   ]
  },
  {
   "cell_type": "code",
   "execution_count": 27,
   "metadata": {},
   "outputs": [
    {
     "data": {
      "image/svg+xml": [
       "<?xml version=\"1.0\" encoding=\"utf-8\"?>\n",
       "<svg xmlns=\"http://www.w3.org/2000/svg\" xmlns:xlink=\"http://www.w3.org/1999/xlink\" width=\"900\" height=\"300\" viewBox=\"0 0 3600 1200\">\n",
       "<defs>\n",
       "  <clipPath id=\"clip3000\">\n",
       "    <rect x=\"0\" y=\"0\" width=\"3600\" height=\"1200\"/>\n",
       "  </clipPath>\n",
       "</defs>\n",
       "<polygon clip-path=\"url(#clip3000)\" points=\"\n",
       "0,1200 3600,1200 3600,0 0,0 \n",
       "  \" fill=\"#ffffff\" fill-rule=\"evenodd\" fill-opacity=\"1\"/>\n",
       "<defs>\n",
       "  <clipPath id=\"clip3001\">\n",
       "    <rect x=\"720\" y=\"0\" width=\"2521\" height=\"1200\"/>\n",
       "  </clipPath>\n",
       "</defs>\n",
       "<polygon clip-path=\"url(#clip3000)\" points=\"\n",
       "165.898,1108.24 3552.76,1108.24 3552.76,47.2441 165.898,47.2441 \n",
       "  \" fill=\"#ffffff\" fill-rule=\"evenodd\" fill-opacity=\"1\"/>\n",
       "<defs>\n",
       "  <clipPath id=\"clip3002\">\n",
       "    <rect x=\"165\" y=\"47\" width=\"3388\" height=\"1062\"/>\n",
       "  </clipPath>\n",
       "</defs>\n",
       "<polyline clip-path=\"url(#clip3002)\" style=\"stroke:#000000; stroke-width:2; stroke-opacity:0.1; fill:none\" points=\"\n",
       "  1060.54,1108.24 1060.54,47.2441 \n",
       "  \"/>\n",
       "<polyline clip-path=\"url(#clip3002)\" style=\"stroke:#000000; stroke-width:2; stroke-opacity:0.1; fill:none\" points=\"\n",
       "  1859.33,1108.24 1859.33,47.2441 \n",
       "  \"/>\n",
       "<polyline clip-path=\"url(#clip3002)\" style=\"stroke:#000000; stroke-width:2; stroke-opacity:0.1; fill:none\" points=\"\n",
       "  2658.11,1108.24 2658.11,47.2441 \n",
       "  \"/>\n",
       "<polyline clip-path=\"url(#clip3002)\" style=\"stroke:#000000; stroke-width:2; stroke-opacity:0.1; fill:none\" points=\"\n",
       "  3456.9,1108.24 3456.9,47.2441 \n",
       "  \"/>\n",
       "<polyline clip-path=\"url(#clip3002)\" style=\"stroke:#000000; stroke-width:2; stroke-opacity:0.1; fill:none\" points=\"\n",
       "  165.898,766.309 3552.76,766.309 \n",
       "  \"/>\n",
       "<polyline clip-path=\"url(#clip3002)\" style=\"stroke:#000000; stroke-width:2; stroke-opacity:0.1; fill:none\" points=\"\n",
       "  165.898,454.405 3552.76,454.405 \n",
       "  \"/>\n",
       "<polyline clip-path=\"url(#clip3002)\" style=\"stroke:#000000; stroke-width:2; stroke-opacity:0.1; fill:none\" points=\"\n",
       "  165.898,142.501 3552.76,142.501 \n",
       "  \"/>\n",
       "<polyline clip-path=\"url(#clip3000)\" style=\"stroke:#000000; stroke-width:4; stroke-opacity:1; fill:none\" points=\"\n",
       "  165.898,1078.21 3552.76,1078.21 \n",
       "  \"/>\n",
       "<polyline clip-path=\"url(#clip3000)\" style=\"stroke:#000000; stroke-width:4; stroke-opacity:1; fill:none\" points=\"\n",
       "  261.752,1108.24 261.752,47.2441 \n",
       "  \"/>\n",
       "<polyline clip-path=\"url(#clip3000)\" style=\"stroke:#000000; stroke-width:4; stroke-opacity:1; fill:none\" points=\"\n",
       "  1060.54,1078.21 1060.54,1062.3 \n",
       "  \"/>\n",
       "<polyline clip-path=\"url(#clip3000)\" style=\"stroke:#000000; stroke-width:4; stroke-opacity:1; fill:none\" points=\"\n",
       "  1859.33,1078.21 1859.33,1062.3 \n",
       "  \"/>\n",
       "<polyline clip-path=\"url(#clip3000)\" style=\"stroke:#000000; stroke-width:4; stroke-opacity:1; fill:none\" points=\"\n",
       "  2658.11,1078.21 2658.11,1062.3 \n",
       "  \"/>\n",
       "<polyline clip-path=\"url(#clip3000)\" style=\"stroke:#000000; stroke-width:4; stroke-opacity:1; fill:none\" points=\"\n",
       "  3456.9,1078.21 3456.9,1062.3 \n",
       "  \"/>\n",
       "<polyline clip-path=\"url(#clip3000)\" style=\"stroke:#000000; stroke-width:4; stroke-opacity:1; fill:none\" points=\"\n",
       "  261.752,766.309 312.555,766.309 \n",
       "  \"/>\n",
       "<polyline clip-path=\"url(#clip3000)\" style=\"stroke:#000000; stroke-width:4; stroke-opacity:1; fill:none\" points=\"\n",
       "  261.752,454.405 312.555,454.405 \n",
       "  \"/>\n",
       "<polyline clip-path=\"url(#clip3000)\" style=\"stroke:#000000; stroke-width:4; stroke-opacity:1; fill:none\" points=\"\n",
       "  261.752,142.501 312.555,142.501 \n",
       "  \"/>\n",
       "<g clip-path=\"url(#clip3000)\">\n",
       "<text style=\"fill:#000000; fill-opacity:1; font-family:Arial,Helvetica Neue,Helvetica,sans-serif; font-size:48px; text-anchor:middle;\" transform=\"rotate(0, 1060.54, 1138.21)\" x=\"1060.54\" y=\"1138.21\">2.5</text>\n",
       "</g>\n",
       "<g clip-path=\"url(#clip3000)\">\n",
       "<text style=\"fill:#000000; fill-opacity:1; font-family:Arial,Helvetica Neue,Helvetica,sans-serif; font-size:48px; text-anchor:middle;\" transform=\"rotate(0, 1859.33, 1138.21)\" x=\"1859.33\" y=\"1138.21\">5.0</text>\n",
       "</g>\n",
       "<g clip-path=\"url(#clip3000)\">\n",
       "<text style=\"fill:#000000; fill-opacity:1; font-family:Arial,Helvetica Neue,Helvetica,sans-serif; font-size:48px; text-anchor:middle;\" transform=\"rotate(0, 2658.11, 1138.21)\" x=\"2658.11\" y=\"1138.21\">7.5</text>\n",
       "</g>\n",
       "<g clip-path=\"url(#clip3000)\">\n",
       "<text style=\"fill:#000000; fill-opacity:1; font-family:Arial,Helvetica Neue,Helvetica,sans-serif; font-size:48px; text-anchor:middle;\" transform=\"rotate(0, 3456.9, 1138.21)\" x=\"3456.9\" y=\"1138.21\">10.0</text>\n",
       "</g>\n",
       "<g clip-path=\"url(#clip3000)\">\n",
       "<text style=\"fill:#000000; fill-opacity:1; font-family:Arial,Helvetica Neue,Helvetica,sans-serif; font-size:48px; text-anchor:end;\" transform=\"rotate(0, 225.752, 783.809)\" x=\"225.752\" y=\"783.809\">0.5</text>\n",
       "</g>\n",
       "<g clip-path=\"url(#clip3000)\">\n",
       "<text style=\"fill:#000000; fill-opacity:1; font-family:Arial,Helvetica Neue,Helvetica,sans-serif; font-size:48px; text-anchor:end;\" transform=\"rotate(0, 225.752, 471.905)\" x=\"225.752\" y=\"471.905\">1.0</text>\n",
       "</g>\n",
       "<g clip-path=\"url(#clip3000)\">\n",
       "<text style=\"fill:#000000; fill-opacity:1; font-family:Arial,Helvetica Neue,Helvetica,sans-serif; font-size:48px; text-anchor:end;\" transform=\"rotate(0, 225.752, 160.001)\" x=\"225.752\" y=\"160.001\">1.5</text>\n",
       "</g>\n",
       "<polyline clip-path=\"url(#clip3002)\" style=\"stroke:#cc1414; stroke-width:4; stroke-opacity:1; fill:none\" points=\"\n",
       "  261.752,1078.21 277.728,1070.56 293.704,1048.29 309.68,1012.65 325.655,965.161 341.631,907.562 357.607,841.745 373.583,769.712 389.558,693.519 405.534,615.224 \n",
       "  421.51,536.832 437.486,460.26 453.461,387.279 469.437,319.487 485.413,258.289 501.389,204.85 517.364,160.084 533.34,124.664 549.316,99.0018 565.292,83.2391 \n",
       "  581.267,77.2723 597.243,80.7748 613.219,93.2038 629.195,113.814 645.17,141.702 661.146,175.839 677.122,215.1 693.098,258.271 709.073,304.111 725.049,351.366 \n",
       "  741.025,398.817 757.001,445.311 772.976,489.763 788.952,531.195 804.928,568.731 820.904,601.642 836.879,629.362 852.855,651.484 868.831,667.741 884.806,678.007 \n",
       "  900.782,682.318 916.758,680.867 932.734,673.989 948.709,662.108 964.685,645.75 980.661,625.525 996.637,602.121 1012.61,576.264 1028.59,548.707 1044.56,520.205 \n",
       "  1060.54,491.487 1076.52,463.264 1092.49,436.201 1108.47,410.898 1124.44,387.896 1140.42,367.639 1156.39,350.481 1172.37,336.677 1188.35,326.405 1204.32,319.755 \n",
       "  1220.3,316.721 1236.27,317.194 1252.25,320.971 1268.22,327.805 1284.2,337.384 1300.18,349.349 1316.15,363.292 1332.13,378.77 1348.1,395.336 1364.08,412.527 \n",
       "  1380.05,429.896 1396.03,447.016 1412.01,463.485 1427.98,478.928 1443.96,493.025 1459.93,505.49 1475.91,516.099 1491.88,524.686 1507.86,531.15 1523.84,535.438 \n",
       "  1539.81,537.547 1555.79,537.522 1571.76,535.466 1587.74,531.535 1603.72,525.929 1619.69,518.857 1635.67,510.563 1651.64,501.305 1667.62,491.353 1683.59,480.988 \n",
       "  1699.57,470.48 1715.55,460.096 1731.52,450.083 1747.5,440.664 1763.47,432.038 1779.45,424.374 1795.42,417.812 1811.4,412.463 1827.38,408.4 1843.35,405.658 \n",
       "  1859.33,404.233 1875.3,404.094 1891.28,405.185 1907.25,407.423 1923.23,410.7 1939.21,414.882 1955.18,419.818 1971.16,425.354 1987.13,431.326 2003.11,437.569 \n",
       "  2019.08,443.919 2035.06,450.215 2051.04,456.306 2067.01,462.055 2082.99,467.335 2098.96,472.04 2114.94,476.086 2130.91,479.409 2146.89,481.965 2162.87,483.726 \n",
       "  2178.84,484.684 2194.82,484.856 2210.79,484.276 2226.77,483.002 2242.74,481.095 2258.72,478.632 2274.7,475.698 2290.67,472.388 2306.65,468.802 2322.62,465.04 \n",
       "  2338.6,461.203 2354.58,457.389 2370.55,453.689 2386.53,450.186 2402.5,446.957 2418.48,444.065 2434.45,441.565 2450.43,439.502 2466.41,437.903 2482.38,436.784 \n",
       "  2498.36,436.147 2514.33,435.984 2530.31,436.277 2546.28,436.999 2562.26,438.111 2578.24,439.565 2594.21,441.308 2610.19,443.284 2626.16,445.434 2642.14,447.698 \n",
       "  2658.11,450.015 2674.09,452.327 2690.07,454.576 2706.04,456.712 2722.02,458.687 2737.99,460.46 2753.97,461.999 2769.94,463.278 2785.92,464.281 2801.9,464.995 \n",
       "  2817.87,465.416 2833.85,465.546 2849.82,465.398 2865.8,464.991 2881.77,464.347 2897.75,463.493 2913.73,462.459 2929.7,461.279 2945.68,459.988 2961.65,458.625 \n",
       "  2977.63,457.226 2993.6,455.826 3009.58,454.461 3025.56,453.161 3041.53,451.954 3057.51,450.866 3073.48,449.917 3089.46,449.122 3105.44,448.496 3121.41,448.045 \n",
       "  3137.39,447.771 3153.36,447.672 3169.34,447.74 3185.31,447.967 3201.29,448.34 3217.27,448.843 3233.24,449.457 3249.22,450.161 3265.19,450.935 3281.17,451.754 \n",
       "  3297.14,452.598 3313.12,453.445 3329.1,454.274 3345.07,455.066 3361.05,455.804 3377.02,456.472 3393,457.056 3408.97,457.547 3424.95,457.937 3440.93,458.222 \n",
       "  3456.9,458.401 \n",
       "  \"/>\n",
       "<polyline clip-path=\"url(#clip3002)\" style=\"stroke:#cc1414; stroke-width:4; stroke-opacity:1; fill:none\" points=\"\n",
       "  261.752,1078.21 277.728,1069.22 293.704,1044.48 309.68,1007.24 325.655,960.441 341.631,906.799 357.607,848.726 373.583,788.354 389.558,727.525 405.534,667.807 \n",
       "  421.51,610.492 437.486,556.623 453.461,506.999 469.437,462.202 485.413,422.618 501.389,388.451 517.364,359.753 533.34,336.445 549.316,318.334 565.292,305.137 \n",
       "  581.267,296.503 597.243,292.025 613.219,291.257 629.195,293.74 645.17,299.005 661.146,306.579 677.122,316.007 693.098,326.86 709.073,338.735 725.049,351.255 \n",
       "  741.025,364.082 757.001,376.919 772.976,389.513 788.952,401.645 804.928,413.13 820.904,423.825 836.879,433.627 852.855,442.463 868.831,450.285 884.806,457.076 \n",
       "  900.782,462.84 916.758,467.604 932.734,471.41 948.709,474.316 964.685,476.389 980.661,477.702 996.637,478.334 1012.61,478.368 1028.59,477.887 1044.56,476.977 \n",
       "  1060.54,475.718 1076.52,474.184 1092.49,472.444 1108.47,470.563 1124.44,468.602 1140.42,466.615 1156.39,464.649 1172.37,462.74 1188.35,460.918 1204.32,459.211 \n",
       "  1220.3,457.638 1236.27,456.215 1252.25,454.952 1268.22,453.852 1284.2,452.914 1300.18,452.137 1316.15,451.513 1332.13,451.036 1348.1,450.695 1364.08,450.478 \n",
       "  1380.05,450.372 1396.03,450.366 1412.01,450.444 1427.98,450.593 1443.96,450.8 1459.93,451.052 1475.91,451.34 1491.88,451.652 1507.86,451.978 1523.84,452.309 \n",
       "  1539.81,452.638 1555.79,452.957 1571.76,453.261 1587.74,453.547 1603.72,453.811 1619.69,454.052 1635.67,454.266 1651.64,454.453 1667.62,454.613 1683.59,454.746 \n",
       "  1699.57,454.854 1715.55,454.938 1731.52,454.998 1747.5,455.038 1763.47,455.059 1779.45,455.064 1795.42,455.054 1811.4,455.032 1827.38,455 1843.35,454.96 \n",
       "  1859.33,454.914 1875.3,454.864 1891.28,454.811 1907.25,454.757 1923.23,454.704 1939.21,454.651 1955.18,454.601 1971.16,454.553 1987.13,454.509 2003.11,454.469 \n",
       "  2019.08,454.433 2035.06,454.402 2051.04,454.375 2067.01,454.353 2082.99,454.335 2098.96,454.32 2114.94,454.31 2130.91,454.303 2146.89,454.298 2162.87,454.297 \n",
       "  2178.84,454.298 2194.82,454.302 2210.79,454.307 2226.77,454.313 2242.74,454.321 2258.72,454.329 2274.7,454.337 2290.67,454.346 2306.65,454.355 2322.62,454.363 \n",
       "  2338.6,454.371 2354.58,454.379 2370.55,454.386 2386.53,454.393 2402.5,454.399 2418.48,454.405 2434.45,454.409 2450.43,454.413 2466.41,454.416 2482.38,454.419 \n",
       "  2498.36,454.42 2514.33,454.421 2530.31,454.422 2546.28,454.422 2562.26,454.422 2578.24,454.422 2594.21,454.421 2610.19,454.42 2626.16,454.419 2642.14,454.418 \n",
       "  2658.11,454.416 2674.09,454.415 2690.07,454.414 2706.04,454.412 2722.02,454.411 2737.99,454.41 2753.97,454.408 2769.94,454.407 2785.92,454.406 2801.9,454.405 \n",
       "  2817.87,454.404 2833.85,454.404 2849.82,454.403 2865.8,454.403 2881.77,454.402 2897.75,454.402 2913.73,454.402 2929.7,454.403 2945.68,454.403 2961.65,454.403 \n",
       "  2977.63,454.403 2993.6,454.403 3009.58,454.403 3025.56,454.404 3041.53,454.404 3057.51,454.404 3073.48,454.404 3089.46,454.404 3105.44,454.404 3121.41,454.405 \n",
       "  3137.39,454.405 3153.36,454.405 3169.34,454.405 3185.31,454.405 3201.29,454.405 3217.27,454.405 3233.24,454.405 3249.22,454.405 3265.19,454.405 3281.17,454.405 \n",
       "  3297.14,454.405 3313.12,454.405 3329.1,454.405 3345.07,454.405 3361.05,454.405 3377.02,454.405 3393,454.405 3408.97,454.405 3424.95,454.405 3440.93,454.405 \n",
       "  3456.9,454.405 \n",
       "  \"/>\n",
       "<polyline clip-path=\"url(#clip3002)\" style=\"stroke:#cc1414; stroke-width:4; stroke-opacity:1; fill:none\" points=\"\n",
       "  261.752,1078.21 277.728,1071.55 293.704,1052.94 309.68,1024.44 325.655,988.021 341.631,945.548 357.607,898.748 373.583,849.201 389.558,798.322 405.534,747.358 \n",
       "  421.51,697.383 437.486,649.302 453.461,603.854 469.437,561.62 485.413,523.032 501.389,488.389 517.364,457.863 533.34,431.515 549.316,409.316 565.292,391.15 \n",
       "  581.267,376.833 597.243,366.127 613.219,358.754 629.195,354.404 645.17,352.744 661.146,353.434 677.122,356.137 693.098,360.514 709.073,366.236 725.049,372.997 \n",
       "  741.025,380.517 757.001,388.533 772.976,396.805 788.952,405.123 804.928,413.309 820.904,421.215 836.879,428.714 852.855,435.703 868.831,442.106 884.806,447.872 \n",
       "  900.782,452.972 916.758,457.393 932.734,461.136 948.709,464.218 964.685,466.665 980.661,468.515 996.637,469.813 1012.61,470.608 1028.59,470.956 1044.56,470.911 \n",
       "  1060.54,470.528 1076.52,469.862 1092.49,468.964 1108.47,467.888 1124.44,466.681 1140.42,465.388 1156.39,464.048 1172.37,462.692 1188.35,461.35 1204.32,460.05 \n",
       "  1220.3,458.814 1236.27,457.66 1252.25,456.598 1268.22,455.639 1284.2,454.787 1300.18,454.045 1316.15,453.414 1332.13,452.892 1348.1,452.475 1364.08,452.156 \n",
       "  1380.05,451.928 1396.03,451.783 1412.01,451.714 1427.98,451.709 1443.96,451.762 1459.93,451.862 1475.91,452.002 1491.88,452.173 1507.86,452.366 1523.84,452.575 \n",
       "  1539.81,452.792 1555.79,453.013 1571.76,453.232 1587.74,453.446 1603.72,453.65 1619.69,453.841 1635.67,454.017 1651.64,454.176 1667.62,454.318 1683.59,454.442 \n",
       "  1699.57,454.548 1715.55,454.636 1731.52,454.708 1747.5,454.763 1763.47,454.803 1779.45,454.829 1795.42,454.842 1811.4,454.845 1827.38,454.838 1843.35,454.823 \n",
       "  1859.33,454.801 1875.3,454.774 1891.28,454.744 1907.25,454.71 1923.23,454.675 1939.21,454.639 1955.18,454.603 1971.16,454.568 1987.13,454.534 2003.11,454.503 \n",
       "  2019.08,454.474 2035.06,454.448 2051.04,454.424 2067.01,454.403 2082.99,454.385 2098.96,454.37 2114.94,454.358 2130.91,454.348 2146.89,454.342 2162.87,454.337 \n",
       "  2178.84,454.335 2194.82,454.334 2210.79,454.335 2226.77,454.337 2242.74,454.34 2258.72,454.344 2274.7,454.349 2290.67,454.355 2306.65,454.36 2322.62,454.366 \n",
       "  2338.6,454.372 2354.58,454.377 2370.55,454.383 2386.53,454.388 2402.5,454.393 2418.48,454.398 2434.45,454.402 2450.43,454.405 2466.41,454.408 2482.38,454.41 \n",
       "  2498.36,454.412 2514.33,454.414 2530.31,454.415 2546.28,454.416 2562.26,454.416 2578.24,454.416 2594.21,454.416 2610.19,454.416 2626.16,454.415 2642.14,454.415 \n",
       "  2658.11,454.414 2674.09,454.413 2690.07,454.412 2706.04,454.412 2722.02,454.411 2737.99,454.41 2753.97,454.409 2769.94,454.408 2785.92,454.407 2801.9,454.407 \n",
       "  2817.87,454.406 2833.85,454.405 2849.82,454.405 2865.8,454.404 2881.77,454.404 2897.75,454.404 2913.73,454.404 2929.7,454.404 2945.68,454.404 2961.65,454.403 \n",
       "  2977.63,454.403 2993.6,454.404 3009.58,454.404 3025.56,454.404 3041.53,454.404 3057.51,454.404 3073.48,454.404 3089.46,454.404 3105.44,454.404 3121.41,454.405 \n",
       "  3137.39,454.405 3153.36,454.405 3169.34,454.405 3185.31,454.405 3201.29,454.405 3217.27,454.405 3233.24,454.405 3249.22,454.405 3265.19,454.405 3281.17,454.405 \n",
       "  3297.14,454.405 3313.12,454.405 3329.1,454.405 3345.07,454.405 3361.05,454.405 3377.02,454.405 3393,454.405 3408.97,454.405 3424.95,454.405 3440.93,454.405 \n",
       "  3456.9,454.405 \n",
       "  \"/>\n",
       "</svg>\n"
      ]
     },
     "execution_count": 27,
     "metadata": {},
     "output_type": "execute_result"
    }
   ],
   "source": [
    "#stepplot(G1, 10)\n",
    "stepplot(feedback(G1, tf(1)), 10)\n",
    "stepplot!(feedback(Gc1*G1, tf(1)), 10)\n",
    "stepplot!(feedback(Gc2*G1, tf(1)), 10)\n",
    "xlabel!(\"\")\n",
    "ylabel!(\"\")\n",
    "title!(\"\")\n",
    "plot!(frame_style=:origin)\n",
    "#xlims!(-5, 1)\n",
    "#ylims!(-10,10)"
   ]
  },
  {
   "cell_type": "code",
   "execution_count": 77,
   "metadata": {},
   "outputs": [
    {
     "data": {
      "image/svg+xml": [
       "<?xml version=\"1.0\" encoding=\"utf-8\"?>\n",
       "<svg xmlns=\"http://www.w3.org/2000/svg\" xmlns:xlink=\"http://www.w3.org/1999/xlink\" width=\"900\" height=\"300\" viewBox=\"0 0 3600 1200\">\n",
       "<defs>\n",
       "  <clipPath id=\"clip8700\">\n",
       "    <rect x=\"0\" y=\"0\" width=\"3600\" height=\"1200\"/>\n",
       "  </clipPath>\n",
       "</defs>\n",
       "<polygon clip-path=\"url(#clip8700)\" points=\"\n",
       "0,1200 3600,1200 3600,0 0,0 \n",
       "  \" fill=\"#ffffff\" fill-rule=\"evenodd\" fill-opacity=\"1\"/>\n",
       "<defs>\n",
       "  <clipPath id=\"clip8701\">\n",
       "    <rect x=\"720\" y=\"0\" width=\"2521\" height=\"1200\"/>\n",
       "  </clipPath>\n",
       "</defs>\n",
       "<polygon clip-path=\"url(#clip8700)\" points=\"\n",
       "153.865,1108.24 3552.76,1108.24 3552.76,47.2441 153.865,47.2441 \n",
       "  \" fill=\"#ffffff\" fill-rule=\"evenodd\" fill-opacity=\"1\"/>\n",
       "<defs>\n",
       "  <clipPath id=\"clip8702\">\n",
       "    <rect x=\"153\" y=\"47\" width=\"3400\" height=\"1062\"/>\n",
       "  </clipPath>\n",
       "</defs>\n",
       "<polyline clip-path=\"url(#clip8702)\" style=\"stroke:#000000; stroke-width:2; stroke-opacity:0.1; fill:none\" points=\"\n",
       "  153.865,1108.24 153.865,47.2441 \n",
       "  \"/>\n",
       "<polyline clip-path=\"url(#clip8702)\" style=\"stroke:#000000; stroke-width:2; stroke-opacity:0.1; fill:none\" points=\"\n",
       "  833.643,1108.24 833.643,47.2441 \n",
       "  \"/>\n",
       "<polyline clip-path=\"url(#clip8702)\" style=\"stroke:#000000; stroke-width:2; stroke-opacity:0.1; fill:none\" points=\"\n",
       "  1513.42,1108.24 1513.42,47.2441 \n",
       "  \"/>\n",
       "<polyline clip-path=\"url(#clip8702)\" style=\"stroke:#000000; stroke-width:2; stroke-opacity:0.1; fill:none\" points=\"\n",
       "  2193.2,1108.24 2193.2,47.2441 \n",
       "  \"/>\n",
       "<polyline clip-path=\"url(#clip8702)\" style=\"stroke:#000000; stroke-width:2; stroke-opacity:0.1; fill:none\" points=\"\n",
       "  3552.76,1108.24 3552.76,47.2441 \n",
       "  \"/>\n",
       "<polyline clip-path=\"url(#clip8702)\" style=\"stroke:#000000; stroke-width:2; stroke-opacity:0.1; fill:none\" points=\"\n",
       "  153.865,1002.14 3552.76,1002.14 \n",
       "  \"/>\n",
       "<polyline clip-path=\"url(#clip8702)\" style=\"stroke:#000000; stroke-width:2; stroke-opacity:0.1; fill:none\" points=\"\n",
       "  153.865,789.942 3552.76,789.942 \n",
       "  \"/>\n",
       "<polyline clip-path=\"url(#clip8702)\" style=\"stroke:#000000; stroke-width:2; stroke-opacity:0.1; fill:none\" points=\"\n",
       "  153.865,365.543 3552.76,365.543 \n",
       "  \"/>\n",
       "<polyline clip-path=\"url(#clip8702)\" style=\"stroke:#000000; stroke-width:2; stroke-opacity:0.1; fill:none\" points=\"\n",
       "  153.865,153.344 3552.76,153.344 \n",
       "  \"/>\n",
       "<polyline clip-path=\"url(#clip8700)\" style=\"stroke:#000000; stroke-width:4; stroke-opacity:1; fill:none\" points=\"\n",
       "  153.865,577.743 3552.76,577.743 \n",
       "  \"/>\n",
       "<polyline clip-path=\"url(#clip8700)\" style=\"stroke:#000000; stroke-width:4; stroke-opacity:1; fill:none\" points=\"\n",
       "  2872.98,1108.24 2872.98,47.2441 \n",
       "  \"/>\n",
       "<polyline clip-path=\"url(#clip8700)\" style=\"stroke:#000000; stroke-width:4; stroke-opacity:1; fill:none\" points=\"\n",
       "  153.865,577.743 153.865,561.828 \n",
       "  \"/>\n",
       "<polyline clip-path=\"url(#clip8700)\" style=\"stroke:#000000; stroke-width:4; stroke-opacity:1; fill:none\" points=\"\n",
       "  833.643,577.743 833.643,561.828 \n",
       "  \"/>\n",
       "<polyline clip-path=\"url(#clip8700)\" style=\"stroke:#000000; stroke-width:4; stroke-opacity:1; fill:none\" points=\"\n",
       "  1513.42,577.743 1513.42,561.828 \n",
       "  \"/>\n",
       "<polyline clip-path=\"url(#clip8700)\" style=\"stroke:#000000; stroke-width:4; stroke-opacity:1; fill:none\" points=\"\n",
       "  2193.2,577.743 2193.2,561.828 \n",
       "  \"/>\n",
       "<polyline clip-path=\"url(#clip8700)\" style=\"stroke:#000000; stroke-width:4; stroke-opacity:1; fill:none\" points=\"\n",
       "  3552.76,577.743 3552.76,561.828 \n",
       "  \"/>\n",
       "<polyline clip-path=\"url(#clip8700)\" style=\"stroke:#000000; stroke-width:4; stroke-opacity:1; fill:none\" points=\"\n",
       "  2872.98,1002.14 2923.96,1002.14 \n",
       "  \"/>\n",
       "<polyline clip-path=\"url(#clip8700)\" style=\"stroke:#000000; stroke-width:4; stroke-opacity:1; fill:none\" points=\"\n",
       "  2872.98,789.942 2923.96,789.942 \n",
       "  \"/>\n",
       "<polyline clip-path=\"url(#clip8700)\" style=\"stroke:#000000; stroke-width:4; stroke-opacity:1; fill:none\" points=\"\n",
       "  2872.98,365.543 2923.96,365.543 \n",
       "  \"/>\n",
       "<polyline clip-path=\"url(#clip8700)\" style=\"stroke:#000000; stroke-width:4; stroke-opacity:1; fill:none\" points=\"\n",
       "  2872.98,153.344 2923.96,153.344 \n",
       "  \"/>\n",
       "<g clip-path=\"url(#clip8700)\">\n",
       "<text style=\"fill:#000000; fill-opacity:1; font-family:Arial,Helvetica Neue,Helvetica,sans-serif; font-size:48px; text-anchor:middle;\" transform=\"rotate(0, 153.865, 637.743)\" x=\"153.865\" y=\"637.743\">-4</text>\n",
       "</g>\n",
       "<g clip-path=\"url(#clip8700)\">\n",
       "<text style=\"fill:#000000; fill-opacity:1; font-family:Arial,Helvetica Neue,Helvetica,sans-serif; font-size:48px; text-anchor:middle;\" transform=\"rotate(0, 833.643, 637.743)\" x=\"833.643\" y=\"637.743\">-3</text>\n",
       "</g>\n",
       "<g clip-path=\"url(#clip8700)\">\n",
       "<text style=\"fill:#000000; fill-opacity:1; font-family:Arial,Helvetica Neue,Helvetica,sans-serif; font-size:48px; text-anchor:middle;\" transform=\"rotate(0, 1513.42, 637.743)\" x=\"1513.42\" y=\"637.743\">-2</text>\n",
       "</g>\n",
       "<g clip-path=\"url(#clip8700)\">\n",
       "<text style=\"fill:#000000; fill-opacity:1; font-family:Arial,Helvetica Neue,Helvetica,sans-serif; font-size:48px; text-anchor:middle;\" transform=\"rotate(0, 2193.2, 637.743)\" x=\"2193.2\" y=\"637.743\">-1</text>\n",
       "</g>\n",
       "<g clip-path=\"url(#clip8700)\">\n",
       "<text style=\"fill:#000000; fill-opacity:1; font-family:Arial,Helvetica Neue,Helvetica,sans-serif; font-size:48px; text-anchor:middle;\" transform=\"rotate(0, 3552.76, 637.743)\" x=\"3552.76\" y=\"637.743\">1</text>\n",
       "</g>\n",
       "<g clip-path=\"url(#clip8700)\">\n",
       "<text style=\"fill:#000000; fill-opacity:1; font-family:Arial,Helvetica Neue,Helvetica,sans-serif; font-size:48px; text-anchor:end;\" transform=\"rotate(0, 2836.98, 1019.64)\" x=\"2836.98\" y=\"1019.64\">-2</text>\n",
       "</g>\n",
       "<g clip-path=\"url(#clip8700)\">\n",
       "<text style=\"fill:#000000; fill-opacity:1; font-family:Arial,Helvetica Neue,Helvetica,sans-serif; font-size:48px; text-anchor:end;\" transform=\"rotate(0, 2836.98, 807.442)\" x=\"2836.98\" y=\"807.442\">-1</text>\n",
       "</g>\n",
       "<g clip-path=\"url(#clip8700)\">\n",
       "<text style=\"fill:#000000; fill-opacity:1; font-family:Arial,Helvetica Neue,Helvetica,sans-serif; font-size:48px; text-anchor:end;\" transform=\"rotate(0, 2836.98, 383.043)\" x=\"2836.98\" y=\"383.043\">1</text>\n",
       "</g>\n",
       "<g clip-path=\"url(#clip8700)\">\n",
       "<text style=\"fill:#000000; fill-opacity:1; font-family:Arial,Helvetica Neue,Helvetica,sans-serif; font-size:48px; text-anchor:end;\" transform=\"rotate(0, 2836.98, 170.844)\" x=\"2836.98\" y=\"170.844\">2</text>\n",
       "</g>\n",
       "<polyline clip-path=\"url(#clip8702)\" style=\"stroke:#009af9; stroke-width:4; stroke-opacity:1; fill:none\" points=\"\n",
       "  2193.2,577.743 2240.36,577.743 2275.94,577.743 2329.7,577.743 2387.13,577.743 2429.42,577.743 2449.55,577.743 2481.03,577.743 2504.2,577.743 2513.69,577.743 \n",
       "  2533.09,583.271 2533.09,586.083 2533.09,590.254 2533.09,593.709 2533.09,597.838 2533.09,602.099 2533.09,606.907 2533.09,612.13 2533.09,617.916 2533.09,624.248 \n",
       "  2533.09,631.192 2533.09,638.761 2533.09,646.993 2533.09,655.907 2533.09,665.529 2533.09,675.878 2533.09,686.975 2533.09,698.835 2533.09,711.476 2533.09,724.913 \n",
       "  2533.09,739.161 2533.09,754.234 2533.09,770.146 2533.09,786.911 2533.09,804.546 2533.09,823.065 2533.09,842.486 2533.09,862.828 2533.09,884.112 2533.09,906.362 \n",
       "  2533.09,929.603 2533.09,953.865 2533.09,979.182 2533.09,1005.59 2533.09,1033.13 2533.09,1061.85 2533.09,1091.8 2533.09,1123.04 2533.09,1155.63 2533.09,1189.64 \n",
       "  2533.09,1225.15 2533.09,1262.24 2533.09,1301 2533.09,1341.53 2533.09,1383.94 2533.09,1428.32 2533.09,1474.81 2533.09,1523.51 2533.09,1574.56 2533.09,1628.1 \n",
       "  2533.09,1684.26 2533.09,1743.19 2533.09,1805.06 2533.09,1870.02 2533.09,1938.24 2533.09,2009.9 2533.09,2085.19 2533.09,2164.31 2533.09,2247.46 2533.09,2334.85 \n",
       "  2533.09,2426.73 2533.09,2523.31 2533.09,2624.86 2533.09,2731.63 2533.09,2843.91 2533.09,2961.97 2533.09,3086.13 2533.09,3216.71 2533.09,3354.03 2533.09,3498.47 \n",
       "  2533.09,3650.37 2533.09,3810.14 2533.09,3978.19 2533.09,4154.95 2533.09,4340.87 2533.09,4536.42 2533.09,4742.12 2533.09,4958.49 2533.09,5186.08 2533.09,5425.47 \n",
       "  2533.09,5677.29 2533.09,5942.18 2533.09,6220.81 2533.09,6513.91 2533.09,6822.22 2533.09,7146.53 2533.09,7487.67 2533.09,7846.52 2533.09,8224.01 2533.09,8621.09 \n",
       "  2533.09,9038.78 2533.09,9478.16 2533.09,9940.36 2533.09,10426.5 2533.09,10938 2533.09,11476 2533.09,12041.9 2533.09,12637.2 2533.09,13263.4 2533.09,13922.1 \n",
       "  2533.09,14615.1 2533.09,15344 \n",
       "  \"/>\n",
       "<polyline clip-path=\"url(#clip8702)\" style=\"stroke:#e26f46; stroke-width:4; stroke-opacity:1; fill:none\" points=\"\n",
       "  2872.98,577.743 2825.81,577.743 2790.24,577.743 2736.47,577.743 2679.04,577.743 2636.75,577.743 2616.63,577.743 2585.14,577.743 2561.98,577.743 2552.49,577.743 \n",
       "  2533.09,572.214 2533.09,569.403 2533.09,565.231 2533.09,561.776 2533.09,557.648 2533.09,553.387 2533.09,548.578 2533.09,543.355 2533.09,537.569 2533.09,531.237 \n",
       "  2533.09,524.294 2533.09,516.724 2533.09,508.493 2533.09,499.578 2533.09,489.956 2533.09,479.607 2533.09,468.511 2533.09,456.65 2533.09,444.009 2533.09,430.572 \n",
       "  2533.09,416.325 2533.09,401.252 2533.09,385.34 2533.09,368.574 2533.09,350.94 2533.09,332.42 2533.09,312.999 2533.09,292.657 2533.09,271.373 2533.09,249.124 \n",
       "  2533.09,225.883 2533.09,201.62 2533.09,176.304 2533.09,149.896 2533.09,122.355 2533.09,93.6348 2533.09,63.6842 2533.09,32.4459 2533.09,-0.143811 2533.09,-34.1548 \n",
       "  2533.09,-69.6639 2533.09,-106.755 2533.09,-145.517 2533.09,-186.048 2533.09,-228.452 2533.09,-272.837 2533.09,-319.32 2533.09,-368.023 2533.09,-419.076 2533.09,-472.612 \n",
       "  2533.09,-528.773 2533.09,-587.709 2533.09,-649.574 2533.09,-714.531 2533.09,-782.751 2533.09,-854.413 2533.09,-929.705 2533.09,-1008.82 2533.09,-1091.97 2533.09,-1179.37 \n",
       "  2533.09,-1271.24 2533.09,-1367.82 2533.09,-1469.37 2533.09,-1576.15 2533.09,-1688.42 2533.09,-1806.49 2533.09,-1930.65 2533.09,-2061.22 2533.09,-2198.55 2533.09,-2342.98 \n",
       "  2533.09,-2494.89 2533.09,-2654.66 2533.09,-2822.71 2533.09,-2999.46 2533.09,-3185.38 2533.09,-3380.94 2533.09,-3586.63 2533.09,-3803 2533.09,-4030.59 2533.09,-4269.99 \n",
       "  2533.09,-4521.81 2533.09,-4786.69 2533.09,-5065.33 2533.09,-5358.42 2533.09,-5666.73 2533.09,-5991.04 2533.09,-6332.18 2533.09,-6691.04 2533.09,-7068.52 2533.09,-7465.6 \n",
       "  2533.09,-7883.3 2533.09,-8322.68 2533.09,-8784.87 2533.09,-9271.06 2533.09,-9782.49 2533.09,-10320.5 2533.09,-10886.4 2533.09,-11481.7 2533.09,-12107.9 2533.09,-12766.6 \n",
       "  2533.09,-13459.6 2533.09,-14188.5 \n",
       "  \"/>\n",
       "<line clip-path=\"url(#clip8702)\" x1=\"2193.2\" y1=\"577.743\" x2=\"2149.2\" y2=\"621.743\" style=\"stroke:#000000; stroke-width:4; stroke-opacity:1\"/>\n",
       "<line clip-path=\"url(#clip8702)\" x1=\"2193.2\" y1=\"577.743\" x2=\"2149.2\" y2=\"533.743\" style=\"stroke:#000000; stroke-width:4; stroke-opacity:1\"/>\n",
       "<line clip-path=\"url(#clip8702)\" x1=\"2193.2\" y1=\"577.743\" x2=\"2237.2\" y2=\"533.743\" style=\"stroke:#000000; stroke-width:4; stroke-opacity:1\"/>\n",
       "<line clip-path=\"url(#clip8702)\" x1=\"2193.2\" y1=\"577.743\" x2=\"2237.2\" y2=\"621.743\" style=\"stroke:#000000; stroke-width:4; stroke-opacity:1\"/>\n",
       "<line clip-path=\"url(#clip8702)\" x1=\"2193.2\" y1=\"577.743\" x2=\"2153.2\" y2=\"617.743\" style=\"stroke:#c271d2; stroke-width:4; stroke-opacity:1\"/>\n",
       "<line clip-path=\"url(#clip8702)\" x1=\"2193.2\" y1=\"577.743\" x2=\"2153.2\" y2=\"537.743\" style=\"stroke:#c271d2; stroke-width:4; stroke-opacity:1\"/>\n",
       "<line clip-path=\"url(#clip8702)\" x1=\"2193.2\" y1=\"577.743\" x2=\"2233.2\" y2=\"537.743\" style=\"stroke:#c271d2; stroke-width:4; stroke-opacity:1\"/>\n",
       "<line clip-path=\"url(#clip8702)\" x1=\"2193.2\" y1=\"577.743\" x2=\"2233.2\" y2=\"617.743\" style=\"stroke:#c271d2; stroke-width:4; stroke-opacity:1\"/>\n",
       "<line clip-path=\"url(#clip8702)\" x1=\"2872.98\" y1=\"577.743\" x2=\"2828.98\" y2=\"621.743\" style=\"stroke:#000000; stroke-width:4; stroke-opacity:1\"/>\n",
       "<line clip-path=\"url(#clip8702)\" x1=\"2872.98\" y1=\"577.743\" x2=\"2828.98\" y2=\"533.743\" style=\"stroke:#000000; stroke-width:4; stroke-opacity:1\"/>\n",
       "<line clip-path=\"url(#clip8702)\" x1=\"2872.98\" y1=\"577.743\" x2=\"2916.98\" y2=\"533.743\" style=\"stroke:#000000; stroke-width:4; stroke-opacity:1\"/>\n",
       "<line clip-path=\"url(#clip8702)\" x1=\"2872.98\" y1=\"577.743\" x2=\"2916.98\" y2=\"621.743\" style=\"stroke:#000000; stroke-width:4; stroke-opacity:1\"/>\n",
       "<line clip-path=\"url(#clip8702)\" x1=\"2872.98\" y1=\"577.743\" x2=\"2832.98\" y2=\"617.743\" style=\"stroke:#c271d2; stroke-width:4; stroke-opacity:1\"/>\n",
       "<line clip-path=\"url(#clip8702)\" x1=\"2872.98\" y1=\"577.743\" x2=\"2832.98\" y2=\"537.743\" style=\"stroke:#c271d2; stroke-width:4; stroke-opacity:1\"/>\n",
       "<line clip-path=\"url(#clip8702)\" x1=\"2872.98\" y1=\"577.743\" x2=\"2912.98\" y2=\"537.743\" style=\"stroke:#c271d2; stroke-width:4; stroke-opacity:1\"/>\n",
       "<line clip-path=\"url(#clip8702)\" x1=\"2872.98\" y1=\"577.743\" x2=\"2912.98\" y2=\"617.743\" style=\"stroke:#c271d2; stroke-width:4; stroke-opacity:1\"/>\n",
       "</svg>\n"
      ]
     },
     "execution_count": 77,
     "metadata": {},
     "output_type": "execute_result"
    }
   ],
   "source": [
    "rlocusplot(G1)\n",
    "xlabel!(\"\")\n",
    "ylabel!(\"\")\n",
    "title!(\"\")\n",
    "plot!(frame_style=:origin)\n",
    "xlims!(-4, 1)\n",
    "ylims!(-2.5,2.5)"
   ]
  },
  {
   "cell_type": "code",
   "execution_count": 84,
   "metadata": {},
   "outputs": [
    {
     "data": {
      "image/svg+xml": [
       "<?xml version=\"1.0\" encoding=\"utf-8\"?>\n",
       "<svg xmlns=\"http://www.w3.org/2000/svg\" xmlns:xlink=\"http://www.w3.org/1999/xlink\" width=\"900\" height=\"300\" viewBox=\"0 0 3600 1200\">\n",
       "<defs>\n",
       "  <clipPath id=\"clip1500\">\n",
       "    <rect x=\"0\" y=\"0\" width=\"3600\" height=\"1200\"/>\n",
       "  </clipPath>\n",
       "</defs>\n",
       "<polygon clip-path=\"url(#clip1500)\" points=\"\n",
       "0,1200 3600,1200 3600,0 0,0 \n",
       "  \" fill=\"#ffffff\" fill-rule=\"evenodd\" fill-opacity=\"1\"/>\n",
       "<defs>\n",
       "  <clipPath id=\"clip1501\">\n",
       "    <rect x=\"720\" y=\"0\" width=\"2521\" height=\"1200\"/>\n",
       "  </clipPath>\n",
       "</defs>\n",
       "<polygon clip-path=\"url(#clip1500)\" points=\"\n",
       "153.865,1108.24 3552.76,1108.24 3552.76,47.2441 153.865,47.2441 \n",
       "  \" fill=\"#ffffff\" fill-rule=\"evenodd\" fill-opacity=\"1\"/>\n",
       "<defs>\n",
       "  <clipPath id=\"clip1502\">\n",
       "    <rect x=\"153\" y=\"47\" width=\"3400\" height=\"1062\"/>\n",
       "  </clipPath>\n",
       "</defs>\n",
       "<polyline clip-path=\"url(#clip1502)\" style=\"stroke:#000000; stroke-width:2; stroke-opacity:0.1; fill:none\" points=\"\n",
       "  153.865,1108.24 153.865,47.2441 \n",
       "  \"/>\n",
       "<polyline clip-path=\"url(#clip1502)\" style=\"stroke:#000000; stroke-width:2; stroke-opacity:0.1; fill:none\" points=\"\n",
       "  833.643,1108.24 833.643,47.2441 \n",
       "  \"/>\n",
       "<polyline clip-path=\"url(#clip1502)\" style=\"stroke:#000000; stroke-width:2; stroke-opacity:0.1; fill:none\" points=\"\n",
       "  1513.42,1108.24 1513.42,47.2441 \n",
       "  \"/>\n",
       "<polyline clip-path=\"url(#clip1502)\" style=\"stroke:#000000; stroke-width:2; stroke-opacity:0.1; fill:none\" points=\"\n",
       "  2193.2,1108.24 2193.2,47.2441 \n",
       "  \"/>\n",
       "<polyline clip-path=\"url(#clip1502)\" style=\"stroke:#000000; stroke-width:2; stroke-opacity:0.1; fill:none\" points=\"\n",
       "  3552.76,1108.24 3552.76,47.2441 \n",
       "  \"/>\n",
       "<polyline clip-path=\"url(#clip1502)\" style=\"stroke:#000000; stroke-width:2; stroke-opacity:0.1; fill:none\" points=\"\n",
       "  153.865,1002.14 3552.76,1002.14 \n",
       "  \"/>\n",
       "<polyline clip-path=\"url(#clip1502)\" style=\"stroke:#000000; stroke-width:2; stroke-opacity:0.1; fill:none\" points=\"\n",
       "  153.865,789.942 3552.76,789.942 \n",
       "  \"/>\n",
       "<polyline clip-path=\"url(#clip1502)\" style=\"stroke:#000000; stroke-width:2; stroke-opacity:0.1; fill:none\" points=\"\n",
       "  153.865,365.543 3552.76,365.543 \n",
       "  \"/>\n",
       "<polyline clip-path=\"url(#clip1502)\" style=\"stroke:#000000; stroke-width:2; stroke-opacity:0.1; fill:none\" points=\"\n",
       "  153.865,153.344 3552.76,153.344 \n",
       "  \"/>\n",
       "<polyline clip-path=\"url(#clip1500)\" style=\"stroke:#000000; stroke-width:4; stroke-opacity:1; fill:none\" points=\"\n",
       "  153.865,577.743 3552.76,577.743 \n",
       "  \"/>\n",
       "<polyline clip-path=\"url(#clip1500)\" style=\"stroke:#000000; stroke-width:4; stroke-opacity:1; fill:none\" points=\"\n",
       "  2872.98,1108.24 2872.98,47.2441 \n",
       "  \"/>\n",
       "<polyline clip-path=\"url(#clip1500)\" style=\"stroke:#000000; stroke-width:4; stroke-opacity:1; fill:none\" points=\"\n",
       "  153.865,577.743 153.865,561.828 \n",
       "  \"/>\n",
       "<polyline clip-path=\"url(#clip1500)\" style=\"stroke:#000000; stroke-width:4; stroke-opacity:1; fill:none\" points=\"\n",
       "  833.643,577.743 833.643,561.828 \n",
       "  \"/>\n",
       "<polyline clip-path=\"url(#clip1500)\" style=\"stroke:#000000; stroke-width:4; stroke-opacity:1; fill:none\" points=\"\n",
       "  1513.42,577.743 1513.42,561.828 \n",
       "  \"/>\n",
       "<polyline clip-path=\"url(#clip1500)\" style=\"stroke:#000000; stroke-width:4; stroke-opacity:1; fill:none\" points=\"\n",
       "  2193.2,577.743 2193.2,561.828 \n",
       "  \"/>\n",
       "<polyline clip-path=\"url(#clip1500)\" style=\"stroke:#000000; stroke-width:4; stroke-opacity:1; fill:none\" points=\"\n",
       "  3552.76,577.743 3552.76,561.828 \n",
       "  \"/>\n",
       "<polyline clip-path=\"url(#clip1500)\" style=\"stroke:#000000; stroke-width:4; stroke-opacity:1; fill:none\" points=\"\n",
       "  2872.98,1002.14 2923.96,1002.14 \n",
       "  \"/>\n",
       "<polyline clip-path=\"url(#clip1500)\" style=\"stroke:#000000; stroke-width:4; stroke-opacity:1; fill:none\" points=\"\n",
       "  2872.98,789.942 2923.96,789.942 \n",
       "  \"/>\n",
       "<polyline clip-path=\"url(#clip1500)\" style=\"stroke:#000000; stroke-width:4; stroke-opacity:1; fill:none\" points=\"\n",
       "  2872.98,365.543 2923.96,365.543 \n",
       "  \"/>\n",
       "<polyline clip-path=\"url(#clip1500)\" style=\"stroke:#000000; stroke-width:4; stroke-opacity:1; fill:none\" points=\"\n",
       "  2872.98,153.344 2923.96,153.344 \n",
       "  \"/>\n",
       "<g clip-path=\"url(#clip1500)\">\n",
       "<text style=\"fill:#000000; fill-opacity:1; font-family:Arial,Helvetica Neue,Helvetica,sans-serif; font-size:48px; text-anchor:middle;\" transform=\"rotate(0, 153.865, 637.743)\" x=\"153.865\" y=\"637.743\">-4</text>\n",
       "</g>\n",
       "<g clip-path=\"url(#clip1500)\">\n",
       "<text style=\"fill:#000000; fill-opacity:1; font-family:Arial,Helvetica Neue,Helvetica,sans-serif; font-size:48px; text-anchor:middle;\" transform=\"rotate(0, 833.643, 637.743)\" x=\"833.643\" y=\"637.743\">-3</text>\n",
       "</g>\n",
       "<g clip-path=\"url(#clip1500)\">\n",
       "<text style=\"fill:#000000; fill-opacity:1; font-family:Arial,Helvetica Neue,Helvetica,sans-serif; font-size:48px; text-anchor:middle;\" transform=\"rotate(0, 1513.42, 637.743)\" x=\"1513.42\" y=\"637.743\">-2</text>\n",
       "</g>\n",
       "<g clip-path=\"url(#clip1500)\">\n",
       "<text style=\"fill:#000000; fill-opacity:1; font-family:Arial,Helvetica Neue,Helvetica,sans-serif; font-size:48px; text-anchor:middle;\" transform=\"rotate(0, 2193.2, 637.743)\" x=\"2193.2\" y=\"637.743\">-1</text>\n",
       "</g>\n",
       "<g clip-path=\"url(#clip1500)\">\n",
       "<text style=\"fill:#000000; fill-opacity:1; font-family:Arial,Helvetica Neue,Helvetica,sans-serif; font-size:48px; text-anchor:middle;\" transform=\"rotate(0, 3552.76, 637.743)\" x=\"3552.76\" y=\"637.743\">1</text>\n",
       "</g>\n",
       "<g clip-path=\"url(#clip1500)\">\n",
       "<text style=\"fill:#000000; fill-opacity:1; font-family:Arial,Helvetica Neue,Helvetica,sans-serif; font-size:48px; text-anchor:end;\" transform=\"rotate(0, 2836.98, 1019.64)\" x=\"2836.98\" y=\"1019.64\">-2</text>\n",
       "</g>\n",
       "<g clip-path=\"url(#clip1500)\">\n",
       "<text style=\"fill:#000000; fill-opacity:1; font-family:Arial,Helvetica Neue,Helvetica,sans-serif; font-size:48px; text-anchor:end;\" transform=\"rotate(0, 2836.98, 807.442)\" x=\"2836.98\" y=\"807.442\">-1</text>\n",
       "</g>\n",
       "<g clip-path=\"url(#clip1500)\">\n",
       "<text style=\"fill:#000000; fill-opacity:1; font-family:Arial,Helvetica Neue,Helvetica,sans-serif; font-size:48px; text-anchor:end;\" transform=\"rotate(0, 2836.98, 383.043)\" x=\"2836.98\" y=\"383.043\">1</text>\n",
       "</g>\n",
       "<g clip-path=\"url(#clip1500)\">\n",
       "<text style=\"fill:#000000; fill-opacity:1; font-family:Arial,Helvetica Neue,Helvetica,sans-serif; font-size:48px; text-anchor:end;\" transform=\"rotate(0, 2836.98, 170.844)\" x=\"2836.98\" y=\"170.844\">2</text>\n",
       "</g>\n",
       "<polyline clip-path=\"url(#clip1502)\" style=\"stroke:#009af9; stroke-width:4; stroke-opacity:1; fill:none\" points=\"\n",
       "  2533.09,1240.34 2533.09,1243.92 2533.09,1256.78 2533.09,1275.64 2533.09,1297.47 2533.09,1324.13 2533.09,1354.32 2533.09,1388.49 2533.09,1426.09 2533.09,1467.15 \n",
       "  2533.09,1511.43 2533.09,1558.89 2533.09,1609.45 2533.09,1663.14 2533.09,1719.96 2533.09,1779.98 2533.09,1843.27 2533.09,1909.96 2533.09,1980.16 2533.09,2054.02 \n",
       "  2533.09,2131.72 2533.09,2213.42 2533.09,2299.33 2533.09,2389.66 2533.09,2484.62 2533.09,2584.47 2533.09,2689.44 2533.09,2799.81 2533.09,2915.86 2533.09,3037.89 \n",
       "  2533.09,3166.2 2533.09,3301.13 2533.09,3443.03 2533.09,3592.25 2533.09,3749.18 2533.09,3914.23 2533.09,4087.82 2533.09,4270.39 2533.09,4462.42 2533.09,4664.39 \n",
       "  2533.09,4876.83 2533.09,5100.27 2533.09,5335.3 2533.09,5582.52 2533.09,5842.56 2533.09,6116.09 2533.09,6403.8 2533.09,6706.45 2533.09,7024.8 2533.09,7359.67 \n",
       "  2533.09,7711.91 2533.09,8082.44 2533.09,8472.21 2533.09,8882.2 2533.09,9313.48 2533.09,9767.15 2533.09,10244.4 2533.09,10746.4 2533.09,11274.4 2533.09,11829.9 \n",
       "  2533.09,12414.2 2533.09,13028.8 2533.09,13675.4 2533.09,14355.5 2533.09,15071 \n",
       "  \"/>\n",
       "<polyline clip-path=\"url(#clip1502)\" style=\"stroke:#e26f46; stroke-width:4; stroke-opacity:1; fill:none\" points=\"\n",
       "  2533.09,-84.8498 2533.09,-88.43 2533.09,-101.297 2533.09,-120.152 2533.09,-141.98 2533.09,-168.644 2533.09,-198.831 2533.09,-233.009 2533.09,-270.608 2533.09,-311.667 \n",
       "  2533.09,-355.94 2533.09,-403.4 2533.09,-453.969 2533.09,-507.654 2533.09,-564.474 2533.09,-624.49 2533.09,-687.786 2533.09,-754.47 2533.09,-824.671 2533.09,-898.537 \n",
       "  2533.09,-976.232 2533.09,-1057.94 2533.09,-1143.85 2533.09,-1234.17 2533.09,-1329.14 2533.09,-1428.98 2533.09,-1533.96 2533.09,-1644.33 2533.09,-1760.38 2533.09,-1882.4 \n",
       "  2533.09,-2010.72 2533.09,-2145.65 2533.09,-2287.54 2533.09,-2436.76 2533.09,-2593.7 2533.09,-2758.75 2533.09,-2932.34 2533.09,-3114.91 2533.09,-3306.93 2533.09,-3508.9 \n",
       "  2533.09,-3721.34 2533.09,-3944.79 2533.09,-4179.82 2533.09,-4427.04 2533.09,-4687.07 2533.09,-4960.6 2533.09,-5248.32 2533.09,-5550.96 2533.09,-5869.31 2533.09,-6204.18 \n",
       "  2533.09,-6556.43 2533.09,-6926.96 2533.09,-7316.72 2533.09,-7726.72 2533.09,-8157.99 2533.09,-8611.66 2533.09,-9088.88 2533.09,-9590.87 2533.09,-10118.9 2533.09,-10674.4 \n",
       "  2533.09,-11258.7 2533.09,-11873.4 2533.09,-12519.9 2533.09,-13200 2533.09,-13915.5 \n",
       "  \"/>\n",
       "</svg>\n"
      ]
     },
     "execution_count": 84,
     "metadata": {},
     "output_type": "execute_result"
    }
   ],
   "source": [
    "rlocusplot(minreal(feedback(G1, tf(1))))\n",
    "xlabel!(\"\")\n",
    "ylabel!(\"\")\n",
    "title!(\"\")\n",
    "plot!(frame_style=:origin)\n",
    "xlims!(-4, 1)\n",
    "ylims!(-2.5,2.5)"
   ]
  },
  {
   "cell_type": "code",
   "execution_count": 81,
   "metadata": {},
   "outputs": [
    {
     "data": {
      "image/svg+xml": [
       "<?xml version=\"1.0\" encoding=\"utf-8\"?>\n",
       "<svg xmlns=\"http://www.w3.org/2000/svg\" xmlns:xlink=\"http://www.w3.org/1999/xlink\" width=\"900\" height=\"300\" viewBox=\"0 0 3600 1200\">\n",
       "<defs>\n",
       "  <clipPath id=\"clip0300\">\n",
       "    <rect x=\"0\" y=\"0\" width=\"3600\" height=\"1200\"/>\n",
       "  </clipPath>\n",
       "</defs>\n",
       "<polygon clip-path=\"url(#clip0300)\" points=\"\n",
       "0,1200 3600,1200 3600,0 0,0 \n",
       "  \" fill=\"#ffffff\" fill-rule=\"evenodd\" fill-opacity=\"1\"/>\n",
       "<defs>\n",
       "  <clipPath id=\"clip0301\">\n",
       "    <rect x=\"720\" y=\"0\" width=\"2521\" height=\"1200\"/>\n",
       "  </clipPath>\n",
       "</defs>\n",
       "<polygon clip-path=\"url(#clip0300)\" points=\"\n",
       "232.81,1069.44 3552.76,1069.44 3552.76,92.3336 232.81,92.3336 \n",
       "  \" fill=\"#ffffff\" fill-rule=\"evenodd\" fill-opacity=\"1\"/>\n",
       "<defs>\n",
       "  <clipPath id=\"clip0302\">\n",
       "    <rect x=\"232\" y=\"92\" width=\"3321\" height=\"978\"/>\n",
       "  </clipPath>\n",
       "</defs>\n",
       "<polyline clip-path=\"url(#clip0302)\" style=\"stroke:#000000; stroke-width:2; stroke-opacity:0.1; fill:none\" points=\"\n",
       "  232.81,1069.44 232.81,92.3336 \n",
       "  \"/>\n",
       "<polyline clip-path=\"url(#clip0302)\" style=\"stroke:#000000; stroke-width:2; stroke-opacity:0.1; fill:none\" points=\"\n",
       "  896.799,1069.44 896.799,92.3336 \n",
       "  \"/>\n",
       "<polyline clip-path=\"url(#clip0302)\" style=\"stroke:#000000; stroke-width:2; stroke-opacity:0.1; fill:none\" points=\"\n",
       "  1560.79,1069.44 1560.79,92.3336 \n",
       "  \"/>\n",
       "<polyline clip-path=\"url(#clip0302)\" style=\"stroke:#000000; stroke-width:2; stroke-opacity:0.1; fill:none\" points=\"\n",
       "  2224.78,1069.44 2224.78,92.3336 \n",
       "  \"/>\n",
       "<polyline clip-path=\"url(#clip0302)\" style=\"stroke:#000000; stroke-width:2; stroke-opacity:0.1; fill:none\" points=\"\n",
       "  3552.76,1069.44 3552.76,92.3336 \n",
       "  \"/>\n",
       "<polyline clip-path=\"url(#clip0302)\" style=\"stroke:#000000; stroke-width:2; stroke-opacity:0.1; fill:none\" points=\"\n",
       "  232.81,1069.44 3552.76,1069.44 \n",
       "  \"/>\n",
       "<polyline clip-path=\"url(#clip0302)\" style=\"stroke:#000000; stroke-width:2; stroke-opacity:0.1; fill:none\" points=\"\n",
       "  232.81,825.163 3552.76,825.163 \n",
       "  \"/>\n",
       "<polyline clip-path=\"url(#clip0302)\" style=\"stroke:#000000; stroke-width:2; stroke-opacity:0.1; fill:none\" points=\"\n",
       "  232.81,336.61 3552.76,336.61 \n",
       "  \"/>\n",
       "<polyline clip-path=\"url(#clip0302)\" style=\"stroke:#000000; stroke-width:2; stroke-opacity:0.1; fill:none\" points=\"\n",
       "  232.81,92.3336 3552.76,92.3336 \n",
       "  \"/>\n",
       "<polyline clip-path=\"url(#clip0300)\" style=\"stroke:#000000; stroke-width:4; stroke-opacity:1; fill:none\" points=\"\n",
       "  232.81,580.886 3552.76,580.886 \n",
       "  \"/>\n",
       "<polyline clip-path=\"url(#clip0300)\" style=\"stroke:#000000; stroke-width:4; stroke-opacity:1; fill:none\" points=\"\n",
       "  2888.77,1069.44 2888.77,92.3336 \n",
       "  \"/>\n",
       "<polyline clip-path=\"url(#clip0300)\" style=\"stroke:#000000; stroke-width:4; stroke-opacity:1; fill:none\" points=\"\n",
       "  232.81,580.886 232.81,566.23 \n",
       "  \"/>\n",
       "<polyline clip-path=\"url(#clip0300)\" style=\"stroke:#000000; stroke-width:4; stroke-opacity:1; fill:none\" points=\"\n",
       "  896.799,580.886 896.799,566.23 \n",
       "  \"/>\n",
       "<polyline clip-path=\"url(#clip0300)\" style=\"stroke:#000000; stroke-width:4; stroke-opacity:1; fill:none\" points=\"\n",
       "  1560.79,580.886 1560.79,566.23 \n",
       "  \"/>\n",
       "<polyline clip-path=\"url(#clip0300)\" style=\"stroke:#000000; stroke-width:4; stroke-opacity:1; fill:none\" points=\"\n",
       "  2224.78,580.886 2224.78,566.23 \n",
       "  \"/>\n",
       "<polyline clip-path=\"url(#clip0300)\" style=\"stroke:#000000; stroke-width:4; stroke-opacity:1; fill:none\" points=\"\n",
       "  3552.76,580.886 3552.76,566.23 \n",
       "  \"/>\n",
       "<polyline clip-path=\"url(#clip0300)\" style=\"stroke:#000000; stroke-width:4; stroke-opacity:1; fill:none\" points=\"\n",
       "  2888.77,1069.44 2938.57,1069.44 \n",
       "  \"/>\n",
       "<polyline clip-path=\"url(#clip0300)\" style=\"stroke:#000000; stroke-width:4; stroke-opacity:1; fill:none\" points=\"\n",
       "  2888.77,825.163 2938.57,825.163 \n",
       "  \"/>\n",
       "<polyline clip-path=\"url(#clip0300)\" style=\"stroke:#000000; stroke-width:4; stroke-opacity:1; fill:none\" points=\"\n",
       "  2888.77,336.61 2938.57,336.61 \n",
       "  \"/>\n",
       "<polyline clip-path=\"url(#clip0300)\" style=\"stroke:#000000; stroke-width:4; stroke-opacity:1; fill:none\" points=\"\n",
       "  2888.77,92.3336 2938.57,92.3336 \n",
       "  \"/>\n",
       "<g clip-path=\"url(#clip0300)\">\n",
       "<text style=\"fill:#000000; fill-opacity:1; font-family:Arial,Helvetica Neue,Helvetica,sans-serif; font-size:48px; text-anchor:middle;\" transform=\"rotate(0, 232.81, 640.886)\" x=\"232.81\" y=\"640.886\">-4</text>\n",
       "</g>\n",
       "<g clip-path=\"url(#clip0300)\">\n",
       "<text style=\"fill:#000000; fill-opacity:1; font-family:Arial,Helvetica Neue,Helvetica,sans-serif; font-size:48px; text-anchor:middle;\" transform=\"rotate(0, 896.799, 640.886)\" x=\"896.799\" y=\"640.886\">-3</text>\n",
       "</g>\n",
       "<g clip-path=\"url(#clip0300)\">\n",
       "<text style=\"fill:#000000; fill-opacity:1; font-family:Arial,Helvetica Neue,Helvetica,sans-serif; font-size:48px; text-anchor:middle;\" transform=\"rotate(0, 1560.79, 640.886)\" x=\"1560.79\" y=\"640.886\">-2</text>\n",
       "</g>\n",
       "<g clip-path=\"url(#clip0300)\">\n",
       "<text style=\"fill:#000000; fill-opacity:1; font-family:Arial,Helvetica Neue,Helvetica,sans-serif; font-size:48px; text-anchor:middle;\" transform=\"rotate(0, 2224.78, 640.886)\" x=\"2224.78\" y=\"640.886\">-1</text>\n",
       "</g>\n",
       "<g clip-path=\"url(#clip0300)\">\n",
       "<text style=\"fill:#000000; fill-opacity:1; font-family:Arial,Helvetica Neue,Helvetica,sans-serif; font-size:48px; text-anchor:middle;\" transform=\"rotate(0, 3552.76, 640.886)\" x=\"3552.76\" y=\"640.886\">1</text>\n",
       "</g>\n",
       "<g clip-path=\"url(#clip0300)\">\n",
       "<text style=\"fill:#000000; fill-opacity:1; font-family:Arial,Helvetica Neue,Helvetica,sans-serif; font-size:48px; text-anchor:end;\" transform=\"rotate(0, 2852.77, 1086.94)\" x=\"2852.77\" y=\"1086.94\">-5.0</text>\n",
       "</g>\n",
       "<g clip-path=\"url(#clip0300)\">\n",
       "<text style=\"fill:#000000; fill-opacity:1; font-family:Arial,Helvetica Neue,Helvetica,sans-serif; font-size:48px; text-anchor:end;\" transform=\"rotate(0, 2852.77, 842.663)\" x=\"2852.77\" y=\"842.663\">-2.5</text>\n",
       "</g>\n",
       "<g clip-path=\"url(#clip0300)\">\n",
       "<text style=\"fill:#000000; fill-opacity:1; font-family:Arial,Helvetica Neue,Helvetica,sans-serif; font-size:48px; text-anchor:end;\" transform=\"rotate(0, 2852.77, 354.11)\" x=\"2852.77\" y=\"354.11\">2.5</text>\n",
       "</g>\n",
       "<g clip-path=\"url(#clip0300)\">\n",
       "<text style=\"fill:#000000; fill-opacity:1; font-family:Arial,Helvetica Neue,Helvetica,sans-serif; font-size:48px; text-anchor:end;\" transform=\"rotate(0, 2852.77, 109.834)\" x=\"2852.77\" y=\"109.834\">5.0</text>\n",
       "</g>\n",
       "<g clip-path=\"url(#clip0300)\">\n",
       "<text style=\"fill:#000000; fill-opacity:1; font-family:Arial,Helvetica Neue,Helvetica,sans-serif; font-size:82px; text-anchor:middle;\" transform=\"rotate(0, 1892.78, 72)\" x=\"1892.78\" y=\"72\">Root locus</text>\n",
       "</g>\n",
       "<g clip-path=\"url(#clip0300)\">\n",
       "<text style=\"fill:#000000; fill-opacity:1; font-family:Arial,Helvetica Neue,Helvetica,sans-serif; font-size:66px; text-anchor:middle;\" transform=\"rotate(0, 1892.78, 1215.3)\" x=\"1892.78\" y=\"1215.3\">Re(roots)</text>\n",
       "</g>\n",
       "<g clip-path=\"url(#clip0300)\">\n",
       "<text style=\"fill:#000000; fill-opacity:1; font-family:Arial,Helvetica Neue,Helvetica,sans-serif; font-size:66px; text-anchor:middle;\" transform=\"rotate(-90, 54.2321, 580.886)\" x=\"54.2321\" y=\"580.886\">Im(roots)</text>\n",
       "</g>\n",
       "<polyline clip-path=\"url(#clip0302)\" style=\"stroke:#009af9; stroke-width:4; stroke-opacity:1; fill:none\" points=\"\n",
       "  1895.91,834.863 1892.15,837.06 1881.72,843.422 1868.34,852.203 1854.06,862.48 1838.91,874.606 1823.94,888.118 1809.4,903.056 1795.67,919.233 1782.86,936.643 \n",
       "  1771.05,955.228 1760.24,975.001 1750.39,995.971 1741.44,1018.17 1733.34,1041.65 1726.01,1066.46 1719.4,1092.65 1713.43,1120.3 1708.05,1149.47 1703.2,1180.25 \n",
       "  1698.83,1212.7 1694.9,1246.92 1691.36,1283 1688.18,1321.02 1685.31,1361.09 1682.73,1403.32 1680.41,1447.81 1678.32,1494.69 1676.44,1544.08 1674.76,1596.11 \n",
       "  1673.23,1650.92 1671.87,1708.66 1670.64,1769.48 1669.53,1833.56 1668.53,1901.05 1667.63,1972.15 1666.83,2047.05 1666.1,2125.95 1665.45,2209.06 1664.86,2296.61 \n",
       "  1664.33,2388.84 1663.85,2486.01 1663.42,2588.36 1663.03,2696.19 1662.68,2809.78 1662.37,2929.46 1662.09,3055.53 1661.83,3188.35 1661.6,3328.27 1661.4,3475.69 \n",
       "  1661.21,3630.99 1661.04,3794.61 1660.89,3966.99 1660.76,4148.6 1660.63,4339.93 1660.52,4541.51 1660.43,4753.89 1660.34,4977.64 1660.26,5213.37 1660.18,5461.74 \n",
       "  1660.12,5723.4 1660.06,5999.09 1660.01,6289.54 1659.96,6595.56 1659.91,6917.97 1659.88,7257.65 1659.84,7615.54 1659.81,7992.6 \n",
       "  \"/>\n",
       "<polyline clip-path=\"url(#clip0302)\" style=\"stroke:#e26f46; stroke-width:4; stroke-opacity:1; fill:none\" points=\"\n",
       "  1895.91,326.909 1892.15,324.712 1881.72,318.35 1868.34,309.57 1854.06,299.293 1838.91,287.166 1823.94,273.655 1809.4,258.717 1795.67,242.54 1782.86,225.13 \n",
       "  1771.05,206.545 1760.24,186.772 1750.39,165.802 1741.44,143.599 1733.34,120.122 1726.01,95.3153 1719.4,69.1207 1713.43,41.4718 1708.05,12.298 1703.2,-18.4761 \n",
       "  1698.83,-50.9305 1694.9,-85.1499 1691.36,-121.224 1688.18,-159.246 1685.31,-199.318 1682.73,-241.544 1680.41,-286.037 1678.32,-332.915 1676.44,-382.303 1674.76,-434.333 \n",
       "  1673.23,-489.144 1671.87,-546.885 1670.64,-607.709 1669.53,-671.783 1668.53,-739.278 1667.63,-810.378 1666.83,-885.275 1666.1,-964.173 1665.45,-1047.29 1664.86,-1134.84 \n",
       "  1664.33,-1227.07 1663.85,-1324.23 1663.42,-1426.59 1663.03,-1534.42 1662.68,-1648.01 1662.37,-1767.68 1662.09,-1893.76 1661.83,-2026.57 1661.6,-2166.5 1661.4,-2313.91 \n",
       "  1661.21,-2469.22 1661.04,-2632.84 1660.89,-2805.22 1660.76,-2986.83 1660.63,-3178.16 1660.52,-3379.74 1660.43,-3592.11 1660.34,-3815.86 1660.26,-4051.6 1660.18,-4299.96 \n",
       "  1660.12,-4561.63 1660.06,-4837.31 1660.01,-5127.77 1659.96,-5433.78 1659.91,-5756.19 1659.88,-6095.88 1659.84,-6453.76 1659.81,-6830.83 \n",
       "  \"/>\n",
       "<polyline clip-path=\"url(#clip0302)\" style=\"stroke:#3da44d; stroke-width:4; stroke-opacity:1; fill:none\" points=\"\n",
       "  1125.73,580.886 1133.25,580.886 1154.12,580.886 1180.87,580.886 1209.44,580.886 1239.73,580.886 1269.66,580.886 1298.75,580.886 1326.21,580.886 1351.83,580.886 \n",
       "  1375.45,580.886 1397.07,580.886 1416.78,580.886 1434.67,580.886 1450.87,580.886 1465.52,580.886 1478.75,580.886 1490.69,580.886 1501.45,580.886 1511.15,580.886 \n",
       "  1519.88,580.886 1527.75,580.886 1534.83,580.886 1541.2,580.886 1546.93,580.886 1552.09,580.886 1556.73,580.886 1560.9,580.886 1564.66,580.886 1568.04,580.886 \n",
       "  1571.08,580.886 1573.82,580.886 1576.28,580.886 1578.49,580.886 1580.49,580.886 1582.28,580.886 1583.9,580.886 1585.35,580.886 1586.66,580.886 1587.84,580.886 \n",
       "  1588.9,580.886 1589.85,580.886 1590.71,580.886 1591.49,580.886 1592.18,580.886 1592.81,580.886 1593.38,580.886 1593.88,580.886 1594.34,580.886 1594.76,580.886 \n",
       "  1595.13,580.886 1595.46,580.886 1595.76,580.886 1596.04,580.886 1596.28,580.886 1596.5,580.886 1596.7,580.886 1596.88,580.886 1597.04,580.886 1597.18,580.886 \n",
       "  1597.32,580.886 1597.43,580.886 1597.54,580.886 1597.64,580.886 1597.72,580.886 1597.8,580.886 1597.87,580.886 1597.93,580.886 \n",
       "  \"/>\n",
       "<circle clip-path=\"url(#clip0302)\" style=\"fill:#000000; stroke:none; fill-opacity:1\" cx=\"1598.5\" cy=\"580.886\" r=\"39\"/>\n",
       "<circle clip-path=\"url(#clip0302)\" style=\"fill:#c271d2; stroke:none; fill-opacity:1\" cx=\"1598.5\" cy=\"580.886\" r=\"36\"/>\n",
       "<line clip-path=\"url(#clip0302)\" x1=\"1895.91\" y1=\"834.863\" x2=\"1851.91\" y2=\"878.863\" style=\"stroke:#000000; stroke-width:4; stroke-opacity:1\"/>\n",
       "<line clip-path=\"url(#clip0302)\" x1=\"1895.91\" y1=\"834.863\" x2=\"1851.91\" y2=\"790.863\" style=\"stroke:#000000; stroke-width:4; stroke-opacity:1\"/>\n",
       "<line clip-path=\"url(#clip0302)\" x1=\"1895.91\" y1=\"834.863\" x2=\"1939.91\" y2=\"790.863\" style=\"stroke:#000000; stroke-width:4; stroke-opacity:1\"/>\n",
       "<line clip-path=\"url(#clip0302)\" x1=\"1895.91\" y1=\"834.863\" x2=\"1939.91\" y2=\"878.863\" style=\"stroke:#000000; stroke-width:4; stroke-opacity:1\"/>\n",
       "<line clip-path=\"url(#clip0302)\" x1=\"1895.91\" y1=\"834.863\" x2=\"1855.91\" y2=\"874.863\" style=\"stroke:#ac8d18; stroke-width:4; stroke-opacity:1\"/>\n",
       "<line clip-path=\"url(#clip0302)\" x1=\"1895.91\" y1=\"834.863\" x2=\"1855.91\" y2=\"794.863\" style=\"stroke:#ac8d18; stroke-width:4; stroke-opacity:1\"/>\n",
       "<line clip-path=\"url(#clip0302)\" x1=\"1895.91\" y1=\"834.863\" x2=\"1935.91\" y2=\"794.863\" style=\"stroke:#ac8d18; stroke-width:4; stroke-opacity:1\"/>\n",
       "<line clip-path=\"url(#clip0302)\" x1=\"1895.91\" y1=\"834.863\" x2=\"1935.91\" y2=\"874.863\" style=\"stroke:#ac8d18; stroke-width:4; stroke-opacity:1\"/>\n",
       "<line clip-path=\"url(#clip0302)\" x1=\"1895.91\" y1=\"326.909\" x2=\"1851.91\" y2=\"370.909\" style=\"stroke:#000000; stroke-width:4; stroke-opacity:1\"/>\n",
       "<line clip-path=\"url(#clip0302)\" x1=\"1895.91\" y1=\"326.909\" x2=\"1851.91\" y2=\"282.909\" style=\"stroke:#000000; stroke-width:4; stroke-opacity:1\"/>\n",
       "<line clip-path=\"url(#clip0302)\" x1=\"1895.91\" y1=\"326.909\" x2=\"1939.91\" y2=\"282.909\" style=\"stroke:#000000; stroke-width:4; stroke-opacity:1\"/>\n",
       "<line clip-path=\"url(#clip0302)\" x1=\"1895.91\" y1=\"326.909\" x2=\"1939.91\" y2=\"370.909\" style=\"stroke:#000000; stroke-width:4; stroke-opacity:1\"/>\n",
       "<line clip-path=\"url(#clip0302)\" x1=\"1895.91\" y1=\"326.909\" x2=\"1855.91\" y2=\"366.909\" style=\"stroke:#ac8d18; stroke-width:4; stroke-opacity:1\"/>\n",
       "<line clip-path=\"url(#clip0302)\" x1=\"1895.91\" y1=\"326.909\" x2=\"1855.91\" y2=\"286.909\" style=\"stroke:#ac8d18; stroke-width:4; stroke-opacity:1\"/>\n",
       "<line clip-path=\"url(#clip0302)\" x1=\"1895.91\" y1=\"326.909\" x2=\"1935.91\" y2=\"286.909\" style=\"stroke:#ac8d18; stroke-width:4; stroke-opacity:1\"/>\n",
       "<line clip-path=\"url(#clip0302)\" x1=\"1895.91\" y1=\"326.909\" x2=\"1935.91\" y2=\"366.909\" style=\"stroke:#ac8d18; stroke-width:4; stroke-opacity:1\"/>\n",
       "<line clip-path=\"url(#clip0302)\" x1=\"1125.73\" y1=\"580.886\" x2=\"1081.73\" y2=\"624.886\" style=\"stroke:#000000; stroke-width:4; stroke-opacity:1\"/>\n",
       "<line clip-path=\"url(#clip0302)\" x1=\"1125.73\" y1=\"580.886\" x2=\"1081.73\" y2=\"536.886\" style=\"stroke:#000000; stroke-width:4; stroke-opacity:1\"/>\n",
       "<line clip-path=\"url(#clip0302)\" x1=\"1125.73\" y1=\"580.886\" x2=\"1169.73\" y2=\"536.886\" style=\"stroke:#000000; stroke-width:4; stroke-opacity:1\"/>\n",
       "<line clip-path=\"url(#clip0302)\" x1=\"1125.73\" y1=\"580.886\" x2=\"1169.73\" y2=\"624.886\" style=\"stroke:#000000; stroke-width:4; stroke-opacity:1\"/>\n",
       "<line clip-path=\"url(#clip0302)\" x1=\"1125.73\" y1=\"580.886\" x2=\"1085.73\" y2=\"620.886\" style=\"stroke:#ac8d18; stroke-width:4; stroke-opacity:1\"/>\n",
       "<line clip-path=\"url(#clip0302)\" x1=\"1125.73\" y1=\"580.886\" x2=\"1085.73\" y2=\"540.886\" style=\"stroke:#ac8d18; stroke-width:4; stroke-opacity:1\"/>\n",
       "<line clip-path=\"url(#clip0302)\" x1=\"1125.73\" y1=\"580.886\" x2=\"1165.73\" y2=\"540.886\" style=\"stroke:#ac8d18; stroke-width:4; stroke-opacity:1\"/>\n",
       "<line clip-path=\"url(#clip0302)\" x1=\"1125.73\" y1=\"580.886\" x2=\"1165.73\" y2=\"620.886\" style=\"stroke:#ac8d18; stroke-width:4; stroke-opacity:1\"/>\n",
       "</svg>\n"
      ]
     },
     "execution_count": 81,
     "metadata": {},
     "output_type": "execute_result"
    }
   ],
   "source": [
    "rlocusplot(minreal(feedback(Gc1*G1, tf(1))), range(1e-6,stop=100,length=1000))\n",
    "plot!(frame_style=:origin)\n",
    "xlims!(-4, 1)\n",
    "ylims!(-5,5)"
   ]
  },
  {
   "cell_type": "code",
   "execution_count": 72,
   "metadata": {},
   "outputs": [
    {
     "ename": "UndefVarError",
     "evalue": "UndefVarError: G not defined",
     "output_type": "error",
     "traceback": [
      "UndefVarError: G not defined",
      "",
      "Stacktrace:",
      " [1] top-level scope at In[72]:1"
     ]
    }
   ],
   "source": [
    "bodeplot(G)\n",
    "xlabel!(\"\")\n",
    "ylabel!(\"\")\n",
    "title!(\"\")"
   ]
  },
  {
   "cell_type": "code",
   "execution_count": 38,
   "metadata": {},
   "outputs": [
    {
     "data": {
      "text/plain": [
       "2-element Array{Complex{Float64},1}:\n",
       " -1.0 + 0.0im\n",
       "  0.0 + 0.0im"
      ]
     },
     "execution_count": 38,
     "metadata": {},
     "output_type": "execute_result"
    }
   ],
   "source": [
    "pole(G)"
   ]
  },
  {
   "cell_type": "code",
   "execution_count": 43,
   "metadata": {},
   "outputs": [
    {
     "data": {
      "image/svg+xml": [
       "<?xml version=\"1.0\" encoding=\"utf-8\"?>\n",
       "<svg xmlns=\"http://www.w3.org/2000/svg\" xmlns:xlink=\"http://www.w3.org/1999/xlink\" width=\"600\" height=\"300\" viewBox=\"0 0 2400 1200\">\n",
       "<defs>\n",
       "  <clipPath id=\"clip0500\">\n",
       "    <rect x=\"0\" y=\"0\" width=\"2400\" height=\"1200\"/>\n",
       "  </clipPath>\n",
       "</defs>\n",
       "<polygon clip-path=\"url(#clip0500)\" points=\"\n",
       "0,1200 2400,1200 2400,0 0,0 \n",
       "  \" fill=\"#ffffff\" fill-rule=\"evenodd\" fill-opacity=\"1\"/>\n",
       "<defs>\n",
       "  <clipPath id=\"clip0501\">\n",
       "    <rect x=\"480\" y=\"0\" width=\"1681\" height=\"1200\"/>\n",
       "  </clipPath>\n",
       "</defs>\n",
       "<polygon clip-path=\"url(#clip0500)\" points=\"\n",
       "153.898,1099.86 2352.76,1099.86 2352.76,47.2441 153.898,47.2441 \n",
       "  \" fill=\"#ffffff\" fill-rule=\"evenodd\" fill-opacity=\"1\"/>\n",
       "<defs>\n",
       "  <clipPath id=\"clip0502\">\n",
       "    <rect x=\"153\" y=\"47\" width=\"2200\" height=\"1054\"/>\n",
       "  </clipPath>\n",
       "</defs>\n",
       "<polyline clip-path=\"url(#clip0502)\" style=\"stroke:#000000; stroke-width:2; stroke-opacity:0.1; fill:none\" points=\"\n",
       "  216.13,1099.86 216.13,47.2441 \n",
       "  \"/>\n",
       "<polyline clip-path=\"url(#clip0502)\" style=\"stroke:#000000; stroke-width:2; stroke-opacity:0.1; fill:none\" points=\"\n",
       "  631.009,1099.86 631.009,47.2441 \n",
       "  \"/>\n",
       "<polyline clip-path=\"url(#clip0502)\" style=\"stroke:#000000; stroke-width:2; stroke-opacity:0.1; fill:none\" points=\"\n",
       "  1045.89,1099.86 1045.89,47.2441 \n",
       "  \"/>\n",
       "<polyline clip-path=\"url(#clip0502)\" style=\"stroke:#000000; stroke-width:2; stroke-opacity:0.1; fill:none\" points=\"\n",
       "  1460.77,1099.86 1460.77,47.2441 \n",
       "  \"/>\n",
       "<polyline clip-path=\"url(#clip0502)\" style=\"stroke:#000000; stroke-width:2; stroke-opacity:0.1; fill:none\" points=\"\n",
       "  1875.65,1099.86 1875.65,47.2441 \n",
       "  \"/>\n",
       "<polyline clip-path=\"url(#clip0502)\" style=\"stroke:#000000; stroke-width:2; stroke-opacity:0.1; fill:none\" points=\"\n",
       "  2290.52,1099.86 2290.52,47.2441 \n",
       "  \"/>\n",
       "<polyline clip-path=\"url(#clip0502)\" style=\"stroke:#000000; stroke-width:2; stroke-opacity:0.1; fill:none\" points=\"\n",
       "  153.898,1070.07 2352.76,1070.07 \n",
       "  \"/>\n",
       "<polyline clip-path=\"url(#clip0502)\" style=\"stroke:#000000; stroke-width:2; stroke-opacity:0.1; fill:none\" points=\"\n",
       "  153.898,746.007 2352.76,746.007 \n",
       "  \"/>\n",
       "<polyline clip-path=\"url(#clip0502)\" style=\"stroke:#000000; stroke-width:2; stroke-opacity:0.1; fill:none\" points=\"\n",
       "  153.898,421.947 2352.76,421.947 \n",
       "  \"/>\n",
       "<polyline clip-path=\"url(#clip0502)\" style=\"stroke:#000000; stroke-width:2; stroke-opacity:0.1; fill:none\" points=\"\n",
       "  153.898,97.8872 2352.76,97.8872 \n",
       "  \"/>\n",
       "<polyline clip-path=\"url(#clip0500)\" style=\"stroke:#000000; stroke-width:4; stroke-opacity:1; fill:none\" points=\"\n",
       "  153.898,1099.86 2352.76,1099.86 \n",
       "  \"/>\n",
       "<polyline clip-path=\"url(#clip0500)\" style=\"stroke:#000000; stroke-width:4; stroke-opacity:1; fill:none\" points=\"\n",
       "  153.898,1099.86 153.898,47.2441 \n",
       "  \"/>\n",
       "<polyline clip-path=\"url(#clip0500)\" style=\"stroke:#000000; stroke-width:4; stroke-opacity:1; fill:none\" points=\"\n",
       "  216.13,1099.86 216.13,1084.07 \n",
       "  \"/>\n",
       "<polyline clip-path=\"url(#clip0500)\" style=\"stroke:#000000; stroke-width:4; stroke-opacity:1; fill:none\" points=\"\n",
       "  631.009,1099.86 631.009,1084.07 \n",
       "  \"/>\n",
       "<polyline clip-path=\"url(#clip0500)\" style=\"stroke:#000000; stroke-width:4; stroke-opacity:1; fill:none\" points=\"\n",
       "  1045.89,1099.86 1045.89,1084.07 \n",
       "  \"/>\n",
       "<polyline clip-path=\"url(#clip0500)\" style=\"stroke:#000000; stroke-width:4; stroke-opacity:1; fill:none\" points=\"\n",
       "  1460.77,1099.86 1460.77,1084.07 \n",
       "  \"/>\n",
       "<polyline clip-path=\"url(#clip0500)\" style=\"stroke:#000000; stroke-width:4; stroke-opacity:1; fill:none\" points=\"\n",
       "  1875.65,1099.86 1875.65,1084.07 \n",
       "  \"/>\n",
       "<polyline clip-path=\"url(#clip0500)\" style=\"stroke:#000000; stroke-width:4; stroke-opacity:1; fill:none\" points=\"\n",
       "  2290.52,1099.86 2290.52,1084.07 \n",
       "  \"/>\n",
       "<polyline clip-path=\"url(#clip0500)\" style=\"stroke:#000000; stroke-width:4; stroke-opacity:1; fill:none\" points=\"\n",
       "  153.898,1070.07 186.881,1070.07 \n",
       "  \"/>\n",
       "<polyline clip-path=\"url(#clip0500)\" style=\"stroke:#000000; stroke-width:4; stroke-opacity:1; fill:none\" points=\"\n",
       "  153.898,746.007 186.881,746.007 \n",
       "  \"/>\n",
       "<polyline clip-path=\"url(#clip0500)\" style=\"stroke:#000000; stroke-width:4; stroke-opacity:1; fill:none\" points=\"\n",
       "  153.898,421.947 186.881,421.947 \n",
       "  \"/>\n",
       "<polyline clip-path=\"url(#clip0500)\" style=\"stroke:#000000; stroke-width:4; stroke-opacity:1; fill:none\" points=\"\n",
       "  153.898,97.8872 186.881,97.8872 \n",
       "  \"/>\n",
       "<g clip-path=\"url(#clip0500)\">\n",
       "<text style=\"fill:#000000; fill-opacity:1; font-family:Arial,Helvetica Neue,Helvetica,sans-serif; font-size:48px; text-anchor:middle;\" transform=\"rotate(0, 216.13, 1153.86)\" x=\"216.13\" y=\"1153.86\">0</text>\n",
       "</g>\n",
       "<g clip-path=\"url(#clip0500)\">\n",
       "<text style=\"fill:#000000; fill-opacity:1; font-family:Arial,Helvetica Neue,Helvetica,sans-serif; font-size:48px; text-anchor:middle;\" transform=\"rotate(0, 631.009, 1153.86)\" x=\"631.009\" y=\"1153.86\">1</text>\n",
       "</g>\n",
       "<g clip-path=\"url(#clip0500)\">\n",
       "<text style=\"fill:#000000; fill-opacity:1; font-family:Arial,Helvetica Neue,Helvetica,sans-serif; font-size:48px; text-anchor:middle;\" transform=\"rotate(0, 1045.89, 1153.86)\" x=\"1045.89\" y=\"1153.86\">2</text>\n",
       "</g>\n",
       "<g clip-path=\"url(#clip0500)\">\n",
       "<text style=\"fill:#000000; fill-opacity:1; font-family:Arial,Helvetica Neue,Helvetica,sans-serif; font-size:48px; text-anchor:middle;\" transform=\"rotate(0, 1460.77, 1153.86)\" x=\"1460.77\" y=\"1153.86\">3</text>\n",
       "</g>\n",
       "<g clip-path=\"url(#clip0500)\">\n",
       "<text style=\"fill:#000000; fill-opacity:1; font-family:Arial,Helvetica Neue,Helvetica,sans-serif; font-size:48px; text-anchor:middle;\" transform=\"rotate(0, 1875.65, 1153.86)\" x=\"1875.65\" y=\"1153.86\">4</text>\n",
       "</g>\n",
       "<g clip-path=\"url(#clip0500)\">\n",
       "<text style=\"fill:#000000; fill-opacity:1; font-family:Arial,Helvetica Neue,Helvetica,sans-serif; font-size:48px; text-anchor:middle;\" transform=\"rotate(0, 2290.52, 1153.86)\" x=\"2290.52\" y=\"1153.86\">5</text>\n",
       "</g>\n",
       "<g clip-path=\"url(#clip0500)\">\n",
       "<text style=\"fill:#000000; fill-opacity:1; font-family:Arial,Helvetica Neue,Helvetica,sans-serif; font-size:48px; text-anchor:end;\" transform=\"rotate(0, 129.898, 1087.57)\" x=\"129.898\" y=\"1087.57\">0.0</text>\n",
       "</g>\n",
       "<g clip-path=\"url(#clip0500)\">\n",
       "<text style=\"fill:#000000; fill-opacity:1; font-family:Arial,Helvetica Neue,Helvetica,sans-serif; font-size:48px; text-anchor:end;\" transform=\"rotate(0, 129.898, 763.507)\" x=\"129.898\" y=\"763.507\">0.5</text>\n",
       "</g>\n",
       "<g clip-path=\"url(#clip0500)\">\n",
       "<text style=\"fill:#000000; fill-opacity:1; font-family:Arial,Helvetica Neue,Helvetica,sans-serif; font-size:48px; text-anchor:end;\" transform=\"rotate(0, 129.898, 439.447)\" x=\"129.898\" y=\"439.447\">1.0</text>\n",
       "</g>\n",
       "<g clip-path=\"url(#clip0500)\">\n",
       "<text style=\"fill:#000000; fill-opacity:1; font-family:Arial,Helvetica Neue,Helvetica,sans-serif; font-size:48px; text-anchor:end;\" transform=\"rotate(0, 129.898, 115.387)\" x=\"129.898\" y=\"115.387\">1.5</text>\n",
       "</g>\n",
       "<polyline clip-path=\"url(#clip0502)\" style=\"stroke:#cc1414; stroke-width:4; stroke-opacity:1; fill:none\" points=\"\n",
       "  216.13,1070.07 236.874,1062.24 257.618,1039.92 278.362,1004.9 299.106,959.081 319.85,904.373 340.593,842.697 361.337,775.934 382.081,705.898 402.825,634.309 \n",
       "  423.569,562.767 444.313,492.739 465.057,425.537 485.801,362.306 506.545,304.028 527.289,251.507 548.033,205.366 568.777,166.064 589.521,133.895 610.265,108.99 \n",
       "  631.009,91.3306 651.753,80.7679 672.497,77.0351 693.24,79.7526 713.984,88.4498 734.728,102.58 755.472,121.541 776.216,144.69 796.96,171.352 817.704,200.832 \n",
       "  838.448,232.434 859.192,265.485 879.936,299.335 900.68,333.365 921.424,366.995 942.168,399.684 962.912,430.958 983.656,460.406 1004.4,487.683 1025.14,512.492 \n",
       "  1045.89,534.599 1066.63,553.835 1087.38,570.099 1108.12,583.354 1128.86,593.609 1149.61,600.919 1170.35,605.381 1191.1,607.13 1211.84,606.344 1232.58,603.237 \n",
       "  1253.33,598.047 1274.07,591.007 1294.81,582.379 1315.56,572.422 1336.3,561.396 1357.05,549.56 1377.79,537.167 1398.53,524.452 1419.28,511.65 1440.02,498.973 \n",
       "  1460.77,486.61 1481.51,474.725 1502.25,463.458 1523,452.924 1543.74,443.227 1564.49,434.449 1585.23,426.65 1605.97,419.861 1626.72,414.093 1647.46,409.329 \n",
       "  1668.21,405.543 1688.95,402.701 1709.69,400.752 1730.44,399.636 1751.18,399.282 1771.93,399.611 1792.67,400.535 1813.41,401.963 1834.16,403.813 1854.9,405.994 \n",
       "  1875.65,408.419 1896.39,411.004 1917.13,413.675 1937.88,416.36 1958.62,418.995 1979.36,421.522 2000.11,423.888 2020.85,426.047 2041.6,427.962 2062.34,429.607 \n",
       "  2083.08,430.964 2103.83,432.025 2124.57,432.786 2145.32,433.247 2166.06,433.413 2186.8,433.297 2207.55,432.913 2228.29,432.285 2249.04,431.44 2269.78,430.409 \n",
       "  2290.52,429.219 \n",
       "  \"/>\n",
       "</svg>\n"
      ]
     },
     "execution_count": 43,
     "metadata": {},
     "output_type": "execute_result"
    }
   ],
   "source": [
    "stepplot((Control*G)/(1+Control*G))\n",
    "xlabel!(\"\")\n",
    "ylabel!(\"\")\n",
    "title!(\"\")"
   ]
  },
  {
   "cell_type": "code",
   "execution_count": 34,
   "metadata": {},
   "outputs": [
    {
     "ename": "UndefVarError",
     "evalue": "UndefVarError: Control not defined",
     "output_type": "error",
     "traceback": [
      "UndefVarError: Control not defined",
      "",
      "Stacktrace:",
      " [1] top-level scope at In[34]:1"
     ]
    }
   ],
   "source": [
    "rlocusplot((Control*G)/(1+Control*G))\n",
    "xlabel!(\"\")\n",
    "ylabel!(\"\")\n",
    "title!(\"\")\n",
    "xlims!(-3.2, 0.5)\n",
    "ylims!(-5,5)"
   ]
  },
  {
   "cell_type": "code",
   "execution_count": 51,
   "metadata": {},
   "outputs": [
    {
     "data": {
      "image/svg+xml": [
       "<?xml version=\"1.0\" encoding=\"utf-8\"?>\n",
       "<svg xmlns=\"http://www.w3.org/2000/svg\" xmlns:xlink=\"http://www.w3.org/1999/xlink\" width=\"600\" height=\"300\" viewBox=\"0 0 2400 1200\">\n",
       "<defs>\n",
       "  <clipPath id=\"clip3300\">\n",
       "    <rect x=\"0\" y=\"0\" width=\"2400\" height=\"1200\"/>\n",
       "  </clipPath>\n",
       "</defs>\n",
       "<polygon clip-path=\"url(#clip3300)\" points=\"\n",
       "0,1200 2400,1200 2400,0 0,0 \n",
       "  \" fill=\"#ffffff\" fill-rule=\"evenodd\" fill-opacity=\"1\"/>\n",
       "<defs>\n",
       "  <clipPath id=\"clip3301\">\n",
       "    <rect x=\"480\" y=\"0\" width=\"1681\" height=\"1200\"/>\n",
       "  </clipPath>\n",
       "</defs>\n",
       "<polygon clip-path=\"url(#clip3300)\" points=\"\n",
       "195.389,489.875 2352.76,489.875 2352.76,47.2441 195.389,47.2441 \n",
       "  \" fill=\"#ffffff\" fill-rule=\"evenodd\" fill-opacity=\"1\"/>\n",
       "<defs>\n",
       "  <clipPath id=\"clip3302\">\n",
       "    <rect x=\"195\" y=\"47\" width=\"2158\" height=\"444\"/>\n",
       "  </clipPath>\n",
       "</defs>\n",
       "<polyline clip-path=\"url(#clip3302)\" style=\"stroke:#000000; stroke-width:2; stroke-opacity:0.1; fill:none\" points=\"\n",
       "  256.447,489.875 256.447,47.2441 \n",
       "  \"/>\n",
       "<polyline clip-path=\"url(#clip3302)\" style=\"stroke:#000000; stroke-width:2; stroke-opacity:0.1; fill:none\" points=\"\n",
       "  562.783,489.875 562.783,47.2441 \n",
       "  \"/>\n",
       "<polyline clip-path=\"url(#clip3302)\" style=\"stroke:#000000; stroke-width:2; stroke-opacity:0.1; fill:none\" points=\"\n",
       "  741.978,489.875 741.978,47.2441 \n",
       "  \"/>\n",
       "<polyline clip-path=\"url(#clip3302)\" style=\"stroke:#000000; stroke-width:2; stroke-opacity:0.1; fill:none\" points=\"\n",
       "  869.119,489.875 869.119,47.2441 \n",
       "  \"/>\n",
       "<polyline clip-path=\"url(#clip3302)\" style=\"stroke:#000000; stroke-width:2; stroke-opacity:0.1; fill:none\" points=\"\n",
       "  967.737,489.875 967.737,47.2441 \n",
       "  \"/>\n",
       "<polyline clip-path=\"url(#clip3302)\" style=\"stroke:#000000; stroke-width:2; stroke-opacity:0.1; fill:none\" points=\"\n",
       "  1048.31,489.875 1048.31,47.2441 \n",
       "  \"/>\n",
       "<polyline clip-path=\"url(#clip3302)\" style=\"stroke:#000000; stroke-width:2; stroke-opacity:0.1; fill:none\" points=\"\n",
       "  1116.44,489.875 1116.44,47.2441 \n",
       "  \"/>\n",
       "<polyline clip-path=\"url(#clip3302)\" style=\"stroke:#000000; stroke-width:2; stroke-opacity:0.1; fill:none\" points=\"\n",
       "  1175.45,489.875 1175.45,47.2441 \n",
       "  \"/>\n",
       "<polyline clip-path=\"url(#clip3302)\" style=\"stroke:#000000; stroke-width:2; stroke-opacity:0.1; fill:none\" points=\"\n",
       "  1227.51,489.875 1227.51,47.2441 \n",
       "  \"/>\n",
       "<polyline clip-path=\"url(#clip3302)\" style=\"stroke:#000000; stroke-width:2; stroke-opacity:0.1; fill:none\" points=\"\n",
       "  1274.07,489.875 1274.07,47.2441 \n",
       "  \"/>\n",
       "<polyline clip-path=\"url(#clip3302)\" style=\"stroke:#000000; stroke-width:2; stroke-opacity:0.1; fill:none\" points=\"\n",
       "  1580.41,489.875 1580.41,47.2441 \n",
       "  \"/>\n",
       "<polyline clip-path=\"url(#clip3302)\" style=\"stroke:#000000; stroke-width:2; stroke-opacity:0.1; fill:none\" points=\"\n",
       "  1759.6,489.875 1759.6,47.2441 \n",
       "  \"/>\n",
       "<polyline clip-path=\"url(#clip3302)\" style=\"stroke:#000000; stroke-width:2; stroke-opacity:0.1; fill:none\" points=\"\n",
       "  1886.74,489.875 1886.74,47.2441 \n",
       "  \"/>\n",
       "<polyline clip-path=\"url(#clip3302)\" style=\"stroke:#000000; stroke-width:2; stroke-opacity:0.1; fill:none\" points=\"\n",
       "  1985.36,489.875 1985.36,47.2441 \n",
       "  \"/>\n",
       "<polyline clip-path=\"url(#clip3302)\" style=\"stroke:#000000; stroke-width:2; stroke-opacity:0.1; fill:none\" points=\"\n",
       "  2065.94,489.875 2065.94,47.2441 \n",
       "  \"/>\n",
       "<polyline clip-path=\"url(#clip3302)\" style=\"stroke:#000000; stroke-width:2; stroke-opacity:0.1; fill:none\" points=\"\n",
       "  2134.07,489.875 2134.07,47.2441 \n",
       "  \"/>\n",
       "<polyline clip-path=\"url(#clip3302)\" style=\"stroke:#000000; stroke-width:2; stroke-opacity:0.1; fill:none\" points=\"\n",
       "  2193.08,489.875 2193.08,47.2441 \n",
       "  \"/>\n",
       "<polyline clip-path=\"url(#clip3302)\" style=\"stroke:#000000; stroke-width:2; stroke-opacity:0.1; fill:none\" points=\"\n",
       "  2245.13,489.875 2245.13,47.2441 \n",
       "  \"/>\n",
       "<polyline clip-path=\"url(#clip3302)\" style=\"stroke:#000000; stroke-width:2; stroke-opacity:0.1; fill:none\" points=\"\n",
       "  2291.7,489.875 2291.7,47.2441 \n",
       "  \"/>\n",
       "<polyline clip-path=\"url(#clip3302)\" style=\"stroke:#000000; stroke-width:2; stroke-opacity:0.1; fill:none\" points=\"\n",
       "  195.389,390.756 2352.76,390.756 \n",
       "  \"/>\n",
       "<polyline clip-path=\"url(#clip3302)\" style=\"stroke:#000000; stroke-width:2; stroke-opacity:0.1; fill:none\" points=\"\n",
       "  195.389,335.237 2352.76,335.237 \n",
       "  \"/>\n",
       "<polyline clip-path=\"url(#clip3302)\" style=\"stroke:#000000; stroke-width:2; stroke-opacity:0.1; fill:none\" points=\"\n",
       "  195.389,295.846 2352.76,295.846 \n",
       "  \"/>\n",
       "<polyline clip-path=\"url(#clip3302)\" style=\"stroke:#000000; stroke-width:2; stroke-opacity:0.1; fill:none\" points=\"\n",
       "  195.389,265.292 2352.76,265.292 \n",
       "  \"/>\n",
       "<polyline clip-path=\"url(#clip3302)\" style=\"stroke:#000000; stroke-width:2; stroke-opacity:0.1; fill:none\" points=\"\n",
       "  195.389,240.327 2352.76,240.327 \n",
       "  \"/>\n",
       "<polyline clip-path=\"url(#clip3302)\" style=\"stroke:#000000; stroke-width:2; stroke-opacity:0.1; fill:none\" points=\"\n",
       "  195.389,219.22 2352.76,219.22 \n",
       "  \"/>\n",
       "<polyline clip-path=\"url(#clip3302)\" style=\"stroke:#000000; stroke-width:2; stroke-opacity:0.1; fill:none\" points=\"\n",
       "  195.389,200.936 2352.76,200.936 \n",
       "  \"/>\n",
       "<polyline clip-path=\"url(#clip3302)\" style=\"stroke:#000000; stroke-width:2; stroke-opacity:0.1; fill:none\" points=\"\n",
       "  195.389,184.808 2352.76,184.808 \n",
       "  \"/>\n",
       "<polyline clip-path=\"url(#clip3302)\" style=\"stroke:#000000; stroke-width:2; stroke-opacity:0.1; fill:none\" points=\"\n",
       "  195.389,170.381 2352.76,170.381 \n",
       "  \"/>\n",
       "<polyline clip-path=\"url(#clip3302)\" style=\"stroke:#000000; stroke-width:2; stroke-opacity:0.1; fill:none\" points=\"\n",
       "  195.389,75.471 2352.76,75.471 \n",
       "  \"/>\n",
       "<polyline clip-path=\"url(#clip3300)\" style=\"stroke:#000000; stroke-width:4; stroke-opacity:1; fill:none\" points=\"\n",
       "  195.389,489.875 2352.76,489.875 \n",
       "  \"/>\n",
       "<polyline clip-path=\"url(#clip3300)\" style=\"stroke:#000000; stroke-width:4; stroke-opacity:1; fill:none\" points=\"\n",
       "  195.389,489.875 195.389,47.2441 \n",
       "  \"/>\n",
       "<polyline clip-path=\"url(#clip3300)\" style=\"stroke:#000000; stroke-width:4; stroke-opacity:1; fill:none\" points=\"\n",
       "  256.447,489.875 256.447,483.236 \n",
       "  \"/>\n",
       "<polyline clip-path=\"url(#clip3300)\" style=\"stroke:#000000; stroke-width:4; stroke-opacity:1; fill:none\" points=\"\n",
       "  562.783,489.875 562.783,483.236 \n",
       "  \"/>\n",
       "<polyline clip-path=\"url(#clip3300)\" style=\"stroke:#000000; stroke-width:4; stroke-opacity:1; fill:none\" points=\"\n",
       "  741.978,489.875 741.978,483.236 \n",
       "  \"/>\n",
       "<polyline clip-path=\"url(#clip3300)\" style=\"stroke:#000000; stroke-width:4; stroke-opacity:1; fill:none\" points=\"\n",
       "  869.119,489.875 869.119,483.236 \n",
       "  \"/>\n",
       "<polyline clip-path=\"url(#clip3300)\" style=\"stroke:#000000; stroke-width:4; stroke-opacity:1; fill:none\" points=\"\n",
       "  967.737,489.875 967.737,483.236 \n",
       "  \"/>\n",
       "<polyline clip-path=\"url(#clip3300)\" style=\"stroke:#000000; stroke-width:4; stroke-opacity:1; fill:none\" points=\"\n",
       "  1048.31,489.875 1048.31,483.236 \n",
       "  \"/>\n",
       "<polyline clip-path=\"url(#clip3300)\" style=\"stroke:#000000; stroke-width:4; stroke-opacity:1; fill:none\" points=\"\n",
       "  1116.44,489.875 1116.44,483.236 \n",
       "  \"/>\n",
       "<polyline clip-path=\"url(#clip3300)\" style=\"stroke:#000000; stroke-width:4; stroke-opacity:1; fill:none\" points=\"\n",
       "  1175.45,489.875 1175.45,483.236 \n",
       "  \"/>\n",
       "<polyline clip-path=\"url(#clip3300)\" style=\"stroke:#000000; stroke-width:4; stroke-opacity:1; fill:none\" points=\"\n",
       "  1227.51,489.875 1227.51,483.236 \n",
       "  \"/>\n",
       "<polyline clip-path=\"url(#clip3300)\" style=\"stroke:#000000; stroke-width:4; stroke-opacity:1; fill:none\" points=\"\n",
       "  1274.07,489.875 1274.07,483.236 \n",
       "  \"/>\n",
       "<polyline clip-path=\"url(#clip3300)\" style=\"stroke:#000000; stroke-width:4; stroke-opacity:1; fill:none\" points=\"\n",
       "  1580.41,489.875 1580.41,483.236 \n",
       "  \"/>\n",
       "<polyline clip-path=\"url(#clip3300)\" style=\"stroke:#000000; stroke-width:4; stroke-opacity:1; fill:none\" points=\"\n",
       "  1759.6,489.875 1759.6,483.236 \n",
       "  \"/>\n",
       "<polyline clip-path=\"url(#clip3300)\" style=\"stroke:#000000; stroke-width:4; stroke-opacity:1; fill:none\" points=\"\n",
       "  1886.74,489.875 1886.74,483.236 \n",
       "  \"/>\n",
       "<polyline clip-path=\"url(#clip3300)\" style=\"stroke:#000000; stroke-width:4; stroke-opacity:1; fill:none\" points=\"\n",
       "  1985.36,489.875 1985.36,483.236 \n",
       "  \"/>\n",
       "<polyline clip-path=\"url(#clip3300)\" style=\"stroke:#000000; stroke-width:4; stroke-opacity:1; fill:none\" points=\"\n",
       "  2065.94,489.875 2065.94,483.236 \n",
       "  \"/>\n",
       "<polyline clip-path=\"url(#clip3300)\" style=\"stroke:#000000; stroke-width:4; stroke-opacity:1; fill:none\" points=\"\n",
       "  2134.07,489.875 2134.07,483.236 \n",
       "  \"/>\n",
       "<polyline clip-path=\"url(#clip3300)\" style=\"stroke:#000000; stroke-width:4; stroke-opacity:1; fill:none\" points=\"\n",
       "  2193.08,489.875 2193.08,483.236 \n",
       "  \"/>\n",
       "<polyline clip-path=\"url(#clip3300)\" style=\"stroke:#000000; stroke-width:4; stroke-opacity:1; fill:none\" points=\"\n",
       "  2245.13,489.875 2245.13,483.236 \n",
       "  \"/>\n",
       "<polyline clip-path=\"url(#clip3300)\" style=\"stroke:#000000; stroke-width:4; stroke-opacity:1; fill:none\" points=\"\n",
       "  2291.7,489.875 2291.7,483.236 \n",
       "  \"/>\n",
       "<polyline clip-path=\"url(#clip3300)\" style=\"stroke:#000000; stroke-width:4; stroke-opacity:1; fill:none\" points=\"\n",
       "  195.389,390.756 227.75,390.756 \n",
       "  \"/>\n",
       "<polyline clip-path=\"url(#clip3300)\" style=\"stroke:#000000; stroke-width:4; stroke-opacity:1; fill:none\" points=\"\n",
       "  195.389,335.237 227.75,335.237 \n",
       "  \"/>\n",
       "<polyline clip-path=\"url(#clip3300)\" style=\"stroke:#000000; stroke-width:4; stroke-opacity:1; fill:none\" points=\"\n",
       "  195.389,295.846 227.75,295.846 \n",
       "  \"/>\n",
       "<polyline clip-path=\"url(#clip3300)\" style=\"stroke:#000000; stroke-width:4; stroke-opacity:1; fill:none\" points=\"\n",
       "  195.389,265.292 227.75,265.292 \n",
       "  \"/>\n",
       "<polyline clip-path=\"url(#clip3300)\" style=\"stroke:#000000; stroke-width:4; stroke-opacity:1; fill:none\" points=\"\n",
       "  195.389,240.327 227.75,240.327 \n",
       "  \"/>\n",
       "<polyline clip-path=\"url(#clip3300)\" style=\"stroke:#000000; stroke-width:4; stroke-opacity:1; fill:none\" points=\"\n",
       "  195.389,219.22 227.75,219.22 \n",
       "  \"/>\n",
       "<polyline clip-path=\"url(#clip3300)\" style=\"stroke:#000000; stroke-width:4; stroke-opacity:1; fill:none\" points=\"\n",
       "  195.389,200.936 227.75,200.936 \n",
       "  \"/>\n",
       "<polyline clip-path=\"url(#clip3300)\" style=\"stroke:#000000; stroke-width:4; stroke-opacity:1; fill:none\" points=\"\n",
       "  195.389,184.808 227.75,184.808 \n",
       "  \"/>\n",
       "<polyline clip-path=\"url(#clip3300)\" style=\"stroke:#000000; stroke-width:4; stroke-opacity:1; fill:none\" points=\"\n",
       "  195.389,170.381 227.75,170.381 \n",
       "  \"/>\n",
       "<polyline clip-path=\"url(#clip3300)\" style=\"stroke:#000000; stroke-width:4; stroke-opacity:1; fill:none\" points=\"\n",
       "  195.389,75.471 227.75,75.471 \n",
       "  \"/>\n",
       "<g clip-path=\"url(#clip3300)\">\n",
       "<text style=\"fill:#000000; fill-opacity:1; font-family:Arial,Helvetica Neue,Helvetica,sans-serif; font-size:48px; text-anchor:start;\" transform=\"rotate(0, 207.393, 564.883)\" x=\"207.393\" y=\"564.883\">10</text>\n",
       "</g>\n",
       "<g clip-path=\"url(#clip3300)\">\n",
       "<text style=\"fill:#000000; fill-opacity:1; font-family:Arial,Helvetica Neue,Helvetica,sans-serif; font-size:38px; text-anchor:start;\" transform=\"rotate(0, 260.917, 537.472)\" x=\"260.917\" y=\"537.472\">-</text>\n",
       "</g>\n",
       "<g clip-path=\"url(#clip3300)\">\n",
       "<text style=\"fill:#000000; fill-opacity:1; font-family:Arial,Helvetica Neue,Helvetica,sans-serif; font-size:38px; text-anchor:start;\" transform=\"rotate(0, 283.757, 537.472)\" x=\"283.757\" y=\"537.472\">1</text>\n",
       "</g>\n",
       "<g clip-path=\"url(#clip3300)\">\n",
       "<image width=\"1\" height=\"1\" xlink:href=\"data:image/png;base64,\n",
       "iVBORw0KGgoAAAANSUhEUgAAAAEAAAABCAYAAAAfFcSJAAAADUlEQVQImWP4//8/AwAI/AL+hc2r\n",
       "NAAAAABJRU5ErkJggg==\n",
       "\" transform=\"translate(562, 500)\"/>\n",
       "</g>\n",
       "<g clip-path=\"url(#clip3300)\">\n",
       "<image width=\"1\" height=\"1\" xlink:href=\"data:image/png;base64,\n",
       "iVBORw0KGgoAAAANSUhEUgAAAAEAAAABCAYAAAAfFcSJAAAADUlEQVQImWP4//8/AwAI/AL+hc2r\n",
       "NAAAAABJRU5ErkJggg==\n",
       "\" transform=\"translate(741, 500)\"/>\n",
       "</g>\n",
       "<g clip-path=\"url(#clip3300)\">\n",
       "<image width=\"1\" height=\"1\" xlink:href=\"data:image/png;base64,\n",
       "iVBORw0KGgoAAAANSUhEUgAAAAEAAAABCAYAAAAfFcSJAAAADUlEQVQImWP4//8/AwAI/AL+hc2r\n",
       "NAAAAABJRU5ErkJggg==\n",
       "\" transform=\"translate(869, 500)\"/>\n",
       "</g>\n",
       "<g clip-path=\"url(#clip3300)\">\n",
       "<image width=\"1\" height=\"1\" xlink:href=\"data:image/png;base64,\n",
       "iVBORw0KGgoAAAANSUhEUgAAAAEAAAABCAYAAAAfFcSJAAAADUlEQVQImWP4//8/AwAI/AL+hc2r\n",
       "NAAAAABJRU5ErkJggg==\n",
       "\" transform=\"translate(967, 500)\"/>\n",
       "</g>\n",
       "<g clip-path=\"url(#clip3300)\">\n",
       "<image width=\"1\" height=\"1\" xlink:href=\"data:image/png;base64,\n",
       "iVBORw0KGgoAAAANSUhEUgAAAAEAAAABCAYAAAAfFcSJAAAADUlEQVQImWP4//8/AwAI/AL+hc2r\n",
       "NAAAAABJRU5ErkJggg==\n",
       "\" transform=\"translate(1048, 500)\"/>\n",
       "</g>\n",
       "<g clip-path=\"url(#clip3300)\">\n",
       "<image width=\"1\" height=\"1\" xlink:href=\"data:image/png;base64,\n",
       "iVBORw0KGgoAAAANSUhEUgAAAAEAAAABCAYAAAAfFcSJAAAADUlEQVQImWP4//8/AwAI/AL+hc2r\n",
       "NAAAAABJRU5ErkJggg==\n",
       "\" transform=\"translate(1116, 500)\"/>\n",
       "</g>\n",
       "<g clip-path=\"url(#clip3300)\">\n",
       "<image width=\"1\" height=\"1\" xlink:href=\"data:image/png;base64,\n",
       "iVBORw0KGgoAAAANSUhEUgAAAAEAAAABCAYAAAAfFcSJAAAADUlEQVQImWP4//8/AwAI/AL+hc2r\n",
       "NAAAAABJRU5ErkJggg==\n",
       "\" transform=\"translate(1175, 500)\"/>\n",
       "</g>\n",
       "<g clip-path=\"url(#clip3300)\">\n",
       "<image width=\"1\" height=\"1\" xlink:href=\"data:image/png;base64,\n",
       "iVBORw0KGgoAAAANSUhEUgAAAAEAAAABCAYAAAAfFcSJAAAADUlEQVQImWP4//8/AwAI/AL+hc2r\n",
       "NAAAAABJRU5ErkJggg==\n",
       "\" transform=\"translate(1227, 500)\"/>\n",
       "</g>\n",
       "<g clip-path=\"url(#clip3300)\">\n",
       "<text style=\"fill:#000000; fill-opacity:1; font-family:Arial,Helvetica Neue,Helvetica,sans-serif; font-size:48px; text-anchor:start;\" transform=\"rotate(0, 1236.44, 564.883)\" x=\"1236.44\" y=\"564.883\">10</text>\n",
       "</g>\n",
       "<g clip-path=\"url(#clip3300)\">\n",
       "<text style=\"fill:#000000; fill-opacity:1; font-family:Arial,Helvetica Neue,Helvetica,sans-serif; font-size:38px; text-anchor:start;\" transform=\"rotate(0, 1289.96, 537.472)\" x=\"1289.96\" y=\"537.472\">0</text>\n",
       "</g>\n",
       "<g clip-path=\"url(#clip3300)\">\n",
       "<image width=\"1\" height=\"1\" xlink:href=\"data:image/png;base64,\n",
       "iVBORw0KGgoAAAANSUhEUgAAAAEAAAABCAYAAAAfFcSJAAAADUlEQVQImWP4//8/AwAI/AL+hc2r\n",
       "NAAAAABJRU5ErkJggg==\n",
       "\" transform=\"translate(1580, 500)\"/>\n",
       "</g>\n",
       "<g clip-path=\"url(#clip3300)\">\n",
       "<image width=\"1\" height=\"1\" xlink:href=\"data:image/png;base64,\n",
       "iVBORw0KGgoAAAANSUhEUgAAAAEAAAABCAYAAAAfFcSJAAAADUlEQVQImWP4//8/AwAI/AL+hc2r\n",
       "NAAAAABJRU5ErkJggg==\n",
       "\" transform=\"translate(1759, 500)\"/>\n",
       "</g>\n",
       "<g clip-path=\"url(#clip3300)\">\n",
       "<image width=\"1\" height=\"1\" xlink:href=\"data:image/png;base64,\n",
       "iVBORw0KGgoAAAANSUhEUgAAAAEAAAABCAYAAAAfFcSJAAAADUlEQVQImWP4//8/AwAI/AL+hc2r\n",
       "NAAAAABJRU5ErkJggg==\n",
       "\" transform=\"translate(1886, 500)\"/>\n",
       "</g>\n",
       "<g clip-path=\"url(#clip3300)\">\n",
       "<image width=\"1\" height=\"1\" xlink:href=\"data:image/png;base64,\n",
       "iVBORw0KGgoAAAANSUhEUgAAAAEAAAABCAYAAAAfFcSJAAAADUlEQVQImWP4//8/AwAI/AL+hc2r\n",
       "NAAAAABJRU5ErkJggg==\n",
       "\" transform=\"translate(1985, 500)\"/>\n",
       "</g>\n",
       "<g clip-path=\"url(#clip3300)\">\n",
       "<image width=\"1\" height=\"1\" xlink:href=\"data:image/png;base64,\n",
       "iVBORw0KGgoAAAANSUhEUgAAAAEAAAABCAYAAAAfFcSJAAAADUlEQVQImWP4//8/AwAI/AL+hc2r\n",
       "NAAAAABJRU5ErkJggg==\n",
       "\" transform=\"translate(2065, 500)\"/>\n",
       "</g>\n",
       "<g clip-path=\"url(#clip3300)\">\n",
       "<image width=\"1\" height=\"1\" xlink:href=\"data:image/png;base64,\n",
       "iVBORw0KGgoAAAANSUhEUgAAAAEAAAABCAYAAAAfFcSJAAAADUlEQVQImWP4//8/AwAI/AL+hc2r\n",
       "NAAAAABJRU5ErkJggg==\n",
       "\" transform=\"translate(2134, 500)\"/>\n",
       "</g>\n",
       "<g clip-path=\"url(#clip3300)\">\n",
       "<image width=\"1\" height=\"1\" xlink:href=\"data:image/png;base64,\n",
       "iVBORw0KGgoAAAANSUhEUgAAAAEAAAABCAYAAAAfFcSJAAAADUlEQVQImWP4//8/AwAI/AL+hc2r\n",
       "NAAAAABJRU5ErkJggg==\n",
       "\" transform=\"translate(2193, 500)\"/>\n",
       "</g>\n",
       "<g clip-path=\"url(#clip3300)\">\n",
       "<image width=\"1\" height=\"1\" xlink:href=\"data:image/png;base64,\n",
       "iVBORw0KGgoAAAANSUhEUgAAAAEAAAABCAYAAAAfFcSJAAAADUlEQVQImWP4//8/AwAI/AL+hc2r\n",
       "NAAAAABJRU5ErkJggg==\n",
       "\" transform=\"translate(2245, 500)\"/>\n",
       "</g>\n",
       "<g clip-path=\"url(#clip3300)\">\n",
       "<text style=\"fill:#000000; fill-opacity:1; font-family:Arial,Helvetica Neue,Helvetica,sans-serif; font-size:48px; text-anchor:start;\" transform=\"rotate(0, 2254.06, 564.883)\" x=\"2254.06\" y=\"564.883\">10</text>\n",
       "</g>\n",
       "<g clip-path=\"url(#clip3300)\">\n",
       "<text style=\"fill:#000000; fill-opacity:1; font-family:Arial,Helvetica Neue,Helvetica,sans-serif; font-size:38px; text-anchor:start;\" transform=\"rotate(0, 2307.59, 537.472)\" x=\"2307.59\" y=\"537.472\">1</text>\n",
       "</g>\n",
       "<g clip-path=\"url(#clip3300)\">\n",
       "<image width=\"1\" height=\"1\" xlink:href=\"data:image/png;base64,\n",
       "iVBORw0KGgoAAAANSUhEUgAAAAEAAAABCAYAAAAfFcSJAAAADUlEQVQImWP4//8/AwAI/AL+hc2r\n",
       "NAAAAABJRU5ErkJggg==\n",
       "\" transform=\"translate(170, 390)\"/>\n",
       "</g>\n",
       "<g clip-path=\"url(#clip3300)\">\n",
       "<image width=\"1\" height=\"1\" xlink:href=\"data:image/png;base64,\n",
       "iVBORw0KGgoAAAANSUhEUgAAAAEAAAABCAYAAAAfFcSJAAAADUlEQVQImWP4//8/AwAI/AL+hc2r\n",
       "NAAAAABJRU5ErkJggg==\n",
       "\" transform=\"translate(170, 335)\"/>\n",
       "</g>\n",
       "<g clip-path=\"url(#clip3300)\">\n",
       "<image width=\"1\" height=\"1\" xlink:href=\"data:image/png;base64,\n",
       "iVBORw0KGgoAAAANSUhEUgAAAAEAAAABCAYAAAAfFcSJAAAADUlEQVQImWP4//8/AwAI/AL+hc2r\n",
       "NAAAAABJRU5ErkJggg==\n",
       "\" transform=\"translate(170, 295)\"/>\n",
       "</g>\n",
       "<g clip-path=\"url(#clip3300)\">\n",
       "<image width=\"1\" height=\"1\" xlink:href=\"data:image/png;base64,\n",
       "iVBORw0KGgoAAAANSUhEUgAAAAEAAAABCAYAAAAfFcSJAAAADUlEQVQImWP4//8/AwAI/AL+hc2r\n",
       "NAAAAABJRU5ErkJggg==\n",
       "\" transform=\"translate(170, 265)\"/>\n",
       "</g>\n",
       "<g clip-path=\"url(#clip3300)\">\n",
       "<image width=\"1\" height=\"1\" xlink:href=\"data:image/png;base64,\n",
       "iVBORw0KGgoAAAANSUhEUgAAAAEAAAABCAYAAAAfFcSJAAAADUlEQVQImWP4//8/AwAI/AL+hc2r\n",
       "NAAAAABJRU5ErkJggg==\n",
       "\" transform=\"translate(170, 240)\"/>\n",
       "</g>\n",
       "<g clip-path=\"url(#clip3300)\">\n",
       "<image width=\"1\" height=\"1\" xlink:href=\"data:image/png;base64,\n",
       "iVBORw0KGgoAAAANSUhEUgAAAAEAAAABCAYAAAAfFcSJAAAADUlEQVQImWP4//8/AwAI/AL+hc2r\n",
       "NAAAAABJRU5ErkJggg==\n",
       "\" transform=\"translate(170, 219)\"/>\n",
       "</g>\n",
       "<g clip-path=\"url(#clip3300)\">\n",
       "<image width=\"1\" height=\"1\" xlink:href=\"data:image/png;base64,\n",
       "iVBORw0KGgoAAAANSUhEUgAAAAEAAAABCAYAAAAfFcSJAAAADUlEQVQImWP4//8/AwAI/AL+hc2r\n",
       "NAAAAABJRU5ErkJggg==\n",
       "\" transform=\"translate(170, 200)\"/>\n",
       "</g>\n",
       "<g clip-path=\"url(#clip3300)\">\n",
       "<image width=\"1\" height=\"1\" xlink:href=\"data:image/png;base64,\n",
       "iVBORw0KGgoAAAANSUhEUgAAAAEAAAABCAYAAAAfFcSJAAAADUlEQVQImWP4//8/AwAI/AL+hc2r\n",
       "NAAAAABJRU5ErkJggg==\n",
       "\" transform=\"translate(170, 184)\"/>\n",
       "</g>\n",
       "<g clip-path=\"url(#clip3300)\">\n",
       "<text style=\"fill:#000000; fill-opacity:1; font-family:Arial,Helvetica Neue,Helvetica,sans-serif; font-size:48px; text-anchor:start;\" transform=\"rotate(0, 96.1201, 194.109)\" x=\"96.1201\" y=\"194.109\">10</text>\n",
       "</g>\n",
       "<g clip-path=\"url(#clip3300)\">\n",
       "<text style=\"fill:#000000; fill-opacity:1; font-family:Arial,Helvetica Neue,Helvetica,sans-serif; font-size:38px; text-anchor:start;\" transform=\"rotate(0, 149.645, 166.698)\" x=\"149.645\" y=\"166.698\">0</text>\n",
       "</g>\n",
       "<g clip-path=\"url(#clip3300)\">\n",
       "<image width=\"1\" height=\"1\" xlink:href=\"data:image/png;base64,\n",
       "iVBORw0KGgoAAAANSUhEUgAAAAEAAAABCAYAAAAfFcSJAAAADUlEQVQImWP4//8/AwAI/AL+hc2r\n",
       "NAAAAABJRU5ErkJggg==\n",
       "\" transform=\"translate(170, 75)\"/>\n",
       "</g>\n",
       "<polyline clip-path=\"url(#clip3302)\" style=\"stroke:#cc1414; stroke-width:4; stroke-opacity:1; fill:none\" points=\"\n",
       "  256.447,170.545 266.674,170.553 276.902,170.561 287.129,170.569 297.356,170.578 307.584,170.587 317.811,170.597 328.039,170.607 338.266,170.618 348.493,170.629 \n",
       "  358.721,170.64 368.948,170.653 379.176,170.665 389.403,170.679 399.63,170.693 409.858,170.707 420.085,170.723 430.312,170.739 440.54,170.755 450.767,170.773 \n",
       "  460.995,170.791 471.222,170.81 481.449,170.83 491.677,170.851 501.904,170.873 512.132,170.896 522.359,170.92 532.586,170.945 542.814,170.971 553.041,170.999 \n",
       "  563.269,171.027 573.496,171.057 583.723,171.088 593.951,171.121 604.178,171.155 614.406,171.19 624.633,171.227 634.86,171.266 645.088,171.307 655.315,171.349 \n",
       "  665.543,171.393 675.77,171.438 685.997,171.486 696.225,171.536 706.452,171.587 716.68,171.641 726.907,171.697 737.134,171.755 747.362,171.815 757.589,171.878 \n",
       "  767.817,171.943 778.044,172.01 788.271,172.08 798.499,172.152 808.726,172.226 818.953,172.303 829.181,172.381 839.408,172.462 849.636,172.546 859.863,172.631 \n",
       "  870.09,172.717 880.318,172.806 890.545,172.895 900.773,172.986 911,173.077 921.227,173.168 931.455,173.258 941.682,173.347 951.91,173.434 962.137,173.517 \n",
       "  972.364,173.597 982.592,173.67 992.819,173.737 1003.05,173.794 1013.27,173.84 1023.5,173.873 1033.73,173.889 1043.96,173.886 1054.18,173.86 1064.41,173.806 \n",
       "  1074.64,173.722 1084.87,173.6 1095.09,173.436 1105.32,173.224 1115.55,172.956 1125.78,172.626 1136,172.226 1146.23,171.746 1156.46,171.18 1166.68,170.517 \n",
       "  1176.91,169.749 1187.14,168.868 1197.37,167.865 1207.59,166.733 1217.82,165.465 1228.05,164.057 1238.28,162.506 1248.5,160.811 1258.73,158.973 1268.96,156.994 \n",
       "  1279.19,154.882 1289.41,152.644 1299.64,150.29 1309.87,147.832 1320.1,145.283 1330.32,142.655 1340.55,139.965 1350.78,137.224 1361.01,134.445 1371.23,131.642 \n",
       "  1381.46,128.823 1391.69,125.999 1401.92,123.176 1412.14,120.358 1422.37,117.551 1432.6,114.755 1442.82,111.972 1453.05,109.201 1463.28,106.44 1473.51,103.687 \n",
       "  1483.73,100.94 1493.96,98.1968 1504.19,95.4553 1514.42,92.7144 1524.64,89.9744 1534.87,87.2371 1545.1,84.5066 1555.33,81.7898 1565.55,79.0971 1575.78,76.4431 \n",
       "  1586.01,73.8475 1596.24,71.3359 1606.46,68.9405 1616.69,66.7014 1626.92,64.6666 1637.15,62.8923 1647.37,61.4429 1657.6,60.3892 1667.83,59.8066 1678.05,59.7714 \n",
       "  1688.28,60.356 1698.51,61.624 1708.74,63.6245 1718.96,66.3874 1729.19,69.9204 1739.42,74.2078 1749.65,79.2123 1759.87,84.8785 1770.1,91.1377 1780.33,97.9137 \n",
       "  1790.56,105.128 1800.78,112.703 1811.01,120.566 1821.24,128.654 1831.47,136.909 1841.69,145.281 1851.92,153.73 1862.15,162.221 1872.38,170.728 1882.6,179.228 \n",
       "  1892.83,187.704 1903.06,196.143 1913.28,204.534 1923.51,212.87 1933.74,221.145 1943.97,229.357 1954.19,237.503 1964.42,245.582 1974.65,253.593 1984.88,261.537 \n",
       "  1995.1,269.416 2005.33,277.229 2015.56,284.979 2025.79,292.668 2036.01,300.298 2046.24,307.87 2056.47,315.387 2066.7,322.851 2076.92,330.264 2087.15,337.627 \n",
       "  2097.38,344.944 2107.61,352.216 2117.83,359.445 2128.06,366.633 2138.29,373.781 2148.51,380.893 2158.74,387.968 2168.97,395.009 2179.2,402.018 2189.42,408.995 \n",
       "  2199.65,415.943 2209.88,422.863 2220.11,429.756 2230.33,436.623 2240.56,443.465 2250.79,450.284 2261.02,457.081 2271.24,463.857 2281.47,470.612 2291.7,477.348 \n",
       "  \n",
       "  \"/>\n",
       "<polygon clip-path=\"url(#clip3300)\" points=\"\n",
       "195.389,1089.88 2352.76,1089.88 2352.76,647.244 195.389,647.244 \n",
       "  \" fill=\"#ffffff\" fill-rule=\"evenodd\" fill-opacity=\"1\"/>\n",
       "<defs>\n",
       "  <clipPath id=\"clip3303\">\n",
       "    <rect x=\"195\" y=\"647\" width=\"2158\" height=\"444\"/>\n",
       "  </clipPath>\n",
       "</defs>\n",
       "<polyline clip-path=\"url(#clip3303)\" style=\"stroke:#000000; stroke-width:2; stroke-opacity:0.1; fill:none\" points=\"\n",
       "  256.447,1089.88 256.447,647.244 \n",
       "  \"/>\n",
       "<polyline clip-path=\"url(#clip3303)\" style=\"stroke:#000000; stroke-width:2; stroke-opacity:0.1; fill:none\" points=\"\n",
       "  562.783,1089.88 562.783,647.244 \n",
       "  \"/>\n",
       "<polyline clip-path=\"url(#clip3303)\" style=\"stroke:#000000; stroke-width:2; stroke-opacity:0.1; fill:none\" points=\"\n",
       "  741.978,1089.88 741.978,647.244 \n",
       "  \"/>\n",
       "<polyline clip-path=\"url(#clip3303)\" style=\"stroke:#000000; stroke-width:2; stroke-opacity:0.1; fill:none\" points=\"\n",
       "  869.119,1089.88 869.119,647.244 \n",
       "  \"/>\n",
       "<polyline clip-path=\"url(#clip3303)\" style=\"stroke:#000000; stroke-width:2; stroke-opacity:0.1; fill:none\" points=\"\n",
       "  967.737,1089.88 967.737,647.244 \n",
       "  \"/>\n",
       "<polyline clip-path=\"url(#clip3303)\" style=\"stroke:#000000; stroke-width:2; stroke-opacity:0.1; fill:none\" points=\"\n",
       "  1048.31,1089.88 1048.31,647.244 \n",
       "  \"/>\n",
       "<polyline clip-path=\"url(#clip3303)\" style=\"stroke:#000000; stroke-width:2; stroke-opacity:0.1; fill:none\" points=\"\n",
       "  1116.44,1089.88 1116.44,647.244 \n",
       "  \"/>\n",
       "<polyline clip-path=\"url(#clip3303)\" style=\"stroke:#000000; stroke-width:2; stroke-opacity:0.1; fill:none\" points=\"\n",
       "  1175.45,1089.88 1175.45,647.244 \n",
       "  \"/>\n",
       "<polyline clip-path=\"url(#clip3303)\" style=\"stroke:#000000; stroke-width:2; stroke-opacity:0.1; fill:none\" points=\"\n",
       "  1227.51,1089.88 1227.51,647.244 \n",
       "  \"/>\n",
       "<polyline clip-path=\"url(#clip3303)\" style=\"stroke:#000000; stroke-width:2; stroke-opacity:0.1; fill:none\" points=\"\n",
       "  1274.07,1089.88 1274.07,647.244 \n",
       "  \"/>\n",
       "<polyline clip-path=\"url(#clip3303)\" style=\"stroke:#000000; stroke-width:2; stroke-opacity:0.1; fill:none\" points=\"\n",
       "  1580.41,1089.88 1580.41,647.244 \n",
       "  \"/>\n",
       "<polyline clip-path=\"url(#clip3303)\" style=\"stroke:#000000; stroke-width:2; stroke-opacity:0.1; fill:none\" points=\"\n",
       "  1759.6,1089.88 1759.6,647.244 \n",
       "  \"/>\n",
       "<polyline clip-path=\"url(#clip3303)\" style=\"stroke:#000000; stroke-width:2; stroke-opacity:0.1; fill:none\" points=\"\n",
       "  1886.74,1089.88 1886.74,647.244 \n",
       "  \"/>\n",
       "<polyline clip-path=\"url(#clip3303)\" style=\"stroke:#000000; stroke-width:2; stroke-opacity:0.1; fill:none\" points=\"\n",
       "  1985.36,1089.88 1985.36,647.244 \n",
       "  \"/>\n",
       "<polyline clip-path=\"url(#clip3303)\" style=\"stroke:#000000; stroke-width:2; stroke-opacity:0.1; fill:none\" points=\"\n",
       "  2065.94,1089.88 2065.94,647.244 \n",
       "  \"/>\n",
       "<polyline clip-path=\"url(#clip3303)\" style=\"stroke:#000000; stroke-width:2; stroke-opacity:0.1; fill:none\" points=\"\n",
       "  2134.07,1089.88 2134.07,647.244 \n",
       "  \"/>\n",
       "<polyline clip-path=\"url(#clip3303)\" style=\"stroke:#000000; stroke-width:2; stroke-opacity:0.1; fill:none\" points=\"\n",
       "  2193.08,1089.88 2193.08,647.244 \n",
       "  \"/>\n",
       "<polyline clip-path=\"url(#clip3303)\" style=\"stroke:#000000; stroke-width:2; stroke-opacity:0.1; fill:none\" points=\"\n",
       "  2245.13,1089.88 2245.13,647.244 \n",
       "  \"/>\n",
       "<polyline clip-path=\"url(#clip3303)\" style=\"stroke:#000000; stroke-width:2; stroke-opacity:0.1; fill:none\" points=\"\n",
       "  2291.7,1089.88 2291.7,647.244 \n",
       "  \"/>\n",
       "<polyline clip-path=\"url(#clip3303)\" style=\"stroke:#000000; stroke-width:2; stroke-opacity:0.1; fill:none\" points=\"\n",
       "  195.389,1032.93 2352.76,1032.93 \n",
       "  \"/>\n",
       "<polyline clip-path=\"url(#clip3303)\" style=\"stroke:#000000; stroke-width:2; stroke-opacity:0.1; fill:none\" points=\"\n",
       "  195.389,908.536 2352.76,908.536 \n",
       "  \"/>\n",
       "<polyline clip-path=\"url(#clip3303)\" style=\"stroke:#000000; stroke-width:2; stroke-opacity:0.1; fill:none\" points=\"\n",
       "  195.389,784.146 2352.76,784.146 \n",
       "  \"/>\n",
       "<polyline clip-path=\"url(#clip3303)\" style=\"stroke:#000000; stroke-width:2; stroke-opacity:0.1; fill:none\" points=\"\n",
       "  195.389,659.755 2352.76,659.755 \n",
       "  \"/>\n",
       "<polyline clip-path=\"url(#clip3300)\" style=\"stroke:#000000; stroke-width:4; stroke-opacity:1; fill:none\" points=\"\n",
       "  195.389,1089.88 2352.76,1089.88 \n",
       "  \"/>\n",
       "<polyline clip-path=\"url(#clip3300)\" style=\"stroke:#000000; stroke-width:4; stroke-opacity:1; fill:none\" points=\"\n",
       "  195.389,1089.88 195.389,647.244 \n",
       "  \"/>\n",
       "<polyline clip-path=\"url(#clip3300)\" style=\"stroke:#000000; stroke-width:4; stroke-opacity:1; fill:none\" points=\"\n",
       "  256.447,1089.88 256.447,1083.24 \n",
       "  \"/>\n",
       "<polyline clip-path=\"url(#clip3300)\" style=\"stroke:#000000; stroke-width:4; stroke-opacity:1; fill:none\" points=\"\n",
       "  562.783,1089.88 562.783,1083.24 \n",
       "  \"/>\n",
       "<polyline clip-path=\"url(#clip3300)\" style=\"stroke:#000000; stroke-width:4; stroke-opacity:1; fill:none\" points=\"\n",
       "  741.978,1089.88 741.978,1083.24 \n",
       "  \"/>\n",
       "<polyline clip-path=\"url(#clip3300)\" style=\"stroke:#000000; stroke-width:4; stroke-opacity:1; fill:none\" points=\"\n",
       "  869.119,1089.88 869.119,1083.24 \n",
       "  \"/>\n",
       "<polyline clip-path=\"url(#clip3300)\" style=\"stroke:#000000; stroke-width:4; stroke-opacity:1; fill:none\" points=\"\n",
       "  967.737,1089.88 967.737,1083.24 \n",
       "  \"/>\n",
       "<polyline clip-path=\"url(#clip3300)\" style=\"stroke:#000000; stroke-width:4; stroke-opacity:1; fill:none\" points=\"\n",
       "  1048.31,1089.88 1048.31,1083.24 \n",
       "  \"/>\n",
       "<polyline clip-path=\"url(#clip3300)\" style=\"stroke:#000000; stroke-width:4; stroke-opacity:1; fill:none\" points=\"\n",
       "  1116.44,1089.88 1116.44,1083.24 \n",
       "  \"/>\n",
       "<polyline clip-path=\"url(#clip3300)\" style=\"stroke:#000000; stroke-width:4; stroke-opacity:1; fill:none\" points=\"\n",
       "  1175.45,1089.88 1175.45,1083.24 \n",
       "  \"/>\n",
       "<polyline clip-path=\"url(#clip3300)\" style=\"stroke:#000000; stroke-width:4; stroke-opacity:1; fill:none\" points=\"\n",
       "  1227.51,1089.88 1227.51,1083.24 \n",
       "  \"/>\n",
       "<polyline clip-path=\"url(#clip3300)\" style=\"stroke:#000000; stroke-width:4; stroke-opacity:1; fill:none\" points=\"\n",
       "  1274.07,1089.88 1274.07,1083.24 \n",
       "  \"/>\n",
       "<polyline clip-path=\"url(#clip3300)\" style=\"stroke:#000000; stroke-width:4; stroke-opacity:1; fill:none\" points=\"\n",
       "  1580.41,1089.88 1580.41,1083.24 \n",
       "  \"/>\n",
       "<polyline clip-path=\"url(#clip3300)\" style=\"stroke:#000000; stroke-width:4; stroke-opacity:1; fill:none\" points=\"\n",
       "  1759.6,1089.88 1759.6,1083.24 \n",
       "  \"/>\n",
       "<polyline clip-path=\"url(#clip3300)\" style=\"stroke:#000000; stroke-width:4; stroke-opacity:1; fill:none\" points=\"\n",
       "  1886.74,1089.88 1886.74,1083.24 \n",
       "  \"/>\n",
       "<polyline clip-path=\"url(#clip3300)\" style=\"stroke:#000000; stroke-width:4; stroke-opacity:1; fill:none\" points=\"\n",
       "  1985.36,1089.88 1985.36,1083.24 \n",
       "  \"/>\n",
       "<polyline clip-path=\"url(#clip3300)\" style=\"stroke:#000000; stroke-width:4; stroke-opacity:1; fill:none\" points=\"\n",
       "  2065.94,1089.88 2065.94,1083.24 \n",
       "  \"/>\n",
       "<polyline clip-path=\"url(#clip3300)\" style=\"stroke:#000000; stroke-width:4; stroke-opacity:1; fill:none\" points=\"\n",
       "  2134.07,1089.88 2134.07,1083.24 \n",
       "  \"/>\n",
       "<polyline clip-path=\"url(#clip3300)\" style=\"stroke:#000000; stroke-width:4; stroke-opacity:1; fill:none\" points=\"\n",
       "  2193.08,1089.88 2193.08,1083.24 \n",
       "  \"/>\n",
       "<polyline clip-path=\"url(#clip3300)\" style=\"stroke:#000000; stroke-width:4; stroke-opacity:1; fill:none\" points=\"\n",
       "  2245.13,1089.88 2245.13,1083.24 \n",
       "  \"/>\n",
       "<polyline clip-path=\"url(#clip3300)\" style=\"stroke:#000000; stroke-width:4; stroke-opacity:1; fill:none\" points=\"\n",
       "  2291.7,1089.88 2291.7,1083.24 \n",
       "  \"/>\n",
       "<polyline clip-path=\"url(#clip3300)\" style=\"stroke:#000000; stroke-width:4; stroke-opacity:1; fill:none\" points=\"\n",
       "  195.389,1032.93 227.75,1032.93 \n",
       "  \"/>\n",
       "<polyline clip-path=\"url(#clip3300)\" style=\"stroke:#000000; stroke-width:4; stroke-opacity:1; fill:none\" points=\"\n",
       "  195.389,908.536 227.75,908.536 \n",
       "  \"/>\n",
       "<polyline clip-path=\"url(#clip3300)\" style=\"stroke:#000000; stroke-width:4; stroke-opacity:1; fill:none\" points=\"\n",
       "  195.389,784.146 227.75,784.146 \n",
       "  \"/>\n",
       "<polyline clip-path=\"url(#clip3300)\" style=\"stroke:#000000; stroke-width:4; stroke-opacity:1; fill:none\" points=\"\n",
       "  195.389,659.755 227.75,659.755 \n",
       "  \"/>\n",
       "<g clip-path=\"url(#clip3300)\">\n",
       "<text style=\"fill:#000000; fill-opacity:1; font-family:Arial,Helvetica Neue,Helvetica,sans-serif; font-size:48px; text-anchor:start;\" transform=\"rotate(0, 207.393, 1164.88)\" x=\"207.393\" y=\"1164.88\">10</text>\n",
       "</g>\n",
       "<g clip-path=\"url(#clip3300)\">\n",
       "<text style=\"fill:#000000; fill-opacity:1; font-family:Arial,Helvetica Neue,Helvetica,sans-serif; font-size:38px; text-anchor:start;\" transform=\"rotate(0, 260.917, 1137.47)\" x=\"260.917\" y=\"1137.47\">-</text>\n",
       "</g>\n",
       "<g clip-path=\"url(#clip3300)\">\n",
       "<text style=\"fill:#000000; fill-opacity:1; font-family:Arial,Helvetica Neue,Helvetica,sans-serif; font-size:38px; text-anchor:start;\" transform=\"rotate(0, 283.757, 1137.47)\" x=\"283.757\" y=\"1137.47\">1</text>\n",
       "</g>\n",
       "<g clip-path=\"url(#clip3300)\">\n",
       "<image width=\"1\" height=\"1\" xlink:href=\"data:image/png;base64,\n",
       "iVBORw0KGgoAAAANSUhEUgAAAAEAAAABCAYAAAAfFcSJAAAADUlEQVQImWP4//8/AwAI/AL+hc2r\n",
       "NAAAAABJRU5ErkJggg==\n",
       "\" transform=\"translate(562, 1100)\"/>\n",
       "</g>\n",
       "<g clip-path=\"url(#clip3300)\">\n",
       "<image width=\"1\" height=\"1\" xlink:href=\"data:image/png;base64,\n",
       "iVBORw0KGgoAAAANSUhEUgAAAAEAAAABCAYAAAAfFcSJAAAADUlEQVQImWP4//8/AwAI/AL+hc2r\n",
       "NAAAAABJRU5ErkJggg==\n",
       "\" transform=\"translate(741, 1100)\"/>\n",
       "</g>\n",
       "<g clip-path=\"url(#clip3300)\">\n",
       "<image width=\"1\" height=\"1\" xlink:href=\"data:image/png;base64,\n",
       "iVBORw0KGgoAAAANSUhEUgAAAAEAAAABCAYAAAAfFcSJAAAADUlEQVQImWP4//8/AwAI/AL+hc2r\n",
       "NAAAAABJRU5ErkJggg==\n",
       "\" transform=\"translate(869, 1100)\"/>\n",
       "</g>\n",
       "<g clip-path=\"url(#clip3300)\">\n",
       "<image width=\"1\" height=\"1\" xlink:href=\"data:image/png;base64,\n",
       "iVBORw0KGgoAAAANSUhEUgAAAAEAAAABCAYAAAAfFcSJAAAADUlEQVQImWP4//8/AwAI/AL+hc2r\n",
       "NAAAAABJRU5ErkJggg==\n",
       "\" transform=\"translate(967, 1100)\"/>\n",
       "</g>\n",
       "<g clip-path=\"url(#clip3300)\">\n",
       "<image width=\"1\" height=\"1\" xlink:href=\"data:image/png;base64,\n",
       "iVBORw0KGgoAAAANSUhEUgAAAAEAAAABCAYAAAAfFcSJAAAADUlEQVQImWP4//8/AwAI/AL+hc2r\n",
       "NAAAAABJRU5ErkJggg==\n",
       "\" transform=\"translate(1048, 1100)\"/>\n",
       "</g>\n",
       "<g clip-path=\"url(#clip3300)\">\n",
       "<image width=\"1\" height=\"1\" xlink:href=\"data:image/png;base64,\n",
       "iVBORw0KGgoAAAANSUhEUgAAAAEAAAABCAYAAAAfFcSJAAAADUlEQVQImWP4//8/AwAI/AL+hc2r\n",
       "NAAAAABJRU5ErkJggg==\n",
       "\" transform=\"translate(1116, 1100)\"/>\n",
       "</g>\n",
       "<g clip-path=\"url(#clip3300)\">\n",
       "<image width=\"1\" height=\"1\" xlink:href=\"data:image/png;base64,\n",
       "iVBORw0KGgoAAAANSUhEUgAAAAEAAAABCAYAAAAfFcSJAAAADUlEQVQImWP4//8/AwAI/AL+hc2r\n",
       "NAAAAABJRU5ErkJggg==\n",
       "\" transform=\"translate(1175, 1100)\"/>\n",
       "</g>\n",
       "<g clip-path=\"url(#clip3300)\">\n",
       "<image width=\"1\" height=\"1\" xlink:href=\"data:image/png;base64,\n",
       "iVBORw0KGgoAAAANSUhEUgAAAAEAAAABCAYAAAAfFcSJAAAADUlEQVQImWP4//8/AwAI/AL+hc2r\n",
       "NAAAAABJRU5ErkJggg==\n",
       "\" transform=\"translate(1227, 1100)\"/>\n",
       "</g>\n",
       "<g clip-path=\"url(#clip3300)\">\n",
       "<text style=\"fill:#000000; fill-opacity:1; font-family:Arial,Helvetica Neue,Helvetica,sans-serif; font-size:48px; text-anchor:start;\" transform=\"rotate(0, 1236.44, 1164.88)\" x=\"1236.44\" y=\"1164.88\">10</text>\n",
       "</g>\n",
       "<g clip-path=\"url(#clip3300)\">\n",
       "<text style=\"fill:#000000; fill-opacity:1; font-family:Arial,Helvetica Neue,Helvetica,sans-serif; font-size:38px; text-anchor:start;\" transform=\"rotate(0, 1289.96, 1137.47)\" x=\"1289.96\" y=\"1137.47\">0</text>\n",
       "</g>\n",
       "<g clip-path=\"url(#clip3300)\">\n",
       "<image width=\"1\" height=\"1\" xlink:href=\"data:image/png;base64,\n",
       "iVBORw0KGgoAAAANSUhEUgAAAAEAAAABCAYAAAAfFcSJAAAADUlEQVQImWP4//8/AwAI/AL+hc2r\n",
       "NAAAAABJRU5ErkJggg==\n",
       "\" transform=\"translate(1580, 1100)\"/>\n",
       "</g>\n",
       "<g clip-path=\"url(#clip3300)\">\n",
       "<image width=\"1\" height=\"1\" xlink:href=\"data:image/png;base64,\n",
       "iVBORw0KGgoAAAANSUhEUgAAAAEAAAABCAYAAAAfFcSJAAAADUlEQVQImWP4//8/AwAI/AL+hc2r\n",
       "NAAAAABJRU5ErkJggg==\n",
       "\" transform=\"translate(1759, 1100)\"/>\n",
       "</g>\n",
       "<g clip-path=\"url(#clip3300)\">\n",
       "<image width=\"1\" height=\"1\" xlink:href=\"data:image/png;base64,\n",
       "iVBORw0KGgoAAAANSUhEUgAAAAEAAAABCAYAAAAfFcSJAAAADUlEQVQImWP4//8/AwAI/AL+hc2r\n",
       "NAAAAABJRU5ErkJggg==\n",
       "\" transform=\"translate(1886, 1100)\"/>\n",
       "</g>\n",
       "<g clip-path=\"url(#clip3300)\">\n",
       "<image width=\"1\" height=\"1\" xlink:href=\"data:image/png;base64,\n",
       "iVBORw0KGgoAAAANSUhEUgAAAAEAAAABCAYAAAAfFcSJAAAADUlEQVQImWP4//8/AwAI/AL+hc2r\n",
       "NAAAAABJRU5ErkJggg==\n",
       "\" transform=\"translate(1985, 1100)\"/>\n",
       "</g>\n",
       "<g clip-path=\"url(#clip3300)\">\n",
       "<image width=\"1\" height=\"1\" xlink:href=\"data:image/png;base64,\n",
       "iVBORw0KGgoAAAANSUhEUgAAAAEAAAABCAYAAAAfFcSJAAAADUlEQVQImWP4//8/AwAI/AL+hc2r\n",
       "NAAAAABJRU5ErkJggg==\n",
       "\" transform=\"translate(2065, 1100)\"/>\n",
       "</g>\n",
       "<g clip-path=\"url(#clip3300)\">\n",
       "<image width=\"1\" height=\"1\" xlink:href=\"data:image/png;base64,\n",
       "iVBORw0KGgoAAAANSUhEUgAAAAEAAAABCAYAAAAfFcSJAAAADUlEQVQImWP4//8/AwAI/AL+hc2r\n",
       "NAAAAABJRU5ErkJggg==\n",
       "\" transform=\"translate(2134, 1100)\"/>\n",
       "</g>\n",
       "<g clip-path=\"url(#clip3300)\">\n",
       "<image width=\"1\" height=\"1\" xlink:href=\"data:image/png;base64,\n",
       "iVBORw0KGgoAAAANSUhEUgAAAAEAAAABCAYAAAAfFcSJAAAADUlEQVQImWP4//8/AwAI/AL+hc2r\n",
       "NAAAAABJRU5ErkJggg==\n",
       "\" transform=\"translate(2193, 1100)\"/>\n",
       "</g>\n",
       "<g clip-path=\"url(#clip3300)\">\n",
       "<image width=\"1\" height=\"1\" xlink:href=\"data:image/png;base64,\n",
       "iVBORw0KGgoAAAANSUhEUgAAAAEAAAABCAYAAAAfFcSJAAAADUlEQVQImWP4//8/AwAI/AL+hc2r\n",
       "NAAAAABJRU5ErkJggg==\n",
       "\" transform=\"translate(2245, 1100)\"/>\n",
       "</g>\n",
       "<g clip-path=\"url(#clip3300)\">\n",
       "<text style=\"fill:#000000; fill-opacity:1; font-family:Arial,Helvetica Neue,Helvetica,sans-serif; font-size:48px; text-anchor:start;\" transform=\"rotate(0, 2254.06, 1164.88)\" x=\"2254.06\" y=\"1164.88\">10</text>\n",
       "</g>\n",
       "<g clip-path=\"url(#clip3300)\">\n",
       "<text style=\"fill:#000000; fill-opacity:1; font-family:Arial,Helvetica Neue,Helvetica,sans-serif; font-size:38px; text-anchor:start;\" transform=\"rotate(0, 2307.59, 1137.47)\" x=\"2307.59\" y=\"1137.47\">1</text>\n",
       "</g>\n",
       "<g clip-path=\"url(#clip3300)\">\n",
       "<text style=\"fill:#000000; fill-opacity:1; font-family:Arial,Helvetica Neue,Helvetica,sans-serif; font-size:48px; text-anchor:end;\" transform=\"rotate(0, 171.389, 1050.43)\" x=\"171.389\" y=\"1050.43\">-150</text>\n",
       "</g>\n",
       "<g clip-path=\"url(#clip3300)\">\n",
       "<text style=\"fill:#000000; fill-opacity:1; font-family:Arial,Helvetica Neue,Helvetica,sans-serif; font-size:48px; text-anchor:end;\" transform=\"rotate(0, 171.389, 926.036)\" x=\"171.389\" y=\"926.036\">-100</text>\n",
       "</g>\n",
       "<g clip-path=\"url(#clip3300)\">\n",
       "<text style=\"fill:#000000; fill-opacity:1; font-family:Arial,Helvetica Neue,Helvetica,sans-serif; font-size:48px; text-anchor:end;\" transform=\"rotate(0, 171.389, 801.646)\" x=\"171.389\" y=\"801.646\">-50</text>\n",
       "</g>\n",
       "<g clip-path=\"url(#clip3300)\">\n",
       "<text style=\"fill:#000000; fill-opacity:1; font-family:Arial,Helvetica Neue,Helvetica,sans-serif; font-size:48px; text-anchor:end;\" transform=\"rotate(0, 171.389, 677.255)\" x=\"171.389\" y=\"677.255\">0</text>\n",
       "</g>\n",
       "<polyline clip-path=\"url(#clip3303)\" style=\"stroke:#cc1414; stroke-width:4; stroke-opacity:1; fill:none\" points=\"\n",
       "  256.447,662.574 266.674,662.638 276.902,662.704 287.129,662.771 297.356,662.84 307.584,662.91 317.811,662.982 328.039,663.055 338.266,663.129 348.493,663.206 \n",
       "  358.721,663.284 368.948,663.363 379.176,663.444 389.403,663.527 399.63,663.611 409.858,663.697 420.085,663.785 430.312,663.875 440.54,663.966 450.767,664.059 \n",
       "  460.995,664.154 471.222,664.25 481.449,664.349 491.677,664.449 501.904,664.551 512.132,664.655 522.359,664.76 532.586,664.868 542.814,664.977 553.041,665.088 \n",
       "  563.269,665.2 573.496,665.315 583.723,665.431 593.951,665.549 604.178,665.668 614.406,665.789 624.633,665.911 634.86,666.035 645.088,666.16 655.315,666.287 \n",
       "  665.543,666.415 675.77,666.544 685.997,666.673 696.225,666.804 706.452,666.935 716.68,667.067 726.907,667.199 737.134,667.331 747.362,667.463 757.589,667.595 \n",
       "  767.817,667.726 778.044,667.856 788.271,667.984 798.499,668.111 808.726,668.236 818.953,668.358 829.181,668.477 839.408,668.592 849.636,668.703 859.863,668.809 \n",
       "  870.09,668.909 880.318,669.003 890.545,669.09 900.773,669.168 911,669.238 921.227,669.297 931.455,669.345 941.682,669.38 951.91,669.401 962.137,669.407 \n",
       "  972.364,669.397 982.592,669.368 992.819,669.319 1003.05,669.249 1013.27,669.156 1023.5,669.037 1033.73,668.892 1043.96,668.718 1054.18,668.514 1064.41,668.278 \n",
       "  1074.64,668.009 1084.87,667.706 1095.09,667.368 1105.32,666.995 1115.55,666.587 1125.78,666.145 1136,665.671 1146.23,665.167 1156.46,664.639 1166.68,664.091 \n",
       "  1176.91,663.53 1187.14,662.964 1197.37,662.404 1207.59,661.86 1217.82,661.346 1228.05,660.877 1238.28,660.468 1248.5,660.136 1258.73,659.898 1268.96,659.771 \n",
       "  1279.19,659.772 1289.41,659.916 1299.64,660.217 1309.87,660.689 1320.1,661.34 1330.32,662.18 1340.55,663.213 1350.78,664.443 1361.01,665.872 1371.23,667.498 \n",
       "  1381.46,669.319 1391.69,671.333 1401.92,673.536 1412.14,675.924 1422.37,678.494 1432.6,681.242 1442.82,684.167 1453.05,687.269 1463.28,690.549 1473.51,694.009 \n",
       "  1483.73,697.655 1493.96,701.494 1504.19,705.536 1514.42,709.791 1524.64,714.275 1534.87,719.003 1545.1,723.995 1555.33,729.272 1565.55,734.857 1575.78,740.775 \n",
       "  1586.01,747.053 1596.24,753.717 1606.46,760.794 1616.69,768.308 1626.92,776.279 1637.15,784.722 1647.37,793.641 1657.6,803.031 1667.83,812.87 1678.05,823.118 \n",
       "  1688.28,833.719 1698.51,844.596 1708.74,855.656 1718.96,866.796 1729.19,877.904 1739.42,888.872 1749.65,899.596 1759.87,909.989 1770.1,919.979 1780.33,929.513 \n",
       "  1790.56,938.558 1800.78,947.096 1811.01,955.124 1821.24,962.65 1831.47,969.692 1841.69,976.27 1851.92,982.412 1862.15,988.146 1872.38,993.498 1882.6,998.498 \n",
       "  1892.83,1003.17 1903.06,1007.55 1913.28,1011.64 1923.51,1015.49 1933.74,1019.1 1943.97,1022.49 1954.19,1025.69 1964.42,1028.71 1974.65,1031.56 1984.88,1034.25 \n",
       "  1995.1,1036.8 2005.33,1039.22 2015.56,1041.52 2025.79,1043.7 2036.01,1045.78 2046.24,1047.76 2056.47,1049.65 2066.7,1051.46 2076.92,1053.18 2087.15,1054.83 \n",
       "  2097.38,1056.41 2107.61,1057.92 2117.83,1059.38 2128.06,1060.77 2138.29,1062.11 2148.51,1063.4 2158.74,1064.65 2168.97,1065.84 2179.2,1066.99 2189.42,1068.1 \n",
       "  2199.65,1069.17 2209.88,1070.21 2220.11,1071.21 2230.33,1072.17 2240.56,1073.11 2250.79,1074.01 2261.02,1074.89 2271.24,1075.73 2281.47,1076.55 2291.7,1077.35 \n",
       "  \n",
       "  \"/>\n",
       "</svg>\n"
      ]
     },
     "execution_count": 51,
     "metadata": {},
     "output_type": "execute_result"
    }
   ],
   "source": [
    "bodeplot((Control*G)/(1+Control*G))\n",
    "xlabel!(\"\")\n",
    "ylabel!(\"\")\n",
    "title!(\"\")"
   ]
  },
  {
   "cell_type": "code",
   "execution_count": 49,
   "metadata": {},
   "outputs": [
    {
     "data": {
      "text/plain": [
       "8-element Array{Complex{Float64},1}:\n",
       "   -2.893289196304497 + 0.0im               \n",
       "  -0.8468093810449009 + 2.593658750846635im \n",
       "  -0.8468093810449009 - 2.593658750846635im \n",
       "  -0.6531906189550952 + 0.9574332335329im   \n",
       "  -0.6531906189550952 - 0.9574332335329im   \n",
       " -0.05335540184775119 + 0.8297035528624044im\n",
       " -0.05335540184775119 - 0.8297035528624044im\n",
       "                  0.0 + 0.0im               "
      ]
     },
     "execution_count": 49,
     "metadata": {},
     "output_type": "execute_result"
    }
   ],
   "source": [
    "pole((Control*G)/(1+Control*G))"
   ]
  },
  {
   "cell_type": "code",
   "execution_count": 52,
   "metadata": {},
   "outputs": [],
   "source": [
    "savefig(\"myplot.png\")\n",
    "savefig(\"myplot.svg\")\n",
    "savefig(\"myplot.pdf\")"
   ]
  },
  {
   "cell_type": "markdown",
   "metadata": {},
   "source": [
    "![](./myplot.svg)"
   ]
  },
  {
   "cell_type": "code",
   "execution_count": 13,
   "metadata": {},
   "outputs": [
    {
     "data": {
      "application/vnd.webio.node+json": {
       "children": [
        {
         "children": [
          {
           "children": [
            {
             "children": [
              {
               "children": [
                {
                 "children": [
                  "nsamples"
                 ],
                 "instanceArgs": {
                  "namespace": "html",
                  "tag": "label"
                 },
                 "nodeType": "DOM",
                 "props": {
                  "className": "interact ",
                  "style": {
                   "padding": "5px 10px 0px 10px"
                  }
                 },
                 "type": "node"
                }
               ],
               "instanceArgs": {
                "namespace": "html",
                "tag": "div"
               },
               "nodeType": "DOM",
               "props": {
                "className": "interact-flex-row-left"
               },
               "type": "node"
              },
              {
               "children": [
                {
                 "children": [],
                 "instanceArgs": {
                  "namespace": "html",
                  "tag": "input"
                 },
                 "nodeType": "DOM",
                 "props": {
                  "attributes": {
                   "data-bind": "numericValue: index, valueUpdate: 'input', event: {change: function (){this.changes(this.changes()+1)}}",
                   "orient": "horizontal",
                   "type": "range"
                  },
                  "className": "slider slider is-fullwidth",
                  "max": 200,
                  "min": 1,
                  "step": 1,
                  "style": {}
                 },
                 "type": "node"
                }
               ],
               "instanceArgs": {
                "namespace": "html",
                "tag": "div"
               },
               "nodeType": "DOM",
               "props": {
                "className": "interact-flex-row-center"
               },
               "type": "node"
              },
              {
               "children": [
                {
                 "children": [],
                 "instanceArgs": {
                  "namespace": "html",
                  "tag": "p"
                 },
                 "nodeType": "DOM",
                 "props": {
                  "attributes": {
                   "data-bind": "text: formatted_val"
                  }
                 },
                 "type": "node"
                }
               ],
               "instanceArgs": {
                "namespace": "html",
                "tag": "div"
               },
               "nodeType": "DOM",
               "props": {
                "className": "interact-flex-row-right"
               },
               "type": "node"
              }
             ],
             "instanceArgs": {
              "namespace": "html",
              "tag": "div"
             },
             "nodeType": "DOM",
             "props": {
              "className": "interact-flex-row interact-widget"
             },
             "type": "node"
            }
           ],
           "instanceArgs": {
            "handlers": {
             "changes": [
              "(function (val){return (val!=this.model[\"changes\"]()) ? (this.valueFromJulia[\"changes\"]=true, this.model[\"changes\"](val)) : undefined})"
             ],
             "index": [
              "(function (val){return (val!=this.model[\"index\"]()) ? (this.valueFromJulia[\"index\"]=true, this.model[\"index\"](val)) : undefined})"
             ]
            },
            "id": "14956934195493447977",
            "imports": {
             "data": [
              {
               "name": "knockout",
               "type": "js",
               "url": "/assetserver/1418600122391479348d6b70f8fc3978f3015b35-knockout.js"
              },
              {
               "name": "knockout_punches",
               "type": "js",
               "url": "/assetserver/cd3f841ffabd7ce8124a19658c02643a3dce952c-knockout_punches.js"
              },
              {
               "name": null,
               "type": "js",
               "url": "/assetserver/ac53a1d0dfbe96bbdab46a2c15a1a1f5029edf92-all.js"
              },
              {
               "name": null,
               "type": "css",
               "url": "/assetserver/a90858055ce62250f15db56d945919371e115fff-style.css"
              },
              {
               "name": null,
               "type": "css",
               "url": "/assetserver/901695cb7baff74a76878a59f7f01c86f6c24ff1-bulma_confined.min.css"
              }
             ],
             "type": "async_block"
            },
            "mount_callbacks": [
             "function () {\n    var handler = (function (ko, koPunches) {\n    ko.punches.enableAll();\n    ko.bindingHandlers.numericValue = {\n        init: function(element, valueAccessor, allBindings, data, context) {\n            var stringified = ko.observable(ko.unwrap(valueAccessor()));\n            stringified.subscribe(function(value) {\n                var val = parseFloat(value);\n                if (!isNaN(val)) {\n                    valueAccessor()(val);\n                }\n            });\n            valueAccessor().subscribe(function(value) {\n                var str = JSON.stringify(value);\n                if ((str == \"0\") && ([\"-0\", \"-0.\"].indexOf(stringified()) >= 0))\n                     return;\n                 if ([\"null\", \"\"].indexOf(str) >= 0)\n                     return;\n                stringified(str);\n            });\n            ko.applyBindingsToNode(\n                element,\n                {\n                    value: stringified,\n                    valueUpdate: allBindings.get('valueUpdate'),\n                },\n                context,\n            );\n        }\n    };\n    var json_data = {\"formatted_vals\":[\"1\",\"2\",\"3\",\"4\",\"5\",\"6\",\"7\",\"8\",\"9\",\"10\",\"11\",\"12\",\"13\",\"14\",\"15\",\"16\",\"17\",\"18\",\"19\",\"20\",\"21\",\"22\",\"23\",\"24\",\"25\",\"26\",\"27\",\"28\",\"29\",\"30\",\"31\",\"32\",\"33\",\"34\",\"35\",\"36\",\"37\",\"38\",\"39\",\"40\",\"41\",\"42\",\"43\",\"44\",\"45\",\"46\",\"47\",\"48\",\"49\",\"50\",\"51\",\"52\",\"53\",\"54\",\"55\",\"56\",\"57\",\"58\",\"59\",\"60\",\"61\",\"62\",\"63\",\"64\",\"65\",\"66\",\"67\",\"68\",\"69\",\"70\",\"71\",\"72\",\"73\",\"74\",\"75\",\"76\",\"77\",\"78\",\"79\",\"80\",\"81\",\"82\",\"83\",\"84\",\"85\",\"86\",\"87\",\"88\",\"89\",\"90\",\"91\",\"92\",\"93\",\"94\",\"95\",\"96\",\"97\",\"98\",\"99\",\"100\",\"101\",\"102\",\"103\",\"104\",\"105\",\"106\",\"107\",\"108\",\"109\",\"110\",\"111\",\"112\",\"113\",\"114\",\"115\",\"116\",\"117\",\"118\",\"119\",\"120\",\"121\",\"122\",\"123\",\"124\",\"125\",\"126\",\"127\",\"128\",\"129\",\"130\",\"131\",\"132\",\"133\",\"134\",\"135\",\"136\",\"137\",\"138\",\"139\",\"140\",\"141\",\"142\",\"143\",\"144\",\"145\",\"146\",\"147\",\"148\",\"149\",\"150\",\"151\",\"152\",\"153\",\"154\",\"155\",\"156\",\"157\",\"158\",\"159\",\"160\",\"161\",\"162\",\"163\",\"164\",\"165\",\"166\",\"167\",\"168\",\"169\",\"170\",\"171\",\"172\",\"173\",\"174\",\"175\",\"176\",\"177\",\"178\",\"179\",\"180\",\"181\",\"182\",\"183\",\"184\",\"185\",\"186\",\"187\",\"188\",\"189\",\"190\",\"191\",\"192\",\"193\",\"194\",\"195\",\"196\",\"197\",\"198\",\"199\",\"200\"],\"changes\":WebIO.getval({\"name\":\"changes\",\"scope\":\"14956934195493447977\",\"id\":\"ob_122\",\"type\":\"observable\"}),\"index\":WebIO.getval({\"name\":\"index\",\"scope\":\"14956934195493447977\",\"id\":\"ob_121\",\"type\":\"observable\"})};\n    var self = this;\n    function AppViewModel() {\n        for (var key in json_data) {\n            var el = json_data[key];\n            this[key] = Array.isArray(el) ? ko.observableArray(el) : ko.observable(el);\n        }\n        \n        [this[\"formatted_val\"]=ko.computed(    function(){\n        return this.formatted_vals()[parseInt(this.index())-(1)];\n    }\n,this)]\n        [this[\"changes\"].subscribe((function (val){!(this.valueFromJulia[\"changes\"]) ? (WebIO.setval({\"name\":\"changes\",\"scope\":\"14956934195493447977\",\"id\":\"ob_122\",\"type\":\"observable\"},val)) : undefined; return this.valueFromJulia[\"changes\"]=false}),self),this[\"index\"].subscribe((function (val){!(this.valueFromJulia[\"index\"]) ? (WebIO.setval({\"name\":\"index\",\"scope\":\"14956934195493447977\",\"id\":\"ob_121\",\"type\":\"observable\"},val)) : undefined; return this.valueFromJulia[\"index\"]=false}),self)]\n        \n    }\n    self.model = new AppViewModel();\n    self.valueFromJulia = {};\n    for (var key in json_data) {\n        self.valueFromJulia[key] = false;\n    }\n    ko.applyBindings(self.model, self.dom);\n}\n);\n    (WebIO.importBlock({\"data\":[{\"name\":\"knockout\",\"type\":\"js\",\"url\":\"/assetserver/1418600122391479348d6b70f8fc3978f3015b35-knockout.js\"},{\"name\":\"knockout_punches\",\"type\":\"js\",\"url\":\"/assetserver/cd3f841ffabd7ce8124a19658c02643a3dce952c-knockout_punches.js\"}],\"type\":\"async_block\"})).then((imports) => handler.apply(this, imports));\n}\n"
            ],
            "observables": {
             "changes": {
              "id": "ob_122",
              "sync": false,
              "value": 0
             },
             "index": {
              "id": "ob_121",
              "sync": true,
              "value": 100
             }
            },
            "systemjs_options": null
           },
           "nodeType": "Scope",
           "props": {},
           "type": "node"
          }
         ],
         "instanceArgs": {
          "namespace": "html",
          "tag": "div"
         },
         "nodeType": "DOM",
         "props": {
          "className": "field interact-widget"
         },
         "type": "node"
        },
        {
         "children": [
          {
           "children": [
            {
             "children": [
              {
               "children": [
                {
                 "children": [
                  "sample step"
                 ],
                 "instanceArgs": {
                  "namespace": "html",
                  "tag": "label"
                 },
                 "nodeType": "DOM",
                 "props": {
                  "className": "interact ",
                  "style": {
                   "padding": "5px 10px 0px 10px"
                  }
                 },
                 "type": "node"
                }
               ],
               "instanceArgs": {
                "namespace": "html",
                "tag": "div"
               },
               "nodeType": "DOM",
               "props": {
                "className": "interact-flex-row-left"
               },
               "type": "node"
              },
              {
               "children": [
                {
                 "children": [],
                 "instanceArgs": {
                  "namespace": "html",
                  "tag": "input"
                 },
                 "nodeType": "DOM",
                 "props": {
                  "attributes": {
                   "data-bind": "numericValue: index, valueUpdate: 'input', event: {change: function (){this.changes(this.changes()+1)}}",
                   "orient": "horizontal",
                   "type": "range"
                  },
                  "className": "slider slider is-fullwidth",
                  "max": 100,
                  "min": 1,
                  "step": 1,
                  "style": {}
                 },
                 "type": "node"
                }
               ],
               "instanceArgs": {
                "namespace": "html",
                "tag": "div"
               },
               "nodeType": "DOM",
               "props": {
                "className": "interact-flex-row-center"
               },
               "type": "node"
              },
              {
               "children": [
                {
                 "children": [],
                 "instanceArgs": {
                  "namespace": "html",
                  "tag": "p"
                 },
                 "nodeType": "DOM",
                 "props": {
                  "attributes": {
                   "data-bind": "text: formatted_val"
                  }
                 },
                 "type": "node"
                }
               ],
               "instanceArgs": {
                "namespace": "html",
                "tag": "div"
               },
               "nodeType": "DOM",
               "props": {
                "className": "interact-flex-row-right"
               },
               "type": "node"
              }
             ],
             "instanceArgs": {
              "namespace": "html",
              "tag": "div"
             },
             "nodeType": "DOM",
             "props": {
              "className": "interact-flex-row interact-widget"
             },
             "type": "node"
            }
           ],
           "instanceArgs": {
            "handlers": {
             "changes": [
              "(function (val){return (val!=this.model[\"changes\"]()) ? (this.valueFromJulia[\"changes\"]=true, this.model[\"changes\"](val)) : undefined})"
             ],
             "index": [
              "(function (val){return (val!=this.model[\"index\"]()) ? (this.valueFromJulia[\"index\"]=true, this.model[\"index\"](val)) : undefined})"
             ]
            },
            "id": "14070570543640765666",
            "imports": {
             "data": [
              {
               "name": "knockout",
               "type": "js",
               "url": "/assetserver/1418600122391479348d6b70f8fc3978f3015b35-knockout.js"
              },
              {
               "name": "knockout_punches",
               "type": "js",
               "url": "/assetserver/cd3f841ffabd7ce8124a19658c02643a3dce952c-knockout_punches.js"
              },
              {
               "name": null,
               "type": "js",
               "url": "/assetserver/ac53a1d0dfbe96bbdab46a2c15a1a1f5029edf92-all.js"
              },
              {
               "name": null,
               "type": "css",
               "url": "/assetserver/a90858055ce62250f15db56d945919371e115fff-style.css"
              },
              {
               "name": null,
               "type": "css",
               "url": "/assetserver/901695cb7baff74a76878a59f7f01c86f6c24ff1-bulma_confined.min.css"
              }
             ],
             "type": "async_block"
            },
            "mount_callbacks": [
             "function () {\n    var handler = (function (ko, koPunches) {\n    ko.punches.enableAll();\n    ko.bindingHandlers.numericValue = {\n        init: function(element, valueAccessor, allBindings, data, context) {\n            var stringified = ko.observable(ko.unwrap(valueAccessor()));\n            stringified.subscribe(function(value) {\n                var val = parseFloat(value);\n                if (!isNaN(val)) {\n                    valueAccessor()(val);\n                }\n            });\n            valueAccessor().subscribe(function(value) {\n                var str = JSON.stringify(value);\n                if ((str == \"0\") && ([\"-0\", \"-0.\"].indexOf(stringified()) >= 0))\n                     return;\n                 if ([\"null\", \"\"].indexOf(str) >= 0)\n                     return;\n                stringified(str);\n            });\n            ko.applyBindingsToNode(\n                element,\n                {\n                    value: stringified,\n                    valueUpdate: allBindings.get('valueUpdate'),\n                },\n                context,\n            );\n        }\n    };\n    var json_data = {\"formatted_vals\":[\"0.01\",\"0.02\",\"0.03\",\"0.04\",\"0.05\",\"0.06\",\"0.07\",\"0.08\",\"0.09\",\"0.1\",\"0.11\",\"0.12\",\"0.13\",\"0.14\",\"0.15\",\"0.16\",\"0.17\",\"0.18\",\"0.19\",\"0.2\",\"0.21\",\"0.22\",\"0.23\",\"0.24\",\"0.25\",\"0.26\",\"0.27\",\"0.28\",\"0.29\",\"0.3\",\"0.31\",\"0.32\",\"0.33\",\"0.34\",\"0.35\",\"0.36\",\"0.37\",\"0.38\",\"0.39\",\"0.4\",\"0.41\",\"0.42\",\"0.43\",\"0.44\",\"0.45\",\"0.46\",\"0.47\",\"0.48\",\"0.49\",\"0.5\",\"0.51\",\"0.52\",\"0.53\",\"0.54\",\"0.55\",\"0.56\",\"0.57\",\"0.58\",\"0.59\",\"0.6\",\"0.61\",\"0.62\",\"0.63\",\"0.64\",\"0.65\",\"0.66\",\"0.67\",\"0.68\",\"0.69\",\"0.7\",\"0.71\",\"0.72\",\"0.73\",\"0.74\",\"0.75\",\"0.76\",\"0.77\",\"0.78\",\"0.79\",\"0.8\",\"0.81\",\"0.82\",\"0.83\",\"0.84\",\"0.85\",\"0.86\",\"0.87\",\"0.88\",\"0.89\",\"0.9\",\"0.91\",\"0.92\",\"0.93\",\"0.94\",\"0.95\",\"0.96\",\"0.97\",\"0.98\",\"0.99\",\"1.0\"],\"changes\":WebIO.getval({\"name\":\"changes\",\"scope\":\"14070570543640765666\",\"id\":\"ob_125\",\"type\":\"observable\"}),\"index\":WebIO.getval({\"name\":\"index\",\"scope\":\"14070570543640765666\",\"id\":\"ob_124\",\"type\":\"observable\"})};\n    var self = this;\n    function AppViewModel() {\n        for (var key in json_data) {\n            var el = json_data[key];\n            this[key] = Array.isArray(el) ? ko.observableArray(el) : ko.observable(el);\n        }\n        \n        [this[\"formatted_val\"]=ko.computed(    function(){\n        return this.formatted_vals()[parseInt(this.index())-(1)];\n    }\n,this)]\n        [this[\"changes\"].subscribe((function (val){!(this.valueFromJulia[\"changes\"]) ? (WebIO.setval({\"name\":\"changes\",\"scope\":\"14070570543640765666\",\"id\":\"ob_125\",\"type\":\"observable\"},val)) : undefined; return this.valueFromJulia[\"changes\"]=false}),self),this[\"index\"].subscribe((function (val){!(this.valueFromJulia[\"index\"]) ? (WebIO.setval({\"name\":\"index\",\"scope\":\"14070570543640765666\",\"id\":\"ob_124\",\"type\":\"observable\"},val)) : undefined; return this.valueFromJulia[\"index\"]=false}),self)]\n        \n    }\n    self.model = new AppViewModel();\n    self.valueFromJulia = {};\n    for (var key in json_data) {\n        self.valueFromJulia[key] = false;\n    }\n    ko.applyBindings(self.model, self.dom);\n}\n);\n    (WebIO.importBlock({\"data\":[{\"name\":\"knockout\",\"type\":\"js\",\"url\":\"/assetserver/1418600122391479348d6b70f8fc3978f3015b35-knockout.js\"},{\"name\":\"knockout_punches\",\"type\":\"js\",\"url\":\"/assetserver/cd3f841ffabd7ce8124a19658c02643a3dce952c-knockout_punches.js\"}],\"type\":\"async_block\"})).then((imports) => handler.apply(this, imports));\n}\n"
            ],
            "observables": {
             "changes": {
              "id": "ob_125",
              "sync": false,
              "value": 0
             },
             "index": {
              "id": "ob_124",
              "sync": true,
              "value": 10
             }
            },
            "systemjs_options": null
           },
           "nodeType": "Scope",
           "props": {},
           "type": "node"
          }
         ],
         "instanceArgs": {
          "namespace": "html",
          "tag": "div"
         },
         "nodeType": "DOM",
         "props": {
          "className": "field interact-widget"
         },
         "type": "node"
        },
        {
         "children": [
          {
           "children": [
            {
             "children": [
              {
               "children": [
                {
                 "children": [
                  "phase"
                 ],
                 "instanceArgs": {
                  "namespace": "html",
                  "tag": "label"
                 },
                 "nodeType": "DOM",
                 "props": {
                  "className": "interact ",
                  "style": {
                   "padding": "5px 10px 0px 10px"
                  }
                 },
                 "type": "node"
                }
               ],
               "instanceArgs": {
                "namespace": "html",
                "tag": "div"
               },
               "nodeType": "DOM",
               "props": {
                "className": "interact-flex-row-left"
               },
               "type": "node"
              },
              {
               "children": [
                {
                 "children": [],
                 "instanceArgs": {
                  "namespace": "html",
                  "tag": "input"
                 },
                 "nodeType": "DOM",
                 "props": {
                  "attributes": {
                   "data-bind": "numericValue: index, valueUpdate: 'input', event: {change: function (){this.changes(this.changes()+1)}}",
                   "orient": "horizontal",
                   "type": "range"
                  },
                  "className": "slider slider is-fullwidth",
                  "max": 63,
                  "min": 1,
                  "step": 1,
                  "style": {}
                 },
                 "type": "node"
                }
               ],
               "instanceArgs": {
                "namespace": "html",
                "tag": "div"
               },
               "nodeType": "DOM",
               "props": {
                "className": "interact-flex-row-center"
               },
               "type": "node"
              },
              {
               "children": [
                {
                 "children": [],
                 "instanceArgs": {
                  "namespace": "html",
                  "tag": "p"
                 },
                 "nodeType": "DOM",
                 "props": {
                  "attributes": {
                   "data-bind": "text: formatted_val"
                  }
                 },
                 "type": "node"
                }
               ],
               "instanceArgs": {
                "namespace": "html",
                "tag": "div"
               },
               "nodeType": "DOM",
               "props": {
                "className": "interact-flex-row-right"
               },
               "type": "node"
              }
             ],
             "instanceArgs": {
              "namespace": "html",
              "tag": "div"
             },
             "nodeType": "DOM",
             "props": {
              "className": "interact-flex-row interact-widget"
             },
             "type": "node"
            }
           ],
           "instanceArgs": {
            "handlers": {
             "changes": [
              "(function (val){return (val!=this.model[\"changes\"]()) ? (this.valueFromJulia[\"changes\"]=true, this.model[\"changes\"](val)) : undefined})"
             ],
             "index": [
              "(function (val){return (val!=this.model[\"index\"]()) ? (this.valueFromJulia[\"index\"]=true, this.model[\"index\"](val)) : undefined})"
             ]
            },
            "id": "15808431358851312018",
            "imports": {
             "data": [
              {
               "name": "knockout",
               "type": "js",
               "url": "/assetserver/1418600122391479348d6b70f8fc3978f3015b35-knockout.js"
              },
              {
               "name": "knockout_punches",
               "type": "js",
               "url": "/assetserver/cd3f841ffabd7ce8124a19658c02643a3dce952c-knockout_punches.js"
              },
              {
               "name": null,
               "type": "js",
               "url": "/assetserver/ac53a1d0dfbe96bbdab46a2c15a1a1f5029edf92-all.js"
              },
              {
               "name": null,
               "type": "css",
               "url": "/assetserver/a90858055ce62250f15db56d945919371e115fff-style.css"
              },
              {
               "name": null,
               "type": "css",
               "url": "/assetserver/901695cb7baff74a76878a59f7f01c86f6c24ff1-bulma_confined.min.css"
              }
             ],
             "type": "async_block"
            },
            "mount_callbacks": [
             "function () {\n    var handler = (function (ko, koPunches) {\n    ko.punches.enableAll();\n    ko.bindingHandlers.numericValue = {\n        init: function(element, valueAccessor, allBindings, data, context) {\n            var stringified = ko.observable(ko.unwrap(valueAccessor()));\n            stringified.subscribe(function(value) {\n                var val = parseFloat(value);\n                if (!isNaN(val)) {\n                    valueAccessor()(val);\n                }\n            });\n            valueAccessor().subscribe(function(value) {\n                var str = JSON.stringify(value);\n                if ((str == \"0\") && ([\"-0\", \"-0.\"].indexOf(stringified()) >= 0))\n                     return;\n                 if ([\"null\", \"\"].indexOf(str) >= 0)\n                     return;\n                stringified(str);\n            });\n            ko.applyBindingsToNode(\n                element,\n                {\n                    value: stringified,\n                    valueUpdate: allBindings.get('valueUpdate'),\n                },\n                context,\n            );\n        }\n    };\n    var json_data = {\"formatted_vals\":[\"0.0\",\"0.1\",\"0.2\",\"0.3\",\"0.4\",\"0.5\",\"0.6\",\"0.7\",\"0.8\",\"0.9\",\"1.0\",\"1.1\",\"1.2\",\"1.3\",\"1.4\",\"1.5\",\"1.6\",\"1.7\",\"1.8\",\"1.9\",\"2.0\",\"2.1\",\"2.2\",\"2.3\",\"2.4\",\"2.5\",\"2.6\",\"2.7\",\"2.8\",\"2.9\",\"3.0\",\"3.1\",\"3.2\",\"3.3\",\"3.4\",\"3.5\",\"3.6\",\"3.7\",\"3.8\",\"3.9\",\"4.0\",\"4.1\",\"4.2\",\"4.3\",\"4.4\",\"4.5\",\"4.6\",\"4.7\",\"4.8\",\"4.9\",\"5.0\",\"5.1\",\"5.2\",\"5.3\",\"5.4\",\"5.5\",\"5.6\",\"5.7\",\"5.8\",\"5.9\",\"6.0\",\"6.1\",\"6.2\"],\"changes\":WebIO.getval({\"name\":\"changes\",\"scope\":\"15808431358851312018\",\"id\":\"ob_128\",\"type\":\"observable\"}),\"index\":WebIO.getval({\"name\":\"index\",\"scope\":\"15808431358851312018\",\"id\":\"ob_127\",\"type\":\"observable\"})};\n    var self = this;\n    function AppViewModel() {\n        for (var key in json_data) {\n            var el = json_data[key];\n            this[key] = Array.isArray(el) ? ko.observableArray(el) : ko.observable(el);\n        }\n        \n        [this[\"formatted_val\"]=ko.computed(    function(){\n        return this.formatted_vals()[parseInt(this.index())-(1)];\n    }\n,this)]\n        [this[\"changes\"].subscribe((function (val){!(this.valueFromJulia[\"changes\"]) ? (WebIO.setval({\"name\":\"changes\",\"scope\":\"15808431358851312018\",\"id\":\"ob_128\",\"type\":\"observable\"},val)) : undefined; return this.valueFromJulia[\"changes\"]=false}),self),this[\"index\"].subscribe((function (val){!(this.valueFromJulia[\"index\"]) ? (WebIO.setval({\"name\":\"index\",\"scope\":\"15808431358851312018\",\"id\":\"ob_127\",\"type\":\"observable\"},val)) : undefined; return this.valueFromJulia[\"index\"]=false}),self)]\n        \n    }\n    self.model = new AppViewModel();\n    self.valueFromJulia = {};\n    for (var key in json_data) {\n        self.valueFromJulia[key] = false;\n    }\n    ko.applyBindings(self.model, self.dom);\n}\n);\n    (WebIO.importBlock({\"data\":[{\"name\":\"knockout\",\"type\":\"js\",\"url\":\"/assetserver/1418600122391479348d6b70f8fc3978f3015b35-knockout.js\"},{\"name\":\"knockout_punches\",\"type\":\"js\",\"url\":\"/assetserver/cd3f841ffabd7ce8124a19658c02643a3dce952c-knockout_punches.js\"}],\"type\":\"async_block\"})).then((imports) => handler.apply(this, imports));\n}\n"
            ],
            "observables": {
             "changes": {
              "id": "ob_128",
              "sync": false,
              "value": 0
             },
             "index": {
              "id": "ob_127",
              "sync": true,
              "value": 1
             }
            },
            "systemjs_options": null
           },
           "nodeType": "Scope",
           "props": {},
           "type": "node"
          }
         ],
         "instanceArgs": {
          "namespace": "html",
          "tag": "div"
         },
         "nodeType": "DOM",
         "props": {
          "className": "field interact-widget"
         },
         "type": "node"
        },
        {
         "children": [
          {
           "children": [
            {
             "children": [
              {
               "children": [
                {
                 "children": [
                  "radii"
                 ],
                 "instanceArgs": {
                  "namespace": "html",
                  "tag": "label"
                 },
                 "nodeType": "DOM",
                 "props": {
                  "className": "interact ",
                  "style": {
                   "padding": "5px 10px 0px 10px"
                  }
                 },
                 "type": "node"
                }
               ],
               "instanceArgs": {
                "namespace": "html",
                "tag": "div"
               },
               "nodeType": "DOM",
               "props": {
                "className": "interact-flex-row-left"
               },
               "type": "node"
              },
              {
               "children": [
                {
                 "children": [],
                 "instanceArgs": {
                  "namespace": "html",
                  "tag": "input"
                 },
                 "nodeType": "DOM",
                 "props": {
                  "attributes": {
                   "data-bind": "numericValue: index, valueUpdate: 'input', event: {change: function (){this.changes(this.changes()+1)}}",
                   "orient": "horizontal",
                   "type": "range"
                  },
                  "className": "slider slider is-fullwidth",
                  "max": 600,
                  "min": 1,
                  "step": 1,
                  "style": {}
                 },
                 "type": "node"
                }
               ],
               "instanceArgs": {
                "namespace": "html",
                "tag": "div"
               },
               "nodeType": "DOM",
               "props": {
                "className": "interact-flex-row-center"
               },
               "type": "node"
              },
              {
               "children": [
                {
                 "children": [],
                 "instanceArgs": {
                  "namespace": "html",
                  "tag": "p"
                 },
                 "nodeType": "DOM",
                 "props": {
                  "attributes": {
                   "data-bind": "text: formatted_val"
                  }
                 },
                 "type": "node"
                }
               ],
               "instanceArgs": {
                "namespace": "html",
                "tag": "div"
               },
               "nodeType": "DOM",
               "props": {
                "className": "interact-flex-row-right"
               },
               "type": "node"
              }
             ],
             "instanceArgs": {
              "namespace": "html",
              "tag": "div"
             },
             "nodeType": "DOM",
             "props": {
              "className": "interact-flex-row interact-widget"
             },
             "type": "node"
            }
           ],
           "instanceArgs": {
            "handlers": {
             "changes": [
              "(function (val){return (val!=this.model[\"changes\"]()) ? (this.valueFromJulia[\"changes\"]=true, this.model[\"changes\"](val)) : undefined})"
             ],
             "index": [
              "(function (val){return (val!=this.model[\"index\"]()) ? (this.valueFromJulia[\"index\"]=true, this.model[\"index\"](val)) : undefined})"
             ]
            },
            "id": "2689834560385674208",
            "imports": {
             "data": [
              {
               "name": "knockout",
               "type": "js",
               "url": "/assetserver/1418600122391479348d6b70f8fc3978f3015b35-knockout.js"
              },
              {
               "name": "knockout_punches",
               "type": "js",
               "url": "/assetserver/cd3f841ffabd7ce8124a19658c02643a3dce952c-knockout_punches.js"
              },
              {
               "name": null,
               "type": "js",
               "url": "/assetserver/ac53a1d0dfbe96bbdab46a2c15a1a1f5029edf92-all.js"
              },
              {
               "name": null,
               "type": "css",
               "url": "/assetserver/a90858055ce62250f15db56d945919371e115fff-style.css"
              },
              {
               "name": null,
               "type": "css",
               "url": "/assetserver/901695cb7baff74a76878a59f7f01c86f6c24ff1-bulma_confined.min.css"
              }
             ],
             "type": "async_block"
            },
            "mount_callbacks": [
             "function () {\n    var handler = (function (ko, koPunches) {\n    ko.punches.enableAll();\n    ko.bindingHandlers.numericValue = {\n        init: function(element, valueAccessor, allBindings, data, context) {\n            var stringified = ko.observable(ko.unwrap(valueAccessor()));\n            stringified.subscribe(function(value) {\n                var val = parseFloat(value);\n                if (!isNaN(val)) {\n                    valueAccessor()(val);\n                }\n            });\n            valueAccessor().subscribe(function(value) {\n                var str = JSON.stringify(value);\n                if ((str == \"0\") && ([\"-0\", \"-0.\"].indexOf(stringified()) >= 0))\n                     return;\n                 if ([\"null\", \"\"].indexOf(str) >= 0)\n                     return;\n                stringified(str);\n            });\n            ko.applyBindingsToNode(\n                element,\n                {\n                    value: stringified,\n                    valueUpdate: allBindings.get('valueUpdate'),\n                },\n                context,\n            );\n        }\n    };\n    var json_data = {\"formatted_vals\":[\"0.1\",\"0.2\",\"0.3\",\"0.4\",\"0.5\",\"0.6\",\"0.7\",\"0.8\",\"0.9\",\"1.0\",\"1.1\",\"1.2\",\"1.3\",\"1.4\",\"1.5\",\"1.6\",\"1.7\",\"1.8\",\"1.9\",\"2.0\",\"2.1\",\"2.2\",\"2.3\",\"2.4\",\"2.5\",\"2.6\",\"2.7\",\"2.8\",\"2.9\",\"3.0\",\"3.1\",\"3.2\",\"3.3\",\"3.4\",\"3.5\",\"3.6\",\"3.7\",\"3.8\",\"3.9\",\"4.0\",\"4.1\",\"4.2\",\"4.3\",\"4.4\",\"4.5\",\"4.6\",\"4.7\",\"4.8\",\"4.9\",\"5.0\",\"5.1\",\"5.2\",\"5.3\",\"5.4\",\"5.5\",\"5.6\",\"5.7\",\"5.8\",\"5.9\",\"6.0\",\"6.1\",\"6.2\",\"6.3\",\"6.4\",\"6.5\",\"6.6\",\"6.7\",\"6.8\",\"6.9\",\"7.0\",\"7.1\",\"7.2\",\"7.3\",\"7.4\",\"7.5\",\"7.6\",\"7.7\",\"7.8\",\"7.9\",\"8.0\",\"8.1\",\"8.2\",\"8.3\",\"8.4\",\"8.5\",\"8.6\",\"8.7\",\"8.8\",\"8.9\",\"9.0\",\"9.1\",\"9.2\",\"9.3\",\"9.4\",\"9.5\",\"9.6\",\"9.7\",\"9.8\",\"9.9\",\"10.0\",\"10.1\",\"10.2\",\"10.3\",\"10.4\",\"10.5\",\"10.6\",\"10.7\",\"10.8\",\"10.9\",\"11.0\",\"11.1\",\"11.2\",\"11.3\",\"11.4\",\"11.5\",\"11.6\",\"11.7\",\"11.8\",\"11.9\",\"12.0\",\"12.1\",\"12.2\",\"12.3\",\"12.4\",\"12.5\",\"12.6\",\"12.7\",\"12.8\",\"12.9\",\"13.0\",\"13.1\",\"13.2\",\"13.3\",\"13.4\",\"13.5\",\"13.6\",\"13.7\",\"13.8\",\"13.9\",\"14.0\",\"14.1\",\"14.2\",\"14.3\",\"14.4\",\"14.5\",\"14.6\",\"14.7\",\"14.8\",\"14.9\",\"15.0\",\"15.1\",\"15.2\",\"15.3\",\"15.4\",\"15.5\",\"15.6\",\"15.7\",\"15.8\",\"15.9\",\"16.0\",\"16.1\",\"16.2\",\"16.3\",\"16.4\",\"16.5\",\"16.6\",\"16.7\",\"16.8\",\"16.9\",\"17.0\",\"17.1\",\"17.2\",\"17.3\",\"17.4\",\"17.5\",\"17.6\",\"17.7\",\"17.8\",\"17.9\",\"18.0\",\"18.1\",\"18.2\",\"18.3\",\"18.4\",\"18.5\",\"18.6\",\"18.7\",\"18.8\",\"18.9\",\"19.0\",\"19.1\",\"19.2\",\"19.3\",\"19.4\",\"19.5\",\"19.6\",\"19.7\",\"19.8\",\"19.9\",\"20.0\",\"20.1\",\"20.2\",\"20.3\",\"20.4\",\"20.5\",\"20.6\",\"20.7\",\"20.8\",\"20.9\",\"21.0\",\"21.1\",\"21.2\",\"21.3\",\"21.4\",\"21.5\",\"21.6\",\"21.7\",\"21.8\",\"21.9\",\"22.0\",\"22.1\",\"22.2\",\"22.3\",\"22.4\",\"22.5\",\"22.6\",\"22.7\",\"22.8\",\"22.9\",\"23.0\",\"23.1\",\"23.2\",\"23.3\",\"23.4\",\"23.5\",\"23.6\",\"23.7\",\"23.8\",\"23.9\",\"24.0\",\"24.1\",\"24.2\",\"24.3\",\"24.4\",\"24.5\",\"24.6\",\"24.7\",\"24.8\",\"24.9\",\"25.0\",\"25.1\",\"25.2\",\"25.3\",\"25.4\",\"25.5\",\"25.6\",\"25.7\",\"25.8\",\"25.9\",\"26.0\",\"26.1\",\"26.2\",\"26.3\",\"26.4\",\"26.5\",\"26.6\",\"26.7\",\"26.8\",\"26.9\",\"27.0\",\"27.1\",\"27.2\",\"27.3\",\"27.4\",\"27.5\",\"27.6\",\"27.7\",\"27.8\",\"27.9\",\"28.0\",\"28.1\",\"28.2\",\"28.3\",\"28.4\",\"28.5\",\"28.6\",\"28.7\",\"28.8\",\"28.9\",\"29.0\",\"29.1\",\"29.2\",\"29.3\",\"29.4\",\"29.5\",\"29.6\",\"29.7\",\"29.8\",\"29.9\",\"30.0\",\"30.1\",\"30.2\",\"30.3\",\"30.4\",\"30.5\",\"30.6\",\"30.7\",\"30.8\",\"30.9\",\"31.0\",\"31.1\",\"31.2\",\"31.3\",\"31.4\",\"31.5\",\"31.6\",\"31.7\",\"31.8\",\"31.9\",\"32.0\",\"32.1\",\"32.2\",\"32.3\",\"32.4\",\"32.5\",\"32.6\",\"32.7\",\"32.8\",\"32.9\",\"33.0\",\"33.1\",\"33.2\",\"33.3\",\"33.4\",\"33.5\",\"33.6\",\"33.7\",\"33.8\",\"33.9\",\"34.0\",\"34.1\",\"34.2\",\"34.3\",\"34.4\",\"34.5\",\"34.6\",\"34.7\",\"34.8\",\"34.9\",\"35.0\",\"35.1\",\"35.2\",\"35.3\",\"35.4\",\"35.5\",\"35.6\",\"35.7\",\"35.8\",\"35.9\",\"36.0\",\"36.1\",\"36.2\",\"36.3\",\"36.4\",\"36.5\",\"36.6\",\"36.7\",\"36.8\",\"36.9\",\"37.0\",\"37.1\",\"37.2\",\"37.3\",\"37.4\",\"37.5\",\"37.6\",\"37.7\",\"37.8\",\"37.9\",\"38.0\",\"38.1\",\"38.2\",\"38.3\",\"38.4\",\"38.5\",\"38.6\",\"38.7\",\"38.8\",\"38.9\",\"39.0\",\"39.1\",\"39.2\",\"39.3\",\"39.4\",\"39.5\",\"39.6\",\"39.7\",\"39.8\",\"39.9\",\"40.0\",\"40.1\",\"40.2\",\"40.3\",\"40.4\",\"40.5\",\"40.6\",\"40.7\",\"40.8\",\"40.9\",\"41.0\",\"41.1\",\"41.2\",\"41.3\",\"41.4\",\"41.5\",\"41.6\",\"41.7\",\"41.8\",\"41.9\",\"42.0\",\"42.1\",\"42.2\",\"42.3\",\"42.4\",\"42.5\",\"42.6\",\"42.7\",\"42.8\",\"42.9\",\"43.0\",\"43.1\",\"43.2\",\"43.3\",\"43.4\",\"43.5\",\"43.6\",\"43.7\",\"43.8\",\"43.9\",\"44.0\",\"44.1\",\"44.2\",\"44.3\",\"44.4\",\"44.5\",\"44.6\",\"44.7\",\"44.8\",\"44.9\",\"45.0\",\"45.1\",\"45.2\",\"45.3\",\"45.4\",\"45.5\",\"45.6\",\"45.7\",\"45.8\",\"45.9\",\"46.0\",\"46.1\",\"46.2\",\"46.3\",\"46.4\",\"46.5\",\"46.6\",\"46.7\",\"46.8\",\"46.9\",\"47.0\",\"47.1\",\"47.2\",\"47.3\",\"47.4\",\"47.5\",\"47.6\",\"47.7\",\"47.8\",\"47.9\",\"48.0\",\"48.1\",\"48.2\",\"48.3\",\"48.4\",\"48.5\",\"48.6\",\"48.7\",\"48.8\",\"48.9\",\"49.0\",\"49.1\",\"49.2\",\"49.3\",\"49.4\",\"49.5\",\"49.6\",\"49.7\",\"49.8\",\"49.9\",\"50.0\",\"50.1\",\"50.2\",\"50.3\",\"50.4\",\"50.5\",\"50.6\",\"50.7\",\"50.8\",\"50.9\",\"51.0\",\"51.1\",\"51.2\",\"51.3\",\"51.4\",\"51.5\",\"51.6\",\"51.7\",\"51.8\",\"51.9\",\"52.0\",\"52.1\",\"52.2\",\"52.3\",\"52.4\",\"52.5\",\"52.6\",\"52.7\",\"52.8\",\"52.9\",\"53.0\",\"53.1\",\"53.2\",\"53.3\",\"53.4\",\"53.5\",\"53.6\",\"53.7\",\"53.8\",\"53.9\",\"54.0\",\"54.1\",\"54.2\",\"54.3\",\"54.4\",\"54.5\",\"54.6\",\"54.7\",\"54.8\",\"54.9\",\"55.0\",\"55.1\",\"55.2\",\"55.3\",\"55.4\",\"55.5\",\"55.6\",\"55.7\",\"55.8\",\"55.9\",\"56.0\",\"56.1\",\"56.2\",\"56.3\",\"56.4\",\"56.5\",\"56.6\",\"56.7\",\"56.8\",\"56.9\",\"57.0\",\"57.1\",\"57.2\",\"57.3\",\"57.4\",\"57.5\",\"57.6\",\"57.7\",\"57.8\",\"57.9\",\"58.0\",\"58.1\",\"58.2\",\"58.3\",\"58.4\",\"58.5\",\"58.6\",\"58.7\",\"58.8\",\"58.9\",\"59.0\",\"59.1\",\"59.2\",\"59.3\",\"59.4\",\"59.5\",\"59.6\",\"59.7\",\"59.8\",\"59.9\",\"60.0\"],\"changes\":WebIO.getval({\"name\":\"changes\",\"scope\":\"2689834560385674208\",\"id\":\"ob_131\",\"type\":\"observable\"}),\"index\":WebIO.getval({\"name\":\"index\",\"scope\":\"2689834560385674208\",\"id\":\"ob_130\",\"type\":\"observable\"})};\n    var self = this;\n    function AppViewModel() {\n        for (var key in json_data) {\n            var el = json_data[key];\n            this[key] = Array.isArray(el) ? ko.observableArray(el) : ko.observable(el);\n        }\n        \n        [this[\"formatted_val\"]=ko.computed(    function(){\n        return this.formatted_vals()[parseInt(this.index())-(1)];\n    }\n,this)]\n        [this[\"changes\"].subscribe((function (val){!(this.valueFromJulia[\"changes\"]) ? (WebIO.setval({\"name\":\"changes\",\"scope\":\"2689834560385674208\",\"id\":\"ob_131\",\"type\":\"observable\"},val)) : undefined; return this.valueFromJulia[\"changes\"]=false}),self),this[\"index\"].subscribe((function (val){!(this.valueFromJulia[\"index\"]) ? (WebIO.setval({\"name\":\"index\",\"scope\":\"2689834560385674208\",\"id\":\"ob_130\",\"type\":\"observable\"},val)) : undefined; return this.valueFromJulia[\"index\"]=false}),self)]\n        \n    }\n    self.model = new AppViewModel();\n    self.valueFromJulia = {};\n    for (var key in json_data) {\n        self.valueFromJulia[key] = false;\n    }\n    ko.applyBindings(self.model, self.dom);\n}\n);\n    (WebIO.importBlock({\"data\":[{\"name\":\"knockout\",\"type\":\"js\",\"url\":\"/assetserver/1418600122391479348d6b70f8fc3978f3015b35-knockout.js\"},{\"name\":\"knockout_punches\",\"type\":\"js\",\"url\":\"/assetserver/cd3f841ffabd7ce8124a19658c02643a3dce952c-knockout_punches.js\"}],\"type\":\"async_block\"})).then((imports) => handler.apply(this, imports));\n}\n"
            ],
            "observables": {
             "changes": {
              "id": "ob_131",
              "sync": false,
              "value": 0
             },
             "index": {
              "id": "ob_130",
              "sync": true,
              "value": 300
             }
            },
            "systemjs_options": null
           },
           "nodeType": "Scope",
           "props": {},
           "type": "node"
          }
         ],
         "instanceArgs": {
          "namespace": "html",
          "tag": "div"
         },
         "nodeType": "DOM",
         "props": {
          "className": "field interact-widget"
         },
         "type": "node"
        },
        {
         "children": [
          {
           "children": [],
           "instanceArgs": {
            "id": "ob_137",
            "name": "obs-node"
           },
           "nodeType": "ObservableNode",
           "props": {},
           "type": "node"
          }
         ],
         "instanceArgs": {
          "handlers": {},
          "id": "14309402155195132565",
          "imports": {
           "data": [],
           "type": "async_block"
          },
          "mount_callbacks": [],
          "observables": {
           "obs-node": {
            "id": "ob_137",
            "sync": false,
            "value": {
             "children": [
              {
               "children": [
                {
                 "children": [],
                 "instanceArgs": {
                  "namespace": "svg",
                  "tag": "circle"
                 },
                 "nodeType": "DOM",
                 "props": {
                  "attributes": {
                   "cx": "5.570423008216337",
                   "cy": "159.98334166468283",
                   "fill": "gray",
                   "r": "30.0"
                  }
                 },
                 "type": "node"
                },
                {
                 "children": [],
                 "instanceArgs": {
                  "namespace": "svg",
                  "tag": "circle"
                 },
                 "nodeType": "DOM",
                 "props": {
                  "attributes": {
                   "cx": "11.140846016432674",
                   "cy": "169.8669330795061",
                   "fill": "silver",
                   "r": "30.0"
                  }
                 },
                 "type": "node"
                },
                {
                 "children": [],
                 "instanceArgs": {
                  "namespace": "svg",
                  "tag": "circle"
                 },
                 "nodeType": "DOM",
                 "props": {
                  "attributes": {
                   "cx": "16.711269024649013",
                   "cy": "179.55202066613396",
                   "fill": "maroon",
                   "r": "30.0"
                  }
                 },
                 "type": "node"
                },
                {
                 "children": [],
                 "instanceArgs": {
                  "namespace": "svg",
                  "tag": "circle"
                 },
                 "nodeType": "DOM",
                 "props": {
                  "attributes": {
                   "cx": "22.281692032865347",
                   "cy": "188.94183423086506",
                   "fill": "red",
                   "r": "30.0"
                  }
                 },
                 "type": "node"
                },
                {
                 "children": [],
                 "instanceArgs": {
                  "namespace": "svg",
                  "tag": "circle"
                 },
                 "nodeType": "DOM",
                 "props": {
                  "attributes": {
                   "cx": "27.852115041081685",
                   "cy": "197.9425538604203",
                   "fill": "olive",
                   "r": "30.0"
                  }
                 },
                 "type": "node"
                },
                {
                 "children": [],
                 "instanceArgs": {
                  "namespace": "svg",
                  "tag": "circle"
                 },
                 "nodeType": "DOM",
                 "props": {
                  "attributes": {
                   "cx": "33.422538049298026",
                   "cy": "206.46424733950354",
                   "fill": "yellow",
                   "r": "30.0"
                  }
                 },
                 "type": "node"
                },
                {
                 "children": [],
                 "instanceArgs": {
                  "namespace": "svg",
                  "tag": "circle"
                 },
                 "nodeType": "DOM",
                 "props": {
                  "attributes": {
                   "cx": "38.992961057514364",
                   "cy": "214.4217687237691",
                   "fill": "green",
                   "r": "30.0"
                  }
                 },
                 "type": "node"
                },
                {
                 "children": [],
                 "instanceArgs": {
                  "namespace": "svg",
                  "tag": "circle"
                 },
                 "nodeType": "DOM",
                 "props": {
                  "attributes": {
                   "cx": "44.563384065730695",
                   "cy": "221.73560908995228",
                   "fill": "lime",
                   "r": "30.0"
                  }
                 },
                 "type": "node"
                },
                {
                 "children": [],
                 "instanceArgs": {
                  "namespace": "svg",
                  "tag": "circle"
                 },
                 "nodeType": "DOM",
                 "props": {
                  "attributes": {
                   "cx": "50.13380707394703",
                   "cy": "228.33269096274836",
                   "fill": "teal",
                   "r": "30.0"
                  }
                 },
                 "type": "node"
                },
                {
                 "children": [],
                 "instanceArgs": {
                  "namespace": "svg",
                  "tag": "circle"
                 },
                 "nodeType": "DOM",
                 "props": {
                  "attributes": {
                   "cx": "55.70423008216337",
                   "cy": "234.14709848078965",
                   "fill": "aqua",
                   "r": "30.0"
                  }
                 },
                 "type": "node"
                },
                {
                 "children": [],
                 "instanceArgs": {
                  "namespace": "svg",
                  "tag": "circle"
                 },
                 "nodeType": "DOM",
                 "props": {
                  "attributes": {
                   "cx": "61.274653090379715",
                   "cy": "239.12073600614355",
                   "fill": "navy",
                   "r": "30.0"
                  }
                 },
                 "type": "node"
                },
                {
                 "children": [],
                 "instanceArgs": {
                  "namespace": "svg",
                  "tag": "circle"
                 },
                 "nodeType": "DOM",
                 "props": {
                  "attributes": {
                   "cx": "66.84507609859605",
                   "cy": "243.2039085967226",
                   "fill": "blue",
                   "r": "30.0"
                  }
                 },
                 "type": "node"
                },
                {
                 "children": [],
                 "instanceArgs": {
                  "namespace": "svg",
                  "tag": "circle"
                 },
                 "nodeType": "DOM",
                 "props": {
                  "attributes": {
                   "cx": "72.41549910681238",
                   "cy": "246.35581854171932",
                   "fill": "purple",
                   "r": "30.0"
                  }
                 },
                 "type": "node"
                },
                {
                 "children": [],
                 "instanceArgs": {
                  "namespace": "svg",
                  "tag": "circle"
                 },
                 "nodeType": "DOM",
                 "props": {
                  "attributes": {
                   "cx": "77.98592211502873",
                   "cy": "248.54497299884605",
                   "fill": "fuchsia",
                   "r": "30.0"
                  }
                 },
                 "type": "node"
                },
                {
                 "children": [],
                 "instanceArgs": {
                  "namespace": "svg",
                  "tag": "circle"
                 },
                 "nodeType": "DOM",
                 "props": {
                  "attributes": {
                   "cx": "83.55634512324505",
                   "cy": "249.74949866040544",
                   "fill": "black",
                   "r": "30.0"
                  }
                 },
                 "type": "node"
                },
                {
                 "children": [],
                 "instanceArgs": {
                  "namespace": "svg",
                  "tag": "circle"
                 },
                 "nodeType": "DOM",
                 "props": {
                  "attributes": {
                   "cx": "89.12676813146139",
                   "cy": "249.95736030415048",
                   "fill": "gray",
                   "r": "30.0"
                  }
                 },
                 "type": "node"
                },
                {
                 "children": [],
                 "instanceArgs": {
                  "namespace": "svg",
                  "tag": "circle"
                 },
                 "nodeType": "DOM",
                 "props": {
                  "attributes": {
                   "cx": "94.69719113967774",
                   "cy": "249.16648104524688",
                   "fill": "silver",
                   "r": "30.0"
                  }
                 },
                 "type": "node"
                },
                {
                 "children": [],
                 "instanceArgs": {
                  "namespace": "svg",
                  "tag": "circle"
                 },
                 "nodeType": "DOM",
                 "props": {
                  "attributes": {
                   "cx": "100.26761414789407",
                   "cy": "247.38476308781952",
                   "fill": "maroon",
                   "r": "30.0"
                  }
                 },
                 "type": "node"
                },
                {
                 "children": [],
                 "instanceArgs": {
                  "namespace": "svg",
                  "tag": "circle"
                 },
                 "nodeType": "DOM",
                 "props": {
                  "attributes": {
                   "cx": "105.8380371561104",
                   "cy": "244.63000876874145",
                   "fill": "red",
                   "r": "30.0"
                  }
                 },
                 "type": "node"
                },
                {
                 "children": [],
                 "instanceArgs": {
                  "namespace": "svg",
                  "tag": "circle"
                 },
                 "nodeType": "DOM",
                 "props": {
                  "attributes": {
                   "cx": "111.40846016432674",
                   "cy": "240.9297426825682",
                   "fill": "olive",
                   "r": "30.0"
                  }
                 },
                 "type": "node"
                },
                {
                 "children": [],
                 "instanceArgs": {
                  "namespace": "svg",
                  "tag": "circle"
                 },
                 "nodeType": "DOM",
                 "props": {
                  "attributes": {
                   "cx": "116.97888317254308",
                   "cy": "236.32093666488737",
                   "fill": "yellow",
                   "r": "30.0"
                  }
                 },
                 "type": "node"
                },
                {
                 "children": [],
                 "instanceArgs": {
                  "namespace": "svg",
                  "tag": "circle"
                 },
                 "nodeType": "DOM",
                 "props": {
                  "attributes": {
                   "cx": "122.54930618075943",
                   "cy": "230.849640381959",
                   "fill": "green",
                   "r": "30.0"
                  }
                 },
                 "type": "node"
                },
                {
                 "children": [],
                 "instanceArgs": {
                  "namespace": "svg",
                  "tag": "circle"
                 },
                 "nodeType": "DOM",
                 "props": {
                  "attributes": {
                   "cx": "128.11972918897578",
                   "cy": "224.57052121767202",
                   "fill": "lime",
                   "r": "30.0"
                  }
                 },
                 "type": "node"
                },
                {
                 "children": [],
                 "instanceArgs": {
                  "namespace": "svg",
                  "tag": "circle"
                 },
                 "nodeType": "DOM",
                 "props": {
                  "attributes": {
                   "cx": "133.6901521971921",
                   "cy": "217.54631805511508",
                   "fill": "teal",
                   "r": "30.0"
                  }
                 },
                 "type": "node"
                },
                {
                 "children": [],
                 "instanceArgs": {
                  "namespace": "svg",
                  "tag": "circle"
                 },
                 "nodeType": "DOM",
                 "props": {
                  "attributes": {
                   "cx": "139.26057520540843",
                   "cy": "209.84721441039565",
                   "fill": "aqua",
                   "r": "30.0"
                  }
                 },
                 "type": "node"
                },
                {
                 "children": [],
                 "instanceArgs": {
                  "namespace": "svg",
                  "tag": "circle"
                 },
                 "nodeType": "DOM",
                 "props": {
                  "attributes": {
                   "cx": "144.83099821362475",
                   "cy": "201.55013718214641",
                   "fill": "navy",
                   "r": "30.0"
                  }
                 },
                 "type": "node"
                },
                {
                 "children": [],
                 "instanceArgs": {
                  "namespace": "svg",
                  "tag": "circle"
                 },
                 "nodeType": "DOM",
                 "props": {
                  "attributes": {
                   "cx": "150.4014212218411",
                   "cy": "192.73798802338297",
                   "fill": "blue",
                   "r": "30.0"
                  }
                 },
                 "type": "node"
                },
                {
                 "children": [],
                 "instanceArgs": {
                  "namespace": "svg",
                  "tag": "circle"
                 },
                 "nodeType": "DOM",
                 "props": {
                  "attributes": {
                   "cx": "155.97184423005746",
                   "cy": "183.49881501559048",
                   "fill": "purple",
                   "r": "30.0"
                  }
                 },
                 "type": "node"
                },
                {
                 "children": [],
                 "instanceArgs": {
                  "namespace": "svg",
                  "tag": "circle"
                 },
                 "nodeType": "DOM",
                 "props": {
                  "attributes": {
                   "cx": "161.54226723827378",
                   "cy": "173.9249329213982",
                   "fill": "fuchsia",
                   "r": "30.0"
                  }
                 },
                 "type": "node"
                },
                {
                 "children": [],
                 "instanceArgs": {
                  "namespace": "svg",
                  "tag": "circle"
                 },
                 "nodeType": "DOM",
                 "props": {
                  "attributes": {
                   "cx": "167.1126902464901",
                   "cy": "164.11200080598672",
                   "fill": "black",
                   "r": "30.0"
                  }
                 },
                 "type": "node"
                },
                {
                 "children": [],
                 "instanceArgs": {
                  "namespace": "svg",
                  "tag": "circle"
                 },
                 "nodeType": "DOM",
                 "props": {
                  "attributes": {
                   "cx": "172.68311325470646",
                   "cy": "154.15806624332905",
                   "fill": "gray",
                   "r": "30.0"
                  }
                 },
                 "type": "node"
                },
                {
                 "children": [],
                 "instanceArgs": {
                  "namespace": "svg",
                  "tag": "circle"
                 },
                 "nodeType": "DOM",
                 "props": {
                  "attributes": {
                   "cx": "178.25353626292278",
                   "cy": "144.162585657242",
                   "fill": "silver",
                   "r": "30.0"
                  }
                 },
                 "type": "node"
                },
                {
                 "children": [],
                 "instanceArgs": {
                  "namespace": "svg",
                  "tag": "circle"
                 },
                 "nodeType": "DOM",
                 "props": {
                  "attributes": {
                   "cx": "183.82395927113913",
                   "cy": "134.22543058567513",
                   "fill": "maroon",
                   "r": "30.0"
                  }
                 },
                 "type": "node"
                },
                {
                 "children": [],
                 "instanceArgs": {
                  "namespace": "svg",
                  "tag": "circle"
                 },
                 "nodeType": "DOM",
                 "props": {
                  "attributes": {
                   "cx": "189.39438227935548",
                   "cy": "124.44588979731684",
                   "fill": "red",
                   "r": "30.0"
                  }
                 },
                 "type": "node"
                },
                {
                 "children": [],
                 "instanceArgs": {
                  "namespace": "svg",
                  "tag": "circle"
                 },
                 "nodeType": "DOM",
                 "props": {
                  "attributes": {
                   "cx": "194.9648052875718",
                   "cy": "114.92167723103802",
                   "fill": "olive",
                   "r": "30.0"
                  }
                 },
                 "type": "node"
                },
                {
                 "children": [],
                 "instanceArgs": {
                  "namespace": "svg",
                  "tag": "circle"
                 },
                 "nodeType": "DOM",
                 "props": {
                  "attributes": {
                   "cx": "200.53522829578813",
                   "cy": "105.74795567051476",
                   "fill": "yellow",
                   "r": "30.0"
                  }
                 },
                 "type": "node"
                },
                {
                 "children": [],
                 "instanceArgs": {
                  "namespace": "svg",
                  "tag": "circle"
                 },
                 "nodeType": "DOM",
                 "props": {
                  "attributes": {
                   "cx": "206.10565130400448",
                   "cy": "97.01638590915067",
                   "fill": "green",
                   "r": "30.0"
                  }
                 },
                 "type": "node"
                },
                {
                 "children": [],
                 "instanceArgs": {
                  "namespace": "svg",
                  "tag": "circle"
                 },
                 "nodeType": "DOM",
                 "props": {
                  "attributes": {
                   "cx": "211.6760743122208",
                   "cy": "88.81421090572806",
                   "fill": "lime",
                   "r": "30.0"
                  }
                 },
                 "type": "node"
                },
                {
                 "children": [],
                 "instanceArgs": {
                  "namespace": "svg",
                  "tag": "circle"
                 },
                 "nodeType": "DOM",
                 "props": {
                  "attributes": {
                   "cx": "217.2464973204372",
                   "cy": "81.22338408160259",
                   "fill": "teal",
                   "r": "30.0"
                  }
                 },
                 "type": "node"
                },
                {
                 "children": [],
                 "instanceArgs": {
                  "namespace": "svg",
                  "tag": "circle"
                 },
                 "nodeType": "DOM",
                 "props": {
                  "attributes": {
                   "cx": "222.81692032865348",
                   "cy": "74.31975046920718",
                   "fill": "aqua",
                   "r": "30.0"
                  }
                 },
                 "type": "node"
                },
                {
                 "children": [],
                 "instanceArgs": {
                  "namespace": "svg",
                  "tag": "circle"
                 },
                 "nodeType": "DOM",
                 "props": {
                  "attributes": {
                   "cx": "228.38734333686986",
                   "cy": "68.17228889355893",
                   "fill": "navy",
                   "r": "30.0"
                  }
                 },
                 "type": "node"
                },
                {
                 "children": [],
                 "instanceArgs": {
                  "namespace": "svg",
                  "tag": "circle"
                 },
                 "nodeType": "DOM",
                 "props": {
                  "attributes": {
                   "cx": "233.95776634508616",
                   "cy": "62.84242275864118",
                   "fill": "blue",
                   "r": "30.0"
                  }
                 },
                 "type": "node"
                },
                {
                 "children": [],
                 "instanceArgs": {
                  "namespace": "svg",
                  "tag": "circle"
                 },
                 "nodeType": "DOM",
                 "props": {
                  "attributes": {
                   "cx": "239.52818935330248",
                   "cy": "58.38340632505451",
                   "fill": "purple",
                   "r": "30.0"
                  }
                 },
                 "type": "node"
                },
                {
                 "children": [],
                 "instanceArgs": {
                  "namespace": "svg",
                  "tag": "circle"
                 },
                 "nodeType": "DOM",
                 "props": {
                  "attributes": {
                   "cx": "245.09861236151886",
                   "cy": "54.83979261104838",
                   "fill": "fuchsia",
                   "r": "30.0"
                  }
                 },
                 "type": "node"
                },
                {
                 "children": [],
                 "instanceArgs": {
                  "namespace": "svg",
                  "tag": "circle"
                 },
                 "nodeType": "DOM",
                 "props": {
                  "attributes": {
                   "cx": "250.66903536973516",
                   "cy": "52.2469882334903",
                   "fill": "black",
                   "r": "30.0"
                  }
                 },
                 "type": "node"
                },
                {
                 "children": [],
                 "instanceArgs": {
                  "namespace": "svg",
                  "tag": "circle"
                 },
                 "nodeType": "DOM",
                 "props": {
                  "attributes": {
                   "cx": "256.23945837795156",
                   "cy": "50.63089963665355",
                   "fill": "gray",
                   "r": "30.0"
                  }
                 },
                 "type": "node"
                },
                {
                 "children": [],
                 "instanceArgs": {
                  "namespace": "svg",
                  "tag": "circle"
                 },
                 "nodeType": "DOM",
                 "props": {
                  "attributes": {
                   "cx": "261.80988138616783",
                   "cy": "50.00767424358992",
                   "fill": "silver",
                   "r": "30.0"
                  }
                 },
                 "type": "node"
                },
                {
                 "children": [],
                 "instanceArgs": {
                  "namespace": "svg",
                  "tag": "circle"
                 },
                 "nodeType": "DOM",
                 "props": {
                  "attributes": {
                   "cx": "267.3803043943842",
                   "cy": "50.383539116415946",
                   "fill": "maroon",
                   "r": "30.0"
                  }
                 },
                 "type": "node"
                },
                {
                 "children": [],
                 "instanceArgs": {
                  "namespace": "svg",
                  "tag": "circle"
                 },
                 "nodeType": "DOM",
                 "props": {
                  "attributes": {
                   "cx": "272.95072740260053",
                   "cy": "51.754738737566754",
                   "fill": "red",
                   "r": "30.0"
                  }
                 },
                 "type": "node"
                },
                {
                 "children": [],
                 "instanceArgs": {
                  "namespace": "svg",
                  "tag": "circle"
                 },
                 "nodeType": "DOM",
                 "props": {
                  "attributes": {
                   "cx": "278.52115041081686",
                   "cy": "54.10757253368615",
                   "fill": "olive",
                   "r": "30.0"
                  }
                 },
                 "type": "node"
                },
                {
                 "children": [],
                 "instanceArgs": {
                  "namespace": "svg",
                  "tag": "circle"
                 },
                 "nodeType": "DOM",
                 "props": {
                  "attributes": {
                   "cx": "284.09157341903324",
                   "cy": "57.418531767226796",
                   "fill": "yellow",
                   "r": "30.0"
                  }
                 },
                 "type": "node"
                },
                {
                 "children": [],
                 "instanceArgs": {
                  "namespace": "svg",
                  "tag": "circle"
                 },
                 "nodeType": "DOM",
                 "props": {
                  "attributes": {
                   "cx": "289.6619964272495",
                   "cy": "61.654534427984686",
                   "fill": "green",
                   "r": "30.0"
                  }
                 },
                 "type": "node"
                },
                {
                 "children": [],
                 "instanceArgs": {
                  "namespace": "svg",
                  "tag": "circle"
                 },
                 "nodeType": "DOM",
                 "props": {
                  "attributes": {
                   "cx": "295.2324194354659",
                   "cy": "66.77325577760992",
                   "fill": "lime",
                   "r": "30.0"
                  }
                 },
                 "type": "node"
                },
                {
                 "children": [],
                 "instanceArgs": {
                  "namespace": "svg",
                  "tag": "circle"
                 },
                 "nodeType": "DOM",
                 "props": {
                  "attributes": {
                   "cx": "300.8028424436822",
                   "cy": "72.72355124440129",
                   "fill": "teal",
                   "r": "30.0"
                  }
                 },
                 "type": "node"
                },
                {
                 "children": [],
                 "instanceArgs": {
                  "namespace": "svg",
                  "tag": "circle"
                 },
                 "nodeType": "DOM",
                 "props": {
                  "attributes": {
                   "cx": "306.37326545189853",
                   "cy": "79.44596744296081",
                   "fill": "aqua",
                   "r": "30.0"
                  }
                 },
                 "type": "node"
                },
                {
                 "children": [],
                 "instanceArgs": {
                  "namespace": "svg",
                  "tag": "circle"
                 },
                 "nodeType": "DOM",
                 "props": {
                  "attributes": {
                   "cx": "311.9436884601149",
                   "cy": "86.87333621276792",
                   "fill": "navy",
                   "r": "30.0"
                  }
                 },
                 "type": "node"
                },
                {
                 "children": [],
                 "instanceArgs": {
                  "namespace": "svg",
                  "tag": "circle"
                 },
                 "nodeType": "DOM",
                 "props": {
                  "attributes": {
                   "cx": "317.5141114683312",
                   "cy": "94.93144574023623",
                   "fill": "blue",
                   "r": "30.0"
                  }
                 },
                 "type": "node"
                },
                {
                 "children": [],
                 "instanceArgs": {
                  "namespace": "svg",
                  "tag": "circle"
                 },
                 "nodeType": "DOM",
                 "props": {
                  "attributes": {
                   "cx": "323.08453447654756",
                   "cy": "103.53978205862435",
                   "fill": "purple",
                   "r": "30.0"
                  }
                 },
                 "type": "node"
                },
                {
                 "children": [],
                 "instanceArgs": {
                  "namespace": "svg",
                  "tag": "circle"
                 },
                 "nodeType": "DOM",
                 "props": {
                  "attributes": {
                   "cx": "328.6549574847639",
                   "cy": "112.6123335169764",
                   "fill": "fuchsia",
                   "r": "30.0"
                  }
                 },
                 "type": "node"
                },
                {
                 "children": [],
                 "instanceArgs": {
                  "namespace": "svg",
                  "tag": "circle"
                 },
                 "nodeType": "DOM",
                 "props": {
                  "attributes": {
                   "cx": "334.2253804929802",
                   "cy": "122.05845018010741",
                   "fill": "black",
                   "r": "30.0"
                  }
                 },
                 "type": "node"
                },
                {
                 "children": [],
                 "instanceArgs": {
                  "namespace": "svg",
                  "tag": "circle"
                 },
                 "nodeType": "DOM",
                 "props": {
                  "attributes": {
                   "cx": "339.79580350119653",
                   "cy": "131.7837495727905",
                   "fill": "gray",
                   "r": "30.0"
                  }
                 },
                 "type": "node"
                },
                {
                 "children": [],
                 "instanceArgs": {
                  "namespace": "svg",
                  "tag": "circle"
                 },
                 "nodeType": "DOM",
                 "props": {
                  "attributes": {
                   "cx": "345.3662265094129",
                   "cy": "141.69105971825036",
                   "fill": "silver",
                   "r": "30.0"
                  }
                 },
                 "type": "node"
                },
                {
                 "children": [],
                 "instanceArgs": {
                  "namespace": "svg",
                  "tag": "circle"
                 },
                 "nodeType": "DOM",
                 "props": {
                  "attributes": {
                   "cx": "350.9366495176293",
                   "cy": "151.68139004843505",
                   "fill": "maroon",
                   "r": "30.0"
                  }
                 },
                 "type": "node"
                },
                {
                 "children": [],
                 "instanceArgs": {
                  "namespace": "svg",
                  "tag": "circle"
                 },
                 "nodeType": "DOM",
                 "props": {
                  "attributes": {
                   "cx": "356.50707252584556",
                   "cy": "161.65492048504936",
                   "fill": "red",
                   "r": "30.0"
                  }
                 },
                 "type": "node"
                },
                {
                 "children": [],
                 "instanceArgs": {
                  "namespace": "svg",
                  "tag": "circle"
                 },
                 "nodeType": "DOM",
                 "props": {
                  "attributes": {
                   "cx": "362.0774955340619",
                   "cy": "171.51199880878156",
                   "fill": "olive",
                   "r": "30.0"
                  }
                 },
                 "type": "node"
                },
                {
                 "children": [],
                 "instanceArgs": {
                  "namespace": "svg",
                  "tag": "circle"
                 },
                 "nodeType": "DOM",
                 "props": {
                  "attributes": {
                   "cx": "367.64791854227826",
                   "cy": "181.15413635133785",
                   "fill": "yellow",
                   "r": "30.0"
                  }
                 },
                 "type": "node"
                },
                {
                 "children": [],
                 "instanceArgs": {
                  "namespace": "svg",
                  "tag": "circle"
                 },
                 "nodeType": "DOM",
                 "props": {
                  "attributes": {
                   "cx": "373.2183415504946",
                   "cy": "190.48499206165982",
                   "fill": "green",
                   "r": "30.0"
                  }
                 },
                 "type": "node"
                },
                {
                 "children": [],
                 "instanceArgs": {
                  "namespace": "svg",
                  "tag": "circle"
                 },
                 "nodeType": "DOM",
                 "props": {
                  "attributes": {
                   "cx": "378.78876455871097",
                   "cy": "199.4113351138609",
                   "fill": "lime",
                   "r": "30.0"
                  }
                 },
                 "type": "node"
                },
                {
                 "children": [],
                 "instanceArgs": {
                  "namespace": "svg",
                  "tag": "circle"
                 },
                 "nodeType": "DOM",
                 "props": {
                  "attributes": {
                   "cx": "384.35918756692723",
                   "cy": "207.84397643882002",
                   "fill": "teal",
                   "r": "30.0"
                  }
                 },
                 "type": "node"
                },
                {
                 "children": [],
                 "instanceArgs": {
                  "namespace": "svg",
                  "tag": "circle"
                 },
                 "nodeType": "DOM",
                 "props": {
                  "attributes": {
                   "cx": "389.9296105751436",
                   "cy": "215.6986598718789",
                   "fill": "aqua",
                   "r": "30.0"
                  }
                 },
                 "type": "node"
                },
                {
                 "children": [],
                 "instanceArgs": {
                  "namespace": "svg",
                  "tag": "circle"
                 },
                 "nodeType": "DOM",
                 "props": {
                  "attributes": {
                   "cx": "395.50003358335994",
                   "cy": "222.89690401258764",
                   "fill": "navy",
                   "r": "30.0"
                  }
                 },
                 "type": "node"
                },
                {
                 "children": [],
                 "instanceArgs": {
                  "namespace": "svg",
                  "tag": "circle"
                 },
                 "nodeType": "DOM",
                 "props": {
                  "attributes": {
                   "cx": "401.07045659157626",
                   "cy": "229.36678638491532",
                   "fill": "blue",
                   "r": "30.0"
                  }
                 },
                 "type": "node"
                },
                {
                 "children": [],
                 "instanceArgs": {
                  "namespace": "svg",
                  "tag": "circle"
                 },
                 "nodeType": "DOM",
                 "props": {
                  "attributes": {
                   "cx": "406.6408795997927",
                   "cy": "235.04366206285647",
                   "fill": "purple",
                   "r": "30.0"
                  }
                 },
                 "type": "node"
                },
                {
                 "children": [],
                 "instanceArgs": {
                  "namespace": "svg",
                  "tag": "circle"
                 },
                 "nodeType": "DOM",
                 "props": {
                  "attributes": {
                   "cx": "412.21130260800896",
                   "cy": "239.8708095811627",
                   "fill": "fuchsia",
                   "r": "30.0"
                  }
                 },
                 "type": "node"
                },
                {
                 "children": [],
                 "instanceArgs": {
                  "namespace": "svg",
                  "tag": "circle"
                 },
                 "nodeType": "DOM",
                 "props": {
                  "attributes": {
                   "cx": "417.7817256162253",
                   "cy": "243.79999767747387",
                   "fill": "black",
                   "r": "30.0"
                  }
                 },
                 "type": "node"
                },
                {
                 "children": [],
                 "instanceArgs": {
                  "namespace": "svg",
                  "tag": "circle"
                 },
                 "nodeType": "DOM",
                 "props": {
                  "attributes": {
                   "cx": "423.3521486244416",
                   "cy": "246.79196720314866",
                   "fill": "gray",
                   "r": "30.0"
                  }
                 },
                 "type": "node"
                },
                {
                 "children": [],
                 "instanceArgs": {
                  "namespace": "svg",
                  "tag": "circle"
                 },
                 "nodeType": "DOM",
                 "props": {
                  "attributes": {
                   "cx": "428.92257163265793",
                   "cy": "248.81682338770003",
                   "fill": "silver",
                   "r": "30.0"
                  }
                 },
                 "type": "node"
                },
                {
                 "children": [],
                 "instanceArgs": {
                  "namespace": "svg",
                  "tag": "circle"
                 },
                 "nodeType": "DOM",
                 "props": {
                  "attributes": {
                   "cx": "434.4929946408744",
                   "cy": "249.8543345374605",
                   "fill": "maroon",
                   "r": "30.0"
                  }
                 },
                 "type": "node"
                },
                {
                 "children": [],
                 "instanceArgs": {
                  "namespace": "svg",
                  "tag": "circle"
                 },
                 "nodeType": "DOM",
                 "props": {
                  "attributes": {
                   "cx": "440.06341764909064",
                   "cy": "249.8941341839772",
                   "fill": "red",
                   "r": "30.0"
                  }
                 },
                 "type": "node"
                },
                {
                 "children": [],
                 "instanceArgs": {
                  "namespace": "svg",
                  "tag": "circle"
                 },
                 "nodeType": "DOM",
                 "props": {
                  "attributes": {
                   "cx": "445.63384065730696",
                   "cy": "248.93582466233818",
                   "fill": "olive",
                   "r": "30.0"
                  }
                 },
                 "type": "node"
                },
                {
                 "children": [],
                 "instanceArgs": {
                  "namespace": "svg",
                  "tag": "circle"
                 },
                 "nodeType": "DOM",
                 "props": {
                  "attributes": {
                   "cx": "451.2042636655233",
                   "cy": "246.98898108450862",
                   "fill": "yellow",
                   "r": "30.0"
                  }
                 },
                 "type": "node"
                },
                {
                 "children": [],
                 "instanceArgs": {
                  "namespace": "svg",
                  "tag": "circle"
                 },
                 "nodeType": "DOM",
                 "props": {
                  "attributes": {
                   "cx": "456.7746866737397",
                   "cy": "244.07305566797726",
                   "fill": "green",
                   "r": "30.0"
                  }
                 },
                 "type": "node"
                },
                {
                 "children": [],
                 "instanceArgs": {
                  "namespace": "svg",
                  "tag": "circle"
                 },
                 "nodeType": "DOM",
                 "props": {
                  "attributes": {
                   "cx": "462.34510968195605",
                   "cy": "240.2171833756293",
                   "fill": "lime",
                   "r": "30.0"
                  }
                 },
                 "type": "node"
                },
                {
                 "children": [],
                 "instanceArgs": {
                  "namespace": "svg",
                  "tag": "circle"
                 },
                 "nodeType": "DOM",
                 "props": {
                  "attributes": {
                   "cx": "467.9155326901723",
                   "cy": "235.45989080882805",
                   "fill": "teal",
                   "r": "30.0"
                  }
                 },
                 "type": "node"
                },
                {
                 "children": [],
                 "instanceArgs": {
                  "namespace": "svg",
                  "tag": "circle"
                 },
                 "nodeType": "DOM",
                 "props": {
                  "attributes": {
                   "cx": "473.48595569838864",
                   "cy": "229.848711262349",
                   "fill": "aqua",
                   "r": "30.0"
                  }
                 },
                 "type": "node"
                },
                {
                 "children": [],
                 "instanceArgs": {
                  "namespace": "svg",
                  "tag": "circle"
                 },
                 "nodeType": "DOM",
                 "props": {
                  "attributes": {
                   "cx": "479.05637870660496",
                   "cy": "223.43970978741135",
                   "fill": "navy",
                   "r": "30.0"
                  }
                 },
                 "type": "node"
                },
                {
                 "children": [],
                 "instanceArgs": {
                  "namespace": "svg",
                  "tag": "circle"
                 },
                 "nodeType": "DOM",
                 "props": {
                  "attributes": {
                   "cx": "484.6268017148214",
                   "cy": "216.2969230082182",
                   "fill": "blue",
                   "r": "30.0"
                  }
                 },
                 "type": "node"
                },
                {
                 "children": [],
                 "instanceArgs": {
                  "namespace": "svg",
                  "tag": "circle"
                 },
                 "nodeType": "DOM",
                 "props": {
                  "attributes": {
                   "cx": "490.1972247230377",
                   "cy": "208.49171928917616",
                   "fill": "purple",
                   "r": "30.0"
                  }
                 },
                 "type": "node"
                },
                {
                 "children": [],
                 "instanceArgs": {
                  "namespace": "svg",
                  "tag": "circle"
                 },
                 "nodeType": "DOM",
                 "props": {
                  "attributes": {
                   "cx": "495.767647731254",
                   "cy": "200.10208564578846",
                   "fill": "fuchsia",
                   "r": "30.0"
                  }
                 },
                 "type": "node"
                },
                {
                 "children": [],
                 "instanceArgs": {
                  "namespace": "svg",
                  "tag": "circle"
                 },
                 "nodeType": "DOM",
                 "props": {
                  "attributes": {
                   "cx": "501.3380707394703",
                   "cy": "191.21184852417565",
                   "fill": "black",
                   "r": "30.0"
                  }
                 },
                 "type": "node"
                },
                {
                 "children": [],
                 "instanceArgs": {
                  "namespace": "svg",
                  "tag": "circle"
                 },
                 "nodeType": "DOM",
                 "props": {
                  "attributes": {
                   "cx": "506.9084937476867",
                   "cy": "181.9098362349352",
                   "fill": "gray",
                   "r": "30.0"
                  }
                 },
                 "type": "node"
                },
                {
                 "children": [],
                 "instanceArgs": {
                  "namespace": "svg",
                  "tag": "circle"
                 },
                 "nodeType": "DOM",
                 "props": {
                  "attributes": {
                   "cx": "512.4789167559031",
                   "cy": "172.2889914100246",
                   "fill": "silver",
                   "r": "30.0"
                  }
                 },
                 "type": "node"
                },
                {
                 "children": [],
                 "instanceArgs": {
                  "namespace": "svg",
                  "tag": "circle"
                 },
                 "nodeType": "DOM",
                 "props": {
                  "attributes": {
                   "cx": "518.0493397641194",
                   "cy": "162.44544235070617",
                   "fill": "maroon",
                   "r": "30.0"
                  }
                 },
                 "type": "node"
                },
                {
                 "children": [],
                 "instanceArgs": {
                  "namespace": "svg",
                  "tag": "circle"
                 },
                 "nodeType": "DOM",
                 "props": {
                  "attributes": {
                   "cx": "523.6197627723357",
                   "cy": "152.47754254533578",
                   "fill": "red",
                   "r": "30.0"
                  }
                 },
                 "type": "node"
                },
                {
                 "children": [],
                 "instanceArgs": {
                  "namespace": "svg",
                  "tag": "circle"
                 },
                 "nodeType": "DOM",
                 "props": {
                  "attributes": {
                   "cx": "529.190185780552",
                   "cy": "142.48488795381908",
                   "fill": "olive",
                   "r": "30.0"
                  }
                 },
                 "type": "node"
                },
                {
                 "children": [],
                 "instanceArgs": {
                  "namespace": "svg",
                  "tag": "circle"
                 },
                 "nodeType": "DOM",
                 "props": {
                  "attributes": {
                   "cx": "534.7606087887684",
                   "cy": "132.56732187770186",
                   "fill": "yellow",
                   "r": "30.0"
                  }
                 },
                 "type": "node"
                },
                {
                 "children": [],
                 "instanceArgs": {
                  "namespace": "svg",
                  "tag": "circle"
                 },
                 "nodeType": "DOM",
                 "props": {
                  "attributes": {
                   "cx": "540.3310317969848",
                   "cy": "122.82393735890558",
                   "fill": "green",
                   "r": "30.0"
                  }
                 },
                 "type": "node"
                },
                {
                 "children": [],
                 "instanceArgs": {
                  "namespace": "svg",
                  "tag": "circle"
                 },
                 "nodeType": "DOM",
                 "props": {
                  "attributes": {
                   "cx": "545.9014548052011",
                   "cy": "113.35208707480717",
                   "fill": "lime",
                   "r": "30.0"
                  }
                 },
                 "type": "node"
                },
                {
                 "children": [],
                 "instanceArgs": {
                  "namespace": "svg",
                  "tag": "circle"
                 },
                 "nodeType": "DOM",
                 "props": {
                  "attributes": {
                   "cx": "551.4718778134173",
                   "cy": "104.24641062246786",
                   "fill": "teal",
                   "r": "30.0"
                  }
                 },
                 "type": "node"
                },
                {
                 "children": [],
                 "instanceArgs": {
                  "namespace": "svg",
                  "tag": "circle"
                 },
                 "nodeType": "DOM",
                 "props": {
                  "attributes": {
                   "cx": "557.0423008216337",
                   "cy": "95.59788891106302",
                   "fill": "aqua",
                   "r": "30.0"
                  }
                 },
                 "type": "node"
                }
               ],
               "instanceArgs": {
                "namespace": "svg",
                "tag": "svg"
               },
               "nodeType": "DOM",
               "props": {
                "attributes": {
                 "height": "300",
                 "width": "700"
                }
               },
               "type": "node"
              }
             ],
             "instanceArgs": {
              "namespace": "html",
              "tag": "div"
             },
             "nodeType": "DOM",
             "props": {
              "className": "interact-flex-row interact-widget"
             },
             "type": "node"
            }
           }
          },
          "systemjs_options": null
         },
         "nodeType": "Scope",
         "props": {},
         "type": "node"
        }
       ],
       "instanceArgs": {
        "namespace": "html",
        "tag": "div"
       },
       "nodeType": "DOM",
       "props": {},
       "type": "node"
      },
      "text/html": [
       "<div\n",
       "    class=\"webio-mountpoint\"\n",
       "    data-webio-mountpoint=\"10364095176914525099\"\n",
       ">\n",
       "    <script>\n",
       "    if (window.require && require.defined && require.defined(\"nbextensions/webio/main\")) {\n",
       "        console.log(\"Jupyter WebIO extension detected, not mounting.\");\n",
       "    } else if (window.WebIO) {\n",
       "        WebIO.mount(\n",
       "            document.querySelector('[data-webio-mountpoint=\"10364095176914525099\"]'),\n",
       "            {\"props\":{},\"nodeType\":\"DOM\",\"type\":\"node\",\"instanceArgs\":{\"namespace\":\"html\",\"tag\":\"div\"},\"children\":[{\"props\":{\"className\":\"field interact-widget\"},\"nodeType\":\"DOM\",\"type\":\"node\",\"instanceArgs\":{\"namespace\":\"html\",\"tag\":\"div\"},\"children\":[{\"props\":{},\"nodeType\":\"Scope\",\"type\":\"node\",\"instanceArgs\":{\"imports\":{\"data\":[{\"name\":\"knockout\",\"type\":\"js\",\"url\":\"\\/assetserver\\/1418600122391479348d6b70f8fc3978f3015b35-knockout.js\"},{\"name\":\"knockout_punches\",\"type\":\"js\",\"url\":\"\\/assetserver\\/cd3f841ffabd7ce8124a19658c02643a3dce952c-knockout_punches.js\"},{\"name\":null,\"type\":\"js\",\"url\":\"\\/assetserver\\/ac53a1d0dfbe96bbdab46a2c15a1a1f5029edf92-all.js\"},{\"name\":null,\"type\":\"css\",\"url\":\"\\/assetserver\\/a90858055ce62250f15db56d945919371e115fff-style.css\"},{\"name\":null,\"type\":\"css\",\"url\":\"\\/assetserver\\/901695cb7baff74a76878a59f7f01c86f6c24ff1-bulma_confined.min.css\"}],\"type\":\"async_block\"},\"id\":\"14956934195493447977\",\"handlers\":{\"changes\":[\"(function (val){return (val!=this.model[\\\"changes\\\"]()) ? (this.valueFromJulia[\\\"changes\\\"]=true, this.model[\\\"changes\\\"](val)) : undefined})\"],\"index\":[\"(function (val){return (val!=this.model[\\\"index\\\"]()) ? (this.valueFromJulia[\\\"index\\\"]=true, this.model[\\\"index\\\"](val)) : undefined})\"]},\"systemjs_options\":null,\"mount_callbacks\":[\"function () {\\n    var handler = (function (ko, koPunches) {\\n    ko.punches.enableAll();\\n    ko.bindingHandlers.numericValue = {\\n        init: function(element, valueAccessor, allBindings, data, context) {\\n            var stringified = ko.observable(ko.unwrap(valueAccessor()));\\n            stringified.subscribe(function(value) {\\n                var val = parseFloat(value);\\n                if (!isNaN(val)) {\\n                    valueAccessor()(val);\\n                }\\n            });\\n            valueAccessor().subscribe(function(value) {\\n                var str = JSON.stringify(value);\\n                if ((str == \\\"0\\\") && ([\\\"-0\\\", \\\"-0.\\\"].indexOf(stringified()) >= 0))\\n                     return;\\n                 if ([\\\"null\\\", \\\"\\\"].indexOf(str) >= 0)\\n                     return;\\n                stringified(str);\\n            });\\n            ko.applyBindingsToNode(\\n                element,\\n                {\\n                    value: stringified,\\n                    valueUpdate: allBindings.get('valueUpdate'),\\n                },\\n                context,\\n            );\\n        }\\n    };\\n    var json_data = {\\\"formatted_vals\\\":[\\\"1\\\",\\\"2\\\",\\\"3\\\",\\\"4\\\",\\\"5\\\",\\\"6\\\",\\\"7\\\",\\\"8\\\",\\\"9\\\",\\\"10\\\",\\\"11\\\",\\\"12\\\",\\\"13\\\",\\\"14\\\",\\\"15\\\",\\\"16\\\",\\\"17\\\",\\\"18\\\",\\\"19\\\",\\\"20\\\",\\\"21\\\",\\\"22\\\",\\\"23\\\",\\\"24\\\",\\\"25\\\",\\\"26\\\",\\\"27\\\",\\\"28\\\",\\\"29\\\",\\\"30\\\",\\\"31\\\",\\\"32\\\",\\\"33\\\",\\\"34\\\",\\\"35\\\",\\\"36\\\",\\\"37\\\",\\\"38\\\",\\\"39\\\",\\\"40\\\",\\\"41\\\",\\\"42\\\",\\\"43\\\",\\\"44\\\",\\\"45\\\",\\\"46\\\",\\\"47\\\",\\\"48\\\",\\\"49\\\",\\\"50\\\",\\\"51\\\",\\\"52\\\",\\\"53\\\",\\\"54\\\",\\\"55\\\",\\\"56\\\",\\\"57\\\",\\\"58\\\",\\\"59\\\",\\\"60\\\",\\\"61\\\",\\\"62\\\",\\\"63\\\",\\\"64\\\",\\\"65\\\",\\\"66\\\",\\\"67\\\",\\\"68\\\",\\\"69\\\",\\\"70\\\",\\\"71\\\",\\\"72\\\",\\\"73\\\",\\\"74\\\",\\\"75\\\",\\\"76\\\",\\\"77\\\",\\\"78\\\",\\\"79\\\",\\\"80\\\",\\\"81\\\",\\\"82\\\",\\\"83\\\",\\\"84\\\",\\\"85\\\",\\\"86\\\",\\\"87\\\",\\\"88\\\",\\\"89\\\",\\\"90\\\",\\\"91\\\",\\\"92\\\",\\\"93\\\",\\\"94\\\",\\\"95\\\",\\\"96\\\",\\\"97\\\",\\\"98\\\",\\\"99\\\",\\\"100\\\",\\\"101\\\",\\\"102\\\",\\\"103\\\",\\\"104\\\",\\\"105\\\",\\\"106\\\",\\\"107\\\",\\\"108\\\",\\\"109\\\",\\\"110\\\",\\\"111\\\",\\\"112\\\",\\\"113\\\",\\\"114\\\",\\\"115\\\",\\\"116\\\",\\\"117\\\",\\\"118\\\",\\\"119\\\",\\\"120\\\",\\\"121\\\",\\\"122\\\",\\\"123\\\",\\\"124\\\",\\\"125\\\",\\\"126\\\",\\\"127\\\",\\\"128\\\",\\\"129\\\",\\\"130\\\",\\\"131\\\",\\\"132\\\",\\\"133\\\",\\\"134\\\",\\\"135\\\",\\\"136\\\",\\\"137\\\",\\\"138\\\",\\\"139\\\",\\\"140\\\",\\\"141\\\",\\\"142\\\",\\\"143\\\",\\\"144\\\",\\\"145\\\",\\\"146\\\",\\\"147\\\",\\\"148\\\",\\\"149\\\",\\\"150\\\",\\\"151\\\",\\\"152\\\",\\\"153\\\",\\\"154\\\",\\\"155\\\",\\\"156\\\",\\\"157\\\",\\\"158\\\",\\\"159\\\",\\\"160\\\",\\\"161\\\",\\\"162\\\",\\\"163\\\",\\\"164\\\",\\\"165\\\",\\\"166\\\",\\\"167\\\",\\\"168\\\",\\\"169\\\",\\\"170\\\",\\\"171\\\",\\\"172\\\",\\\"173\\\",\\\"174\\\",\\\"175\\\",\\\"176\\\",\\\"177\\\",\\\"178\\\",\\\"179\\\",\\\"180\\\",\\\"181\\\",\\\"182\\\",\\\"183\\\",\\\"184\\\",\\\"185\\\",\\\"186\\\",\\\"187\\\",\\\"188\\\",\\\"189\\\",\\\"190\\\",\\\"191\\\",\\\"192\\\",\\\"193\\\",\\\"194\\\",\\\"195\\\",\\\"196\\\",\\\"197\\\",\\\"198\\\",\\\"199\\\",\\\"200\\\"],\\\"changes\\\":WebIO.getval({\\\"name\\\":\\\"changes\\\",\\\"scope\\\":\\\"14956934195493447977\\\",\\\"id\\\":\\\"ob_122\\\",\\\"type\\\":\\\"observable\\\"}),\\\"index\\\":WebIO.getval({\\\"name\\\":\\\"index\\\",\\\"scope\\\":\\\"14956934195493447977\\\",\\\"id\\\":\\\"ob_121\\\",\\\"type\\\":\\\"observable\\\"})};\\n    var self = this;\\n    function AppViewModel() {\\n        for (var key in json_data) {\\n            var el = json_data[key];\\n            this[key] = Array.isArray(el) ? ko.observableArray(el) : ko.observable(el);\\n        }\\n        \\n        [this[\\\"formatted_val\\\"]=ko.computed(    function(){\\n        return this.formatted_vals()[parseInt(this.index())-(1)];\\n    }\\n,this)]\\n        [this[\\\"changes\\\"].subscribe((function (val){!(this.valueFromJulia[\\\"changes\\\"]) ? (WebIO.setval({\\\"name\\\":\\\"changes\\\",\\\"scope\\\":\\\"14956934195493447977\\\",\\\"id\\\":\\\"ob_122\\\",\\\"type\\\":\\\"observable\\\"},val)) : undefined; return this.valueFromJulia[\\\"changes\\\"]=false}),self),this[\\\"index\\\"].subscribe((function (val){!(this.valueFromJulia[\\\"index\\\"]) ? (WebIO.setval({\\\"name\\\":\\\"index\\\",\\\"scope\\\":\\\"14956934195493447977\\\",\\\"id\\\":\\\"ob_121\\\",\\\"type\\\":\\\"observable\\\"},val)) : undefined; return this.valueFromJulia[\\\"index\\\"]=false}),self)]\\n        \\n    }\\n    self.model = new AppViewModel();\\n    self.valueFromJulia = {};\\n    for (var key in json_data) {\\n        self.valueFromJulia[key] = false;\\n    }\\n    ko.applyBindings(self.model, self.dom);\\n}\\n);\\n    (WebIO.importBlock({\\\"data\\\":[{\\\"name\\\":\\\"knockout\\\",\\\"type\\\":\\\"js\\\",\\\"url\\\":\\\"\\/assetserver\\/1418600122391479348d6b70f8fc3978f3015b35-knockout.js\\\"},{\\\"name\\\":\\\"knockout_punches\\\",\\\"type\\\":\\\"js\\\",\\\"url\\\":\\\"\\/assetserver\\/cd3f841ffabd7ce8124a19658c02643a3dce952c-knockout_punches.js\\\"}],\\\"type\\\":\\\"async_block\\\"})).then((imports) => handler.apply(this, imports));\\n}\\n\"],\"observables\":{\"changes\":{\"sync\":false,\"id\":\"ob_122\",\"value\":0},\"index\":{\"sync\":true,\"id\":\"ob_121\",\"value\":100}}},\"children\":[{\"props\":{\"className\":\"interact-flex-row interact-widget\"},\"nodeType\":\"DOM\",\"type\":\"node\",\"instanceArgs\":{\"namespace\":\"html\",\"tag\":\"div\"},\"children\":[{\"props\":{\"className\":\"interact-flex-row-left\"},\"nodeType\":\"DOM\",\"type\":\"node\",\"instanceArgs\":{\"namespace\":\"html\",\"tag\":\"div\"},\"children\":[{\"props\":{\"className\":\"interact \",\"style\":{\"padding\":\"5px 10px 0px 10px\"}},\"nodeType\":\"DOM\",\"type\":\"node\",\"instanceArgs\":{\"namespace\":\"html\",\"tag\":\"label\"},\"children\":[\"nsamples\"]}]},{\"props\":{\"className\":\"interact-flex-row-center\"},\"nodeType\":\"DOM\",\"type\":\"node\",\"instanceArgs\":{\"namespace\":\"html\",\"tag\":\"div\"},\"children\":[{\"props\":{\"max\":200,\"min\":1,\"attributes\":{\"type\":\"range\",\"data-bind\":\"numericValue: index, valueUpdate: 'input', event: {change: function (){this.changes(this.changes()+1)}}\",\"orient\":\"horizontal\"},\"step\":1,\"className\":\"slider slider is-fullwidth\",\"style\":{}},\"nodeType\":\"DOM\",\"type\":\"node\",\"instanceArgs\":{\"namespace\":\"html\",\"tag\":\"input\"},\"children\":[]}]},{\"props\":{\"className\":\"interact-flex-row-right\"},\"nodeType\":\"DOM\",\"type\":\"node\",\"instanceArgs\":{\"namespace\":\"html\",\"tag\":\"div\"},\"children\":[{\"props\":{\"attributes\":{\"data-bind\":\"text: formatted_val\"}},\"nodeType\":\"DOM\",\"type\":\"node\",\"instanceArgs\":{\"namespace\":\"html\",\"tag\":\"p\"},\"children\":[]}]}]}]}]},{\"props\":{\"className\":\"field interact-widget\"},\"nodeType\":\"DOM\",\"type\":\"node\",\"instanceArgs\":{\"namespace\":\"html\",\"tag\":\"div\"},\"children\":[{\"props\":{},\"nodeType\":\"Scope\",\"type\":\"node\",\"instanceArgs\":{\"imports\":{\"data\":[{\"name\":\"knockout\",\"type\":\"js\",\"url\":\"\\/assetserver\\/1418600122391479348d6b70f8fc3978f3015b35-knockout.js\"},{\"name\":\"knockout_punches\",\"type\":\"js\",\"url\":\"\\/assetserver\\/cd3f841ffabd7ce8124a19658c02643a3dce952c-knockout_punches.js\"},{\"name\":null,\"type\":\"js\",\"url\":\"\\/assetserver\\/ac53a1d0dfbe96bbdab46a2c15a1a1f5029edf92-all.js\"},{\"name\":null,\"type\":\"css\",\"url\":\"\\/assetserver\\/a90858055ce62250f15db56d945919371e115fff-style.css\"},{\"name\":null,\"type\":\"css\",\"url\":\"\\/assetserver\\/901695cb7baff74a76878a59f7f01c86f6c24ff1-bulma_confined.min.css\"}],\"type\":\"async_block\"},\"id\":\"14070570543640765666\",\"handlers\":{\"changes\":[\"(function (val){return (val!=this.model[\\\"changes\\\"]()) ? (this.valueFromJulia[\\\"changes\\\"]=true, this.model[\\\"changes\\\"](val)) : undefined})\"],\"index\":[\"(function (val){return (val!=this.model[\\\"index\\\"]()) ? (this.valueFromJulia[\\\"index\\\"]=true, this.model[\\\"index\\\"](val)) : undefined})\"]},\"systemjs_options\":null,\"mount_callbacks\":[\"function () {\\n    var handler = (function (ko, koPunches) {\\n    ko.punches.enableAll();\\n    ko.bindingHandlers.numericValue = {\\n        init: function(element, valueAccessor, allBindings, data, context) {\\n            var stringified = ko.observable(ko.unwrap(valueAccessor()));\\n            stringified.subscribe(function(value) {\\n                var val = parseFloat(value);\\n                if (!isNaN(val)) {\\n                    valueAccessor()(val);\\n                }\\n            });\\n            valueAccessor().subscribe(function(value) {\\n                var str = JSON.stringify(value);\\n                if ((str == \\\"0\\\") && ([\\\"-0\\\", \\\"-0.\\\"].indexOf(stringified()) >= 0))\\n                     return;\\n                 if ([\\\"null\\\", \\\"\\\"].indexOf(str) >= 0)\\n                     return;\\n                stringified(str);\\n            });\\n            ko.applyBindingsToNode(\\n                element,\\n                {\\n                    value: stringified,\\n                    valueUpdate: allBindings.get('valueUpdate'),\\n                },\\n                context,\\n            );\\n        }\\n    };\\n    var json_data = {\\\"formatted_vals\\\":[\\\"0.01\\\",\\\"0.02\\\",\\\"0.03\\\",\\\"0.04\\\",\\\"0.05\\\",\\\"0.06\\\",\\\"0.07\\\",\\\"0.08\\\",\\\"0.09\\\",\\\"0.1\\\",\\\"0.11\\\",\\\"0.12\\\",\\\"0.13\\\",\\\"0.14\\\",\\\"0.15\\\",\\\"0.16\\\",\\\"0.17\\\",\\\"0.18\\\",\\\"0.19\\\",\\\"0.2\\\",\\\"0.21\\\",\\\"0.22\\\",\\\"0.23\\\",\\\"0.24\\\",\\\"0.25\\\",\\\"0.26\\\",\\\"0.27\\\",\\\"0.28\\\",\\\"0.29\\\",\\\"0.3\\\",\\\"0.31\\\",\\\"0.32\\\",\\\"0.33\\\",\\\"0.34\\\",\\\"0.35\\\",\\\"0.36\\\",\\\"0.37\\\",\\\"0.38\\\",\\\"0.39\\\",\\\"0.4\\\",\\\"0.41\\\",\\\"0.42\\\",\\\"0.43\\\",\\\"0.44\\\",\\\"0.45\\\",\\\"0.46\\\",\\\"0.47\\\",\\\"0.48\\\",\\\"0.49\\\",\\\"0.5\\\",\\\"0.51\\\",\\\"0.52\\\",\\\"0.53\\\",\\\"0.54\\\",\\\"0.55\\\",\\\"0.56\\\",\\\"0.57\\\",\\\"0.58\\\",\\\"0.59\\\",\\\"0.6\\\",\\\"0.61\\\",\\\"0.62\\\",\\\"0.63\\\",\\\"0.64\\\",\\\"0.65\\\",\\\"0.66\\\",\\\"0.67\\\",\\\"0.68\\\",\\\"0.69\\\",\\\"0.7\\\",\\\"0.71\\\",\\\"0.72\\\",\\\"0.73\\\",\\\"0.74\\\",\\\"0.75\\\",\\\"0.76\\\",\\\"0.77\\\",\\\"0.78\\\",\\\"0.79\\\",\\\"0.8\\\",\\\"0.81\\\",\\\"0.82\\\",\\\"0.83\\\",\\\"0.84\\\",\\\"0.85\\\",\\\"0.86\\\",\\\"0.87\\\",\\\"0.88\\\",\\\"0.89\\\",\\\"0.9\\\",\\\"0.91\\\",\\\"0.92\\\",\\\"0.93\\\",\\\"0.94\\\",\\\"0.95\\\",\\\"0.96\\\",\\\"0.97\\\",\\\"0.98\\\",\\\"0.99\\\",\\\"1.0\\\"],\\\"changes\\\":WebIO.getval({\\\"name\\\":\\\"changes\\\",\\\"scope\\\":\\\"14070570543640765666\\\",\\\"id\\\":\\\"ob_125\\\",\\\"type\\\":\\\"observable\\\"}),\\\"index\\\":WebIO.getval({\\\"name\\\":\\\"index\\\",\\\"scope\\\":\\\"14070570543640765666\\\",\\\"id\\\":\\\"ob_124\\\",\\\"type\\\":\\\"observable\\\"})};\\n    var self = this;\\n    function AppViewModel() {\\n        for (var key in json_data) {\\n            var el = json_data[key];\\n            this[key] = Array.isArray(el) ? ko.observableArray(el) : ko.observable(el);\\n        }\\n        \\n        [this[\\\"formatted_val\\\"]=ko.computed(    function(){\\n        return this.formatted_vals()[parseInt(this.index())-(1)];\\n    }\\n,this)]\\n        [this[\\\"changes\\\"].subscribe((function (val){!(this.valueFromJulia[\\\"changes\\\"]) ? (WebIO.setval({\\\"name\\\":\\\"changes\\\",\\\"scope\\\":\\\"14070570543640765666\\\",\\\"id\\\":\\\"ob_125\\\",\\\"type\\\":\\\"observable\\\"},val)) : undefined; return this.valueFromJulia[\\\"changes\\\"]=false}),self),this[\\\"index\\\"].subscribe((function (val){!(this.valueFromJulia[\\\"index\\\"]) ? (WebIO.setval({\\\"name\\\":\\\"index\\\",\\\"scope\\\":\\\"14070570543640765666\\\",\\\"id\\\":\\\"ob_124\\\",\\\"type\\\":\\\"observable\\\"},val)) : undefined; return this.valueFromJulia[\\\"index\\\"]=false}),self)]\\n        \\n    }\\n    self.model = new AppViewModel();\\n    self.valueFromJulia = {};\\n    for (var key in json_data) {\\n        self.valueFromJulia[key] = false;\\n    }\\n    ko.applyBindings(self.model, self.dom);\\n}\\n);\\n    (WebIO.importBlock({\\\"data\\\":[{\\\"name\\\":\\\"knockout\\\",\\\"type\\\":\\\"js\\\",\\\"url\\\":\\\"\\/assetserver\\/1418600122391479348d6b70f8fc3978f3015b35-knockout.js\\\"},{\\\"name\\\":\\\"knockout_punches\\\",\\\"type\\\":\\\"js\\\",\\\"url\\\":\\\"\\/assetserver\\/cd3f841ffabd7ce8124a19658c02643a3dce952c-knockout_punches.js\\\"}],\\\"type\\\":\\\"async_block\\\"})).then((imports) => handler.apply(this, imports));\\n}\\n\"],\"observables\":{\"changes\":{\"sync\":false,\"id\":\"ob_125\",\"value\":0},\"index\":{\"sync\":true,\"id\":\"ob_124\",\"value\":10}}},\"children\":[{\"props\":{\"className\":\"interact-flex-row interact-widget\"},\"nodeType\":\"DOM\",\"type\":\"node\",\"instanceArgs\":{\"namespace\":\"html\",\"tag\":\"div\"},\"children\":[{\"props\":{\"className\":\"interact-flex-row-left\"},\"nodeType\":\"DOM\",\"type\":\"node\",\"instanceArgs\":{\"namespace\":\"html\",\"tag\":\"div\"},\"children\":[{\"props\":{\"className\":\"interact \",\"style\":{\"padding\":\"5px 10px 0px 10px\"}},\"nodeType\":\"DOM\",\"type\":\"node\",\"instanceArgs\":{\"namespace\":\"html\",\"tag\":\"label\"},\"children\":[\"sample step\"]}]},{\"props\":{\"className\":\"interact-flex-row-center\"},\"nodeType\":\"DOM\",\"type\":\"node\",\"instanceArgs\":{\"namespace\":\"html\",\"tag\":\"div\"},\"children\":[{\"props\":{\"max\":100,\"min\":1,\"attributes\":{\"type\":\"range\",\"data-bind\":\"numericValue: index, valueUpdate: 'input', event: {change: function (){this.changes(this.changes()+1)}}\",\"orient\":\"horizontal\"},\"step\":1,\"className\":\"slider slider is-fullwidth\",\"style\":{}},\"nodeType\":\"DOM\",\"type\":\"node\",\"instanceArgs\":{\"namespace\":\"html\",\"tag\":\"input\"},\"children\":[]}]},{\"props\":{\"className\":\"interact-flex-row-right\"},\"nodeType\":\"DOM\",\"type\":\"node\",\"instanceArgs\":{\"namespace\":\"html\",\"tag\":\"div\"},\"children\":[{\"props\":{\"attributes\":{\"data-bind\":\"text: formatted_val\"}},\"nodeType\":\"DOM\",\"type\":\"node\",\"instanceArgs\":{\"namespace\":\"html\",\"tag\":\"p\"},\"children\":[]}]}]}]}]},{\"props\":{\"className\":\"field interact-widget\"},\"nodeType\":\"DOM\",\"type\":\"node\",\"instanceArgs\":{\"namespace\":\"html\",\"tag\":\"div\"},\"children\":[{\"props\":{},\"nodeType\":\"Scope\",\"type\":\"node\",\"instanceArgs\":{\"imports\":{\"data\":[{\"name\":\"knockout\",\"type\":\"js\",\"url\":\"\\/assetserver\\/1418600122391479348d6b70f8fc3978f3015b35-knockout.js\"},{\"name\":\"knockout_punches\",\"type\":\"js\",\"url\":\"\\/assetserver\\/cd3f841ffabd7ce8124a19658c02643a3dce952c-knockout_punches.js\"},{\"name\":null,\"type\":\"js\",\"url\":\"\\/assetserver\\/ac53a1d0dfbe96bbdab46a2c15a1a1f5029edf92-all.js\"},{\"name\":null,\"type\":\"css\",\"url\":\"\\/assetserver\\/a90858055ce62250f15db56d945919371e115fff-style.css\"},{\"name\":null,\"type\":\"css\",\"url\":\"\\/assetserver\\/901695cb7baff74a76878a59f7f01c86f6c24ff1-bulma_confined.min.css\"}],\"type\":\"async_block\"},\"id\":\"15808431358851312018\",\"handlers\":{\"changes\":[\"(function (val){return (val!=this.model[\\\"changes\\\"]()) ? (this.valueFromJulia[\\\"changes\\\"]=true, this.model[\\\"changes\\\"](val)) : undefined})\"],\"index\":[\"(function (val){return (val!=this.model[\\\"index\\\"]()) ? (this.valueFromJulia[\\\"index\\\"]=true, this.model[\\\"index\\\"](val)) : undefined})\"]},\"systemjs_options\":null,\"mount_callbacks\":[\"function () {\\n    var handler = (function (ko, koPunches) {\\n    ko.punches.enableAll();\\n    ko.bindingHandlers.numericValue = {\\n        init: function(element, valueAccessor, allBindings, data, context) {\\n            var stringified = ko.observable(ko.unwrap(valueAccessor()));\\n            stringified.subscribe(function(value) {\\n                var val = parseFloat(value);\\n                if (!isNaN(val)) {\\n                    valueAccessor()(val);\\n                }\\n            });\\n            valueAccessor().subscribe(function(value) {\\n                var str = JSON.stringify(value);\\n                if ((str == \\\"0\\\") && ([\\\"-0\\\", \\\"-0.\\\"].indexOf(stringified()) >= 0))\\n                     return;\\n                 if ([\\\"null\\\", \\\"\\\"].indexOf(str) >= 0)\\n                     return;\\n                stringified(str);\\n            });\\n            ko.applyBindingsToNode(\\n                element,\\n                {\\n                    value: stringified,\\n                    valueUpdate: allBindings.get('valueUpdate'),\\n                },\\n                context,\\n            );\\n        }\\n    };\\n    var json_data = {\\\"formatted_vals\\\":[\\\"0.0\\\",\\\"0.1\\\",\\\"0.2\\\",\\\"0.3\\\",\\\"0.4\\\",\\\"0.5\\\",\\\"0.6\\\",\\\"0.7\\\",\\\"0.8\\\",\\\"0.9\\\",\\\"1.0\\\",\\\"1.1\\\",\\\"1.2\\\",\\\"1.3\\\",\\\"1.4\\\",\\\"1.5\\\",\\\"1.6\\\",\\\"1.7\\\",\\\"1.8\\\",\\\"1.9\\\",\\\"2.0\\\",\\\"2.1\\\",\\\"2.2\\\",\\\"2.3\\\",\\\"2.4\\\",\\\"2.5\\\",\\\"2.6\\\",\\\"2.7\\\",\\\"2.8\\\",\\\"2.9\\\",\\\"3.0\\\",\\\"3.1\\\",\\\"3.2\\\",\\\"3.3\\\",\\\"3.4\\\",\\\"3.5\\\",\\\"3.6\\\",\\\"3.7\\\",\\\"3.8\\\",\\\"3.9\\\",\\\"4.0\\\",\\\"4.1\\\",\\\"4.2\\\",\\\"4.3\\\",\\\"4.4\\\",\\\"4.5\\\",\\\"4.6\\\",\\\"4.7\\\",\\\"4.8\\\",\\\"4.9\\\",\\\"5.0\\\",\\\"5.1\\\",\\\"5.2\\\",\\\"5.3\\\",\\\"5.4\\\",\\\"5.5\\\",\\\"5.6\\\",\\\"5.7\\\",\\\"5.8\\\",\\\"5.9\\\",\\\"6.0\\\",\\\"6.1\\\",\\\"6.2\\\"],\\\"changes\\\":WebIO.getval({\\\"name\\\":\\\"changes\\\",\\\"scope\\\":\\\"15808431358851312018\\\",\\\"id\\\":\\\"ob_128\\\",\\\"type\\\":\\\"observable\\\"}),\\\"index\\\":WebIO.getval({\\\"name\\\":\\\"index\\\",\\\"scope\\\":\\\"15808431358851312018\\\",\\\"id\\\":\\\"ob_127\\\",\\\"type\\\":\\\"observable\\\"})};\\n    var self = this;\\n    function AppViewModel() {\\n        for (var key in json_data) {\\n            var el = json_data[key];\\n            this[key] = Array.isArray(el) ? ko.observableArray(el) : ko.observable(el);\\n        }\\n        \\n        [this[\\\"formatted_val\\\"]=ko.computed(    function(){\\n        return this.formatted_vals()[parseInt(this.index())-(1)];\\n    }\\n,this)]\\n        [this[\\\"changes\\\"].subscribe((function (val){!(this.valueFromJulia[\\\"changes\\\"]) ? (WebIO.setval({\\\"name\\\":\\\"changes\\\",\\\"scope\\\":\\\"15808431358851312018\\\",\\\"id\\\":\\\"ob_128\\\",\\\"type\\\":\\\"observable\\\"},val)) : undefined; return this.valueFromJulia[\\\"changes\\\"]=false}),self),this[\\\"index\\\"].subscribe((function (val){!(this.valueFromJulia[\\\"index\\\"]) ? (WebIO.setval({\\\"name\\\":\\\"index\\\",\\\"scope\\\":\\\"15808431358851312018\\\",\\\"id\\\":\\\"ob_127\\\",\\\"type\\\":\\\"observable\\\"},val)) : undefined; return this.valueFromJulia[\\\"index\\\"]=false}),self)]\\n        \\n    }\\n    self.model = new AppViewModel();\\n    self.valueFromJulia = {};\\n    for (var key in json_data) {\\n        self.valueFromJulia[key] = false;\\n    }\\n    ko.applyBindings(self.model, self.dom);\\n}\\n);\\n    (WebIO.importBlock({\\\"data\\\":[{\\\"name\\\":\\\"knockout\\\",\\\"type\\\":\\\"js\\\",\\\"url\\\":\\\"\\/assetserver\\/1418600122391479348d6b70f8fc3978f3015b35-knockout.js\\\"},{\\\"name\\\":\\\"knockout_punches\\\",\\\"type\\\":\\\"js\\\",\\\"url\\\":\\\"\\/assetserver\\/cd3f841ffabd7ce8124a19658c02643a3dce952c-knockout_punches.js\\\"}],\\\"type\\\":\\\"async_block\\\"})).then((imports) => handler.apply(this, imports));\\n}\\n\"],\"observables\":{\"changes\":{\"sync\":false,\"id\":\"ob_128\",\"value\":0},\"index\":{\"sync\":true,\"id\":\"ob_127\",\"value\":1}}},\"children\":[{\"props\":{\"className\":\"interact-flex-row interact-widget\"},\"nodeType\":\"DOM\",\"type\":\"node\",\"instanceArgs\":{\"namespace\":\"html\",\"tag\":\"div\"},\"children\":[{\"props\":{\"className\":\"interact-flex-row-left\"},\"nodeType\":\"DOM\",\"type\":\"node\",\"instanceArgs\":{\"namespace\":\"html\",\"tag\":\"div\"},\"children\":[{\"props\":{\"className\":\"interact \",\"style\":{\"padding\":\"5px 10px 0px 10px\"}},\"nodeType\":\"DOM\",\"type\":\"node\",\"instanceArgs\":{\"namespace\":\"html\",\"tag\":\"label\"},\"children\":[\"phase\"]}]},{\"props\":{\"className\":\"interact-flex-row-center\"},\"nodeType\":\"DOM\",\"type\":\"node\",\"instanceArgs\":{\"namespace\":\"html\",\"tag\":\"div\"},\"children\":[{\"props\":{\"max\":63,\"min\":1,\"attributes\":{\"type\":\"range\",\"data-bind\":\"numericValue: index, valueUpdate: 'input', event: {change: function (){this.changes(this.changes()+1)}}\",\"orient\":\"horizontal\"},\"step\":1,\"className\":\"slider slider is-fullwidth\",\"style\":{}},\"nodeType\":\"DOM\",\"type\":\"node\",\"instanceArgs\":{\"namespace\":\"html\",\"tag\":\"input\"},\"children\":[]}]},{\"props\":{\"className\":\"interact-flex-row-right\"},\"nodeType\":\"DOM\",\"type\":\"node\",\"instanceArgs\":{\"namespace\":\"html\",\"tag\":\"div\"},\"children\":[{\"props\":{\"attributes\":{\"data-bind\":\"text: formatted_val\"}},\"nodeType\":\"DOM\",\"type\":\"node\",\"instanceArgs\":{\"namespace\":\"html\",\"tag\":\"p\"},\"children\":[]}]}]}]}]},{\"props\":{\"className\":\"field interact-widget\"},\"nodeType\":\"DOM\",\"type\":\"node\",\"instanceArgs\":{\"namespace\":\"html\",\"tag\":\"div\"},\"children\":[{\"props\":{},\"nodeType\":\"Scope\",\"type\":\"node\",\"instanceArgs\":{\"imports\":{\"data\":[{\"name\":\"knockout\",\"type\":\"js\",\"url\":\"\\/assetserver\\/1418600122391479348d6b70f8fc3978f3015b35-knockout.js\"},{\"name\":\"knockout_punches\",\"type\":\"js\",\"url\":\"\\/assetserver\\/cd3f841ffabd7ce8124a19658c02643a3dce952c-knockout_punches.js\"},{\"name\":null,\"type\":\"js\",\"url\":\"\\/assetserver\\/ac53a1d0dfbe96bbdab46a2c15a1a1f5029edf92-all.js\"},{\"name\":null,\"type\":\"css\",\"url\":\"\\/assetserver\\/a90858055ce62250f15db56d945919371e115fff-style.css\"},{\"name\":null,\"type\":\"css\",\"url\":\"\\/assetserver\\/901695cb7baff74a76878a59f7f01c86f6c24ff1-bulma_confined.min.css\"}],\"type\":\"async_block\"},\"id\":\"2689834560385674208\",\"handlers\":{\"changes\":[\"(function (val){return (val!=this.model[\\\"changes\\\"]()) ? (this.valueFromJulia[\\\"changes\\\"]=true, this.model[\\\"changes\\\"](val)) : undefined})\"],\"index\":[\"(function (val){return (val!=this.model[\\\"index\\\"]()) ? (this.valueFromJulia[\\\"index\\\"]=true, this.model[\\\"index\\\"](val)) : undefined})\"]},\"systemjs_options\":null,\"mount_callbacks\":[\"function () {\\n    var handler = (function (ko, koPunches) {\\n    ko.punches.enableAll();\\n    ko.bindingHandlers.numericValue = {\\n        init: function(element, valueAccessor, allBindings, data, context) {\\n            var stringified = ko.observable(ko.unwrap(valueAccessor()));\\n            stringified.subscribe(function(value) {\\n                var val = parseFloat(value);\\n                if (!isNaN(val)) {\\n                    valueAccessor()(val);\\n                }\\n            });\\n            valueAccessor().subscribe(function(value) {\\n                var str = JSON.stringify(value);\\n                if ((str == \\\"0\\\") && ([\\\"-0\\\", \\\"-0.\\\"].indexOf(stringified()) >= 0))\\n                     return;\\n                 if ([\\\"null\\\", \\\"\\\"].indexOf(str) >= 0)\\n                     return;\\n                stringified(str);\\n            });\\n            ko.applyBindingsToNode(\\n                element,\\n                {\\n                    value: stringified,\\n                    valueUpdate: allBindings.get('valueUpdate'),\\n                },\\n                context,\\n            );\\n        }\\n    };\\n    var json_data = {\\\"formatted_vals\\\":[\\\"0.1\\\",\\\"0.2\\\",\\\"0.3\\\",\\\"0.4\\\",\\\"0.5\\\",\\\"0.6\\\",\\\"0.7\\\",\\\"0.8\\\",\\\"0.9\\\",\\\"1.0\\\",\\\"1.1\\\",\\\"1.2\\\",\\\"1.3\\\",\\\"1.4\\\",\\\"1.5\\\",\\\"1.6\\\",\\\"1.7\\\",\\\"1.8\\\",\\\"1.9\\\",\\\"2.0\\\",\\\"2.1\\\",\\\"2.2\\\",\\\"2.3\\\",\\\"2.4\\\",\\\"2.5\\\",\\\"2.6\\\",\\\"2.7\\\",\\\"2.8\\\",\\\"2.9\\\",\\\"3.0\\\",\\\"3.1\\\",\\\"3.2\\\",\\\"3.3\\\",\\\"3.4\\\",\\\"3.5\\\",\\\"3.6\\\",\\\"3.7\\\",\\\"3.8\\\",\\\"3.9\\\",\\\"4.0\\\",\\\"4.1\\\",\\\"4.2\\\",\\\"4.3\\\",\\\"4.4\\\",\\\"4.5\\\",\\\"4.6\\\",\\\"4.7\\\",\\\"4.8\\\",\\\"4.9\\\",\\\"5.0\\\",\\\"5.1\\\",\\\"5.2\\\",\\\"5.3\\\",\\\"5.4\\\",\\\"5.5\\\",\\\"5.6\\\",\\\"5.7\\\",\\\"5.8\\\",\\\"5.9\\\",\\\"6.0\\\",\\\"6.1\\\",\\\"6.2\\\",\\\"6.3\\\",\\\"6.4\\\",\\\"6.5\\\",\\\"6.6\\\",\\\"6.7\\\",\\\"6.8\\\",\\\"6.9\\\",\\\"7.0\\\",\\\"7.1\\\",\\\"7.2\\\",\\\"7.3\\\",\\\"7.4\\\",\\\"7.5\\\",\\\"7.6\\\",\\\"7.7\\\",\\\"7.8\\\",\\\"7.9\\\",\\\"8.0\\\",\\\"8.1\\\",\\\"8.2\\\",\\\"8.3\\\",\\\"8.4\\\",\\\"8.5\\\",\\\"8.6\\\",\\\"8.7\\\",\\\"8.8\\\",\\\"8.9\\\",\\\"9.0\\\",\\\"9.1\\\",\\\"9.2\\\",\\\"9.3\\\",\\\"9.4\\\",\\\"9.5\\\",\\\"9.6\\\",\\\"9.7\\\",\\\"9.8\\\",\\\"9.9\\\",\\\"10.0\\\",\\\"10.1\\\",\\\"10.2\\\",\\\"10.3\\\",\\\"10.4\\\",\\\"10.5\\\",\\\"10.6\\\",\\\"10.7\\\",\\\"10.8\\\",\\\"10.9\\\",\\\"11.0\\\",\\\"11.1\\\",\\\"11.2\\\",\\\"11.3\\\",\\\"11.4\\\",\\\"11.5\\\",\\\"11.6\\\",\\\"11.7\\\",\\\"11.8\\\",\\\"11.9\\\",\\\"12.0\\\",\\\"12.1\\\",\\\"12.2\\\",\\\"12.3\\\",\\\"12.4\\\",\\\"12.5\\\",\\\"12.6\\\",\\\"12.7\\\",\\\"12.8\\\",\\\"12.9\\\",\\\"13.0\\\",\\\"13.1\\\",\\\"13.2\\\",\\\"13.3\\\",\\\"13.4\\\",\\\"13.5\\\",\\\"13.6\\\",\\\"13.7\\\",\\\"13.8\\\",\\\"13.9\\\",\\\"14.0\\\",\\\"14.1\\\",\\\"14.2\\\",\\\"14.3\\\",\\\"14.4\\\",\\\"14.5\\\",\\\"14.6\\\",\\\"14.7\\\",\\\"14.8\\\",\\\"14.9\\\",\\\"15.0\\\",\\\"15.1\\\",\\\"15.2\\\",\\\"15.3\\\",\\\"15.4\\\",\\\"15.5\\\",\\\"15.6\\\",\\\"15.7\\\",\\\"15.8\\\",\\\"15.9\\\",\\\"16.0\\\",\\\"16.1\\\",\\\"16.2\\\",\\\"16.3\\\",\\\"16.4\\\",\\\"16.5\\\",\\\"16.6\\\",\\\"16.7\\\",\\\"16.8\\\",\\\"16.9\\\",\\\"17.0\\\",\\\"17.1\\\",\\\"17.2\\\",\\\"17.3\\\",\\\"17.4\\\",\\\"17.5\\\",\\\"17.6\\\",\\\"17.7\\\",\\\"17.8\\\",\\\"17.9\\\",\\\"18.0\\\",\\\"18.1\\\",\\\"18.2\\\",\\\"18.3\\\",\\\"18.4\\\",\\\"18.5\\\",\\\"18.6\\\",\\\"18.7\\\",\\\"18.8\\\",\\\"18.9\\\",\\\"19.0\\\",\\\"19.1\\\",\\\"19.2\\\",\\\"19.3\\\",\\\"19.4\\\",\\\"19.5\\\",\\\"19.6\\\",\\\"19.7\\\",\\\"19.8\\\",\\\"19.9\\\",\\\"20.0\\\",\\\"20.1\\\",\\\"20.2\\\",\\\"20.3\\\",\\\"20.4\\\",\\\"20.5\\\",\\\"20.6\\\",\\\"20.7\\\",\\\"20.8\\\",\\\"20.9\\\",\\\"21.0\\\",\\\"21.1\\\",\\\"21.2\\\",\\\"21.3\\\",\\\"21.4\\\",\\\"21.5\\\",\\\"21.6\\\",\\\"21.7\\\",\\\"21.8\\\",\\\"21.9\\\",\\\"22.0\\\",\\\"22.1\\\",\\\"22.2\\\",\\\"22.3\\\",\\\"22.4\\\",\\\"22.5\\\",\\\"22.6\\\",\\\"22.7\\\",\\\"22.8\\\",\\\"22.9\\\",\\\"23.0\\\",\\\"23.1\\\",\\\"23.2\\\",\\\"23.3\\\",\\\"23.4\\\",\\\"23.5\\\",\\\"23.6\\\",\\\"23.7\\\",\\\"23.8\\\",\\\"23.9\\\",\\\"24.0\\\",\\\"24.1\\\",\\\"24.2\\\",\\\"24.3\\\",\\\"24.4\\\",\\\"24.5\\\",\\\"24.6\\\",\\\"24.7\\\",\\\"24.8\\\",\\\"24.9\\\",\\\"25.0\\\",\\\"25.1\\\",\\\"25.2\\\",\\\"25.3\\\",\\\"25.4\\\",\\\"25.5\\\",\\\"25.6\\\",\\\"25.7\\\",\\\"25.8\\\",\\\"25.9\\\",\\\"26.0\\\",\\\"26.1\\\",\\\"26.2\\\",\\\"26.3\\\",\\\"26.4\\\",\\\"26.5\\\",\\\"26.6\\\",\\\"26.7\\\",\\\"26.8\\\",\\\"26.9\\\",\\\"27.0\\\",\\\"27.1\\\",\\\"27.2\\\",\\\"27.3\\\",\\\"27.4\\\",\\\"27.5\\\",\\\"27.6\\\",\\\"27.7\\\",\\\"27.8\\\",\\\"27.9\\\",\\\"28.0\\\",\\\"28.1\\\",\\\"28.2\\\",\\\"28.3\\\",\\\"28.4\\\",\\\"28.5\\\",\\\"28.6\\\",\\\"28.7\\\",\\\"28.8\\\",\\\"28.9\\\",\\\"29.0\\\",\\\"29.1\\\",\\\"29.2\\\",\\\"29.3\\\",\\\"29.4\\\",\\\"29.5\\\",\\\"29.6\\\",\\\"29.7\\\",\\\"29.8\\\",\\\"29.9\\\",\\\"30.0\\\",\\\"30.1\\\",\\\"30.2\\\",\\\"30.3\\\",\\\"30.4\\\",\\\"30.5\\\",\\\"30.6\\\",\\\"30.7\\\",\\\"30.8\\\",\\\"30.9\\\",\\\"31.0\\\",\\\"31.1\\\",\\\"31.2\\\",\\\"31.3\\\",\\\"31.4\\\",\\\"31.5\\\",\\\"31.6\\\",\\\"31.7\\\",\\\"31.8\\\",\\\"31.9\\\",\\\"32.0\\\",\\\"32.1\\\",\\\"32.2\\\",\\\"32.3\\\",\\\"32.4\\\",\\\"32.5\\\",\\\"32.6\\\",\\\"32.7\\\",\\\"32.8\\\",\\\"32.9\\\",\\\"33.0\\\",\\\"33.1\\\",\\\"33.2\\\",\\\"33.3\\\",\\\"33.4\\\",\\\"33.5\\\",\\\"33.6\\\",\\\"33.7\\\",\\\"33.8\\\",\\\"33.9\\\",\\\"34.0\\\",\\\"34.1\\\",\\\"34.2\\\",\\\"34.3\\\",\\\"34.4\\\",\\\"34.5\\\",\\\"34.6\\\",\\\"34.7\\\",\\\"34.8\\\",\\\"34.9\\\",\\\"35.0\\\",\\\"35.1\\\",\\\"35.2\\\",\\\"35.3\\\",\\\"35.4\\\",\\\"35.5\\\",\\\"35.6\\\",\\\"35.7\\\",\\\"35.8\\\",\\\"35.9\\\",\\\"36.0\\\",\\\"36.1\\\",\\\"36.2\\\",\\\"36.3\\\",\\\"36.4\\\",\\\"36.5\\\",\\\"36.6\\\",\\\"36.7\\\",\\\"36.8\\\",\\\"36.9\\\",\\\"37.0\\\",\\\"37.1\\\",\\\"37.2\\\",\\\"37.3\\\",\\\"37.4\\\",\\\"37.5\\\",\\\"37.6\\\",\\\"37.7\\\",\\\"37.8\\\",\\\"37.9\\\",\\\"38.0\\\",\\\"38.1\\\",\\\"38.2\\\",\\\"38.3\\\",\\\"38.4\\\",\\\"38.5\\\",\\\"38.6\\\",\\\"38.7\\\",\\\"38.8\\\",\\\"38.9\\\",\\\"39.0\\\",\\\"39.1\\\",\\\"39.2\\\",\\\"39.3\\\",\\\"39.4\\\",\\\"39.5\\\",\\\"39.6\\\",\\\"39.7\\\",\\\"39.8\\\",\\\"39.9\\\",\\\"40.0\\\",\\\"40.1\\\",\\\"40.2\\\",\\\"40.3\\\",\\\"40.4\\\",\\\"40.5\\\",\\\"40.6\\\",\\\"40.7\\\",\\\"40.8\\\",\\\"40.9\\\",\\\"41.0\\\",\\\"41.1\\\",\\\"41.2\\\",\\\"41.3\\\",\\\"41.4\\\",\\\"41.5\\\",\\\"41.6\\\",\\\"41.7\\\",\\\"41.8\\\",\\\"41.9\\\",\\\"42.0\\\",\\\"42.1\\\",\\\"42.2\\\",\\\"42.3\\\",\\\"42.4\\\",\\\"42.5\\\",\\\"42.6\\\",\\\"42.7\\\",\\\"42.8\\\",\\\"42.9\\\",\\\"43.0\\\",\\\"43.1\\\",\\\"43.2\\\",\\\"43.3\\\",\\\"43.4\\\",\\\"43.5\\\",\\\"43.6\\\",\\\"43.7\\\",\\\"43.8\\\",\\\"43.9\\\",\\\"44.0\\\",\\\"44.1\\\",\\\"44.2\\\",\\\"44.3\\\",\\\"44.4\\\",\\\"44.5\\\",\\\"44.6\\\",\\\"44.7\\\",\\\"44.8\\\",\\\"44.9\\\",\\\"45.0\\\",\\\"45.1\\\",\\\"45.2\\\",\\\"45.3\\\",\\\"45.4\\\",\\\"45.5\\\",\\\"45.6\\\",\\\"45.7\\\",\\\"45.8\\\",\\\"45.9\\\",\\\"46.0\\\",\\\"46.1\\\",\\\"46.2\\\",\\\"46.3\\\",\\\"46.4\\\",\\\"46.5\\\",\\\"46.6\\\",\\\"46.7\\\",\\\"46.8\\\",\\\"46.9\\\",\\\"47.0\\\",\\\"47.1\\\",\\\"47.2\\\",\\\"47.3\\\",\\\"47.4\\\",\\\"47.5\\\",\\\"47.6\\\",\\\"47.7\\\",\\\"47.8\\\",\\\"47.9\\\",\\\"48.0\\\",\\\"48.1\\\",\\\"48.2\\\",\\\"48.3\\\",\\\"48.4\\\",\\\"48.5\\\",\\\"48.6\\\",\\\"48.7\\\",\\\"48.8\\\",\\\"48.9\\\",\\\"49.0\\\",\\\"49.1\\\",\\\"49.2\\\",\\\"49.3\\\",\\\"49.4\\\",\\\"49.5\\\",\\\"49.6\\\",\\\"49.7\\\",\\\"49.8\\\",\\\"49.9\\\",\\\"50.0\\\",\\\"50.1\\\",\\\"50.2\\\",\\\"50.3\\\",\\\"50.4\\\",\\\"50.5\\\",\\\"50.6\\\",\\\"50.7\\\",\\\"50.8\\\",\\\"50.9\\\",\\\"51.0\\\",\\\"51.1\\\",\\\"51.2\\\",\\\"51.3\\\",\\\"51.4\\\",\\\"51.5\\\",\\\"51.6\\\",\\\"51.7\\\",\\\"51.8\\\",\\\"51.9\\\",\\\"52.0\\\",\\\"52.1\\\",\\\"52.2\\\",\\\"52.3\\\",\\\"52.4\\\",\\\"52.5\\\",\\\"52.6\\\",\\\"52.7\\\",\\\"52.8\\\",\\\"52.9\\\",\\\"53.0\\\",\\\"53.1\\\",\\\"53.2\\\",\\\"53.3\\\",\\\"53.4\\\",\\\"53.5\\\",\\\"53.6\\\",\\\"53.7\\\",\\\"53.8\\\",\\\"53.9\\\",\\\"54.0\\\",\\\"54.1\\\",\\\"54.2\\\",\\\"54.3\\\",\\\"54.4\\\",\\\"54.5\\\",\\\"54.6\\\",\\\"54.7\\\",\\\"54.8\\\",\\\"54.9\\\",\\\"55.0\\\",\\\"55.1\\\",\\\"55.2\\\",\\\"55.3\\\",\\\"55.4\\\",\\\"55.5\\\",\\\"55.6\\\",\\\"55.7\\\",\\\"55.8\\\",\\\"55.9\\\",\\\"56.0\\\",\\\"56.1\\\",\\\"56.2\\\",\\\"56.3\\\",\\\"56.4\\\",\\\"56.5\\\",\\\"56.6\\\",\\\"56.7\\\",\\\"56.8\\\",\\\"56.9\\\",\\\"57.0\\\",\\\"57.1\\\",\\\"57.2\\\",\\\"57.3\\\",\\\"57.4\\\",\\\"57.5\\\",\\\"57.6\\\",\\\"57.7\\\",\\\"57.8\\\",\\\"57.9\\\",\\\"58.0\\\",\\\"58.1\\\",\\\"58.2\\\",\\\"58.3\\\",\\\"58.4\\\",\\\"58.5\\\",\\\"58.6\\\",\\\"58.7\\\",\\\"58.8\\\",\\\"58.9\\\",\\\"59.0\\\",\\\"59.1\\\",\\\"59.2\\\",\\\"59.3\\\",\\\"59.4\\\",\\\"59.5\\\",\\\"59.6\\\",\\\"59.7\\\",\\\"59.8\\\",\\\"59.9\\\",\\\"60.0\\\"],\\\"changes\\\":WebIO.getval({\\\"name\\\":\\\"changes\\\",\\\"scope\\\":\\\"2689834560385674208\\\",\\\"id\\\":\\\"ob_131\\\",\\\"type\\\":\\\"observable\\\"}),\\\"index\\\":WebIO.getval({\\\"name\\\":\\\"index\\\",\\\"scope\\\":\\\"2689834560385674208\\\",\\\"id\\\":\\\"ob_130\\\",\\\"type\\\":\\\"observable\\\"})};\\n    var self = this;\\n    function AppViewModel() {\\n        for (var key in json_data) {\\n            var el = json_data[key];\\n            this[key] = Array.isArray(el) ? ko.observableArray(el) : ko.observable(el);\\n        }\\n        \\n        [this[\\\"formatted_val\\\"]=ko.computed(    function(){\\n        return this.formatted_vals()[parseInt(this.index())-(1)];\\n    }\\n,this)]\\n        [this[\\\"changes\\\"].subscribe((function (val){!(this.valueFromJulia[\\\"changes\\\"]) ? (WebIO.setval({\\\"name\\\":\\\"changes\\\",\\\"scope\\\":\\\"2689834560385674208\\\",\\\"id\\\":\\\"ob_131\\\",\\\"type\\\":\\\"observable\\\"},val)) : undefined; return this.valueFromJulia[\\\"changes\\\"]=false}),self),this[\\\"index\\\"].subscribe((function (val){!(this.valueFromJulia[\\\"index\\\"]) ? (WebIO.setval({\\\"name\\\":\\\"index\\\",\\\"scope\\\":\\\"2689834560385674208\\\",\\\"id\\\":\\\"ob_130\\\",\\\"type\\\":\\\"observable\\\"},val)) : undefined; return this.valueFromJulia[\\\"index\\\"]=false}),self)]\\n        \\n    }\\n    self.model = new AppViewModel();\\n    self.valueFromJulia = {};\\n    for (var key in json_data) {\\n        self.valueFromJulia[key] = false;\\n    }\\n    ko.applyBindings(self.model, self.dom);\\n}\\n);\\n    (WebIO.importBlock({\\\"data\\\":[{\\\"name\\\":\\\"knockout\\\",\\\"type\\\":\\\"js\\\",\\\"url\\\":\\\"\\/assetserver\\/1418600122391479348d6b70f8fc3978f3015b35-knockout.js\\\"},{\\\"name\\\":\\\"knockout_punches\\\",\\\"type\\\":\\\"js\\\",\\\"url\\\":\\\"\\/assetserver\\/cd3f841ffabd7ce8124a19658c02643a3dce952c-knockout_punches.js\\\"}],\\\"type\\\":\\\"async_block\\\"})).then((imports) => handler.apply(this, imports));\\n}\\n\"],\"observables\":{\"changes\":{\"sync\":false,\"id\":\"ob_131\",\"value\":0},\"index\":{\"sync\":true,\"id\":\"ob_130\",\"value\":300}}},\"children\":[{\"props\":{\"className\":\"interact-flex-row interact-widget\"},\"nodeType\":\"DOM\",\"type\":\"node\",\"instanceArgs\":{\"namespace\":\"html\",\"tag\":\"div\"},\"children\":[{\"props\":{\"className\":\"interact-flex-row-left\"},\"nodeType\":\"DOM\",\"type\":\"node\",\"instanceArgs\":{\"namespace\":\"html\",\"tag\":\"div\"},\"children\":[{\"props\":{\"className\":\"interact \",\"style\":{\"padding\":\"5px 10px 0px 10px\"}},\"nodeType\":\"DOM\",\"type\":\"node\",\"instanceArgs\":{\"namespace\":\"html\",\"tag\":\"label\"},\"children\":[\"radii\"]}]},{\"props\":{\"className\":\"interact-flex-row-center\"},\"nodeType\":\"DOM\",\"type\":\"node\",\"instanceArgs\":{\"namespace\":\"html\",\"tag\":\"div\"},\"children\":[{\"props\":{\"max\":600,\"min\":1,\"attributes\":{\"type\":\"range\",\"data-bind\":\"numericValue: index, valueUpdate: 'input', event: {change: function (){this.changes(this.changes()+1)}}\",\"orient\":\"horizontal\"},\"step\":1,\"className\":\"slider slider is-fullwidth\",\"style\":{}},\"nodeType\":\"DOM\",\"type\":\"node\",\"instanceArgs\":{\"namespace\":\"html\",\"tag\":\"input\"},\"children\":[]}]},{\"props\":{\"className\":\"interact-flex-row-right\"},\"nodeType\":\"DOM\",\"type\":\"node\",\"instanceArgs\":{\"namespace\":\"html\",\"tag\":\"div\"},\"children\":[{\"props\":{\"attributes\":{\"data-bind\":\"text: formatted_val\"}},\"nodeType\":\"DOM\",\"type\":\"node\",\"instanceArgs\":{\"namespace\":\"html\",\"tag\":\"p\"},\"children\":[]}]}]}]}]},{\"props\":{},\"nodeType\":\"Scope\",\"type\":\"node\",\"instanceArgs\":{\"imports\":{\"data\":[],\"type\":\"async_block\"},\"id\":\"14944653442961088462\",\"handlers\":{},\"systemjs_options\":null,\"mount_callbacks\":[],\"observables\":{\"obs-node\":{\"sync\":false,\"id\":\"ob_135\",\"value\":{\"props\":{\"className\":\"interact-flex-row interact-widget\"},\"nodeType\":\"DOM\",\"type\":\"node\",\"instanceArgs\":{\"namespace\":\"html\",\"tag\":\"div\"},\"children\":[{\"props\":{\"attributes\":{\"height\":\"300\",\"width\":\"700\"}},\"nodeType\":\"DOM\",\"type\":\"node\",\"instanceArgs\":{\"namespace\":\"svg\",\"tag\":\"svg\"},\"children\":[{\"props\":{\"attributes\":{\"cy\":\"159.98334166468283\",\"r\":\"30.0\",\"fill\":\"gray\",\"cx\":\"5.570423008216337\"}},\"nodeType\":\"DOM\",\"type\":\"node\",\"instanceArgs\":{\"namespace\":\"svg\",\"tag\":\"circle\"},\"children\":[]},{\"props\":{\"attributes\":{\"cy\":\"169.8669330795061\",\"r\":\"30.0\",\"fill\":\"silver\",\"cx\":\"11.140846016432674\"}},\"nodeType\":\"DOM\",\"type\":\"node\",\"instanceArgs\":{\"namespace\":\"svg\",\"tag\":\"circle\"},\"children\":[]},{\"props\":{\"attributes\":{\"cy\":\"179.55202066613396\",\"r\":\"30.0\",\"fill\":\"maroon\",\"cx\":\"16.711269024649013\"}},\"nodeType\":\"DOM\",\"type\":\"node\",\"instanceArgs\":{\"namespace\":\"svg\",\"tag\":\"circle\"},\"children\":[]},{\"props\":{\"attributes\":{\"cy\":\"188.94183423086506\",\"r\":\"30.0\",\"fill\":\"red\",\"cx\":\"22.281692032865347\"}},\"nodeType\":\"DOM\",\"type\":\"node\",\"instanceArgs\":{\"namespace\":\"svg\",\"tag\":\"circle\"},\"children\":[]},{\"props\":{\"attributes\":{\"cy\":\"197.9425538604203\",\"r\":\"30.0\",\"fill\":\"olive\",\"cx\":\"27.852115041081685\"}},\"nodeType\":\"DOM\",\"type\":\"node\",\"instanceArgs\":{\"namespace\":\"svg\",\"tag\":\"circle\"},\"children\":[]},{\"props\":{\"attributes\":{\"cy\":\"206.46424733950354\",\"r\":\"30.0\",\"fill\":\"yellow\",\"cx\":\"33.422538049298026\"}},\"nodeType\":\"DOM\",\"type\":\"node\",\"instanceArgs\":{\"namespace\":\"svg\",\"tag\":\"circle\"},\"children\":[]},{\"props\":{\"attributes\":{\"cy\":\"214.4217687237691\",\"r\":\"30.0\",\"fill\":\"green\",\"cx\":\"38.992961057514364\"}},\"nodeType\":\"DOM\",\"type\":\"node\",\"instanceArgs\":{\"namespace\":\"svg\",\"tag\":\"circle\"},\"children\":[]},{\"props\":{\"attributes\":{\"cy\":\"221.73560908995228\",\"r\":\"30.0\",\"fill\":\"lime\",\"cx\":\"44.563384065730695\"}},\"nodeType\":\"DOM\",\"type\":\"node\",\"instanceArgs\":{\"namespace\":\"svg\",\"tag\":\"circle\"},\"children\":[]},{\"props\":{\"attributes\":{\"cy\":\"228.33269096274836\",\"r\":\"30.0\",\"fill\":\"teal\",\"cx\":\"50.13380707394703\"}},\"nodeType\":\"DOM\",\"type\":\"node\",\"instanceArgs\":{\"namespace\":\"svg\",\"tag\":\"circle\"},\"children\":[]},{\"props\":{\"attributes\":{\"cy\":\"234.14709848078965\",\"r\":\"30.0\",\"fill\":\"aqua\",\"cx\":\"55.70423008216337\"}},\"nodeType\":\"DOM\",\"type\":\"node\",\"instanceArgs\":{\"namespace\":\"svg\",\"tag\":\"circle\"},\"children\":[]},{\"props\":{\"attributes\":{\"cy\":\"239.12073600614355\",\"r\":\"30.0\",\"fill\":\"navy\",\"cx\":\"61.274653090379715\"}},\"nodeType\":\"DOM\",\"type\":\"node\",\"instanceArgs\":{\"namespace\":\"svg\",\"tag\":\"circle\"},\"children\":[]},{\"props\":{\"attributes\":{\"cy\":\"243.2039085967226\",\"r\":\"30.0\",\"fill\":\"blue\",\"cx\":\"66.84507609859605\"}},\"nodeType\":\"DOM\",\"type\":\"node\",\"instanceArgs\":{\"namespace\":\"svg\",\"tag\":\"circle\"},\"children\":[]},{\"props\":{\"attributes\":{\"cy\":\"246.35581854171932\",\"r\":\"30.0\",\"fill\":\"purple\",\"cx\":\"72.41549910681238\"}},\"nodeType\":\"DOM\",\"type\":\"node\",\"instanceArgs\":{\"namespace\":\"svg\",\"tag\":\"circle\"},\"children\":[]},{\"props\":{\"attributes\":{\"cy\":\"248.54497299884605\",\"r\":\"30.0\",\"fill\":\"fuchsia\",\"cx\":\"77.98592211502873\"}},\"nodeType\":\"DOM\",\"type\":\"node\",\"instanceArgs\":{\"namespace\":\"svg\",\"tag\":\"circle\"},\"children\":[]},{\"props\":{\"attributes\":{\"cy\":\"249.74949866040544\",\"r\":\"30.0\",\"fill\":\"black\",\"cx\":\"83.55634512324505\"}},\"nodeType\":\"DOM\",\"type\":\"node\",\"instanceArgs\":{\"namespace\":\"svg\",\"tag\":\"circle\"},\"children\":[]},{\"props\":{\"attributes\":{\"cy\":\"249.95736030415048\",\"r\":\"30.0\",\"fill\":\"gray\",\"cx\":\"89.12676813146139\"}},\"nodeType\":\"DOM\",\"type\":\"node\",\"instanceArgs\":{\"namespace\":\"svg\",\"tag\":\"circle\"},\"children\":[]},{\"props\":{\"attributes\":{\"cy\":\"249.16648104524688\",\"r\":\"30.0\",\"fill\":\"silver\",\"cx\":\"94.69719113967774\"}},\"nodeType\":\"DOM\",\"type\":\"node\",\"instanceArgs\":{\"namespace\":\"svg\",\"tag\":\"circle\"},\"children\":[]},{\"props\":{\"attributes\":{\"cy\":\"247.38476308781952\",\"r\":\"30.0\",\"fill\":\"maroon\",\"cx\":\"100.26761414789407\"}},\"nodeType\":\"DOM\",\"type\":\"node\",\"instanceArgs\":{\"namespace\":\"svg\",\"tag\":\"circle\"},\"children\":[]},{\"props\":{\"attributes\":{\"cy\":\"244.63000876874145\",\"r\":\"30.0\",\"fill\":\"red\",\"cx\":\"105.8380371561104\"}},\"nodeType\":\"DOM\",\"type\":\"node\",\"instanceArgs\":{\"namespace\":\"svg\",\"tag\":\"circle\"},\"children\":[]},{\"props\":{\"attributes\":{\"cy\":\"240.9297426825682\",\"r\":\"30.0\",\"fill\":\"olive\",\"cx\":\"111.40846016432674\"}},\"nodeType\":\"DOM\",\"type\":\"node\",\"instanceArgs\":{\"namespace\":\"svg\",\"tag\":\"circle\"},\"children\":[]},{\"props\":{\"attributes\":{\"cy\":\"236.32093666488737\",\"r\":\"30.0\",\"fill\":\"yellow\",\"cx\":\"116.97888317254308\"}},\"nodeType\":\"DOM\",\"type\":\"node\",\"instanceArgs\":{\"namespace\":\"svg\",\"tag\":\"circle\"},\"children\":[]},{\"props\":{\"attributes\":{\"cy\":\"230.849640381959\",\"r\":\"30.0\",\"fill\":\"green\",\"cx\":\"122.54930618075943\"}},\"nodeType\":\"DOM\",\"type\":\"node\",\"instanceArgs\":{\"namespace\":\"svg\",\"tag\":\"circle\"},\"children\":[]},{\"props\":{\"attributes\":{\"cy\":\"224.57052121767202\",\"r\":\"30.0\",\"fill\":\"lime\",\"cx\":\"128.11972918897578\"}},\"nodeType\":\"DOM\",\"type\":\"node\",\"instanceArgs\":{\"namespace\":\"svg\",\"tag\":\"circle\"},\"children\":[]},{\"props\":{\"attributes\":{\"cy\":\"217.54631805511508\",\"r\":\"30.0\",\"fill\":\"teal\",\"cx\":\"133.6901521971921\"}},\"nodeType\":\"DOM\",\"type\":\"node\",\"instanceArgs\":{\"namespace\":\"svg\",\"tag\":\"circle\"},\"children\":[]},{\"props\":{\"attributes\":{\"cy\":\"209.84721441039565\",\"r\":\"30.0\",\"fill\":\"aqua\",\"cx\":\"139.26057520540843\"}},\"nodeType\":\"DOM\",\"type\":\"node\",\"instanceArgs\":{\"namespace\":\"svg\",\"tag\":\"circle\"},\"children\":[]},{\"props\":{\"attributes\":{\"cy\":\"201.55013718214641\",\"r\":\"30.0\",\"fill\":\"navy\",\"cx\":\"144.83099821362475\"}},\"nodeType\":\"DOM\",\"type\":\"node\",\"instanceArgs\":{\"namespace\":\"svg\",\"tag\":\"circle\"},\"children\":[]},{\"props\":{\"attributes\":{\"cy\":\"192.73798802338297\",\"r\":\"30.0\",\"fill\":\"blue\",\"cx\":\"150.4014212218411\"}},\"nodeType\":\"DOM\",\"type\":\"node\",\"instanceArgs\":{\"namespace\":\"svg\",\"tag\":\"circle\"},\"children\":[]},{\"props\":{\"attributes\":{\"cy\":\"183.49881501559048\",\"r\":\"30.0\",\"fill\":\"purple\",\"cx\":\"155.97184423005746\"}},\"nodeType\":\"DOM\",\"type\":\"node\",\"instanceArgs\":{\"namespace\":\"svg\",\"tag\":\"circle\"},\"children\":[]},{\"props\":{\"attributes\":{\"cy\":\"173.9249329213982\",\"r\":\"30.0\",\"fill\":\"fuchsia\",\"cx\":\"161.54226723827378\"}},\"nodeType\":\"DOM\",\"type\":\"node\",\"instanceArgs\":{\"namespace\":\"svg\",\"tag\":\"circle\"},\"children\":[]},{\"props\":{\"attributes\":{\"cy\":\"164.11200080598672\",\"r\":\"30.0\",\"fill\":\"black\",\"cx\":\"167.1126902464901\"}},\"nodeType\":\"DOM\",\"type\":\"node\",\"instanceArgs\":{\"namespace\":\"svg\",\"tag\":\"circle\"},\"children\":[]},{\"props\":{\"attributes\":{\"cy\":\"154.15806624332905\",\"r\":\"30.0\",\"fill\":\"gray\",\"cx\":\"172.68311325470646\"}},\"nodeType\":\"DOM\",\"type\":\"node\",\"instanceArgs\":{\"namespace\":\"svg\",\"tag\":\"circle\"},\"children\":[]},{\"props\":{\"attributes\":{\"cy\":\"144.162585657242\",\"r\":\"30.0\",\"fill\":\"silver\",\"cx\":\"178.25353626292278\"}},\"nodeType\":\"DOM\",\"type\":\"node\",\"instanceArgs\":{\"namespace\":\"svg\",\"tag\":\"circle\"},\"children\":[]},{\"props\":{\"attributes\":{\"cy\":\"134.22543058567513\",\"r\":\"30.0\",\"fill\":\"maroon\",\"cx\":\"183.82395927113913\"}},\"nodeType\":\"DOM\",\"type\":\"node\",\"instanceArgs\":{\"namespace\":\"svg\",\"tag\":\"circle\"},\"children\":[]},{\"props\":{\"attributes\":{\"cy\":\"124.44588979731684\",\"r\":\"30.0\",\"fill\":\"red\",\"cx\":\"189.39438227935548\"}},\"nodeType\":\"DOM\",\"type\":\"node\",\"instanceArgs\":{\"namespace\":\"svg\",\"tag\":\"circle\"},\"children\":[]},{\"props\":{\"attributes\":{\"cy\":\"114.92167723103802\",\"r\":\"30.0\",\"fill\":\"olive\",\"cx\":\"194.9648052875718\"}},\"nodeType\":\"DOM\",\"type\":\"node\",\"instanceArgs\":{\"namespace\":\"svg\",\"tag\":\"circle\"},\"children\":[]},{\"props\":{\"attributes\":{\"cy\":\"105.74795567051476\",\"r\":\"30.0\",\"fill\":\"yellow\",\"cx\":\"200.53522829578813\"}},\"nodeType\":\"DOM\",\"type\":\"node\",\"instanceArgs\":{\"namespace\":\"svg\",\"tag\":\"circle\"},\"children\":[]},{\"props\":{\"attributes\":{\"cy\":\"97.01638590915067\",\"r\":\"30.0\",\"fill\":\"green\",\"cx\":\"206.10565130400448\"}},\"nodeType\":\"DOM\",\"type\":\"node\",\"instanceArgs\":{\"namespace\":\"svg\",\"tag\":\"circle\"},\"children\":[]},{\"props\":{\"attributes\":{\"cy\":\"88.81421090572806\",\"r\":\"30.0\",\"fill\":\"lime\",\"cx\":\"211.6760743122208\"}},\"nodeType\":\"DOM\",\"type\":\"node\",\"instanceArgs\":{\"namespace\":\"svg\",\"tag\":\"circle\"},\"children\":[]},{\"props\":{\"attributes\":{\"cy\":\"81.22338408160259\",\"r\":\"30.0\",\"fill\":\"teal\",\"cx\":\"217.2464973204372\"}},\"nodeType\":\"DOM\",\"type\":\"node\",\"instanceArgs\":{\"namespace\":\"svg\",\"tag\":\"circle\"},\"children\":[]},{\"props\":{\"attributes\":{\"cy\":\"74.31975046920718\",\"r\":\"30.0\",\"fill\":\"aqua\",\"cx\":\"222.81692032865348\"}},\"nodeType\":\"DOM\",\"type\":\"node\",\"instanceArgs\":{\"namespace\":\"svg\",\"tag\":\"circle\"},\"children\":[]},{\"props\":{\"attributes\":{\"cy\":\"68.17228889355893\",\"r\":\"30.0\",\"fill\":\"navy\",\"cx\":\"228.38734333686986\"}},\"nodeType\":\"DOM\",\"type\":\"node\",\"instanceArgs\":{\"namespace\":\"svg\",\"tag\":\"circle\"},\"children\":[]},{\"props\":{\"attributes\":{\"cy\":\"62.84242275864118\",\"r\":\"30.0\",\"fill\":\"blue\",\"cx\":\"233.95776634508616\"}},\"nodeType\":\"DOM\",\"type\":\"node\",\"instanceArgs\":{\"namespace\":\"svg\",\"tag\":\"circle\"},\"children\":[]},{\"props\":{\"attributes\":{\"cy\":\"58.38340632505451\",\"r\":\"30.0\",\"fill\":\"purple\",\"cx\":\"239.52818935330248\"}},\"nodeType\":\"DOM\",\"type\":\"node\",\"instanceArgs\":{\"namespace\":\"svg\",\"tag\":\"circle\"},\"children\":[]},{\"props\":{\"attributes\":{\"cy\":\"54.83979261104838\",\"r\":\"30.0\",\"fill\":\"fuchsia\",\"cx\":\"245.09861236151886\"}},\"nodeType\":\"DOM\",\"type\":\"node\",\"instanceArgs\":{\"namespace\":\"svg\",\"tag\":\"circle\"},\"children\":[]},{\"props\":{\"attributes\":{\"cy\":\"52.2469882334903\",\"r\":\"30.0\",\"fill\":\"black\",\"cx\":\"250.66903536973516\"}},\"nodeType\":\"DOM\",\"type\":\"node\",\"instanceArgs\":{\"namespace\":\"svg\",\"tag\":\"circle\"},\"children\":[]},{\"props\":{\"attributes\":{\"cy\":\"50.63089963665355\",\"r\":\"30.0\",\"fill\":\"gray\",\"cx\":\"256.23945837795156\"}},\"nodeType\":\"DOM\",\"type\":\"node\",\"instanceArgs\":{\"namespace\":\"svg\",\"tag\":\"circle\"},\"children\":[]},{\"props\":{\"attributes\":{\"cy\":\"50.00767424358992\",\"r\":\"30.0\",\"fill\":\"silver\",\"cx\":\"261.80988138616783\"}},\"nodeType\":\"DOM\",\"type\":\"node\",\"instanceArgs\":{\"namespace\":\"svg\",\"tag\":\"circle\"},\"children\":[]},{\"props\":{\"attributes\":{\"cy\":\"50.383539116415946\",\"r\":\"30.0\",\"fill\":\"maroon\",\"cx\":\"267.3803043943842\"}},\"nodeType\":\"DOM\",\"type\":\"node\",\"instanceArgs\":{\"namespace\":\"svg\",\"tag\":\"circle\"},\"children\":[]},{\"props\":{\"attributes\":{\"cy\":\"51.754738737566754\",\"r\":\"30.0\",\"fill\":\"red\",\"cx\":\"272.95072740260053\"}},\"nodeType\":\"DOM\",\"type\":\"node\",\"instanceArgs\":{\"namespace\":\"svg\",\"tag\":\"circle\"},\"children\":[]},{\"props\":{\"attributes\":{\"cy\":\"54.10757253368615\",\"r\":\"30.0\",\"fill\":\"olive\",\"cx\":\"278.52115041081686\"}},\"nodeType\":\"DOM\",\"type\":\"node\",\"instanceArgs\":{\"namespace\":\"svg\",\"tag\":\"circle\"},\"children\":[]},{\"props\":{\"attributes\":{\"cy\":\"57.418531767226796\",\"r\":\"30.0\",\"fill\":\"yellow\",\"cx\":\"284.09157341903324\"}},\"nodeType\":\"DOM\",\"type\":\"node\",\"instanceArgs\":{\"namespace\":\"svg\",\"tag\":\"circle\"},\"children\":[]},{\"props\":{\"attributes\":{\"cy\":\"61.654534427984686\",\"r\":\"30.0\",\"fill\":\"green\",\"cx\":\"289.6619964272495\"}},\"nodeType\":\"DOM\",\"type\":\"node\",\"instanceArgs\":{\"namespace\":\"svg\",\"tag\":\"circle\"},\"children\":[]},{\"props\":{\"attributes\":{\"cy\":\"66.77325577760992\",\"r\":\"30.0\",\"fill\":\"lime\",\"cx\":\"295.2324194354659\"}},\"nodeType\":\"DOM\",\"type\":\"node\",\"instanceArgs\":{\"namespace\":\"svg\",\"tag\":\"circle\"},\"children\":[]},{\"props\":{\"attributes\":{\"cy\":\"72.72355124440129\",\"r\":\"30.0\",\"fill\":\"teal\",\"cx\":\"300.8028424436822\"}},\"nodeType\":\"DOM\",\"type\":\"node\",\"instanceArgs\":{\"namespace\":\"svg\",\"tag\":\"circle\"},\"children\":[]},{\"props\":{\"attributes\":{\"cy\":\"79.44596744296081\",\"r\":\"30.0\",\"fill\":\"aqua\",\"cx\":\"306.37326545189853\"}},\"nodeType\":\"DOM\",\"type\":\"node\",\"instanceArgs\":{\"namespace\":\"svg\",\"tag\":\"circle\"},\"children\":[]},{\"props\":{\"attributes\":{\"cy\":\"86.87333621276792\",\"r\":\"30.0\",\"fill\":\"navy\",\"cx\":\"311.9436884601149\"}},\"nodeType\":\"DOM\",\"type\":\"node\",\"instanceArgs\":{\"namespace\":\"svg\",\"tag\":\"circle\"},\"children\":[]},{\"props\":{\"attributes\":{\"cy\":\"94.93144574023623\",\"r\":\"30.0\",\"fill\":\"blue\",\"cx\":\"317.5141114683312\"}},\"nodeType\":\"DOM\",\"type\":\"node\",\"instanceArgs\":{\"namespace\":\"svg\",\"tag\":\"circle\"},\"children\":[]},{\"props\":{\"attributes\":{\"cy\":\"103.53978205862435\",\"r\":\"30.0\",\"fill\":\"purple\",\"cx\":\"323.08453447654756\"}},\"nodeType\":\"DOM\",\"type\":\"node\",\"instanceArgs\":{\"namespace\":\"svg\",\"tag\":\"circle\"},\"children\":[]},{\"props\":{\"attributes\":{\"cy\":\"112.6123335169764\",\"r\":\"30.0\",\"fill\":\"fuchsia\",\"cx\":\"328.6549574847639\"}},\"nodeType\":\"DOM\",\"type\":\"node\",\"instanceArgs\":{\"namespace\":\"svg\",\"tag\":\"circle\"},\"children\":[]},{\"props\":{\"attributes\":{\"cy\":\"122.05845018010741\",\"r\":\"30.0\",\"fill\":\"black\",\"cx\":\"334.2253804929802\"}},\"nodeType\":\"DOM\",\"type\":\"node\",\"instanceArgs\":{\"namespace\":\"svg\",\"tag\":\"circle\"},\"children\":[]},{\"props\":{\"attributes\":{\"cy\":\"131.7837495727905\",\"r\":\"30.0\",\"fill\":\"gray\",\"cx\":\"339.79580350119653\"}},\"nodeType\":\"DOM\",\"type\":\"node\",\"instanceArgs\":{\"namespace\":\"svg\",\"tag\":\"circle\"},\"children\":[]},{\"props\":{\"attributes\":{\"cy\":\"141.69105971825036\",\"r\":\"30.0\",\"fill\":\"silver\",\"cx\":\"345.3662265094129\"}},\"nodeType\":\"DOM\",\"type\":\"node\",\"instanceArgs\":{\"namespace\":\"svg\",\"tag\":\"circle\"},\"children\":[]},{\"props\":{\"attributes\":{\"cy\":\"151.68139004843505\",\"r\":\"30.0\",\"fill\":\"maroon\",\"cx\":\"350.9366495176293\"}},\"nodeType\":\"DOM\",\"type\":\"node\",\"instanceArgs\":{\"namespace\":\"svg\",\"tag\":\"circle\"},\"children\":[]},{\"props\":{\"attributes\":{\"cy\":\"161.65492048504936\",\"r\":\"30.0\",\"fill\":\"red\",\"cx\":\"356.50707252584556\"}},\"nodeType\":\"DOM\",\"type\":\"node\",\"instanceArgs\":{\"namespace\":\"svg\",\"tag\":\"circle\"},\"children\":[]},{\"props\":{\"attributes\":{\"cy\":\"171.51199880878156\",\"r\":\"30.0\",\"fill\":\"olive\",\"cx\":\"362.0774955340619\"}},\"nodeType\":\"DOM\",\"type\":\"node\",\"instanceArgs\":{\"namespace\":\"svg\",\"tag\":\"circle\"},\"children\":[]},{\"props\":{\"attributes\":{\"cy\":\"181.15413635133785\",\"r\":\"30.0\",\"fill\":\"yellow\",\"cx\":\"367.64791854227826\"}},\"nodeType\":\"DOM\",\"type\":\"node\",\"instanceArgs\":{\"namespace\":\"svg\",\"tag\":\"circle\"},\"children\":[]},{\"props\":{\"attributes\":{\"cy\":\"190.48499206165982\",\"r\":\"30.0\",\"fill\":\"green\",\"cx\":\"373.2183415504946\"}},\"nodeType\":\"DOM\",\"type\":\"node\",\"instanceArgs\":{\"namespace\":\"svg\",\"tag\":\"circle\"},\"children\":[]},{\"props\":{\"attributes\":{\"cy\":\"199.4113351138609\",\"r\":\"30.0\",\"fill\":\"lime\",\"cx\":\"378.78876455871097\"}},\"nodeType\":\"DOM\",\"type\":\"node\",\"instanceArgs\":{\"namespace\":\"svg\",\"tag\":\"circle\"},\"children\":[]},{\"props\":{\"attributes\":{\"cy\":\"207.84397643882002\",\"r\":\"30.0\",\"fill\":\"teal\",\"cx\":\"384.35918756692723\"}},\"nodeType\":\"DOM\",\"type\":\"node\",\"instanceArgs\":{\"namespace\":\"svg\",\"tag\":\"circle\"},\"children\":[]},{\"props\":{\"attributes\":{\"cy\":\"215.6986598718789\",\"r\":\"30.0\",\"fill\":\"aqua\",\"cx\":\"389.9296105751436\"}},\"nodeType\":\"DOM\",\"type\":\"node\",\"instanceArgs\":{\"namespace\":\"svg\",\"tag\":\"circle\"},\"children\":[]},{\"props\":{\"attributes\":{\"cy\":\"222.89690401258764\",\"r\":\"30.0\",\"fill\":\"navy\",\"cx\":\"395.50003358335994\"}},\"nodeType\":\"DOM\",\"type\":\"node\",\"instanceArgs\":{\"namespace\":\"svg\",\"tag\":\"circle\"},\"children\":[]},{\"props\":{\"attributes\":{\"cy\":\"229.36678638491532\",\"r\":\"30.0\",\"fill\":\"blue\",\"cx\":\"401.07045659157626\"}},\"nodeType\":\"DOM\",\"type\":\"node\",\"instanceArgs\":{\"namespace\":\"svg\",\"tag\":\"circle\"},\"children\":[]},{\"props\":{\"attributes\":{\"cy\":\"235.04366206285647\",\"r\":\"30.0\",\"fill\":\"purple\",\"cx\":\"406.6408795997927\"}},\"nodeType\":\"DOM\",\"type\":\"node\",\"instanceArgs\":{\"namespace\":\"svg\",\"tag\":\"circle\"},\"children\":[]},{\"props\":{\"attributes\":{\"cy\":\"239.8708095811627\",\"r\":\"30.0\",\"fill\":\"fuchsia\",\"cx\":\"412.21130260800896\"}},\"nodeType\":\"DOM\",\"type\":\"node\",\"instanceArgs\":{\"namespace\":\"svg\",\"tag\":\"circle\"},\"children\":[]},{\"props\":{\"attributes\":{\"cy\":\"243.79999767747387\",\"r\":\"30.0\",\"fill\":\"black\",\"cx\":\"417.7817256162253\"}},\"nodeType\":\"DOM\",\"type\":\"node\",\"instanceArgs\":{\"namespace\":\"svg\",\"tag\":\"circle\"},\"children\":[]},{\"props\":{\"attributes\":{\"cy\":\"246.79196720314866\",\"r\":\"30.0\",\"fill\":\"gray\",\"cx\":\"423.3521486244416\"}},\"nodeType\":\"DOM\",\"type\":\"node\",\"instanceArgs\":{\"namespace\":\"svg\",\"tag\":\"circle\"},\"children\":[]},{\"props\":{\"attributes\":{\"cy\":\"248.81682338770003\",\"r\":\"30.0\",\"fill\":\"silver\",\"cx\":\"428.92257163265793\"}},\"nodeType\":\"DOM\",\"type\":\"node\",\"instanceArgs\":{\"namespace\":\"svg\",\"tag\":\"circle\"},\"children\":[]},{\"props\":{\"attributes\":{\"cy\":\"249.8543345374605\",\"r\":\"30.0\",\"fill\":\"maroon\",\"cx\":\"434.4929946408744\"}},\"nodeType\":\"DOM\",\"type\":\"node\",\"instanceArgs\":{\"namespace\":\"svg\",\"tag\":\"circle\"},\"children\":[]},{\"props\":{\"attributes\":{\"cy\":\"249.8941341839772\",\"r\":\"30.0\",\"fill\":\"red\",\"cx\":\"440.06341764909064\"}},\"nodeType\":\"DOM\",\"type\":\"node\",\"instanceArgs\":{\"namespace\":\"svg\",\"tag\":\"circle\"},\"children\":[]},{\"props\":{\"attributes\":{\"cy\":\"248.93582466233818\",\"r\":\"30.0\",\"fill\":\"olive\",\"cx\":\"445.63384065730696\"}},\"nodeType\":\"DOM\",\"type\":\"node\",\"instanceArgs\":{\"namespace\":\"svg\",\"tag\":\"circle\"},\"children\":[]},{\"props\":{\"attributes\":{\"cy\":\"246.98898108450862\",\"r\":\"30.0\",\"fill\":\"yellow\",\"cx\":\"451.2042636655233\"}},\"nodeType\":\"DOM\",\"type\":\"node\",\"instanceArgs\":{\"namespace\":\"svg\",\"tag\":\"circle\"},\"children\":[]},{\"props\":{\"attributes\":{\"cy\":\"244.07305566797726\",\"r\":\"30.0\",\"fill\":\"green\",\"cx\":\"456.7746866737397\"}},\"nodeType\":\"DOM\",\"type\":\"node\",\"instanceArgs\":{\"namespace\":\"svg\",\"tag\":\"circle\"},\"children\":[]},{\"props\":{\"attributes\":{\"cy\":\"240.2171833756293\",\"r\":\"30.0\",\"fill\":\"lime\",\"cx\":\"462.34510968195605\"}},\"nodeType\":\"DOM\",\"type\":\"node\",\"instanceArgs\":{\"namespace\":\"svg\",\"tag\":\"circle\"},\"children\":[]},{\"props\":{\"attributes\":{\"cy\":\"235.45989080882805\",\"r\":\"30.0\",\"fill\":\"teal\",\"cx\":\"467.9155326901723\"}},\"nodeType\":\"DOM\",\"type\":\"node\",\"instanceArgs\":{\"namespace\":\"svg\",\"tag\":\"circle\"},\"children\":[]},{\"props\":{\"attributes\":{\"cy\":\"229.848711262349\",\"r\":\"30.0\",\"fill\":\"aqua\",\"cx\":\"473.48595569838864\"}},\"nodeType\":\"DOM\",\"type\":\"node\",\"instanceArgs\":{\"namespace\":\"svg\",\"tag\":\"circle\"},\"children\":[]},{\"props\":{\"attributes\":{\"cy\":\"223.43970978741135\",\"r\":\"30.0\",\"fill\":\"navy\",\"cx\":\"479.05637870660496\"}},\"nodeType\":\"DOM\",\"type\":\"node\",\"instanceArgs\":{\"namespace\":\"svg\",\"tag\":\"circle\"},\"children\":[]},{\"props\":{\"attributes\":{\"cy\":\"216.2969230082182\",\"r\":\"30.0\",\"fill\":\"blue\",\"cx\":\"484.6268017148214\"}},\"nodeType\":\"DOM\",\"type\":\"node\",\"instanceArgs\":{\"namespace\":\"svg\",\"tag\":\"circle\"},\"children\":[]},{\"props\":{\"attributes\":{\"cy\":\"208.49171928917616\",\"r\":\"30.0\",\"fill\":\"purple\",\"cx\":\"490.1972247230377\"}},\"nodeType\":\"DOM\",\"type\":\"node\",\"instanceArgs\":{\"namespace\":\"svg\",\"tag\":\"circle\"},\"children\":[]},{\"props\":{\"attributes\":{\"cy\":\"200.10208564578846\",\"r\":\"30.0\",\"fill\":\"fuchsia\",\"cx\":\"495.767647731254\"}},\"nodeType\":\"DOM\",\"type\":\"node\",\"instanceArgs\":{\"namespace\":\"svg\",\"tag\":\"circle\"},\"children\":[]},{\"props\":{\"attributes\":{\"cy\":\"191.21184852417565\",\"r\":\"30.0\",\"fill\":\"black\",\"cx\":\"501.3380707394703\"}},\"nodeType\":\"DOM\",\"type\":\"node\",\"instanceArgs\":{\"namespace\":\"svg\",\"tag\":\"circle\"},\"children\":[]},{\"props\":{\"attributes\":{\"cy\":\"181.9098362349352\",\"r\":\"30.0\",\"fill\":\"gray\",\"cx\":\"506.9084937476867\"}},\"nodeType\":\"DOM\",\"type\":\"node\",\"instanceArgs\":{\"namespace\":\"svg\",\"tag\":\"circle\"},\"children\":[]},{\"props\":{\"attributes\":{\"cy\":\"172.2889914100246\",\"r\":\"30.0\",\"fill\":\"silver\",\"cx\":\"512.4789167559031\"}},\"nodeType\":\"DOM\",\"type\":\"node\",\"instanceArgs\":{\"namespace\":\"svg\",\"tag\":\"circle\"},\"children\":[]},{\"props\":{\"attributes\":{\"cy\":\"162.44544235070617\",\"r\":\"30.0\",\"fill\":\"maroon\",\"cx\":\"518.0493397641194\"}},\"nodeType\":\"DOM\",\"type\":\"node\",\"instanceArgs\":{\"namespace\":\"svg\",\"tag\":\"circle\"},\"children\":[]},{\"props\":{\"attributes\":{\"cy\":\"152.47754254533578\",\"r\":\"30.0\",\"fill\":\"red\",\"cx\":\"523.6197627723357\"}},\"nodeType\":\"DOM\",\"type\":\"node\",\"instanceArgs\":{\"namespace\":\"svg\",\"tag\":\"circle\"},\"children\":[]},{\"props\":{\"attributes\":{\"cy\":\"142.48488795381908\",\"r\":\"30.0\",\"fill\":\"olive\",\"cx\":\"529.190185780552\"}},\"nodeType\":\"DOM\",\"type\":\"node\",\"instanceArgs\":{\"namespace\":\"svg\",\"tag\":\"circle\"},\"children\":[]},{\"props\":{\"attributes\":{\"cy\":\"132.56732187770186\",\"r\":\"30.0\",\"fill\":\"yellow\",\"cx\":\"534.7606087887684\"}},\"nodeType\":\"DOM\",\"type\":\"node\",\"instanceArgs\":{\"namespace\":\"svg\",\"tag\":\"circle\"},\"children\":[]},{\"props\":{\"attributes\":{\"cy\":\"122.82393735890558\",\"r\":\"30.0\",\"fill\":\"green\",\"cx\":\"540.3310317969848\"}},\"nodeType\":\"DOM\",\"type\":\"node\",\"instanceArgs\":{\"namespace\":\"svg\",\"tag\":\"circle\"},\"children\":[]},{\"props\":{\"attributes\":{\"cy\":\"113.35208707480717\",\"r\":\"30.0\",\"fill\":\"lime\",\"cx\":\"545.9014548052011\"}},\"nodeType\":\"DOM\",\"type\":\"node\",\"instanceArgs\":{\"namespace\":\"svg\",\"tag\":\"circle\"},\"children\":[]},{\"props\":{\"attributes\":{\"cy\":\"104.24641062246786\",\"r\":\"30.0\",\"fill\":\"teal\",\"cx\":\"551.4718778134173\"}},\"nodeType\":\"DOM\",\"type\":\"node\",\"instanceArgs\":{\"namespace\":\"svg\",\"tag\":\"circle\"},\"children\":[]},{\"props\":{\"attributes\":{\"cy\":\"95.59788891106302\",\"r\":\"30.0\",\"fill\":\"aqua\",\"cx\":\"557.0423008216337\"}},\"nodeType\":\"DOM\",\"type\":\"node\",\"instanceArgs\":{\"namespace\":\"svg\",\"tag\":\"circle\"},\"children\":[]}]}]}}}},\"children\":[{\"props\":{},\"nodeType\":\"ObservableNode\",\"type\":\"node\",\"instanceArgs\":{\"id\":\"ob_135\",\"name\":\"obs-node\"},\"children\":[]}]}]},\n",
       "            window,\n",
       "        );\n",
       "    } else {\n",
       "        document\n",
       "            .querySelector('[data-webio-mountpoint=\"10364095176914525099\"]')\n",
       "            .innerHTML = '<strong>WebIO not detected.</strong>';\n",
       "    }\n",
       "    </script>\n",
       "</div>\n"
      ],
      "text/plain": [
       "Node{WebIO.DOM}(WebIO.DOM(:html, :div), Any[Node{DOM}(DOM(:html, :div), Any[Scope(Node{DOM}(DOM(:html, :div), Any[Node{DOM}(DOM(:html, :div), Any[Node{DOM}(DOM(:html, :label), Any[\"nsamples\"], Dict{Symbol,Any}(:className=>\"interact \",:style=>Dict{Any,Any}(:padding=>\"5px 10px 0px 10px\")))], Dict{Symbol,Any}(:className=>\"interact-flex-row-left\")), Node{DOM}(DOM(:html, :div), Any[Node{DOM}(DOM(:html, :input), Any[], Dict{Symbol,Any}(:max=>200,:min=>1,:attributes=>Dict{Any,Any}(:type=>\"range\",Symbol(\"data-bind\")=>\"numericValue: index, valueUpdate: 'input', event: {change: function (){this.changes(this.changes()+1)}}\",\"orient\"=>\"horizontal\"),:step=>1,:className=>\"slider slider is-fullwidth\",:style=>Dict{Any,Any}()))], Dict{Symbol,Any}(:className=>\"interact-flex-row-center\")), Node{DOM}(DOM(:html, :div), Any[Node{DOM}(DOM(:html, :p), Any[], Dict{Symbol,Any}(:attributes=>Dict(\"data-bind\"=>\"text: formatted_val\")))], Dict{Symbol,Any}(:className=>\"interact-flex-row-right\"))], Dict{Symbol,Any}(:className=>\"interact-flex-row interact-widget\")), Dict{String,Tuple{Observables.AbstractObservable,Union{Nothing, Bool}}}(\"changes\"=>(Observable{Int64} with 1 listeners. Value:\n",
       "0, nothing),\"index\"=>(Observable{Int64} with 2 listeners. Value:\n",
       "100, nothing)), Set(String[]), nothing, Asset[Asset(\"js\", \"knockout\", \"/Users/roberto/.julia/packages/Knockout/1sDlc/src/../assets/knockout.js\"), Asset(\"js\", \"knockout_punches\", \"/Users/roberto/.julia/packages/Knockout/1sDlc/src/../assets/knockout_punches.js\"), Asset(\"js\", nothing, \"/Users/roberto/.julia/packages/InteractBase/l8cEC/src/../assets/all.js\"), Asset(\"css\", nothing, \"/Users/roberto/.julia/packages/InteractBase/l8cEC/src/../assets/style.css\"), Asset(\"css\", nothing, \"/Users/roberto/.julia/packages/Interact/0klKX/src/../assets/bulma_confined.min.css\")], Dict{Any,Any}(\"changes\"=>Any[JSString(\"(function (val){return (val!=this.model[\\\"changes\\\"]()) ? (this.valueFromJulia[\\\"changes\\\"]=true, this.model[\\\"changes\\\"](val)) : undefined})\")],\"index\"=>Any[JSString(\"(function (val){return (val!=this.model[\\\"index\\\"]()) ? (this.valueFromJulia[\\\"index\\\"]=true, this.model[\\\"index\\\"](val)) : undefined})\")]), ConnectionPool(Channel{Any}(sz_max:9223372036854775807,sz_curr:0), Set(AbstractConnection[]), Channel{AbstractConnection}(sz_max:32,sz_curr:0)), WebIO.JSString[JSString(\"function () {\\n    var handler = (function (ko, koPunches) {\\n    ko.punches.enableAll();\\n    ko.bindingHandlers.numericValue = {\\n        init: function(element, valueAccessor, allBindings, data, context) {\\n            var stringified = ko.observable(ko.unwrap(valueAccessor()));\\n            stringified.subscribe(function(value) {\\n                var val = parseFloat(value);\\n                if (!isNaN(val)) {\\n                    valueAccessor()(val);\\n                }\\n            });\\n            valueAccessor().subscribe(function(value) {\\n                var str = JSON.stringify(value);\\n                if ((str == \\\"0\\\") && ([\\\"-0\\\", \\\"-0.\\\"].indexOf(stringified()) >= 0))\\n                     return;\\n                 if ([\\\"null\\\", \\\"\\\"].indexOf(str) >= 0)\\n                     return;\\n                stringified(str);\\n            });\\n            ko.applyBindingsToNode(\\n                element,\\n                {\\n                    value: stringified,\\n                    valueUpdate: allBindings.get('valueUpdate'),\\n                },\\n                context,\\n            );\\n        }\\n    };\\n    var json_data = {\\\"formatted_vals\\\":[\\\"1\\\",\\\"2\\\",\\\"3\\\",\\\"4\\\",\\\"5\\\",\\\"6\\\",\\\"7\\\",\\\"8\\\",\\\"9\\\",\\\"10\\\",\\\"11\\\",\\\"12\\\",\\\"13\\\",\\\"14\\\",\\\"15\\\",\\\"16\\\",\\\"17\\\",\\\"18\\\",\\\"19\\\",\\\"20\\\",\\\"21\\\",\\\"22\\\",\\\"23\\\",\\\"24\\\",\\\"25\\\",\\\"26\\\",\\\"27\\\",\\\"28\\\",\\\"29\\\",\\\"30\\\",\\\"31\\\",\\\"32\\\",\\\"33\\\",\\\"34\\\",\\\"35\\\",\\\"36\\\",\\\"37\\\",\\\"38\\\",\\\"39\\\",\\\"40\\\",\\\"41\\\",\\\"42\\\",\\\"43\\\",\\\"44\\\",\\\"45\\\",\\\"46\\\",\\\"47\\\",\\\"48\\\",\\\"49\\\",\\\"50\\\",\\\"51\\\",\\\"52\\\",\\\"53\\\",\\\"54\\\",\\\"55\\\",\\\"56\\\",\\\"57\\\",\\\"58\\\",\\\"59\\\",\\\"60\\\",\\\"61\\\",\\\"62\\\",\\\"63\\\",\\\"64\\\",\\\"65\\\",\\\"66\\\",\\\"67\\\",\\\"68\\\",\\\"69\\\",\\\"70\\\",\\\"71\\\",\\\"72\\\",\\\"73\\\",\\\"74\\\",\\\"75\\\",\\\"76\\\",\\\"77\\\",\\\"78\\\",\\\"79\\\",\\\"80\\\",\\\"81\\\",\\\"82\\\",\\\"83\\\",\\\"84\\\",\\\"85\\\",\\\"86\\\",\\\"87\\\",\\\"88\\\",\\\"89\\\",\\\"90\\\",\\\"91\\\",\\\"92\\\",\\\"93\\\",\\\"94\\\",\\\"95\\\",\\\"96\\\",\\\"97\\\",\\\"98\\\",\\\"99\\\",\\\"100\\\",\\\"101\\\",\\\"102\\\",\\\"103\\\",\\\"104\\\",\\\"105\\\",\\\"106\\\",\\\"107\\\",\\\"108\\\",\\\"109\\\",\\\"110\\\",\\\"111\\\",\\\"112\\\",\\\"113\\\",\\\"114\\\",\\\"115\\\",\\\"116\\\",\\\"117\\\",\\\"118\\\",\\\"119\\\",\\\"120\\\",\\\"121\\\",\\\"122\\\",\\\"123\\\",\\\"124\\\",\\\"125\\\",\\\"126\\\",\\\"127\\\",\\\"128\\\",\\\"129\\\",\\\"130\\\",\\\"131\\\",\\\"132\\\",\\\"133\\\",\\\"134\\\",\\\"135\\\",\\\"136\\\",\\\"137\\\",\\\"138\\\",\\\"139\\\",\\\"140\\\",\\\"141\\\",\\\"142\\\",\\\"143\\\",\\\"144\\\",\\\"145\\\",\\\"146\\\",\\\"147\\\",\\\"148\\\",\\\"149\\\",\\\"150\\\",\\\"151\\\",\\\"152\\\",\\\"153\\\",\\\"154\\\",\\\"155\\\",\\\"156\\\",\\\"157\\\",\\\"158\\\",\\\"159\\\",\\\"160\\\",\\\"161\\\",\\\"162\\\",\\\"163\\\",\\\"164\\\",\\\"165\\\",\\\"166\\\",\\\"167\\\",\\\"168\\\",\\\"169\\\",\\\"170\\\",\\\"171\\\",\\\"172\\\",\\\"173\\\",\\\"174\\\",\\\"175\\\",\\\"176\\\",\\\"177\\\",\\\"178\\\",\\\"179\\\",\\\"180\\\",\\\"181\\\",\\\"182\\\",\\\"183\\\",\\\"184\\\",\\\"185\\\",\\\"186\\\",\\\"187\\\",\\\"188\\\",\\\"189\\\",\\\"190\\\",\\\"191\\\",\\\"192\\\",\\\"193\\\",\\\"194\\\",\\\"195\\\",\\\"196\\\",\\\"197\\\",\\\"198\\\",\\\"199\\\",\\\"200\\\"],\\\"changes\\\":WebIO.getval({\\\"name\\\":\\\"changes\\\",\\\"scope\\\":\\\"14956934195493447977\\\",\\\"id\\\":\\\"ob_122\\\",\\\"type\\\":\\\"observable\\\"}),\\\"index\\\":WebIO.getval({\\\"name\\\":\\\"index\\\",\\\"scope\\\":\\\"14956934195493447977\\\",\\\"id\\\":\\\"ob_121\\\",\\\"type\\\":\\\"observable\\\"})};\\n    var self = this;\\n    function AppViewModel() {\\n        for (var key in json_data) {\\n            var el = json_data[key];\\n            this[key] = Array.isArray(el) ? ko.observableArray(el) : ko.observable(el);\\n        }\\n        \\n        [this[\\\"formatted_val\\\"]=ko.computed(    function(){\\n        return this.formatted_vals()[parseInt(this.index())-(1)];\\n    }\\n,this)]\\n        [this[\\\"changes\\\"].subscribe((function (val){!(this.valueFromJulia[\\\"changes\\\"]) ? (WebIO.setval({\\\"name\\\":\\\"changes\\\",\\\"scope\\\":\\\"14956934195493447977\\\",\\\"id\\\":\\\"ob_122\\\",\\\"type\\\":\\\"observable\\\"},val)) : undefined; return this.valueFromJulia[\\\"changes\\\"]=false}),self),this[\\\"index\\\"].subscribe((function (val){!(this.valueFromJulia[\\\"index\\\"]) ? (WebIO.setval({\\\"name\\\":\\\"index\\\",\\\"scope\\\":\\\"14956934195493447977\\\",\\\"id\\\":\\\"ob_121\\\",\\\"type\\\":\\\"observable\\\"},val)) : undefined; return this.valueFromJulia[\\\"index\\\"]=false}),self)]\\n        \\n    }\\n    self.model = new AppViewModel();\\n    self.valueFromJulia = {};\\n    for (var key in json_data) {\\n        self.valueFromJulia[key] = false;\\n    }\\n    ko.applyBindings(self.model, self.dom);\\n}\\n);\\n    (WebIO.importBlock({\\\"data\\\":[{\\\"name\\\":\\\"knockout\\\",\\\"type\\\":\\\"js\\\",\\\"url\\\":\\\"/assetserver/1418600122391479348d6b70f8fc3978f3015b35-knockout.js\\\"},{\\\"name\\\":\\\"knockout_punches\\\",\\\"type\\\":\\\"js\\\",\\\"url\\\":\\\"/assetserver/cd3f841ffabd7ce8124a19658c02643a3dce952c-knockout_punches.js\\\"}],\\\"type\\\":\\\"async_block\\\"})).then((imports) => handler.apply(this, imports));\\n}\\n\")])], Dict{Symbol,Any}(:className=>\"field interact-widget\")), Node{DOM}(DOM(:html, :div), Any[Scope(Node{DOM}(DOM(:html, :div), Any[Node{DOM}(DOM(:html, :div), Any[Node{DOM}(DOM(:html, :label), Any[\"sample step\"], Dict{Symbol,Any}(:className=>\"interact \",:style=>Dict{Any,Any}(:padding=>\"5px 10px 0px 10px\")))], Dict{Symbol,Any}(:className=>\"interact-flex-row-left\")), Node{DOM}(DOM(:html, :div), Any[Node{DOM}(DOM(:html, :input), Any[], Dict{Symbol,Any}(:max=>100,:min=>1,:attributes=>Dict{Any,Any}(:type=>\"range\",Symbol(\"data-bind\")=>\"numericValue: index, valueUpdate: 'input', event: {change: function (){this.changes(this.changes()+1)}}\",\"orient\"=>\"horizontal\"),:step=>1,:className=>\"slider slider is-fullwidth\",:style=>Dict{Any,Any}()))], Dict{Symbol,Any}(:className=>\"interact-flex-row-center\")), Node{DOM}(DOM(:html, :div), Any[Node{DOM}(DOM(:html, :p), Any[], Dict{Symbol,Any}(:attributes=>Dict(\"data-bind\"=>\"text: formatted_val\")))], Dict{Symbol,Any}(:className=>\"interact-flex-row-right\"))], Dict{Symbol,Any}(:className=>\"interact-flex-row interact-widget\")), Dict{String,Tuple{Observables.AbstractObservable,Union{Nothing, Bool}}}(\"changes\"=>(Observable{Int64} with 1 listeners. Value:\n",
       "0, nothing),\"index\"=>(Observable{Any} with 2 listeners. Value:\n",
       "10, nothing)), Set(String[]), nothing, Asset[Asset(\"js\", \"knockout\", \"/Users/roberto/.julia/packages/Knockout/1sDlc/src/../assets/knockout.js\"), Asset(\"js\", \"knockout_punches\", \"/Users/roberto/.julia/packages/Knockout/1sDlc/src/../assets/knockout_punches.js\"), Asset(\"js\", nothing, \"/Users/roberto/.julia/packages/InteractBase/l8cEC/src/../assets/all.js\"), Asset(\"css\", nothing, \"/Users/roberto/.julia/packages/InteractBase/l8cEC/src/../assets/style.css\"), Asset(\"css\", nothing, \"/Users/roberto/.julia/packages/Interact/0klKX/src/../assets/bulma_confined.min.css\")], Dict{Any,Any}(\"changes\"=>Any[JSString(\"(function (val){return (val!=this.model[\\\"changes\\\"]()) ? (this.valueFromJulia[\\\"changes\\\"]=true, this.model[\\\"changes\\\"](val)) : undefined})\")],\"index\"=>Any[JSString(\"(function (val){return (val!=this.model[\\\"index\\\"]()) ? (this.valueFromJulia[\\\"index\\\"]=true, this.model[\\\"index\\\"](val)) : undefined})\")]), ConnectionPool(Channel{Any}(sz_max:9223372036854775807,sz_curr:0), Set(AbstractConnection[]), Channel{AbstractConnection}(sz_max:32,sz_curr:0)), WebIO.JSString[JSString(\"function () {\\n    var handler = (function (ko, koPunches) {\\n    ko.punches.enableAll();\\n    ko.bindingHandlers.numericValue = {\\n        init: function(element, valueAccessor, allBindings, data, context) {\\n            var stringified = ko.observable(ko.unwrap(valueAccessor()));\\n            stringified.subscribe(function(value) {\\n                var val = parseFloat(value);\\n                if (!isNaN(val)) {\\n                    valueAccessor()(val);\\n                }\\n            });\\n            valueAccessor().subscribe(function(value) {\\n                var str = JSON.stringify(value);\\n                if ((str == \\\"0\\\") && ([\\\"-0\\\", \\\"-0.\\\"].indexOf(stringified()) >= 0))\\n                     return;\\n                 if ([\\\"null\\\", \\\"\\\"].indexOf(str) >= 0)\\n                     return;\\n                stringified(str);\\n            });\\n            ko.applyBindingsToNode(\\n                element,\\n                {\\n                    value: stringified,\\n                    valueUpdate: allBindings.get('valueUpdate'),\\n                },\\n                context,\\n            );\\n        }\\n    };\\n    var json_data = {\\\"formatted_vals\\\":[\\\"0.01\\\",\\\"0.02\\\",\\\"0.03\\\",\\\"0.04\\\",\\\"0.05\\\",\\\"0.06\\\",\\\"0.07\\\",\\\"0.08\\\",\\\"0.09\\\",\\\"0.1\\\",\\\"0.11\\\",\\\"0.12\\\",\\\"0.13\\\",\\\"0.14\\\",\\\"0.15\\\",\\\"0.16\\\",\\\"0.17\\\",\\\"0.18\\\",\\\"0.19\\\",\\\"0.2\\\",\\\"0.21\\\",\\\"0.22\\\",\\\"0.23\\\",\\\"0.24\\\",\\\"0.25\\\",\\\"0.26\\\",\\\"0.27\\\",\\\"0.28\\\",\\\"0.29\\\",\\\"0.3\\\",\\\"0.31\\\",\\\"0.32\\\",\\\"0.33\\\",\\\"0.34\\\",\\\"0.35\\\",\\\"0.36\\\",\\\"0.37\\\",\\\"0.38\\\",\\\"0.39\\\",\\\"0.4\\\",\\\"0.41\\\",\\\"0.42\\\",\\\"0.43\\\",\\\"0.44\\\",\\\"0.45\\\",\\\"0.46\\\",\\\"0.47\\\",\\\"0.48\\\",\\\"0.49\\\",\\\"0.5\\\",\\\"0.51\\\",\\\"0.52\\\",\\\"0.53\\\",\\\"0.54\\\",\\\"0.55\\\",\\\"0.56\\\",\\\"0.57\\\",\\\"0.58\\\",\\\"0.59\\\",\\\"0.6\\\",\\\"0.61\\\",\\\"0.62\\\",\\\"0.63\\\",\\\"0.64\\\",\\\"0.65\\\",\\\"0.66\\\",\\\"0.67\\\",\\\"0.68\\\",\\\"0.69\\\",\\\"0.7\\\",\\\"0.71\\\",\\\"0.72\\\",\\\"0.73\\\",\\\"0.74\\\",\\\"0.75\\\",\\\"0.76\\\",\\\"0.77\\\",\\\"0.78\\\",\\\"0.79\\\",\\\"0.8\\\",\\\"0.81\\\",\\\"0.82\\\",\\\"0.83\\\",\\\"0.84\\\",\\\"0.85\\\",\\\"0.86\\\",\\\"0.87\\\",\\\"0.88\\\",\\\"0.89\\\",\\\"0.9\\\",\\\"0.91\\\",\\\"0.92\\\",\\\"0.93\\\",\\\"0.94\\\",\\\"0.95\\\",\\\"0.96\\\",\\\"0.97\\\",\\\"0.98\\\",\\\"0.99\\\",\\\"1.0\\\"],\\\"changes\\\":WebIO.getval({\\\"name\\\":\\\"changes\\\",\\\"scope\\\":\\\"14070570543640765666\\\",\\\"id\\\":\\\"ob_125\\\",\\\"type\\\":\\\"observable\\\"}),\\\"index\\\":WebIO.getval({\\\"name\\\":\\\"index\\\",\\\"scope\\\":\\\"14070570543640765666\\\",\\\"id\\\":\\\"ob_124\\\",\\\"type\\\":\\\"observable\\\"})};\\n    var self = this;\\n    function AppViewModel() {\\n        for (var key in json_data) {\\n            var el = json_data[key];\\n            this[key] = Array.isArray(el) ? ko.observableArray(el) : ko.observable(el);\\n        }\\n        \\n        [this[\\\"formatted_val\\\"]=ko.computed(    function(){\\n        return this.formatted_vals()[parseInt(this.index())-(1)];\\n    }\\n,this)]\\n        [this[\\\"changes\\\"].subscribe((function (val){!(this.valueFromJulia[\\\"changes\\\"]) ? (WebIO.setval({\\\"name\\\":\\\"changes\\\",\\\"scope\\\":\\\"14070570543640765666\\\",\\\"id\\\":\\\"ob_125\\\",\\\"type\\\":\\\"observable\\\"},val)) : undefined; return this.valueFromJulia[\\\"changes\\\"]=false}),self),this[\\\"index\\\"].subscribe((function (val){!(this.valueFromJulia[\\\"index\\\"]) ? (WebIO.setval({\\\"name\\\":\\\"index\\\",\\\"scope\\\":\\\"14070570543640765666\\\",\\\"id\\\":\\\"ob_124\\\",\\\"type\\\":\\\"observable\\\"},val)) : undefined; return this.valueFromJulia[\\\"index\\\"]=false}),self)]\\n        \\n    }\\n    self.model = new AppViewModel();\\n    self.valueFromJulia = {};\\n    for (var key in json_data) {\\n        self.valueFromJulia[key] = false;\\n    }\\n    ko.applyBindings(self.model, self.dom);\\n}\\n);\\n    (WebIO.importBlock({\\\"data\\\":[{\\\"name\\\":\\\"knockout\\\",\\\"type\\\":\\\"js\\\",\\\"url\\\":\\\"/assetserver/1418600122391479348d6b70f8fc3978f3015b35-knockout.js\\\"},{\\\"name\\\":\\\"knockout_punches\\\",\\\"type\\\":\\\"js\\\",\\\"url\\\":\\\"/assetserver/cd3f841ffabd7ce8124a19658c02643a3dce952c-knockout_punches.js\\\"}],\\\"type\\\":\\\"async_block\\\"})).then((imports) => handler.apply(this, imports));\\n}\\n\")])], Dict{Symbol,Any}(:className=>\"field interact-widget\")), Node{DOM}(DOM(:html, :div), Any[Scope(Node{DOM}(DOM(:html, :div), Any[Node{DOM}(DOM(:html, :div), Any[Node{DOM}(DOM(:html, :label), Any[\"phase\"], Dict{Symbol,Any}(:className=>\"interact \",:style=>Dict{Any,Any}(:padding=>\"5px 10px 0px 10px\")))], Dict{Symbol,Any}(:className=>\"interact-flex-row-left\")), Node{DOM}(DOM(:html, :div), Any[Node{DOM}(DOM(:html, :input), Any[], Dict{Symbol,Any}(:max=>63,:min=>1,:attributes=>Dict{Any,Any}(:type=>\"range\",Symbol(\"data-bind\")=>\"numericValue: index, valueUpdate: 'input', event: {change: function (){this.changes(this.changes()+1)}}\",\"orient\"=>\"horizontal\"),:step=>1,:className=>\"slider slider is-fullwidth\",:style=>Dict{Any,Any}()))], Dict{Symbol,Any}(:className=>\"interact-flex-row-center\")), Node{DOM}(DOM(:html, :div), Any[Node{DOM}(DOM(:html, :p), Any[], Dict{Symbol,Any}(:attributes=>Dict(\"data-bind\"=>\"text: formatted_val\")))], Dict{Symbol,Any}(:className=>\"interact-flex-row-right\"))], Dict{Symbol,Any}(:className=>\"interact-flex-row interact-widget\")), Dict{String,Tuple{Observables.AbstractObservable,Union{Nothing, Bool}}}(\"changes\"=>(Observable{Int64} with 1 listeners. Value:\n",
       "0, nothing),\"index\"=>(Observable{Any} with 2 listeners. Value:\n",
       "1, nothing)), Set(String[]), nothing, Asset[Asset(\"js\", \"knockout\", \"/Users/roberto/.julia/packages/Knockout/1sDlc/src/../assets/knockout.js\"), Asset(\"js\", \"knockout_punches\", \"/Users/roberto/.julia/packages/Knockout/1sDlc/src/../assets/knockout_punches.js\"), Asset(\"js\", nothing, \"/Users/roberto/.julia/packages/InteractBase/l8cEC/src/../assets/all.js\"), Asset(\"css\", nothing, \"/Users/roberto/.julia/packages/InteractBase/l8cEC/src/../assets/style.css\"), Asset(\"css\", nothing, \"/Users/roberto/.julia/packages/Interact/0klKX/src/../assets/bulma_confined.min.css\")], Dict{Any,Any}(\"changes\"=>Any[JSString(\"(function (val){return (val!=this.model[\\\"changes\\\"]()) ? (this.valueFromJulia[\\\"changes\\\"]=true, this.model[\\\"changes\\\"](val)) : undefined})\")],\"index\"=>Any[JSString(\"(function (val){return (val!=this.model[\\\"index\\\"]()) ? (this.valueFromJulia[\\\"index\\\"]=true, this.model[\\\"index\\\"](val)) : undefined})\")]), ConnectionPool(Channel{Any}(sz_max:9223372036854775807,sz_curr:0), Set(AbstractConnection[]), Channel{AbstractConnection}(sz_max:32,sz_curr:0)), WebIO.JSString[JSString(\"function () {\\n    var handler = (function (ko, koPunches) {\\n    ko.punches.enableAll();\\n    ko.bindingHandlers.numericValue = {\\n        init: function(element, valueAccessor, allBindings, data, context) {\\n            var stringified = ko.observable(ko.unwrap(valueAccessor()));\\n            stringified.subscribe(function(value) {\\n                var val = parseFloat(value);\\n                if (!isNaN(val)) {\\n                    valueAccessor()(val);\\n                }\\n            });\\n            valueAccessor().subscribe(function(value) {\\n                var str = JSON.stringify(value);\\n                if ((str == \\\"0\\\") && ([\\\"-0\\\", \\\"-0.\\\"].indexOf(stringified()) >= 0))\\n                     return;\\n                 if ([\\\"null\\\", \\\"\\\"].indexOf(str) >= 0)\\n                     return;\\n                stringified(str);\\n            });\\n            ko.applyBindingsToNode(\\n                element,\\n                {\\n                    value: stringified,\\n                    valueUpdate: allBindings.get('valueUpdate'),\\n                },\\n                context,\\n            );\\n        }\\n    };\\n    var json_data = {\\\"formatted_vals\\\":[\\\"0.0\\\",\\\"0.1\\\",\\\"0.2\\\",\\\"0.3\\\",\\\"0.4\\\",\\\"0.5\\\",\\\"0.6\\\",\\\"0.7\\\",\\\"0.8\\\",\\\"0.9\\\",\\\"1.0\\\",\\\"1.1\\\",\\\"1.2\\\",\\\"1.3\\\",\\\"1.4\\\",\\\"1.5\\\",\\\"1.6\\\",\\\"1.7\\\",\\\"1.8\\\",\\\"1.9\\\",\\\"2.0\\\",\\\"2.1\\\",\\\"2.2\\\",\\\"2.3\\\",\\\"2.4\\\",\\\"2.5\\\",\\\"2.6\\\",\\\"2.7\\\",\\\"2.8\\\",\\\"2.9\\\",\\\"3.0\\\",\\\"3.1\\\",\\\"3.2\\\",\\\"3.3\\\",\\\"3.4\\\",\\\"3.5\\\",\\\"3.6\\\",\\\"3.7\\\",\\\"3.8\\\",\\\"3.9\\\",\\\"4.0\\\",\\\"4.1\\\",\\\"4.2\\\",\\\"4.3\\\",\\\"4.4\\\",\\\"4.5\\\",\\\"4.6\\\",\\\"4.7\\\",\\\"4.8\\\",\\\"4.9\\\",\\\"5.0\\\",\\\"5.1\\\",\\\"5.2\\\",\\\"5.3\\\",\\\"5.4\\\",\\\"5.5\\\",\\\"5.6\\\",\\\"5.7\\\",\\\"5.8\\\",\\\"5.9\\\",\\\"6.0\\\",\\\"6.1\\\",\\\"6.2\\\"],\\\"changes\\\":WebIO.getval({\\\"name\\\":\\\"changes\\\",\\\"scope\\\":\\\"15808431358851312018\\\",\\\"id\\\":\\\"ob_128\\\",\\\"type\\\":\\\"observable\\\"}),\\\"index\\\":WebIO.getval({\\\"name\\\":\\\"index\\\",\\\"scope\\\":\\\"15808431358851312018\\\",\\\"id\\\":\\\"ob_127\\\",\\\"type\\\":\\\"observable\\\"})};\\n    var self = this;\\n    function AppViewModel() {\\n        for (var key in json_data) {\\n            var el = json_data[key];\\n            this[key] = Array.isArray(el) ? ko.observableArray(el) : ko.observable(el);\\n        }\\n        \\n        [this[\\\"formatted_val\\\"]=ko.computed(    function(){\\n        return this.formatted_vals()[parseInt(this.index())-(1)];\\n    }\\n,this)]\\n        [this[\\\"changes\\\"].subscribe((function (val){!(this.valueFromJulia[\\\"changes\\\"]) ? (WebIO.setval({\\\"name\\\":\\\"changes\\\",\\\"scope\\\":\\\"15808431358851312018\\\",\\\"id\\\":\\\"ob_128\\\",\\\"type\\\":\\\"observable\\\"},val)) : undefined; return this.valueFromJulia[\\\"changes\\\"]=false}),self),this[\\\"index\\\"].subscribe((function (val){!(this.valueFromJulia[\\\"index\\\"]) ? (WebIO.setval({\\\"name\\\":\\\"index\\\",\\\"scope\\\":\\\"15808431358851312018\\\",\\\"id\\\":\\\"ob_127\\\",\\\"type\\\":\\\"observable\\\"},val)) : undefined; return this.valueFromJulia[\\\"index\\\"]=false}),self)]\\n        \\n    }\\n    self.model = new AppViewModel();\\n    self.valueFromJulia = {};\\n    for (var key in json_data) {\\n        self.valueFromJulia[key] = false;\\n    }\\n    ko.applyBindings(self.model, self.dom);\\n}\\n);\\n    (WebIO.importBlock({\\\"data\\\":[{\\\"name\\\":\\\"knockout\\\",\\\"type\\\":\\\"js\\\",\\\"url\\\":\\\"/assetserver/1418600122391479348d6b70f8fc3978f3015b35-knockout.js\\\"},{\\\"name\\\":\\\"knockout_punches\\\",\\\"type\\\":\\\"js\\\",\\\"url\\\":\\\"/assetserver/cd3f841ffabd7ce8124a19658c02643a3dce952c-knockout_punches.js\\\"}],\\\"type\\\":\\\"async_block\\\"})).then((imports) => handler.apply(this, imports));\\n}\\n\")])], Dict{Symbol,Any}(:className=>\"field interact-widget\")), Node{DOM}(DOM(:html, :div), Any[Scope(Node{DOM}(DOM(:html, :div), Any[Node{DOM}(DOM(:html, :div), Any[Node{DOM}(DOM(:html, :label), Any[\"radii\"], Dict{Symbol,Any}(:className=>\"interact \",:style=>Dict{Any,Any}(:padding=>\"5px 10px 0px 10px\")))], Dict{Symbol,Any}(:className=>\"interact-flex-row-left\")), Node{DOM}(DOM(:html, :div), Any[Node{DOM}(DOM(:html, :input), Any[], Dict{Symbol,Any}(:max=>600,:min=>1,:attributes=>Dict{Any,Any}(:type=>\"range\",Symbol(\"data-bind\")=>\"numericValue: index, valueUpdate: 'input', event: {change: function (){this.changes(this.changes()+1)}}\",\"orient\"=>\"horizontal\"),:step=>1,:className=>\"slider slider is-fullwidth\",:style=>Dict{Any,Any}()))], Dict{Symbol,Any}(:className=>\"interact-flex-row-center\")), Node{DOM}(DOM(:html, :div), Any[Node{DOM}(DOM(:html, :p), Any[], Dict{Symbol,Any}(:attributes=>Dict(\"data-bind\"=>\"text: formatted_val\")))], Dict{Symbol,Any}(:className=>\"interact-flex-row-right\"))], Dict{Symbol,Any}(:className=>\"interact-flex-row interact-widget\")), Dict{String,Tuple{Observables.AbstractObservable,Union{Nothing, Bool}}}(\"changes\"=>(Observable{Int64} with 1 listeners. Value:\n",
       "0, nothing),\"index\"=>(Observable{Any} with 2 listeners. Value:\n",
       "300, nothing)), Set(String[]), nothing, Asset[Asset(\"js\", \"knockout\", \"/Users/roberto/.julia/packages/Knockout/1sDlc/src/../assets/knockout.js\"), Asset(\"js\", \"knockout_punches\", \"/Users/roberto/.julia/packages/Knockout/1sDlc/src/../assets/knockout_punches.js\"), Asset(\"js\", nothing, \"/Users/roberto/.julia/packages/InteractBase/l8cEC/src/../assets/all.js\"), Asset(\"css\", nothing, \"/Users/roberto/.julia/packages/InteractBase/l8cEC/src/../assets/style.css\"), Asset(\"css\", nothing, \"/Users/roberto/.julia/packages/Interact/0klKX/src/../assets/bulma_confined.min.css\")], Dict{Any,Any}(\"changes\"=>Any[JSString(\"(function (val){return (val!=this.model[\\\"changes\\\"]()) ? (this.valueFromJulia[\\\"changes\\\"]=true, this.model[\\\"changes\\\"](val)) : undefined})\")],\"index\"=>Any[JSString(\"(function (val){return (val!=this.model[\\\"index\\\"]()) ? (this.valueFromJulia[\\\"index\\\"]=true, this.model[\\\"index\\\"](val)) : undefined})\")]), ConnectionPool(Channel{Any}(sz_max:9223372036854775807,sz_curr:0), Set(AbstractConnection[]), Channel{AbstractConnection}(sz_max:32,sz_curr:0)), WebIO.JSString[JSString(\"function () {\\n    var handler = (function (ko, koPunches) {\\n    ko.punches.enableAll();\\n    ko.bindingHandlers.numericValue = {\\n        init: function(element, valueAccessor, allBindings, data, context) {\\n            var stringified = ko.observable(ko.unwrap(valueAccessor()));\\n            stringified.subscribe(function(value) {\\n                var val = parseFloat(value);\\n                if (!isNaN(val)) {\\n                    valueAccessor()(val);\\n                }\\n            });\\n            valueAccessor().subscribe(function(value) {\\n                var str = JSON.stringify(value);\\n                if ((str == \\\"0\\\") && ([\\\"-0\\\", \\\"-0.\\\"].indexOf(stringified()) >= 0))\\n                     return;\\n                 if ([\\\"null\\\", \\\"\\\"].indexOf(str) >= 0)\\n                     return;\\n                stringified(str);\\n            });\\n            ko.applyBindingsToNode(\\n                element,\\n                {\\n                    value: stringified,\\n                    valueUpdate: allBindings.get('valueUpdate'),\\n                },\\n                context,\\n            );\\n        }\\n    };\\n    var json_data = {\\\"formatted_vals\\\":[\\\"0.1\\\",\\\"0.2\\\",\\\"0.3\\\",\\\"0.4\\\",\\\"0.5\\\",\\\"0.6\\\",\\\"0.7\\\",\\\"0.8\\\",\\\"0.9\\\",\\\"1.0\\\",\\\"1.1\\\",\\\"1.2\\\",\\\"1.3\\\",\\\"1.4\\\",\\\"1.5\\\",\\\"1.6\\\",\\\"1.7\\\",\\\"1.8\\\",\\\"1.9\\\",\\\"2.0\\\",\\\"2.1\\\",\\\"2.2\\\",\\\"2.3\\\",\\\"2.4\\\",\\\"2.5\\\",\\\"2.6\\\",\\\"2.7\\\",\\\"2.8\\\",\\\"2.9\\\",\\\"3.0\\\",\\\"3.1\\\",\\\"3.2\\\",\\\"3.3\\\",\\\"3.4\\\",\\\"3.5\\\",\\\"3.6\\\",\\\"3.7\\\",\\\"3.8\\\",\\\"3.9\\\",\\\"4.0\\\",\\\"4.1\\\",\\\"4.2\\\",\\\"4.3\\\",\\\"4.4\\\",\\\"4.5\\\",\\\"4.6\\\",\\\"4.7\\\",\\\"4.8\\\",\\\"4.9\\\",\\\"5.0\\\",\\\"5.1\\\",\\\"5.2\\\",\\\"5.3\\\",\\\"5.4\\\",\\\"5.5\\\",\\\"5.6\\\",\\\"5.7\\\",\\\"5.8\\\",\\\"5.9\\\",\\\"6.0\\\",\\\"6.1\\\",\\\"6.2\\\",\\\"6.3\\\",\\\"6.4\\\",\\\"6.5\\\",\\\"6.6\\\",\\\"6.7\\\",\\\"6.8\\\",\\\"6.9\\\",\\\"7.0\\\",\\\"7.1\\\",\\\"7.2\\\",\\\"7.3\\\",\\\"7.4\\\",\\\"7.5\\\",\\\"7.6\\\",\\\"7.7\\\",\\\"7.8\\\",\\\"7.9\\\",\\\"8.0\\\",\\\"8.1\\\",\\\"8.2\\\",\\\"8.3\\\",\\\"8.4\\\",\\\"8.5\\\",\\\"8.6\\\",\\\"8.7\\\",\\\"8.8\\\",\\\"8.9\\\",\\\"9.0\\\",\\\"9.1\\\",\\\"9.2\\\",\\\"9.3\\\",\\\"9.4\\\",\\\"9.5\\\",\\\"9.6\\\",\\\"9.7\\\",\\\"9.8\\\",\\\"9.9\\\",\\\"10.0\\\",\\\"10.1\\\",\\\"10.2\\\",\\\"10.3\\\",\\\"10.4\\\",\\\"10.5\\\",\\\"10.6\\\",\\\"10.7\\\",\\\"10.8\\\",\\\"10.9\\\",\\\"11.0\\\",\\\"11.1\\\",\\\"11.2\\\",\\\"11.3\\\",\\\"11.4\\\",\\\"11.5\\\",\\\"11.6\\\",\\\"11.7\\\",\\\"11.8\\\",\\\"11.9\\\",\\\"12.0\\\",\\\"12.1\\\",\\\"12.2\\\",\\\"12.3\\\",\\\"12.4\\\",\\\"12.5\\\",\\\"12.6\\\",\\\"12.7\\\",\\\"12.8\\\",\\\"12.9\\\",\\\"13.0\\\",\\\"13.1\\\",\\\"13.2\\\",\\\"13.3\\\",\\\"13.4\\\",\\\"13.5\\\",\\\"13.6\\\",\\\"13.7\\\",\\\"13.8\\\",\\\"13.9\\\",\\\"14.0\\\",\\\"14.1\\\",\\\"14.2\\\",\\\"14.3\\\",\\\"14.4\\\",\\\"14.5\\\",\\\"14.6\\\",\\\"14.7\\\",\\\"14.8\\\",\\\"14.9\\\",\\\"15.0\\\",\\\"15.1\\\",\\\"15.2\\\",\\\"15.3\\\",\\\"15.4\\\",\\\"15.5\\\",\\\"15.6\\\",\\\"15.7\\\",\\\"15.8\\\",\\\"15.9\\\",\\\"16.0\\\",\\\"16.1\\\",\\\"16.2\\\",\\\"16.3\\\",\\\"16.4\\\",\\\"16.5\\\",\\\"16.6\\\",\\\"16.7\\\",\\\"16.8\\\",\\\"16.9\\\",\\\"17.0\\\",\\\"17.1\\\",\\\"17.2\\\",\\\"17.3\\\",\\\"17.4\\\",\\\"17.5\\\",\\\"17.6\\\",\\\"17.7\\\",\\\"17.8\\\",\\\"17.9\\\",\\\"18.0\\\",\\\"18.1\\\",\\\"18.2\\\",\\\"18.3\\\",\\\"18.4\\\",\\\"18.5\\\",\\\"18.6\\\",\\\"18.7\\\",\\\"18.8\\\",\\\"18.9\\\",\\\"19.0\\\",\\\"19.1\\\",\\\"19.2\\\",\\\"19.3\\\",\\\"19.4\\\",\\\"19.5\\\",\\\"19.6\\\",\\\"19.7\\\",\\\"19.8\\\",\\\"19.9\\\",\\\"20.0\\\",\\\"20.1\\\",\\\"20.2\\\",\\\"20.3\\\",\\\"20.4\\\",\\\"20.5\\\",\\\"20.6\\\",\\\"20.7\\\",\\\"20.8\\\",\\\"20.9\\\",\\\"21.0\\\",\\\"21.1\\\",\\\"21.2\\\",\\\"21.3\\\",\\\"21.4\\\",\\\"21.5\\\",\\\"21.6\\\",\\\"21.7\\\",\\\"21.8\\\",\\\"21.9\\\",\\\"22.0\\\",\\\"22.1\\\",\\\"22.2\\\",\\\"22.3\\\",\\\"22.4\\\",\\\"22.5\\\",\\\"22.6\\\",\\\"22.7\\\",\\\"22.8\\\",\\\"22.9\\\",\\\"23.0\\\",\\\"23.1\\\",\\\"23.2\\\",\\\"23.3\\\",\\\"23.4\\\",\\\"23.5\\\",\\\"23.6\\\",\\\"23.7\\\",\\\"23.8\\\",\\\"23.9\\\",\\\"24.0\\\",\\\"24.1\\\",\\\"24.2\\\",\\\"24.3\\\",\\\"24.4\\\",\\\"24.5\\\",\\\"24.6\\\",\\\"24.7\\\",\\\"24.8\\\",\\\"24.9\\\",\\\"25.0\\\",\\\"25.1\\\",\\\"25.2\\\",\\\"25.3\\\",\\\"25.4\\\",\\\"25.5\\\",\\\"25.6\\\",\\\"25.7\\\",\\\"25.8\\\",\\\"25.9\\\",\\\"26.0\\\",\\\"26.1\\\",\\\"26.2\\\",\\\"26.3\\\",\\\"26.4\\\",\\\"26.5\\\",\\\"26.6\\\",\\\"26.7\\\",\\\"26.8\\\",\\\"26.9\\\",\\\"27.0\\\",\\\"27.1\\\",\\\"27.2\\\",\\\"27.3\\\",\\\"27.4\\\",\\\"27.5\\\",\\\"27.6\\\",\\\"27.7\\\",\\\"27.8\\\",\\\"27.9\\\",\\\"28.0\\\",\\\"28.1\\\",\\\"28.2\\\",\\\"28.3\\\",\\\"28.4\\\",\\\"28.5\\\",\\\"28.6\\\",\\\"28.7\\\",\\\"28.8\\\",\\\"28.9\\\",\\\"29.0\\\",\\\"29.1\\\",\\\"29.2\\\",\\\"29.3\\\",\\\"29.4\\\",\\\"29.5\\\",\\\"29.6\\\",\\\"29.7\\\",\\\"29.8\\\",\\\"29.9\\\",\\\"30.0\\\",\\\"30.1\\\",\\\"30.2\\\",\\\"30.3\\\",\\\"30.4\\\",\\\"30.5\\\",\\\"30.6\\\",\\\"30.7\\\",\\\"30.8\\\",\\\"30.9\\\",\\\"31.0\\\",\\\"31.1\\\",\\\"31.2\\\",\\\"31.3\\\",\\\"31.4\\\",\\\"31.5\\\",\\\"31.6\\\",\\\"31.7\\\",\\\"31.8\\\",\\\"31.9\\\",\\\"32.0\\\",\\\"32.1\\\",\\\"32.2\\\",\\\"32.3\\\",\\\"32.4\\\",\\\"32.5\\\",\\\"32.6\\\",\\\"32.7\\\",\\\"32.8\\\",\\\"32.9\\\",\\\"33.0\\\",\\\"33.1\\\",\\\"33.2\\\",\\\"33.3\\\",\\\"33.4\\\",\\\"33.5\\\",\\\"33.6\\\",\\\"33.7\\\",\\\"33.8\\\",\\\"33.9\\\",\\\"34.0\\\",\\\"34.1\\\",\\\"34.2\\\",\\\"34.3\\\",\\\"34.4\\\",\\\"34.5\\\",\\\"34.6\\\",\\\"34.7\\\",\\\"34.8\\\",\\\"34.9\\\",\\\"35.0\\\",\\\"35.1\\\",\\\"35.2\\\",\\\"35.3\\\",\\\"35.4\\\",\\\"35.5\\\",\\\"35.6\\\",\\\"35.7\\\",\\\"35.8\\\",\\\"35.9\\\",\\\"36.0\\\",\\\"36.1\\\",\\\"36.2\\\",\\\"36.3\\\",\\\"36.4\\\",\\\"36.5\\\",\\\"36.6\\\",\\\"36.7\\\",\\\"36.8\\\",\\\"36.9\\\",\\\"37.0\\\",\\\"37.1\\\",\\\"37.2\\\",\\\"37.3\\\",\\\"37.4\\\",\\\"37.5\\\",\\\"37.6\\\",\\\"37.7\\\",\\\"37.8\\\",\\\"37.9\\\",\\\"38.0\\\",\\\"38.1\\\",\\\"38.2\\\",\\\"38.3\\\",\\\"38.4\\\",\\\"38.5\\\",\\\"38.6\\\",\\\"38.7\\\",\\\"38.8\\\",\\\"38.9\\\",\\\"39.0\\\",\\\"39.1\\\",\\\"39.2\\\",\\\"39.3\\\",\\\"39.4\\\",\\\"39.5\\\",\\\"39.6\\\",\\\"39.7\\\",\\\"39.8\\\",\\\"39.9\\\",\\\"40.0\\\",\\\"40.1\\\",\\\"40.2\\\",\\\"40.3\\\",\\\"40.4\\\",\\\"40.5\\\",\\\"40.6\\\",\\\"40.7\\\",\\\"40.8\\\",\\\"40.9\\\",\\\"41.0\\\",\\\"41.1\\\",\\\"41.2\\\",\\\"41.3\\\",\\\"41.4\\\",\\\"41.5\\\",\\\"41.6\\\",\\\"41.7\\\",\\\"41.8\\\",\\\"41.9\\\",\\\"42.0\\\",\\\"42.1\\\",\\\"42.2\\\",\\\"42.3\\\",\\\"42.4\\\",\\\"42.5\\\",\\\"42.6\\\",\\\"42.7\\\",\\\"42.8\\\",\\\"42.9\\\",\\\"43.0\\\",\\\"43.1\\\",\\\"43.2\\\",\\\"43.3\\\",\\\"43.4\\\",\\\"43.5\\\",\\\"43.6\\\",\\\"43.7\\\",\\\"43.8\\\",\\\"43.9\\\",\\\"44.0\\\",\\\"44.1\\\",\\\"44.2\\\",\\\"44.3\\\",\\\"44.4\\\",\\\"44.5\\\",\\\"44.6\\\",\\\"44.7\\\",\\\"44.8\\\",\\\"44.9\\\",\\\"45.0\\\",\\\"45.1\\\",\\\"45.2\\\",\\\"45.3\\\",\\\"45.4\\\",\\\"45.5\\\",\\\"45.6\\\",\\\"45.7\\\",\\\"45.8\\\",\\\"45.9\\\",\\\"46.0\\\",\\\"46.1\\\",\\\"46.2\\\",\\\"46.3\\\",\\\"46.4\\\",\\\"46.5\\\",\\\"46.6\\\",\\\"46.7\\\",\\\"46.8\\\",\\\"46.9\\\",\\\"47.0\\\",\\\"47.1\\\",\\\"47.2\\\",\\\"47.3\\\",\\\"47.4\\\",\\\"47.5\\\",\\\"47.6\\\",\\\"47.7\\\",\\\"47.8\\\",\\\"47.9\\\",\\\"48.0\\\",\\\"48.1\\\",\\\"48.2\\\",\\\"48.3\\\",\\\"48.4\\\",\\\"48.5\\\",\\\"48.6\\\",\\\"48.7\\\",\\\"48.8\\\",\\\"48.9\\\",\\\"49.0\\\",\\\"49.1\\\",\\\"49.2\\\",\\\"49.3\\\",\\\"49.4\\\",\\\"49.5\\\",\\\"49.6\\\",\\\"49.7\\\",\\\"49.8\\\",\\\"49.9\\\",\\\"50.0\\\",\\\"50.1\\\",\\\"50.2\\\",\\\"50.3\\\",\\\"50.4\\\",\\\"50.5\\\",\\\"50.6\\\",\\\"50.7\\\",\\\"50.8\\\",\\\"50.9\\\",\\\"51.0\\\",\\\"51.1\\\",\\\"51.2\\\",\\\"51.3\\\",\\\"51.4\\\",\\\"51.5\\\",\\\"51.6\\\",\\\"51.7\\\",\\\"51.8\\\",\\\"51.9\\\",\\\"52.0\\\",\\\"52.1\\\",\\\"52.2\\\",\\\"52.3\\\",\\\"52.4\\\",\\\"52.5\\\",\\\"52.6\\\",\\\"52.7\\\",\\\"52.8\\\",\\\"52.9\\\",\\\"53.0\\\",\\\"53.1\\\",\\\"53.2\\\",\\\"53.3\\\",\\\"53.4\\\",\\\"53.5\\\",\\\"53.6\\\",\\\"53.7\\\",\\\"53.8\\\",\\\"53.9\\\",\\\"54.0\\\",\\\"54.1\\\",\\\"54.2\\\",\\\"54.3\\\",\\\"54.4\\\",\\\"54.5\\\",\\\"54.6\\\",\\\"54.7\\\",\\\"54.8\\\",\\\"54.9\\\",\\\"55.0\\\",\\\"55.1\\\",\\\"55.2\\\",\\\"55.3\\\",\\\"55.4\\\",\\\"55.5\\\",\\\"55.6\\\",\\\"55.7\\\",\\\"55.8\\\",\\\"55.9\\\",\\\"56.0\\\",\\\"56.1\\\",\\\"56.2\\\",\\\"56.3\\\",\\\"56.4\\\",\\\"56.5\\\",\\\"56.6\\\",\\\"56.7\\\",\\\"56.8\\\",\\\"56.9\\\",\\\"57.0\\\",\\\"57.1\\\",\\\"57.2\\\",\\\"57.3\\\",\\\"57.4\\\",\\\"57.5\\\",\\\"57.6\\\",\\\"57.7\\\",\\\"57.8\\\",\\\"57.9\\\",\\\"58.0\\\",\\\"58.1\\\",\\\"58.2\\\",\\\"58.3\\\",\\\"58.4\\\",\\\"58.5\\\",\\\"58.6\\\",\\\"58.7\\\",\\\"58.8\\\",\\\"58.9\\\",\\\"59.0\\\",\\\"59.1\\\",\\\"59.2\\\",\\\"59.3\\\",\\\"59.4\\\",\\\"59.5\\\",\\\"59.6\\\",\\\"59.7\\\",\\\"59.8\\\",\\\"59.9\\\",\\\"60.0\\\"],\\\"changes\\\":WebIO.getval({\\\"name\\\":\\\"changes\\\",\\\"scope\\\":\\\"2689834560385674208\\\",\\\"id\\\":\\\"ob_131\\\",\\\"type\\\":\\\"observable\\\"}),\\\"index\\\":WebIO.getval({\\\"name\\\":\\\"index\\\",\\\"scope\\\":\\\"2689834560385674208\\\",\\\"id\\\":\\\"ob_130\\\",\\\"type\\\":\\\"observable\\\"})};\\n    var self = this;\\n    function AppViewModel() {\\n        for (var key in json_data) {\\n            var el = json_data[key];\\n            this[key] = Array.isArray(el) ? ko.observableArray(el) : ko.observable(el);\\n        }\\n        \\n        [this[\\\"formatted_val\\\"]=ko.computed(    function(){\\n        return this.formatted_vals()[parseInt(this.index())-(1)];\\n    }\\n,this)]\\n        [this[\\\"changes\\\"].subscribe((function (val){!(this.valueFromJulia[\\\"changes\\\"]) ? (WebIO.setval({\\\"name\\\":\\\"changes\\\",\\\"scope\\\":\\\"2689834560385674208\\\",\\\"id\\\":\\\"ob_131\\\",\\\"type\\\":\\\"observable\\\"},val)) : undefined; return this.valueFromJulia[\\\"changes\\\"]=false}),self),this[\\\"index\\\"].subscribe((function (val){!(this.valueFromJulia[\\\"index\\\"]) ? (WebIO.setval({\\\"name\\\":\\\"index\\\",\\\"scope\\\":\\\"2689834560385674208\\\",\\\"id\\\":\\\"ob_130\\\",\\\"type\\\":\\\"observable\\\"},val)) : undefined; return this.valueFromJulia[\\\"index\\\"]=false}),self)]\\n        \\n    }\\n    self.model = new AppViewModel();\\n    self.valueFromJulia = {};\\n    for (var key in json_data) {\\n        self.valueFromJulia[key] = false;\\n    }\\n    ko.applyBindings(self.model, self.dom);\\n}\\n);\\n    (WebIO.importBlock({\\\"data\\\":[{\\\"name\\\":\\\"knockout\\\",\\\"type\\\":\\\"js\\\",\\\"url\\\":\\\"/assetserver/1418600122391479348d6b70f8fc3978f3015b35-knockout.js\\\"},{\\\"name\\\":\\\"knockout_punches\\\",\\\"type\\\":\\\"js\\\",\\\"url\\\":\\\"/assetserver/cd3f841ffabd7ce8124a19658c02643a3dce952c-knockout_punches.js\\\"}],\\\"type\\\":\\\"async_block\\\"})).then((imports) => handler.apply(this, imports));\\n}\\n\")])], Dict{Symbol,Any}(:className=>\"field interact-widget\")), Observable{Any} with 0 listeners. Value:\n",
       "Node{DOM}(DOM(:html, :div), Any[Node{DOM}(DOM(:svg, :svg), Any[Node{DOM}(DOM(:svg, :circle), Any[], Dict{Symbol,Any}(:attributes=>Dict(\"cy\"=>\"159.98334166468283\",\"r\"=>\"30.0\",\"fill\"=>\"gray\",\"cx\"=>\"5.570423008216337\"))), Node{DOM}(DOM(:svg, :circle), Any[], Dict{Symbol,Any}(:attributes=>Dict(\"cy\"=>\"169.8669330795061\",\"r\"=>\"30.0\",\"fill\"=>\"silver\",\"cx\"=>\"11.140846016432674\"))), Node{DOM}(DOM(:svg, :circle), Any[], Dict{Symbol,Any}(:attributes=>Dict(\"cy\"=>\"179.55202066613396\",\"r\"=>\"30.0\",\"fill\"=>\"maroon\",\"cx\"=>\"16.711269024649013\"))), Node{DOM}(DOM(:svg, :circle), Any[], Dict{Symbol,Any}(:attributes=>Dict(\"cy\"=>\"188.94183423086506\",\"r\"=>\"30.0\",\"fill\"=>\"red\",\"cx\"=>\"22.281692032865347\"))), Node{DOM}(DOM(:svg, :circle), Any[], Dict{Symbol,Any}(:attributes=>Dict(\"cy\"=>\"197.9425538604203\",\"r\"=>\"30.0\",\"fill\"=>\"olive\",\"cx\"=>\"27.852115041081685\"))), Node{DOM}(DOM(:svg, :circle), Any[], Dict{Symbol,Any}(:attributes=>Dict(\"cy\"=>\"206.46424733950354\",\"r\"=>\"30.0\",\"fill\"=>\"yellow\",\"cx\"=>\"33.422538049298026\"))), Node{DOM}(DOM(:svg, :circle), Any[], Dict{Symbol,Any}(:attributes=>Dict(\"cy\"=>\"214.4217687237691\",\"r\"=>\"30.0\",\"fill\"=>\"green\",\"cx\"=>\"38.992961057514364\"))), Node{DOM}(DOM(:svg, :circle), Any[], Dict{Symbol,Any}(:attributes=>Dict(\"cy\"=>\"221.73560908995228\",\"r\"=>\"30.0\",\"fill\"=>\"lime\",\"cx\"=>\"44.563384065730695\"))), Node{DOM}(DOM(:svg, :circle), Any[], Dict{Symbol,Any}(:attributes=>Dict(\"cy\"=>\"228.33269096274836\",\"r\"=>\"30.0\",\"fill\"=>\"teal\",\"cx\"=>\"50.13380707394703\"))), Node{DOM}(DOM(:svg, :circle), Any[], Dict{Symbol,Any}(:attributes=>Dict(\"cy\"=>\"234.14709848078965\",\"r\"=>\"30.0\",\"fill\"=>\"aqua\",\"cx\"=>\"55.70423008216337\")))  …  Node{DOM}(DOM(:svg, :circle), Any[], Dict{Symbol,Any}(:attributes=>Dict(\"cy\"=>\"181.9098362349352\",\"r\"=>\"30.0\",\"fill\"=>\"gray\",\"cx\"=>\"506.9084937476867\"))), Node{DOM}(DOM(:svg, :circle), Any[], Dict{Symbol,Any}(:attributes=>Dict(\"cy\"=>\"172.2889914100246\",\"r\"=>\"30.0\",\"fill\"=>\"silver\",\"cx\"=>\"512.4789167559031\"))), Node{DOM}(DOM(:svg, :circle), Any[], Dict{Symbol,Any}(:attributes=>Dict(\"cy\"=>\"162.44544235070617\",\"r\"=>\"30.0\",\"fill\"=>\"maroon\",\"cx\"=>\"518.0493397641194\"))), Node{DOM}(DOM(:svg, :circle), Any[], Dict{Symbol,Any}(:attributes=>Dict(\"cy\"=>\"152.47754254533578\",\"r\"=>\"30.0\",\"fill\"=>\"red\",\"cx\"=>\"523.6197627723357\"))), Node{DOM}(DOM(:svg, :circle), Any[], Dict{Symbol,Any}(:attributes=>Dict(\"cy\"=>\"142.48488795381908\",\"r\"=>\"30.0\",\"fill\"=>\"olive\",\"cx\"=>\"529.190185780552\"))), Node{DOM}(DOM(:svg, :circle), Any[], Dict{Symbol,Any}(:attributes=>Dict(\"cy\"=>\"132.56732187770186\",\"r\"=>\"30.0\",\"fill\"=>\"yellow\",\"cx\"=>\"534.7606087887684\"))), Node{DOM}(DOM(:svg, :circle), Any[], Dict{Symbol,Any}(:attributes=>Dict(\"cy\"=>\"122.82393735890558\",\"r\"=>\"30.0\",\"fill\"=>\"green\",\"cx\"=>\"540.3310317969848\"))), Node{DOM}(DOM(:svg, :circle), Any[], Dict{Symbol,Any}(:attributes=>Dict(\"cy\"=>\"113.35208707480717\",\"r\"=>\"30.0\",\"fill\"=>\"lime\",\"cx\"=>\"545.9014548052011\"))), Node{DOM}(DOM(:svg, :circle), Any[], Dict{Symbol,Any}(:attributes=>Dict(\"cy\"=>\"104.24641062246786\",\"r\"=>\"30.0\",\"fill\"=>\"teal\",\"cx\"=>\"551.4718778134173\"))), Node{DOM}(DOM(:svg, :circle), Any[], Dict{Symbol,Any}(:attributes=>Dict(\"cy\"=>\"95.59788891106302\",\"r\"=>\"30.0\",\"fill\"=>\"aqua\",\"cx\"=>\"557.0423008216337\")))], Dict{Symbol,Any}(:attributes=>Dict(\"height\"=>\"300\",\"width\"=>\"700\")))], Dict{Symbol,Any}(:className=>\"interact-flex-row interact-widget\"))], Dict{Symbol,Any}())"
      ]
     },
     "execution_count": 13,
     "metadata": {
      "@webio": {
       "kernelId": "6cc33796-7637-4618-bfe9-e5b0e3d83441"
      }
     },
     "output_type": "execute_result"
    }
   ],
   "source": [
    "width, height = 700, 300\n",
    "\n",
    "colors = [\"black\", \"gray\", \"silver\", \"maroon\",\n",
    "          \"red\", \"olive\", \"yellow\", \"green\", \"lime\",\n",
    "          \"teal\", \"aqua\", \"navy\", \"blue\", \"purple\", \"fuchsia\"]\n",
    "\n",
    "color(i) = colors[i%length(colors)+1]\n",
    "\n",
    "ui = @manipulate for nsamples in 1:200,\n",
    "        sample_step in slider(0.01:0.01:1.0, value=0.1, label=\"sample step\"),\n",
    "        phase in slider(0:0.1:2pi, value=0.0, label=\"phase\"),\n",
    "        radii in 0.1:0.1:60\n",
    "    \n",
    "    cxs_unscaled = [i*sample_step + phase for i in 1:nsamples]\n",
    "    cys = sin.(cxs_unscaled) .* height/3 .+ height/2\n",
    "    cxs = cxs_unscaled .* width/4pi\n",
    "    \n",
    "    dom\"svg:svg[width=$width, height=$height]\"(\n",
    "        (dom\"svg:circle[cx=$(cxs[i]), cy=$(cys[i]), r=$radii, fill=$(color(i))]\"()\n",
    "            for i in 1:nsamples)...\n",
    "    )\n",
    "end"
   ]
  },
  {
   "cell_type": "code",
   "execution_count": null,
   "metadata": {},
   "outputs": [],
   "source": []
  }
 ],
 "metadata": {
  "@webio": {
   "lastCommId": "5060191b-5957-4355-bae2-dd719a2ec1af",
   "lastKernelId": "2510c54a-3fd6-4994-afe3-802ff2fe0205"
  },
  "kernelspec": {
   "display_name": "Julia 1.1.0",
   "language": "julia",
   "name": "julia-1.1"
  },
  "language_info": {
   "file_extension": ".jl",
   "mimetype": "application/julia",
   "name": "julia",
   "version": "1.1.0"
  }
 },
 "nbformat": 4,
 "nbformat_minor": 4
}
