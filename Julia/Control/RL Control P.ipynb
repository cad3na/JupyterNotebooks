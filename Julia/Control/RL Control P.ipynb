{
 "cells": [
  {
   "cell_type": "code",
   "execution_count": 6,
   "metadata": {},
   "outputs": [
    {
     "data": {
      "text/plain": [
       "Plots.GRBackend()"
      ]
     },
     "execution_count": 6,
     "metadata": {},
     "output_type": "execute_result"
    }
   ],
   "source": [
    "using ControlSystems\n",
    "using Plots\n",
    "using Interact\n",
    "using OrdinaryDiffEq\n",
    "\n",
    "gr(size = (900,300), legend = false)"
   ]
  },
  {
   "cell_type": "code",
   "execution_count": 7,
   "metadata": {},
   "outputs": [
    {
     "data": {
      "text/plain": [
       "TransferFunction{ControlSystems.SisoRational{Int64}}\n",
       "   10\n",
       "---------\n",
       "1s^2 + 1s\n",
       "\n",
       "Continuous-time transfer function model"
      ]
     },
     "execution_count": 7,
     "metadata": {},
     "output_type": "execute_result"
    }
   ],
   "source": [
    "s = tf(\"s\")\n",
    "G = 10/(s*(s+1))"
   ]
  },
  {
   "cell_type": "code",
   "execution_count": 8,
   "metadata": {},
   "outputs": [
    {
     "data": {
      "image/svg+xml": [
       "<?xml version=\"1.0\" encoding=\"utf-8\"?>\n",
       "<svg xmlns=\"http://www.w3.org/2000/svg\" xmlns:xlink=\"http://www.w3.org/1999/xlink\" width=\"900\" height=\"300\" viewBox=\"0 0 3600 1200\">\n",
       "<defs>\n",
       "  <clipPath id=\"clip4800\">\n",
       "    <rect x=\"0\" y=\"0\" width=\"3600\" height=\"1200\"/>\n",
       "  </clipPath>\n",
       "</defs>\n",
       "<polygon clip-path=\"url(#clip4800)\" points=\"\n",
       "0,1200 3600,1200 3600,0 0,0 \n",
       "  \" fill=\"#ffffff\" fill-rule=\"evenodd\" fill-opacity=\"1\"/>\n",
       "<defs>\n",
       "  <clipPath id=\"clip4801\">\n",
       "    <rect x=\"720\" y=\"0\" width=\"2521\" height=\"1200\"/>\n",
       "  </clipPath>\n",
       "</defs>\n",
       "<polygon clip-path=\"url(#clip4800)\" points=\"\n",
       "191.319,1069.44 3552.76,1069.44 3552.76,92.3336 191.319,92.3336 \n",
       "  \" fill=\"#ffffff\" fill-rule=\"evenodd\" fill-opacity=\"1\"/>\n",
       "<defs>\n",
       "  <clipPath id=\"clip4802\">\n",
       "    <rect x=\"191\" y=\"92\" width=\"3362\" height=\"978\"/>\n",
       "  </clipPath>\n",
       "</defs>\n",
       "<polyline clip-path=\"url(#clip4802)\" style=\"stroke:#000000; stroke-width:2; stroke-opacity:0.1; fill:none\" points=\"\n",
       "  1079.25,1069.44 1079.25,92.3336 \n",
       "  \"/>\n",
       "<polyline clip-path=\"url(#clip4802)\" style=\"stroke:#000000; stroke-width:2; stroke-opacity:0.1; fill:none\" points=\"\n",
       "  1872.04,1069.44 1872.04,92.3336 \n",
       "  \"/>\n",
       "<polyline clip-path=\"url(#clip4802)\" style=\"stroke:#000000; stroke-width:2; stroke-opacity:0.1; fill:none\" points=\"\n",
       "  2664.83,1069.44 2664.83,92.3336 \n",
       "  \"/>\n",
       "<polyline clip-path=\"url(#clip4802)\" style=\"stroke:#000000; stroke-width:2; stroke-opacity:0.1; fill:none\" points=\"\n",
       "  3457.62,1069.44 3457.62,92.3336 \n",
       "  \"/>\n",
       "<polyline clip-path=\"url(#clip4802)\" style=\"stroke:#000000; stroke-width:2; stroke-opacity:0.1; fill:none\" points=\"\n",
       "  191.319,836.943 3552.76,836.943 \n",
       "  \"/>\n",
       "<polyline clip-path=\"url(#clip4802)\" style=\"stroke:#000000; stroke-width:2; stroke-opacity:0.1; fill:none\" points=\"\n",
       "  191.319,632.1 3552.76,632.1 \n",
       "  \"/>\n",
       "<polyline clip-path=\"url(#clip4802)\" style=\"stroke:#000000; stroke-width:2; stroke-opacity:0.1; fill:none\" points=\"\n",
       "  191.319,427.257 3552.76,427.257 \n",
       "  \"/>\n",
       "<polyline clip-path=\"url(#clip4802)\" style=\"stroke:#000000; stroke-width:2; stroke-opacity:0.1; fill:none\" points=\"\n",
       "  191.319,222.414 3552.76,222.414 \n",
       "  \"/>\n",
       "<polyline clip-path=\"url(#clip4800)\" style=\"stroke:#000000; stroke-width:4; stroke-opacity:1; fill:none\" points=\"\n",
       "  191.319,1041.79 3552.76,1041.79 \n",
       "  \"/>\n",
       "<polyline clip-path=\"url(#clip4800)\" style=\"stroke:#000000; stroke-width:4; stroke-opacity:1; fill:none\" points=\"\n",
       "  286.454,1069.44 286.454,92.3336 \n",
       "  \"/>\n",
       "<polyline clip-path=\"url(#clip4800)\" style=\"stroke:#000000; stroke-width:4; stroke-opacity:1; fill:none\" points=\"\n",
       "  1079.25,1041.79 1079.25,1027.13 \n",
       "  \"/>\n",
       "<polyline clip-path=\"url(#clip4800)\" style=\"stroke:#000000; stroke-width:4; stroke-opacity:1; fill:none\" points=\"\n",
       "  1872.04,1041.79 1872.04,1027.13 \n",
       "  \"/>\n",
       "<polyline clip-path=\"url(#clip4800)\" style=\"stroke:#000000; stroke-width:4; stroke-opacity:1; fill:none\" points=\"\n",
       "  2664.83,1041.79 2664.83,1027.13 \n",
       "  \"/>\n",
       "<polyline clip-path=\"url(#clip4800)\" style=\"stroke:#000000; stroke-width:4; stroke-opacity:1; fill:none\" points=\"\n",
       "  3457.62,1041.79 3457.62,1027.13 \n",
       "  \"/>\n",
       "<polyline clip-path=\"url(#clip4800)\" style=\"stroke:#000000; stroke-width:4; stroke-opacity:1; fill:none\" points=\"\n",
       "  286.454,836.943 336.875,836.943 \n",
       "  \"/>\n",
       "<polyline clip-path=\"url(#clip4800)\" style=\"stroke:#000000; stroke-width:4; stroke-opacity:1; fill:none\" points=\"\n",
       "  286.454,632.1 336.875,632.1 \n",
       "  \"/>\n",
       "<polyline clip-path=\"url(#clip4800)\" style=\"stroke:#000000; stroke-width:4; stroke-opacity:1; fill:none\" points=\"\n",
       "  286.454,427.257 336.875,427.257 \n",
       "  \"/>\n",
       "<polyline clip-path=\"url(#clip4800)\" style=\"stroke:#000000; stroke-width:4; stroke-opacity:1; fill:none\" points=\"\n",
       "  286.454,222.414 336.875,222.414 \n",
       "  \"/>\n",
       "<g clip-path=\"url(#clip4800)\">\n",
       "<text style=\"fill:#000000; fill-opacity:1; font-family:Arial,Helvetica Neue,Helvetica,sans-serif; font-size:48px; text-anchor:middle;\" transform=\"rotate(0, 1079.25, 1101.79)\" x=\"1079.25\" y=\"1101.79\">2.5</text>\n",
       "</g>\n",
       "<g clip-path=\"url(#clip4800)\">\n",
       "<text style=\"fill:#000000; fill-opacity:1; font-family:Arial,Helvetica Neue,Helvetica,sans-serif; font-size:48px; text-anchor:middle;\" transform=\"rotate(0, 1872.04, 1101.79)\" x=\"1872.04\" y=\"1101.79\">5.0</text>\n",
       "</g>\n",
       "<g clip-path=\"url(#clip4800)\">\n",
       "<text style=\"fill:#000000; fill-opacity:1; font-family:Arial,Helvetica Neue,Helvetica,sans-serif; font-size:48px; text-anchor:middle;\" transform=\"rotate(0, 2664.83, 1101.79)\" x=\"2664.83\" y=\"1101.79\">7.5</text>\n",
       "</g>\n",
       "<g clip-path=\"url(#clip4800)\">\n",
       "<text style=\"fill:#000000; fill-opacity:1; font-family:Arial,Helvetica Neue,Helvetica,sans-serif; font-size:48px; text-anchor:middle;\" transform=\"rotate(0, 3457.62, 1101.79)\" x=\"3457.62\" y=\"1101.79\">10.0</text>\n",
       "</g>\n",
       "<g clip-path=\"url(#clip4800)\">\n",
       "<text style=\"fill:#000000; fill-opacity:1; font-family:Arial,Helvetica Neue,Helvetica,sans-serif; font-size:48px; text-anchor:end;\" transform=\"rotate(0, 250.454, 854.443)\" x=\"250.454\" y=\"854.443\">20</text>\n",
       "</g>\n",
       "<g clip-path=\"url(#clip4800)\">\n",
       "<text style=\"fill:#000000; fill-opacity:1; font-family:Arial,Helvetica Neue,Helvetica,sans-serif; font-size:48px; text-anchor:end;\" transform=\"rotate(0, 250.454, 649.6)\" x=\"250.454\" y=\"649.6\">40</text>\n",
       "</g>\n",
       "<g clip-path=\"url(#clip4800)\">\n",
       "<text style=\"fill:#000000; fill-opacity:1; font-family:Arial,Helvetica Neue,Helvetica,sans-serif; font-size:48px; text-anchor:end;\" transform=\"rotate(0, 250.454, 444.757)\" x=\"250.454\" y=\"444.757\">60</text>\n",
       "</g>\n",
       "<g clip-path=\"url(#clip4800)\">\n",
       "<text style=\"fill:#000000; fill-opacity:1; font-family:Arial,Helvetica Neue,Helvetica,sans-serif; font-size:48px; text-anchor:end;\" transform=\"rotate(0, 250.454, 239.914)\" x=\"250.454\" y=\"239.914\">80</text>\n",
       "</g>\n",
       "<g clip-path=\"url(#clip4800)\">\n",
       "<text style=\"fill:#000000; fill-opacity:1; font-family:Arial,Helvetica Neue,Helvetica,sans-serif; font-size:82px; text-anchor:middle;\" transform=\"rotate(0, 1872.04, 72)\" x=\"1872.04\" y=\"72\">Step Response</text>\n",
       "</g>\n",
       "<g clip-path=\"url(#clip4800)\">\n",
       "<text style=\"fill:#000000; fill-opacity:1; font-family:Arial,Helvetica Neue,Helvetica,sans-serif; font-size:66px; text-anchor:middle;\" transform=\"rotate(0, 1872.04, 1215.3)\" x=\"1872.04\" y=\"1215.3\">Time (s)</text>\n",
       "</g>\n",
       "<g clip-path=\"url(#clip4800)\">\n",
       "<text style=\"fill:#000000; fill-opacity:1; font-family:Arial,Helvetica Neue,Helvetica,sans-serif; font-size:66px; text-anchor:middle;\" transform=\"rotate(-90, 54.2321, 580.886)\" x=\"54.2321\" y=\"580.886\">Amplitude</text>\n",
       "</g>\n",
       "<polyline clip-path=\"url(#clip4802)\" style=\"stroke:#cc1414; stroke-width:4; stroke-opacity:1; fill:none\" points=\"\n",
       "  286.454,1041.79 302.31,1041.66 318.166,1041.29 334.021,1040.69 349.877,1039.87 365.733,1038.84 381.589,1037.6 397.445,1036.18 413.301,1034.58 429.156,1032.81 \n",
       "  445.012,1030.87 460.868,1028.78 476.724,1026.54 492.58,1024.16 508.436,1021.65 524.291,1019.01 540.147,1016.25 556.003,1013.37 571.859,1010.39 587.715,1007.3 \n",
       "  603.571,1004.11 619.426,1000.82 635.282,997.45 651.138,993.992 666.994,990.452 682.85,986.836 698.706,983.146 714.561,979.386 730.417,975.56 746.273,971.671 \n",
       "  762.129,967.721 777.985,963.715 793.841,959.654 809.696,955.542 825.552,951.38 841.408,947.171 857.264,942.918 873.12,938.623 888.976,934.287 904.831,929.913 \n",
       "  920.687,925.503 936.543,921.058 952.399,916.58 968.255,912.071 984.111,907.531 999.966,902.964 1015.82,898.369 1031.68,893.749 1047.53,889.104 1063.39,884.436 \n",
       "  1079.25,879.746 1095.1,875.035 1110.96,870.304 1126.81,865.554 1142.67,860.786 1158.52,856.001 1174.38,851.199 1190.24,846.382 1206.09,841.55 1221.95,836.703 \n",
       "  1237.8,831.844 1253.66,826.971 1269.52,822.086 1285.37,817.19 1301.23,812.283 1317.08,807.366 1332.94,802.438 1348.79,797.501 1364.65,792.556 1380.51,787.602 \n",
       "  1396.36,782.639 1412.22,777.669 1428.07,772.692 1443.93,767.707 1459.79,762.716 1475.64,757.718 1491.5,752.715 1507.35,747.705 1523.21,742.69 1539.06,737.67 \n",
       "  1554.92,732.645 1570.78,727.615 1586.63,722.581 1602.49,717.543 1618.34,712.501 1634.2,707.455 1650.06,702.405 1665.91,697.352 1681.77,692.295 1697.62,687.236 \n",
       "  1713.48,682.173 1729.33,677.108 1745.19,672.04 1761.05,666.969 1776.9,661.895 1792.76,656.82 1808.61,651.742 1824.47,646.661 1840.33,641.579 1856.18,636.495 \n",
       "  1872.04,631.409 1887.89,626.322 1903.75,621.233 1919.6,616.142 1935.46,611.05 1951.32,605.956 1967.17,600.862 1983.03,595.766 1998.88,590.669 2014.74,585.57 \n",
       "  2030.6,580.471 2046.45,575.37 2062.31,570.269 2078.16,565.166 2094.02,560.063 2109.87,554.958 2125.73,549.853 2141.59,544.747 2157.44,539.64 2173.3,534.533 \n",
       "  2189.15,529.425 2205.01,524.316 2220.87,519.206 2236.72,514.096 2252.58,508.986 2268.43,503.875 2284.29,498.763 2300.14,493.651 2316,488.539 2331.86,483.426 \n",
       "  2347.71,478.313 2363.57,473.2 2379.42,468.086 2395.28,462.972 2411.14,457.857 2426.99,452.742 2442.85,447.627 2458.7,442.512 2474.56,437.396 2490.41,432.28 \n",
       "  2506.27,427.164 2522.13,422.048 2537.98,416.931 2553.84,411.814 2569.69,406.697 2585.55,401.579 2601.41,396.462 2617.26,391.344 2633.12,386.226 2648.97,381.108 \n",
       "  2664.83,375.99 2680.68,370.871 2696.54,365.753 2712.4,360.634 2728.25,355.515 2744.11,350.396 2759.96,345.277 2775.82,340.158 2791.68,335.039 2807.53,329.92 \n",
       "  2823.39,324.801 2839.24,319.681 2855.1,314.562 2870.95,309.442 2886.81,304.323 2902.67,299.203 2918.52,294.084 2934.38,288.964 2950.23,283.844 2966.09,278.724 \n",
       "  2981.95,273.604 2997.8,268.484 3013.66,263.364 3029.51,258.244 3045.37,253.124 3061.23,248.004 3077.08,242.884 3092.94,237.763 3108.79,232.643 3124.65,227.522 \n",
       "  3140.5,222.402 3156.36,217.281 3172.22,212.161 3188.07,207.04 3203.93,201.92 3219.78,196.799 3235.64,191.678 3251.5,186.558 3267.35,181.437 3283.21,176.316 \n",
       "  3299.06,171.195 3314.92,166.075 3330.77,160.954 3346.63,155.833 3362.49,150.712 3378.34,145.591 3394.2,140.471 3410.05,135.35 3425.91,130.229 3441.77,125.108 \n",
       "  3457.62,119.988 \n",
       "  \"/>\n",
       "</svg>\n"
      ]
     },
     "execution_count": 8,
     "metadata": {},
     "output_type": "execute_result"
    }
   ],
   "source": [
    "stepplot(G,10, frame_style=:origin)"
   ]
  },
  {
   "cell_type": "code",
   "execution_count": 9,
   "metadata": {},
   "outputs": [
    {
     "data": {
      "application/vnd.webio.node+json": {
       "children": [
        {
         "children": [
          {
           "children": [
            {
             "children": [
              {
               "children": [
                {
                 "children": [
                  "k"
                 ],
                 "instanceArgs": {
                  "namespace": "html",
                  "tag": "label"
                 },
                 "nodeType": "DOM",
                 "props": {
                  "className": "interact ",
                  "style": {
                   "padding": "5px 10px 0px 10px"
                  }
                 },
                 "type": "node"
                }
               ],
               "instanceArgs": {
                "namespace": "html",
                "tag": "div"
               },
               "nodeType": "DOM",
               "props": {
                "className": "interact-flex-row-left"
               },
               "type": "node"
              },
              {
               "children": [
                {
                 "children": [],
                 "instanceArgs": {
                  "namespace": "html",
                  "tag": "input"
                 },
                 "nodeType": "DOM",
                 "props": {
                  "attributes": {
                   "data-bind": "numericValue: index, valueUpdate: 'input', event: {change: function (){this.changes(this.changes()+1)}}",
                   "orient": "horizontal",
                   "type": "range"
                  },
                  "className": "slider slider is-fullwidth",
                  "max": 300,
                  "min": 1,
                  "step": 1,
                  "style": {}
                 },
                 "type": "node"
                }
               ],
               "instanceArgs": {
                "namespace": "html",
                "tag": "div"
               },
               "nodeType": "DOM",
               "props": {
                "className": "interact-flex-row-center"
               },
               "type": "node"
              },
              {
               "children": [
                {
                 "children": [],
                 "instanceArgs": {
                  "namespace": "html",
                  "tag": "p"
                 },
                 "nodeType": "DOM",
                 "props": {
                  "attributes": {
                   "data-bind": "text: formatted_val"
                  }
                 },
                 "type": "node"
                }
               ],
               "instanceArgs": {
                "namespace": "html",
                "tag": "div"
               },
               "nodeType": "DOM",
               "props": {
                "className": "interact-flex-row-right"
               },
               "type": "node"
              }
             ],
             "instanceArgs": {
              "namespace": "html",
              "tag": "div"
             },
             "nodeType": "DOM",
             "props": {
              "className": "interact-flex-row interact-widget"
             },
             "type": "node"
            }
           ],
           "instanceArgs": {
            "handlers": {
             "changes": [
              "(function (val){return (val!=this.model[\"changes\"]()) ? (this.valueFromJulia[\"changes\"]=true, this.model[\"changes\"](val)) : undefined})"
             ],
             "index": [
              "(function (val){return (val!=this.model[\"index\"]()) ? (this.valueFromJulia[\"index\"]=true, this.model[\"index\"](val)) : undefined})"
             ]
            },
            "id": "15195774812407660890",
            "imports": {
             "data": [
              {
               "name": "knockout",
               "type": "js",
               "url": "/assetserver/1418600122391479348d6b70f8fc3978f3015b35-knockout.js"
              },
              {
               "name": "knockout_punches",
               "type": "js",
               "url": "/assetserver/cd3f841ffabd7ce8124a19658c02643a3dce952c-knockout_punches.js"
              },
              {
               "name": null,
               "type": "js",
               "url": "/assetserver/ac53a1d0dfbe96bbdab46a2c15a1a1f5029edf92-all.js"
              },
              {
               "name": null,
               "type": "css",
               "url": "/assetserver/a90858055ce62250f15db56d945919371e115fff-style.css"
              },
              {
               "name": null,
               "type": "css",
               "url": "/assetserver/901695cb7baff74a76878a59f7f01c86f6c24ff1-bulma_confined.min.css"
              }
             ],
             "type": "async_block"
            },
            "mount_callbacks": [
             "function () {\n    var handler = (function (ko, koPunches) {\n    ko.punches.enableAll();\n    ko.bindingHandlers.numericValue = {\n        init: function(element, valueAccessor, allBindings, data, context) {\n            var stringified = ko.observable(ko.unwrap(valueAccessor()));\n            stringified.subscribe(function(value) {\n                var val = parseFloat(value);\n                if (!isNaN(val)) {\n                    valueAccessor()(val);\n                }\n            });\n            valueAccessor().subscribe(function(value) {\n                var str = JSON.stringify(value);\n                if ((str == \"0\") && ([\"-0\", \"-0.\"].indexOf(stringified()) >= 0))\n                     return;\n                 if ([\"null\", \"\"].indexOf(str) >= 0)\n                     return;\n                stringified(str);\n            });\n            ko.applyBindingsToNode(\n                element,\n                {\n                    value: stringified,\n                    valueUpdate: allBindings.get('valueUpdate'),\n                },\n                context,\n            );\n        }\n    };\n    var json_data = {\"formatted_vals\":[\"0.01\",\"0.02\",\"0.03\",\"0.04\",\"0.05\",\"0.06\",\"0.07\",\"0.08\",\"0.09\",\"0.1\",\"0.11\",\"0.12\",\"0.13\",\"0.14\",\"0.15\",\"0.16\",\"0.17\",\"0.18\",\"0.19\",\"0.2\",\"0.21\",\"0.22\",\"0.23\",\"0.24\",\"0.25\",\"0.26\",\"0.27\",\"0.28\",\"0.29\",\"0.3\",\"0.31\",\"0.32\",\"0.33\",\"0.34\",\"0.35\",\"0.36\",\"0.37\",\"0.38\",\"0.39\",\"0.4\",\"0.41\",\"0.42\",\"0.43\",\"0.44\",\"0.45\",\"0.46\",\"0.47\",\"0.48\",\"0.49\",\"0.5\",\"0.51\",\"0.52\",\"0.53\",\"0.54\",\"0.55\",\"0.56\",\"0.57\",\"0.58\",\"0.59\",\"0.6\",\"0.61\",\"0.62\",\"0.63\",\"0.64\",\"0.65\",\"0.66\",\"0.67\",\"0.68\",\"0.69\",\"0.7\",\"0.71\",\"0.72\",\"0.73\",\"0.74\",\"0.75\",\"0.76\",\"0.77\",\"0.78\",\"0.79\",\"0.8\",\"0.81\",\"0.82\",\"0.83\",\"0.84\",\"0.85\",\"0.86\",\"0.87\",\"0.88\",\"0.89\",\"0.9\",\"0.91\",\"0.92\",\"0.93\",\"0.94\",\"0.95\",\"0.96\",\"0.97\",\"0.98\",\"0.99\",\"1.0\",\"1.01\",\"1.02\",\"1.03\",\"1.04\",\"1.05\",\"1.06\",\"1.07\",\"1.08\",\"1.09\",\"1.1\",\"1.11\",\"1.12\",\"1.13\",\"1.14\",\"1.15\",\"1.16\",\"1.17\",\"1.18\",\"1.19\",\"1.2\",\"1.21\",\"1.22\",\"1.23\",\"1.24\",\"1.25\",\"1.26\",\"1.27\",\"1.28\",\"1.29\",\"1.3\",\"1.31\",\"1.32\",\"1.33\",\"1.34\",\"1.35\",\"1.36\",\"1.37\",\"1.38\",\"1.39\",\"1.4\",\"1.41\",\"1.42\",\"1.43\",\"1.44\",\"1.45\",\"1.46\",\"1.47\",\"1.48\",\"1.49\",\"1.5\",\"1.51\",\"1.52\",\"1.53\",\"1.54\",\"1.55\",\"1.56\",\"1.57\",\"1.58\",\"1.59\",\"1.6\",\"1.61\",\"1.62\",\"1.63\",\"1.64\",\"1.65\",\"1.66\",\"1.67\",\"1.68\",\"1.69\",\"1.7\",\"1.71\",\"1.72\",\"1.73\",\"1.74\",\"1.75\",\"1.76\",\"1.77\",\"1.78\",\"1.79\",\"1.8\",\"1.81\",\"1.82\",\"1.83\",\"1.84\",\"1.85\",\"1.86\",\"1.87\",\"1.88\",\"1.89\",\"1.9\",\"1.91\",\"1.92\",\"1.93\",\"1.94\",\"1.95\",\"1.96\",\"1.97\",\"1.98\",\"1.99\",\"2.0\",\"2.01\",\"2.02\",\"2.03\",\"2.04\",\"2.05\",\"2.06\",\"2.07\",\"2.08\",\"2.09\",\"2.1\",\"2.11\",\"2.12\",\"2.13\",\"2.14\",\"2.15\",\"2.16\",\"2.17\",\"2.18\",\"2.19\",\"2.2\",\"2.21\",\"2.22\",\"2.23\",\"2.24\",\"2.25\",\"2.26\",\"2.27\",\"2.28\",\"2.29\",\"2.3\",\"2.31\",\"2.32\",\"2.33\",\"2.34\",\"2.35\",\"2.36\",\"2.37\",\"2.38\",\"2.39\",\"2.4\",\"2.41\",\"2.42\",\"2.43\",\"2.44\",\"2.45\",\"2.46\",\"2.47\",\"2.48\",\"2.49\",\"2.5\",\"2.51\",\"2.52\",\"2.53\",\"2.54\",\"2.55\",\"2.56\",\"2.57\",\"2.58\",\"2.59\",\"2.6\",\"2.61\",\"2.62\",\"2.63\",\"2.64\",\"2.65\",\"2.66\",\"2.67\",\"2.68\",\"2.69\",\"2.7\",\"2.71\",\"2.72\",\"2.73\",\"2.74\",\"2.75\",\"2.76\",\"2.77\",\"2.78\",\"2.79\",\"2.8\",\"2.81\",\"2.82\",\"2.83\",\"2.84\",\"2.85\",\"2.86\",\"2.87\",\"2.88\",\"2.89\",\"2.9\",\"2.91\",\"2.92\",\"2.93\",\"2.94\",\"2.95\",\"2.96\",\"2.97\",\"2.98\",\"2.99\",\"3.0\"],\"changes\":WebIO.getval({\"name\":\"changes\",\"scope\":\"15195774812407660890\",\"id\":\"ob_14\",\"type\":\"observable\"}),\"index\":WebIO.getval({\"name\":\"index\",\"scope\":\"15195774812407660890\",\"id\":\"ob_13\",\"type\":\"observable\"})};\n    var self = this;\n    function AppViewModel() {\n        for (var key in json_data) {\n            var el = json_data[key];\n            this[key] = Array.isArray(el) ? ko.observableArray(el) : ko.observable(el);\n        }\n        \n        [this[\"formatted_val\"]=ko.computed(    function(){\n        return this.formatted_vals()[parseInt(this.index())-(1)];\n    }\n,this)]\n        [this[\"changes\"].subscribe((function (val){!(this.valueFromJulia[\"changes\"]) ? (WebIO.setval({\"name\":\"changes\",\"scope\":\"15195774812407660890\",\"id\":\"ob_14\",\"type\":\"observable\"},val)) : undefined; return this.valueFromJulia[\"changes\"]=false}),self),this[\"index\"].subscribe((function (val){!(this.valueFromJulia[\"index\"]) ? (WebIO.setval({\"name\":\"index\",\"scope\":\"15195774812407660890\",\"id\":\"ob_13\",\"type\":\"observable\"},val)) : undefined; return this.valueFromJulia[\"index\"]=false}),self)]\n        \n    }\n    self.model = new AppViewModel();\n    self.valueFromJulia = {};\n    for (var key in json_data) {\n        self.valueFromJulia[key] = false;\n    }\n    ko.applyBindings(self.model, self.dom);\n}\n);\n    (WebIO.importBlock({\"data\":[{\"name\":\"knockout\",\"type\":\"js\",\"url\":\"/assetserver/1418600122391479348d6b70f8fc3978f3015b35-knockout.js\"},{\"name\":\"knockout_punches\",\"type\":\"js\",\"url\":\"/assetserver/cd3f841ffabd7ce8124a19658c02643a3dce952c-knockout_punches.js\"}],\"type\":\"async_block\"})).then((imports) => handler.apply(this, imports));\n}\n"
            ],
            "observables": {
             "changes": {
              "id": "ob_14",
              "sync": false,
              "value": 0
             },
             "index": {
              "id": "ob_13",
              "sync": true,
              "value": 150
             }
            },
            "systemjs_options": null
           },
           "nodeType": "Scope",
           "props": {},
           "type": "node"
          }
         ],
         "instanceArgs": {
          "namespace": "html",
          "tag": "div"
         },
         "nodeType": "DOM",
         "props": {
          "className": "field interact-widget"
         },
         "type": "node"
        },
        {
         "children": [
          {
           "children": [
            {
             "children": [
              {
               "children": [
                {
                 "children": [
                  "t"
                 ],
                 "instanceArgs": {
                  "namespace": "html",
                  "tag": "label"
                 },
                 "nodeType": "DOM",
                 "props": {
                  "className": "interact ",
                  "style": {
                   "padding": "5px 10px 0px 10px"
                  }
                 },
                 "type": "node"
                }
               ],
               "instanceArgs": {
                "namespace": "html",
                "tag": "div"
               },
               "nodeType": "DOM",
               "props": {
                "className": "interact-flex-row-left"
               },
               "type": "node"
              },
              {
               "children": [
                {
                 "children": [],
                 "instanceArgs": {
                  "namespace": "html",
                  "tag": "input"
                 },
                 "nodeType": "DOM",
                 "props": {
                  "attributes": {
                   "data-bind": "numericValue: index, valueUpdate: 'input', event: {change: function (){this.changes(this.changes()+1)}}",
                   "orient": "horizontal",
                   "type": "range"
                  },
                  "className": "slider slider is-fullwidth",
                  "max": 20,
                  "min": 5,
                  "step": 1,
                  "style": {}
                 },
                 "type": "node"
                }
               ],
               "instanceArgs": {
                "namespace": "html",
                "tag": "div"
               },
               "nodeType": "DOM",
               "props": {
                "className": "interact-flex-row-center"
               },
               "type": "node"
              },
              {
               "children": [
                {
                 "children": [],
                 "instanceArgs": {
                  "namespace": "html",
                  "tag": "p"
                 },
                 "nodeType": "DOM",
                 "props": {
                  "attributes": {
                   "data-bind": "text: formatted_val"
                  }
                 },
                 "type": "node"
                }
               ],
               "instanceArgs": {
                "namespace": "html",
                "tag": "div"
               },
               "nodeType": "DOM",
               "props": {
                "className": "interact-flex-row-right"
               },
               "type": "node"
              }
             ],
             "instanceArgs": {
              "namespace": "html",
              "tag": "div"
             },
             "nodeType": "DOM",
             "props": {
              "className": "interact-flex-row interact-widget"
             },
             "type": "node"
            }
           ],
           "instanceArgs": {
            "handlers": {
             "changes": [
              "(function (val){return (val!=this.model[\"changes\"]()) ? (this.valueFromJulia[\"changes\"]=true, this.model[\"changes\"](val)) : undefined})"
             ],
             "index": [
              "(function (val){return (val!=this.model[\"index\"]()) ? (this.valueFromJulia[\"index\"]=true, this.model[\"index\"](val)) : undefined})"
             ]
            },
            "id": "14579246846782046648",
            "imports": {
             "data": [
              {
               "name": "knockout",
               "type": "js",
               "url": "/assetserver/1418600122391479348d6b70f8fc3978f3015b35-knockout.js"
              },
              {
               "name": "knockout_punches",
               "type": "js",
               "url": "/assetserver/cd3f841ffabd7ce8124a19658c02643a3dce952c-knockout_punches.js"
              },
              {
               "name": null,
               "type": "js",
               "url": "/assetserver/ac53a1d0dfbe96bbdab46a2c15a1a1f5029edf92-all.js"
              },
              {
               "name": null,
               "type": "css",
               "url": "/assetserver/a90858055ce62250f15db56d945919371e115fff-style.css"
              },
              {
               "name": null,
               "type": "css",
               "url": "/assetserver/901695cb7baff74a76878a59f7f01c86f6c24ff1-bulma_confined.min.css"
              }
             ],
             "type": "async_block"
            },
            "mount_callbacks": [
             "function () {\n    var handler = (function (ko, koPunches) {\n    ko.punches.enableAll();\n    ko.bindingHandlers.numericValue = {\n        init: function(element, valueAccessor, allBindings, data, context) {\n            var stringified = ko.observable(ko.unwrap(valueAccessor()));\n            stringified.subscribe(function(value) {\n                var val = parseFloat(value);\n                if (!isNaN(val)) {\n                    valueAccessor()(val);\n                }\n            });\n            valueAccessor().subscribe(function(value) {\n                var str = JSON.stringify(value);\n                if ((str == \"0\") && ([\"-0\", \"-0.\"].indexOf(stringified()) >= 0))\n                     return;\n                 if ([\"null\", \"\"].indexOf(str) >= 0)\n                     return;\n                stringified(str);\n            });\n            ko.applyBindingsToNode(\n                element,\n                {\n                    value: stringified,\n                    valueUpdate: allBindings.get('valueUpdate'),\n                },\n                context,\n            );\n        }\n    };\n    var json_data = {\"formatted_vals\":[\"5\",\"6\",\"7\",\"8\",\"9\",\"10\",\"11\",\"12\",\"13\",\"14\",\"15\",\"16\",\"17\",\"18\",\"19\",\"20\"],\"changes\":WebIO.getval({\"name\":\"changes\",\"scope\":\"14579246846782046648\",\"id\":\"ob_16\",\"type\":\"observable\"}),\"index\":WebIO.getval({\"name\":\"index\",\"scope\":\"14579246846782046648\",\"id\":\"ob_15\",\"type\":\"observable\"})};\n    var self = this;\n    function AppViewModel() {\n        for (var key in json_data) {\n            var el = json_data[key];\n            this[key] = Array.isArray(el) ? ko.observableArray(el) : ko.observable(el);\n        }\n        \n        [this[\"formatted_val\"]=ko.computed(    function(){\n        return this.formatted_vals()[parseInt(this.index())-(5)];\n    }\n,this)]\n        [this[\"changes\"].subscribe((function (val){!(this.valueFromJulia[\"changes\"]) ? (WebIO.setval({\"name\":\"changes\",\"scope\":\"14579246846782046648\",\"id\":\"ob_16\",\"type\":\"observable\"},val)) : undefined; return this.valueFromJulia[\"changes\"]=false}),self),this[\"index\"].subscribe((function (val){!(this.valueFromJulia[\"index\"]) ? (WebIO.setval({\"name\":\"index\",\"scope\":\"14579246846782046648\",\"id\":\"ob_15\",\"type\":\"observable\"},val)) : undefined; return this.valueFromJulia[\"index\"]=false}),self)]\n        \n    }\n    self.model = new AppViewModel();\n    self.valueFromJulia = {};\n    for (var key in json_data) {\n        self.valueFromJulia[key] = false;\n    }\n    ko.applyBindings(self.model, self.dom);\n}\n);\n    (WebIO.importBlock({\"data\":[{\"name\":\"knockout\",\"type\":\"js\",\"url\":\"/assetserver/1418600122391479348d6b70f8fc3978f3015b35-knockout.js\"},{\"name\":\"knockout_punches\",\"type\":\"js\",\"url\":\"/assetserver/cd3f841ffabd7ce8124a19658c02643a3dce952c-knockout_punches.js\"}],\"type\":\"async_block\"})).then((imports) => handler.apply(this, imports));\n}\n"
            ],
            "observables": {
             "changes": {
              "id": "ob_16",
              "sync": false,
              "value": 0
             },
             "index": {
              "id": "ob_15",
              "sync": true,
              "value": 12
             }
            },
            "systemjs_options": null
           },
           "nodeType": "Scope",
           "props": {},
           "type": "node"
          }
         ],
         "instanceArgs": {
          "namespace": "html",
          "tag": "div"
         },
         "nodeType": "DOM",
         "props": {
          "className": "field interact-widget"
         },
         "type": "node"
        },
        {
         "children": [
          {
           "children": [],
           "instanceArgs": {
            "id": "ob_22",
            "name": "obs-node"
           },
           "nodeType": "ObservableNode",
           "props": {},
           "type": "node"
          }
         ],
         "instanceArgs": {
          "handlers": {},
          "id": "9373036926827441624",
          "imports": {
           "data": [],
           "type": "async_block"
          },
          "mount_callbacks": [],
          "observables": {
           "obs-node": {
            "id": "ob_22",
            "sync": false,
            "value": {
             "children": [
              {
               "children": [],
               "instanceArgs": {
                "namespace": "html",
                "tag": "div"
               },
               "nodeType": "DOM",
               "props": {
                "setInnerHtml": "<?xml version=\"1.0\" encoding=\"utf-8\"?>\n<svg xmlns=\"http://www.w3.org/2000/svg\" xmlns:xlink=\"http://www.w3.org/1999/xlink\" width=\"900\" height=\"300\" viewBox=\"0 0 3600 1200\">\n<defs>\n  <clipPath id=\"clip5600\">\n    <rect x=\"0\" y=\"0\" width=\"3600\" height=\"1200\"/>\n  </clipPath>\n</defs>\n<polygon clip-path=\"url(#clip5600)\" points=\"\n0,1200 3600,1200 3600,0 0,0 \n  \" fill=\"#ffffff\" fill-rule=\"evenodd\" fill-opacity=\"1\"/>\n<defs>\n  <clipPath id=\"clip5601\">\n    <rect x=\"720\" y=\"0\" width=\"2521\" height=\"1200\"/>\n  </clipPath>\n</defs>\n<polygon clip-path=\"url(#clip5600)\" points=\"\n165.898,1108.24 1738.7,1108.24 1738.7,92.3336 165.898,92.3336 \n  \" fill=\"#ffffff\" fill-rule=\"evenodd\" fill-opacity=\"1\"/>\n<defs>\n  <clipPath id=\"clip5602\">\n    <rect x=\"165\" y=\"92\" width=\"1574\" height=\"1017\"/>\n  </clipPath>\n</defs>\n<polyline clip-path=\"url(#clip5602)\" style=\"stroke:#000000; stroke-width:2; stroke-opacity:0.1; fill:none\" points=\"\n  503.856,1108.24 503.856,92.3336 \n  \"/>\n<polyline clip-path=\"url(#clip5602)\" style=\"stroke:#000000; stroke-width:2; stroke-opacity:0.1; fill:none\" points=\"\n  828.815,1108.24 828.815,92.3336 \n  \"/>\n<polyline clip-path=\"url(#clip5602)\" style=\"stroke:#000000; stroke-width:2; stroke-opacity:0.1; fill:none\" points=\"\n  1153.77,1108.24 1153.77,92.3336 \n  \"/>\n<polyline clip-path=\"url(#clip5602)\" style=\"stroke:#000000; stroke-width:2; stroke-opacity:0.1; fill:none\" points=\"\n  1478.73,1108.24 1478.73,92.3336 \n  \"/>\n<polyline clip-path=\"url(#clip5602)\" style=\"stroke:#000000; stroke-width:2; stroke-opacity:0.1; fill:none\" points=\"\n  165.898,817.982 1738.7,817.982 \n  \"/>\n<polyline clip-path=\"url(#clip5602)\" style=\"stroke:#000000; stroke-width:2; stroke-opacity:0.1; fill:none\" points=\"\n  165.898,576.099 1738.7,576.099 \n  \"/>\n<polyline clip-path=\"url(#clip5602)\" style=\"stroke:#000000; stroke-width:2; stroke-opacity:0.1; fill:none\" points=\"\n  165.898,334.216 1738.7,334.216 \n  \"/>\n<polyline clip-path=\"url(#clip5602)\" style=\"stroke:#000000; stroke-width:2; stroke-opacity:0.1; fill:none\" points=\"\n  165.898,92.3336 1738.7,92.3336 \n  \"/>\n<polyline clip-path=\"url(#clip5600)\" style=\"stroke:#000000; stroke-width:4; stroke-opacity:1; fill:none\" points=\"\n  165.898,1059.86 1738.7,1059.86 \n  \"/>\n<polyline clip-path=\"url(#clip5600)\" style=\"stroke:#000000; stroke-width:4; stroke-opacity:1; fill:none\" points=\"\n  178.896,1108.24 178.896,92.3336 \n  \"/>\n<polyline clip-path=\"url(#clip5600)\" style=\"stroke:#000000; stroke-width:4; stroke-opacity:1; fill:none\" points=\"\n  503.856,1059.86 503.856,1044.63 \n  \"/>\n<polyline clip-path=\"url(#clip5600)\" style=\"stroke:#000000; stroke-width:4; stroke-opacity:1; fill:none\" points=\"\n  828.815,1059.86 828.815,1044.63 \n  \"/>\n<polyline clip-path=\"url(#clip5600)\" style=\"stroke:#000000; stroke-width:4; stroke-opacity:1; fill:none\" points=\"\n  1153.77,1059.86 1153.77,1044.63 \n  \"/>\n<polyline clip-path=\"url(#clip5600)\" style=\"stroke:#000000; stroke-width:4; stroke-opacity:1; fill:none\" points=\"\n  1478.73,1059.86 1478.73,1044.63 \n  \"/>\n<polyline clip-path=\"url(#clip5600)\" style=\"stroke:#000000; stroke-width:4; stroke-opacity:1; fill:none\" points=\"\n  178.896,817.982 202.488,817.982 \n  \"/>\n<polyline clip-path=\"url(#clip5600)\" style=\"stroke:#000000; stroke-width:4; stroke-opacity:1; fill:none\" points=\"\n  178.896,576.099 202.488,576.099 \n  \"/>\n<polyline clip-path=\"url(#clip5600)\" style=\"stroke:#000000; stroke-width:4; stroke-opacity:1; fill:none\" points=\"\n  178.896,334.216 202.488,334.216 \n  \"/>\n<polyline clip-path=\"url(#clip5600)\" style=\"stroke:#000000; stroke-width:4; stroke-opacity:1; fill:none\" points=\"\n  178.896,92.3336 202.488,92.3336 \n  \"/>\n<g clip-path=\"url(#clip5600)\">\n<text style=\"fill:#000000; fill-opacity:1; font-family:Arial,Helvetica Neue,Helvetica,sans-serif; font-size:48px; text-anchor:middle;\" transform=\"rotate(0, 503.856, 1119.86)\" x=\"503.856\" y=\"1119.86\">2.5</text>\n</g>\n<g clip-path=\"url(#clip5600)\">\n<text style=\"fill:#000000; fill-opacity:1; font-family:Arial,Helvetica Neue,Helvetica,sans-serif; font-size:48px; text-anchor:middle;\" transform=\"rotate(0, 828.815, 1119.86)\" x=\"828.815\" y=\"1119.86\">5.0</text>\n</g>\n<g clip-path=\"url(#clip5600)\">\n<text style=\"fill:#000000; fill-opacity:1; font-family:Arial,Helvetica Neue,Helvetica,sans-serif; font-size:48px; text-anchor:middle;\" transform=\"rotate(0, 1153.77, 1119.86)\" x=\"1153.77\" y=\"1119.86\">7.5</text>\n</g>\n<g clip-path=\"url(#clip5600)\">\n<text style=\"fill:#000000; fill-opacity:1; font-family:Arial,Helvetica Neue,Helvetica,sans-serif; font-size:48px; text-anchor:middle;\" transform=\"rotate(0, 1478.73, 1119.86)\" x=\"1478.73\" y=\"1119.86\">10.0</text>\n</g>\n<g clip-path=\"url(#clip5600)\">\n<text style=\"fill:#000000; fill-opacity:1; font-family:Arial,Helvetica Neue,Helvetica,sans-serif; font-size:48px; text-anchor:end;\" transform=\"rotate(0, 142.896, 835.482)\" x=\"142.896\" y=\"835.482\">0.5</text>\n</g>\n<g clip-path=\"url(#clip5600)\">\n<text style=\"fill:#000000; fill-opacity:1; font-family:Arial,Helvetica Neue,Helvetica,sans-serif; font-size:48px; text-anchor:end;\" transform=\"rotate(0, 142.896, 593.599)\" x=\"142.896\" y=\"593.599\">1.0</text>\n</g>\n<g clip-path=\"url(#clip5600)\">\n<text style=\"fill:#000000; fill-opacity:1; font-family:Arial,Helvetica Neue,Helvetica,sans-serif; font-size:48px; text-anchor:end;\" transform=\"rotate(0, 142.896, 351.716)\" x=\"142.896\" y=\"351.716\">1.5</text>\n</g>\n<g clip-path=\"url(#clip5600)\">\n<text style=\"fill:#000000; fill-opacity:1; font-family:Arial,Helvetica Neue,Helvetica,sans-serif; font-size:48px; text-anchor:end;\" transform=\"rotate(0, 142.896, 109.834)\" x=\"142.896\" y=\"109.834\">2.0</text>\n</g>\n<g clip-path=\"url(#clip5600)\">\n<text style=\"fill:#000000; fill-opacity:1; font-family:Arial,Helvetica Neue,Helvetica,sans-serif; font-size:82px; text-anchor:middle;\" transform=\"rotate(0, 952.299, 72)\" x=\"952.299\" y=\"72\">Respuesta a escalon unitario</text>\n</g>\n<polyline clip-path=\"url(#clip5602)\" style=\"stroke:#cc1414; stroke-width:4; stroke-opacity:1; fill:none\" points=\"\n  178.896,1059.86 185.396,1050.97 191.895,1025.2 198.394,984.302 204.893,930.517 211.392,866.433 217.891,794.887 224.391,718.852 230.89,641.321 237.389,565.191 \n  243.888,493.174 250.387,427.693 256.887,370.811 263.386,324.196 269.885,289.04 276.384,266.059 282.883,255.51 289.382,257.169 295.882,270.368 302.381,294.073 \n  308.88,326.915 315.379,367.238 321.878,413.203 328.378,462.869 334.877,514.251 341.376,565.385 347.875,614.409 354.374,659.635 360.874,699.613 367.373,733.149 \n  373.872,759.32 380.371,777.518 386.87,787.487 393.369,789.278 399.869,783.207 406.368,769.861 412.867,750.097 419.366,724.964 425.865,695.635 432.365,663.371 \n  438.864,629.491 445.363,595.319 451.862,562.117 458.361,531.05 464.861,503.138 471.36,479.232 477.859,460.024 484.358,446.004 490.857,437.424 497.356,434.305 \n  503.856,436.499 510.355,443.681 516.854,455.354 523.353,470.857 529.852,489.435 536.352,510.263 542.851,532.483 549.35,555.218 555.849,577.602 562.348,598.842 \n  568.847,618.207 575.347,635.087 581.846,648.997 588.345,659.58 594.844,666.602 601.343,669.969 607.843,669.743 614.342,666.125 620.841,659.405 627.34,649.97 \n  633.839,638.293 640.339,624.922 646.838,610.423 653.337,595.385 659.836,580.374 666.335,565.936 672.834,552.573 679.334,540.719 685.833,530.738 692.332,522.903 \n  698.831,517.384 705.33,514.268 711.83,513.56 718.329,515.178 724.828,518.945 731.327,524.603 737.826,531.859 744.325,540.375 750.825,549.784 757.324,559.693 \n  763.823,569.719 770.322,579.485 776.821,588.649 783.321,596.909 789.82,604.008 796.319,609.748 802.818,613.977 809.317,616.615 815.817,617.645 822.316,617.116 \n  828.815,615.118 835.314,611.792 841.813,607.322 848.312,601.933 854.812,595.866 861.311,589.377 867.81,582.719 874.309,576.141 880.808,569.884 887.308,564.157 \n  893.807,559.148 900.306,555.004 906.805,551.83 913.304,549.691 919.803,548.619 926.303,548.605 932.802,549.6 939.301,551.51 945.8,554.22 952.299,557.595 \n  958.799,561.483 965.298,565.715 971.797,570.119 978.296,574.526 984.795,578.774 991.295,582.717 997.794,586.228 1004.29,589.198 1010.79,591.547 1017.29,593.216 \n  1023.79,594.177 1030.29,594.433 1036.79,594.01 1043.29,592.956 1049.79,591.335 1056.29,589.236 1062.79,586.763 1069.28,584.021 1075.78,581.125 1082.28,578.187 \n  1088.78,575.314 1095.28,572.611 1101.78,570.166 1108.28,568.057 1114.78,566.347 1121.28,565.075 1127.78,564.265 1134.28,563.926 1140.78,564.048 1147.27,564.606 \n  1153.77,565.556 1160.27,566.843 1166.77,568.403 1173.27,570.169 1179.77,572.066 1186.27,574.017 1192.77,575.949 1199.27,577.792 1205.77,579.483 1212.27,580.968 \n  1218.77,582.203 1225.27,583.156 1231.76,583.806 1238.26,584.141 1244.76,584.166 1251.26,583.896 1257.76,583.356 1264.26,582.578 1270.76,581.6 1277.26,580.469 \n  1283.76,579.235 1290.26,577.946 1296.76,576.653 1303.26,575.403 1309.75,574.239 1316.25,573.2 1322.75,572.316 1329.25,571.614 1335.75,571.11 1342.25,570.814 \n  1348.75,570.724 1355.25,570.834 1361.75,571.13 1368.25,571.594 1374.75,572.201 1381.25,572.919 1387.74,573.718 1394.24,574.565 1400.74,575.426 1407.24,576.271 \n  1413.74,577.067 1420.24,577.791 1426.74,578.417 1433.24,578.927 1439.74,579.309 1446.24,579.555 1452.74,579.664 1459.24,579.638 1465.74,579.484 1472.23,579.213 \n  1478.73,578.841 1485.23,578.389 1491.73,577.875 1498.23,577.321 1504.73,576.75 1511.23,576.182 1517.73,575.639 1524.23,575.139 1530.73,574.699 1537.23,574.332 \n  1543.73,574.047 1550.22,573.851 1556.72,573.746 1563.22,573.732 1569.72,573.805 1576.22,573.958 1582.72,574.183 1589.22,574.466 1595.72,574.795 1602.22,575.155 \n  1608.72,575.532 1615.22,575.912 1621.72,576.279 1628.21,576.623 1634.71,576.931 1641.21,577.193 1647.71,577.402 1654.21,577.554 1660.71,577.645 1667.21,577.675 \n  1673.71,577.647 1680.21,577.563 1686.71,577.43 1693.21,577.254 1699.71,577.046 1706.2,576.813 1712.7,576.565 1719.2,576.313 1725.7,576.064 1732.2,575.829 \n  1738.7,575.616 \n  \"/>\n<polygon clip-path=\"url(#clip5600)\" points=\"\n1979.95,1108.24 3552.76,1108.24 3552.76,92.3336 1979.95,92.3336 \n  \" fill=\"#ffffff\" fill-rule=\"evenodd\" fill-opacity=\"1\"/>\n<defs>\n  <clipPath id=\"clip5603\">\n    <rect x=\"1979\" y=\"92\" width=\"1574\" height=\"1017\"/>\n  </clipPath>\n</defs>\n<polyline clip-path=\"url(#clip5603)\" style=\"stroke:#000000; stroke-width:2; stroke-opacity:0.1; fill:none\" points=\"\n  1979.95,1108.24 1979.95,92.3336 \n  \"/>\n<polyline clip-path=\"url(#clip5603)\" style=\"stroke:#000000; stroke-width:2; stroke-opacity:0.1; fill:none\" points=\"\n  2242.09,1108.24 2242.09,92.3336 \n  \"/>\n<polyline clip-path=\"url(#clip5603)\" style=\"stroke:#000000; stroke-width:2; stroke-opacity:0.1; fill:none\" points=\"\n  2504.22,1108.24 2504.22,92.3336 \n  \"/>\n<polyline clip-path=\"url(#clip5603)\" style=\"stroke:#000000; stroke-width:2; stroke-opacity:0.1; fill:none\" points=\"\n  2766.35,1108.24 2766.35,92.3336 \n  \"/>\n<polyline clip-path=\"url(#clip5603)\" style=\"stroke:#000000; stroke-width:2; stroke-opacity:0.1; fill:none\" points=\"\n  3028.49,1108.24 3028.49,92.3336 \n  \"/>\n<polyline clip-path=\"url(#clip5603)\" style=\"stroke:#000000; stroke-width:2; stroke-opacity:0.1; fill:none\" points=\"\n  3552.76,1108.24 3552.76,92.3336 \n  \"/>\n<polyline clip-path=\"url(#clip5603)\" style=\"stroke:#000000; stroke-width:2; stroke-opacity:0.1; fill:none\" points=\"\n  1979.95,1108.24 3552.76,1108.24 \n  \"/>\n<polyline clip-path=\"url(#clip5603)\" style=\"stroke:#000000; stroke-width:2; stroke-opacity:0.1; fill:none\" points=\"\n  1979.95,854.264 3552.76,854.264 \n  \"/>\n<polyline clip-path=\"url(#clip5603)\" style=\"stroke:#000000; stroke-width:2; stroke-opacity:0.1; fill:none\" points=\"\n  1979.95,346.311 3552.76,346.311 \n  \"/>\n<polyline clip-path=\"url(#clip5603)\" style=\"stroke:#000000; stroke-width:2; stroke-opacity:0.1; fill:none\" points=\"\n  1979.95,92.3336 3552.76,92.3336 \n  \"/>\n<polyline clip-path=\"url(#clip5600)\" style=\"stroke:#000000; stroke-width:4; stroke-opacity:1; fill:none\" points=\"\n  1979.95,600.287 3552.76,600.287 \n  \"/>\n<polyline clip-path=\"url(#clip5600)\" style=\"stroke:#000000; stroke-width:4; stroke-opacity:1; fill:none\" points=\"\n  3290.62,1108.24 3290.62,92.3336 \n  \"/>\n<polyline clip-path=\"url(#clip5600)\" style=\"stroke:#000000; stroke-width:4; stroke-opacity:1; fill:none\" points=\"\n  1979.95,600.287 1979.95,585.049 \n  \"/>\n<polyline clip-path=\"url(#clip5600)\" style=\"stroke:#000000; stroke-width:4; stroke-opacity:1; fill:none\" points=\"\n  2242.09,600.287 2242.09,585.049 \n  \"/>\n<polyline clip-path=\"url(#clip5600)\" style=\"stroke:#000000; stroke-width:4; stroke-opacity:1; fill:none\" points=\"\n  2504.22,600.287 2504.22,585.049 \n  \"/>\n<polyline clip-path=\"url(#clip5600)\" style=\"stroke:#000000; stroke-width:4; stroke-opacity:1; fill:none\" points=\"\n  2766.35,600.287 2766.35,585.049 \n  \"/>\n<polyline clip-path=\"url(#clip5600)\" style=\"stroke:#000000; stroke-width:4; stroke-opacity:1; fill:none\" points=\"\n  3028.49,600.287 3028.49,585.049 \n  \"/>\n<polyline clip-path=\"url(#clip5600)\" style=\"stroke:#000000; stroke-width:4; stroke-opacity:1; fill:none\" points=\"\n  3552.76,600.287 3552.76,585.049 \n  \"/>\n<polyline clip-path=\"url(#clip5600)\" style=\"stroke:#000000; stroke-width:4; stroke-opacity:1; fill:none\" points=\"\n  3290.62,1108.24 3314.21,1108.24 \n  \"/>\n<polyline clip-path=\"url(#clip5600)\" style=\"stroke:#000000; stroke-width:4; stroke-opacity:1; fill:none\" points=\"\n  3290.62,854.264 3314.21,854.264 \n  \"/>\n<polyline clip-path=\"url(#clip5600)\" style=\"stroke:#000000; stroke-width:4; stroke-opacity:1; fill:none\" points=\"\n  3290.62,346.311 3314.21,346.311 \n  \"/>\n<polyline clip-path=\"url(#clip5600)\" style=\"stroke:#000000; stroke-width:4; stroke-opacity:1; fill:none\" points=\"\n  3290.62,92.3336 3314.21,92.3336 \n  \"/>\n<g clip-path=\"url(#clip5600)\">\n<text style=\"fill:#000000; fill-opacity:1; font-family:Arial,Helvetica Neue,Helvetica,sans-serif; font-size:48px; text-anchor:middle;\" transform=\"rotate(0, 1979.95, 660.287)\" x=\"1979.95\" y=\"660.287\">-5</text>\n</g>\n<g clip-path=\"url(#clip5600)\">\n<text style=\"fill:#000000; fill-opacity:1; font-family:Arial,Helvetica Neue,Helvetica,sans-serif; font-size:48px; text-anchor:middle;\" transform=\"rotate(0, 2242.09, 660.287)\" x=\"2242.09\" y=\"660.287\">-4</text>\n</g>\n<g clip-path=\"url(#clip5600)\">\n<text style=\"fill:#000000; fill-opacity:1; font-family:Arial,Helvetica Neue,Helvetica,sans-serif; font-size:48px; text-anchor:middle;\" transform=\"rotate(0, 2504.22, 660.287)\" x=\"2504.22\" y=\"660.287\">-3</text>\n</g>\n<g clip-path=\"url(#clip5600)\">\n<text style=\"fill:#000000; fill-opacity:1; font-family:Arial,Helvetica Neue,Helvetica,sans-serif; font-size:48px; text-anchor:middle;\" transform=\"rotate(0, 2766.35, 660.287)\" x=\"2766.35\" y=\"660.287\">-2</text>\n</g>\n<g clip-path=\"url(#clip5600)\">\n<text style=\"fill:#000000; fill-opacity:1; font-family:Arial,Helvetica Neue,Helvetica,sans-serif; font-size:48px; text-anchor:middle;\" transform=\"rotate(0, 3028.49, 660.287)\" x=\"3028.49\" y=\"660.287\">-1</text>\n</g>\n<g clip-path=\"url(#clip5600)\">\n<text style=\"fill:#000000; fill-opacity:1; font-family:Arial,Helvetica Neue,Helvetica,sans-serif; font-size:48px; text-anchor:middle;\" transform=\"rotate(0, 3552.76, 660.287)\" x=\"3552.76\" y=\"660.287\">1</text>\n</g>\n<g clip-path=\"url(#clip5600)\">\n<text style=\"fill:#000000; fill-opacity:1; font-family:Arial,Helvetica Neue,Helvetica,sans-serif; font-size:48px; text-anchor:end;\" transform=\"rotate(0, 3254.62, 1125.74)\" x=\"3254.62\" y=\"1125.74\">-5.0</text>\n</g>\n<g clip-path=\"url(#clip5600)\">\n<text style=\"fill:#000000; fill-opacity:1; font-family:Arial,Helvetica Neue,Helvetica,sans-serif; font-size:48px; text-anchor:end;\" transform=\"rotate(0, 3254.62, 871.764)\" x=\"3254.62\" y=\"871.764\">-2.5</text>\n</g>\n<g clip-path=\"url(#clip5600)\">\n<text style=\"fill:#000000; fill-opacity:1; font-family:Arial,Helvetica Neue,Helvetica,sans-serif; font-size:48px; text-anchor:end;\" transform=\"rotate(0, 3254.62, 363.811)\" x=\"3254.62\" y=\"363.811\">2.5</text>\n</g>\n<g clip-path=\"url(#clip5600)\">\n<text style=\"fill:#000000; fill-opacity:1; font-family:Arial,Helvetica Neue,Helvetica,sans-serif; font-size:48px; text-anchor:end;\" transform=\"rotate(0, 3254.62, 109.834)\" x=\"3254.62\" y=\"109.834\">5.0</text>\n</g>\n<g clip-path=\"url(#clip5600)\">\n<text style=\"fill:#000000; fill-opacity:1; font-family:Arial,Helvetica Neue,Helvetica,sans-serif; font-size:82px; text-anchor:middle;\" transform=\"rotate(0, 2766.35, 72)\" x=\"2766.35\" y=\"72\">Lugar geométrico de las raices</text>\n</g>\n<polyline clip-path=\"url(#clip5603)\" style=\"stroke:#009af9; stroke-width:4; stroke-opacity:1; fill:none\" points=\"\n  3159.56,990.454 3159.56,992.526 3159.56,1000 3159.56,1010.98 3159.56,1023.68 3159.56,1039.21 3159.56,1056.79 3159.56,1076.71 3159.56,1098.64 3159.56,1122.59 \n  3159.56,1148.42 3159.56,1176.12 3159.56,1205.65 3159.56,1237 3159.56,1270.2 3159.56,1305.27 3159.56,1342.27 3159.56,1381.26 3159.56,1422.31 3159.56,1465.51 \n  3159.56,1510.95 3159.56,1558.75 3159.56,1609.02 3159.56,1661.87 3159.56,1717.45 3159.56,1775.88 3159.56,1837.33 3159.56,1901.93 3159.56,1969.87 3159.56,2041.3 \n  3159.56,2116.42 3159.56,2195.42 3159.56,2278.49 3159.56,2365.86 3159.56,2457.75 3159.56,2554.39 3159.56,2656.03 3159.56,2762.94 3159.56,2875.38 3159.56,2993.65 \n  3159.56,3118.05 3159.56,3248.89 3159.56,3386.52 3159.56,3531.29 3159.56,3683.57 3159.56,3843.75 3159.56,4012.23 3159.56,4189.46 3159.56,4375.89 3159.56,4571.99 \n  3159.56,4778.27 3159.56,4995.26 3159.56,5223.51 3159.56,5463.61 3159.56,5716.17 3159.56,5981.84 3159.56,6261.31 3159.56,6555.28 3159.56,6864.52 3159.56,7189.82 \n  3159.56,7532 3159.56,7891.95 3159.56,8270.58 3159.56,8668.88 3159.56,9087.86 \n  \"/>\n<polyline clip-path=\"url(#clip5603)\" style=\"stroke:#e26f46; stroke-width:4; stroke-opacity:1; fill:none\" points=\"\n  3159.56,210.121 3159.56,208.049 3159.56,200.572 3159.56,189.599 3159.56,176.896 3159.56,161.367 3159.56,143.782 3159.56,123.861 3159.56,101.939 3159.56,77.9899 \n  3159.56,52.1561 3159.56,24.4531 3159.56,-5.0734 3159.56,-36.4293 3159.56,-69.6252 3159.56,-104.698 3159.56,-141.695 3159.56,-180.681 3159.56,-221.731 3159.56,-264.932 \n  3159.56,-310.379 3159.56,-358.178 3159.56,-408.444 3159.56,-461.299 3159.56,-516.874 3159.56,-575.309 3159.56,-636.751 3159.56,-701.357 3159.56,-769.29 3159.56,-840.725 \n  3159.56,-915.845 3159.56,-994.842 3159.56,-1077.92 3159.56,-1165.29 3159.56,-1257.18 3159.56,-1353.82 3159.56,-1455.46 3159.56,-1562.36 3159.56,-1674.81 3159.56,-1793.07 \n  3159.56,-1917.47 3159.56,-2048.32 3159.56,-2185.95 3159.56,-2330.72 3159.56,-2482.99 3159.56,-2643.17 3159.56,-2811.66 3159.56,-2988.89 3159.56,-3175.31 3159.56,-3371.42 \n  3159.56,-3577.7 3159.56,-3794.68 3159.56,-4022.93 3159.56,-4263.03 3159.56,-4515.59 3159.56,-4781.27 3159.56,-5060.73 3159.56,-5354.71 3159.56,-5663.95 3159.56,-5989.24 \n  3159.56,-6331.42 3159.56,-6691.37 3159.56,-7070.01 3159.56,-7468.31 3159.56,-7887.28 \n  \"/>\n<line clip-path=\"url(#clip5603)\" x1=\"3159.56\" y1=\"990.454\" x2=\"3115.56\" y2=\"1034.45\" style=\"stroke:#000000; stroke-width:4; stroke-opacity:1\"/>\n<line clip-path=\"url(#clip5603)\" x1=\"3159.56\" y1=\"990.454\" x2=\"3115.56\" y2=\"946.454\" style=\"stroke:#000000; stroke-width:4; stroke-opacity:1\"/>\n<line clip-path=\"url(#clip5603)\" x1=\"3159.56\" y1=\"990.454\" x2=\"3203.56\" y2=\"946.454\" style=\"stroke:#000000; stroke-width:4; stroke-opacity:1\"/>\n<line clip-path=\"url(#clip5603)\" x1=\"3159.56\" y1=\"990.454\" x2=\"3203.56\" y2=\"1034.45\" style=\"stroke:#000000; stroke-width:4; stroke-opacity:1\"/>\n<line clip-path=\"url(#clip5603)\" x1=\"3159.56\" y1=\"990.454\" x2=\"3119.56\" y2=\"1030.45\" style=\"stroke:#c271d2; stroke-width:4; stroke-opacity:1\"/>\n<line clip-path=\"url(#clip5603)\" x1=\"3159.56\" y1=\"990.454\" x2=\"3119.56\" y2=\"950.454\" style=\"stroke:#c271d2; stroke-width:4; stroke-opacity:1\"/>\n<line clip-path=\"url(#clip5603)\" x1=\"3159.56\" y1=\"990.454\" x2=\"3199.56\" y2=\"950.454\" style=\"stroke:#c271d2; stroke-width:4; stroke-opacity:1\"/>\n<line clip-path=\"url(#clip5603)\" x1=\"3159.56\" y1=\"990.454\" x2=\"3199.56\" y2=\"1030.45\" style=\"stroke:#c271d2; stroke-width:4; stroke-opacity:1\"/>\n<line clip-path=\"url(#clip5603)\" x1=\"3159.56\" y1=\"210.121\" x2=\"3115.56\" y2=\"254.121\" style=\"stroke:#000000; stroke-width:4; stroke-opacity:1\"/>\n<line clip-path=\"url(#clip5603)\" x1=\"3159.56\" y1=\"210.121\" x2=\"3115.56\" y2=\"166.121\" style=\"stroke:#000000; stroke-width:4; stroke-opacity:1\"/>\n<line clip-path=\"url(#clip5603)\" x1=\"3159.56\" y1=\"210.121\" x2=\"3203.56\" y2=\"166.121\" style=\"stroke:#000000; stroke-width:4; stroke-opacity:1\"/>\n<line clip-path=\"url(#clip5603)\" x1=\"3159.56\" y1=\"210.121\" x2=\"3203.56\" y2=\"254.121\" style=\"stroke:#000000; stroke-width:4; stroke-opacity:1\"/>\n<line clip-path=\"url(#clip5603)\" x1=\"3159.56\" y1=\"210.121\" x2=\"3119.56\" y2=\"250.121\" style=\"stroke:#c271d2; stroke-width:4; stroke-opacity:1\"/>\n<line clip-path=\"url(#clip5603)\" x1=\"3159.56\" y1=\"210.121\" x2=\"3119.56\" y2=\"170.121\" style=\"stroke:#c271d2; stroke-width:4; stroke-opacity:1\"/>\n<line clip-path=\"url(#clip5603)\" x1=\"3159.56\" y1=\"210.121\" x2=\"3199.56\" y2=\"170.121\" style=\"stroke:#c271d2; stroke-width:4; stroke-opacity:1\"/>\n<line clip-path=\"url(#clip5603)\" x1=\"3159.56\" y1=\"210.121\" x2=\"3199.56\" y2=\"250.121\" style=\"stroke:#c271d2; stroke-width:4; stroke-opacity:1\"/>\n</svg>\n"
               },
               "type": "node"
              }
             ],
             "instanceArgs": {
              "namespace": "html",
              "tag": "div"
             },
             "nodeType": "DOM",
             "props": {
              "className": "interact-flex-row interact-widget"
             },
             "type": "node"
            }
           }
          },
          "systemjs_options": null
         },
         "nodeType": "Scope",
         "props": {},
         "type": "node"
        }
       ],
       "instanceArgs": {
        "namespace": "html",
        "tag": "div"
       },
       "nodeType": "DOM",
       "props": {},
       "type": "node"
      },
      "text/html": [
       "<div\n",
       "    class=\"webio-mountpoint\"\n",
       "    data-webio-mountpoint=\"13738726436613966586\"\n",
       ">\n",
       "    <script>\n",
       "    if (window.require && require.defined && require.defined(\"nbextensions/webio/main\")) {\n",
       "        console.log(\"Jupyter WebIO extension detected, not mounting.\");\n",
       "    } else if (window.WebIO) {\n",
       "        WebIO.mount(\n",
       "            document.querySelector('[data-webio-mountpoint=\"13738726436613966586\"]'),\n",
       "            {\"props\":{},\"nodeType\":\"DOM\",\"type\":\"node\",\"instanceArgs\":{\"namespace\":\"html\",\"tag\":\"div\"},\"children\":[{\"props\":{\"className\":\"field interact-widget\"},\"nodeType\":\"DOM\",\"type\":\"node\",\"instanceArgs\":{\"namespace\":\"html\",\"tag\":\"div\"},\"children\":[{\"props\":{},\"nodeType\":\"Scope\",\"type\":\"node\",\"instanceArgs\":{\"imports\":{\"data\":[{\"name\":\"knockout\",\"type\":\"js\",\"url\":\"\\/assetserver\\/1418600122391479348d6b70f8fc3978f3015b35-knockout.js\"},{\"name\":\"knockout_punches\",\"type\":\"js\",\"url\":\"\\/assetserver\\/cd3f841ffabd7ce8124a19658c02643a3dce952c-knockout_punches.js\"},{\"name\":null,\"type\":\"js\",\"url\":\"\\/assetserver\\/ac53a1d0dfbe96bbdab46a2c15a1a1f5029edf92-all.js\"},{\"name\":null,\"type\":\"css\",\"url\":\"\\/assetserver\\/a90858055ce62250f15db56d945919371e115fff-style.css\"},{\"name\":null,\"type\":\"css\",\"url\":\"\\/assetserver\\/901695cb7baff74a76878a59f7f01c86f6c24ff1-bulma_confined.min.css\"}],\"type\":\"async_block\"},\"id\":\"15195774812407660890\",\"handlers\":{\"changes\":[\"(function (val){return (val!=this.model[\\\"changes\\\"]()) ? (this.valueFromJulia[\\\"changes\\\"]=true, this.model[\\\"changes\\\"](val)) : undefined})\"],\"index\":[\"(function (val){return (val!=this.model[\\\"index\\\"]()) ? (this.valueFromJulia[\\\"index\\\"]=true, this.model[\\\"index\\\"](val)) : undefined})\"]},\"systemjs_options\":null,\"mount_callbacks\":[\"function () {\\n    var handler = (function (ko, koPunches) {\\n    ko.punches.enableAll();\\n    ko.bindingHandlers.numericValue = {\\n        init: function(element, valueAccessor, allBindings, data, context) {\\n            var stringified = ko.observable(ko.unwrap(valueAccessor()));\\n            stringified.subscribe(function(value) {\\n                var val = parseFloat(value);\\n                if (!isNaN(val)) {\\n                    valueAccessor()(val);\\n                }\\n            });\\n            valueAccessor().subscribe(function(value) {\\n                var str = JSON.stringify(value);\\n                if ((str == \\\"0\\\") && ([\\\"-0\\\", \\\"-0.\\\"].indexOf(stringified()) >= 0))\\n                     return;\\n                 if ([\\\"null\\\", \\\"\\\"].indexOf(str) >= 0)\\n                     return;\\n                stringified(str);\\n            });\\n            ko.applyBindingsToNode(\\n                element,\\n                {\\n                    value: stringified,\\n                    valueUpdate: allBindings.get('valueUpdate'),\\n                },\\n                context,\\n            );\\n        }\\n    };\\n    var json_data = {\\\"formatted_vals\\\":[\\\"0.01\\\",\\\"0.02\\\",\\\"0.03\\\",\\\"0.04\\\",\\\"0.05\\\",\\\"0.06\\\",\\\"0.07\\\",\\\"0.08\\\",\\\"0.09\\\",\\\"0.1\\\",\\\"0.11\\\",\\\"0.12\\\",\\\"0.13\\\",\\\"0.14\\\",\\\"0.15\\\",\\\"0.16\\\",\\\"0.17\\\",\\\"0.18\\\",\\\"0.19\\\",\\\"0.2\\\",\\\"0.21\\\",\\\"0.22\\\",\\\"0.23\\\",\\\"0.24\\\",\\\"0.25\\\",\\\"0.26\\\",\\\"0.27\\\",\\\"0.28\\\",\\\"0.29\\\",\\\"0.3\\\",\\\"0.31\\\",\\\"0.32\\\",\\\"0.33\\\",\\\"0.34\\\",\\\"0.35\\\",\\\"0.36\\\",\\\"0.37\\\",\\\"0.38\\\",\\\"0.39\\\",\\\"0.4\\\",\\\"0.41\\\",\\\"0.42\\\",\\\"0.43\\\",\\\"0.44\\\",\\\"0.45\\\",\\\"0.46\\\",\\\"0.47\\\",\\\"0.48\\\",\\\"0.49\\\",\\\"0.5\\\",\\\"0.51\\\",\\\"0.52\\\",\\\"0.53\\\",\\\"0.54\\\",\\\"0.55\\\",\\\"0.56\\\",\\\"0.57\\\",\\\"0.58\\\",\\\"0.59\\\",\\\"0.6\\\",\\\"0.61\\\",\\\"0.62\\\",\\\"0.63\\\",\\\"0.64\\\",\\\"0.65\\\",\\\"0.66\\\",\\\"0.67\\\",\\\"0.68\\\",\\\"0.69\\\",\\\"0.7\\\",\\\"0.71\\\",\\\"0.72\\\",\\\"0.73\\\",\\\"0.74\\\",\\\"0.75\\\",\\\"0.76\\\",\\\"0.77\\\",\\\"0.78\\\",\\\"0.79\\\",\\\"0.8\\\",\\\"0.81\\\",\\\"0.82\\\",\\\"0.83\\\",\\\"0.84\\\",\\\"0.85\\\",\\\"0.86\\\",\\\"0.87\\\",\\\"0.88\\\",\\\"0.89\\\",\\\"0.9\\\",\\\"0.91\\\",\\\"0.92\\\",\\\"0.93\\\",\\\"0.94\\\",\\\"0.95\\\",\\\"0.96\\\",\\\"0.97\\\",\\\"0.98\\\",\\\"0.99\\\",\\\"1.0\\\",\\\"1.01\\\",\\\"1.02\\\",\\\"1.03\\\",\\\"1.04\\\",\\\"1.05\\\",\\\"1.06\\\",\\\"1.07\\\",\\\"1.08\\\",\\\"1.09\\\",\\\"1.1\\\",\\\"1.11\\\",\\\"1.12\\\",\\\"1.13\\\",\\\"1.14\\\",\\\"1.15\\\",\\\"1.16\\\",\\\"1.17\\\",\\\"1.18\\\",\\\"1.19\\\",\\\"1.2\\\",\\\"1.21\\\",\\\"1.22\\\",\\\"1.23\\\",\\\"1.24\\\",\\\"1.25\\\",\\\"1.26\\\",\\\"1.27\\\",\\\"1.28\\\",\\\"1.29\\\",\\\"1.3\\\",\\\"1.31\\\",\\\"1.32\\\",\\\"1.33\\\",\\\"1.34\\\",\\\"1.35\\\",\\\"1.36\\\",\\\"1.37\\\",\\\"1.38\\\",\\\"1.39\\\",\\\"1.4\\\",\\\"1.41\\\",\\\"1.42\\\",\\\"1.43\\\",\\\"1.44\\\",\\\"1.45\\\",\\\"1.46\\\",\\\"1.47\\\",\\\"1.48\\\",\\\"1.49\\\",\\\"1.5\\\",\\\"1.51\\\",\\\"1.52\\\",\\\"1.53\\\",\\\"1.54\\\",\\\"1.55\\\",\\\"1.56\\\",\\\"1.57\\\",\\\"1.58\\\",\\\"1.59\\\",\\\"1.6\\\",\\\"1.61\\\",\\\"1.62\\\",\\\"1.63\\\",\\\"1.64\\\",\\\"1.65\\\",\\\"1.66\\\",\\\"1.67\\\",\\\"1.68\\\",\\\"1.69\\\",\\\"1.7\\\",\\\"1.71\\\",\\\"1.72\\\",\\\"1.73\\\",\\\"1.74\\\",\\\"1.75\\\",\\\"1.76\\\",\\\"1.77\\\",\\\"1.78\\\",\\\"1.79\\\",\\\"1.8\\\",\\\"1.81\\\",\\\"1.82\\\",\\\"1.83\\\",\\\"1.84\\\",\\\"1.85\\\",\\\"1.86\\\",\\\"1.87\\\",\\\"1.88\\\",\\\"1.89\\\",\\\"1.9\\\",\\\"1.91\\\",\\\"1.92\\\",\\\"1.93\\\",\\\"1.94\\\",\\\"1.95\\\",\\\"1.96\\\",\\\"1.97\\\",\\\"1.98\\\",\\\"1.99\\\",\\\"2.0\\\",\\\"2.01\\\",\\\"2.02\\\",\\\"2.03\\\",\\\"2.04\\\",\\\"2.05\\\",\\\"2.06\\\",\\\"2.07\\\",\\\"2.08\\\",\\\"2.09\\\",\\\"2.1\\\",\\\"2.11\\\",\\\"2.12\\\",\\\"2.13\\\",\\\"2.14\\\",\\\"2.15\\\",\\\"2.16\\\",\\\"2.17\\\",\\\"2.18\\\",\\\"2.19\\\",\\\"2.2\\\",\\\"2.21\\\",\\\"2.22\\\",\\\"2.23\\\",\\\"2.24\\\",\\\"2.25\\\",\\\"2.26\\\",\\\"2.27\\\",\\\"2.28\\\",\\\"2.29\\\",\\\"2.3\\\",\\\"2.31\\\",\\\"2.32\\\",\\\"2.33\\\",\\\"2.34\\\",\\\"2.35\\\",\\\"2.36\\\",\\\"2.37\\\",\\\"2.38\\\",\\\"2.39\\\",\\\"2.4\\\",\\\"2.41\\\",\\\"2.42\\\",\\\"2.43\\\",\\\"2.44\\\",\\\"2.45\\\",\\\"2.46\\\",\\\"2.47\\\",\\\"2.48\\\",\\\"2.49\\\",\\\"2.5\\\",\\\"2.51\\\",\\\"2.52\\\",\\\"2.53\\\",\\\"2.54\\\",\\\"2.55\\\",\\\"2.56\\\",\\\"2.57\\\",\\\"2.58\\\",\\\"2.59\\\",\\\"2.6\\\",\\\"2.61\\\",\\\"2.62\\\",\\\"2.63\\\",\\\"2.64\\\",\\\"2.65\\\",\\\"2.66\\\",\\\"2.67\\\",\\\"2.68\\\",\\\"2.69\\\",\\\"2.7\\\",\\\"2.71\\\",\\\"2.72\\\",\\\"2.73\\\",\\\"2.74\\\",\\\"2.75\\\",\\\"2.76\\\",\\\"2.77\\\",\\\"2.78\\\",\\\"2.79\\\",\\\"2.8\\\",\\\"2.81\\\",\\\"2.82\\\",\\\"2.83\\\",\\\"2.84\\\",\\\"2.85\\\",\\\"2.86\\\",\\\"2.87\\\",\\\"2.88\\\",\\\"2.89\\\",\\\"2.9\\\",\\\"2.91\\\",\\\"2.92\\\",\\\"2.93\\\",\\\"2.94\\\",\\\"2.95\\\",\\\"2.96\\\",\\\"2.97\\\",\\\"2.98\\\",\\\"2.99\\\",\\\"3.0\\\"],\\\"changes\\\":WebIO.getval({\\\"name\\\":\\\"changes\\\",\\\"scope\\\":\\\"15195774812407660890\\\",\\\"id\\\":\\\"ob_14\\\",\\\"type\\\":\\\"observable\\\"}),\\\"index\\\":WebIO.getval({\\\"name\\\":\\\"index\\\",\\\"scope\\\":\\\"15195774812407660890\\\",\\\"id\\\":\\\"ob_13\\\",\\\"type\\\":\\\"observable\\\"})};\\n    var self = this;\\n    function AppViewModel() {\\n        for (var key in json_data) {\\n            var el = json_data[key];\\n            this[key] = Array.isArray(el) ? ko.observableArray(el) : ko.observable(el);\\n        }\\n        \\n        [this[\\\"formatted_val\\\"]=ko.computed(    function(){\\n        return this.formatted_vals()[parseInt(this.index())-(1)];\\n    }\\n,this)]\\n        [this[\\\"changes\\\"].subscribe((function (val){!(this.valueFromJulia[\\\"changes\\\"]) ? (WebIO.setval({\\\"name\\\":\\\"changes\\\",\\\"scope\\\":\\\"15195774812407660890\\\",\\\"id\\\":\\\"ob_14\\\",\\\"type\\\":\\\"observable\\\"},val)) : undefined; return this.valueFromJulia[\\\"changes\\\"]=false}),self),this[\\\"index\\\"].subscribe((function (val){!(this.valueFromJulia[\\\"index\\\"]) ? (WebIO.setval({\\\"name\\\":\\\"index\\\",\\\"scope\\\":\\\"15195774812407660890\\\",\\\"id\\\":\\\"ob_13\\\",\\\"type\\\":\\\"observable\\\"},val)) : undefined; return this.valueFromJulia[\\\"index\\\"]=false}),self)]\\n        \\n    }\\n    self.model = new AppViewModel();\\n    self.valueFromJulia = {};\\n    for (var key in json_data) {\\n        self.valueFromJulia[key] = false;\\n    }\\n    ko.applyBindings(self.model, self.dom);\\n}\\n);\\n    (WebIO.importBlock({\\\"data\\\":[{\\\"name\\\":\\\"knockout\\\",\\\"type\\\":\\\"js\\\",\\\"url\\\":\\\"\\/assetserver\\/1418600122391479348d6b70f8fc3978f3015b35-knockout.js\\\"},{\\\"name\\\":\\\"knockout_punches\\\",\\\"type\\\":\\\"js\\\",\\\"url\\\":\\\"\\/assetserver\\/cd3f841ffabd7ce8124a19658c02643a3dce952c-knockout_punches.js\\\"}],\\\"type\\\":\\\"async_block\\\"})).then((imports) => handler.apply(this, imports));\\n}\\n\"],\"observables\":{\"changes\":{\"sync\":false,\"id\":\"ob_14\",\"value\":0},\"index\":{\"sync\":true,\"id\":\"ob_13\",\"value\":150}}},\"children\":[{\"props\":{\"className\":\"interact-flex-row interact-widget\"},\"nodeType\":\"DOM\",\"type\":\"node\",\"instanceArgs\":{\"namespace\":\"html\",\"tag\":\"div\"},\"children\":[{\"props\":{\"className\":\"interact-flex-row-left\"},\"nodeType\":\"DOM\",\"type\":\"node\",\"instanceArgs\":{\"namespace\":\"html\",\"tag\":\"div\"},\"children\":[{\"props\":{\"className\":\"interact \",\"style\":{\"padding\":\"5px 10px 0px 10px\"}},\"nodeType\":\"DOM\",\"type\":\"node\",\"instanceArgs\":{\"namespace\":\"html\",\"tag\":\"label\"},\"children\":[\"k\"]}]},{\"props\":{\"className\":\"interact-flex-row-center\"},\"nodeType\":\"DOM\",\"type\":\"node\",\"instanceArgs\":{\"namespace\":\"html\",\"tag\":\"div\"},\"children\":[{\"props\":{\"max\":300,\"min\":1,\"attributes\":{\"type\":\"range\",\"data-bind\":\"numericValue: index, valueUpdate: 'input', event: {change: function (){this.changes(this.changes()+1)}}\",\"orient\":\"horizontal\"},\"step\":1,\"className\":\"slider slider is-fullwidth\",\"style\":{}},\"nodeType\":\"DOM\",\"type\":\"node\",\"instanceArgs\":{\"namespace\":\"html\",\"tag\":\"input\"},\"children\":[]}]},{\"props\":{\"className\":\"interact-flex-row-right\"},\"nodeType\":\"DOM\",\"type\":\"node\",\"instanceArgs\":{\"namespace\":\"html\",\"tag\":\"div\"},\"children\":[{\"props\":{\"attributes\":{\"data-bind\":\"text: formatted_val\"}},\"nodeType\":\"DOM\",\"type\":\"node\",\"instanceArgs\":{\"namespace\":\"html\",\"tag\":\"p\"},\"children\":[]}]}]}]}]},{\"props\":{\"className\":\"field interact-widget\"},\"nodeType\":\"DOM\",\"type\":\"node\",\"instanceArgs\":{\"namespace\":\"html\",\"tag\":\"div\"},\"children\":[{\"props\":{},\"nodeType\":\"Scope\",\"type\":\"node\",\"instanceArgs\":{\"imports\":{\"data\":[{\"name\":\"knockout\",\"type\":\"js\",\"url\":\"\\/assetserver\\/1418600122391479348d6b70f8fc3978f3015b35-knockout.js\"},{\"name\":\"knockout_punches\",\"type\":\"js\",\"url\":\"\\/assetserver\\/cd3f841ffabd7ce8124a19658c02643a3dce952c-knockout_punches.js\"},{\"name\":null,\"type\":\"js\",\"url\":\"\\/assetserver\\/ac53a1d0dfbe96bbdab46a2c15a1a1f5029edf92-all.js\"},{\"name\":null,\"type\":\"css\",\"url\":\"\\/assetserver\\/a90858055ce62250f15db56d945919371e115fff-style.css\"},{\"name\":null,\"type\":\"css\",\"url\":\"\\/assetserver\\/901695cb7baff74a76878a59f7f01c86f6c24ff1-bulma_confined.min.css\"}],\"type\":\"async_block\"},\"id\":\"14579246846782046648\",\"handlers\":{\"changes\":[\"(function (val){return (val!=this.model[\\\"changes\\\"]()) ? (this.valueFromJulia[\\\"changes\\\"]=true, this.model[\\\"changes\\\"](val)) : undefined})\"],\"index\":[\"(function (val){return (val!=this.model[\\\"index\\\"]()) ? (this.valueFromJulia[\\\"index\\\"]=true, this.model[\\\"index\\\"](val)) : undefined})\"]},\"systemjs_options\":null,\"mount_callbacks\":[\"function () {\\n    var handler = (function (ko, koPunches) {\\n    ko.punches.enableAll();\\n    ko.bindingHandlers.numericValue = {\\n        init: function(element, valueAccessor, allBindings, data, context) {\\n            var stringified = ko.observable(ko.unwrap(valueAccessor()));\\n            stringified.subscribe(function(value) {\\n                var val = parseFloat(value);\\n                if (!isNaN(val)) {\\n                    valueAccessor()(val);\\n                }\\n            });\\n            valueAccessor().subscribe(function(value) {\\n                var str = JSON.stringify(value);\\n                if ((str == \\\"0\\\") && ([\\\"-0\\\", \\\"-0.\\\"].indexOf(stringified()) >= 0))\\n                     return;\\n                 if ([\\\"null\\\", \\\"\\\"].indexOf(str) >= 0)\\n                     return;\\n                stringified(str);\\n            });\\n            ko.applyBindingsToNode(\\n                element,\\n                {\\n                    value: stringified,\\n                    valueUpdate: allBindings.get('valueUpdate'),\\n                },\\n                context,\\n            );\\n        }\\n    };\\n    var json_data = {\\\"formatted_vals\\\":[\\\"5\\\",\\\"6\\\",\\\"7\\\",\\\"8\\\",\\\"9\\\",\\\"10\\\",\\\"11\\\",\\\"12\\\",\\\"13\\\",\\\"14\\\",\\\"15\\\",\\\"16\\\",\\\"17\\\",\\\"18\\\",\\\"19\\\",\\\"20\\\"],\\\"changes\\\":WebIO.getval({\\\"name\\\":\\\"changes\\\",\\\"scope\\\":\\\"14579246846782046648\\\",\\\"id\\\":\\\"ob_16\\\",\\\"type\\\":\\\"observable\\\"}),\\\"index\\\":WebIO.getval({\\\"name\\\":\\\"index\\\",\\\"scope\\\":\\\"14579246846782046648\\\",\\\"id\\\":\\\"ob_15\\\",\\\"type\\\":\\\"observable\\\"})};\\n    var self = this;\\n    function AppViewModel() {\\n        for (var key in json_data) {\\n            var el = json_data[key];\\n            this[key] = Array.isArray(el) ? ko.observableArray(el) : ko.observable(el);\\n        }\\n        \\n        [this[\\\"formatted_val\\\"]=ko.computed(    function(){\\n        return this.formatted_vals()[parseInt(this.index())-(5)];\\n    }\\n,this)]\\n        [this[\\\"changes\\\"].subscribe((function (val){!(this.valueFromJulia[\\\"changes\\\"]) ? (WebIO.setval({\\\"name\\\":\\\"changes\\\",\\\"scope\\\":\\\"14579246846782046648\\\",\\\"id\\\":\\\"ob_16\\\",\\\"type\\\":\\\"observable\\\"},val)) : undefined; return this.valueFromJulia[\\\"changes\\\"]=false}),self),this[\\\"index\\\"].subscribe((function (val){!(this.valueFromJulia[\\\"index\\\"]) ? (WebIO.setval({\\\"name\\\":\\\"index\\\",\\\"scope\\\":\\\"14579246846782046648\\\",\\\"id\\\":\\\"ob_15\\\",\\\"type\\\":\\\"observable\\\"},val)) : undefined; return this.valueFromJulia[\\\"index\\\"]=false}),self)]\\n        \\n    }\\n    self.model = new AppViewModel();\\n    self.valueFromJulia = {};\\n    for (var key in json_data) {\\n        self.valueFromJulia[key] = false;\\n    }\\n    ko.applyBindings(self.model, self.dom);\\n}\\n);\\n    (WebIO.importBlock({\\\"data\\\":[{\\\"name\\\":\\\"knockout\\\",\\\"type\\\":\\\"js\\\",\\\"url\\\":\\\"\\/assetserver\\/1418600122391479348d6b70f8fc3978f3015b35-knockout.js\\\"},{\\\"name\\\":\\\"knockout_punches\\\",\\\"type\\\":\\\"js\\\",\\\"url\\\":\\\"\\/assetserver\\/cd3f841ffabd7ce8124a19658c02643a3dce952c-knockout_punches.js\\\"}],\\\"type\\\":\\\"async_block\\\"})).then((imports) => handler.apply(this, imports));\\n}\\n\"],\"observables\":{\"changes\":{\"sync\":false,\"id\":\"ob_16\",\"value\":0},\"index\":{\"sync\":true,\"id\":\"ob_15\",\"value\":12}}},\"children\":[{\"props\":{\"className\":\"interact-flex-row interact-widget\"},\"nodeType\":\"DOM\",\"type\":\"node\",\"instanceArgs\":{\"namespace\":\"html\",\"tag\":\"div\"},\"children\":[{\"props\":{\"className\":\"interact-flex-row-left\"},\"nodeType\":\"DOM\",\"type\":\"node\",\"instanceArgs\":{\"namespace\":\"html\",\"tag\":\"div\"},\"children\":[{\"props\":{\"className\":\"interact \",\"style\":{\"padding\":\"5px 10px 0px 10px\"}},\"nodeType\":\"DOM\",\"type\":\"node\",\"instanceArgs\":{\"namespace\":\"html\",\"tag\":\"label\"},\"children\":[\"t\"]}]},{\"props\":{\"className\":\"interact-flex-row-center\"},\"nodeType\":\"DOM\",\"type\":\"node\",\"instanceArgs\":{\"namespace\":\"html\",\"tag\":\"div\"},\"children\":[{\"props\":{\"max\":20,\"min\":5,\"attributes\":{\"type\":\"range\",\"data-bind\":\"numericValue: index, valueUpdate: 'input', event: {change: function (){this.changes(this.changes()+1)}}\",\"orient\":\"horizontal\"},\"step\":1,\"className\":\"slider slider is-fullwidth\",\"style\":{}},\"nodeType\":\"DOM\",\"type\":\"node\",\"instanceArgs\":{\"namespace\":\"html\",\"tag\":\"input\"},\"children\":[]}]},{\"props\":{\"className\":\"interact-flex-row-right\"},\"nodeType\":\"DOM\",\"type\":\"node\",\"instanceArgs\":{\"namespace\":\"html\",\"tag\":\"div\"},\"children\":[{\"props\":{\"attributes\":{\"data-bind\":\"text: formatted_val\"}},\"nodeType\":\"DOM\",\"type\":\"node\",\"instanceArgs\":{\"namespace\":\"html\",\"tag\":\"p\"},\"children\":[]}]}]}]}]},{\"props\":{},\"nodeType\":\"Scope\",\"type\":\"node\",\"instanceArgs\":{\"imports\":{\"data\":[],\"type\":\"async_block\"},\"id\":\"17739109952349921837\",\"handlers\":{},\"systemjs_options\":null,\"mount_callbacks\":[],\"observables\":{\"obs-node\":{\"sync\":false,\"id\":\"ob_20\",\"value\":{\"props\":{\"className\":\"interact-flex-row interact-widget\"},\"nodeType\":\"DOM\",\"type\":\"node\",\"instanceArgs\":{\"namespace\":\"html\",\"tag\":\"div\"},\"children\":[{\"props\":{\"setInnerHtml\":\"<?xml version=\\\"1.0\\\" encoding=\\\"utf-8\\\"?>\\n<svg xmlns=\\\"http:\\/\\/www.w3.org\\/2000\\/svg\\\" xmlns:xlink=\\\"http:\\/\\/www.w3.org\\/1999\\/xlink\\\" width=\\\"900\\\" height=\\\"300\\\" viewBox=\\\"0 0 3600 1200\\\">\\n<defs>\\n  <clipPath id=\\\"clip5200\\\">\\n    <rect x=\\\"0\\\" y=\\\"0\\\" width=\\\"3600\\\" height=\\\"1200\\\"\\/>\\n  <\\/clipPath>\\n<\\/defs>\\n<polygon clip-path=\\\"url(#clip5200)\\\" points=\\\"\\n0,1200 3600,1200 3600,0 0,0 \\n  \\\" fill=\\\"#ffffff\\\" fill-rule=\\\"evenodd\\\" fill-opacity=\\\"1\\\"\\/>\\n<defs>\\n  <clipPath id=\\\"clip5201\\\">\\n    <rect x=\\\"720\\\" y=\\\"0\\\" width=\\\"2521\\\" height=\\\"1200\\\"\\/>\\n  <\\/clipPath>\\n<\\/defs>\\n<polygon clip-path=\\\"url(#clip5200)\\\" points=\\\"\\n165.898,1108.24 1738.7,1108.24 1738.7,92.3336 165.898,92.3336 \\n  \\\" fill=\\\"#ffffff\\\" fill-rule=\\\"evenodd\\\" fill-opacity=\\\"1\\\"\\/>\\n<defs>\\n  <clipPath id=\\\"clip5202\\\">\\n    <rect x=\\\"165\\\" y=\\\"92\\\" width=\\\"1574\\\" height=\\\"1017\\\"\\/>\\n  <\\/clipPath>\\n<\\/defs>\\n<polyline clip-path=\\\"url(#clip5202)\\\" style=\\\"stroke:#000000; stroke-width:2; stroke-opacity:0.1; fill:none\\\" points=\\\"\\n  503.856,1108.24 503.856,92.3336 \\n  \\\"\\/>\\n<polyline clip-path=\\\"url(#clip5202)\\\" style=\\\"stroke:#000000; stroke-width:2; stroke-opacity:0.1; fill:none\\\" points=\\\"\\n  828.815,1108.24 828.815,92.3336 \\n  \\\"\\/>\\n<polyline clip-path=\\\"url(#clip5202)\\\" style=\\\"stroke:#000000; stroke-width:2; stroke-opacity:0.1; fill:none\\\" points=\\\"\\n  1153.77,1108.24 1153.77,92.3336 \\n  \\\"\\/>\\n<polyline clip-path=\\\"url(#clip5202)\\\" style=\\\"stroke:#000000; stroke-width:2; stroke-opacity:0.1; fill:none\\\" points=\\\"\\n  1478.73,1108.24 1478.73,92.3336 \\n  \\\"\\/>\\n<polyline clip-path=\\\"url(#clip5202)\\\" style=\\\"stroke:#000000; stroke-width:2; stroke-opacity:0.1; fill:none\\\" points=\\\"\\n  165.898,817.982 1738.7,817.982 \\n  \\\"\\/>\\n<polyline clip-path=\\\"url(#clip5202)\\\" style=\\\"stroke:#000000; stroke-width:2; stroke-opacity:0.1; fill:none\\\" points=\\\"\\n  165.898,576.099 1738.7,576.099 \\n  \\\"\\/>\\n<polyline clip-path=\\\"url(#clip5202)\\\" style=\\\"stroke:#000000; stroke-width:2; stroke-opacity:0.1; fill:none\\\" points=\\\"\\n  165.898,334.216 1738.7,334.216 \\n  \\\"\\/>\\n<polyline clip-path=\\\"url(#clip5202)\\\" style=\\\"stroke:#000000; stroke-width:2; stroke-opacity:0.1; fill:none\\\" points=\\\"\\n  165.898,92.3336 1738.7,92.3336 \\n  \\\"\\/>\\n<polyline clip-path=\\\"url(#clip5200)\\\" style=\\\"stroke:#000000; stroke-width:4; stroke-opacity:1; fill:none\\\" points=\\\"\\n  165.898,1059.86 1738.7,1059.86 \\n  \\\"\\/>\\n<polyline clip-path=\\\"url(#clip5200)\\\" style=\\\"stroke:#000000; stroke-width:4; stroke-opacity:1; fill:none\\\" points=\\\"\\n  178.896,1108.24 178.896,92.3336 \\n  \\\"\\/>\\n<polyline clip-path=\\\"url(#clip5200)\\\" style=\\\"stroke:#000000; stroke-width:4; stroke-opacity:1; fill:none\\\" points=\\\"\\n  503.856,1059.86 503.856,1044.63 \\n  \\\"\\/>\\n<polyline clip-path=\\\"url(#clip5200)\\\" style=\\\"stroke:#000000; stroke-width:4; stroke-opacity:1; fill:none\\\" points=\\\"\\n  828.815,1059.86 828.815,1044.63 \\n  \\\"\\/>\\n<polyline clip-path=\\\"url(#clip5200)\\\" style=\\\"stroke:#000000; stroke-width:4; stroke-opacity:1; fill:none\\\" points=\\\"\\n  1153.77,1059.86 1153.77,1044.63 \\n  \\\"\\/>\\n<polyline clip-path=\\\"url(#clip5200)\\\" style=\\\"stroke:#000000; stroke-width:4; stroke-opacity:1; fill:none\\\" points=\\\"\\n  1478.73,1059.86 1478.73,1044.63 \\n  \\\"\\/>\\n<polyline clip-path=\\\"url(#clip5200)\\\" style=\\\"stroke:#000000; stroke-width:4; stroke-opacity:1; fill:none\\\" points=\\\"\\n  178.896,817.982 202.488,817.982 \\n  \\\"\\/>\\n<polyline clip-path=\\\"url(#clip5200)\\\" style=\\\"stroke:#000000; stroke-width:4; stroke-opacity:1; fill:none\\\" points=\\\"\\n  178.896,576.099 202.488,576.099 \\n  \\\"\\/>\\n<polyline clip-path=\\\"url(#clip5200)\\\" style=\\\"stroke:#000000; stroke-width:4; stroke-opacity:1; fill:none\\\" points=\\\"\\n  178.896,334.216 202.488,334.216 \\n  \\\"\\/>\\n<polyline clip-path=\\\"url(#clip5200)\\\" style=\\\"stroke:#000000; stroke-width:4; stroke-opacity:1; fill:none\\\" points=\\\"\\n  178.896,92.3336 202.488,92.3336 \\n  \\\"\\/>\\n<g clip-path=\\\"url(#clip5200)\\\">\\n<text style=\\\"fill:#000000; fill-opacity:1; font-family:Arial,Helvetica Neue,Helvetica,sans-serif; font-size:48px; text-anchor:middle;\\\" transform=\\\"rotate(0, 503.856, 1119.86)\\\" x=\\\"503.856\\\" y=\\\"1119.86\\\">2.5<\\/text>\\n<\\/g>\\n<g clip-path=\\\"url(#clip5200)\\\">\\n<text style=\\\"fill:#000000; fill-opacity:1; font-family:Arial,Helvetica Neue,Helvetica,sans-serif; font-size:48px; text-anchor:middle;\\\" transform=\\\"rotate(0, 828.815, 1119.86)\\\" x=\\\"828.815\\\" y=\\\"1119.86\\\">5.0<\\/text>\\n<\\/g>\\n<g clip-path=\\\"url(#clip5200)\\\">\\n<text style=\\\"fill:#000000; fill-opacity:1; font-family:Arial,Helvetica Neue,Helvetica,sans-serif; font-size:48px; text-anchor:middle;\\\" transform=\\\"rotate(0, 1153.77, 1119.86)\\\" x=\\\"1153.77\\\" y=\\\"1119.86\\\">7.5<\\/text>\\n<\\/g>\\n<g clip-path=\\\"url(#clip5200)\\\">\\n<text style=\\\"fill:#000000; fill-opacity:1; font-family:Arial,Helvetica Neue,Helvetica,sans-serif; font-size:48px; text-anchor:middle;\\\" transform=\\\"rotate(0, 1478.73, 1119.86)\\\" x=\\\"1478.73\\\" y=\\\"1119.86\\\">10.0<\\/text>\\n<\\/g>\\n<g clip-path=\\\"url(#clip5200)\\\">\\n<text style=\\\"fill:#000000; fill-opacity:1; font-family:Arial,Helvetica Neue,Helvetica,sans-serif; font-size:48px; text-anchor:end;\\\" transform=\\\"rotate(0, 142.896, 835.482)\\\" x=\\\"142.896\\\" y=\\\"835.482\\\">0.5<\\/text>\\n<\\/g>\\n<g clip-path=\\\"url(#clip5200)\\\">\\n<text style=\\\"fill:#000000; fill-opacity:1; font-family:Arial,Helvetica Neue,Helvetica,sans-serif; font-size:48px; text-anchor:end;\\\" transform=\\\"rotate(0, 142.896, 593.599)\\\" x=\\\"142.896\\\" y=\\\"593.599\\\">1.0<\\/text>\\n<\\/g>\\n<g clip-path=\\\"url(#clip5200)\\\">\\n<text style=\\\"fill:#000000; fill-opacity:1; font-family:Arial,Helvetica Neue,Helvetica,sans-serif; font-size:48px; text-anchor:end;\\\" transform=\\\"rotate(0, 142.896, 351.716)\\\" x=\\\"142.896\\\" y=\\\"351.716\\\">1.5<\\/text>\\n<\\/g>\\n<g clip-path=\\\"url(#clip5200)\\\">\\n<text style=\\\"fill:#000000; fill-opacity:1; font-family:Arial,Helvetica Neue,Helvetica,sans-serif; font-size:48px; text-anchor:end;\\\" transform=\\\"rotate(0, 142.896, 109.834)\\\" x=\\\"142.896\\\" y=\\\"109.834\\\">2.0<\\/text>\\n<\\/g>\\n<g clip-path=\\\"url(#clip5200)\\\">\\n<text style=\\\"fill:#000000; fill-opacity:1; font-family:Arial,Helvetica Neue,Helvetica,sans-serif; font-size:82px; text-anchor:middle;\\\" transform=\\\"rotate(0, 952.299, 72)\\\" x=\\\"952.299\\\" y=\\\"72\\\">Respuesta a escalon unitario<\\/text>\\n<\\/g>\\n<polyline clip-path=\\\"url(#clip5202)\\\" style=\\\"stroke:#cc1414; stroke-width:4; stroke-opacity:1; fill:none\\\" points=\\\"\\n  178.896,1059.86 185.396,1050.97 191.895,1025.2 198.394,984.302 204.893,930.517 211.392,866.433 217.891,794.887 224.391,718.852 230.89,641.321 237.389,565.191 \\n  243.888,493.174 250.387,427.693 256.887,370.811 263.386,324.196 269.885,289.04 276.384,266.059 282.883,255.51 289.382,257.169 295.882,270.368 302.381,294.073 \\n  308.88,326.915 315.379,367.238 321.878,413.203 328.378,462.869 334.877,514.251 341.376,565.385 347.875,614.409 354.374,659.635 360.874,699.613 367.373,733.149 \\n  373.872,759.32 380.371,777.518 386.87,787.487 393.369,789.278 399.869,783.207 406.368,769.861 412.867,750.097 419.366,724.964 425.865,695.635 432.365,663.371 \\n  438.864,629.491 445.363,595.319 451.862,562.117 458.361,531.05 464.861,503.138 471.36,479.232 477.859,460.024 484.358,446.004 490.857,437.424 497.356,434.305 \\n  503.856,436.499 510.355,443.681 516.854,455.354 523.353,470.857 529.852,489.435 536.352,510.263 542.851,532.483 549.35,555.218 555.849,577.602 562.348,598.842 \\n  568.847,618.207 575.347,635.087 581.846,648.997 588.345,659.58 594.844,666.602 601.343,669.969 607.843,669.743 614.342,666.125 620.841,659.405 627.34,649.97 \\n  633.839,638.293 640.339,624.922 646.838,610.423 653.337,595.385 659.836,580.374 666.335,565.936 672.834,552.573 679.334,540.719 685.833,530.738 692.332,522.903 \\n  698.831,517.384 705.33,514.268 711.83,513.56 718.329,515.178 724.828,518.945 731.327,524.603 737.826,531.859 744.325,540.375 750.825,549.784 757.324,559.693 \\n  763.823,569.719 770.322,579.485 776.821,588.649 783.321,596.909 789.82,604.008 796.319,609.748 802.818,613.977 809.317,616.615 815.817,617.645 822.316,617.116 \\n  828.815,615.118 835.314,611.792 841.813,607.322 848.312,601.933 854.812,595.866 861.311,589.377 867.81,582.719 874.309,576.141 880.808,569.884 887.308,564.157 \\n  893.807,559.148 900.306,555.004 906.805,551.83 913.304,549.691 919.803,548.619 926.303,548.605 932.802,549.6 939.301,551.51 945.8,554.22 952.299,557.595 \\n  958.799,561.483 965.298,565.715 971.797,570.119 978.296,574.526 984.795,578.774 991.295,582.717 997.794,586.228 1004.29,589.198 1010.79,591.547 1017.29,593.216 \\n  1023.79,594.177 1030.29,594.433 1036.79,594.01 1043.29,592.956 1049.79,591.335 1056.29,589.236 1062.79,586.763 1069.28,584.021 1075.78,581.125 1082.28,578.187 \\n  1088.78,575.314 1095.28,572.611 1101.78,570.166 1108.28,568.057 1114.78,566.347 1121.28,565.075 1127.78,564.265 1134.28,563.926 1140.78,564.048 1147.27,564.606 \\n  1153.77,565.556 1160.27,566.843 1166.77,568.403 1173.27,570.169 1179.77,572.066 1186.27,574.017 1192.77,575.949 1199.27,577.792 1205.77,579.483 1212.27,580.968 \\n  1218.77,582.203 1225.27,583.156 1231.76,583.806 1238.26,584.141 1244.76,584.166 1251.26,583.896 1257.76,583.356 1264.26,582.578 1270.76,581.6 1277.26,580.469 \\n  1283.76,579.235 1290.26,577.946 1296.76,576.653 1303.26,575.403 1309.75,574.239 1316.25,573.2 1322.75,572.316 1329.25,571.614 1335.75,571.11 1342.25,570.814 \\n  1348.75,570.724 1355.25,570.834 1361.75,571.13 1368.25,571.594 1374.75,572.201 1381.25,572.919 1387.74,573.718 1394.24,574.565 1400.74,575.426 1407.24,576.271 \\n  1413.74,577.067 1420.24,577.791 1426.74,578.417 1433.24,578.927 1439.74,579.309 1446.24,579.555 1452.74,579.664 1459.24,579.638 1465.74,579.484 1472.23,579.213 \\n  1478.73,578.841 1485.23,578.389 1491.73,577.875 1498.23,577.321 1504.73,576.75 1511.23,576.182 1517.73,575.639 1524.23,575.139 1530.73,574.699 1537.23,574.332 \\n  1543.73,574.047 1550.22,573.851 1556.72,573.746 1563.22,573.732 1569.72,573.805 1576.22,573.958 1582.72,574.183 1589.22,574.466 1595.72,574.795 1602.22,575.155 \\n  1608.72,575.532 1615.22,575.912 1621.72,576.279 1628.21,576.623 1634.71,576.931 1641.21,577.193 1647.71,577.402 1654.21,577.554 1660.71,577.645 1667.21,577.675 \\n  1673.71,577.647 1680.21,577.563 1686.71,577.43 1693.21,577.254 1699.71,577.046 1706.2,576.813 1712.7,576.565 1719.2,576.313 1725.7,576.064 1732.2,575.829 \\n  1738.7,575.616 \\n  \\\"\\/>\\n<polygon clip-path=\\\"url(#clip5200)\\\" points=\\\"\\n1979.95,1108.24 3552.76,1108.24 3552.76,92.3336 1979.95,92.3336 \\n  \\\" fill=\\\"#ffffff\\\" fill-rule=\\\"evenodd\\\" fill-opacity=\\\"1\\\"\\/>\\n<defs>\\n  <clipPath id=\\\"clip5203\\\">\\n    <rect x=\\\"1979\\\" y=\\\"92\\\" width=\\\"1574\\\" height=\\\"1017\\\"\\/>\\n  <\\/clipPath>\\n<\\/defs>\\n<polyline clip-path=\\\"url(#clip5203)\\\" style=\\\"stroke:#000000; stroke-width:2; stroke-opacity:0.1; fill:none\\\" points=\\\"\\n  1979.95,1108.24 1979.95,92.3336 \\n  \\\"\\/>\\n<polyline clip-path=\\\"url(#clip5203)\\\" style=\\\"stroke:#000000; stroke-width:2; stroke-opacity:0.1; fill:none\\\" points=\\\"\\n  2242.09,1108.24 2242.09,92.3336 \\n  \\\"\\/>\\n<polyline clip-path=\\\"url(#clip5203)\\\" style=\\\"stroke:#000000; stroke-width:2; stroke-opacity:0.1; fill:none\\\" points=\\\"\\n  2504.22,1108.24 2504.22,92.3336 \\n  \\\"\\/>\\n<polyline clip-path=\\\"url(#clip5203)\\\" style=\\\"stroke:#000000; stroke-width:2; stroke-opacity:0.1; fill:none\\\" points=\\\"\\n  2766.35,1108.24 2766.35,92.3336 \\n  \\\"\\/>\\n<polyline clip-path=\\\"url(#clip5203)\\\" style=\\\"stroke:#000000; stroke-width:2; stroke-opacity:0.1; fill:none\\\" points=\\\"\\n  3028.49,1108.24 3028.49,92.3336 \\n  \\\"\\/>\\n<polyline clip-path=\\\"url(#clip5203)\\\" style=\\\"stroke:#000000; stroke-width:2; stroke-opacity:0.1; fill:none\\\" points=\\\"\\n  3552.76,1108.24 3552.76,92.3336 \\n  \\\"\\/>\\n<polyline clip-path=\\\"url(#clip5203)\\\" style=\\\"stroke:#000000; stroke-width:2; stroke-opacity:0.1; fill:none\\\" points=\\\"\\n  1979.95,1108.24 3552.76,1108.24 \\n  \\\"\\/>\\n<polyline clip-path=\\\"url(#clip5203)\\\" style=\\\"stroke:#000000; stroke-width:2; stroke-opacity:0.1; fill:none\\\" points=\\\"\\n  1979.95,854.264 3552.76,854.264 \\n  \\\"\\/>\\n<polyline clip-path=\\\"url(#clip5203)\\\" style=\\\"stroke:#000000; stroke-width:2; stroke-opacity:0.1; fill:none\\\" points=\\\"\\n  1979.95,346.311 3552.76,346.311 \\n  \\\"\\/>\\n<polyline clip-path=\\\"url(#clip5203)\\\" style=\\\"stroke:#000000; stroke-width:2; stroke-opacity:0.1; fill:none\\\" points=\\\"\\n  1979.95,92.3336 3552.76,92.3336 \\n  \\\"\\/>\\n<polyline clip-path=\\\"url(#clip5200)\\\" style=\\\"stroke:#000000; stroke-width:4; stroke-opacity:1; fill:none\\\" points=\\\"\\n  1979.95,600.287 3552.76,600.287 \\n  \\\"\\/>\\n<polyline clip-path=\\\"url(#clip5200)\\\" style=\\\"stroke:#000000; stroke-width:4; stroke-opacity:1; fill:none\\\" points=\\\"\\n  3290.62,1108.24 3290.62,92.3336 \\n  \\\"\\/>\\n<polyline clip-path=\\\"url(#clip5200)\\\" style=\\\"stroke:#000000; stroke-width:4; stroke-opacity:1; fill:none\\\" points=\\\"\\n  1979.95,600.287 1979.95,585.049 \\n  \\\"\\/>\\n<polyline clip-path=\\\"url(#clip5200)\\\" style=\\\"stroke:#000000; stroke-width:4; stroke-opacity:1; fill:none\\\" points=\\\"\\n  2242.09,600.287 2242.09,585.049 \\n  \\\"\\/>\\n<polyline clip-path=\\\"url(#clip5200)\\\" style=\\\"stroke:#000000; stroke-width:4; stroke-opacity:1; fill:none\\\" points=\\\"\\n  2504.22,600.287 2504.22,585.049 \\n  \\\"\\/>\\n<polyline clip-path=\\\"url(#clip5200)\\\" style=\\\"stroke:#000000; stroke-width:4; stroke-opacity:1; fill:none\\\" points=\\\"\\n  2766.35,600.287 2766.35,585.049 \\n  \\\"\\/>\\n<polyline clip-path=\\\"url(#clip5200)\\\" style=\\\"stroke:#000000; stroke-width:4; stroke-opacity:1; fill:none\\\" points=\\\"\\n  3028.49,600.287 3028.49,585.049 \\n  \\\"\\/>\\n<polyline clip-path=\\\"url(#clip5200)\\\" style=\\\"stroke:#000000; stroke-width:4; stroke-opacity:1; fill:none\\\" points=\\\"\\n  3552.76,600.287 3552.76,585.049 \\n  \\\"\\/>\\n<polyline clip-path=\\\"url(#clip5200)\\\" style=\\\"stroke:#000000; stroke-width:4; stroke-opacity:1; fill:none\\\" points=\\\"\\n  3290.62,1108.24 3314.21,1108.24 \\n  \\\"\\/>\\n<polyline clip-path=\\\"url(#clip5200)\\\" style=\\\"stroke:#000000; stroke-width:4; stroke-opacity:1; fill:none\\\" points=\\\"\\n  3290.62,854.264 3314.21,854.264 \\n  \\\"\\/>\\n<polyline clip-path=\\\"url(#clip5200)\\\" style=\\\"stroke:#000000; stroke-width:4; stroke-opacity:1; fill:none\\\" points=\\\"\\n  3290.62,346.311 3314.21,346.311 \\n  \\\"\\/>\\n<polyline clip-path=\\\"url(#clip5200)\\\" style=\\\"stroke:#000000; stroke-width:4; stroke-opacity:1; fill:none\\\" points=\\\"\\n  3290.62,92.3336 3314.21,92.3336 \\n  \\\"\\/>\\n<g clip-path=\\\"url(#clip5200)\\\">\\n<text style=\\\"fill:#000000; fill-opacity:1; font-family:Arial,Helvetica Neue,Helvetica,sans-serif; font-size:48px; text-anchor:middle;\\\" transform=\\\"rotate(0, 1979.95, 660.287)\\\" x=\\\"1979.95\\\" y=\\\"660.287\\\">-5<\\/text>\\n<\\/g>\\n<g clip-path=\\\"url(#clip5200)\\\">\\n<text style=\\\"fill:#000000; fill-opacity:1; font-family:Arial,Helvetica Neue,Helvetica,sans-serif; font-size:48px; text-anchor:middle;\\\" transform=\\\"rotate(0, 2242.09, 660.287)\\\" x=\\\"2242.09\\\" y=\\\"660.287\\\">-4<\\/text>\\n<\\/g>\\n<g clip-path=\\\"url(#clip5200)\\\">\\n<text style=\\\"fill:#000000; fill-opacity:1; font-family:Arial,Helvetica Neue,Helvetica,sans-serif; font-size:48px; text-anchor:middle;\\\" transform=\\\"rotate(0, 2504.22, 660.287)\\\" x=\\\"2504.22\\\" y=\\\"660.287\\\">-3<\\/text>\\n<\\/g>\\n<g clip-path=\\\"url(#clip5200)\\\">\\n<text style=\\\"fill:#000000; fill-opacity:1; font-family:Arial,Helvetica Neue,Helvetica,sans-serif; font-size:48px; text-anchor:middle;\\\" transform=\\\"rotate(0, 2766.35, 660.287)\\\" x=\\\"2766.35\\\" y=\\\"660.287\\\">-2<\\/text>\\n<\\/g>\\n<g clip-path=\\\"url(#clip5200)\\\">\\n<text style=\\\"fill:#000000; fill-opacity:1; font-family:Arial,Helvetica Neue,Helvetica,sans-serif; font-size:48px; text-anchor:middle;\\\" transform=\\\"rotate(0, 3028.49, 660.287)\\\" x=\\\"3028.49\\\" y=\\\"660.287\\\">-1<\\/text>\\n<\\/g>\\n<g clip-path=\\\"url(#clip5200)\\\">\\n<text style=\\\"fill:#000000; fill-opacity:1; font-family:Arial,Helvetica Neue,Helvetica,sans-serif; font-size:48px; text-anchor:middle;\\\" transform=\\\"rotate(0, 3552.76, 660.287)\\\" x=\\\"3552.76\\\" y=\\\"660.287\\\">1<\\/text>\\n<\\/g>\\n<g clip-path=\\\"url(#clip5200)\\\">\\n<text style=\\\"fill:#000000; fill-opacity:1; font-family:Arial,Helvetica Neue,Helvetica,sans-serif; font-size:48px; text-anchor:end;\\\" transform=\\\"rotate(0, 3254.62, 1125.74)\\\" x=\\\"3254.62\\\" y=\\\"1125.74\\\">-5.0<\\/text>\\n<\\/g>\\n<g clip-path=\\\"url(#clip5200)\\\">\\n<text style=\\\"fill:#000000; fill-opacity:1; font-family:Arial,Helvetica Neue,Helvetica,sans-serif; font-size:48px; text-anchor:end;\\\" transform=\\\"rotate(0, 3254.62, 871.764)\\\" x=\\\"3254.62\\\" y=\\\"871.764\\\">-2.5<\\/text>\\n<\\/g>\\n<g clip-path=\\\"url(#clip5200)\\\">\\n<text style=\\\"fill:#000000; fill-opacity:1; font-family:Arial,Helvetica Neue,Helvetica,sans-serif; font-size:48px; text-anchor:end;\\\" transform=\\\"rotate(0, 3254.62, 363.811)\\\" x=\\\"3254.62\\\" y=\\\"363.811\\\">2.5<\\/text>\\n<\\/g>\\n<g clip-path=\\\"url(#clip5200)\\\">\\n<text style=\\\"fill:#000000; fill-opacity:1; font-family:Arial,Helvetica Neue,Helvetica,sans-serif; font-size:48px; text-anchor:end;\\\" transform=\\\"rotate(0, 3254.62, 109.834)\\\" x=\\\"3254.62\\\" y=\\\"109.834\\\">5.0<\\/text>\\n<\\/g>\\n<g clip-path=\\\"url(#clip5200)\\\">\\n<text style=\\\"fill:#000000; fill-opacity:1; font-family:Arial,Helvetica Neue,Helvetica,sans-serif; font-size:82px; text-anchor:middle;\\\" transform=\\\"rotate(0, 2766.35, 72)\\\" x=\\\"2766.35\\\" y=\\\"72\\\">Lugar geométrico de las raices<\\/text>\\n<\\/g>\\n<polyline clip-path=\\\"url(#clip5203)\\\" style=\\\"stroke:#009af9; stroke-width:4; stroke-opacity:1; fill:none\\\" points=\\\"\\n  3159.56,990.454 3159.56,992.526 3159.56,1000 3159.56,1010.98 3159.56,1023.68 3159.56,1039.21 3159.56,1056.79 3159.56,1076.71 3159.56,1098.64 3159.56,1122.59 \\n  3159.56,1148.42 3159.56,1176.12 3159.56,1205.65 3159.56,1237 3159.56,1270.2 3159.56,1305.27 3159.56,1342.27 3159.56,1381.26 3159.56,1422.31 3159.56,1465.51 \\n  3159.56,1510.95 3159.56,1558.75 3159.56,1609.02 3159.56,1661.87 3159.56,1717.45 3159.56,1775.88 3159.56,1837.33 3159.56,1901.93 3159.56,1969.87 3159.56,2041.3 \\n  3159.56,2116.42 3159.56,2195.42 3159.56,2278.49 3159.56,2365.86 3159.56,2457.75 3159.56,2554.39 3159.56,2656.03 3159.56,2762.94 3159.56,2875.38 3159.56,2993.65 \\n  3159.56,3118.05 3159.56,3248.89 3159.56,3386.52 3159.56,3531.29 3159.56,3683.57 3159.56,3843.75 3159.56,4012.23 3159.56,4189.46 3159.56,4375.89 3159.56,4571.99 \\n  3159.56,4778.27 3159.56,4995.26 3159.56,5223.51 3159.56,5463.61 3159.56,5716.17 3159.56,5981.84 3159.56,6261.31 3159.56,6555.28 3159.56,6864.52 3159.56,7189.82 \\n  3159.56,7532 3159.56,7891.95 3159.56,8270.58 3159.56,8668.88 3159.56,9087.86 \\n  \\\"\\/>\\n<polyline clip-path=\\\"url(#clip5203)\\\" style=\\\"stroke:#e26f46; stroke-width:4; stroke-opacity:1; fill:none\\\" points=\\\"\\n  3159.56,210.121 3159.56,208.049 3159.56,200.572 3159.56,189.599 3159.56,176.896 3159.56,161.367 3159.56,143.782 3159.56,123.861 3159.56,101.939 3159.56,77.9899 \\n  3159.56,52.1561 3159.56,24.4531 3159.56,-5.0734 3159.56,-36.4293 3159.56,-69.6252 3159.56,-104.698 3159.56,-141.695 3159.56,-180.681 3159.56,-221.731 3159.56,-264.932 \\n  3159.56,-310.379 3159.56,-358.178 3159.56,-408.444 3159.56,-461.299 3159.56,-516.874 3159.56,-575.309 3159.56,-636.751 3159.56,-701.357 3159.56,-769.29 3159.56,-840.725 \\n  3159.56,-915.845 3159.56,-994.842 3159.56,-1077.92 3159.56,-1165.29 3159.56,-1257.18 3159.56,-1353.82 3159.56,-1455.46 3159.56,-1562.36 3159.56,-1674.81 3159.56,-1793.07 \\n  3159.56,-1917.47 3159.56,-2048.32 3159.56,-2185.95 3159.56,-2330.72 3159.56,-2482.99 3159.56,-2643.17 3159.56,-2811.66 3159.56,-2988.89 3159.56,-3175.31 3159.56,-3371.42 \\n  3159.56,-3577.7 3159.56,-3794.68 3159.56,-4022.93 3159.56,-4263.03 3159.56,-4515.59 3159.56,-4781.27 3159.56,-5060.73 3159.56,-5354.71 3159.56,-5663.95 3159.56,-5989.24 \\n  3159.56,-6331.42 3159.56,-6691.37 3159.56,-7070.01 3159.56,-7468.31 3159.56,-7887.28 \\n  \\\"\\/>\\n<line clip-path=\\\"url(#clip5203)\\\" x1=\\\"3159.56\\\" y1=\\\"990.454\\\" x2=\\\"3115.56\\\" y2=\\\"1034.45\\\" style=\\\"stroke:#000000; stroke-width:4; stroke-opacity:1\\\"\\/>\\n<line clip-path=\\\"url(#clip5203)\\\" x1=\\\"3159.56\\\" y1=\\\"990.454\\\" x2=\\\"3115.56\\\" y2=\\\"946.454\\\" style=\\\"stroke:#000000; stroke-width:4; stroke-opacity:1\\\"\\/>\\n<line clip-path=\\\"url(#clip5203)\\\" x1=\\\"3159.56\\\" y1=\\\"990.454\\\" x2=\\\"3203.56\\\" y2=\\\"946.454\\\" style=\\\"stroke:#000000; stroke-width:4; stroke-opacity:1\\\"\\/>\\n<line clip-path=\\\"url(#clip5203)\\\" x1=\\\"3159.56\\\" y1=\\\"990.454\\\" x2=\\\"3203.56\\\" y2=\\\"1034.45\\\" style=\\\"stroke:#000000; stroke-width:4; stroke-opacity:1\\\"\\/>\\n<line clip-path=\\\"url(#clip5203)\\\" x1=\\\"3159.56\\\" y1=\\\"990.454\\\" x2=\\\"3119.56\\\" y2=\\\"1030.45\\\" style=\\\"stroke:#c271d2; stroke-width:4; stroke-opacity:1\\\"\\/>\\n<line clip-path=\\\"url(#clip5203)\\\" x1=\\\"3159.56\\\" y1=\\\"990.454\\\" x2=\\\"3119.56\\\" y2=\\\"950.454\\\" style=\\\"stroke:#c271d2; stroke-width:4; stroke-opacity:1\\\"\\/>\\n<line clip-path=\\\"url(#clip5203)\\\" x1=\\\"3159.56\\\" y1=\\\"990.454\\\" x2=\\\"3199.56\\\" y2=\\\"950.454\\\" style=\\\"stroke:#c271d2; stroke-width:4; stroke-opacity:1\\\"\\/>\\n<line clip-path=\\\"url(#clip5203)\\\" x1=\\\"3159.56\\\" y1=\\\"990.454\\\" x2=\\\"3199.56\\\" y2=\\\"1030.45\\\" style=\\\"stroke:#c271d2; stroke-width:4; stroke-opacity:1\\\"\\/>\\n<line clip-path=\\\"url(#clip5203)\\\" x1=\\\"3159.56\\\" y1=\\\"210.121\\\" x2=\\\"3115.56\\\" y2=\\\"254.121\\\" style=\\\"stroke:#000000; stroke-width:4; stroke-opacity:1\\\"\\/>\\n<line clip-path=\\\"url(#clip5203)\\\" x1=\\\"3159.56\\\" y1=\\\"210.121\\\" x2=\\\"3115.56\\\" y2=\\\"166.121\\\" style=\\\"stroke:#000000; stroke-width:4; stroke-opacity:1\\\"\\/>\\n<line clip-path=\\\"url(#clip5203)\\\" x1=\\\"3159.56\\\" y1=\\\"210.121\\\" x2=\\\"3203.56\\\" y2=\\\"166.121\\\" style=\\\"stroke:#000000; stroke-width:4; stroke-opacity:1\\\"\\/>\\n<line clip-path=\\\"url(#clip5203)\\\" x1=\\\"3159.56\\\" y1=\\\"210.121\\\" x2=\\\"3203.56\\\" y2=\\\"254.121\\\" style=\\\"stroke:#000000; stroke-width:4; stroke-opacity:1\\\"\\/>\\n<line clip-path=\\\"url(#clip5203)\\\" x1=\\\"3159.56\\\" y1=\\\"210.121\\\" x2=\\\"3119.56\\\" y2=\\\"250.121\\\" style=\\\"stroke:#c271d2; stroke-width:4; stroke-opacity:1\\\"\\/>\\n<line clip-path=\\\"url(#clip5203)\\\" x1=\\\"3159.56\\\" y1=\\\"210.121\\\" x2=\\\"3119.56\\\" y2=\\\"170.121\\\" style=\\\"stroke:#c271d2; stroke-width:4; stroke-opacity:1\\\"\\/>\\n<line clip-path=\\\"url(#clip5203)\\\" x1=\\\"3159.56\\\" y1=\\\"210.121\\\" x2=\\\"3199.56\\\" y2=\\\"170.121\\\" style=\\\"stroke:#c271d2; stroke-width:4; stroke-opacity:1\\\"\\/>\\n<line clip-path=\\\"url(#clip5203)\\\" x1=\\\"3159.56\\\" y1=\\\"210.121\\\" x2=\\\"3199.56\\\" y2=\\\"250.121\\\" style=\\\"stroke:#c271d2; stroke-width:4; stroke-opacity:1\\\"\\/>\\n<\\/svg>\\n\"},\"nodeType\":\"DOM\",\"type\":\"node\",\"instanceArgs\":{\"namespace\":\"html\",\"tag\":\"div\"},\"children\":[]}]}}}},\"children\":[{\"props\":{},\"nodeType\":\"ObservableNode\",\"type\":\"node\",\"instanceArgs\":{\"id\":\"ob_20\",\"name\":\"obs-node\"},\"children\":[]}]}]},\n",
       "            window,\n",
       "        );\n",
       "    } else {\n",
       "        document\n",
       "            .querySelector('[data-webio-mountpoint=\"13738726436613966586\"]')\n",
       "            .innerHTML = '<strong>WebIO not detected.</strong>';\n",
       "    }\n",
       "    </script>\n",
       "</div>\n"
      ],
      "text/plain": [
       "Node{WebIO.DOM}(WebIO.DOM(:html, :div), Any[Node{DOM}(DOM(:html, :div), Any[Scope(Node{DOM}(DOM(:html, :div), Any[Node{DOM}(DOM(:html, :div), Any[Node{DOM}(DOM(:html, :label), Any[\"k\"], Dict{Symbol,Any}(:className=>\"interact \",:style=>Dict{Any,Any}(:padding=>\"5px 10px 0px 10px\")))], Dict{Symbol,Any}(:className=>\"interact-flex-row-left\")), Node{DOM}(DOM(:html, :div), Any[Node{DOM}(DOM(:html, :input), Any[], Dict{Symbol,Any}(:max=>300,:min=>1,:attributes=>Dict{Any,Any}(:type=>\"range\",Symbol(\"data-bind\")=>\"numericValue: index, valueUpdate: 'input', event: {change: function (){this.changes(this.changes()+1)}}\",\"orient\"=>\"horizontal\"),:step=>1,:className=>\"slider slider is-fullwidth\",:style=>Dict{Any,Any}()))], Dict{Symbol,Any}(:className=>\"interact-flex-row-center\")), Node{DOM}(DOM(:html, :div), Any[Node{DOM}(DOM(:html, :p), Any[], Dict{Symbol,Any}(:attributes=>Dict(\"data-bind\"=>\"text: formatted_val\")))], Dict{Symbol,Any}(:className=>\"interact-flex-row-right\"))], Dict{Symbol,Any}(:className=>\"interact-flex-row interact-widget\")), Dict{String,Tuple{Observables.AbstractObservable,Union{Nothing, Bool}}}(\"changes\"=>(Observable{Int64} with 1 listeners. Value:\n",
       "0, nothing),\"index\"=>(Observable{Any} with 2 listeners. Value:\n",
       "150, nothing)), Set(String[]), nothing, Asset[Asset(\"js\", \"knockout\", \"/Users/roberto/.julia/packages/Knockout/1sDlc/src/../assets/knockout.js\"), Asset(\"js\", \"knockout_punches\", \"/Users/roberto/.julia/packages/Knockout/1sDlc/src/../assets/knockout_punches.js\"), Asset(\"js\", nothing, \"/Users/roberto/.julia/packages/InteractBase/l8cEC/src/../assets/all.js\"), Asset(\"css\", nothing, \"/Users/roberto/.julia/packages/InteractBase/l8cEC/src/../assets/style.css\"), Asset(\"css\", nothing, \"/Users/roberto/.julia/packages/Interact/0klKX/src/../assets/bulma_confined.min.css\")], Dict{Any,Any}(\"changes\"=>Any[JSString(\"(function (val){return (val!=this.model[\\\"changes\\\"]()) ? (this.valueFromJulia[\\\"changes\\\"]=true, this.model[\\\"changes\\\"](val)) : undefined})\")],\"index\"=>Any[JSString(\"(function (val){return (val!=this.model[\\\"index\\\"]()) ? (this.valueFromJulia[\\\"index\\\"]=true, this.model[\\\"index\\\"](val)) : undefined})\")]), ConnectionPool(Channel{Any}(sz_max:32,sz_curr:0), Set(AbstractConnection[]), Channel{AbstractConnection}(sz_max:32,sz_curr:0)), WebIO.JSString[JSString(\"function () {\\n    var handler = (function (ko, koPunches) {\\n    ko.punches.enableAll();\\n    ko.bindingHandlers.numericValue = {\\n        init: function(element, valueAccessor, allBindings, data, context) {\\n            var stringified = ko.observable(ko.unwrap(valueAccessor()));\\n            stringified.subscribe(function(value) {\\n                var val = parseFloat(value);\\n                if (!isNaN(val)) {\\n                    valueAccessor()(val);\\n                }\\n            });\\n            valueAccessor().subscribe(function(value) {\\n                var str = JSON.stringify(value);\\n                if ((str == \\\"0\\\") && ([\\\"-0\\\", \\\"-0.\\\"].indexOf(stringified()) >= 0))\\n                     return;\\n                 if ([\\\"null\\\", \\\"\\\"].indexOf(str) >= 0)\\n                     return;\\n                stringified(str);\\n            });\\n            ko.applyBindingsToNode(\\n                element,\\n                {\\n                    value: stringified,\\n                    valueUpdate: allBindings.get('valueUpdate'),\\n                },\\n                context,\\n            );\\n        }\\n    };\\n    var json_data = {\\\"formatted_vals\\\":[\\\"0.01\\\",\\\"0.02\\\",\\\"0.03\\\",\\\"0.04\\\",\\\"0.05\\\",\\\"0.06\\\",\\\"0.07\\\",\\\"0.08\\\",\\\"0.09\\\",\\\"0.1\\\",\\\"0.11\\\",\\\"0.12\\\",\\\"0.13\\\",\\\"0.14\\\",\\\"0.15\\\",\\\"0.16\\\",\\\"0.17\\\",\\\"0.18\\\",\\\"0.19\\\",\\\"0.2\\\",\\\"0.21\\\",\\\"0.22\\\",\\\"0.23\\\",\\\"0.24\\\",\\\"0.25\\\",\\\"0.26\\\",\\\"0.27\\\",\\\"0.28\\\",\\\"0.29\\\",\\\"0.3\\\",\\\"0.31\\\",\\\"0.32\\\",\\\"0.33\\\",\\\"0.34\\\",\\\"0.35\\\",\\\"0.36\\\",\\\"0.37\\\",\\\"0.38\\\",\\\"0.39\\\",\\\"0.4\\\",\\\"0.41\\\",\\\"0.42\\\",\\\"0.43\\\",\\\"0.44\\\",\\\"0.45\\\",\\\"0.46\\\",\\\"0.47\\\",\\\"0.48\\\",\\\"0.49\\\",\\\"0.5\\\",\\\"0.51\\\",\\\"0.52\\\",\\\"0.53\\\",\\\"0.54\\\",\\\"0.55\\\",\\\"0.56\\\",\\\"0.57\\\",\\\"0.58\\\",\\\"0.59\\\",\\\"0.6\\\",\\\"0.61\\\",\\\"0.62\\\",\\\"0.63\\\",\\\"0.64\\\",\\\"0.65\\\",\\\"0.66\\\",\\\"0.67\\\",\\\"0.68\\\",\\\"0.69\\\",\\\"0.7\\\",\\\"0.71\\\",\\\"0.72\\\",\\\"0.73\\\",\\\"0.74\\\",\\\"0.75\\\",\\\"0.76\\\",\\\"0.77\\\",\\\"0.78\\\",\\\"0.79\\\",\\\"0.8\\\",\\\"0.81\\\",\\\"0.82\\\",\\\"0.83\\\",\\\"0.84\\\",\\\"0.85\\\",\\\"0.86\\\",\\\"0.87\\\",\\\"0.88\\\",\\\"0.89\\\",\\\"0.9\\\",\\\"0.91\\\",\\\"0.92\\\",\\\"0.93\\\",\\\"0.94\\\",\\\"0.95\\\",\\\"0.96\\\",\\\"0.97\\\",\\\"0.98\\\",\\\"0.99\\\",\\\"1.0\\\",\\\"1.01\\\",\\\"1.02\\\",\\\"1.03\\\",\\\"1.04\\\",\\\"1.05\\\",\\\"1.06\\\",\\\"1.07\\\",\\\"1.08\\\",\\\"1.09\\\",\\\"1.1\\\",\\\"1.11\\\",\\\"1.12\\\",\\\"1.13\\\",\\\"1.14\\\",\\\"1.15\\\",\\\"1.16\\\",\\\"1.17\\\",\\\"1.18\\\",\\\"1.19\\\",\\\"1.2\\\",\\\"1.21\\\",\\\"1.22\\\",\\\"1.23\\\",\\\"1.24\\\",\\\"1.25\\\",\\\"1.26\\\",\\\"1.27\\\",\\\"1.28\\\",\\\"1.29\\\",\\\"1.3\\\",\\\"1.31\\\",\\\"1.32\\\",\\\"1.33\\\",\\\"1.34\\\",\\\"1.35\\\",\\\"1.36\\\",\\\"1.37\\\",\\\"1.38\\\",\\\"1.39\\\",\\\"1.4\\\",\\\"1.41\\\",\\\"1.42\\\",\\\"1.43\\\",\\\"1.44\\\",\\\"1.45\\\",\\\"1.46\\\",\\\"1.47\\\",\\\"1.48\\\",\\\"1.49\\\",\\\"1.5\\\",\\\"1.51\\\",\\\"1.52\\\",\\\"1.53\\\",\\\"1.54\\\",\\\"1.55\\\",\\\"1.56\\\",\\\"1.57\\\",\\\"1.58\\\",\\\"1.59\\\",\\\"1.6\\\",\\\"1.61\\\",\\\"1.62\\\",\\\"1.63\\\",\\\"1.64\\\",\\\"1.65\\\",\\\"1.66\\\",\\\"1.67\\\",\\\"1.68\\\",\\\"1.69\\\",\\\"1.7\\\",\\\"1.71\\\",\\\"1.72\\\",\\\"1.73\\\",\\\"1.74\\\",\\\"1.75\\\",\\\"1.76\\\",\\\"1.77\\\",\\\"1.78\\\",\\\"1.79\\\",\\\"1.8\\\",\\\"1.81\\\",\\\"1.82\\\",\\\"1.83\\\",\\\"1.84\\\",\\\"1.85\\\",\\\"1.86\\\",\\\"1.87\\\",\\\"1.88\\\",\\\"1.89\\\",\\\"1.9\\\",\\\"1.91\\\",\\\"1.92\\\",\\\"1.93\\\",\\\"1.94\\\",\\\"1.95\\\",\\\"1.96\\\",\\\"1.97\\\",\\\"1.98\\\",\\\"1.99\\\",\\\"2.0\\\",\\\"2.01\\\",\\\"2.02\\\",\\\"2.03\\\",\\\"2.04\\\",\\\"2.05\\\",\\\"2.06\\\",\\\"2.07\\\",\\\"2.08\\\",\\\"2.09\\\",\\\"2.1\\\",\\\"2.11\\\",\\\"2.12\\\",\\\"2.13\\\",\\\"2.14\\\",\\\"2.15\\\",\\\"2.16\\\",\\\"2.17\\\",\\\"2.18\\\",\\\"2.19\\\",\\\"2.2\\\",\\\"2.21\\\",\\\"2.22\\\",\\\"2.23\\\",\\\"2.24\\\",\\\"2.25\\\",\\\"2.26\\\",\\\"2.27\\\",\\\"2.28\\\",\\\"2.29\\\",\\\"2.3\\\",\\\"2.31\\\",\\\"2.32\\\",\\\"2.33\\\",\\\"2.34\\\",\\\"2.35\\\",\\\"2.36\\\",\\\"2.37\\\",\\\"2.38\\\",\\\"2.39\\\",\\\"2.4\\\",\\\"2.41\\\",\\\"2.42\\\",\\\"2.43\\\",\\\"2.44\\\",\\\"2.45\\\",\\\"2.46\\\",\\\"2.47\\\",\\\"2.48\\\",\\\"2.49\\\",\\\"2.5\\\",\\\"2.51\\\",\\\"2.52\\\",\\\"2.53\\\",\\\"2.54\\\",\\\"2.55\\\",\\\"2.56\\\",\\\"2.57\\\",\\\"2.58\\\",\\\"2.59\\\",\\\"2.6\\\",\\\"2.61\\\",\\\"2.62\\\",\\\"2.63\\\",\\\"2.64\\\",\\\"2.65\\\",\\\"2.66\\\",\\\"2.67\\\",\\\"2.68\\\",\\\"2.69\\\",\\\"2.7\\\",\\\"2.71\\\",\\\"2.72\\\",\\\"2.73\\\",\\\"2.74\\\",\\\"2.75\\\",\\\"2.76\\\",\\\"2.77\\\",\\\"2.78\\\",\\\"2.79\\\",\\\"2.8\\\",\\\"2.81\\\",\\\"2.82\\\",\\\"2.83\\\",\\\"2.84\\\",\\\"2.85\\\",\\\"2.86\\\",\\\"2.87\\\",\\\"2.88\\\",\\\"2.89\\\",\\\"2.9\\\",\\\"2.91\\\",\\\"2.92\\\",\\\"2.93\\\",\\\"2.94\\\",\\\"2.95\\\",\\\"2.96\\\",\\\"2.97\\\",\\\"2.98\\\",\\\"2.99\\\",\\\"3.0\\\"],\\\"changes\\\":WebIO.getval({\\\"name\\\":\\\"changes\\\",\\\"scope\\\":\\\"15195774812407660890\\\",\\\"id\\\":\\\"ob_14\\\",\\\"type\\\":\\\"observable\\\"}),\\\"index\\\":WebIO.getval({\\\"name\\\":\\\"index\\\",\\\"scope\\\":\\\"15195774812407660890\\\",\\\"id\\\":\\\"ob_13\\\",\\\"type\\\":\\\"observable\\\"})};\\n    var self = this;\\n    function AppViewModel() {\\n        for (var key in json_data) {\\n            var el = json_data[key];\\n            this[key] = Array.isArray(el) ? ko.observableArray(el) : ko.observable(el);\\n        }\\n        \\n        [this[\\\"formatted_val\\\"]=ko.computed(    function(){\\n        return this.formatted_vals()[parseInt(this.index())-(1)];\\n    }\\n,this)]\\n        [this[\\\"changes\\\"].subscribe((function (val){!(this.valueFromJulia[\\\"changes\\\"]) ? (WebIO.setval({\\\"name\\\":\\\"changes\\\",\\\"scope\\\":\\\"15195774812407660890\\\",\\\"id\\\":\\\"ob_14\\\",\\\"type\\\":\\\"observable\\\"},val)) : undefined; return this.valueFromJulia[\\\"changes\\\"]=false}),self),this[\\\"index\\\"].subscribe((function (val){!(this.valueFromJulia[\\\"index\\\"]) ? (WebIO.setval({\\\"name\\\":\\\"index\\\",\\\"scope\\\":\\\"15195774812407660890\\\",\\\"id\\\":\\\"ob_13\\\",\\\"type\\\":\\\"observable\\\"},val)) : undefined; return this.valueFromJulia[\\\"index\\\"]=false}),self)]\\n        \\n    }\\n    self.model = new AppViewModel();\\n    self.valueFromJulia = {};\\n    for (var key in json_data) {\\n        self.valueFromJulia[key] = false;\\n    }\\n    ko.applyBindings(self.model, self.dom);\\n}\\n);\\n    (WebIO.importBlock({\\\"data\\\":[{\\\"name\\\":\\\"knockout\\\",\\\"type\\\":\\\"js\\\",\\\"url\\\":\\\"/assetserver/1418600122391479348d6b70f8fc3978f3015b35-knockout.js\\\"},{\\\"name\\\":\\\"knockout_punches\\\",\\\"type\\\":\\\"js\\\",\\\"url\\\":\\\"/assetserver/cd3f841ffabd7ce8124a19658c02643a3dce952c-knockout_punches.js\\\"}],\\\"type\\\":\\\"async_block\\\"})).then((imports) => handler.apply(this, imports));\\n}\\n\")])], Dict{Symbol,Any}(:className=>\"field interact-widget\")), Node{DOM}(DOM(:html, :div), Any[Scope(Node{DOM}(DOM(:html, :div), Any[Node{DOM}(DOM(:html, :div), Any[Node{DOM}(DOM(:html, :label), Any[\"t\"], Dict{Symbol,Any}(:className=>\"interact \",:style=>Dict{Any,Any}(:padding=>\"5px 10px 0px 10px\")))], Dict{Symbol,Any}(:className=>\"interact-flex-row-left\")), Node{DOM}(DOM(:html, :div), Any[Node{DOM}(DOM(:html, :input), Any[], Dict{Symbol,Any}(:max=>20,:min=>5,:attributes=>Dict{Any,Any}(:type=>\"range\",Symbol(\"data-bind\")=>\"numericValue: index, valueUpdate: 'input', event: {change: function (){this.changes(this.changes()+1)}}\",\"orient\"=>\"horizontal\"),:step=>1,:className=>\"slider slider is-fullwidth\",:style=>Dict{Any,Any}()))], Dict{Symbol,Any}(:className=>\"interact-flex-row-center\")), Node{DOM}(DOM(:html, :div), Any[Node{DOM}(DOM(:html, :p), Any[], Dict{Symbol,Any}(:attributes=>Dict(\"data-bind\"=>\"text: formatted_val\")))], Dict{Symbol,Any}(:className=>\"interact-flex-row-right\"))], Dict{Symbol,Any}(:className=>\"interact-flex-row interact-widget\")), Dict{String,Tuple{Observables.AbstractObservable,Union{Nothing, Bool}}}(\"changes\"=>(Observable{Int64} with 1 listeners. Value:\n",
       "0, nothing),\"index\"=>(Observable{Int64} with 2 listeners. Value:\n",
       "12, nothing)), Set(String[]), nothing, Asset[Asset(\"js\", \"knockout\", \"/Users/roberto/.julia/packages/Knockout/1sDlc/src/../assets/knockout.js\"), Asset(\"js\", \"knockout_punches\", \"/Users/roberto/.julia/packages/Knockout/1sDlc/src/../assets/knockout_punches.js\"), Asset(\"js\", nothing, \"/Users/roberto/.julia/packages/InteractBase/l8cEC/src/../assets/all.js\"), Asset(\"css\", nothing, \"/Users/roberto/.julia/packages/InteractBase/l8cEC/src/../assets/style.css\"), Asset(\"css\", nothing, \"/Users/roberto/.julia/packages/Interact/0klKX/src/../assets/bulma_confined.min.css\")], Dict{Any,Any}(\"changes\"=>Any[JSString(\"(function (val){return (val!=this.model[\\\"changes\\\"]()) ? (this.valueFromJulia[\\\"changes\\\"]=true, this.model[\\\"changes\\\"](val)) : undefined})\")],\"index\"=>Any[JSString(\"(function (val){return (val!=this.model[\\\"index\\\"]()) ? (this.valueFromJulia[\\\"index\\\"]=true, this.model[\\\"index\\\"](val)) : undefined})\")]), ConnectionPool(Channel{Any}(sz_max:32,sz_curr:0), Set(AbstractConnection[]), Channel{AbstractConnection}(sz_max:32,sz_curr:0)), WebIO.JSString[JSString(\"function () {\\n    var handler = (function (ko, koPunches) {\\n    ko.punches.enableAll();\\n    ko.bindingHandlers.numericValue = {\\n        init: function(element, valueAccessor, allBindings, data, context) {\\n            var stringified = ko.observable(ko.unwrap(valueAccessor()));\\n            stringified.subscribe(function(value) {\\n                var val = parseFloat(value);\\n                if (!isNaN(val)) {\\n                    valueAccessor()(val);\\n                }\\n            });\\n            valueAccessor().subscribe(function(value) {\\n                var str = JSON.stringify(value);\\n                if ((str == \\\"0\\\") && ([\\\"-0\\\", \\\"-0.\\\"].indexOf(stringified()) >= 0))\\n                     return;\\n                 if ([\\\"null\\\", \\\"\\\"].indexOf(str) >= 0)\\n                     return;\\n                stringified(str);\\n            });\\n            ko.applyBindingsToNode(\\n                element,\\n                {\\n                    value: stringified,\\n                    valueUpdate: allBindings.get('valueUpdate'),\\n                },\\n                context,\\n            );\\n        }\\n    };\\n    var json_data = {\\\"formatted_vals\\\":[\\\"5\\\",\\\"6\\\",\\\"7\\\",\\\"8\\\",\\\"9\\\",\\\"10\\\",\\\"11\\\",\\\"12\\\",\\\"13\\\",\\\"14\\\",\\\"15\\\",\\\"16\\\",\\\"17\\\",\\\"18\\\",\\\"19\\\",\\\"20\\\"],\\\"changes\\\":WebIO.getval({\\\"name\\\":\\\"changes\\\",\\\"scope\\\":\\\"14579246846782046648\\\",\\\"id\\\":\\\"ob_16\\\",\\\"type\\\":\\\"observable\\\"}),\\\"index\\\":WebIO.getval({\\\"name\\\":\\\"index\\\",\\\"scope\\\":\\\"14579246846782046648\\\",\\\"id\\\":\\\"ob_15\\\",\\\"type\\\":\\\"observable\\\"})};\\n    var self = this;\\n    function AppViewModel() {\\n        for (var key in json_data) {\\n            var el = json_data[key];\\n            this[key] = Array.isArray(el) ? ko.observableArray(el) : ko.observable(el);\\n        }\\n        \\n        [this[\\\"formatted_val\\\"]=ko.computed(    function(){\\n        return this.formatted_vals()[parseInt(this.index())-(5)];\\n    }\\n,this)]\\n        [this[\\\"changes\\\"].subscribe((function (val){!(this.valueFromJulia[\\\"changes\\\"]) ? (WebIO.setval({\\\"name\\\":\\\"changes\\\",\\\"scope\\\":\\\"14579246846782046648\\\",\\\"id\\\":\\\"ob_16\\\",\\\"type\\\":\\\"observable\\\"},val)) : undefined; return this.valueFromJulia[\\\"changes\\\"]=false}),self),this[\\\"index\\\"].subscribe((function (val){!(this.valueFromJulia[\\\"index\\\"]) ? (WebIO.setval({\\\"name\\\":\\\"index\\\",\\\"scope\\\":\\\"14579246846782046648\\\",\\\"id\\\":\\\"ob_15\\\",\\\"type\\\":\\\"observable\\\"},val)) : undefined; return this.valueFromJulia[\\\"index\\\"]=false}),self)]\\n        \\n    }\\n    self.model = new AppViewModel();\\n    self.valueFromJulia = {};\\n    for (var key in json_data) {\\n        self.valueFromJulia[key] = false;\\n    }\\n    ko.applyBindings(self.model, self.dom);\\n}\\n);\\n    (WebIO.importBlock({\\\"data\\\":[{\\\"name\\\":\\\"knockout\\\",\\\"type\\\":\\\"js\\\",\\\"url\\\":\\\"/assetserver/1418600122391479348d6b70f8fc3978f3015b35-knockout.js\\\"},{\\\"name\\\":\\\"knockout_punches\\\",\\\"type\\\":\\\"js\\\",\\\"url\\\":\\\"/assetserver/cd3f841ffabd7ce8124a19658c02643a3dce952c-knockout_punches.js\\\"}],\\\"type\\\":\\\"async_block\\\"})).then((imports) => handler.apply(this, imports));\\n}\\n\")])], Dict{Symbol,Any}(:className=>\"field interact-widget\")), Observable{Any} with 0 listeners. Value:\n",
       "Node{DOM}(DOM(:html, :div), Any[Plot{Plots.GRBackend() n=5}], Dict{Symbol,Any}(:className=>\"interact-flex-row interact-widget\"))], Dict{Symbol,Any}())"
      ]
     },
     "execution_count": 9,
     "metadata": {
      "@webio": {
       "kernelId": "c96b3ebd-589f-404b-88d8-fb14b6d432db"
      }
     },
     "output_type": "execute_result"
    }
   ],
   "source": [
    "ui = @manipulate for k in 0.01:0.01:3, t in 5:20\n",
    "    Gc = k\n",
    "    Glc = Gc*G/(1+Gc*G)\n",
    "    \n",
    "    p1 = stepplot(Glc, t, size = (900,300), frame_style=:origin)\n",
    "    xlabel!(\"\")\n",
    "    ylabel!(\"\")\n",
    "    title!(\"Respuesta a escalon unitario\")\n",
    "    xlims!(-0.1, t)\n",
    "    ylims!(-0.1, 2)\n",
    "    \n",
    "    p2 = rlocusplot(minreal(Glc), size = (900,300), frame_style=:origin)\n",
    "    xlabel!(\"\")\n",
    "    ylabel!(\"\")\n",
    "    title!(\"Lugar geométrico de las raices\")\n",
    "    xlims!(-5, 1)\n",
    "    ylims!(-5, 5)\n",
    "    \n",
    "    plot(p1,p2, layout=(1,2), legend=false)\n",
    "end"
   ]
  },
  {
   "cell_type": "code",
   "execution_count": null,
   "metadata": {},
   "outputs": [],
   "source": []
  }
 ],
 "metadata": {
  "@webio": {
   "lastCommId": "a253e8f4-3d9e-4a52-93c5-52fe58a5530e",
   "lastKernelId": "c96b3ebd-589f-404b-88d8-fb14b6d432db"
  },
  "kernelspec": {
   "display_name": "Julia 1.1.0",
   "language": "julia",
   "name": "julia-1.1"
  },
  "language_info": {
   "file_extension": ".jl",
   "mimetype": "application/julia",
   "name": "julia",
   "version": "1.1.0"
  }
 },
 "nbformat": 4,
 "nbformat_minor": 4
}
