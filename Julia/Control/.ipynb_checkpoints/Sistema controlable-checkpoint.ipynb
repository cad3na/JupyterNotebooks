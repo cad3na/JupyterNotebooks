{
 "cells": [
  {
   "cell_type": "code",
   "execution_count": null,
   "metadata": {},
   "outputs": [],
   "source": [
    "using ControlSystems\n",
    "using Plots\n",
    "using Interact\n",
    "using OrdinaryDiffEq\n",
    "\n",
    "gr(size = (900,300), legend = false)"
   ]
  },
  {
   "cell_type": "code",
   "execution_count": null,
   "metadata": {},
   "outputs": [],
   "source": [
    "A = [0 1; -2 -3]\n",
    "B = [0;1]\n",
    "C = [3 1]\n",
    "D = [0]"
   ]
  },
  {
   "cell_type": "code",
   "execution_count": null,
   "metadata": {},
   "outputs": [],
   "source": [
    "sis = ss(A, B, C, D)"
   ]
  },
  {
   "cell_type": "code",
   "execution_count": null,
   "metadata": {},
   "outputs": [],
   "source": [
    "stepplot(sis, 10)"
   ]
  },
  {
   "cell_type": "code",
   "execution_count": null,
   "metadata": {},
   "outputs": [],
   "source": [
    "ui = @manipulate for k1 in 0.01:0.01:3, k2 in 0.01:0.01:3\n",
    "    t = 10\n",
    "    k = [k1 k2]\n",
    "    sis = ss(A, B, C, D)\n",
    "    sislc = ss(A - B*k, B, C, D)\n",
    "    \n",
    "    p1 = stepplot(sis, t, size = (900,300), frame_style=:origin)\n",
    "    xlabel!(\"\")\n",
    "    ylabel!(\"\")\n",
    "    title!(\"Respuesta a escalon unitario\")\n",
    "    xlims!(-0.1,t)\n",
    "    ylims!(-0.1,2)\n",
    "    \n",
    "    p2 = stepplot(sislc, t, size = (900,300), frame_style=:origin)\n",
    "    xlabel!(\"\")\n",
    "    ylabel!(\"\")\n",
    "    title!(\"Respuesta a escalon unitario\")\n",
    "    xlims!(-0.1,t)\n",
    "    ylims!(-0.1,2)\n",
    "    \n",
    "    plot(p1,p2, layout=(1,2), legend=false)\n",
    "end"
   ]
  },
  {
   "cell_type": "code",
   "execution_count": null,
   "metadata": {},
   "outputs": [],
   "source": []
  }
 ],
 "metadata": {
  "kernelspec": {
   "display_name": "Julia 1.1.0",
   "language": "julia",
   "name": "julia-1.1"
  },
  "language_info": {
   "name": ""
  }
 },
 "nbformat": 4,
 "nbformat_minor": 4
}
