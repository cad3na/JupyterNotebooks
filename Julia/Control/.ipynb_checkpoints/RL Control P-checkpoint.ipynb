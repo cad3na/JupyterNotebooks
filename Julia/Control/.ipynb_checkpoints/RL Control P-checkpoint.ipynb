{
 "cells": [
  {
   "cell_type": "code",
   "execution_count": 1,
   "metadata": {},
   "outputs": [
    {
     "data": {
      "text/html": [
       "<script>\n",
       "// Immediately-invoked-function-expression to avoid global variables.\n",
       "(function() {\n",
       "    var warning_div = document.getElementById(\"webio-warning-15858654567015352514\");\n",
       "    var hide = function () {\n",
       "        var script = document.getElementById(\"webio-setup-5805098562516651653\");\n",
       "        var parent = script && script.parentElement;\n",
       "        var grandparent = parent && parent.parentElement;\n",
       "        if (grandparent) {\n",
       "            grandparent.style.display = \"none\";\n",
       "        }\n",
       "        warning_div.style.display = \"none\";\n",
       "    };\n",
       "    if (typeof Jupyter !== \"undefined\") {\n",
       "        console.log(\"WebIO detected Jupyter notebook environment.\");\n",
       "        // Jupyter notebook.\n",
       "        var extensions = (\n",
       "            Jupyter\n",
       "            && Jupyter.notebook.config.data\n",
       "            && Jupyter.notebook.config.data.load_extensions\n",
       "        );\n",
       "        if (extensions && extensions[\"webio/main\"]) {\n",
       "            // Extension already loaded.\n",
       "            console.log(\"Jupyter WebIO nbextension detected; not loading ad-hoc.\");\n",
       "            hide();\n",
       "            return;\n",
       "        }\n",
       "        console.warn(\"Loading WebIO Jupyter extension on an ad-hoc basis. Consider enabling the WebIO nbextension for a stabler experience (this should happen automatically when building WebIO).\");\n",
       "        warning_div.innerHTML = \"<strong>Loading WebIO Jupyter extension on an ad-hoc basis. Consider enabling the WebIO nbextension for a stabler experience (this should happen automatically when building WebIO).</strong>\";\n",
       "    } else if (window.location.pathname.includes(\"/lab\")) {\n",
       "        // Guessing JupyterLa\n",
       "        console.log(\"Jupyter Lab detected; make sure the @webio/jupyter-lab-provider labextension is installed.\");\n",
       "        hide();\n",
       "        return;\n",
       "    }\n",
       "})();\n",
       "\n",
       "</script>\n",
       "<p\n",
       "    id=\"webio-warning-15858654567015352514\"\n",
       "    class=\"output_text output_stderr\"\n",
       "    style=\"padding: 1em; font-weight: bold;\"\n",
       ">\n",
       "    Unable to load WebIO. Please make sure WebIO works for your Jupyter client.\n",
       "    For troubleshooting, please see <a href=\"https://juliagizmos.github.io/WebIO.jl/latest/providers/ijulia/\">\n",
       "    the WebIO/IJulia documentation</a>.\n",
       "    <!-- TODO: link to installation docs. -->\n",
       "</p>\n"
      ],
      "text/plain": [
       "HTML{String}(\"<script>\\n// Immediately-invoked-function-expression to avoid global variables.\\n(function() {\\n    var warning_div = document.getElementById(\\\"webio-warning-15858654567015352514\\\");\\n    var hide = function () {\\n        var script = document.getElementById(\\\"webio-setup-5805098562516651653\\\");\\n        var parent = script && script.parentElement;\\n        var grandparent = parent && parent.parentElement;\\n        if (grandparent) {\\n            grandparent.style.display = \\\"none\\\";\\n        }\\n        warning_div.style.display = \\\"none\\\";\\n    };\\n    if (typeof Jupyter !== \\\"undefined\\\") {\\n        console.log(\\\"WebIO detected Jupyter notebook environment.\\\");\\n        // Jupyter notebook.\\n        var extensions = (\\n            Jupyter\\n            && Jupyter.notebook.config.data\\n            && Jupyter.notebook.config.data.load_extensions\\n        );\\n        if (extensions && extensions[\\\"webio/main\\\"]) {\\n            // Extension already loaded.\\n            console.log(\\\"Jupyter WebIO nbextension detected; not loading ad-hoc.\\\");\\n            hide();\\n            return;\\n        }\\n        console.warn(\\\"Loading WebIO Jupyter extension on an ad-hoc basis. Consider enabling the WebIO nbextension for a stabler experience (this should happen automatically when building WebIO).\\\");\\n        warning_div.innerHTML = \\\"<strong>Loading WebIO Jupyter extension on an ad-hoc basis. Consider enabling the WebIO nbextension for a stabler experience (this should happen automatically when building WebIO).</strong>\\\";\\n    } else if (window.location.pathname.includes(\\\"/lab\\\")) {\\n        // Guessing JupyterLa\\n        console.log(\\\"Jupyter Lab detected; make sure the @webio/jupyter-lab-provider labextension is installed.\\\");\\n        hide();\\n        return;\\n    }\\n})();\\n\\n</script>\\n<p\\n    id=\\\"webio-warning-15858654567015352514\\\"\\n    class=\\\"output_text output_stderr\\\"\\n    style=\\\"padding: 1em; font-weight: bold;\\\"\\n>\\n    Unable to load WebIO. Please make sure WebIO works for your Jupyter client.\\n    For troubleshooting, please see <a href=\\\"https://juliagizmos.github.io/WebIO.jl/latest/providers/ijulia/\\\">\\n    the WebIO/IJulia documentation</a>.\\n    <!-- TODO: link to installation docs. -->\\n</p>\\n\")"
      ]
     },
     "metadata": {},
     "output_type": "display_data"
    },
    {
     "data": {
      "text/plain": [
       "Plots.GRBackend()"
      ]
     },
     "execution_count": 1,
     "metadata": {},
     "output_type": "execute_result"
    }
   ],
   "source": [
    "using ControlSystems\n",
    "using Plots\n",
    "using Interact\n",
    "using OrdinaryDiffEq\n",
    "\n",
    "gr(size = (900,300), legend = false)"
   ]
  },
  {
   "cell_type": "code",
   "execution_count": 2,
   "metadata": {},
   "outputs": [
    {
     "data": {
      "text/plain": [
       "TransferFunction{ControlSystems.SisoRational{Int64}}\n",
       "1s\n",
       "--\n",
       "1\n",
       "\n",
       "Continuous-time transfer function model"
      ]
     },
     "execution_count": 2,
     "metadata": {},
     "output_type": "execute_result"
    }
   ],
   "source": [
    "s = tf(\"s\")"
   ]
  },
  {
   "cell_type": "code",
   "execution_count": 3,
   "metadata": {},
   "outputs": [
    {
     "data": {
      "text/plain": [
       "TransferFunction{ControlSystems.SisoRational{Int64}}\n",
       "            1\n",
       "-------------------------\n",
       "1200*s^2 - 1000*s + 15000\n",
       "\n",
       "Continuous-time transfer function model"
      ]
     },
     "execution_count": 3,
     "metadata": {},
     "output_type": "execute_result"
    }
   ],
   "source": [
    "m, c, k = 1200, -1000, 15000\n",
    "#G = 10/(s*(s+1))\n",
    "G1 = 1/(m*s^2+c*s+k)\n",
    "G2 = 1/(s^3+2*s^2+s+3)\n",
    "G = G1"
   ]
  },
  {
   "cell_type": "code",
   "execution_count": 4,
   "metadata": {},
   "outputs": [
    {
     "data": {
      "image/svg+xml": [
       "<?xml version=\"1.0\" encoding=\"utf-8\"?>\n",
       "<svg xmlns=\"http://www.w3.org/2000/svg\" xmlns:xlink=\"http://www.w3.org/1999/xlink\" width=\"900\" height=\"300\" viewBox=\"0 0 3600 1200\">\n",
       "<defs>\n",
       "  <clipPath id=\"clip3100\">\n",
       "    <rect x=\"0\" y=\"0\" width=\"3600\" height=\"1200\"/>\n",
       "  </clipPath>\n",
       "</defs>\n",
       "<polygon clip-path=\"url(#clip3100)\" points=\"\n",
       "0,1200 3600,1200 3600,0 0,0 \n",
       "  \" fill=\"#ffffff\" fill-rule=\"evenodd\" fill-opacity=\"1\"/>\n",
       "<defs>\n",
       "  <clipPath id=\"clip3101\">\n",
       "    <rect x=\"720\" y=\"0\" width=\"2521\" height=\"1200\"/>\n",
       "  </clipPath>\n",
       "</defs>\n",
       "<polygon clip-path=\"url(#clip3100)\" points=\"\n",
       "243.864,1025.62 3552.76,1025.62 3552.76,121.675 243.864,121.675 \n",
       "  \" fill=\"#ffffff\" fill-rule=\"evenodd\" fill-opacity=\"1\"/>\n",
       "<defs>\n",
       "  <clipPath id=\"clip3102\">\n",
       "    <rect x=\"243\" y=\"121\" width=\"3310\" height=\"905\"/>\n",
       "  </clipPath>\n",
       "</defs>\n",
       "<polyline clip-path=\"url(#clip3102)\" style=\"stroke:#000000; stroke-width:2; stroke-opacity:0.1; fill:none\" points=\"\n",
       "  1122.62,1025.62 1122.62,121.675 \n",
       "  \"/>\n",
       "<polyline clip-path=\"url(#clip3102)\" style=\"stroke:#000000; stroke-width:2; stroke-opacity:0.1; fill:none\" points=\"\n",
       "  1907.73,1025.62 1907.73,121.675 \n",
       "  \"/>\n",
       "<polyline clip-path=\"url(#clip3102)\" style=\"stroke:#000000; stroke-width:2; stroke-opacity:0.1; fill:none\" points=\"\n",
       "  2692.84,1025.62 2692.84,121.675 \n",
       "  \"/>\n",
       "<polyline clip-path=\"url(#clip3102)\" style=\"stroke:#000000; stroke-width:2; stroke-opacity:0.1; fill:none\" points=\"\n",
       "  3477.95,1025.62 3477.95,121.675 \n",
       "  \"/>\n",
       "<polyline clip-path=\"url(#clip3102)\" style=\"stroke:#000000; stroke-width:2; stroke-opacity:0.1; fill:none\" points=\"\n",
       "  243.864,1011.09 3552.76,1011.09 \n",
       "  \"/>\n",
       "<polyline clip-path=\"url(#clip3102)\" style=\"stroke:#000000; stroke-width:2; stroke-opacity:0.1; fill:none\" points=\"\n",
       "  243.864,799.398 3552.76,799.398 \n",
       "  \"/>\n",
       "<polyline clip-path=\"url(#clip3102)\" style=\"stroke:#000000; stroke-width:2; stroke-opacity:0.1; fill:none\" points=\"\n",
       "  243.864,376.015 3552.76,376.015 \n",
       "  \"/>\n",
       "<polyline clip-path=\"url(#clip3102)\" style=\"stroke:#000000; stroke-width:2; stroke-opacity:0.1; fill:none\" points=\"\n",
       "  243.864,164.324 3552.76,164.324 \n",
       "  \"/>\n",
       "<polyline clip-path=\"url(#clip3100)\" style=\"stroke:#000000; stroke-width:4; stroke-opacity:1; fill:none\" points=\"\n",
       "  243.864,587.706 3552.76,587.706 \n",
       "  \"/>\n",
       "<polyline clip-path=\"url(#clip3100)\" style=\"stroke:#000000; stroke-width:4; stroke-opacity:1; fill:none\" points=\"\n",
       "  337.512,1025.62 337.512,121.675 \n",
       "  \"/>\n",
       "<polyline clip-path=\"url(#clip3100)\" style=\"stroke:#000000; stroke-width:4; stroke-opacity:1; fill:none\" points=\"\n",
       "  1122.62,587.706 1122.62,574.147 \n",
       "  \"/>\n",
       "<polyline clip-path=\"url(#clip3100)\" style=\"stroke:#000000; stroke-width:4; stroke-opacity:1; fill:none\" points=\"\n",
       "  1907.73,587.706 1907.73,574.147 \n",
       "  \"/>\n",
       "<polyline clip-path=\"url(#clip3100)\" style=\"stroke:#000000; stroke-width:4; stroke-opacity:1; fill:none\" points=\"\n",
       "  2692.84,587.706 2692.84,574.147 \n",
       "  \"/>\n",
       "<polyline clip-path=\"url(#clip3100)\" style=\"stroke:#000000; stroke-width:4; stroke-opacity:1; fill:none\" points=\"\n",
       "  3477.95,587.706 3477.95,574.147 \n",
       "  \"/>\n",
       "<polyline clip-path=\"url(#clip3100)\" style=\"stroke:#000000; stroke-width:4; stroke-opacity:1; fill:none\" points=\"\n",
       "  337.512,1011.09 387.145,1011.09 \n",
       "  \"/>\n",
       "<polyline clip-path=\"url(#clip3100)\" style=\"stroke:#000000; stroke-width:4; stroke-opacity:1; fill:none\" points=\"\n",
       "  337.512,799.398 387.145,799.398 \n",
       "  \"/>\n",
       "<polyline clip-path=\"url(#clip3100)\" style=\"stroke:#000000; stroke-width:4; stroke-opacity:1; fill:none\" points=\"\n",
       "  337.512,376.015 387.145,376.015 \n",
       "  \"/>\n",
       "<polyline clip-path=\"url(#clip3100)\" style=\"stroke:#000000; stroke-width:4; stroke-opacity:1; fill:none\" points=\"\n",
       "  337.512,164.324 387.145,164.324 \n",
       "  \"/>\n",
       "<g clip-path=\"url(#clip3100)\">\n",
       "<text style=\"fill:#000000; fill-opacity:1; font-family:Arial,Helvetica Neue,Helvetica,sans-serif; font-size:48px; text-anchor:middle;\" transform=\"rotate(0, 1122.62, 647.706)\" x=\"1122.62\" y=\"647.706\">2.5</text>\n",
       "</g>\n",
       "<g clip-path=\"url(#clip3100)\">\n",
       "<text style=\"fill:#000000; fill-opacity:1; font-family:Arial,Helvetica Neue,Helvetica,sans-serif; font-size:48px; text-anchor:middle;\" transform=\"rotate(0, 1907.73, 647.706)\" x=\"1907.73\" y=\"647.706\">5.0</text>\n",
       "</g>\n",
       "<g clip-path=\"url(#clip3100)\">\n",
       "<text style=\"fill:#000000; fill-opacity:1; font-family:Arial,Helvetica Neue,Helvetica,sans-serif; font-size:48px; text-anchor:middle;\" transform=\"rotate(0, 2692.84, 647.706)\" x=\"2692.84\" y=\"647.706\">7.5</text>\n",
       "</g>\n",
       "<g clip-path=\"url(#clip3100)\">\n",
       "<text style=\"fill:#000000; fill-opacity:1; font-family:Arial,Helvetica Neue,Helvetica,sans-serif; font-size:48px; text-anchor:middle;\" transform=\"rotate(0, 3477.95, 647.706)\" x=\"3477.95\" y=\"647.706\">10.0</text>\n",
       "</g>\n",
       "<g clip-path=\"url(#clip3100)\">\n",
       "<text style=\"fill:#000000; fill-opacity:1; font-family:Arial,Helvetica Neue,Helvetica,sans-serif; font-size:48px; text-anchor:end;\" transform=\"rotate(0, 301.512, 1028.59)\" x=\"301.512\" y=\"1028.59\">-0.2</text>\n",
       "</g>\n",
       "<g clip-path=\"url(#clip3100)\">\n",
       "<text style=\"fill:#000000; fill-opacity:1; font-family:Arial,Helvetica Neue,Helvetica,sans-serif; font-size:48px; text-anchor:end;\" transform=\"rotate(0, 301.512, 816.898)\" x=\"301.512\" y=\"816.898\">-0.1</text>\n",
       "</g>\n",
       "<g clip-path=\"url(#clip3100)\">\n",
       "<text style=\"fill:#000000; fill-opacity:1; font-family:Arial,Helvetica Neue,Helvetica,sans-serif; font-size:48px; text-anchor:end;\" transform=\"rotate(0, 301.512, 393.515)\" x=\"301.512\" y=\"393.515\">0.1</text>\n",
       "</g>\n",
       "<g clip-path=\"url(#clip3100)\">\n",
       "<text style=\"fill:#000000; fill-opacity:1; font-family:Arial,Helvetica Neue,Helvetica,sans-serif; font-size:48px; text-anchor:end;\" transform=\"rotate(0, 301.512, 181.824)\" x=\"301.512\" y=\"181.824\">0.2</text>\n",
       "</g>\n",
       "<g clip-path=\"url(#clip3100)\">\n",
       "<text style=\"fill:#000000; fill-opacity:1; font-family:Arial,Helvetica Neue,Helvetica,sans-serif; font-size:82px; text-anchor:middle;\" transform=\"rotate(0, 1898.31, 72)\" x=\"1898.31\" y=\"72\">Step Response</text>\n",
       "</g>\n",
       "<g clip-path=\"url(#clip3100)\">\n",
       "<text style=\"fill:#000000; fill-opacity:1; font-family:Arial,Helvetica Neue,Helvetica,sans-serif; font-size:66px; text-anchor:middle;\" transform=\"rotate(0, 1898.31, 1171.48)\" x=\"1898.31\" y=\"1171.48\">Time (s)</text>\n",
       "</g>\n",
       "<g clip-path=\"url(#clip3100)\">\n",
       "<text style=\"fill:#000000; fill-opacity:1; font-family:Arial,Helvetica Neue,Helvetica,sans-serif; font-size:66px; text-anchor:middle;\" transform=\"rotate(-90, 65.2861, 573.647)\" x=\"65.2861\" y=\"573.647\">Amplitude</text>\n",
       "</g>\n",
       "<polyline clip-path=\"url(#clip3102)\" style=\"stroke:#cc1414; stroke-width:4; stroke-opacity:1; fill:none\" points=\"\n",
       "  337.512,587.706 359.495,584.737 381.478,576.375 403.461,563.392 425.444,546.505 447.427,526.379 469.41,503.633 491.394,478.846 513.377,452.56 535.36,425.278 \n",
       "  557.343,397.474 579.326,369.589 601.309,342.033 623.292,315.189 645.275,289.407 667.258,265.012 689.241,242.299 711.224,221.536 733.207,202.961 755.19,186.785 \n",
       "  777.173,173.188 799.157,162.327 821.14,154.325 843.123,149.279 865.106,147.258 887.089,148.305 909.072,152.433 931.055,159.629 953.038,169.853 975.021,183.039 \n",
       "  997.004,199.1 1018.99,217.924 1040.97,239.376 1062.95,263.302 1084.94,289.522 1106.92,317.845 1128.9,348.059 1150.89,379.942 1172.87,413.258 1194.85,447.762 \n",
       "  1216.83,483.196 1238.82,519.293 1260.8,555.788 1282.78,592.407 1304.77,628.877 1326.75,664.93 1348.73,700.301 1370.72,734.732 1392.7,767.968 1414.68,799.763 \n",
       "  1436.67,829.886 1458.65,858.115 1480.63,884.243 1502.61,908.079 1524.6,929.456 1546.58,948.22 1568.56,964.241 1590.55,977.408 1612.53,987.634 1634.51,994.843 \n",
       "  1656.5,998.985 1678.48,1000.04 1700.46,997.994 1722.45,992.887 1744.43,984.763 1766.41,973.696 1788.39,959.779 1810.38,943.119 1832.36,923.846 1854.34,902.109 \n",
       "  1876.33,878.074 1898.31,851.925 1920.29,823.865 1942.28,794.115 1964.26,762.902 1986.24,730.461 2008.23,697.039 2030.21,662.889 2052.19,628.262 2074.17,593.416 \n",
       "  2096.16,558.61 2118.14,524.106 2140.12,490.17 2162.11,457.053 2184.09,424.995 2206.07,394.238 2228.06,365.009 2250.04,337.522 2272.02,311.974 2294.01,288.551 \n",
       "  2315.99,267.422 2337.97,248.739 2359.95,232.626 2381.94,219.205 2403.92,208.575 2425.9,200.811 2447.89,195.965 2469.87,194.067 2491.85,195.12 2513.84,199.105 \n",
       "  2535.82,205.979 2557.8,215.678 2579.79,228.128 2601.77,243.23 2623.75,260.869 2645.73,280.908 2667.72,303.197 2689.7,327.561 2711.68,353.812 2733.67,381.739 \n",
       "  2755.65,411.126 2777.63,441.755 2799.62,473.393 2821.6,505.8 2843.58,538.736 2865.57,571.958 2887.55,605.22 2909.53,638.273 2931.51,670.869 2953.5,702.752 \n",
       "  2975.48,733.689 2997.46,763.461 3019.45,791.84 3041.43,818.616 3063.41,843.595 3085.4,866.595 3107.38,887.453 3129.36,906.019 3151.35,922.161 3173.33,935.765 \n",
       "  3195.31,946.744 3217.29,955.016 3239.28,960.52 3261.26,963.217 3283.24,963.092 3305.23,960.154 3327.21,954.432 3349.19,945.982 3371.18,934.88 3393.16,921.223 \n",
       "  3415.14,905.11 3437.12,886.667 3459.11,866.037 \n",
       "  \"/>\n",
       "</svg>\n"
      ]
     },
     "execution_count": 4,
     "metadata": {},
     "output_type": "execute_result"
    }
   ],
   "source": [
    "stepplot(feedback(0.6*s*G2),10, frame_style=:origin)"
   ]
  },
  {
   "cell_type": "code",
   "execution_count": 5,
   "metadata": {},
   "outputs": [
    {
     "name": "stderr",
     "output_type": "stream",
     "text": [
      "┌ Warning: Accessing `scope.id` is deprecated, use `scopeid(scope)` instead.\n",
      "│   caller = ip:0x0\n",
      "└ @ Core :-1\n",
      "┌ Warning: Keyword argument hover not supported with Plots.GRBackend().  Choose from: Set(Symbol[:top_margin, :group, :background_color, :yforeground_color_text, :yguidefontcolor, :seriesalpha, :legendfontcolor, :seriescolor, :ztick_direction, :zlims, :overwrite_figure, :xguidefonthalign, :normalize, :linestyle, :xflip, :fillcolor, :ygrid, :background_color_inside, :zguidefonthalign, :bins, :yscale, :xtickfontcolor, :xguide, :fillalpha, :tick_direction, :yguidefontsize, :legendfontfamily, :foreground_color, :xtickfonthalign, :x, :ytickfontrotation, :legend, :discrete_values, :ytick_direction, :xguidefontrotation, :ribbon, :tickfontrotation, :xdiscrete_values, :legendtitle, :xgridstyle, :orientation, :gridstyle, :markersize, :camera, :xforeground_color_grid, :quiver, :zticks, :markerstrokecolor, :ztickfontrotation, :ztickfonthalign, :legendfonthalign, :xtickfontsize, :levels, :zgridstyle, :foreground_color_border, :zguidefontvalign, :marker_z, :markerstrokealpha, :markeralpha, :tickfontvalign, :zguidefontcolor, :ygridlinewidth, :zlink, :zscale, :smooth, :xticks, :zguidefontsize, :y, :margin, :ytickfontcolor, :yforeground_color_border, :zguidefontfamily, :zgridalpha, :yguidefontvalign, :yguidefonthalign, :ztickfontcolor, :html_output_format, :tickfontcolor, :titlefontrotation, :legendfontvalign, :tickfontsize, :z, :yforeground_color_axis, :xtickfontrotation, :xerror, :contour_labels, :xguidefontcolor, :primary, :guidefonthalign, :aspect_ratio, :link, :colorbar_title, :yguide, :guidefontvalign, :yguidefontfamily, :layout, :polar, :right_margin, :xlink, :series_annotations, :inset_subplots, :ytickfontsize, :tickfontfamily, :xgrid, :ygridalpha, :xtick_direction, :colorbar, :zflip, :ticks, :legendfontrotation, :linealpha, :arrow, :xtickfontvalign, :zgrid, :bar_width, :zguide, :zforeground_color_text, :weights, :xgridalpha, :ygridstyle, :fill_z, :ztickfontfamily, :markershape, :background_color_subplot, :xguidefontvalign, :markerstrokewidth, :xguidefontfamily, :gridlinewidth, :foreground_color_subplot, :xgridlinewidth, :foreground_color_text, :titlefonthalign, :yerror, :zgridlinewidth, :grid, :xguidefontsize, :xforeground_color_axis, :background_color_outside, :titlefontcolor, :line_z, :size, :projection, :zguidefontrotation, :ydiscrete_values, :seriestype, :yflip, :fillrange, :ztickfontvalign, :xlims, :xforeground_color_border, :markercolor, :ylink, :yforeground_color_grid, :color_palette, :lims, :xscale, :left_margin, :annotations, :window_title, :foreground_color_axis, :yguidefontrotation, :guidefontsize, :zdiscrete_values, :tickfonthalign, :bottom_margin, :framestyle, :scale, :zforeground_color_border, :background_color_legend, :linecolor, :foreground_color_legend, :title, :subplot_index, :flip, :titlefontvalign, :foreground_color_grid, :linewidth, :ztickfontsize, :gridalpha, :guidefontfamily, :ylims, :xtickfontfamily, :ytickfontvalign, :ytickfontfamily, :xforeground_color_text, :show, :guidefontrotation, :legendfontsize, :subplot, :label, :ytickfonthalign, :guide, :guidefontcolor, :match_dimensions, :titlefontsize, :titlefontfamily, :zforeground_color_axis, :zforeground_color_grid, :colorbar_entry, :yticks])\n",
      "└ @ Plots /Users/roberto/.julia/packages/Plots/jWNMG/src/args.jl:1150\n"
     ]
    },
    {
     "data": {
      "application/vnd.webio.node+json": {
       "children": [
        {
         "children": [
          {
           "children": [
            {
             "children": [
              {
               "children": [
                {
                 "children": [
                  "k"
                 ],
                 "instanceArgs": {
                  "namespace": "html",
                  "tag": "label"
                 },
                 "nodeType": "DOM",
                 "props": {
                  "className": "interact ",
                  "style": {
                   "padding": "5px 10px 0px 10px"
                  }
                 },
                 "type": "node"
                }
               ],
               "instanceArgs": {
                "namespace": "html",
                "tag": "div"
               },
               "nodeType": "DOM",
               "props": {
                "className": "interact-flex-row-left"
               },
               "type": "node"
              },
              {
               "children": [
                {
                 "children": [],
                 "instanceArgs": {
                  "namespace": "html",
                  "tag": "input"
                 },
                 "nodeType": "DOM",
                 "props": {
                  "attributes": {
                   "data-bind": "numericValue: index, valueUpdate: 'input', event: {change: function (){this.changes(this.changes()+1)}}",
                   "orient": "horizontal",
                   "type": "range"
                  },
                  "className": "slider slider is-fullwidth",
                  "max": 300,
                  "min": 1,
                  "step": 1,
                  "style": {}
                 },
                 "type": "node"
                }
               ],
               "instanceArgs": {
                "namespace": "html",
                "tag": "div"
               },
               "nodeType": "DOM",
               "props": {
                "className": "interact-flex-row-center"
               },
               "type": "node"
              },
              {
               "children": [
                {
                 "children": [],
                 "instanceArgs": {
                  "namespace": "html",
                  "tag": "p"
                 },
                 "nodeType": "DOM",
                 "props": {
                  "attributes": {
                   "data-bind": "text: formatted_val"
                  }
                 },
                 "type": "node"
                }
               ],
               "instanceArgs": {
                "namespace": "html",
                "tag": "div"
               },
               "nodeType": "DOM",
               "props": {
                "className": "interact-flex-row-right"
               },
               "type": "node"
              }
             ],
             "instanceArgs": {
              "namespace": "html",
              "tag": "div"
             },
             "nodeType": "DOM",
             "props": {
              "className": "interact-flex-row interact-widget"
             },
             "type": "node"
            }
           ],
           "instanceArgs": {
            "handlers": {
             "changes": [
              "(function (val){return (val!=this.model[\"changes\"]()) ? (this.valueFromJulia[\"changes\"]=true, this.model[\"changes\"](val)) : undefined})"
             ],
             "index": [
              "(function (val){return (val!=this.model[\"index\"]()) ? (this.valueFromJulia[\"index\"]=true, this.model[\"index\"](val)) : undefined})"
             ]
            },
            "id": "1132875407272265265",
            "imports": {
             "data": [
              {
               "name": "knockout",
               "type": "js",
               "url": "/assetserver/1418600122391479348d6b70f8fc3978f3015b35-knockout.js"
              },
              {
               "name": "knockout_punches",
               "type": "js",
               "url": "/assetserver/cd3f841ffabd7ce8124a19658c02643a3dce952c-knockout_punches.js"
              },
              {
               "name": null,
               "type": "js",
               "url": "/assetserver/ac53a1d0dfbe96bbdab46a2c15a1a1f5029edf92-all.js"
              },
              {
               "name": null,
               "type": "css",
               "url": "/assetserver/a90858055ce62250f15db56d945919371e115fff-style.css"
              },
              {
               "name": null,
               "type": "css",
               "url": "/assetserver/901695cb7baff74a76878a59f7f01c86f6c24ff1-bulma_confined.min.css"
              }
             ],
             "type": "async_block"
            },
            "mount_callbacks": [
             "function () {\n    var handler = (function (ko, koPunches) {\n    ko.punches.enableAll();\n    ko.bindingHandlers.numericValue = {\n        init: function(element, valueAccessor, allBindings, data, context) {\n            var stringified = ko.observable(ko.unwrap(valueAccessor()));\n            stringified.subscribe(function(value) {\n                var val = parseFloat(value);\n                if (!isNaN(val)) {\n                    valueAccessor()(val);\n                }\n            });\n            valueAccessor().subscribe(function(value) {\n                var str = JSON.stringify(value);\n                if ((str == \"0\") && ([\"-0\", \"-0.\"].indexOf(stringified()) >= 0))\n                     return;\n                 if ([\"null\", \"\"].indexOf(str) >= 0)\n                     return;\n                stringified(str);\n            });\n            ko.applyBindingsToNode(\n                element,\n                {\n                    value: stringified,\n                    valueUpdate: allBindings.get('valueUpdate'),\n                },\n                context,\n            );\n        }\n    };\n    var json_data = {\"formatted_vals\":[\"0.01\",\"0.02\",\"0.03\",\"0.04\",\"0.05\",\"0.06\",\"0.07\",\"0.08\",\"0.09\",\"0.1\",\"0.11\",\"0.12\",\"0.13\",\"0.14\",\"0.15\",\"0.16\",\"0.17\",\"0.18\",\"0.19\",\"0.2\",\"0.21\",\"0.22\",\"0.23\",\"0.24\",\"0.25\",\"0.26\",\"0.27\",\"0.28\",\"0.29\",\"0.3\",\"0.31\",\"0.32\",\"0.33\",\"0.34\",\"0.35\",\"0.36\",\"0.37\",\"0.38\",\"0.39\",\"0.4\",\"0.41\",\"0.42\",\"0.43\",\"0.44\",\"0.45\",\"0.46\",\"0.47\",\"0.48\",\"0.49\",\"0.5\",\"0.51\",\"0.52\",\"0.53\",\"0.54\",\"0.55\",\"0.56\",\"0.57\",\"0.58\",\"0.59\",\"0.6\",\"0.61\",\"0.62\",\"0.63\",\"0.64\",\"0.65\",\"0.66\",\"0.67\",\"0.68\",\"0.69\",\"0.7\",\"0.71\",\"0.72\",\"0.73\",\"0.74\",\"0.75\",\"0.76\",\"0.77\",\"0.78\",\"0.79\",\"0.8\",\"0.81\",\"0.82\",\"0.83\",\"0.84\",\"0.85\",\"0.86\",\"0.87\",\"0.88\",\"0.89\",\"0.9\",\"0.91\",\"0.92\",\"0.93\",\"0.94\",\"0.95\",\"0.96\",\"0.97\",\"0.98\",\"0.99\",\"1.0\",\"1.01\",\"1.02\",\"1.03\",\"1.04\",\"1.05\",\"1.06\",\"1.07\",\"1.08\",\"1.09\",\"1.1\",\"1.11\",\"1.12\",\"1.13\",\"1.14\",\"1.15\",\"1.16\",\"1.17\",\"1.18\",\"1.19\",\"1.2\",\"1.21\",\"1.22\",\"1.23\",\"1.24\",\"1.25\",\"1.26\",\"1.27\",\"1.28\",\"1.29\",\"1.3\",\"1.31\",\"1.32\",\"1.33\",\"1.34\",\"1.35\",\"1.36\",\"1.37\",\"1.38\",\"1.39\",\"1.4\",\"1.41\",\"1.42\",\"1.43\",\"1.44\",\"1.45\",\"1.46\",\"1.47\",\"1.48\",\"1.49\",\"1.5\",\"1.51\",\"1.52\",\"1.53\",\"1.54\",\"1.55\",\"1.56\",\"1.57\",\"1.58\",\"1.59\",\"1.6\",\"1.61\",\"1.62\",\"1.63\",\"1.64\",\"1.65\",\"1.66\",\"1.67\",\"1.68\",\"1.69\",\"1.7\",\"1.71\",\"1.72\",\"1.73\",\"1.74\",\"1.75\",\"1.76\",\"1.77\",\"1.78\",\"1.79\",\"1.8\",\"1.81\",\"1.82\",\"1.83\",\"1.84\",\"1.85\",\"1.86\",\"1.87\",\"1.88\",\"1.89\",\"1.9\",\"1.91\",\"1.92\",\"1.93\",\"1.94\",\"1.95\",\"1.96\",\"1.97\",\"1.98\",\"1.99\",\"2.0\",\"2.01\",\"2.02\",\"2.03\",\"2.04\",\"2.05\",\"2.06\",\"2.07\",\"2.08\",\"2.09\",\"2.1\",\"2.11\",\"2.12\",\"2.13\",\"2.14\",\"2.15\",\"2.16\",\"2.17\",\"2.18\",\"2.19\",\"2.2\",\"2.21\",\"2.22\",\"2.23\",\"2.24\",\"2.25\",\"2.26\",\"2.27\",\"2.28\",\"2.29\",\"2.3\",\"2.31\",\"2.32\",\"2.33\",\"2.34\",\"2.35\",\"2.36\",\"2.37\",\"2.38\",\"2.39\",\"2.4\",\"2.41\",\"2.42\",\"2.43\",\"2.44\",\"2.45\",\"2.46\",\"2.47\",\"2.48\",\"2.49\",\"2.5\",\"2.51\",\"2.52\",\"2.53\",\"2.54\",\"2.55\",\"2.56\",\"2.57\",\"2.58\",\"2.59\",\"2.6\",\"2.61\",\"2.62\",\"2.63\",\"2.64\",\"2.65\",\"2.66\",\"2.67\",\"2.68\",\"2.69\",\"2.7\",\"2.71\",\"2.72\",\"2.73\",\"2.74\",\"2.75\",\"2.76\",\"2.77\",\"2.78\",\"2.79\",\"2.8\",\"2.81\",\"2.82\",\"2.83\",\"2.84\",\"2.85\",\"2.86\",\"2.87\",\"2.88\",\"2.89\",\"2.9\",\"2.91\",\"2.92\",\"2.93\",\"2.94\",\"2.95\",\"2.96\",\"2.97\",\"2.98\",\"2.99\",\"3.0\"],\"changes\":WebIO.getval({\"name\":\"changes\",\"scope\":\"1132875407272265265\",\"id\":\"ob_03\",\"type\":\"observable\"}),\"index\":WebIO.getval({\"name\":\"index\",\"scope\":\"1132875407272265265\",\"id\":\"ob_02\",\"type\":\"observable\"})};\n    var self = this;\n    function AppViewModel() {\n        for (var key in json_data) {\n            var el = json_data[key];\n            this[key] = Array.isArray(el) ? ko.observableArray(el) : ko.observable(el);\n        }\n        \n        [this[\"formatted_val\"]=ko.computed(    function(){\n        return this.formatted_vals()[parseInt(this.index())-(1)];\n    }\n,this)]\n        [this[\"changes\"].subscribe((function (val){!(this.valueFromJulia[\"changes\"]) ? (WebIO.setval({\"name\":\"changes\",\"scope\":\"1132875407272265265\",\"id\":\"ob_03\",\"type\":\"observable\"},val)) : undefined; return this.valueFromJulia[\"changes\"]=false}),self),this[\"index\"].subscribe((function (val){!(this.valueFromJulia[\"index\"]) ? (WebIO.setval({\"name\":\"index\",\"scope\":\"1132875407272265265\",\"id\":\"ob_02\",\"type\":\"observable\"},val)) : undefined; return this.valueFromJulia[\"index\"]=false}),self)]\n        \n    }\n    self.model = new AppViewModel();\n    self.valueFromJulia = {};\n    for (var key in json_data) {\n        self.valueFromJulia[key] = false;\n    }\n    ko.applyBindings(self.model, self.dom);\n}\n);\n    (WebIO.importBlock({\"data\":[{\"name\":\"knockout\",\"type\":\"js\",\"url\":\"/assetserver/1418600122391479348d6b70f8fc3978f3015b35-knockout.js\"},{\"name\":\"knockout_punches\",\"type\":\"js\",\"url\":\"/assetserver/cd3f841ffabd7ce8124a19658c02643a3dce952c-knockout_punches.js\"}],\"type\":\"async_block\"})).then((imports) => handler.apply(this, imports));\n}\n"
            ],
            "observables": {
             "changes": {
              "id": "ob_03",
              "sync": false,
              "value": 0
             },
             "index": {
              "id": "ob_02",
              "sync": true,
              "value": 150
             }
            },
            "systemjs_options": null
           },
           "nodeType": "Scope",
           "props": {},
           "type": "node"
          }
         ],
         "instanceArgs": {
          "namespace": "html",
          "tag": "div"
         },
         "nodeType": "DOM",
         "props": {
          "className": "field interact-widget"
         },
         "type": "node"
        },
        {
         "children": [
          {
           "children": [
            {
             "children": [
              {
               "children": [
                {
                 "children": [
                  "t"
                 ],
                 "instanceArgs": {
                  "namespace": "html",
                  "tag": "label"
                 },
                 "nodeType": "DOM",
                 "props": {
                  "className": "interact ",
                  "style": {
                   "padding": "5px 10px 0px 10px"
                  }
                 },
                 "type": "node"
                }
               ],
               "instanceArgs": {
                "namespace": "html",
                "tag": "div"
               },
               "nodeType": "DOM",
               "props": {
                "className": "interact-flex-row-left"
               },
               "type": "node"
              },
              {
               "children": [
                {
                 "children": [],
                 "instanceArgs": {
                  "namespace": "html",
                  "tag": "input"
                 },
                 "nodeType": "DOM",
                 "props": {
                  "attributes": {
                   "data-bind": "numericValue: index, valueUpdate: 'input', event: {change: function (){this.changes(this.changes()+1)}}",
                   "orient": "horizontal",
                   "type": "range"
                  },
                  "className": "slider slider is-fullwidth",
                  "max": 20,
                  "min": 5,
                  "step": 1,
                  "style": {}
                 },
                 "type": "node"
                }
               ],
               "instanceArgs": {
                "namespace": "html",
                "tag": "div"
               },
               "nodeType": "DOM",
               "props": {
                "className": "interact-flex-row-center"
               },
               "type": "node"
              },
              {
               "children": [
                {
                 "children": [],
                 "instanceArgs": {
                  "namespace": "html",
                  "tag": "p"
                 },
                 "nodeType": "DOM",
                 "props": {
                  "attributes": {
                   "data-bind": "text: formatted_val"
                  }
                 },
                 "type": "node"
                }
               ],
               "instanceArgs": {
                "namespace": "html",
                "tag": "div"
               },
               "nodeType": "DOM",
               "props": {
                "className": "interact-flex-row-right"
               },
               "type": "node"
              }
             ],
             "instanceArgs": {
              "namespace": "html",
              "tag": "div"
             },
             "nodeType": "DOM",
             "props": {
              "className": "interact-flex-row interact-widget"
             },
             "type": "node"
            }
           ],
           "instanceArgs": {
            "handlers": {
             "changes": [
              "(function (val){return (val!=this.model[\"changes\"]()) ? (this.valueFromJulia[\"changes\"]=true, this.model[\"changes\"](val)) : undefined})"
             ],
             "index": [
              "(function (val){return (val!=this.model[\"index\"]()) ? (this.valueFromJulia[\"index\"]=true, this.model[\"index\"](val)) : undefined})"
             ]
            },
            "id": "13640931925240108790",
            "imports": {
             "data": [
              {
               "name": "knockout",
               "type": "js",
               "url": "/assetserver/1418600122391479348d6b70f8fc3978f3015b35-knockout.js"
              },
              {
               "name": "knockout_punches",
               "type": "js",
               "url": "/assetserver/cd3f841ffabd7ce8124a19658c02643a3dce952c-knockout_punches.js"
              },
              {
               "name": null,
               "type": "js",
               "url": "/assetserver/ac53a1d0dfbe96bbdab46a2c15a1a1f5029edf92-all.js"
              },
              {
               "name": null,
               "type": "css",
               "url": "/assetserver/a90858055ce62250f15db56d945919371e115fff-style.css"
              },
              {
               "name": null,
               "type": "css",
               "url": "/assetserver/901695cb7baff74a76878a59f7f01c86f6c24ff1-bulma_confined.min.css"
              }
             ],
             "type": "async_block"
            },
            "mount_callbacks": [
             "function () {\n    var handler = (function (ko, koPunches) {\n    ko.punches.enableAll();\n    ko.bindingHandlers.numericValue = {\n        init: function(element, valueAccessor, allBindings, data, context) {\n            var stringified = ko.observable(ko.unwrap(valueAccessor()));\n            stringified.subscribe(function(value) {\n                var val = parseFloat(value);\n                if (!isNaN(val)) {\n                    valueAccessor()(val);\n                }\n            });\n            valueAccessor().subscribe(function(value) {\n                var str = JSON.stringify(value);\n                if ((str == \"0\") && ([\"-0\", \"-0.\"].indexOf(stringified()) >= 0))\n                     return;\n                 if ([\"null\", \"\"].indexOf(str) >= 0)\n                     return;\n                stringified(str);\n            });\n            ko.applyBindingsToNode(\n                element,\n                {\n                    value: stringified,\n                    valueUpdate: allBindings.get('valueUpdate'),\n                },\n                context,\n            );\n        }\n    };\n    var json_data = {\"formatted_vals\":[\"5\",\"6\",\"7\",\"8\",\"9\",\"10\",\"11\",\"12\",\"13\",\"14\",\"15\",\"16\",\"17\",\"18\",\"19\",\"20\"],\"changes\":WebIO.getval({\"name\":\"changes\",\"scope\":\"13640931925240108790\",\"id\":\"ob_05\",\"type\":\"observable\"}),\"index\":WebIO.getval({\"name\":\"index\",\"scope\":\"13640931925240108790\",\"id\":\"ob_04\",\"type\":\"observable\"})};\n    var self = this;\n    function AppViewModel() {\n        for (var key in json_data) {\n            var el = json_data[key];\n            this[key] = Array.isArray(el) ? ko.observableArray(el) : ko.observable(el);\n        }\n        \n        [this[\"formatted_val\"]=ko.computed(    function(){\n        return this.formatted_vals()[parseInt(this.index())-(5)];\n    }\n,this)]\n        [this[\"changes\"].subscribe((function (val){!(this.valueFromJulia[\"changes\"]) ? (WebIO.setval({\"name\":\"changes\",\"scope\":\"13640931925240108790\",\"id\":\"ob_05\",\"type\":\"observable\"},val)) : undefined; return this.valueFromJulia[\"changes\"]=false}),self),this[\"index\"].subscribe((function (val){!(this.valueFromJulia[\"index\"]) ? (WebIO.setval({\"name\":\"index\",\"scope\":\"13640931925240108790\",\"id\":\"ob_04\",\"type\":\"observable\"},val)) : undefined; return this.valueFromJulia[\"index\"]=false}),self)]\n        \n    }\n    self.model = new AppViewModel();\n    self.valueFromJulia = {};\n    for (var key in json_data) {\n        self.valueFromJulia[key] = false;\n    }\n    ko.applyBindings(self.model, self.dom);\n}\n);\n    (WebIO.importBlock({\"data\":[{\"name\":\"knockout\",\"type\":\"js\",\"url\":\"/assetserver/1418600122391479348d6b70f8fc3978f3015b35-knockout.js\"},{\"name\":\"knockout_punches\",\"type\":\"js\",\"url\":\"/assetserver/cd3f841ffabd7ce8124a19658c02643a3dce952c-knockout_punches.js\"}],\"type\":\"async_block\"})).then((imports) => handler.apply(this, imports));\n}\n"
            ],
            "observables": {
             "changes": {
              "id": "ob_05",
              "sync": false,
              "value": 0
             },
             "index": {
              "id": "ob_04",
              "sync": true,
              "value": 12
             }
            },
            "systemjs_options": null
           },
           "nodeType": "Scope",
           "props": {},
           "type": "node"
          }
         ],
         "instanceArgs": {
          "namespace": "html",
          "tag": "div"
         },
         "nodeType": "DOM",
         "props": {
          "className": "field interact-widget"
         },
         "type": "node"
        },
        {
         "children": [
          {
           "children": [],
           "instanceArgs": {
            "id": "ob_11",
            "name": "obs-node"
           },
           "nodeType": "ObservableNode",
           "props": {},
           "type": "node"
          }
         ],
         "instanceArgs": {
          "handlers": {},
          "id": "14430178850151559137",
          "imports": {
           "data": [],
           "type": "async_block"
          },
          "mount_callbacks": [],
          "observables": {
           "obs-node": {
            "id": "ob_11",
            "sync": false,
            "value": {
             "children": [
              {
               "children": [],
               "instanceArgs": {
                "namespace": "html",
                "tag": "div"
               },
               "nodeType": "DOM",
               "props": {
                "setInnerHtml": "<?xml version=\"1.0\" encoding=\"utf-8\"?>\n<svg xmlns=\"http://www.w3.org/2000/svg\" xmlns:xlink=\"http://www.w3.org/1999/xlink\" width=\"900\" height=\"300\" viewBox=\"0 0 3600 1200\">\n<defs>\n  <clipPath id=\"clip3900\">\n    <rect x=\"0\" y=\"0\" width=\"3600\" height=\"1200\"/>\n  </clipPath>\n</defs>\n<polygon clip-path=\"url(#clip3900)\" points=\"\n0,1200 3600,1200 3600,0 0,0 \n  \" fill=\"#ffffff\" fill-rule=\"evenodd\" fill-opacity=\"1\"/>\n<defs>\n  <clipPath id=\"clip3901\">\n    <rect x=\"720\" y=\"0\" width=\"2521\" height=\"1200\"/>\n  </clipPath>\n</defs>\n<polygon clip-path=\"url(#clip3900)\" points=\"\n165.898,1108.24 1738.7,1108.24 1738.7,92.3336 165.898,92.3336 \n  \" fill=\"#ffffff\" fill-rule=\"evenodd\" fill-opacity=\"1\"/>\n<defs>\n  <clipPath id=\"clip3902\">\n    <rect x=\"165\" y=\"92\" width=\"1574\" height=\"1017\"/>\n  </clipPath>\n</defs>\n<polyline clip-path=\"url(#clip3902)\" style=\"stroke:#000000; stroke-width:2; stroke-opacity:0.1; fill:none\" points=\"\n  503.856,1108.24 503.856,92.3336 \n  \"/>\n<polyline clip-path=\"url(#clip3902)\" style=\"stroke:#000000; stroke-width:2; stroke-opacity:0.1; fill:none\" points=\"\n  828.815,1108.24 828.815,92.3336 \n  \"/>\n<polyline clip-path=\"url(#clip3902)\" style=\"stroke:#000000; stroke-width:2; stroke-opacity:0.1; fill:none\" points=\"\n  1153.77,1108.24 1153.77,92.3336 \n  \"/>\n<polyline clip-path=\"url(#clip3902)\" style=\"stroke:#000000; stroke-width:2; stroke-opacity:0.1; fill:none\" points=\"\n  1478.73,1108.24 1478.73,92.3336 \n  \"/>\n<polyline clip-path=\"url(#clip3902)\" style=\"stroke:#000000; stroke-width:2; stroke-opacity:0.1; fill:none\" points=\"\n  165.898,817.982 1738.7,817.982 \n  \"/>\n<polyline clip-path=\"url(#clip3902)\" style=\"stroke:#000000; stroke-width:2; stroke-opacity:0.1; fill:none\" points=\"\n  165.898,576.099 1738.7,576.099 \n  \"/>\n<polyline clip-path=\"url(#clip3902)\" style=\"stroke:#000000; stroke-width:2; stroke-opacity:0.1; fill:none\" points=\"\n  165.898,334.216 1738.7,334.216 \n  \"/>\n<polyline clip-path=\"url(#clip3902)\" style=\"stroke:#000000; stroke-width:2; stroke-opacity:0.1; fill:none\" points=\"\n  165.898,92.3336 1738.7,92.3336 \n  \"/>\n<polyline clip-path=\"url(#clip3900)\" style=\"stroke:#000000; stroke-width:4; stroke-opacity:1; fill:none\" points=\"\n  165.898,1059.86 1738.7,1059.86 \n  \"/>\n<polyline clip-path=\"url(#clip3900)\" style=\"stroke:#000000; stroke-width:4; stroke-opacity:1; fill:none\" points=\"\n  178.896,1108.24 178.896,92.3336 \n  \"/>\n<polyline clip-path=\"url(#clip3900)\" style=\"stroke:#000000; stroke-width:4; stroke-opacity:1; fill:none\" points=\"\n  503.856,1059.86 503.856,1044.63 \n  \"/>\n<polyline clip-path=\"url(#clip3900)\" style=\"stroke:#000000; stroke-width:4; stroke-opacity:1; fill:none\" points=\"\n  828.815,1059.86 828.815,1044.63 \n  \"/>\n<polyline clip-path=\"url(#clip3900)\" style=\"stroke:#000000; stroke-width:4; stroke-opacity:1; fill:none\" points=\"\n  1153.77,1059.86 1153.77,1044.63 \n  \"/>\n<polyline clip-path=\"url(#clip3900)\" style=\"stroke:#000000; stroke-width:4; stroke-opacity:1; fill:none\" points=\"\n  1478.73,1059.86 1478.73,1044.63 \n  \"/>\n<polyline clip-path=\"url(#clip3900)\" style=\"stroke:#000000; stroke-width:4; stroke-opacity:1; fill:none\" points=\"\n  178.896,817.982 202.488,817.982 \n  \"/>\n<polyline clip-path=\"url(#clip3900)\" style=\"stroke:#000000; stroke-width:4; stroke-opacity:1; fill:none\" points=\"\n  178.896,576.099 202.488,576.099 \n  \"/>\n<polyline clip-path=\"url(#clip3900)\" style=\"stroke:#000000; stroke-width:4; stroke-opacity:1; fill:none\" points=\"\n  178.896,334.216 202.488,334.216 \n  \"/>\n<polyline clip-path=\"url(#clip3900)\" style=\"stroke:#000000; stroke-width:4; stroke-opacity:1; fill:none\" points=\"\n  178.896,92.3336 202.488,92.3336 \n  \"/>\n<g clip-path=\"url(#clip3900)\">\n<text style=\"fill:#000000; fill-opacity:1; font-family:Arial,Helvetica Neue,Helvetica,sans-serif; font-size:48px; text-anchor:middle;\" transform=\"rotate(0, 503.856, 1119.86)\" x=\"503.856\" y=\"1119.86\">2.5</text>\n</g>\n<g clip-path=\"url(#clip3900)\">\n<text style=\"fill:#000000; fill-opacity:1; font-family:Arial,Helvetica Neue,Helvetica,sans-serif; font-size:48px; text-anchor:middle;\" transform=\"rotate(0, 828.815, 1119.86)\" x=\"828.815\" y=\"1119.86\">5.0</text>\n</g>\n<g clip-path=\"url(#clip3900)\">\n<text style=\"fill:#000000; fill-opacity:1; font-family:Arial,Helvetica Neue,Helvetica,sans-serif; font-size:48px; text-anchor:middle;\" transform=\"rotate(0, 1153.77, 1119.86)\" x=\"1153.77\" y=\"1119.86\">7.5</text>\n</g>\n<g clip-path=\"url(#clip3900)\">\n<text style=\"fill:#000000; fill-opacity:1; font-family:Arial,Helvetica Neue,Helvetica,sans-serif; font-size:48px; text-anchor:middle;\" transform=\"rotate(0, 1478.73, 1119.86)\" x=\"1478.73\" y=\"1119.86\">10.0</text>\n</g>\n<g clip-path=\"url(#clip3900)\">\n<text style=\"fill:#000000; fill-opacity:1; font-family:Arial,Helvetica Neue,Helvetica,sans-serif; font-size:48px; text-anchor:end;\" transform=\"rotate(0, 142.896, 835.482)\" x=\"142.896\" y=\"835.482\">0.5</text>\n</g>\n<g clip-path=\"url(#clip3900)\">\n<text style=\"fill:#000000; fill-opacity:1; font-family:Arial,Helvetica Neue,Helvetica,sans-serif; font-size:48px; text-anchor:end;\" transform=\"rotate(0, 142.896, 593.599)\" x=\"142.896\" y=\"593.599\">1.0</text>\n</g>\n<g clip-path=\"url(#clip3900)\">\n<text style=\"fill:#000000; fill-opacity:1; font-family:Arial,Helvetica Neue,Helvetica,sans-serif; font-size:48px; text-anchor:end;\" transform=\"rotate(0, 142.896, 351.716)\" x=\"142.896\" y=\"351.716\">1.5</text>\n</g>\n<g clip-path=\"url(#clip3900)\">\n<text style=\"fill:#000000; fill-opacity:1; font-family:Arial,Helvetica Neue,Helvetica,sans-serif; font-size:48px; text-anchor:end;\" transform=\"rotate(0, 142.896, 109.834)\" x=\"142.896\" y=\"109.834\">2.0</text>\n</g>\n<g clip-path=\"url(#clip3900)\">\n<text style=\"fill:#000000; fill-opacity:1; font-family:Arial,Helvetica Neue,Helvetica,sans-serif; font-size:82px; text-anchor:middle;\" transform=\"rotate(0, 952.299, 72)\" x=\"952.299\" y=\"72\">Respuesta a escalon unitario</text>\n</g>\n<polyline clip-path=\"url(#clip3902)\" style=\"stroke:#cc1414; stroke-width:4; stroke-opacity:1; fill:none\" points=\"\n  178.896,1059.86 185.396,1059.86 191.895,1059.86 198.394,1059.86 204.893,1059.85 211.392,1059.85 217.891,1059.84 224.391,1059.83 230.89,1059.82 237.389,1059.81 \n  243.888,1059.8 250.387,1059.79 256.887,1059.78 263.386,1059.77 269.885,1059.76 276.384,1059.75 282.883,1059.75 289.382,1059.75 295.882,1059.75 302.381,1059.75 \n  308.88,1059.75 315.379,1059.76 321.878,1059.76 328.378,1059.77 334.877,1059.79 341.376,1059.8 347.875,1059.81 354.374,1059.83 360.874,1059.84 367.373,1059.86 \n  373.872,1059.87 380.371,1059.89 386.87,1059.9 393.369,1059.91 399.869,1059.91 406.368,1059.92 412.867,1059.92 419.366,1059.92 425.865,1059.91 432.365,1059.9 \n  438.864,1059.89 445.363,1059.88 451.862,1059.86 458.361,1059.84 464.861,1059.82 471.36,1059.8 477.859,1059.77 484.358,1059.75 490.857,1059.73 497.356,1059.71 \n  503.856,1059.7 510.355,1059.68 516.854,1059.67 523.353,1059.67 529.852,1059.67 536.352,1059.67 542.851,1059.68 549.35,1059.69 555.849,1059.71 562.348,1059.73 \n  568.847,1059.76 575.347,1059.79 581.846,1059.82 588.345,1059.85 594.844,1059.88 601.343,1059.91 607.843,1059.94 614.342,1059.97 620.841,1059.99 627.34,1060.01 \n  633.839,1060.02 640.339,1060.03 646.838,1060.03 653.337,1060.02 659.836,1060.01 666.335,1059.99 672.834,1059.97 679.334,1059.93 685.833,1059.9 692.332,1059.85 \n  698.831,1059.81 705.33,1059.76 711.83,1059.72 718.329,1059.67 724.828,1059.63 731.327,1059.59 737.826,1059.56 744.325,1059.53 750.825,1059.51 757.324,1059.51 \n  763.823,1059.51 770.322,1059.52 776.821,1059.54 783.321,1059.57 789.82,1059.6 796.319,1059.65 802.818,1059.71 809.317,1059.77 815.817,1059.83 822.316,1059.9 \n  828.815,1059.97 835.314,1060.03 841.813,1060.09 848.312,1060.15 854.812,1060.2 861.311,1060.23 867.81,1060.26 874.309,1060.27 880.808,1060.27 887.308,1060.25 \n  893.807,1060.22 900.306,1060.17 906.805,1060.12 913.304,1060.05 919.803,1059.97 926.303,1059.88 932.802,1059.78 939.301,1059.68 945.8,1059.59 952.299,1059.49 \n  958.799,1059.41 965.298,1059.33 971.797,1059.26 978.296,1059.21 984.795,1059.17 991.295,1059.16 997.794,1059.16 1004.29,1059.19 1010.79,1059.24 1017.29,1059.3 \n  1023.79,1059.39 1030.29,1059.49 1036.79,1059.61 1043.29,1059.74 1049.79,1059.88 1056.29,1060.02 1062.79,1060.16 1069.28,1060.3 1075.78,1060.43 1082.28,1060.54 \n  1088.78,1060.63 1095.28,1060.71 1101.78,1060.75 1108.28,1060.77 1114.78,1060.76 1121.28,1060.72 1127.78,1060.65 1134.28,1060.55 1140.78,1060.42 1147.27,1060.27 \n  1153.77,1060.09 1160.27,1059.9 1166.77,1059.7 1173.27,1059.5 1179.77,1059.29 1186.27,1059.09 1192.77,1058.91 1199.27,1058.75 1205.77,1058.62 1212.27,1058.52 \n  1218.77,1058.45 1225.27,1058.43 1231.76,1058.45 1238.26,1058.51 1244.76,1058.62 1251.26,1058.77 1257.76,1058.96 1264.26,1059.19 1270.76,1059.44 1277.26,1059.72 \n  1283.76,1060.01 1290.26,1060.31 1296.76,1060.61 1303.26,1060.89 1309.75,1061.16 1316.25,1061.39 1322.75,1061.58 1329.25,1061.72 1335.75,1061.8 1342.25,1061.83 \n  1348.75,1061.8 1355.25,1061.7 1361.75,1061.53 1368.25,1061.31 1374.75,1061.03 1381.25,1060.69 1387.74,1060.32 1394.24,1059.91 1400.74,1059.48 1407.24,1059.05 \n  1413.74,1058.62 1420.24,1058.21 1426.74,1057.83 1433.24,1057.51 1439.74,1057.24 1446.24,1057.04 1452.74,1056.92 1459.24,1056.89 1465.74,1056.95 1472.23,1057.1 \n  1478.73,1057.35 1485.23,1057.69 1491.73,1058.11 1498.23,1058.6 1504.73,1059.15 1511.23,1059.74 1517.73,1060.37 1524.23,1061 1530.73,1061.62 1537.23,1062.21 \n  1543.73,1062.75 1550.22,1063.22 1556.72,1063.6 1563.22,1063.87 1569.72,1064.03 1576.22,1064.06 1582.72,1063.96 1589.22,1063.72 1595.72,1063.35 1602.22,1062.85 \n  1608.72,1062.23 1615.22,1061.51 1621.72,1060.7 1628.21,1059.83 1634.71,1058.92 1641.21,1058.01 1647.71,1057.11 1654.21,1056.26 1660.71,1055.48 1667.21,1054.81 \n  1673.71,1054.28 1680.21,1053.89 1686.71,1053.68 1693.21,1053.65 1699.71,1053.82 1706.2,1054.19 1712.7,1054.75 1719.2,1055.5 1725.7,1056.41 1732.2,1057.48 \n  1738.7,1058.66 \n  \"/>\n<polygon clip-path=\"url(#clip3900)\" points=\"\n1979.95,1108.24 3552.76,1108.24 3552.76,92.3336 1979.95,92.3336 \n  \" fill=\"#ffffff\" fill-rule=\"evenodd\" fill-opacity=\"1\"/>\n<defs>\n  <clipPath id=\"clip3903\">\n    <rect x=\"1979\" y=\"92\" width=\"1574\" height=\"1017\"/>\n  </clipPath>\n</defs>\n<polyline clip-path=\"url(#clip3903)\" style=\"stroke:#000000; stroke-width:2; stroke-opacity:0.1; fill:none\" points=\"\n  1979.95,1108.24 1979.95,92.3336 \n  \"/>\n<polyline clip-path=\"url(#clip3903)\" style=\"stroke:#000000; stroke-width:2; stroke-opacity:0.1; fill:none\" points=\"\n  2242.09,1108.24 2242.09,92.3336 \n  \"/>\n<polyline clip-path=\"url(#clip3903)\" style=\"stroke:#000000; stroke-width:2; stroke-opacity:0.1; fill:none\" points=\"\n  2504.22,1108.24 2504.22,92.3336 \n  \"/>\n<polyline clip-path=\"url(#clip3903)\" style=\"stroke:#000000; stroke-width:2; stroke-opacity:0.1; fill:none\" points=\"\n  2766.35,1108.24 2766.35,92.3336 \n  \"/>\n<polyline clip-path=\"url(#clip3903)\" style=\"stroke:#000000; stroke-width:2; stroke-opacity:0.1; fill:none\" points=\"\n  3028.49,1108.24 3028.49,92.3336 \n  \"/>\n<polyline clip-path=\"url(#clip3903)\" style=\"stroke:#000000; stroke-width:2; stroke-opacity:0.1; fill:none\" points=\"\n  3552.76,1108.24 3552.76,92.3336 \n  \"/>\n<polyline clip-path=\"url(#clip3903)\" style=\"stroke:#000000; stroke-width:2; stroke-opacity:0.1; fill:none\" points=\"\n  1979.95,1108.24 3552.76,1108.24 \n  \"/>\n<polyline clip-path=\"url(#clip3903)\" style=\"stroke:#000000; stroke-width:2; stroke-opacity:0.1; fill:none\" points=\"\n  1979.95,854.264 3552.76,854.264 \n  \"/>\n<polyline clip-path=\"url(#clip3903)\" style=\"stroke:#000000; stroke-width:2; stroke-opacity:0.1; fill:none\" points=\"\n  1979.95,346.311 3552.76,346.311 \n  \"/>\n<polyline clip-path=\"url(#clip3903)\" style=\"stroke:#000000; stroke-width:2; stroke-opacity:0.1; fill:none\" points=\"\n  1979.95,92.3336 3552.76,92.3336 \n  \"/>\n<polyline clip-path=\"url(#clip3900)\" style=\"stroke:#000000; stroke-width:4; stroke-opacity:1; fill:none\" points=\"\n  1979.95,600.287 3552.76,600.287 \n  \"/>\n<polyline clip-path=\"url(#clip3900)\" style=\"stroke:#000000; stroke-width:4; stroke-opacity:1; fill:none\" points=\"\n  3290.62,1108.24 3290.62,92.3336 \n  \"/>\n<polyline clip-path=\"url(#clip3900)\" style=\"stroke:#000000; stroke-width:4; stroke-opacity:1; fill:none\" points=\"\n  1979.95,600.287 1979.95,585.049 \n  \"/>\n<polyline clip-path=\"url(#clip3900)\" style=\"stroke:#000000; stroke-width:4; stroke-opacity:1; fill:none\" points=\"\n  2242.09,600.287 2242.09,585.049 \n  \"/>\n<polyline clip-path=\"url(#clip3900)\" style=\"stroke:#000000; stroke-width:4; stroke-opacity:1; fill:none\" points=\"\n  2504.22,600.287 2504.22,585.049 \n  \"/>\n<polyline clip-path=\"url(#clip3900)\" style=\"stroke:#000000; stroke-width:4; stroke-opacity:1; fill:none\" points=\"\n  2766.35,600.287 2766.35,585.049 \n  \"/>\n<polyline clip-path=\"url(#clip3900)\" style=\"stroke:#000000; stroke-width:4; stroke-opacity:1; fill:none\" points=\"\n  3028.49,600.287 3028.49,585.049 \n  \"/>\n<polyline clip-path=\"url(#clip3900)\" style=\"stroke:#000000; stroke-width:4; stroke-opacity:1; fill:none\" points=\"\n  3552.76,600.287 3552.76,585.049 \n  \"/>\n<polyline clip-path=\"url(#clip3900)\" style=\"stroke:#000000; stroke-width:4; stroke-opacity:1; fill:none\" points=\"\n  3290.62,1108.24 3314.21,1108.24 \n  \"/>\n<polyline clip-path=\"url(#clip3900)\" style=\"stroke:#000000; stroke-width:4; stroke-opacity:1; fill:none\" points=\"\n  3290.62,854.264 3314.21,854.264 \n  \"/>\n<polyline clip-path=\"url(#clip3900)\" style=\"stroke:#000000; stroke-width:4; stroke-opacity:1; fill:none\" points=\"\n  3290.62,346.311 3314.21,346.311 \n  \"/>\n<polyline clip-path=\"url(#clip3900)\" style=\"stroke:#000000; stroke-width:4; stroke-opacity:1; fill:none\" points=\"\n  3290.62,92.3336 3314.21,92.3336 \n  \"/>\n<g clip-path=\"url(#clip3900)\">\n<text style=\"fill:#000000; fill-opacity:1; font-family:Arial,Helvetica Neue,Helvetica,sans-serif; font-size:48px; text-anchor:middle;\" transform=\"rotate(0, 1979.95, 660.287)\" x=\"1979.95\" y=\"660.287\">-5</text>\n</g>\n<g clip-path=\"url(#clip3900)\">\n<text style=\"fill:#000000; fill-opacity:1; font-family:Arial,Helvetica Neue,Helvetica,sans-serif; font-size:48px; text-anchor:middle;\" transform=\"rotate(0, 2242.09, 660.287)\" x=\"2242.09\" y=\"660.287\">-4</text>\n</g>\n<g clip-path=\"url(#clip3900)\">\n<text style=\"fill:#000000; fill-opacity:1; font-family:Arial,Helvetica Neue,Helvetica,sans-serif; font-size:48px; text-anchor:middle;\" transform=\"rotate(0, 2504.22, 660.287)\" x=\"2504.22\" y=\"660.287\">-3</text>\n</g>\n<g clip-path=\"url(#clip3900)\">\n<text style=\"fill:#000000; fill-opacity:1; font-family:Arial,Helvetica Neue,Helvetica,sans-serif; font-size:48px; text-anchor:middle;\" transform=\"rotate(0, 2766.35, 660.287)\" x=\"2766.35\" y=\"660.287\">-2</text>\n</g>\n<g clip-path=\"url(#clip3900)\">\n<text style=\"fill:#000000; fill-opacity:1; font-family:Arial,Helvetica Neue,Helvetica,sans-serif; font-size:48px; text-anchor:middle;\" transform=\"rotate(0, 3028.49, 660.287)\" x=\"3028.49\" y=\"660.287\">-1</text>\n</g>\n<g clip-path=\"url(#clip3900)\">\n<text style=\"fill:#000000; fill-opacity:1; font-family:Arial,Helvetica Neue,Helvetica,sans-serif; font-size:48px; text-anchor:middle;\" transform=\"rotate(0, 3552.76, 660.287)\" x=\"3552.76\" y=\"660.287\">1</text>\n</g>\n<g clip-path=\"url(#clip3900)\">\n<text style=\"fill:#000000; fill-opacity:1; font-family:Arial,Helvetica Neue,Helvetica,sans-serif; font-size:48px; text-anchor:end;\" transform=\"rotate(0, 3254.62, 1125.74)\" x=\"3254.62\" y=\"1125.74\">-5.0</text>\n</g>\n<g clip-path=\"url(#clip3900)\">\n<text style=\"fill:#000000; fill-opacity:1; font-family:Arial,Helvetica Neue,Helvetica,sans-serif; font-size:48px; text-anchor:end;\" transform=\"rotate(0, 3254.62, 871.764)\" x=\"3254.62\" y=\"871.764\">-2.5</text>\n</g>\n<g clip-path=\"url(#clip3900)\">\n<text style=\"fill:#000000; fill-opacity:1; font-family:Arial,Helvetica Neue,Helvetica,sans-serif; font-size:48px; text-anchor:end;\" transform=\"rotate(0, 3254.62, 363.811)\" x=\"3254.62\" y=\"363.811\">2.5</text>\n</g>\n<g clip-path=\"url(#clip3900)\">\n<text style=\"fill:#000000; fill-opacity:1; font-family:Arial,Helvetica Neue,Helvetica,sans-serif; font-size:48px; text-anchor:end;\" transform=\"rotate(0, 3254.62, 109.834)\" x=\"3254.62\" y=\"109.834\">5.0</text>\n</g>\n<g clip-path=\"url(#clip3900)\">\n<text style=\"fill:#000000; fill-opacity:1; font-family:Arial,Helvetica Neue,Helvetica,sans-serif; font-size:82px; text-anchor:middle;\" transform=\"rotate(0, 2766.35, 72)\" x=\"2766.35\" y=\"72\">Lugar geométrico de las raices</text>\n</g>\n<polyline clip-path=\"url(#clip3903)\" style=\"stroke:#009af9; stroke-width:4; stroke-opacity:1; fill:none\" points=\"\n  3399.84,956.98 3399.84,956.98 3399.84,956.982 3399.84,956.998 3399.84,957.108 3399.84,957.932 3399.84,960.423 3399.84,964.569 \n  \"/>\n<polyline clip-path=\"url(#clip3903)\" style=\"stroke:#e26f46; stroke-width:4; stroke-opacity:1; fill:none\" points=\"\n  3399.84,243.595 3399.84,243.595 3399.84,243.593 3399.84,243.577 3399.84,243.466 3399.84,242.643 3399.84,240.152 3399.84,236.006 \n  \"/>\n<line clip-path=\"url(#clip3903)\" x1=\"3399.84\" y1=\"956.98\" x2=\"3355.84\" y2=\"1000.98\" style=\"stroke:#000000; stroke-width:4; stroke-opacity:1\"/>\n<line clip-path=\"url(#clip3903)\" x1=\"3399.84\" y1=\"956.98\" x2=\"3355.84\" y2=\"912.98\" style=\"stroke:#000000; stroke-width:4; stroke-opacity:1\"/>\n<line clip-path=\"url(#clip3903)\" x1=\"3399.84\" y1=\"956.98\" x2=\"3443.84\" y2=\"912.98\" style=\"stroke:#000000; stroke-width:4; stroke-opacity:1\"/>\n<line clip-path=\"url(#clip3903)\" x1=\"3399.84\" y1=\"956.98\" x2=\"3443.84\" y2=\"1000.98\" style=\"stroke:#000000; stroke-width:4; stroke-opacity:1\"/>\n<line clip-path=\"url(#clip3903)\" x1=\"3399.84\" y1=\"956.98\" x2=\"3359.84\" y2=\"996.98\" style=\"stroke:#c271d2; stroke-width:4; stroke-opacity:1\"/>\n<line clip-path=\"url(#clip3903)\" x1=\"3399.84\" y1=\"956.98\" x2=\"3359.84\" y2=\"916.98\" style=\"stroke:#c271d2; stroke-width:4; stroke-opacity:1\"/>\n<line clip-path=\"url(#clip3903)\" x1=\"3399.84\" y1=\"956.98\" x2=\"3439.84\" y2=\"916.98\" style=\"stroke:#c271d2; stroke-width:4; stroke-opacity:1\"/>\n<line clip-path=\"url(#clip3903)\" x1=\"3399.84\" y1=\"956.98\" x2=\"3439.84\" y2=\"996.98\" style=\"stroke:#c271d2; stroke-width:4; stroke-opacity:1\"/>\n<line clip-path=\"url(#clip3903)\" x1=\"3399.84\" y1=\"243.595\" x2=\"3355.84\" y2=\"287.595\" style=\"stroke:#000000; stroke-width:4; stroke-opacity:1\"/>\n<line clip-path=\"url(#clip3903)\" x1=\"3399.84\" y1=\"243.595\" x2=\"3355.84\" y2=\"199.595\" style=\"stroke:#000000; stroke-width:4; stroke-opacity:1\"/>\n<line clip-path=\"url(#clip3903)\" x1=\"3399.84\" y1=\"243.595\" x2=\"3443.84\" y2=\"199.595\" style=\"stroke:#000000; stroke-width:4; stroke-opacity:1\"/>\n<line clip-path=\"url(#clip3903)\" x1=\"3399.84\" y1=\"243.595\" x2=\"3443.84\" y2=\"287.595\" style=\"stroke:#000000; stroke-width:4; stroke-opacity:1\"/>\n<line clip-path=\"url(#clip3903)\" x1=\"3399.84\" y1=\"243.595\" x2=\"3359.84\" y2=\"283.595\" style=\"stroke:#c271d2; stroke-width:4; stroke-opacity:1\"/>\n<line clip-path=\"url(#clip3903)\" x1=\"3399.84\" y1=\"243.595\" x2=\"3359.84\" y2=\"203.595\" style=\"stroke:#c271d2; stroke-width:4; stroke-opacity:1\"/>\n<line clip-path=\"url(#clip3903)\" x1=\"3399.84\" y1=\"243.595\" x2=\"3439.84\" y2=\"203.595\" style=\"stroke:#c271d2; stroke-width:4; stroke-opacity:1\"/>\n<line clip-path=\"url(#clip3903)\" x1=\"3399.84\" y1=\"243.595\" x2=\"3439.84\" y2=\"283.595\" style=\"stroke:#c271d2; stroke-width:4; stroke-opacity:1\"/>\n</svg>\n"
               },
               "type": "node"
              }
             ],
             "instanceArgs": {
              "namespace": "html",
              "tag": "div"
             },
             "nodeType": "DOM",
             "props": {
              "className": "interact-flex-row interact-widget"
             },
             "type": "node"
            }
           }
          },
          "systemjs_options": null
         },
         "nodeType": "Scope",
         "props": {},
         "type": "node"
        }
       ],
       "instanceArgs": {
        "namespace": "html",
        "tag": "div"
       },
       "nodeType": "DOM",
       "props": {},
       "type": "node"
      },
      "text/html": [
       "<div\n",
       "    class=\"webio-mountpoint\"\n",
       "    data-webio-mountpoint=\"3864632893374618763\"\n",
       ">\n",
       "    <script>\n",
       "    if (window.require && require.defined && require.defined(\"nbextensions/webio/main\")) {\n",
       "        console.log(\"Jupyter WebIO extension detected, not mounting.\");\n",
       "    } else if (window.WebIO) {\n",
       "        WebIO.mount(\n",
       "            document.querySelector('[data-webio-mountpoint=\"3864632893374618763\"]'),\n",
       "            {\"props\":{},\"nodeType\":\"DOM\",\"type\":\"node\",\"instanceArgs\":{\"namespace\":\"html\",\"tag\":\"div\"},\"children\":[{\"props\":{\"className\":\"field interact-widget\"},\"nodeType\":\"DOM\",\"type\":\"node\",\"instanceArgs\":{\"namespace\":\"html\",\"tag\":\"div\"},\"children\":[{\"props\":{},\"nodeType\":\"Scope\",\"type\":\"node\",\"instanceArgs\":{\"imports\":{\"data\":[{\"name\":\"knockout\",\"type\":\"js\",\"url\":\"\\/assetserver\\/1418600122391479348d6b70f8fc3978f3015b35-knockout.js\"},{\"name\":\"knockout_punches\",\"type\":\"js\",\"url\":\"\\/assetserver\\/cd3f841ffabd7ce8124a19658c02643a3dce952c-knockout_punches.js\"},{\"name\":null,\"type\":\"js\",\"url\":\"\\/assetserver\\/ac53a1d0dfbe96bbdab46a2c15a1a1f5029edf92-all.js\"},{\"name\":null,\"type\":\"css\",\"url\":\"\\/assetserver\\/a90858055ce62250f15db56d945919371e115fff-style.css\"},{\"name\":null,\"type\":\"css\",\"url\":\"\\/assetserver\\/901695cb7baff74a76878a59f7f01c86f6c24ff1-bulma_confined.min.css\"}],\"type\":\"async_block\"},\"id\":\"1132875407272265265\",\"handlers\":{\"changes\":[\"(function (val){return (val!=this.model[\\\"changes\\\"]()) ? (this.valueFromJulia[\\\"changes\\\"]=true, this.model[\\\"changes\\\"](val)) : undefined})\"],\"index\":[\"(function (val){return (val!=this.model[\\\"index\\\"]()) ? (this.valueFromJulia[\\\"index\\\"]=true, this.model[\\\"index\\\"](val)) : undefined})\"]},\"systemjs_options\":null,\"mount_callbacks\":[\"function () {\\n    var handler = (function (ko, koPunches) {\\n    ko.punches.enableAll();\\n    ko.bindingHandlers.numericValue = {\\n        init: function(element, valueAccessor, allBindings, data, context) {\\n            var stringified = ko.observable(ko.unwrap(valueAccessor()));\\n            stringified.subscribe(function(value) {\\n                var val = parseFloat(value);\\n                if (!isNaN(val)) {\\n                    valueAccessor()(val);\\n                }\\n            });\\n            valueAccessor().subscribe(function(value) {\\n                var str = JSON.stringify(value);\\n                if ((str == \\\"0\\\") && ([\\\"-0\\\", \\\"-0.\\\"].indexOf(stringified()) >= 0))\\n                     return;\\n                 if ([\\\"null\\\", \\\"\\\"].indexOf(str) >= 0)\\n                     return;\\n                stringified(str);\\n            });\\n            ko.applyBindingsToNode(\\n                element,\\n                {\\n                    value: stringified,\\n                    valueUpdate: allBindings.get('valueUpdate'),\\n                },\\n                context,\\n            );\\n        }\\n    };\\n    var json_data = {\\\"formatted_vals\\\":[\\\"0.01\\\",\\\"0.02\\\",\\\"0.03\\\",\\\"0.04\\\",\\\"0.05\\\",\\\"0.06\\\",\\\"0.07\\\",\\\"0.08\\\",\\\"0.09\\\",\\\"0.1\\\",\\\"0.11\\\",\\\"0.12\\\",\\\"0.13\\\",\\\"0.14\\\",\\\"0.15\\\",\\\"0.16\\\",\\\"0.17\\\",\\\"0.18\\\",\\\"0.19\\\",\\\"0.2\\\",\\\"0.21\\\",\\\"0.22\\\",\\\"0.23\\\",\\\"0.24\\\",\\\"0.25\\\",\\\"0.26\\\",\\\"0.27\\\",\\\"0.28\\\",\\\"0.29\\\",\\\"0.3\\\",\\\"0.31\\\",\\\"0.32\\\",\\\"0.33\\\",\\\"0.34\\\",\\\"0.35\\\",\\\"0.36\\\",\\\"0.37\\\",\\\"0.38\\\",\\\"0.39\\\",\\\"0.4\\\",\\\"0.41\\\",\\\"0.42\\\",\\\"0.43\\\",\\\"0.44\\\",\\\"0.45\\\",\\\"0.46\\\",\\\"0.47\\\",\\\"0.48\\\",\\\"0.49\\\",\\\"0.5\\\",\\\"0.51\\\",\\\"0.52\\\",\\\"0.53\\\",\\\"0.54\\\",\\\"0.55\\\",\\\"0.56\\\",\\\"0.57\\\",\\\"0.58\\\",\\\"0.59\\\",\\\"0.6\\\",\\\"0.61\\\",\\\"0.62\\\",\\\"0.63\\\",\\\"0.64\\\",\\\"0.65\\\",\\\"0.66\\\",\\\"0.67\\\",\\\"0.68\\\",\\\"0.69\\\",\\\"0.7\\\",\\\"0.71\\\",\\\"0.72\\\",\\\"0.73\\\",\\\"0.74\\\",\\\"0.75\\\",\\\"0.76\\\",\\\"0.77\\\",\\\"0.78\\\",\\\"0.79\\\",\\\"0.8\\\",\\\"0.81\\\",\\\"0.82\\\",\\\"0.83\\\",\\\"0.84\\\",\\\"0.85\\\",\\\"0.86\\\",\\\"0.87\\\",\\\"0.88\\\",\\\"0.89\\\",\\\"0.9\\\",\\\"0.91\\\",\\\"0.92\\\",\\\"0.93\\\",\\\"0.94\\\",\\\"0.95\\\",\\\"0.96\\\",\\\"0.97\\\",\\\"0.98\\\",\\\"0.99\\\",\\\"1.0\\\",\\\"1.01\\\",\\\"1.02\\\",\\\"1.03\\\",\\\"1.04\\\",\\\"1.05\\\",\\\"1.06\\\",\\\"1.07\\\",\\\"1.08\\\",\\\"1.09\\\",\\\"1.1\\\",\\\"1.11\\\",\\\"1.12\\\",\\\"1.13\\\",\\\"1.14\\\",\\\"1.15\\\",\\\"1.16\\\",\\\"1.17\\\",\\\"1.18\\\",\\\"1.19\\\",\\\"1.2\\\",\\\"1.21\\\",\\\"1.22\\\",\\\"1.23\\\",\\\"1.24\\\",\\\"1.25\\\",\\\"1.26\\\",\\\"1.27\\\",\\\"1.28\\\",\\\"1.29\\\",\\\"1.3\\\",\\\"1.31\\\",\\\"1.32\\\",\\\"1.33\\\",\\\"1.34\\\",\\\"1.35\\\",\\\"1.36\\\",\\\"1.37\\\",\\\"1.38\\\",\\\"1.39\\\",\\\"1.4\\\",\\\"1.41\\\",\\\"1.42\\\",\\\"1.43\\\",\\\"1.44\\\",\\\"1.45\\\",\\\"1.46\\\",\\\"1.47\\\",\\\"1.48\\\",\\\"1.49\\\",\\\"1.5\\\",\\\"1.51\\\",\\\"1.52\\\",\\\"1.53\\\",\\\"1.54\\\",\\\"1.55\\\",\\\"1.56\\\",\\\"1.57\\\",\\\"1.58\\\",\\\"1.59\\\",\\\"1.6\\\",\\\"1.61\\\",\\\"1.62\\\",\\\"1.63\\\",\\\"1.64\\\",\\\"1.65\\\",\\\"1.66\\\",\\\"1.67\\\",\\\"1.68\\\",\\\"1.69\\\",\\\"1.7\\\",\\\"1.71\\\",\\\"1.72\\\",\\\"1.73\\\",\\\"1.74\\\",\\\"1.75\\\",\\\"1.76\\\",\\\"1.77\\\",\\\"1.78\\\",\\\"1.79\\\",\\\"1.8\\\",\\\"1.81\\\",\\\"1.82\\\",\\\"1.83\\\",\\\"1.84\\\",\\\"1.85\\\",\\\"1.86\\\",\\\"1.87\\\",\\\"1.88\\\",\\\"1.89\\\",\\\"1.9\\\",\\\"1.91\\\",\\\"1.92\\\",\\\"1.93\\\",\\\"1.94\\\",\\\"1.95\\\",\\\"1.96\\\",\\\"1.97\\\",\\\"1.98\\\",\\\"1.99\\\",\\\"2.0\\\",\\\"2.01\\\",\\\"2.02\\\",\\\"2.03\\\",\\\"2.04\\\",\\\"2.05\\\",\\\"2.06\\\",\\\"2.07\\\",\\\"2.08\\\",\\\"2.09\\\",\\\"2.1\\\",\\\"2.11\\\",\\\"2.12\\\",\\\"2.13\\\",\\\"2.14\\\",\\\"2.15\\\",\\\"2.16\\\",\\\"2.17\\\",\\\"2.18\\\",\\\"2.19\\\",\\\"2.2\\\",\\\"2.21\\\",\\\"2.22\\\",\\\"2.23\\\",\\\"2.24\\\",\\\"2.25\\\",\\\"2.26\\\",\\\"2.27\\\",\\\"2.28\\\",\\\"2.29\\\",\\\"2.3\\\",\\\"2.31\\\",\\\"2.32\\\",\\\"2.33\\\",\\\"2.34\\\",\\\"2.35\\\",\\\"2.36\\\",\\\"2.37\\\",\\\"2.38\\\",\\\"2.39\\\",\\\"2.4\\\",\\\"2.41\\\",\\\"2.42\\\",\\\"2.43\\\",\\\"2.44\\\",\\\"2.45\\\",\\\"2.46\\\",\\\"2.47\\\",\\\"2.48\\\",\\\"2.49\\\",\\\"2.5\\\",\\\"2.51\\\",\\\"2.52\\\",\\\"2.53\\\",\\\"2.54\\\",\\\"2.55\\\",\\\"2.56\\\",\\\"2.57\\\",\\\"2.58\\\",\\\"2.59\\\",\\\"2.6\\\",\\\"2.61\\\",\\\"2.62\\\",\\\"2.63\\\",\\\"2.64\\\",\\\"2.65\\\",\\\"2.66\\\",\\\"2.67\\\",\\\"2.68\\\",\\\"2.69\\\",\\\"2.7\\\",\\\"2.71\\\",\\\"2.72\\\",\\\"2.73\\\",\\\"2.74\\\",\\\"2.75\\\",\\\"2.76\\\",\\\"2.77\\\",\\\"2.78\\\",\\\"2.79\\\",\\\"2.8\\\",\\\"2.81\\\",\\\"2.82\\\",\\\"2.83\\\",\\\"2.84\\\",\\\"2.85\\\",\\\"2.86\\\",\\\"2.87\\\",\\\"2.88\\\",\\\"2.89\\\",\\\"2.9\\\",\\\"2.91\\\",\\\"2.92\\\",\\\"2.93\\\",\\\"2.94\\\",\\\"2.95\\\",\\\"2.96\\\",\\\"2.97\\\",\\\"2.98\\\",\\\"2.99\\\",\\\"3.0\\\"],\\\"changes\\\":WebIO.getval({\\\"name\\\":\\\"changes\\\",\\\"scope\\\":\\\"1132875407272265265\\\",\\\"id\\\":\\\"ob_03\\\",\\\"type\\\":\\\"observable\\\"}),\\\"index\\\":WebIO.getval({\\\"name\\\":\\\"index\\\",\\\"scope\\\":\\\"1132875407272265265\\\",\\\"id\\\":\\\"ob_02\\\",\\\"type\\\":\\\"observable\\\"})};\\n    var self = this;\\n    function AppViewModel() {\\n        for (var key in json_data) {\\n            var el = json_data[key];\\n            this[key] = Array.isArray(el) ? ko.observableArray(el) : ko.observable(el);\\n        }\\n        \\n        [this[\\\"formatted_val\\\"]=ko.computed(    function(){\\n        return this.formatted_vals()[parseInt(this.index())-(1)];\\n    }\\n,this)]\\n        [this[\\\"changes\\\"].subscribe((function (val){!(this.valueFromJulia[\\\"changes\\\"]) ? (WebIO.setval({\\\"name\\\":\\\"changes\\\",\\\"scope\\\":\\\"1132875407272265265\\\",\\\"id\\\":\\\"ob_03\\\",\\\"type\\\":\\\"observable\\\"},val)) : undefined; return this.valueFromJulia[\\\"changes\\\"]=false}),self),this[\\\"index\\\"].subscribe((function (val){!(this.valueFromJulia[\\\"index\\\"]) ? (WebIO.setval({\\\"name\\\":\\\"index\\\",\\\"scope\\\":\\\"1132875407272265265\\\",\\\"id\\\":\\\"ob_02\\\",\\\"type\\\":\\\"observable\\\"},val)) : undefined; return this.valueFromJulia[\\\"index\\\"]=false}),self)]\\n        \\n    }\\n    self.model = new AppViewModel();\\n    self.valueFromJulia = {};\\n    for (var key in json_data) {\\n        self.valueFromJulia[key] = false;\\n    }\\n    ko.applyBindings(self.model, self.dom);\\n}\\n);\\n    (WebIO.importBlock({\\\"data\\\":[{\\\"name\\\":\\\"knockout\\\",\\\"type\\\":\\\"js\\\",\\\"url\\\":\\\"\\/assetserver\\/1418600122391479348d6b70f8fc3978f3015b35-knockout.js\\\"},{\\\"name\\\":\\\"knockout_punches\\\",\\\"type\\\":\\\"js\\\",\\\"url\\\":\\\"\\/assetserver\\/cd3f841ffabd7ce8124a19658c02643a3dce952c-knockout_punches.js\\\"}],\\\"type\\\":\\\"async_block\\\"})).then((imports) => handler.apply(this, imports));\\n}\\n\"],\"observables\":{\"changes\":{\"sync\":false,\"id\":\"ob_03\",\"value\":0},\"index\":{\"sync\":true,\"id\":\"ob_02\",\"value\":150}}},\"children\":[{\"props\":{\"className\":\"interact-flex-row interact-widget\"},\"nodeType\":\"DOM\",\"type\":\"node\",\"instanceArgs\":{\"namespace\":\"html\",\"tag\":\"div\"},\"children\":[{\"props\":{\"className\":\"interact-flex-row-left\"},\"nodeType\":\"DOM\",\"type\":\"node\",\"instanceArgs\":{\"namespace\":\"html\",\"tag\":\"div\"},\"children\":[{\"props\":{\"className\":\"interact \",\"style\":{\"padding\":\"5px 10px 0px 10px\"}},\"nodeType\":\"DOM\",\"type\":\"node\",\"instanceArgs\":{\"namespace\":\"html\",\"tag\":\"label\"},\"children\":[\"k\"]}]},{\"props\":{\"className\":\"interact-flex-row-center\"},\"nodeType\":\"DOM\",\"type\":\"node\",\"instanceArgs\":{\"namespace\":\"html\",\"tag\":\"div\"},\"children\":[{\"props\":{\"max\":300,\"min\":1,\"attributes\":{\"type\":\"range\",\"data-bind\":\"numericValue: index, valueUpdate: 'input', event: {change: function (){this.changes(this.changes()+1)}}\",\"orient\":\"horizontal\"},\"step\":1,\"className\":\"slider slider is-fullwidth\",\"style\":{}},\"nodeType\":\"DOM\",\"type\":\"node\",\"instanceArgs\":{\"namespace\":\"html\",\"tag\":\"input\"},\"children\":[]}]},{\"props\":{\"className\":\"interact-flex-row-right\"},\"nodeType\":\"DOM\",\"type\":\"node\",\"instanceArgs\":{\"namespace\":\"html\",\"tag\":\"div\"},\"children\":[{\"props\":{\"attributes\":{\"data-bind\":\"text: formatted_val\"}},\"nodeType\":\"DOM\",\"type\":\"node\",\"instanceArgs\":{\"namespace\":\"html\",\"tag\":\"p\"},\"children\":[]}]}]}]}]},{\"props\":{\"className\":\"field interact-widget\"},\"nodeType\":\"DOM\",\"type\":\"node\",\"instanceArgs\":{\"namespace\":\"html\",\"tag\":\"div\"},\"children\":[{\"props\":{},\"nodeType\":\"Scope\",\"type\":\"node\",\"instanceArgs\":{\"imports\":{\"data\":[{\"name\":\"knockout\",\"type\":\"js\",\"url\":\"\\/assetserver\\/1418600122391479348d6b70f8fc3978f3015b35-knockout.js\"},{\"name\":\"knockout_punches\",\"type\":\"js\",\"url\":\"\\/assetserver\\/cd3f841ffabd7ce8124a19658c02643a3dce952c-knockout_punches.js\"},{\"name\":null,\"type\":\"js\",\"url\":\"\\/assetserver\\/ac53a1d0dfbe96bbdab46a2c15a1a1f5029edf92-all.js\"},{\"name\":null,\"type\":\"css\",\"url\":\"\\/assetserver\\/a90858055ce62250f15db56d945919371e115fff-style.css\"},{\"name\":null,\"type\":\"css\",\"url\":\"\\/assetserver\\/901695cb7baff74a76878a59f7f01c86f6c24ff1-bulma_confined.min.css\"}],\"type\":\"async_block\"},\"id\":\"13640931925240108790\",\"handlers\":{\"changes\":[\"(function (val){return (val!=this.model[\\\"changes\\\"]()) ? (this.valueFromJulia[\\\"changes\\\"]=true, this.model[\\\"changes\\\"](val)) : undefined})\"],\"index\":[\"(function (val){return (val!=this.model[\\\"index\\\"]()) ? (this.valueFromJulia[\\\"index\\\"]=true, this.model[\\\"index\\\"](val)) : undefined})\"]},\"systemjs_options\":null,\"mount_callbacks\":[\"function () {\\n    var handler = (function (ko, koPunches) {\\n    ko.punches.enableAll();\\n    ko.bindingHandlers.numericValue = {\\n        init: function(element, valueAccessor, allBindings, data, context) {\\n            var stringified = ko.observable(ko.unwrap(valueAccessor()));\\n            stringified.subscribe(function(value) {\\n                var val = parseFloat(value);\\n                if (!isNaN(val)) {\\n                    valueAccessor()(val);\\n                }\\n            });\\n            valueAccessor().subscribe(function(value) {\\n                var str = JSON.stringify(value);\\n                if ((str == \\\"0\\\") && ([\\\"-0\\\", \\\"-0.\\\"].indexOf(stringified()) >= 0))\\n                     return;\\n                 if ([\\\"null\\\", \\\"\\\"].indexOf(str) >= 0)\\n                     return;\\n                stringified(str);\\n            });\\n            ko.applyBindingsToNode(\\n                element,\\n                {\\n                    value: stringified,\\n                    valueUpdate: allBindings.get('valueUpdate'),\\n                },\\n                context,\\n            );\\n        }\\n    };\\n    var json_data = {\\\"formatted_vals\\\":[\\\"5\\\",\\\"6\\\",\\\"7\\\",\\\"8\\\",\\\"9\\\",\\\"10\\\",\\\"11\\\",\\\"12\\\",\\\"13\\\",\\\"14\\\",\\\"15\\\",\\\"16\\\",\\\"17\\\",\\\"18\\\",\\\"19\\\",\\\"20\\\"],\\\"changes\\\":WebIO.getval({\\\"name\\\":\\\"changes\\\",\\\"scope\\\":\\\"13640931925240108790\\\",\\\"id\\\":\\\"ob_05\\\",\\\"type\\\":\\\"observable\\\"}),\\\"index\\\":WebIO.getval({\\\"name\\\":\\\"index\\\",\\\"scope\\\":\\\"13640931925240108790\\\",\\\"id\\\":\\\"ob_04\\\",\\\"type\\\":\\\"observable\\\"})};\\n    var self = this;\\n    function AppViewModel() {\\n        for (var key in json_data) {\\n            var el = json_data[key];\\n            this[key] = Array.isArray(el) ? ko.observableArray(el) : ko.observable(el);\\n        }\\n        \\n        [this[\\\"formatted_val\\\"]=ko.computed(    function(){\\n        return this.formatted_vals()[parseInt(this.index())-(5)];\\n    }\\n,this)]\\n        [this[\\\"changes\\\"].subscribe((function (val){!(this.valueFromJulia[\\\"changes\\\"]) ? (WebIO.setval({\\\"name\\\":\\\"changes\\\",\\\"scope\\\":\\\"13640931925240108790\\\",\\\"id\\\":\\\"ob_05\\\",\\\"type\\\":\\\"observable\\\"},val)) : undefined; return this.valueFromJulia[\\\"changes\\\"]=false}),self),this[\\\"index\\\"].subscribe((function (val){!(this.valueFromJulia[\\\"index\\\"]) ? (WebIO.setval({\\\"name\\\":\\\"index\\\",\\\"scope\\\":\\\"13640931925240108790\\\",\\\"id\\\":\\\"ob_04\\\",\\\"type\\\":\\\"observable\\\"},val)) : undefined; return this.valueFromJulia[\\\"index\\\"]=false}),self)]\\n        \\n    }\\n    self.model = new AppViewModel();\\n    self.valueFromJulia = {};\\n    for (var key in json_data) {\\n        self.valueFromJulia[key] = false;\\n    }\\n    ko.applyBindings(self.model, self.dom);\\n}\\n);\\n    (WebIO.importBlock({\\\"data\\\":[{\\\"name\\\":\\\"knockout\\\",\\\"type\\\":\\\"js\\\",\\\"url\\\":\\\"\\/assetserver\\/1418600122391479348d6b70f8fc3978f3015b35-knockout.js\\\"},{\\\"name\\\":\\\"knockout_punches\\\",\\\"type\\\":\\\"js\\\",\\\"url\\\":\\\"\\/assetserver\\/cd3f841ffabd7ce8124a19658c02643a3dce952c-knockout_punches.js\\\"}],\\\"type\\\":\\\"async_block\\\"})).then((imports) => handler.apply(this, imports));\\n}\\n\"],\"observables\":{\"changes\":{\"sync\":false,\"id\":\"ob_05\",\"value\":0},\"index\":{\"sync\":true,\"id\":\"ob_04\",\"value\":12}}},\"children\":[{\"props\":{\"className\":\"interact-flex-row interact-widget\"},\"nodeType\":\"DOM\",\"type\":\"node\",\"instanceArgs\":{\"namespace\":\"html\",\"tag\":\"div\"},\"children\":[{\"props\":{\"className\":\"interact-flex-row-left\"},\"nodeType\":\"DOM\",\"type\":\"node\",\"instanceArgs\":{\"namespace\":\"html\",\"tag\":\"div\"},\"children\":[{\"props\":{\"className\":\"interact \",\"style\":{\"padding\":\"5px 10px 0px 10px\"}},\"nodeType\":\"DOM\",\"type\":\"node\",\"instanceArgs\":{\"namespace\":\"html\",\"tag\":\"label\"},\"children\":[\"t\"]}]},{\"props\":{\"className\":\"interact-flex-row-center\"},\"nodeType\":\"DOM\",\"type\":\"node\",\"instanceArgs\":{\"namespace\":\"html\",\"tag\":\"div\"},\"children\":[{\"props\":{\"max\":20,\"min\":5,\"attributes\":{\"type\":\"range\",\"data-bind\":\"numericValue: index, valueUpdate: 'input', event: {change: function (){this.changes(this.changes()+1)}}\",\"orient\":\"horizontal\"},\"step\":1,\"className\":\"slider slider is-fullwidth\",\"style\":{}},\"nodeType\":\"DOM\",\"type\":\"node\",\"instanceArgs\":{\"namespace\":\"html\",\"tag\":\"input\"},\"children\":[]}]},{\"props\":{\"className\":\"interact-flex-row-right\"},\"nodeType\":\"DOM\",\"type\":\"node\",\"instanceArgs\":{\"namespace\":\"html\",\"tag\":\"div\"},\"children\":[{\"props\":{\"attributes\":{\"data-bind\":\"text: formatted_val\"}},\"nodeType\":\"DOM\",\"type\":\"node\",\"instanceArgs\":{\"namespace\":\"html\",\"tag\":\"p\"},\"children\":[]}]}]}]}]},{\"props\":{},\"nodeType\":\"Scope\",\"type\":\"node\",\"instanceArgs\":{\"imports\":{\"data\":[],\"type\":\"async_block\"},\"id\":\"4299401274930708416\",\"handlers\":{},\"systemjs_options\":null,\"mount_callbacks\":[],\"observables\":{\"obs-node\":{\"sync\":false,\"id\":\"ob_09\",\"value\":{\"props\":{\"className\":\"interact-flex-row interact-widget\"},\"nodeType\":\"DOM\",\"type\":\"node\",\"instanceArgs\":{\"namespace\":\"html\",\"tag\":\"div\"},\"children\":[{\"props\":{\"setInnerHtml\":\"<?xml version=\\\"1.0\\\" encoding=\\\"utf-8\\\"?>\\n<svg xmlns=\\\"http:\\/\\/www.w3.org\\/2000\\/svg\\\" xmlns:xlink=\\\"http:\\/\\/www.w3.org\\/1999\\/xlink\\\" width=\\\"900\\\" height=\\\"300\\\" viewBox=\\\"0 0 3600 1200\\\">\\n<defs>\\n  <clipPath id=\\\"clip3500\\\">\\n    <rect x=\\\"0\\\" y=\\\"0\\\" width=\\\"3600\\\" height=\\\"1200\\\"\\/>\\n  <\\/clipPath>\\n<\\/defs>\\n<polygon clip-path=\\\"url(#clip3500)\\\" points=\\\"\\n0,1200 3600,1200 3600,0 0,0 \\n  \\\" fill=\\\"#ffffff\\\" fill-rule=\\\"evenodd\\\" fill-opacity=\\\"1\\\"\\/>\\n<defs>\\n  <clipPath id=\\\"clip3501\\\">\\n    <rect x=\\\"720\\\" y=\\\"0\\\" width=\\\"2521\\\" height=\\\"1200\\\"\\/>\\n  <\\/clipPath>\\n<\\/defs>\\n<polygon clip-path=\\\"url(#clip3500)\\\" points=\\\"\\n165.898,1108.24 1738.7,1108.24 1738.7,92.3336 165.898,92.3336 \\n  \\\" fill=\\\"#ffffff\\\" fill-rule=\\\"evenodd\\\" fill-opacity=\\\"1\\\"\\/>\\n<defs>\\n  <clipPath id=\\\"clip3502\\\">\\n    <rect x=\\\"165\\\" y=\\\"92\\\" width=\\\"1574\\\" height=\\\"1017\\\"\\/>\\n  <\\/clipPath>\\n<\\/defs>\\n<polyline clip-path=\\\"url(#clip3502)\\\" style=\\\"stroke:#000000; stroke-width:2; stroke-opacity:0.1; fill:none\\\" points=\\\"\\n  503.856,1108.24 503.856,92.3336 \\n  \\\"\\/>\\n<polyline clip-path=\\\"url(#clip3502)\\\" style=\\\"stroke:#000000; stroke-width:2; stroke-opacity:0.1; fill:none\\\" points=\\\"\\n  828.815,1108.24 828.815,92.3336 \\n  \\\"\\/>\\n<polyline clip-path=\\\"url(#clip3502)\\\" style=\\\"stroke:#000000; stroke-width:2; stroke-opacity:0.1; fill:none\\\" points=\\\"\\n  1153.77,1108.24 1153.77,92.3336 \\n  \\\"\\/>\\n<polyline clip-path=\\\"url(#clip3502)\\\" style=\\\"stroke:#000000; stroke-width:2; stroke-opacity:0.1; fill:none\\\" points=\\\"\\n  1478.73,1108.24 1478.73,92.3336 \\n  \\\"\\/>\\n<polyline clip-path=\\\"url(#clip3502)\\\" style=\\\"stroke:#000000; stroke-width:2; stroke-opacity:0.1; fill:none\\\" points=\\\"\\n  165.898,817.982 1738.7,817.982 \\n  \\\"\\/>\\n<polyline clip-path=\\\"url(#clip3502)\\\" style=\\\"stroke:#000000; stroke-width:2; stroke-opacity:0.1; fill:none\\\" points=\\\"\\n  165.898,576.099 1738.7,576.099 \\n  \\\"\\/>\\n<polyline clip-path=\\\"url(#clip3502)\\\" style=\\\"stroke:#000000; stroke-width:2; stroke-opacity:0.1; fill:none\\\" points=\\\"\\n  165.898,334.216 1738.7,334.216 \\n  \\\"\\/>\\n<polyline clip-path=\\\"url(#clip3502)\\\" style=\\\"stroke:#000000; stroke-width:2; stroke-opacity:0.1; fill:none\\\" points=\\\"\\n  165.898,92.3336 1738.7,92.3336 \\n  \\\"\\/>\\n<polyline clip-path=\\\"url(#clip3500)\\\" style=\\\"stroke:#000000; stroke-width:4; stroke-opacity:1; fill:none\\\" points=\\\"\\n  165.898,1059.86 1738.7,1059.86 \\n  \\\"\\/>\\n<polyline clip-path=\\\"url(#clip3500)\\\" style=\\\"stroke:#000000; stroke-width:4; stroke-opacity:1; fill:none\\\" points=\\\"\\n  178.896,1108.24 178.896,92.3336 \\n  \\\"\\/>\\n<polyline clip-path=\\\"url(#clip3500)\\\" style=\\\"stroke:#000000; stroke-width:4; stroke-opacity:1; fill:none\\\" points=\\\"\\n  503.856,1059.86 503.856,1044.63 \\n  \\\"\\/>\\n<polyline clip-path=\\\"url(#clip3500)\\\" style=\\\"stroke:#000000; stroke-width:4; stroke-opacity:1; fill:none\\\" points=\\\"\\n  828.815,1059.86 828.815,1044.63 \\n  \\\"\\/>\\n<polyline clip-path=\\\"url(#clip3500)\\\" style=\\\"stroke:#000000; stroke-width:4; stroke-opacity:1; fill:none\\\" points=\\\"\\n  1153.77,1059.86 1153.77,1044.63 \\n  \\\"\\/>\\n<polyline clip-path=\\\"url(#clip3500)\\\" style=\\\"stroke:#000000; stroke-width:4; stroke-opacity:1; fill:none\\\" points=\\\"\\n  1478.73,1059.86 1478.73,1044.63 \\n  \\\"\\/>\\n<polyline clip-path=\\\"url(#clip3500)\\\" style=\\\"stroke:#000000; stroke-width:4; stroke-opacity:1; fill:none\\\" points=\\\"\\n  178.896,817.982 202.488,817.982 \\n  \\\"\\/>\\n<polyline clip-path=\\\"url(#clip3500)\\\" style=\\\"stroke:#000000; stroke-width:4; stroke-opacity:1; fill:none\\\" points=\\\"\\n  178.896,576.099 202.488,576.099 \\n  \\\"\\/>\\n<polyline clip-path=\\\"url(#clip3500)\\\" style=\\\"stroke:#000000; stroke-width:4; stroke-opacity:1; fill:none\\\" points=\\\"\\n  178.896,334.216 202.488,334.216 \\n  \\\"\\/>\\n<polyline clip-path=\\\"url(#clip3500)\\\" style=\\\"stroke:#000000; stroke-width:4; stroke-opacity:1; fill:none\\\" points=\\\"\\n  178.896,92.3336 202.488,92.3336 \\n  \\\"\\/>\\n<g clip-path=\\\"url(#clip3500)\\\">\\n<text style=\\\"fill:#000000; fill-opacity:1; font-family:Arial,Helvetica Neue,Helvetica,sans-serif; font-size:48px; text-anchor:middle;\\\" transform=\\\"rotate(0, 503.856, 1119.86)\\\" x=\\\"503.856\\\" y=\\\"1119.86\\\">2.5<\\/text>\\n<\\/g>\\n<g clip-path=\\\"url(#clip3500)\\\">\\n<text style=\\\"fill:#000000; fill-opacity:1; font-family:Arial,Helvetica Neue,Helvetica,sans-serif; font-size:48px; text-anchor:middle;\\\" transform=\\\"rotate(0, 828.815, 1119.86)\\\" x=\\\"828.815\\\" y=\\\"1119.86\\\">5.0<\\/text>\\n<\\/g>\\n<g clip-path=\\\"url(#clip3500)\\\">\\n<text style=\\\"fill:#000000; fill-opacity:1; font-family:Arial,Helvetica Neue,Helvetica,sans-serif; font-size:48px; text-anchor:middle;\\\" transform=\\\"rotate(0, 1153.77, 1119.86)\\\" x=\\\"1153.77\\\" y=\\\"1119.86\\\">7.5<\\/text>\\n<\\/g>\\n<g clip-path=\\\"url(#clip3500)\\\">\\n<text style=\\\"fill:#000000; fill-opacity:1; font-family:Arial,Helvetica Neue,Helvetica,sans-serif; font-size:48px; text-anchor:middle;\\\" transform=\\\"rotate(0, 1478.73, 1119.86)\\\" x=\\\"1478.73\\\" y=\\\"1119.86\\\">10.0<\\/text>\\n<\\/g>\\n<g clip-path=\\\"url(#clip3500)\\\">\\n<text style=\\\"fill:#000000; fill-opacity:1; font-family:Arial,Helvetica Neue,Helvetica,sans-serif; font-size:48px; text-anchor:end;\\\" transform=\\\"rotate(0, 142.896, 835.482)\\\" x=\\\"142.896\\\" y=\\\"835.482\\\">0.5<\\/text>\\n<\\/g>\\n<g clip-path=\\\"url(#clip3500)\\\">\\n<text style=\\\"fill:#000000; fill-opacity:1; font-family:Arial,Helvetica Neue,Helvetica,sans-serif; font-size:48px; text-anchor:end;\\\" transform=\\\"rotate(0, 142.896, 593.599)\\\" x=\\\"142.896\\\" y=\\\"593.599\\\">1.0<\\/text>\\n<\\/g>\\n<g clip-path=\\\"url(#clip3500)\\\">\\n<text style=\\\"fill:#000000; fill-opacity:1; font-family:Arial,Helvetica Neue,Helvetica,sans-serif; font-size:48px; text-anchor:end;\\\" transform=\\\"rotate(0, 142.896, 351.716)\\\" x=\\\"142.896\\\" y=\\\"351.716\\\">1.5<\\/text>\\n<\\/g>\\n<g clip-path=\\\"url(#clip3500)\\\">\\n<text style=\\\"fill:#000000; fill-opacity:1; font-family:Arial,Helvetica Neue,Helvetica,sans-serif; font-size:48px; text-anchor:end;\\\" transform=\\\"rotate(0, 142.896, 109.834)\\\" x=\\\"142.896\\\" y=\\\"109.834\\\">2.0<\\/text>\\n<\\/g>\\n<g clip-path=\\\"url(#clip3500)\\\">\\n<text style=\\\"fill:#000000; fill-opacity:1; font-family:Arial,Helvetica Neue,Helvetica,sans-serif; font-size:82px; text-anchor:middle;\\\" transform=\\\"rotate(0, 952.299, 72)\\\" x=\\\"952.299\\\" y=\\\"72\\\">Respuesta a escalon unitario<\\/text>\\n<\\/g>\\n<polyline clip-path=\\\"url(#clip3502)\\\" style=\\\"stroke:#cc1414; stroke-width:4; stroke-opacity:1; fill:none\\\" points=\\\"\\n  178.896,1059.86 185.396,1059.86 191.895,1059.86 198.394,1059.86 204.893,1059.85 211.392,1059.85 217.891,1059.84 224.391,1059.83 230.89,1059.82 237.389,1059.81 \\n  243.888,1059.8 250.387,1059.79 256.887,1059.78 263.386,1059.77 269.885,1059.76 276.384,1059.75 282.883,1059.75 289.382,1059.75 295.882,1059.75 302.381,1059.75 \\n  308.88,1059.75 315.379,1059.76 321.878,1059.76 328.378,1059.77 334.877,1059.79 341.376,1059.8 347.875,1059.81 354.374,1059.83 360.874,1059.84 367.373,1059.86 \\n  373.872,1059.87 380.371,1059.89 386.87,1059.9 393.369,1059.91 399.869,1059.91 406.368,1059.92 412.867,1059.92 419.366,1059.92 425.865,1059.91 432.365,1059.9 \\n  438.864,1059.89 445.363,1059.88 451.862,1059.86 458.361,1059.84 464.861,1059.82 471.36,1059.8 477.859,1059.77 484.358,1059.75 490.857,1059.73 497.356,1059.71 \\n  503.856,1059.7 510.355,1059.68 516.854,1059.67 523.353,1059.67 529.852,1059.67 536.352,1059.67 542.851,1059.68 549.35,1059.69 555.849,1059.71 562.348,1059.73 \\n  568.847,1059.76 575.347,1059.79 581.846,1059.82 588.345,1059.85 594.844,1059.88 601.343,1059.91 607.843,1059.94 614.342,1059.97 620.841,1059.99 627.34,1060.01 \\n  633.839,1060.02 640.339,1060.03 646.838,1060.03 653.337,1060.02 659.836,1060.01 666.335,1059.99 672.834,1059.97 679.334,1059.93 685.833,1059.9 692.332,1059.85 \\n  698.831,1059.81 705.33,1059.76 711.83,1059.72 718.329,1059.67 724.828,1059.63 731.327,1059.59 737.826,1059.56 744.325,1059.53 750.825,1059.51 757.324,1059.51 \\n  763.823,1059.51 770.322,1059.52 776.821,1059.54 783.321,1059.57 789.82,1059.6 796.319,1059.65 802.818,1059.71 809.317,1059.77 815.817,1059.83 822.316,1059.9 \\n  828.815,1059.97 835.314,1060.03 841.813,1060.09 848.312,1060.15 854.812,1060.2 861.311,1060.23 867.81,1060.26 874.309,1060.27 880.808,1060.27 887.308,1060.25 \\n  893.807,1060.22 900.306,1060.17 906.805,1060.12 913.304,1060.05 919.803,1059.97 926.303,1059.88 932.802,1059.78 939.301,1059.68 945.8,1059.59 952.299,1059.49 \\n  958.799,1059.41 965.298,1059.33 971.797,1059.26 978.296,1059.21 984.795,1059.17 991.295,1059.16 997.794,1059.16 1004.29,1059.19 1010.79,1059.24 1017.29,1059.3 \\n  1023.79,1059.39 1030.29,1059.49 1036.79,1059.61 1043.29,1059.74 1049.79,1059.88 1056.29,1060.02 1062.79,1060.16 1069.28,1060.3 1075.78,1060.43 1082.28,1060.54 \\n  1088.78,1060.63 1095.28,1060.71 1101.78,1060.75 1108.28,1060.77 1114.78,1060.76 1121.28,1060.72 1127.78,1060.65 1134.28,1060.55 1140.78,1060.42 1147.27,1060.27 \\n  1153.77,1060.09 1160.27,1059.9 1166.77,1059.7 1173.27,1059.5 1179.77,1059.29 1186.27,1059.09 1192.77,1058.91 1199.27,1058.75 1205.77,1058.62 1212.27,1058.52 \\n  1218.77,1058.45 1225.27,1058.43 1231.76,1058.45 1238.26,1058.51 1244.76,1058.62 1251.26,1058.77 1257.76,1058.96 1264.26,1059.19 1270.76,1059.44 1277.26,1059.72 \\n  1283.76,1060.01 1290.26,1060.31 1296.76,1060.61 1303.26,1060.89 1309.75,1061.16 1316.25,1061.39 1322.75,1061.58 1329.25,1061.72 1335.75,1061.8 1342.25,1061.83 \\n  1348.75,1061.8 1355.25,1061.7 1361.75,1061.53 1368.25,1061.31 1374.75,1061.03 1381.25,1060.69 1387.74,1060.32 1394.24,1059.91 1400.74,1059.48 1407.24,1059.05 \\n  1413.74,1058.62 1420.24,1058.21 1426.74,1057.83 1433.24,1057.51 1439.74,1057.24 1446.24,1057.04 1452.74,1056.92 1459.24,1056.89 1465.74,1056.95 1472.23,1057.1 \\n  1478.73,1057.35 1485.23,1057.69 1491.73,1058.11 1498.23,1058.6 1504.73,1059.15 1511.23,1059.74 1517.73,1060.37 1524.23,1061 1530.73,1061.62 1537.23,1062.21 \\n  1543.73,1062.75 1550.22,1063.22 1556.72,1063.6 1563.22,1063.87 1569.72,1064.03 1576.22,1064.06 1582.72,1063.96 1589.22,1063.72 1595.72,1063.35 1602.22,1062.85 \\n  1608.72,1062.23 1615.22,1061.51 1621.72,1060.7 1628.21,1059.83 1634.71,1058.92 1641.21,1058.01 1647.71,1057.11 1654.21,1056.26 1660.71,1055.48 1667.21,1054.81 \\n  1673.71,1054.28 1680.21,1053.89 1686.71,1053.68 1693.21,1053.65 1699.71,1053.82 1706.2,1054.19 1712.7,1054.75 1719.2,1055.5 1725.7,1056.41 1732.2,1057.48 \\n  1738.7,1058.66 \\n  \\\"\\/>\\n<polygon clip-path=\\\"url(#clip3500)\\\" points=\\\"\\n1979.95,1108.24 3552.76,1108.24 3552.76,92.3336 1979.95,92.3336 \\n  \\\" fill=\\\"#ffffff\\\" fill-rule=\\\"evenodd\\\" fill-opacity=\\\"1\\\"\\/>\\n<defs>\\n  <clipPath id=\\\"clip3503\\\">\\n    <rect x=\\\"1979\\\" y=\\\"92\\\" width=\\\"1574\\\" height=\\\"1017\\\"\\/>\\n  <\\/clipPath>\\n<\\/defs>\\n<polyline clip-path=\\\"url(#clip3503)\\\" style=\\\"stroke:#000000; stroke-width:2; stroke-opacity:0.1; fill:none\\\" points=\\\"\\n  1979.95,1108.24 1979.95,92.3336 \\n  \\\"\\/>\\n<polyline clip-path=\\\"url(#clip3503)\\\" style=\\\"stroke:#000000; stroke-width:2; stroke-opacity:0.1; fill:none\\\" points=\\\"\\n  2242.09,1108.24 2242.09,92.3336 \\n  \\\"\\/>\\n<polyline clip-path=\\\"url(#clip3503)\\\" style=\\\"stroke:#000000; stroke-width:2; stroke-opacity:0.1; fill:none\\\" points=\\\"\\n  2504.22,1108.24 2504.22,92.3336 \\n  \\\"\\/>\\n<polyline clip-path=\\\"url(#clip3503)\\\" style=\\\"stroke:#000000; stroke-width:2; stroke-opacity:0.1; fill:none\\\" points=\\\"\\n  2766.35,1108.24 2766.35,92.3336 \\n  \\\"\\/>\\n<polyline clip-path=\\\"url(#clip3503)\\\" style=\\\"stroke:#000000; stroke-width:2; stroke-opacity:0.1; fill:none\\\" points=\\\"\\n  3028.49,1108.24 3028.49,92.3336 \\n  \\\"\\/>\\n<polyline clip-path=\\\"url(#clip3503)\\\" style=\\\"stroke:#000000; stroke-width:2; stroke-opacity:0.1; fill:none\\\" points=\\\"\\n  3552.76,1108.24 3552.76,92.3336 \\n  \\\"\\/>\\n<polyline clip-path=\\\"url(#clip3503)\\\" style=\\\"stroke:#000000; stroke-width:2; stroke-opacity:0.1; fill:none\\\" points=\\\"\\n  1979.95,1108.24 3552.76,1108.24 \\n  \\\"\\/>\\n<polyline clip-path=\\\"url(#clip3503)\\\" style=\\\"stroke:#000000; stroke-width:2; stroke-opacity:0.1; fill:none\\\" points=\\\"\\n  1979.95,854.264 3552.76,854.264 \\n  \\\"\\/>\\n<polyline clip-path=\\\"url(#clip3503)\\\" style=\\\"stroke:#000000; stroke-width:2; stroke-opacity:0.1; fill:none\\\" points=\\\"\\n  1979.95,346.311 3552.76,346.311 \\n  \\\"\\/>\\n<polyline clip-path=\\\"url(#clip3503)\\\" style=\\\"stroke:#000000; stroke-width:2; stroke-opacity:0.1; fill:none\\\" points=\\\"\\n  1979.95,92.3336 3552.76,92.3336 \\n  \\\"\\/>\\n<polyline clip-path=\\\"url(#clip3500)\\\" style=\\\"stroke:#000000; stroke-width:4; stroke-opacity:1; fill:none\\\" points=\\\"\\n  1979.95,600.287 3552.76,600.287 \\n  \\\"\\/>\\n<polyline clip-path=\\\"url(#clip3500)\\\" style=\\\"stroke:#000000; stroke-width:4; stroke-opacity:1; fill:none\\\" points=\\\"\\n  3290.62,1108.24 3290.62,92.3336 \\n  \\\"\\/>\\n<polyline clip-path=\\\"url(#clip3500)\\\" style=\\\"stroke:#000000; stroke-width:4; stroke-opacity:1; fill:none\\\" points=\\\"\\n  1979.95,600.287 1979.95,585.049 \\n  \\\"\\/>\\n<polyline clip-path=\\\"url(#clip3500)\\\" style=\\\"stroke:#000000; stroke-width:4; stroke-opacity:1; fill:none\\\" points=\\\"\\n  2242.09,600.287 2242.09,585.049 \\n  \\\"\\/>\\n<polyline clip-path=\\\"url(#clip3500)\\\" style=\\\"stroke:#000000; stroke-width:4; stroke-opacity:1; fill:none\\\" points=\\\"\\n  2504.22,600.287 2504.22,585.049 \\n  \\\"\\/>\\n<polyline clip-path=\\\"url(#clip3500)\\\" style=\\\"stroke:#000000; stroke-width:4; stroke-opacity:1; fill:none\\\" points=\\\"\\n  2766.35,600.287 2766.35,585.049 \\n  \\\"\\/>\\n<polyline clip-path=\\\"url(#clip3500)\\\" style=\\\"stroke:#000000; stroke-width:4; stroke-opacity:1; fill:none\\\" points=\\\"\\n  3028.49,600.287 3028.49,585.049 \\n  \\\"\\/>\\n<polyline clip-path=\\\"url(#clip3500)\\\" style=\\\"stroke:#000000; stroke-width:4; stroke-opacity:1; fill:none\\\" points=\\\"\\n  3552.76,600.287 3552.76,585.049 \\n  \\\"\\/>\\n<polyline clip-path=\\\"url(#clip3500)\\\" style=\\\"stroke:#000000; stroke-width:4; stroke-opacity:1; fill:none\\\" points=\\\"\\n  3290.62,1108.24 3314.21,1108.24 \\n  \\\"\\/>\\n<polyline clip-path=\\\"url(#clip3500)\\\" style=\\\"stroke:#000000; stroke-width:4; stroke-opacity:1; fill:none\\\" points=\\\"\\n  3290.62,854.264 3314.21,854.264 \\n  \\\"\\/>\\n<polyline clip-path=\\\"url(#clip3500)\\\" style=\\\"stroke:#000000; stroke-width:4; stroke-opacity:1; fill:none\\\" points=\\\"\\n  3290.62,346.311 3314.21,346.311 \\n  \\\"\\/>\\n<polyline clip-path=\\\"url(#clip3500)\\\" style=\\\"stroke:#000000; stroke-width:4; stroke-opacity:1; fill:none\\\" points=\\\"\\n  3290.62,92.3336 3314.21,92.3336 \\n  \\\"\\/>\\n<g clip-path=\\\"url(#clip3500)\\\">\\n<text style=\\\"fill:#000000; fill-opacity:1; font-family:Arial,Helvetica Neue,Helvetica,sans-serif; font-size:48px; text-anchor:middle;\\\" transform=\\\"rotate(0, 1979.95, 660.287)\\\" x=\\\"1979.95\\\" y=\\\"660.287\\\">-5<\\/text>\\n<\\/g>\\n<g clip-path=\\\"url(#clip3500)\\\">\\n<text style=\\\"fill:#000000; fill-opacity:1; font-family:Arial,Helvetica Neue,Helvetica,sans-serif; font-size:48px; text-anchor:middle;\\\" transform=\\\"rotate(0, 2242.09, 660.287)\\\" x=\\\"2242.09\\\" y=\\\"660.287\\\">-4<\\/text>\\n<\\/g>\\n<g clip-path=\\\"url(#clip3500)\\\">\\n<text style=\\\"fill:#000000; fill-opacity:1; font-family:Arial,Helvetica Neue,Helvetica,sans-serif; font-size:48px; text-anchor:middle;\\\" transform=\\\"rotate(0, 2504.22, 660.287)\\\" x=\\\"2504.22\\\" y=\\\"660.287\\\">-3<\\/text>\\n<\\/g>\\n<g clip-path=\\\"url(#clip3500)\\\">\\n<text style=\\\"fill:#000000; fill-opacity:1; font-family:Arial,Helvetica Neue,Helvetica,sans-serif; font-size:48px; text-anchor:middle;\\\" transform=\\\"rotate(0, 2766.35, 660.287)\\\" x=\\\"2766.35\\\" y=\\\"660.287\\\">-2<\\/text>\\n<\\/g>\\n<g clip-path=\\\"url(#clip3500)\\\">\\n<text style=\\\"fill:#000000; fill-opacity:1; font-family:Arial,Helvetica Neue,Helvetica,sans-serif; font-size:48px; text-anchor:middle;\\\" transform=\\\"rotate(0, 3028.49, 660.287)\\\" x=\\\"3028.49\\\" y=\\\"660.287\\\">-1<\\/text>\\n<\\/g>\\n<g clip-path=\\\"url(#clip3500)\\\">\\n<text style=\\\"fill:#000000; fill-opacity:1; font-family:Arial,Helvetica Neue,Helvetica,sans-serif; font-size:48px; text-anchor:middle;\\\" transform=\\\"rotate(0, 3552.76, 660.287)\\\" x=\\\"3552.76\\\" y=\\\"660.287\\\">1<\\/text>\\n<\\/g>\\n<g clip-path=\\\"url(#clip3500)\\\">\\n<text style=\\\"fill:#000000; fill-opacity:1; font-family:Arial,Helvetica Neue,Helvetica,sans-serif; font-size:48px; text-anchor:end;\\\" transform=\\\"rotate(0, 3254.62, 1125.74)\\\" x=\\\"3254.62\\\" y=\\\"1125.74\\\">-5.0<\\/text>\\n<\\/g>\\n<g clip-path=\\\"url(#clip3500)\\\">\\n<text style=\\\"fill:#000000; fill-opacity:1; font-family:Arial,Helvetica Neue,Helvetica,sans-serif; font-size:48px; text-anchor:end;\\\" transform=\\\"rotate(0, 3254.62, 871.764)\\\" x=\\\"3254.62\\\" y=\\\"871.764\\\">-2.5<\\/text>\\n<\\/g>\\n<g clip-path=\\\"url(#clip3500)\\\">\\n<text style=\\\"fill:#000000; fill-opacity:1; font-family:Arial,Helvetica Neue,Helvetica,sans-serif; font-size:48px; text-anchor:end;\\\" transform=\\\"rotate(0, 3254.62, 363.811)\\\" x=\\\"3254.62\\\" y=\\\"363.811\\\">2.5<\\/text>\\n<\\/g>\\n<g clip-path=\\\"url(#clip3500)\\\">\\n<text style=\\\"fill:#000000; fill-opacity:1; font-family:Arial,Helvetica Neue,Helvetica,sans-serif; font-size:48px; text-anchor:end;\\\" transform=\\\"rotate(0, 3254.62, 109.834)\\\" x=\\\"3254.62\\\" y=\\\"109.834\\\">5.0<\\/text>\\n<\\/g>\\n<g clip-path=\\\"url(#clip3500)\\\">\\n<text style=\\\"fill:#000000; fill-opacity:1; font-family:Arial,Helvetica Neue,Helvetica,sans-serif; font-size:82px; text-anchor:middle;\\\" transform=\\\"rotate(0, 2766.35, 72)\\\" x=\\\"2766.35\\\" y=\\\"72\\\">Lugar geométrico de las raices<\\/text>\\n<\\/g>\\n<polyline clip-path=\\\"url(#clip3503)\\\" style=\\\"stroke:#009af9; stroke-width:4; stroke-opacity:1; fill:none\\\" points=\\\"\\n  3399.84,956.98 3399.84,956.98 3399.84,956.982 3399.84,956.998 3399.84,957.108 3399.84,957.932 3399.84,960.423 3399.84,964.569 \\n  \\\"\\/>\\n<polyline clip-path=\\\"url(#clip3503)\\\" style=\\\"stroke:#e26f46; stroke-width:4; stroke-opacity:1; fill:none\\\" points=\\\"\\n  3399.84,243.595 3399.84,243.595 3399.84,243.593 3399.84,243.577 3399.84,243.466 3399.84,242.643 3399.84,240.152 3399.84,236.006 \\n  \\\"\\/>\\n<line clip-path=\\\"url(#clip3503)\\\" x1=\\\"3399.84\\\" y1=\\\"956.98\\\" x2=\\\"3355.84\\\" y2=\\\"1000.98\\\" style=\\\"stroke:#000000; stroke-width:4; stroke-opacity:1\\\"\\/>\\n<line clip-path=\\\"url(#clip3503)\\\" x1=\\\"3399.84\\\" y1=\\\"956.98\\\" x2=\\\"3355.84\\\" y2=\\\"912.98\\\" style=\\\"stroke:#000000; stroke-width:4; stroke-opacity:1\\\"\\/>\\n<line clip-path=\\\"url(#clip3503)\\\" x1=\\\"3399.84\\\" y1=\\\"956.98\\\" x2=\\\"3443.84\\\" y2=\\\"912.98\\\" style=\\\"stroke:#000000; stroke-width:4; stroke-opacity:1\\\"\\/>\\n<line clip-path=\\\"url(#clip3503)\\\" x1=\\\"3399.84\\\" y1=\\\"956.98\\\" x2=\\\"3443.84\\\" y2=\\\"1000.98\\\" style=\\\"stroke:#000000; stroke-width:4; stroke-opacity:1\\\"\\/>\\n<line clip-path=\\\"url(#clip3503)\\\" x1=\\\"3399.84\\\" y1=\\\"956.98\\\" x2=\\\"3359.84\\\" y2=\\\"996.98\\\" style=\\\"stroke:#c271d2; stroke-width:4; stroke-opacity:1\\\"\\/>\\n<line clip-path=\\\"url(#clip3503)\\\" x1=\\\"3399.84\\\" y1=\\\"956.98\\\" x2=\\\"3359.84\\\" y2=\\\"916.98\\\" style=\\\"stroke:#c271d2; stroke-width:4; stroke-opacity:1\\\"\\/>\\n<line clip-path=\\\"url(#clip3503)\\\" x1=\\\"3399.84\\\" y1=\\\"956.98\\\" x2=\\\"3439.84\\\" y2=\\\"916.98\\\" style=\\\"stroke:#c271d2; stroke-width:4; stroke-opacity:1\\\"\\/>\\n<line clip-path=\\\"url(#clip3503)\\\" x1=\\\"3399.84\\\" y1=\\\"956.98\\\" x2=\\\"3439.84\\\" y2=\\\"996.98\\\" style=\\\"stroke:#c271d2; stroke-width:4; stroke-opacity:1\\\"\\/>\\n<line clip-path=\\\"url(#clip3503)\\\" x1=\\\"3399.84\\\" y1=\\\"243.595\\\" x2=\\\"3355.84\\\" y2=\\\"287.595\\\" style=\\\"stroke:#000000; stroke-width:4; stroke-opacity:1\\\"\\/>\\n<line clip-path=\\\"url(#clip3503)\\\" x1=\\\"3399.84\\\" y1=\\\"243.595\\\" x2=\\\"3355.84\\\" y2=\\\"199.595\\\" style=\\\"stroke:#000000; stroke-width:4; stroke-opacity:1\\\"\\/>\\n<line clip-path=\\\"url(#clip3503)\\\" x1=\\\"3399.84\\\" y1=\\\"243.595\\\" x2=\\\"3443.84\\\" y2=\\\"199.595\\\" style=\\\"stroke:#000000; stroke-width:4; stroke-opacity:1\\\"\\/>\\n<line clip-path=\\\"url(#clip3503)\\\" x1=\\\"3399.84\\\" y1=\\\"243.595\\\" x2=\\\"3443.84\\\" y2=\\\"287.595\\\" style=\\\"stroke:#000000; stroke-width:4; stroke-opacity:1\\\"\\/>\\n<line clip-path=\\\"url(#clip3503)\\\" x1=\\\"3399.84\\\" y1=\\\"243.595\\\" x2=\\\"3359.84\\\" y2=\\\"283.595\\\" style=\\\"stroke:#c271d2; stroke-width:4; stroke-opacity:1\\\"\\/>\\n<line clip-path=\\\"url(#clip3503)\\\" x1=\\\"3399.84\\\" y1=\\\"243.595\\\" x2=\\\"3359.84\\\" y2=\\\"203.595\\\" style=\\\"stroke:#c271d2; stroke-width:4; stroke-opacity:1\\\"\\/>\\n<line clip-path=\\\"url(#clip3503)\\\" x1=\\\"3399.84\\\" y1=\\\"243.595\\\" x2=\\\"3439.84\\\" y2=\\\"203.595\\\" style=\\\"stroke:#c271d2; stroke-width:4; stroke-opacity:1\\\"\\/>\\n<line clip-path=\\\"url(#clip3503)\\\" x1=\\\"3399.84\\\" y1=\\\"243.595\\\" x2=\\\"3439.84\\\" y2=\\\"283.595\\\" style=\\\"stroke:#c271d2; stroke-width:4; stroke-opacity:1\\\"\\/>\\n<\\/svg>\\n\"},\"nodeType\":\"DOM\",\"type\":\"node\",\"instanceArgs\":{\"namespace\":\"html\",\"tag\":\"div\"},\"children\":[]}]}}}},\"children\":[{\"props\":{},\"nodeType\":\"ObservableNode\",\"type\":\"node\",\"instanceArgs\":{\"id\":\"ob_09\",\"name\":\"obs-node\"},\"children\":[]}]}]},\n",
       "            window,\n",
       "        );\n",
       "    } else {\n",
       "        document\n",
       "            .querySelector('[data-webio-mountpoint=\"3864632893374618763\"]')\n",
       "            .innerHTML = '<strong>WebIO not detected.</strong>';\n",
       "    }\n",
       "    </script>\n",
       "</div>\n"
      ],
      "text/plain": [
       "Node{WebIO.DOM}(WebIO.DOM(:html, :div), Any[Node{DOM}(DOM(:html, :div), Any[Scope(Node{DOM}(DOM(:html, :div), Any[Node{DOM}(DOM(:html, :div), Any[Node{DOM}(DOM(:html, :label), Any[\"k\"], Dict{Symbol,Any}(:className=>\"interact \",:style=>Dict{Any,Any}(:padding=>\"5px 10px 0px 10px\")))], Dict{Symbol,Any}(:className=>\"interact-flex-row-left\")), Node{DOM}(DOM(:html, :div), Any[Node{DOM}(DOM(:html, :input), Any[], Dict{Symbol,Any}(:max=>300,:min=>1,:attributes=>Dict{Any,Any}(:type=>\"range\",Symbol(\"data-bind\")=>\"numericValue: index, valueUpdate: 'input', event: {change: function (){this.changes(this.changes()+1)}}\",\"orient\"=>\"horizontal\"),:step=>1,:className=>\"slider slider is-fullwidth\",:style=>Dict{Any,Any}()))], Dict{Symbol,Any}(:className=>\"interact-flex-row-center\")), Node{DOM}(DOM(:html, :div), Any[Node{DOM}(DOM(:html, :p), Any[], Dict{Symbol,Any}(:attributes=>Dict(\"data-bind\"=>\"text: formatted_val\")))], Dict{Symbol,Any}(:className=>\"interact-flex-row-right\"))], Dict{Symbol,Any}(:className=>\"interact-flex-row interact-widget\")), Dict{String,Tuple{Observables.AbstractObservable,Union{Nothing, Bool}}}(\"changes\"=>(Observable{Int64} with 1 listeners. Value:\n",
       "0, nothing),\"index\"=>(Observable{Any} with 2 listeners. Value:\n",
       "150, nothing)), Set(String[]), nothing, Asset[Asset(\"js\", \"knockout\", \"/Users/roberto/.julia/packages/Knockout/1sDlc/src/../assets/knockout.js\"), Asset(\"js\", \"knockout_punches\", \"/Users/roberto/.julia/packages/Knockout/1sDlc/src/../assets/knockout_punches.js\"), Asset(\"js\", nothing, \"/Users/roberto/.julia/packages/InteractBase/l8cEC/src/../assets/all.js\"), Asset(\"css\", nothing, \"/Users/roberto/.julia/packages/InteractBase/l8cEC/src/../assets/style.css\"), Asset(\"css\", nothing, \"/Users/roberto/.julia/packages/Interact/0klKX/src/../assets/bulma_confined.min.css\")], Dict{Any,Any}(\"changes\"=>Any[JSString(\"(function (val){return (val!=this.model[\\\"changes\\\"]()) ? (this.valueFromJulia[\\\"changes\\\"]=true, this.model[\\\"changes\\\"](val)) : undefined})\")],\"index\"=>Any[JSString(\"(function (val){return (val!=this.model[\\\"index\\\"]()) ? (this.valueFromJulia[\\\"index\\\"]=true, this.model[\\\"index\\\"](val)) : undefined})\")]), ConnectionPool(Channel{Any}(sz_max:9223372036854775807,sz_curr:0), Set(AbstractConnection[]), Channel{AbstractConnection}(sz_max:32,sz_curr:0)), WebIO.JSString[JSString(\"function () {\\n    var handler = (function (ko, koPunches) {\\n    ko.punches.enableAll();\\n    ko.bindingHandlers.numericValue = {\\n        init: function(element, valueAccessor, allBindings, data, context) {\\n            var stringified = ko.observable(ko.unwrap(valueAccessor()));\\n            stringified.subscribe(function(value) {\\n                var val = parseFloat(value);\\n                if (!isNaN(val)) {\\n                    valueAccessor()(val);\\n                }\\n            });\\n            valueAccessor().subscribe(function(value) {\\n                var str = JSON.stringify(value);\\n                if ((str == \\\"0\\\") && ([\\\"-0\\\", \\\"-0.\\\"].indexOf(stringified()) >= 0))\\n                     return;\\n                 if ([\\\"null\\\", \\\"\\\"].indexOf(str) >= 0)\\n                     return;\\n                stringified(str);\\n            });\\n            ko.applyBindingsToNode(\\n                element,\\n                {\\n                    value: stringified,\\n                    valueUpdate: allBindings.get('valueUpdate'),\\n                },\\n                context,\\n            );\\n        }\\n    };\\n    var json_data = {\\\"formatted_vals\\\":[\\\"0.01\\\",\\\"0.02\\\",\\\"0.03\\\",\\\"0.04\\\",\\\"0.05\\\",\\\"0.06\\\",\\\"0.07\\\",\\\"0.08\\\",\\\"0.09\\\",\\\"0.1\\\",\\\"0.11\\\",\\\"0.12\\\",\\\"0.13\\\",\\\"0.14\\\",\\\"0.15\\\",\\\"0.16\\\",\\\"0.17\\\",\\\"0.18\\\",\\\"0.19\\\",\\\"0.2\\\",\\\"0.21\\\",\\\"0.22\\\",\\\"0.23\\\",\\\"0.24\\\",\\\"0.25\\\",\\\"0.26\\\",\\\"0.27\\\",\\\"0.28\\\",\\\"0.29\\\",\\\"0.3\\\",\\\"0.31\\\",\\\"0.32\\\",\\\"0.33\\\",\\\"0.34\\\",\\\"0.35\\\",\\\"0.36\\\",\\\"0.37\\\",\\\"0.38\\\",\\\"0.39\\\",\\\"0.4\\\",\\\"0.41\\\",\\\"0.42\\\",\\\"0.43\\\",\\\"0.44\\\",\\\"0.45\\\",\\\"0.46\\\",\\\"0.47\\\",\\\"0.48\\\",\\\"0.49\\\",\\\"0.5\\\",\\\"0.51\\\",\\\"0.52\\\",\\\"0.53\\\",\\\"0.54\\\",\\\"0.55\\\",\\\"0.56\\\",\\\"0.57\\\",\\\"0.58\\\",\\\"0.59\\\",\\\"0.6\\\",\\\"0.61\\\",\\\"0.62\\\",\\\"0.63\\\",\\\"0.64\\\",\\\"0.65\\\",\\\"0.66\\\",\\\"0.67\\\",\\\"0.68\\\",\\\"0.69\\\",\\\"0.7\\\",\\\"0.71\\\",\\\"0.72\\\",\\\"0.73\\\",\\\"0.74\\\",\\\"0.75\\\",\\\"0.76\\\",\\\"0.77\\\",\\\"0.78\\\",\\\"0.79\\\",\\\"0.8\\\",\\\"0.81\\\",\\\"0.82\\\",\\\"0.83\\\",\\\"0.84\\\",\\\"0.85\\\",\\\"0.86\\\",\\\"0.87\\\",\\\"0.88\\\",\\\"0.89\\\",\\\"0.9\\\",\\\"0.91\\\",\\\"0.92\\\",\\\"0.93\\\",\\\"0.94\\\",\\\"0.95\\\",\\\"0.96\\\",\\\"0.97\\\",\\\"0.98\\\",\\\"0.99\\\",\\\"1.0\\\",\\\"1.01\\\",\\\"1.02\\\",\\\"1.03\\\",\\\"1.04\\\",\\\"1.05\\\",\\\"1.06\\\",\\\"1.07\\\",\\\"1.08\\\",\\\"1.09\\\",\\\"1.1\\\",\\\"1.11\\\",\\\"1.12\\\",\\\"1.13\\\",\\\"1.14\\\",\\\"1.15\\\",\\\"1.16\\\",\\\"1.17\\\",\\\"1.18\\\",\\\"1.19\\\",\\\"1.2\\\",\\\"1.21\\\",\\\"1.22\\\",\\\"1.23\\\",\\\"1.24\\\",\\\"1.25\\\",\\\"1.26\\\",\\\"1.27\\\",\\\"1.28\\\",\\\"1.29\\\",\\\"1.3\\\",\\\"1.31\\\",\\\"1.32\\\",\\\"1.33\\\",\\\"1.34\\\",\\\"1.35\\\",\\\"1.36\\\",\\\"1.37\\\",\\\"1.38\\\",\\\"1.39\\\",\\\"1.4\\\",\\\"1.41\\\",\\\"1.42\\\",\\\"1.43\\\",\\\"1.44\\\",\\\"1.45\\\",\\\"1.46\\\",\\\"1.47\\\",\\\"1.48\\\",\\\"1.49\\\",\\\"1.5\\\",\\\"1.51\\\",\\\"1.52\\\",\\\"1.53\\\",\\\"1.54\\\",\\\"1.55\\\",\\\"1.56\\\",\\\"1.57\\\",\\\"1.58\\\",\\\"1.59\\\",\\\"1.6\\\",\\\"1.61\\\",\\\"1.62\\\",\\\"1.63\\\",\\\"1.64\\\",\\\"1.65\\\",\\\"1.66\\\",\\\"1.67\\\",\\\"1.68\\\",\\\"1.69\\\",\\\"1.7\\\",\\\"1.71\\\",\\\"1.72\\\",\\\"1.73\\\",\\\"1.74\\\",\\\"1.75\\\",\\\"1.76\\\",\\\"1.77\\\",\\\"1.78\\\",\\\"1.79\\\",\\\"1.8\\\",\\\"1.81\\\",\\\"1.82\\\",\\\"1.83\\\",\\\"1.84\\\",\\\"1.85\\\",\\\"1.86\\\",\\\"1.87\\\",\\\"1.88\\\",\\\"1.89\\\",\\\"1.9\\\",\\\"1.91\\\",\\\"1.92\\\",\\\"1.93\\\",\\\"1.94\\\",\\\"1.95\\\",\\\"1.96\\\",\\\"1.97\\\",\\\"1.98\\\",\\\"1.99\\\",\\\"2.0\\\",\\\"2.01\\\",\\\"2.02\\\",\\\"2.03\\\",\\\"2.04\\\",\\\"2.05\\\",\\\"2.06\\\",\\\"2.07\\\",\\\"2.08\\\",\\\"2.09\\\",\\\"2.1\\\",\\\"2.11\\\",\\\"2.12\\\",\\\"2.13\\\",\\\"2.14\\\",\\\"2.15\\\",\\\"2.16\\\",\\\"2.17\\\",\\\"2.18\\\",\\\"2.19\\\",\\\"2.2\\\",\\\"2.21\\\",\\\"2.22\\\",\\\"2.23\\\",\\\"2.24\\\",\\\"2.25\\\",\\\"2.26\\\",\\\"2.27\\\",\\\"2.28\\\",\\\"2.29\\\",\\\"2.3\\\",\\\"2.31\\\",\\\"2.32\\\",\\\"2.33\\\",\\\"2.34\\\",\\\"2.35\\\",\\\"2.36\\\",\\\"2.37\\\",\\\"2.38\\\",\\\"2.39\\\",\\\"2.4\\\",\\\"2.41\\\",\\\"2.42\\\",\\\"2.43\\\",\\\"2.44\\\",\\\"2.45\\\",\\\"2.46\\\",\\\"2.47\\\",\\\"2.48\\\",\\\"2.49\\\",\\\"2.5\\\",\\\"2.51\\\",\\\"2.52\\\",\\\"2.53\\\",\\\"2.54\\\",\\\"2.55\\\",\\\"2.56\\\",\\\"2.57\\\",\\\"2.58\\\",\\\"2.59\\\",\\\"2.6\\\",\\\"2.61\\\",\\\"2.62\\\",\\\"2.63\\\",\\\"2.64\\\",\\\"2.65\\\",\\\"2.66\\\",\\\"2.67\\\",\\\"2.68\\\",\\\"2.69\\\",\\\"2.7\\\",\\\"2.71\\\",\\\"2.72\\\",\\\"2.73\\\",\\\"2.74\\\",\\\"2.75\\\",\\\"2.76\\\",\\\"2.77\\\",\\\"2.78\\\",\\\"2.79\\\",\\\"2.8\\\",\\\"2.81\\\",\\\"2.82\\\",\\\"2.83\\\",\\\"2.84\\\",\\\"2.85\\\",\\\"2.86\\\",\\\"2.87\\\",\\\"2.88\\\",\\\"2.89\\\",\\\"2.9\\\",\\\"2.91\\\",\\\"2.92\\\",\\\"2.93\\\",\\\"2.94\\\",\\\"2.95\\\",\\\"2.96\\\",\\\"2.97\\\",\\\"2.98\\\",\\\"2.99\\\",\\\"3.0\\\"],\\\"changes\\\":WebIO.getval({\\\"name\\\":\\\"changes\\\",\\\"scope\\\":\\\"1132875407272265265\\\",\\\"id\\\":\\\"ob_03\\\",\\\"type\\\":\\\"observable\\\"}),\\\"index\\\":WebIO.getval({\\\"name\\\":\\\"index\\\",\\\"scope\\\":\\\"1132875407272265265\\\",\\\"id\\\":\\\"ob_02\\\",\\\"type\\\":\\\"observable\\\"})};\\n    var self = this;\\n    function AppViewModel() {\\n        for (var key in json_data) {\\n            var el = json_data[key];\\n            this[key] = Array.isArray(el) ? ko.observableArray(el) : ko.observable(el);\\n        }\\n        \\n        [this[\\\"formatted_val\\\"]=ko.computed(    function(){\\n        return this.formatted_vals()[parseInt(this.index())-(1)];\\n    }\\n,this)]\\n        [this[\\\"changes\\\"].subscribe((function (val){!(this.valueFromJulia[\\\"changes\\\"]) ? (WebIO.setval({\\\"name\\\":\\\"changes\\\",\\\"scope\\\":\\\"1132875407272265265\\\",\\\"id\\\":\\\"ob_03\\\",\\\"type\\\":\\\"observable\\\"},val)) : undefined; return this.valueFromJulia[\\\"changes\\\"]=false}),self),this[\\\"index\\\"].subscribe((function (val){!(this.valueFromJulia[\\\"index\\\"]) ? (WebIO.setval({\\\"name\\\":\\\"index\\\",\\\"scope\\\":\\\"1132875407272265265\\\",\\\"id\\\":\\\"ob_02\\\",\\\"type\\\":\\\"observable\\\"},val)) : undefined; return this.valueFromJulia[\\\"index\\\"]=false}),self)]\\n        \\n    }\\n    self.model = new AppViewModel();\\n    self.valueFromJulia = {};\\n    for (var key in json_data) {\\n        self.valueFromJulia[key] = false;\\n    }\\n    ko.applyBindings(self.model, self.dom);\\n}\\n);\\n    (WebIO.importBlock({\\\"data\\\":[{\\\"name\\\":\\\"knockout\\\",\\\"type\\\":\\\"js\\\",\\\"url\\\":\\\"/assetserver/1418600122391479348d6b70f8fc3978f3015b35-knockout.js\\\"},{\\\"name\\\":\\\"knockout_punches\\\",\\\"type\\\":\\\"js\\\",\\\"url\\\":\\\"/assetserver/cd3f841ffabd7ce8124a19658c02643a3dce952c-knockout_punches.js\\\"}],\\\"type\\\":\\\"async_block\\\"})).then((imports) => handler.apply(this, imports));\\n}\\n\")])], Dict{Symbol,Any}(:className=>\"field interact-widget\")), Node{DOM}(DOM(:html, :div), Any[Scope(Node{DOM}(DOM(:html, :div), Any[Node{DOM}(DOM(:html, :div), Any[Node{DOM}(DOM(:html, :label), Any[\"t\"], Dict{Symbol,Any}(:className=>\"interact \",:style=>Dict{Any,Any}(:padding=>\"5px 10px 0px 10px\")))], Dict{Symbol,Any}(:className=>\"interact-flex-row-left\")), Node{DOM}(DOM(:html, :div), Any[Node{DOM}(DOM(:html, :input), Any[], Dict{Symbol,Any}(:max=>20,:min=>5,:attributes=>Dict{Any,Any}(:type=>\"range\",Symbol(\"data-bind\")=>\"numericValue: index, valueUpdate: 'input', event: {change: function (){this.changes(this.changes()+1)}}\",\"orient\"=>\"horizontal\"),:step=>1,:className=>\"slider slider is-fullwidth\",:style=>Dict{Any,Any}()))], Dict{Symbol,Any}(:className=>\"interact-flex-row-center\")), Node{DOM}(DOM(:html, :div), Any[Node{DOM}(DOM(:html, :p), Any[], Dict{Symbol,Any}(:attributes=>Dict(\"data-bind\"=>\"text: formatted_val\")))], Dict{Symbol,Any}(:className=>\"interact-flex-row-right\"))], Dict{Symbol,Any}(:className=>\"interact-flex-row interact-widget\")), Dict{String,Tuple{Observables.AbstractObservable,Union{Nothing, Bool}}}(\"changes\"=>(Observable{Int64} with 1 listeners. Value:\n",
       "0, nothing),\"index\"=>(Observable{Int64} with 2 listeners. Value:\n",
       "12, nothing)), Set(String[]), nothing, Asset[Asset(\"js\", \"knockout\", \"/Users/roberto/.julia/packages/Knockout/1sDlc/src/../assets/knockout.js\"), Asset(\"js\", \"knockout_punches\", \"/Users/roberto/.julia/packages/Knockout/1sDlc/src/../assets/knockout_punches.js\"), Asset(\"js\", nothing, \"/Users/roberto/.julia/packages/InteractBase/l8cEC/src/../assets/all.js\"), Asset(\"css\", nothing, \"/Users/roberto/.julia/packages/InteractBase/l8cEC/src/../assets/style.css\"), Asset(\"css\", nothing, \"/Users/roberto/.julia/packages/Interact/0klKX/src/../assets/bulma_confined.min.css\")], Dict{Any,Any}(\"changes\"=>Any[JSString(\"(function (val){return (val!=this.model[\\\"changes\\\"]()) ? (this.valueFromJulia[\\\"changes\\\"]=true, this.model[\\\"changes\\\"](val)) : undefined})\")],\"index\"=>Any[JSString(\"(function (val){return (val!=this.model[\\\"index\\\"]()) ? (this.valueFromJulia[\\\"index\\\"]=true, this.model[\\\"index\\\"](val)) : undefined})\")]), ConnectionPool(Channel{Any}(sz_max:9223372036854775807,sz_curr:0), Set(AbstractConnection[]), Channel{AbstractConnection}(sz_max:32,sz_curr:0)), WebIO.JSString[JSString(\"function () {\\n    var handler = (function (ko, koPunches) {\\n    ko.punches.enableAll();\\n    ko.bindingHandlers.numericValue = {\\n        init: function(element, valueAccessor, allBindings, data, context) {\\n            var stringified = ko.observable(ko.unwrap(valueAccessor()));\\n            stringified.subscribe(function(value) {\\n                var val = parseFloat(value);\\n                if (!isNaN(val)) {\\n                    valueAccessor()(val);\\n                }\\n            });\\n            valueAccessor().subscribe(function(value) {\\n                var str = JSON.stringify(value);\\n                if ((str == \\\"0\\\") && ([\\\"-0\\\", \\\"-0.\\\"].indexOf(stringified()) >= 0))\\n                     return;\\n                 if ([\\\"null\\\", \\\"\\\"].indexOf(str) >= 0)\\n                     return;\\n                stringified(str);\\n            });\\n            ko.applyBindingsToNode(\\n                element,\\n                {\\n                    value: stringified,\\n                    valueUpdate: allBindings.get('valueUpdate'),\\n                },\\n                context,\\n            );\\n        }\\n    };\\n    var json_data = {\\\"formatted_vals\\\":[\\\"5\\\",\\\"6\\\",\\\"7\\\",\\\"8\\\",\\\"9\\\",\\\"10\\\",\\\"11\\\",\\\"12\\\",\\\"13\\\",\\\"14\\\",\\\"15\\\",\\\"16\\\",\\\"17\\\",\\\"18\\\",\\\"19\\\",\\\"20\\\"],\\\"changes\\\":WebIO.getval({\\\"name\\\":\\\"changes\\\",\\\"scope\\\":\\\"13640931925240108790\\\",\\\"id\\\":\\\"ob_05\\\",\\\"type\\\":\\\"observable\\\"}),\\\"index\\\":WebIO.getval({\\\"name\\\":\\\"index\\\",\\\"scope\\\":\\\"13640931925240108790\\\",\\\"id\\\":\\\"ob_04\\\",\\\"type\\\":\\\"observable\\\"})};\\n    var self = this;\\n    function AppViewModel() {\\n        for (var key in json_data) {\\n            var el = json_data[key];\\n            this[key] = Array.isArray(el) ? ko.observableArray(el) : ko.observable(el);\\n        }\\n        \\n        [this[\\\"formatted_val\\\"]=ko.computed(    function(){\\n        return this.formatted_vals()[parseInt(this.index())-(5)];\\n    }\\n,this)]\\n        [this[\\\"changes\\\"].subscribe((function (val){!(this.valueFromJulia[\\\"changes\\\"]) ? (WebIO.setval({\\\"name\\\":\\\"changes\\\",\\\"scope\\\":\\\"13640931925240108790\\\",\\\"id\\\":\\\"ob_05\\\",\\\"type\\\":\\\"observable\\\"},val)) : undefined; return this.valueFromJulia[\\\"changes\\\"]=false}),self),this[\\\"index\\\"].subscribe((function (val){!(this.valueFromJulia[\\\"index\\\"]) ? (WebIO.setval({\\\"name\\\":\\\"index\\\",\\\"scope\\\":\\\"13640931925240108790\\\",\\\"id\\\":\\\"ob_04\\\",\\\"type\\\":\\\"observable\\\"},val)) : undefined; return this.valueFromJulia[\\\"index\\\"]=false}),self)]\\n        \\n    }\\n    self.model = new AppViewModel();\\n    self.valueFromJulia = {};\\n    for (var key in json_data) {\\n        self.valueFromJulia[key] = false;\\n    }\\n    ko.applyBindings(self.model, self.dom);\\n}\\n);\\n    (WebIO.importBlock({\\\"data\\\":[{\\\"name\\\":\\\"knockout\\\",\\\"type\\\":\\\"js\\\",\\\"url\\\":\\\"/assetserver/1418600122391479348d6b70f8fc3978f3015b35-knockout.js\\\"},{\\\"name\\\":\\\"knockout_punches\\\",\\\"type\\\":\\\"js\\\",\\\"url\\\":\\\"/assetserver/cd3f841ffabd7ce8124a19658c02643a3dce952c-knockout_punches.js\\\"}],\\\"type\\\":\\\"async_block\\\"})).then((imports) => handler.apply(this, imports));\\n}\\n\")])], Dict{Symbol,Any}(:className=>\"field interact-widget\")), Observable{Any} with 0 listeners. Value:\n",
       "Node{DOM}(DOM(:html, :div), Any[Plot{Plots.GRBackend() n=5}], Dict{Symbol,Any}(:className=>\"interact-flex-row interact-widget\"))], Dict{Symbol,Any}())"
      ]
     },
     "execution_count": 5,
     "metadata": {},
     "output_type": "execute_result"
    }
   ],
   "source": [
    "ui = @manipulate for k in 0.01:0.01:3, t in 5:20\n",
    "    Gc = k\n",
    "    Glc = Gc*G/(1+Gc*G)\n",
    "    \n",
    "    p1 = stepplot(Glc, t, size = (900,300), frame_style=:origin)\n",
    "    xlabel!(\"\")\n",
    "    ylabel!(\"\")\n",
    "    title!(\"Respuesta a escalon unitario\")\n",
    "    xlims!(-0.1,t)\n",
    "    ylims!(-0.1,2)\n",
    "    \n",
    "    p2 = rlocusplot(minreal(Glc), size = (900,300), frame_style=:origin)\n",
    "    xlabel!(\"\")\n",
    "    ylabel!(\"\")\n",
    "    title!(\"Lugar geométrico de las raices\")\n",
    "    xlims!(-5, 1)\n",
    "    ylims!(-5,5)\n",
    "    \n",
    "    plot(p1,p2, layout=(1,2), legend=false)\n",
    "end"
   ]
  },
  {
   "cell_type": "code",
   "execution_count": null,
   "metadata": {},
   "outputs": [],
   "source": []
  }
 ],
 "metadata": {
  "@webio": {
   "lastCommId": "88e17dab-d280-447e-ade4-338b7ecadd68",
   "lastKernelId": "8bfd9804-18ba-462f-b878-6fd8128021b6"
  },
  "kernelspec": {
   "display_name": "Julia 1.1.0",
   "language": "julia",
   "name": "julia-1.1"
  },
  "language_info": {
   "file_extension": ".jl",
   "mimetype": "application/julia",
   "name": "julia",
   "version": "1.1.0"
  }
 },
 "nbformat": 4,
 "nbformat_minor": 4
}
