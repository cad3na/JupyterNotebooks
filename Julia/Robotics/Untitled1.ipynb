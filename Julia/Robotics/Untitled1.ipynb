{
 "cells": [
  {
   "cell_type": "code",
   "execution_count": 26,
   "metadata": {},
   "outputs": [],
   "source": [
    "using MeshCat\n",
    "using RigidBodyDynamics\n",
    "using MeshCatMechanisms"
   ]
  },
  {
   "cell_type": "code",
   "execution_count": 35,
   "metadata": {},
   "outputs": [
    {
     "name": "stderr",
     "output_type": "stream",
     "text": [
      "┌ Info: Serving MeshCat visualizer at http://127.0.0.1:8702\n",
      "└ @ MeshCat /Users/roberto/.julia/packages/MeshCat/GlxLQ/src/servers.jl:7\n",
      "┌ Info: Listening on: Sockets.InetAddr{Sockets.IPv4}(ip\"127.0.0.1\", 0x21fe)\n",
      "└ @ HTTP.Servers /Users/roberto/.julia/packages/HTTP/YjRCz/src/Servers.jl:301\n"
     ]
    },
    {
     "data": {
      "text/plain": [
       "Process(`\u001b[4mopen\u001b[24m \u001b[4mhttp://127.0.0.1:8702\u001b[24m`, ProcessExited(0))"
      ]
     },
     "execution_count": 35,
     "metadata": {},
     "output_type": "execute_result"
    },
    {
     "name": "stderr",
     "output_type": "stream",
     "text": [
      "┌ Info: Accept (0):  🔗    0↑     0↓    0s 127.0.0.1:8702:8702 ≣16\n",
      "└ @ HTTP.Servers /Users/roberto/.julia/packages/HTTP/YjRCz/src/Servers.jl:343\n",
      "┌ Info: Accept (1):  🔗    0↑     0↓    0s 127.0.0.1:8702:8702 ≣16\n",
      "└ @ HTTP.Servers /Users/roberto/.julia/packages/HTTP/YjRCz/src/Servers.jl:343\n",
      "┌ Info: Accept (2):  🔗    0↑     0↓    0s 127.0.0.1:8702:8702 ≣16\n",
      "└ @ HTTP.Servers /Users/roberto/.julia/packages/HTTP/YjRCz/src/Servers.jl:343\n"
     ]
    }
   ],
   "source": [
    "vis = Visualizer()\n",
    "#IJuliaCell(vis)\n",
    "open(vis)"
   ]
  },
  {
   "cell_type": "code",
   "execution_count": 36,
   "metadata": {},
   "outputs": [
    {
     "name": "stderr",
     "output_type": "stream",
     "text": [
      "┌ Info: Closed (0):  💀    2↑     2↓🔒 116s 127.0.0.1:8702:8702 ≣16\n",
      "└ @ HTTP.Servers /Users/roberto/.julia/packages/HTTP/YjRCz/src/Servers.jl:351\n",
      "┌ Info: Closed (1):  💀    5↑     5↓🔒 115s 127.0.0.1:8702:8702 ≣16\n",
      "└ @ HTTP.Servers /Users/roberto/.julia/packages/HTTP/YjRCz/src/Servers.jl:351\n"
     ]
    }
   ],
   "source": [
    "urdf = joinpath(dirname(pathof(MeshCatMechanisms)), \"..\", \"test\", \"urdf\", \"Acrobot.urdf\")\n",
    "robot = parse_urdf(Float64, urdf)\n",
    "delete!(vis)\n",
    "mvis = MechanismVisualizer(robot, URDFVisuals(urdf), vis)\n",
    "set_configuration!(mvis, [0.0, 0.0])"
   ]
  },
  {
   "cell_type": "code",
   "execution_count": 33,
   "metadata": {},
   "outputs": [],
   "source": [
    "state = MechanismState(robot, randn(2), randn(2))\n",
    "t, q, v = simulate(state, 20.0);"
   ]
  },
  {
   "cell_type": "code",
   "execution_count": 34,
   "metadata": {},
   "outputs": [
    {
     "name": "stderr",
     "output_type": "stream",
     "text": [
      "┌ Info: Closed (0):  💀    2↑     2↓🔒 116s 127.0.0.1:8701:8701 ≣16\n",
      "└ @ HTTP.Servers /Users/roberto/.julia/packages/HTTP/YjRCz/src/Servers.jl:351\n",
      "┌ Info: Closed (1):  💀    5↑     5↓🔒 116s 127.0.0.1:8701:8701 ≣16\n",
      "└ @ HTTP.Servers /Users/roberto/.julia/packages/HTTP/YjRCz/src/Servers.jl:351\n",
      "Error handling websocket connection:\n",
      "\u001b[91mWebSockets.WebSocketClosedError(\"ws|server respond to OPCODE_CLOSE 1001:Going Away\")\u001b[39m┌ Info: Closed (2):  💀    1↑     1↓🔒 130s 127.0.0.1:8701:8701 ≣16\n",
      "└ @ HTTP.Servers /Users/roberto/.julia/packages/HTTP/YjRCz/src/Servers.jl:351\n"
     ]
    }
   ],
   "source": [
    "setanimation!(mvis, t, q)"
   ]
  },
  {
   "cell_type": "code",
   "execution_count": 23,
   "metadata": {},
   "outputs": [
    {
     "name": "stdout",
     "output_type": "stream",
     "text": [
      "search: \u001b[0m\u001b[1ms\u001b[22m\u001b[0m\u001b[1mi\u001b[22m\u001b[0m\u001b[1mm\u001b[22m\u001b[0m\u001b[1mu\u001b[22m\u001b[0m\u001b[1ml\u001b[22m\u001b[0m\u001b[1ma\u001b[22m\u001b[0m\u001b[1mt\u001b[22m\u001b[0m\u001b[1me\u001b[22m\n",
      "\n"
     ]
    },
    {
     "data": {
      "text/latex": [
       "\\begin{verbatim}\n",
       "simulate(state0, final_time)\n",
       "simulate(state0, final_time, control!; Δt, stabilization_gains)\n",
       "\n",
       "\\end{verbatim}\n",
       "Basic \\texttt{Mechanism} simulation: integrate the state from time $0$ to \\texttt{final\\_time} starting from the initial state \\texttt{state0}. Return a \\texttt{Vector} of times, as well as \\texttt{Vector}s of configuration vectors and velocity vectors at these times.\n",
       "\n",
       "Optionally, a function (or other callable) can be passed in as the third argument (\\texttt{control!}). \\texttt{control!} will be called at each time step of the simulation and allows you to specify joint torques given the time and the state of the \\texttt{Mechanism}. It should look like this:\n",
       "\n",
       "\\begin{verbatim}\n",
       "function control!(torques::AbstractVector, t, state::MechanismState)\n",
       "    rand!(torques) # for example\n",
       "end\n",
       "\\end{verbatim}\n",
       "The integration time step can be specified using the \\texttt{Δt} keyword argument (defaults to \\texttt{1e-4}).\n",
       "\n",
       "The \\texttt{stabilization\\_gains} keyword argument can be used to set PD gains for Baumgarte stabilization, which can be used to prevent separation of non-tree (loop) joints. See Featherstone (2008), section 8.3 for more information. There are several options for specifying gains:\n",
       "\n",
       "\\begin{itemize}\n",
       "\\item \\texttt{nothing} can be used to completely disable Baumgarte stabilization.\n",
       "\n",
       "\n",
       "\\item Gains can be specifed on a per-joint basis using any \\texttt{AbstractDict\\{JointID, <:RigidBodyDynamics.PDControl.SE3PDGains\\}}, which maps the \\texttt{JointID} for the non-tree joints of the mechanism to the gains for that joint.\n",
       "\n",
       "\n",
       "\\item As a special case of the second option, the same gains can be used for all joints by passing in a \\texttt{RigidBodyDynamics.CustomCollections.ConstDict\\{JointID\\}}.\n",
       "\n",
       "\\end{itemize}\n",
       "The \\href{@ref}{\\texttt{default\\_constraint\\_stabilization\\_gains}} function is called to produce the default gains, which use the last option.\n",
       "\n",
       "Uses \\texttt{MuntheKaasIntegrator}. See \\href{@ref}{\\texttt{RigidBodyDynamics.OdeIntegrators.MuntheKaasIntegrator}} for a lower level interface with more options.\n",
       "\n"
      ],
      "text/markdown": [
       "```julia\n",
       "simulate(state0, final_time)\n",
       "simulate(state0, final_time, control!; Δt, stabilization_gains)\n",
       "\n",
       "```\n",
       "\n",
       "Basic `Mechanism` simulation: integrate the state from time $0$ to `final_time` starting from the initial state `state0`. Return a `Vector` of times, as well as `Vector`s of configuration vectors and velocity vectors at these times.\n",
       "\n",
       "Optionally, a function (or other callable) can be passed in as the third argument (`control!`). `control!` will be called at each time step of the simulation and allows you to specify joint torques given the time and the state of the `Mechanism`. It should look like this:\n",
       "\n",
       "```julia\n",
       "function control!(torques::AbstractVector, t, state::MechanismState)\n",
       "    rand!(torques) # for example\n",
       "end\n",
       "```\n",
       "\n",
       "The integration time step can be specified using the `Δt` keyword argument (defaults to `1e-4`).\n",
       "\n",
       "The `stabilization_gains` keyword argument can be used to set PD gains for Baumgarte stabilization, which can be used to prevent separation of non-tree (loop) joints. See Featherstone (2008), section 8.3 for more information. There are several options for specifying gains:\n",
       "\n",
       "  * `nothing` can be used to completely disable Baumgarte stabilization.\n",
       "  * Gains can be specifed on a per-joint basis using any `AbstractDict{JointID, <:RigidBodyDynamics.PDControl.SE3PDGains}`, which maps the `JointID` for the non-tree joints of the mechanism to the gains for that joint.\n",
       "  * As a special case of the second option, the same gains can be used for all joints by passing in a `RigidBodyDynamics.CustomCollections.ConstDict{JointID}`.\n",
       "\n",
       "The [`default_constraint_stabilization_gains`](@ref) function is called to produce the default gains, which use the last option.\n",
       "\n",
       "Uses `MuntheKaasIntegrator`. See [`RigidBodyDynamics.OdeIntegrators.MuntheKaasIntegrator`](@ref) for a lower level interface with more options.\n"
      ],
      "text/plain": [
       "\u001b[36m  simulate(state0, final_time)\u001b[39m\n",
       "\u001b[36m  simulate(state0, final_time, control!; Δt, stabilization_gains)\u001b[39m\n",
       "\u001b[36m  \u001b[39m\n",
       "\n",
       "  Basic \u001b[36mMechanism\u001b[39m simulation: integrate the state from time \u001b[35m0\u001b[39m to \u001b[36mfinal_time\u001b[39m\n",
       "  starting from the initial state \u001b[36mstate0\u001b[39m. Return a \u001b[36mVector\u001b[39m of times, as well as\n",
       "  \u001b[36mVector\u001b[39ms of configuration vectors and velocity vectors at these times.\n",
       "\n",
       "  Optionally, a function (or other callable) can be passed in as the third\n",
       "  argument (\u001b[36mcontrol!\u001b[39m). \u001b[36mcontrol!\u001b[39m will be called at each time step of the\n",
       "  simulation and allows you to specify joint torques given the time and the\n",
       "  state of the \u001b[36mMechanism\u001b[39m. It should look like this:\n",
       "\n",
       "\u001b[36m  function control!(torques::AbstractVector, t, state::MechanismState)\u001b[39m\n",
       "\u001b[36m      rand!(torques) # for example\u001b[39m\n",
       "\u001b[36m  end\u001b[39m\n",
       "\n",
       "  The integration time step can be specified using the \u001b[36mΔt\u001b[39m keyword argument\n",
       "  (defaults to \u001b[36m1e-4\u001b[39m).\n",
       "\n",
       "  The \u001b[36mstabilization_gains\u001b[39m keyword argument can be used to set PD gains for\n",
       "  Baumgarte stabilization, which can be used to prevent separation of non-tree\n",
       "  (loop) joints. See Featherstone (2008), section 8.3 for more information.\n",
       "  There are several options for specifying gains:\n",
       "\n",
       "    •    \u001b[36mnothing\u001b[39m can be used to completely disable Baumgarte stabilization.\n",
       "\n",
       "    •    Gains can be specifed on a per-joint basis using any\n",
       "        \u001b[36mAbstractDict{JointID, <:RigidBodyDynamics.PDControl.SE3PDGains}\u001b[39m,\n",
       "        which maps the \u001b[36mJointID\u001b[39m for the non-tree joints of the mechanism to\n",
       "        the gains for that joint.\n",
       "\n",
       "    •    As a special case of the second option, the same gains can be used\n",
       "        for all joints by passing in a\n",
       "        \u001b[36mRigidBodyDynamics.CustomCollections.ConstDict{JointID}\u001b[39m.\n",
       "\n",
       "  The \u001b[36mdefault_constraint_stabilization_gains\u001b[39m function is called to produce the\n",
       "  default gains, which use the last option.\n",
       "\n",
       "  Uses \u001b[36mMuntheKaasIntegrator\u001b[39m. See\n",
       "  \u001b[36mRigidBodyDynamics.OdeIntegrators.MuntheKaasIntegrator\u001b[39m for a lower level\n",
       "  interface with more options."
      ]
     },
     "execution_count": 23,
     "metadata": {},
     "output_type": "execute_result"
    }
   ],
   "source": [
    "?simulate"
   ]
  },
  {
   "cell_type": "code",
   "execution_count": null,
   "metadata": {},
   "outputs": [],
   "source": []
  }
 ],
 "metadata": {
  "kernelspec": {
   "display_name": "Julia 1.0.2",
   "language": "julia",
   "name": "julia-1.0"
  },
  "language_info": {
   "file_extension": ".jl",
   "mimetype": "application/julia",
   "name": "julia",
   "version": "1.0.2"
  }
 },
 "nbformat": 4,
 "nbformat_minor": 2
}
