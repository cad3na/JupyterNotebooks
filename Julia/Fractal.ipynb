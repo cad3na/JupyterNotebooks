{
 "metadata": {
  "language": "Julia",
  "name": ""
 },
 "nbformat": 3,
 "nbformat_minor": 0,
 "worksheets": [
  {
   "cells": [
    {
     "cell_type": "code",
     "collapsed": false,
     "input": [
      "using Gadfly"
     ],
     "language": "python",
     "metadata": {},
     "outputs": [],
     "prompt_number": "*"
    },
    {
     "cell_type": "code",
     "collapsed": false,
     "input": [
      "function mandel(z)\n",
      "    c = z\n",
      "    maxiter = 80\n",
      "    for n = 1:maxiter\n",
      "        if abs(z) > 2\n",
      "            return n-1\n",
      "        end\n",
      "        z = z^2 + c\n",
      "    end\n",
      "    return maxiter\n",
      "end"
     ],
     "language": "python",
     "metadata": {},
     "outputs": [],
     "prompt_number": "*"
    },
    {
     "cell_type": "code",
     "collapsed": false,
     "input": [
      "function fractal(minx, miny, maxx, maxy, paso)\n",
      "\tpuntosx = (maxx - minx)/paso\n",
      "\tpuntosy = (maxy - miny)/paso\n",
      "\n",
      "\timagen = [puntosx, puntosy]\n",
      "\n",
      "\tfor i = 1:puntosx\n",
      "\t\tfor j = 1:puntosy"
     ],
     "language": "python",
     "metadata": {},
     "outputs": []
    }
   ],
   "metadata": {}
  }
 ]
}