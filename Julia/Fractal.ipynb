{
 "cells": [
  {
   "cell_type": "code",
   "execution_count": "*",
   "metadata": {
    "collapsed": false
   },
   "outputs": [],
   "source": [
    "using Gadfly"
   ]
  },
  {
   "cell_type": "code",
   "execution_count": "*",
   "metadata": {
    "collapsed": false
   },
   "outputs": [],
   "source": [
    "function mandel(z)\n",
    "    c = z\n",
    "    maxiter = 80\n",
    "    for n = 1:maxiter\n",
    "        if abs(z) > 2\n",
    "            return n-1\n",
    "        end\n",
    "        z = z^2 + c\n",
    "    end\n",
    "    return maxiter\n",
    "end"
   ]
  },
  {
   "cell_type": "code",
   "execution_count": null,
   "metadata": {
    "collapsed": false
   },
   "outputs": [],
   "source": [
    "function fractal(minx, miny, maxx, maxy, paso)\n",
    "\tpuntosx = (maxx - minx)/paso\n",
    "\tpuntosy = (maxy - miny)/paso\n",
    "\n",
    "\timagen = [puntosx, puntosy]\n",
    "\n",
    "\tfor i = 1:puntosx\n",
    "\t\tfor j = 1:puntosy"
   ]
  }
 ],
 "metadata": {
  "kernelspec": {
   "display_name": "Julia 0.6.4",
   "language": "julia",
   "name": "julia-0.6"
  },
  "language": "Julia",
  "language_info": {
   "file_extension": ".jl",
   "mimetype": "application/julia",
   "name": "julia",
   "version": "0.6.4"
  }
 },
 "nbformat": 4,
 "nbformat_minor": 2
}
