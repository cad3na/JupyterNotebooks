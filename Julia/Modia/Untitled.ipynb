{
 "cells": [
  {
   "cell_type": "code",
   "execution_count": null,
   "metadata": {},
   "outputs": [],
   "source": [
    "using ModiaMath\n",
    "using StaticArrays\n",
    "\n",
    "@component Pendulum(;L=1.0, m=1.0, d=0.1, g=9.81) begin\n",
    " phi = RealScalar(start=pi/2, unit=\"rad\"    , fixed=true,               numericType=ModiaMath.XD_EXP)\n",
    " w   = RealScalar(start=0.0 , unit=\"rad/s\"  , fixed=true, integral=phi, numericType=ModiaMath.XD_EXP)\n",
    " a   = RealScalar(            unit=\"rad/s^2\",             integral=w  , numericType=ModiaMath.DER_XD_EXP) \n",
    " r   = RealSVector{2}(        unit=\"m\"      ,                           numericType=ModiaMath.WC)\n",
    "end;\n",
    "\n",
    "function ModiaMath.computeVariables!(p::Pendulum, sim::ModiaMath.SimulationState)  \n",
    " L = p.L; m = p.m; d = p.d; g = p.g; phi = p.phi.value; w = p.w.value\n",
    "\n",
    " p.a.value = (-m*g*L*sin(phi) - d*w) / (m*L^2)\n",
    "\n",
    " if ModiaMath.isStoreResult(sim)\n",
    "    p.r.value = @SVector [L*sin(phi), -L*cos(phi)]\n",
    " end\n",
    "end;\n",
    "\n",
    "simulationModel = ModiaMath.SimulationModel(Pendulum(L=0.8, m=0.5, d=0.2), stopTime=5.0);"
   ]
  },
  {
   "cell_type": "code",
   "execution_count": 2,
   "metadata": {},
   "outputs": [
    {
     "name": "stdout",
     "output_type": "stream",
     "text": [
      "... ModiaMath.simulate! (version 0.5.1 2019-04-07) to simulate model: Pendulum\n",
      "      Initialization at time = 0.0 s\n",
      "        initial values:\n",
      "          │ x │ name   │ start   │ fixed │ nominal │\n",
      "          ├───┼────────┼─────────┼───────┼─────────┤\n",
      "          │ 1 │ phi    │ 1.5708  │ true  │ 1.5708  │\n",
      "          │ 2 │ w      │ 0.0     │ true  │ 1.0     │\n",
      "\n",
      "        for given x, determine consistent DAE variables der(x) (solving a linear equation system)\n",
      "      Simulation started\n",
      "\n",
      "      Simulation is terminated at time = 5.0 s\n"
     ]
    },
    {
     "data": {
      "text/plain": [
       "        structureOfDAE = DAE_LinearDerivativesAndConstraints\n",
       "        cpuTime        = 2.6 s (init: 2 s, integration: 0.6 s)\n",
       "        startTime      = 0.0 s\n",
       "        stopTime       = 5.0 s\n",
       "        interval       = 0.01 s\n",
       "        tolerance      = 0.0001\n",
       "        nEquations     = 2 (includes 0 constraints)\n",
       "        nResults       = 501\n",
       "        nSteps         = 137\n",
       "        nResidues      = 218 (includes residue calls for Jacobian)\n",
       "        nZeroCrossings = 0\n",
       "        nJac           = 21\n",
       "        nTimeEvents    = 0\n",
       "        nStateEvents   = 0\n",
       "        nRestartEvents = 0\n",
       "        nErrTestFails  = 2\n",
       "        h0             = 5.8e-07 s\n",
       "        hMin           = 5.8e-07 s\n",
       "        hMax           = 0.081 s\n",
       "        orderMax       = 5\n",
       "        sparseSolver   = false\n"
      ]
     },
     "metadata": {},
     "output_type": "display_data"
    },
    {
     "name": "stdout",
     "output_type": "stream",
     "text": [
      "\n",
      "      Statistics (get help with ?ModiaMath.SimulationStatistics):\n"
     ]
    }
   ],
   "source": [
    "result = ModiaMath.simulate!(simulationModel; log=true);"
   ]
  },
  {
   "cell_type": "code",
   "execution_count": null,
   "metadata": {},
   "outputs": [],
   "source": [
    "ModiaMath.plot(result, [(:phi, :w) :a])"
   ]
  },
  {
   "cell_type": "code",
   "execution_count": null,
   "metadata": {},
   "outputs": [],
   "source": []
  }
 ],
 "metadata": {
  "kernelspec": {
   "display_name": "Julia 1.1.0",
   "language": "julia",
   "name": "julia-1.1"
  },
  "language_info": {
   "file_extension": ".jl",
   "mimetype": "application/julia",
   "name": "julia",
   "version": "1.1.0"
  }
 },
 "nbformat": 4,
 "nbformat_minor": 2
}
