{
 "cells": [
  {
   "cell_type": "markdown",
   "metadata": {},
   "source": [
    "Este notebook contiene las instrucciones para instalar los paquetes que utilizo en Julia.\n",
    "\n",
    "Antes de ejecutar este notebook, obviamente hay que instalar IPython y IJulia, ejecutando desde julia:\n",
    "\n",
    "```julia\n",
    "Pkg.add(\"IJulia\")\n",
    "```\n",
    "\n",
    "Primero actualizamos las fuentes de los paquetes (tambien actualiza cualquier paquete instalado):"
   ]
  },
  {
   "cell_type": "code",
   "execution_count": 1,
   "metadata": {
    "collapsed": false
   },
   "outputs": [
    {
     "name": "stderr",
     "output_type": "stream",
     "text": [
      "INFO: Updating METADATA...\n",
      "INFO: Computing changes...\n",
      "INFO: No packages to install, update or remove\n"
     ]
    }
   ],
   "source": [
    "Pkg.update()"
   ]
  },
  {
   "cell_type": "markdown",
   "metadata": {},
   "source": [
    "Instalamos los paquetes:"
   ]
  },
  {
   "cell_type": "code",
   "execution_count": 2,
   "metadata": {
    "collapsed": false
   },
   "outputs": [
    {
     "name": "stderr",
     "output_type": "stream",
     "text": [
      "INFO: Cloning cache of ArrayViews from git://github.com/JuliaLang/ArrayViews.jl.git\n",
      "INFO: Cloning cache of Calculus from git://github.com/johnmyleswhite/Calculus.jl.git\n",
      "INFO: Cloning cache of Codecs from git://github.com/dcjones/Codecs.jl.git\n",
      "INFO: Cloning cache of ColorTypes from git://github.com/JuliaGraphics/ColorTypes.jl.git\n",
      "INFO: Cloning cache of Colors from git://github.com/JuliaGraphics/Colors.jl.git\n",
      "INFO: Cloning cache of Compose from git://github.com/dcjones/Compose.jl.git\n",
      "INFO: Cloning cache of Contour from git://github.com/tlycken/Contour.jl.git\n",
      "INFO: Cloning cache of DataArrays from git://github.com/JuliaStats/DataArrays.jl.git\n",
      "INFO: Cloning cache of DataFrames from git://github.com/JuliaStats/DataFrames.jl.git\n",
      "INFO: Cloning cache of DataStructures from git://github.com/JuliaLang/DataStructures.jl.git\n",
      "INFO: Cloning cache of Distances from git://github.com/JuliaStats/Distances.jl.git\n",
      "INFO: Cloning cache of Distributions from git://github.com/JuliaStats/Distributions.jl.git\n",
      "INFO: Cloning cache of Docile from git://github.com/MichaelHatherly/Docile.jl.git\n",
      "INFO: Cloning cache of DualNumbers from git://github.com/JuliaDiff/DualNumbers.jl.git\n",
      "INFO: Cloning cache of FixedPointNumbers from git://github.com/JeffBezanson/FixedPointNumbers.jl.git\n",
      "INFO: Cloning cache of GZip from git://github.com/JuliaLang/GZip.jl.git\n",
      "INFO: Cloning cache of Gadfly from git://github.com/dcjones/Gadfly.jl.git\n",
      "INFO: Cloning cache of Grid from git://github.com/timholy/Grid.jl.git\n",
      "INFO: Cloning cache of Hexagons from git://github.com/dcjones/Hexagons.jl.git\n",
      "INFO: Cloning cache of ImmutableArrays from git://github.com/JuliaGeometry/ImmutableArrays.jl.git\n",
      "INFO: Cloning cache of Iterators from git://github.com/JuliaLang/Iterators.jl.git\n",
      "INFO: Cloning cache of KernelDensity from git://github.com/JuliaStats/KernelDensity.jl.git\n",
      "INFO: Cloning cache of Loess from git://github.com/dcjones/Loess.jl.git\n",
      "INFO: Cloning cache of NaNMath from git://github.com/mlubin/NaNMath.jl.git\n",
      "INFO: Cloning cache of Optim from git://github.com/JuliaOpt/Optim.jl.git\n",
      "INFO: Cloning cache of PDMats from git://github.com/JuliaStats/PDMats.jl.git\n",
      "INFO: Cloning cache of Reexport from git://github.com/simonster/Reexport.jl.git\n",
      "INFO: Cloning cache of Showoff from git://github.com/dcjones/Showoff.jl.git\n",
      "INFO: Cloning cache of SortingAlgorithms from git://github.com/JuliaLang/SortingAlgorithms.jl.git\n",
      "INFO: Cloning cache of StatsBase from git://github.com/JuliaStats/StatsBase.jl.git\n",
      "INFO: Cloning cache of StatsFuns from git://github.com/JuliaStats/StatsFuns.jl.git\n",
      "INFO: Cloning cache of WoodburyMatrices from git://github.com/timholy/WoodburyMatrices.jl.git\n",
      "INFO: Installing ArrayViews v0.6.3\n",
      "INFO: Installing Calculus v0.1.10\n",
      "INFO: Installing Codecs v0.1.4\n",
      "INFO: Installing ColorTypes v0.1.3\n",
      "INFO: Installing Colors v0.5.2\n",
      "INFO: Installing Compose v0.3.14\n",
      "INFO: Installing Contour v0.0.7\n",
      "INFO: Installing DataArrays v0.2.18\n",
      "INFO: Installing DataFrames v0.6.9\n",
      "INFO: Installing DataStructures v0.3.12\n",
      "INFO: Installing Distances v0.2.0\n",
      "INFO: Installing Distributions v0.8.6\n",
      "INFO: Installing Docile v0.5.18\n",
      "INFO: Installing DualNumbers v0.1.3\n",
      "INFO: Installing FixedPointNumbers v0.0.10\n",
      "INFO: Installing GZip v0.2.17\n",
      "INFO: Installing Gadfly v0.3.14\n",
      "INFO: Installing Grid v0.3.10\n",
      "INFO: Installing Hexagons v0.0.4\n",
      "INFO: Installing ImmutableArrays v0.0.10\n",
      "INFO: Installing Iterators v0.1.8\n",
      "INFO: Installing KernelDensity v0.1.1\n",
      "INFO: Installing Loess v0.0.3\n",
      "INFO: Installing NaNMath v0.1.0\n",
      "INFO: Installing Optim v0.4.2\n",
      "INFO: Installing PDMats v0.3.5\n",
      "INFO: Installing Reexport v0.0.3\n",
      "INFO: Installing Showoff v0.0.4\n",
      "INFO: Installing SortingAlgorithms v0.0.5\n",
      "INFO: Installing StatsBase v0.7.2\n",
      "INFO: Installing StatsFuns v0.1.3\n",
      "INFO: Installing WoodburyMatrices v0.1.1\n",
      "INFO: Package database updated\n",
      "INFO: Cloning Processing from git://github.com/rennis250/Processing.jl.git\n",
      "INFO: Computing changes...\n",
      "INFO: Cloning cache of Cairo from git://github.com/JuliaLang/Cairo.jl.git\n",
      "INFO: Cloning cache of Color from git://github.com/JuliaLang/Color.jl.git\n",
      "INFO: Cloning cache of GLFW from git://github.com/JuliaGL/GLFW.jl.git\n",
      "INFO: Cloning cache of Graphics from git://github.com/JuliaLang/Graphics.jl.git\n",
      "INFO: Cloning cache of Gtk from git://github.com/JuliaLang/Gtk.jl.git\n",
      "INFO: Cloning cache of Tau from git://github.com/Aerlinger/Tau.jl.git\n",
      "INFO: Cloning cache of Tk from git://github.com/JuliaLang/Tk.jl.git\n",
      "INFO: Installing Cairo v0.2.29\n",
      "INFO: Installing Color v0.4.8\n",
      "INFO: Installing GLFW v1.0.0-alpha.7\n",
      "INFO: Installing Graphics v0.1.0\n",
      "INFO: Installing Gtk v0.8.3\n",
      "INFO: Installing Tau v0.0.3\n",
      "INFO: Installing Tk v0.3.6\n",
      "INFO: Building Homebrew\n"
     ]
    },
    {
     "name": "stdout",
     "output_type": "stream",
     "text": [
      "HEAD is now at 77e0293 remind: update 03.01.15 bottle.\n",
      "HEAD is now at ac59d6c Merge pull request #64 from staticfloat/staging\n"
     ]
    },
    {
     "name": "stderr",
     "output_type": "stream",
     "text": [
      "INFO: Building Cairo\n"
     ]
    },
    {
     "name": "stdout",
     "output_type": "stream",
     "text": [
      "==> Installing gettext from staticfloat/homebrew-juliadeps\n",
      "==> Downloading https://juliabottles.s3.amazonaws.com/gettext-0.19.4.yosemite.bottle.tar.gz\n",
      "==> Pouring gettext-0.19.4.yosemite.bottle.tar.gz\n",
      "==> Caveats\n",
      "Emacs Lisp files have been installed to:\n",
      "/Users/roberto/.julia/v0.3/Homebrew/deps/usr/share/emacs/site-lisp/\n",
      "\n",
      "Add the following to your init file to have packages installed by\n",
      "Homebrew added to your load-path:\n",
      "(let ((default-directory \"/Users/roberto/.julia/v0.3/Homebrew/deps/usr/share/emacs/site-lisp/\"))\n",
      "  (normal-top-level-add-subdirs-to-load-path))\n",
      "==> Summary\n",
      "🍺  /Users/roberto/.julia/v0.3/Homebrew/deps/usr/Cellar/gettext/0.19.4: 1920 files, 21M\n",
      "To relink: brew unlink gettext && brew link gettext\n",
      "==> Installing glib from staticfloat/homebrew-juliadeps\n",
      "==> Installing dependencies for staticfloat/juliadeps/glib: libffi\n",
      "==> Installing staticfloat/juliadeps/glib dependency: libffi\n",
      "==> Downloading https://homebrew.bintray.com/bottles/libffi-3.0.13.yosemite.bottle.tar.gz\n",
      "==> Pouring libffi-3.0.13.yosemite.bottle.tar.gz\n",
      "==> Caveats\n",
      "This formula is keg-only, which means it was not symlinked into /Users/roberto/.julia/v0.3/Homebrew/deps/usr.\n",
      "\n",
      "Some formulae require a newer version of libffi.\n",
      "\n",
      "Generally there are no consequences of this for you. If you build your\n",
      "own software and it requires this formula, you'll need to add to your\n",
      "build variables:\n",
      "\n",
      "    LDFLAGS:  -L/Users/roberto/.julia/v0.3/Homebrew/deps/usr/opt/libffi/lib\n",
      "\n",
      "==> Summary\n",
      "🍺  /Users/roberto/.julia/v0.3/Homebrew/deps/usr/Cellar/libffi/3.0.13: 14 files, 412K\n",
      "==> Installing staticfloat/juliadeps/glib\n",
      "==> Downloading https://juliabottles.s3.amazonaws.com/glib-2.42.1_1.yosemite.bottle.tar.gz\n",
      "==> Pouring glib-2.42.1_1.yosemite.bottle.tar.gz\n",
      "🍺  /Users/roberto/.julia/v0.3/Homebrew/deps/usr/Cellar/glib/2.42.1_1: 410 files, 17M\n",
      "To relink: brew unlink glib && brew link glib\n",
      "==> Installing cairo from staticfloat/homebrew-juliadeps\n",
      "==> Installing dependencies for staticfloat/juliadeps/cairo: libpng, staticfloat/juliadeps/freetype, staticfloat/juliadeps/fontconfig, staticfloat/juliadeps/pixman\n",
      "==> Installing staticfloat/juliadeps/cairo dependency: libpng\n",
      "==> Downloading https://homebrew.bintray.com/bottles/libpng-1.6.18.yosemite.bottle.tar.gz\n",
      "==> Pouring libpng-1.6.18.yosemite.bottle.tar.gz\n",
      "🍺  /Users/roberto/.julia/v0.3/Homebrew/deps/usr/Cellar/libpng/1.6.18: 17 files, 1.2M\n",
      "==> Installing staticfloat/juliadeps/cairo dependency: staticfloat/juliadeps/freetype\n",
      "==> Downloading https://juliabottles.s3.amazonaws.com/freetype-2.5.5.yosemite.bottle.tar.gz\n",
      "==> Pouring freetype-2.5.5.yosemite.bottle.tar.gz\n",
      "🍺  /Users/roberto/.julia/v0.3/Homebrew/deps/usr/Cellar/freetype/2.5.5: 60 files, 2.6M\n",
      "==> Installing staticfloat/juliadeps/cairo dependency: staticfloat/juliadeps/fontconfig\n",
      "==> Downloading https://juliabottles.s3.amazonaws.com/fontconfig-2.11.1.yosemite.bottle.3.tar.gz\n",
      "==> Pouring fontconfig-2.11.1.yosemite.bottle.3.tar.gz\n",
      "==> /Users/roberto/.julia/v0.3/Homebrew/deps/usr/Cellar/fontconfig/2.11.1/bin/fc-cache -frv\n",
      "🍺  /Users/roberto/.julia/v0.3/Homebrew/deps/usr/Cellar/fontconfig/2.11.1: 448 files, 3.6M\n",
      "==> Installing staticfloat/juliadeps/cairo dependency: staticfloat/juliadeps/pixman\n",
      "==> Downloading https://juliabottles.s3.amazonaws.com/pixman-0.32.6.yosemite.bottle.1.tar.gz\n",
      "==> Pouring pixman-0.32.6.yosemite.bottle.1.tar.gz\n",
      "🍺  /Users/roberto/.julia/v0.3/Homebrew/deps/usr/Cellar/pixman/0.32.6: 11 files, 1.4M\n",
      "==> Installing staticfloat/juliadeps/cairo\n",
      "==> Downloading https://juliabottles.s3.amazonaws.com/cairo-1.14.0.yosemite.bottle.tar.gz\n",
      "==> Pouring cairo-1.14.0.yosemite.bottle.tar.gz\n",
      "🍺  /Users/roberto/.julia/v0.3/Homebrew/deps/usr/Cellar/cairo/1.14.0: 101 files, 6.0M\n",
      "To relink: brew unlink cairo && brew link cairo\n",
      "==> Installing pango from staticfloat/homebrew-juliadeps\n",
      "==> Installing dependencies for staticfloat/juliadeps/pango: staticfloat/juliadeps/icu4c, staticfloat/juliadeps/harfbuzz, staticfloat/juliadeps/gobject-introspection\n",
      "==> Installing staticfloat/juliadeps/pango dependency: staticfloat/juliadeps/icu4c\n",
      "==> Downloading https://juliabottles.s3.amazonaws.com/icu4c-54.1.yosemite.bottle.tar.gz\n",
      "==> Pouring icu4c-54.1.yosemite.bottle.tar.gz\n",
      "==> Caveats\n",
      "This formula is keg-only, which means it was not symlinked into /Users/roberto/.julia/v0.3/Homebrew/deps/usr.\n",
      "\n",
      "OS X provides libicucore.dylib (but nothing else).\n",
      "\n",
      "Generally there are no consequences of this for you. If you build your\n",
      "own software and it requires this formula, you'll need to add to your\n",
      "build variables:\n",
      "\n",
      "    LDFLAGS:  -L/Users/roberto/.julia/v0.3/Homebrew/deps/usr/opt/icu4c/lib\n",
      "    CPPFLAGS: -I/Users/roberto/.julia/v0.3/Homebrew/deps/usr/opt/icu4c/include\n",
      "\n",
      "==> Summary\n",
      "🍺  /Users/roberto/.julia/v0.3/Homebrew/deps/usr/Cellar/icu4c/54.1: 242 files, 65M\n",
      "==> Installing staticfloat/juliadeps/pango dependency: staticfloat/juliadeps/harfbuzz\n",
      "==> Downloading https://juliabottles.s3.amazonaws.com/harfbuzz-0.9.37.yosemite.bottle.tar.gz\n",
      "==> Pouring harfbuzz-0.9.37.yosemite.bottle.tar.gz\n",
      "🍺  /Users/roberto/.julia/v0.3/Homebrew/deps/usr/Cellar/harfbuzz/0.9.37: 72 files, 2.9M\n",
      "==> Installing staticfloat/juliadeps/pango dependency: staticfloat/juliadeps/gobject-introspection\n",
      "==> Downloading https://juliabottles.s3.amazonaws.com/gobject-introspection-1.42.0.yosemite.bottle.tar.gz\n",
      "==> Pouring gobject-introspection-1.42.0.yosemite.bottle.tar.gz\n",
      "🍺  /Users/roberto/.julia/v0.3/Homebrew/deps/usr/Cellar/gobject-introspection/1.42.0: 196 files, 10M\n",
      "==> Installing staticfloat/juliadeps/pango\n",
      "==> Downloading https://juliabottles.s3.amazonaws.com/pango-1.36.8.yosemite.bottle.1.tar.gz\n",
      "==> Pouring pango-1.36.8.yosemite.bottle.1.tar.gz\n",
      "🍺  /Users/roberto/.julia/v0.3/Homebrew/deps/usr/Cellar/pango/1.36.8: 132 files, 4.8M\n",
      "To relink: brew unlink pango && brew link pango\n"
     ]
    },
    {
     "name": "stderr",
     "output_type": "stream",
     "text": [
      "INFO: Building GLFW\n",
      "INFO: Downloading pre-compiled GLFW 3.1.1 binary\n",
      "  % Total    % Received % Xferd  Average Speed   Time    Time     Time  Current\n",
      "                                 Dload  Upload   Total   Spent    Left  Speed\n",
      "100 62075  100 62075    0     0  97371      0 --:--:-- --:--:-- --:--:-- 97296\n",
      "INFO: Building Gtk\n"
     ]
    },
    {
     "name": "stdout",
     "output_type": "stream",
     "text": [
      "==> Installing gtk+3 from staticfloat/homebrew-juliadeps\n",
      "==> Installing dependencies for staticfloat/juliadeps/gtk+3: jpeg, libtiff, staticfloat/juliadeps/gdk-pixbuf, staticfloat/juliadeps/atk\n",
      "==> Installing staticfloat/juliadeps/gtk+3 dependency: jpeg\n",
      "==> Downloading https://homebrew.bintray.com/bottles/jpeg-8d.yosemite.bottle.2.tar.gz\n",
      "==> Pouring jpeg-8d.yosemite.bottle.2.tar.gz\n",
      "🍺  /Users/roberto/.julia/v0.3/Homebrew/deps/usr/Cellar/jpeg/8d: 18 files, 776K\n",
      "==> Installing staticfloat/juliadeps/gtk+3 dependency: libtiff\n",
      "==> Downloading https://homebrew.bintray.com/bottles/libtiff-4.0.4.yosemite.bottle.tar.gz\n",
      "==> Pouring libtiff-4.0.4.yosemite.bottle.tar.gz\n",
      "🍺  /Users/roberto/.julia/v0.3/Homebrew/deps/usr/Cellar/libtiff/4.0.4: 257 files, 3.9M\n",
      "==> Installing staticfloat/juliadeps/gtk+3 dependency: staticfloat/juliadeps/gdk-pixbuf\n",
      "==> Downloading https://juliabottles.s3.amazonaws.com/gdk-pixbuf-2.30.8.yosemite.bottle.tar.gz\n",
      "==> Pouring gdk-pixbuf-2.30.8.yosemite.bottle.tar.gz\n",
      "==> /Users/roberto/.julia/v0.3/Homebrew/deps/usr/Cellar/gdk-pixbuf/2.30.8/bin/gdk-pixbuf-query-loaders --update-cache\n",
      "==> Caveats\n",
      "Programs that require this module need to set the environment variable\n",
      "  export GDK_PIXBUF_MODULEDIR=\"/Users/roberto/.julia/v0.3/Homebrew/deps/usr/lib/gdk-pixbuf-2.0/2.10.0/loaders\"\n",
      "If you need to manually update the query loader cache\n",
      "  /Users/roberto/.julia/v0.3/Homebrew/deps/usr/Cellar/gdk-pixbuf/2.30.8/bin/gdk-pixbuf-query-loaders --update-cache\n",
      "==> Summary\n",
      "🍺  /Users/roberto/.julia/v0.3/Homebrew/deps/usr/Cellar/gdk-pixbuf/2.30.8: 209 files, 4.3M\n",
      "==> Installing staticfloat/juliadeps/gtk+3 dependency: staticfloat/juliadeps/atk\n",
      "==> Downloading https://juliabottles.s3.amazonaws.com/atk-2.14.0.yosemite.bottle.tar.gz\n",
      "==> Pouring atk-2.14.0.yosemite.bottle.tar.gz\n",
      "🍺  /Users/roberto/.julia/v0.3/Homebrew/deps/usr/Cellar/atk/2.14.0: 205 files, 3.5M\n",
      "==> Installing staticfloat/juliadeps/gtk+3\n",
      "==> Downloading https://juliabottles.s3.amazonaws.com/gtk+3-3.14.6_1.yosemite.bottle.tar.gz\n",
      "==> Pouring gtk+3-3.14.6_1.yosemite.bottle.tar.gz\n",
      "==> /Users/roberto/.julia/v0.3/Homebrew/deps/usr/opt/glib/bin/glib-compile-schemas /Users/roberto/.julia/v0.3/Homebrew/deps/usr/share/glib-2.0/schemas\n",
      "🍺  /Users/roberto/.julia/v0.3/Homebrew/deps/usr/Cellar/gtk+3/3.14.6_1: 1263 files, 66M\n",
      "To relink: brew unlink gtk+3 && brew link gtk+3\n"
     ]
    },
    {
     "name": "stderr",
     "output_type": "stream",
     "text": [
      "INFO: Building Tk\n",
      "INFO: Cloning cache of Arduino from git://github.com/rennis250/Arduino.jl.git\n",
      "INFO: Cloning cache of GetC from git://github.com/rennis250/GetC.jl.git\n",
      "INFO: Installing Arduino v0.1.2\n",
      "INFO: Installing GetC v1.1.1\n",
      "INFO: Package database updated\n"
     ]
    }
   ],
   "source": [
    "Pkg.add(\"Gadfly\")\n",
    "Pkg.clone(\"Processing\")\n",
    "Pkg.add(\"Arduino\")"
   ]
  }
 ],
 "metadata": {
  "kernelspec": {
   "display_name": "Julia 0.3.11",
   "language": "julia",
   "name": "julia-0.3"
  },
  "language_info": {
   "name": "julia",
   "version": "0.3.11"
  }
 },
 "nbformat": 4,
 "nbformat_minor": 0
}
