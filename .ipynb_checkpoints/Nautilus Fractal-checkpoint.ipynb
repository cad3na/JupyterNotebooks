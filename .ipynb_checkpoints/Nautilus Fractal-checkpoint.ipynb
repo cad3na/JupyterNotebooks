{
 "metadata": {
  "name": ""
 },
 "nbformat": 3,
 "nbformat_minor": 0,
 "worksheets": [
  {
   "cells": [
    {
     "cell_type": "code",
     "collapsed": false,
     "input": [
      "phi = (1+sqrt(5))/2"
     ],
     "language": "python",
     "metadata": {},
     "outputs": [],
     "prompt_number": 1
    },
    {
     "cell_type": "code",
     "collapsed": false,
     "input": [
      "plot([1,1], [0,1], color=\"Black\") # (1,0)->(1,1)\n",
      "plot([1,phi], [phi-1,phi-1], color=\"Black\") # (1, phi-1)->(phi, phi-1)\n",
      "plot([phi-(1-(phi-1)), phi-(1-(phi-1))], [phi-1,1], color=\"Black\") # (2*(phi-1), )->()\n",
      "plot([1, phi-(1-(phi-1))], [1-(phi-1-(1-(phi-1))), 1-(phi-1-(1-(phi-1)))], color=\"Black\")\n",
      "\n",
      "xlim(0, phi)\n",
      "ylim(0, 1)\n",
      "\n",
      "xticks([])\n",
      "yticks([])"
     ],
     "language": "python",
     "metadata": {},
     "outputs": [
      {
       "metadata": {},
       "output_type": "pyout",
       "prompt_number": 5,
       "text": [
        "([], <a list of 0 Text yticklabel objects>)"
       ]
      },
      {
       "metadata": {},
       "output_type": "display_data",
       "png": "[encoded data removed]",
       "text": [
        "<matplotlib.figure.Figure at 0x10832f1d0>"
       ]
      }
     ],
     "prompt_number": 5
    },
    {
     "cell_type": "code",
     "collapsed": false,
     "input": [],
     "language": "python",
     "metadata": {},
     "outputs": []
    }
   ],
   "metadata": {}
  }
 ]
}