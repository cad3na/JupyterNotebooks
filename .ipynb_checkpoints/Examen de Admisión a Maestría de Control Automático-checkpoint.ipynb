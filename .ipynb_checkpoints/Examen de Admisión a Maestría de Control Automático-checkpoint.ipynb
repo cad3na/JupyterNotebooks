{
 "metadata": {
  "name": ""
 },
 "nbformat": 3,
 "nbformat_minor": 0,
 "worksheets": [
  {
   "cells": [
    {
     "cell_type": "markdown",
     "metadata": {},
     "source": [
      "Sea un sistema lineal invariante en el tiempo descrito por la siguiente EDO\n",
      "\n",
      "$$\\left( \\frac{d^2}{dt^2} + \\frac{d}{dt} \\right) y(t) = \\left( \\frac{d}{dt} - 1 \\right) u(t)$$\n",
      "\n",
      "donde $y(t)$ es la salida y $u(t)$ es la entrada."
     ]
    },
    {
     "cell_type": "heading",
     "level": 1,
     "metadata": {},
     "source": [
      "Funcion de Transferencia"
     ]
    },
    {
     "cell_type": "heading",
     "level": 4,
     "metadata": {},
     "source": [
      "Encuentre su funcion de transferencia $\\frac{y(s)}{u(s)}$. Cuales son los polos y los ceros?"
     ]
    },
    {
     "cell_type": "markdown",
     "metadata": {},
     "source": [
      "Para obtener la funci\u00f3n de transferencia del sistema dado se debe obtener la transformada de Laplace.\n",
      "\n",
      "$$\\mathcal{L} \\left[ \\left( \\frac{d^2}{dt^2} + \\frac{d}{dt} \\right) y(t) = \\left( \\frac{d}{dt} - 1 \\right) u(t)\\right] \\implies (s^2 + s) y(s) = (s - 1) u(s) \\implies \\frac{y(s)}{u(s)} = \\frac{s-1}{s(s+1)}$$\n",
      "\n",
      "Por lo tanto podemos notar que tiene un cero en {$1$} y dos polos en {$ 0, -1$}"
     ]
    },
    {
     "cell_type": "heading",
     "level": 1,
     "metadata": {},
     "source": [
      "Routh-Hurwitz"
     ]
    },
    {
     "cell_type": "heading",
     "level": 4,
     "metadata": {},
     "source": [
      "Como primer intento para controlar a este sistema, se propone una ley de control, $\\frac{u(s)}{v(s)} = k\\frac{s-a}{s+b}$, donde $k>0, a>0, b>0$. Utilizando el criterio de Routh Hurwitz, determine las relaciones que debe guardar la ganancia $k$ con los paramteros $a$ y $b$ para que el sistema en lazo cerrado sea Hurwitz estable."
     ]
    },
    {
     "cell_type": "markdown",
     "metadata": {},
     "source": [
      "Para utilizar el criterio de estabilidad de Routh-Hurwitz, tenemos que encontrar la funcion de transferencia del sistema retroalimentado con la ley de control dada, de donde tenemos que si la ley de control es:\n",
      "\n",
      "$$\\frac{u(s)}{v(s)} = k\\frac{s-a}{s+b}$$\n",
      "\n",
      "esto nos indica que la esta actuando directamente sobre la entrada del bloque del sistema, por lo que el sistema retroalimentado lo podemos ver como:\n",
      "\n",
      "$$FT_{lc} = \\frac{\\frac{u(s)}{v(s)} \\frac{y(s)}{u(s)}}{1 + \\frac{u(s)}{v(s)} \\frac{y(s)}{u(s)}}$$\n",
      "\n",
      "o bien:\n",
      "\n",
      "$$FT_{lc} = \\frac{G_c G}{1 + G_c G}$$\n",
      "\n",
      "donde $G = \\frac{y(s)}{u(s)}$ y $G_c = \\frac{u(s)}{v(s)}$\n",
      "\n",
      "Asi pues, empezamos importando la libreria simbolica de Python y declarando las variables necesarias para el calculo de la funcion de transferencia retroalimentada $FT_{lc}$:"
     ]
    },
    {
     "cell_type": "code",
     "collapsed": false,
     "input": [
      "%load_ext sympy.interactive.ipythonprinting\n",
      "from sympy import var, latex, simplify, collect, expand\n",
      "var(\"s,a,b,k\")"
     ],
     "language": "python",
     "metadata": {},
     "outputs": [
      {
       "latex": [
        "$$\\begin{pmatrix}s, & a, & b, & k\\end{pmatrix}$$"
       ],
       "output_type": "pyout",
       "prompt_number": 1,
       "text": [
        "(s, a, b, k)"
       ]
      }
     ],
     "prompt_number": 1
    },
    {
     "cell_type": "code",
     "collapsed": false,
     "input": [
      "G = (s-1)/(s*(s+1))\n",
      "Gc = k*(s-a)/(s+b)\n",
      "FTlc = simplify((Gc*G)/(1+Gc*G))"
     ],
     "language": "python",
     "metadata": {},
     "outputs": [],
     "prompt_number": 3
    },
    {
     "cell_type": "code",
     "collapsed": false,
     "input": [
      "FTlc"
     ],
     "language": "python",
     "metadata": {},
     "outputs": [
      {
       "latex": [
        "$$- \\frac{k \\left(a - s\\right) \\left(s -1\\right)}{- k \\left(a - s\\right) \\left(s -1\\right) + s \\left(b + s\\right) \\left(s + 1\\right)}$$"
       ],
       "output_type": "pyout",
       "png": "[encoded data removed]",
       "prompt_number": 4,
       "text": [
        "          -k\u22c5(a - s)\u22c5(s - 1)          \n",
        "\u2500\u2500\u2500\u2500\u2500\u2500\u2500\u2500\u2500\u2500\u2500\u2500\u2500\u2500\u2500\u2500\u2500\u2500\u2500\u2500\u2500\u2500\u2500\u2500\u2500\u2500\u2500\u2500\u2500\u2500\u2500\u2500\u2500\u2500\u2500\u2500\u2500\u2500\n",
        "-k\u22c5(a - s)\u22c5(s - 1) + s\u22c5(b + s)\u22c5(s + 1)"
       ]
      }
     ],
     "prompt_number": 4
    },
    {
     "cell_type": "markdown",
     "metadata": {},
     "source": [
      "o equivalentemente:\n",
      "\n",
      "$$\\frac{k \\left(s - a\\right) \\left(s -1 \\right)}{k \\left(s - a\\right) \\left(s -1\\right) + s \\left(b + s \\right) \\left(s + 1\\right)}$$\n",
      "\n",
      "lo cual nos indica que el polinomio caracetristico es:\n",
      "\n",
      "$$F(s) = k \\left(s - a \\right) \\left(s -1\\right) + s \\left(b + s \\right) \\left(s + 1\\right)$$"
     ]
    },
    {
     "cell_type": "code",
     "collapsed": false,
     "input": [
      "F = k*(s-a)*(s-1) + s*(s+b)*(s+1)"
     ],
     "language": "python",
     "metadata": {},
     "outputs": [],
     "prompt_number": 5
    },
    {
     "cell_type": "code",
     "collapsed": false,
     "input": [
      "collect(expand(F),s)"
     ],
     "language": "python",
     "metadata": {},
     "outputs": [
      {
       "latex": [
        "$$a k + s^{3} + s^{2} \\left(b + k + 1\\right) + s \\left(- a k + b - k\\right)$$"
       ],
       "output_type": "pyout",
       "png": "[encoded data removed]",
       "prompt_number": 6,
       "text": [
        "       3    2                               \n",
        "a\u22c5k + s  + s \u22c5(b + k + 1) + s\u22c5(-a\u22c5k + b - k)"
       ]
      }
     ],
     "prompt_number": 6
    },
    {
     "cell_type": "markdown",
     "metadata": {},
     "source": [
      "Por lo que notamos que la tabla de Routh se calculara haciendo lo siguiente:\n",
      "\n",
      "$$a s^3 + b s^2 + c s + d$$\n",
      "\n",
      "|$s^3$|$a$                  |$c$|\n",
      "|-----|---------------------|---|\n",
      "|$s^2$|$b$                  |$d$|\n",
      "|$s^1$|$\\frac{b c - d a}{b}$|$0$|\n",
      "|$s^0$|$d$                  |$0$|\n",
      "\n",
      "Y el criterio que nos da Routh-Hurwitz para evaluar la estabilidad de un sistema nos dice que habra tantas raices con parte real positiva, como cambios de signo haya en la primera columna, por lo que nuestro trabajo es hacer que la primera columna no cambie de signo. Por consiguiente tenemos:\n",
      "\n",
      "1. $$1 > 0$$\n",
      "\n",
      "2. $$b + k + 1 > 0$$\n",
      "\n",
      "3. $$\\frac{((b + k + 1)(b - k - ak) - (a k)(1))}{(b + k + 1)} > 0$$\n",
      "\n",
      "4. $$ak > 0$$\n",
      "\n",
      "De la primera desigualdad, tenemos algo trivial, de la segunda obtenemos que $b + k > -1$, pero como $b > 0$ y $k > 0$ esto no nos dice nada mas. En la cuarta desigualdad tenemos de igual manera que $a > 0$ y $k > 0$, por lo que esta debe de ser cierta y no nos brinda mayor informaci\u00f3n. La tercer desigualdad la tenemos que desarrollar."
     ]
    },
    {
     "cell_type": "code",
     "collapsed": false,
     "input": [
      "simplify(expand(((b+k+1)*(b-k-a*k) - (a*k)*1)/(b+k+1)))"
     ],
     "language": "python",
     "metadata": {},
     "outputs": [
      {
       "latex": [
        "$$\\frac{- a b k - a k^{2} - 2 a k + b^{2} + b - k^{2} - k}{b + k + 1}$$"
       ],
       "output_type": "pyout",
       "png": "[encoded data removed]",
       "prompt_number": 7,
       "text": [
        "            2            2        2    \n",
        "-a\u22c5b\u22c5k - a\u22c5k  - 2\u22c5a\u22c5k + b  + b - k  - k\n",
        "\u2500\u2500\u2500\u2500\u2500\u2500\u2500\u2500\u2500\u2500\u2500\u2500\u2500\u2500\u2500\u2500\u2500\u2500\u2500\u2500\u2500\u2500\u2500\u2500\u2500\u2500\u2500\u2500\u2500\u2500\u2500\u2500\u2500\u2500\u2500\u2500\u2500\u2500\u2500\n",
        "               b + k + 1               "
       ]
      }
     ],
     "prompt_number": 7
    },
    {
     "cell_type": "markdown",
     "metadata": {},
     "source": [
      "Lo cual implica:\n",
      "\n",
      "$$\\frac{- a b k - a k^{2} - 2 a k + b^{2} + b - k^{2} - k}{b + k + 1} > 0$$\n",
      "\n",
      "pero como ya establecimos, la segunda desigualdad es cierta, por lo que podemos escribir lo siguiente como equivalencia:\n",
      "\n",
      "$$- a b k - a k^{2} - 2 a k + b^{2} + b - k^{2} - k > 0$$"
     ]
    },
    {
     "cell_type": "code",
     "collapsed": false,
     "input": [
      "collect(-a*b*k - a*k**2 - 2*a*k + b**2 + b - k**2 - k,k)"
     ],
     "language": "python",
     "metadata": {},
     "outputs": [
      {
       "latex": [
        "$$b^{2} + b + k^{2} \\left(- a -1\\right) + k \\left(- a b - 2 a -1\\right)$$"
       ],
       "output_type": "pyout",
       "png": "[encoded data removed]",
       "prompt_number": 8,
       "text": [
        " 2        2                              \n",
        "b  + b + k \u22c5(-a - 1) + k\u22c5(-a\u22c5b - 2\u22c5a - 1)"
       ]
      }
     ],
     "prompt_number": 8
    },
    {
     "cell_type": "markdown",
     "metadata": {},
     "source": [
      "o bien:\n",
      "\n",
      "$$k^{2} \\left(- a -1\\right) + k \\left(- a b - 2 a -1\\right) + \\left( b^{2} + b \\right)$$"
     ]
    },
    {
     "cell_type": "code",
     "collapsed": false,
     "input": [
      "ak = -a - 1\n",
      "bk = -a*b - 2*a - 1\n",
      "ck = b**2 + b\n",
      "k1 = (-bk + (bk**2 - 4 * ak * ck)**(1/2))/(2*ak)\n",
      "k2 = (-bk - (bk**2 - 4 * ak * ck)**(1/2))/(2*ak)"
     ],
     "language": "python",
     "metadata": {},
     "outputs": [],
     "prompt_number": 9
    },
    {
     "cell_type": "code",
     "collapsed": false,
     "input": [
      "k1"
     ],
     "language": "python",
     "metadata": {},
     "outputs": [
      {
       "latex": [
        "$$\\frac{a b + 2 a + 2}{- 2 a -2}$$"
       ],
       "output_type": "pyout",
       "png": "[encoded data removed]",
       "prompt_number": 10,
       "text": [
        "a\u22c5b + 2\u22c5a + 2\n",
        "\u2500\u2500\u2500\u2500\u2500\u2500\u2500\u2500\u2500\u2500\u2500\u2500\u2500\n",
        "   -2\u22c5a - 2  "
       ]
      }
     ],
     "prompt_number": 10
    },
    {
     "cell_type": "code",
     "collapsed": false,
     "input": [
      "k2"
     ],
     "language": "python",
     "metadata": {},
     "outputs": [
      {
       "latex": [
        "$$\\frac{a b + 2 a}{- 2 a -2}$$"
       ],
       "output_type": "pyout",
       "png": "[encoded data removed]",
       "prompt_number": 11,
       "text": [
        "a\u22c5b + 2\u22c5a\n",
        "\u2500\u2500\u2500\u2500\u2500\u2500\u2500\u2500\u2500\n",
        " -2\u22c5a - 2"
       ]
      }
     ],
     "prompt_number": 11
    },
    {
     "cell_type": "markdown",
     "metadata": {},
     "source": [
      "Lo que calculamos son los valores criticos de k, por lo que $k > \\frac{a b + 2 a + 2}{- 2 a -2}$ y $k > \\frac{a b + 2 a}{- 2 a -2}$."
     ]
    },
    {
     "cell_type": "heading",
     "level": 4,
     "metadata": {},
     "source": [
      "Proponga valores num\u00e9ricos para los par\u00e1metros $a$ y $b$, y determine el rango de ganancias $k$ para que el sistema en lazo cerrado sea Hurwitz estable. Cual es la ganancia cr\u00edtica, $k_c$, para la cual , el sistema en lazo cerrado presenta una respuesta oscilatoria?"
     ]
    },
    {
     "cell_type": "markdown",
     "metadata": {},
     "source": [
      "Asi pues podemos proponer $a$ y $b$ mayores que $0$, de tal manera que obtengamos un rango de $k$, en el que el comportamiento del sistema sea estable.\n",
      "\n",
      "Si proponemos $a = 1$ y $b = 1$."
     ]
    },
    {
     "cell_type": "code",
     "collapsed": false,
     "input": [
      "k_1 = (1*1+2*1+2)/(-2*1-2)\n",
      "k_2 = (1*1+2*1)/(-2*1-2)"
     ],
     "language": "python",
     "metadata": {},
     "outputs": [],
     "prompt_number": 52
    },
    {
     "cell_type": "code",
     "collapsed": false,
     "input": [
      "k_1"
     ],
     "language": "python",
     "metadata": {},
     "outputs": [
      {
       "output_type": "pyout",
       "prompt_number": 53,
       "text": [
        "-2"
       ]
      }
     ],
     "prompt_number": 53
    },
    {
     "cell_type": "code",
     "collapsed": false,
     "input": [
      "-k_2"
     ],
     "language": "python",
     "metadata": {},
     "outputs": [
      {
       "output_type": "pyout",
       "prompt_number": 54,
       "text": [
        "1"
       ]
      }
     ],
     "prompt_number": 54
    },
    {
     "cell_type": "markdown",
     "metadata": {},
     "source": [
      "Entonces obtenemos que $k > -2$ y $k > 1$, por lo que la unica restriccion para k sera que $k > 1$ y por lo tanto para $a = 1$ y $b = 1$, $k_c = 1$."
     ]
    },
    {
     "cell_type": "heading",
     "level": 1,
     "metadata": {},
     "source": [
      "Lugar de las Raices"
     ]
    },
    {
     "cell_type": "heading",
     "level": 4,
     "metadata": {},
     "source": [
      "Compruebe el rango encontrado en el anterior inciso, utilizando el lugar de las raices"
     ]
    },
    {
     "cell_type": "markdown",
     "metadata": {},
     "source": [
      "Para utilizar las funciones comunes de Matlab, podemos utilizar el modulo de control de python, el cual mandamos llamar."
     ]
    },
    {
     "cell_type": "code",
     "collapsed": false,
     "input": [
      "from control import tf, rlocus, step"
     ],
     "language": "python",
     "metadata": {},
     "outputs": [],
     "prompt_number": 1
    },
    {
     "cell_type": "markdown",
     "metadata": {},
     "source": [
      "Asi pues, podemos usar el comando rlocus para obtener los datos necesarios para graficar el lugar geometrico de las raices."
     ]
    },
    {
     "cell_type": "code",
     "collapsed": false,
     "input": [
      "G = tf([1, -1],[1, 1, 0]);\n",
      "Gc = tf([1, -1],[1, 1]);\n",
      "GcG = Gc * G;\n",
      "rlocus(GcG);\n",
      "xlim([-2, 2]);\n",
      "grid(\"on\");"
     ],
     "language": "python",
     "metadata": {},
     "outputs": [
      {
       "metadata": {},
       "output_type": "display_data",
       "png": "[encoded data removed]",
       "text": [
        "<matplotlib.figure.Figure at 0x106183250>"
       ]
      }
     ],
     "prompt_number": 2
    },
    {
     "cell_type": "heading",
     "level": 4,
     "metadata": {},
     "source": [
      "Determine una ganancia $k$, para que los polos dominantes tengan un coeficiente de amortiguamiento de $0.5$. Cu\u00e1l ser\u00e1 el porcentaje de sobrepaso $M_p$? Donde se localizan los polos dominantes? Cu\u00e1les son los valores de sus frecuencias naturales no amortiguada, $\\omega_n$, y amortiguada $\\omega_d$?"
     ]
    },
    {
     "cell_type": "markdown",
     "metadata": {},
     "source": [
      "Si tomamos en cuenta el coeficiente de amortiguamiento de $\\zeta = 0.5$, tenemos que el angulo $\\phi$ debe de ser:"
     ]
    },
    {
     "cell_type": "code",
     "collapsed": false,
     "input": [
      "from math import acos, degrees"
     ],
     "language": "python",
     "metadata": {},
     "outputs": [],
     "prompt_number": 3
    },
    {
     "cell_type": "code",
     "collapsed": false,
     "input": [
      "phi = acos(0.5)\n",
      "degrees(phi)"
     ],
     "language": "python",
     "metadata": {},
     "outputs": [
      {
       "metadata": {},
       "output_type": "pyout",
       "prompt_number": 4,
       "text": [
        "59.99999999999999"
       ]
      }
     ],
     "prompt_number": 4
    },
    {
     "cell_type": "markdown",
     "metadata": {},
     "source": [
      "Es decir que el angulo al que encontraremos una $k$ para la cual el coeficiente de amortiguamiento $\\zeta$ sera de $0.5$ es de $60\u00ba$"
     ]
    },
    {
     "cell_type": "markdown",
     "metadata": {},
     "source": [
      "Recordemos que nuestro sistema se ve de la siguiente manera: $\\frac{k (s-1)(s-1)}{k (s-1)(s-1) + s (s+1)(s+1)}$. Por lo que los polos dominantes son $1$ y $1$."
     ]
    }
   ],
   "metadata": {}
  }
 ]
}