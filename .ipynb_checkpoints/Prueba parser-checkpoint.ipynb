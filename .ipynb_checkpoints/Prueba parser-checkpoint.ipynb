{
 "metadata": {
  "name": ""
 },
 "nbformat": 3,
 "nbformat_minor": 0,
 "worksheets": [
  {
   "cells": [
    {
     "cell_type": "markdown",
     "metadata": {},
     "source": [
      "Abrimos el archivo a utilizar."
     ]
    },
    {
     "cell_type": "code",
     "collapsed": false,
     "input": [
      "archivo = open(\"lista.txt\", \"r\")"
     ],
     "language": "python",
     "metadata": {},
     "outputs": [],
     "prompt_number": 33
    },
    {
     "cell_type": "code",
     "collapsed": false,
     "input": [
      "Datos = {}"
     ],
     "language": "python",
     "metadata": {},
     "outputs": [],
     "prompt_number": 34
    },
    {
     "cell_type": "code",
     "collapsed": false,
     "input": [
      "for line in archivo:\n",
      "    lista = line.split()\n",
      "    if \"Profesor:\" in lista:\n",
      "        Datos[\"Profesor\"] = lista[lista.index(\"Profesor:\") + 1] + \" \" + lista[lista.index(\"Profesor:\") + 2] + \" \" + lista[lista.index(\"Profesor:\") + 3] + \" \" + lista[lista.index(\"Profesor:\") + 4]\n",
      "\n",
      "Datos"
     ],
     "language": "python",
     "metadata": {},
     "outputs": [
      {
       "metadata": {},
       "output_type": "pyout",
       "prompt_number": 35,
       "text": [
        "{'Profesor': '079197 ZAMORA CARBAJAL MARIANA'}"
       ]
      }
     ],
     "prompt_number": 35
    },
    {
     "cell_type": "code",
     "collapsed": false,
     "input": [],
     "language": "python",
     "metadata": {},
     "outputs": []
    }
   ],
   "metadata": {}
  }
 ]
}