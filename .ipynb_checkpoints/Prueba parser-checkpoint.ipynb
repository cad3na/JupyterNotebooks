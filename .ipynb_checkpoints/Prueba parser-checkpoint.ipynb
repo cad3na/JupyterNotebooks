{
 "metadata": {
  "name": ""
 },
 "nbformat": 3,
 "nbformat_minor": 0,
 "worksheets": [
  {
   "cells": [
    {
     "cell_type": "code",
     "collapsed": false,
     "input": [
      "In [49]: archivo = open(\"lista.txt\", \"r\")\n",
      "\n",
      "In [50]: Datos = {}\n",
      "\n",
      "In [51]: for line in archivo:\n",
      "   ....:     lista = line.split()\n",
      "   ....:     if \"Materia\" in lista:\n",
      "   ....:         Datos['Materia'] = lista[lista.index(\"Materia\") + 2] + \" \" + lista[lista.index(\"Materia\") + 3]\n",
      "   ....:         \n",
      "\n",
      "In [52]: Datos"
     ],
     "language": "python",
     "metadata": {},
     "outputs": [
      {
       "metadata": {},
       "output_type": "pyout",
       "prompt_number": 3,
       "text": [
        "{'Materia': 'TB101 MATEMATICAS'}"
       ]
      }
     ],
     "prompt_number": 3
    },
    {
     "cell_type": "code",
     "collapsed": false,
     "input": [],
     "language": "python",
     "metadata": {},
     "outputs": []
    }
   ],
   "metadata": {}
  }
 ]
}