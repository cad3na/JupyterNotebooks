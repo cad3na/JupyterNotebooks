{
 "metadata": {
  "name": ""
 },
 "nbformat": 3,
 "nbformat_minor": 0,
 "worksheets": [
  {
   "cells": [
    {
     "cell_type": "heading",
     "level": 1,
     "metadata": {},
     "source": [
      "Tarea - Semana 3"
     ]
    },
    {
     "cell_type": "markdown",
     "metadata": {},
     "source": [
      "Queremos saber el valor de la funcion $x$ evaluada en $0.1$, es decir $x(0.1)$.\n",
      "\n",
      "Sabemos que $x(0) = 0.5$ y que $\\dot{x} = -3x$ con un paso $dt = 0.1$\n",
      "\n",
      "Lo primero que hacemos es definir las variables utiles."
     ]
    },
    {
     "cell_type": "code",
     "collapsed": false,
     "input": [
      "t0 = 0\n",
      "tf = 0.1\n",
      "dt = 0.05\n",
      "x0 = 0.5"
     ],
     "language": "python",
     "metadata": {},
     "outputs": [],
     "prompt_number": 20
    },
    {
     "cell_type": "markdown",
     "metadata": {},
     "source": [
      "Creamos el arreglo donde vamos a guardar los valores obtenidos."
     ]
    },
    {
     "cell_type": "code",
     "collapsed": false,
     "input": [
      "t = arange(t0, tf + dt, dt)\n",
      "x = zeros(len(t))\n",
      "x[0] = x0"
     ],
     "language": "python",
     "metadata": {},
     "outputs": [],
     "prompt_number": 21
    },
    {
     "cell_type": "markdown",
     "metadata": {},
     "source": [
      "Y corremos el ciclo que iterara a traves de todos los elementos."
     ]
    },
    {
     "cell_type": "code",
     "collapsed": false,
     "input": [
      "for i in range(len(x)-1):\n",
      "    x[i+1] = x[i] - 3*dt*x[i]\n",
      "    \n",
      "print t,x"
     ],
     "language": "python",
     "metadata": {},
     "outputs": [
      {
       "output_type": "stream",
       "stream": "stdout",
       "text": [
        "[ 0.    0.05  0.1   0.15] [ 0.5        0.425      0.36125    0.3070625]\n"
       ]
      }
     ],
     "prompt_number": 22
    },
    {
     "cell_type": "markdown",
     "metadata": {},
     "source": [
      "La siguiente funcion a evaluar es compuesta, deseamos saber $x(0.1)$ tal que:\n",
      "\n",
      "$x(0) = 1$\n",
      "\n",
      "$y(0) = 0$\n",
      "\n",
      "$\\dot{x} = y$\n",
      "\n",
      "$\\dot{y} = -x$\n",
      "\n",
      "$dt = 0.1$"
     ]
    },
    {
     "cell_type": "code",
     "collapsed": false,
     "input": [
      "t0 = 0\n",
      "tf = 0.1\n",
      "dt = 0.1\n",
      "x0 = 1\n",
      "y0 = 0"
     ],
     "language": "python",
     "metadata": {},
     "outputs": [],
     "prompt_number": 23
    },
    {
     "cell_type": "code",
     "collapsed": false,
     "input": [
      "t = arange(t0, tf + dt, dt)\n",
      "x = zeros(len(t))\n",
      "y = zeros(len(t))\n",
      "x[0] = x0\n",
      "y[0] = y0"
     ],
     "language": "python",
     "metadata": {},
     "outputs": [],
     "prompt_number": 24
    },
    {
     "cell_type": "code",
     "collapsed": false,
     "input": [
      "for i in range(len(x)-1):\n",
      "    x[i+1] = x[i] + dt*y[i]\n",
      "    y[i+1] = y[i] - dt*x[i]\n",
      "    \n",
      "print t, x, y"
     ],
     "language": "python",
     "metadata": {},
     "outputs": [
      {
       "output_type": "stream",
       "stream": "stdout",
       "text": [
        "[ 0.   0.1] [ 1.  1.] [ 0.  -0.1]\n"
       ]
      }
     ],
     "prompt_number": 25
    },
    {
     "cell_type": "markdown",
     "metadata": {},
     "source": [
      "Regresando al primer ejemplo pero con mas iteraciones.\n",
      "\n",
      "Sabemos que $x(0) = 0.5$ y que $\\dot{x} = -3x$ con un paso $dt = 0.01$"
     ]
    },
    {
     "cell_type": "code",
     "collapsed": false,
     "input": [
      "t0 = 0\n",
      "tf = 1\n",
      "dt = 0.01\n",
      "x0 = 0.5"
     ],
     "language": "python",
     "metadata": {},
     "outputs": [],
     "prompt_number": 1
    },
    {
     "cell_type": "code",
     "collapsed": false,
     "input": [
      "t = arange(t0, tf + dt, dt)\n",
      "x = zeros(len(t))\n",
      "x[0] = x0"
     ],
     "language": "python",
     "metadata": {},
     "outputs": [],
     "prompt_number": 2
    },
    {
     "cell_type": "code",
     "collapsed": false,
     "input": [
      "for i in range(len(x)-1):\n",
      "    x[i+1] = x[i] - 3*dt*x[i]\n",
      "    \n",
      "print t,x"
     ],
     "language": "python",
     "metadata": {},
     "outputs": [
      {
       "output_type": "stream",
       "stream": "stdout",
       "text": [
        "[ 0.    0.01  0.02  0.03  0.04  0.05  0.06  0.07  0.08  0.09  0.1   0.11\n",
        "  0.12  0.13  0.14  0.15  0.16  0.17  0.18  0.19  0.2   0.21  0.22  0.23\n",
        "  0.24  0.25  0.26  0.27  0.28  0.29  0.3   0.31  0.32  0.33  0.34  0.35\n",
        "  0.36  0.37  0.38  0.39  0.4   0.41  0.42  0.43  0.44  0.45  0.46  0.47\n",
        "  0.48  0.49  0.5   0.51  0.52  0.53  0.54  0.55  0.56  0.57  0.58  0.59\n",
        "  0.6   0.61  0.62  0.63  0.64  0.65  0.66  0.67  0.68  0.69  0.7   0.71\n",
        "  0.72  0.73  0.74  0.75  0.76  0.77  0.78  0.79  0.8   0.81  0.82  0.83\n",
        "  0.84  0.85  0.86  0.87  0.88  0.89  0.9   0.91  0.92  0.93  0.94  0.95\n",
        "  0.96  0.97  0.98  0.99  1.  ] [ 0.5         0.485       0.47045     0.4563365   0.4426464   0.42936701\n",
        "  0.416486    0.40399142  0.39187168  0.38011553  0.36871206  0.3576507\n",
        "  0.34692118  0.33651355  0.32641814  0.31662559  0.30712683  0.29791302\n",
        "  0.28897563  0.28030636  0.27189717  0.26374026  0.25582805  0.24815321\n",
        "  0.24070861  0.23348735  0.22648273  0.21968825  0.2130976   0.20670467\n",
        "  0.20050353  0.19448843  0.18865378  0.18299416  0.17750434  0.17217921\n",
        "  0.16701383  0.16200342  0.15714331  0.15242901  0.14785614  0.14342046\n",
        "  0.13911785  0.13494431  0.13089598  0.1269691   0.12316003  0.11946523\n",
        "  0.11588127  0.11240483  0.10903269  0.10576171  0.10258886  0.09951119\n",
        "  0.09652585  0.09363008  0.09082118  0.08809654  0.08545364  0.08289004\n",
        "  0.08040333  0.07799123  0.0756515   0.07338195  0.07118049  0.06904508\n",
        "  0.06697373  0.06496451  0.06301558  0.06112511  0.05929136  0.05751262\n",
        "  0.05578724  0.05411362  0.05249021  0.05091551  0.04938804  0.0479064\n",
        "  0.04646921  0.04507513  0.04372288  0.04241119  0.04113886  0.03990469\n",
        "  0.03870755  0.03754632  0.03641993  0.03532734  0.03426752  0.03323949\n",
        "  0.03224231  0.03127504  0.03033679  0.02942668  0.02854388  0.02768756\n",
        "  0.02685694  0.02605123  0.02526969  0.0245116   0.02377625]\n"
       ]
      }
     ],
     "prompt_number": 3
    },
    {
     "cell_type": "code",
     "collapsed": false,
     "input": [
      "plot(t,x)"
     ],
     "language": "python",
     "metadata": {},
     "outputs": [
      {
       "metadata": {},
       "output_type": "pyout",
       "prompt_number": 4,
       "text": [
        "[<matplotlib.lines.Line2D at 0x10f67e510>]"
       ]
      },
      {
       "metadata": {},
       "output_type": "display_data",
       "png": "[encoded data removed]",
       "text": [
        "<matplotlib.figure.Figure at 0x10f242a50>"
       ]
      }
     ],
     "prompt_number": 4
    },
    {
     "cell_type": "markdown",
     "metadata": {},
     "source": [
      "A continuacion graficamos la aproximacion contra la solucion analitica y revisamos que tan buena es.\n",
      "\n",
      "Para los parametros:\n",
      "\n",
      "$x(0) = 1$\n",
      "\n",
      "$\\dot{x} = -2 x$\n",
      "\n",
      "$dt = 0.1$\n",
      "\n",
      "$t_0 = 0$\n",
      "\n",
      "$t_f = 10$"
     ]
    },
    {
     "cell_type": "code",
     "collapsed": false,
     "input": [
      "t0 = 0\n",
      "tf = 10\n",
      "dt = 0.1\n",
      "x0 = 1"
     ],
     "language": "python",
     "metadata": {},
     "outputs": [],
     "prompt_number": 5
    },
    {
     "cell_type": "code",
     "collapsed": false,
     "input": [
      "t = arange(t0, tf + dt, dt)\n",
      "x = zeros(len(t))\n",
      "x[0] = x0"
     ],
     "language": "python",
     "metadata": {},
     "outputs": [],
     "prompt_number": 6
    },
    {
     "cell_type": "code",
     "collapsed": false,
     "input": [
      "for i in range(len(x)-1):\n",
      "    x[i+1] = x[i] - 2*dt*x[i]\n",
      "    \n",
      "print t,x"
     ],
     "language": "python",
     "metadata": {},
     "outputs": [
      {
       "output_type": "stream",
       "stream": "stdout",
       "text": [
        "[  0.    0.1   0.2   0.3   0.4   0.5   0.6   0.7   0.8   0.9   1.    1.1\n",
        "   1.2   1.3   1.4   1.5   1.6   1.7   1.8   1.9   2.    2.1   2.2   2.3\n",
        "   2.4   2.5   2.6   2.7   2.8   2.9   3.    3.1   3.2   3.3   3.4   3.5\n",
        "   3.6   3.7   3.8   3.9   4.    4.1   4.2   4.3   4.4   4.5   4.6   4.7\n",
        "   4.8   4.9   5.    5.1   5.2   5.3   5.4   5.5   5.6   5.7   5.8   5.9\n",
        "   6.    6.1   6.2   6.3   6.4   6.5   6.6   6.7   6.8   6.9   7.    7.1\n",
        "   7.2   7.3   7.4   7.5   7.6   7.7   7.8   7.9   8.    8.1   8.2   8.3\n",
        "   8.4   8.5   8.6   8.7   8.8   8.9   9.    9.1   9.2   9.3   9.4   9.5\n",
        "   9.6   9.7   9.8   9.9  10. ] [  1.00000000e+00   8.00000000e-01   6.40000000e-01   5.12000000e-01\n",
        "   4.09600000e-01   3.27680000e-01   2.62144000e-01   2.09715200e-01\n",
        "   1.67772160e-01   1.34217728e-01   1.07374182e-01   8.58993459e-02\n",
        "   6.87194767e-02   5.49755814e-02   4.39804651e-02   3.51843721e-02\n",
        "   2.81474977e-02   2.25179981e-02   1.80143985e-02   1.44115188e-02\n",
        "   1.15292150e-02   9.22337204e-03   7.37869763e-03   5.90295810e-03\n",
        "   4.72236648e-03   3.77789319e-03   3.02231455e-03   2.41785164e-03\n",
        "   1.93428131e-03   1.54742505e-03   1.23794004e-03   9.90352031e-04\n",
        "   7.92281625e-04   6.33825300e-04   5.07060240e-04   4.05648192e-04\n",
        "   3.24518554e-04   2.59614843e-04   2.07691874e-04   1.66153499e-04\n",
        "   1.32922800e-04   1.06338240e-04   8.50705917e-05   6.80564734e-05\n",
        "   5.44451787e-05   4.35561430e-05   3.48449144e-05   2.78759315e-05\n",
        "   2.23007452e-05   1.78405962e-05   1.42724769e-05   1.14179815e-05\n",
        "   9.13438523e-06   7.30750819e-06   5.84600655e-06   4.67680524e-06\n",
        "   3.74144419e-06   2.99315535e-06   2.39452428e-06   1.91561943e-06\n",
        "   1.53249554e-06   1.22599643e-06   9.80797146e-07   7.84637717e-07\n",
        "   6.27710174e-07   5.02168139e-07   4.01734511e-07   3.21387609e-07\n",
        "   2.57110087e-07   2.05688070e-07   1.64550456e-07   1.31640365e-07\n",
        "   1.05312292e-07   8.42498333e-08   6.73998667e-08   5.39198933e-08\n",
        "   4.31359147e-08   3.45087317e-08   2.76069854e-08   2.20855883e-08\n",
        "   1.76684706e-08   1.41347765e-08   1.13078212e-08   9.04625697e-09\n",
        "   7.23700558e-09   5.78960446e-09   4.63168357e-09   3.70534686e-09\n",
        "   2.96427748e-09   2.37142199e-09   1.89713759e-09   1.51771007e-09\n",
        "   1.21416806e-09   9.71334446e-10   7.77067557e-10   6.21654046e-10\n",
        "   4.97323236e-10   3.97858589e-10   3.18286871e-10   2.54629497e-10\n",
        "   2.03703598e-10]\n"
       ]
      }
     ],
     "prompt_number": 7
    },
    {
     "cell_type": "code",
     "collapsed": false,
     "input": [
      "x_exac = zeros(len(t))\n",
      "x_exac[0] = x0"
     ],
     "language": "python",
     "metadata": {},
     "outputs": [],
     "prompt_number": 8
    },
    {
     "cell_type": "code",
     "collapsed": false,
     "input": [
      "for i in range(len(x)-1):\n",
      "    x_exac[i+1] = exp(-2*t[i+1])*x_exac[0]\n",
      "    \n",
      "print t,x"
     ],
     "language": "python",
     "metadata": {},
     "outputs": [
      {
       "output_type": "stream",
       "stream": "stdout",
       "text": [
        "[  0.    0.1   0.2   0.3   0.4   0.5   0.6   0.7   0.8   0.9   1.    1.1\n",
        "   1.2   1.3   1.4   1.5   1.6   1.7   1.8   1.9   2.    2.1   2.2   2.3\n",
        "   2.4   2.5   2.6   2.7   2.8   2.9   3.    3.1   3.2   3.3   3.4   3.5\n",
        "   3.6   3.7   3.8   3.9   4.    4.1   4.2   4.3   4.4   4.5   4.6   4.7\n",
        "   4.8   4.9   5.    5.1   5.2   5.3   5.4   5.5   5.6   5.7   5.8   5.9\n",
        "   6.    6.1   6.2   6.3   6.4   6.5   6.6   6.7   6.8   6.9   7.    7.1\n",
        "   7.2   7.3   7.4   7.5   7.6   7.7   7.8   7.9   8.    8.1   8.2   8.3\n",
        "   8.4   8.5   8.6   8.7   8.8   8.9   9.    9.1   9.2   9.3   9.4   9.5\n",
        "   9.6   9.7   9.8   9.9  10. ] [  1.00000000e+00   8.00000000e-01   6.40000000e-01   5.12000000e-01\n",
        "   4.09600000e-01   3.27680000e-01   2.62144000e-01   2.09715200e-01\n",
        "   1.67772160e-01   1.34217728e-01   1.07374182e-01   8.58993459e-02\n",
        "   6.87194767e-02   5.49755814e-02   4.39804651e-02   3.51843721e-02\n",
        "   2.81474977e-02   2.25179981e-02   1.80143985e-02   1.44115188e-02\n",
        "   1.15292150e-02   9.22337204e-03   7.37869763e-03   5.90295810e-03\n",
        "   4.72236648e-03   3.77789319e-03   3.02231455e-03   2.41785164e-03\n",
        "   1.93428131e-03   1.54742505e-03   1.23794004e-03   9.90352031e-04\n",
        "   7.92281625e-04   6.33825300e-04   5.07060240e-04   4.05648192e-04\n",
        "   3.24518554e-04   2.59614843e-04   2.07691874e-04   1.66153499e-04\n",
        "   1.32922800e-04   1.06338240e-04   8.50705917e-05   6.80564734e-05\n",
        "   5.44451787e-05   4.35561430e-05   3.48449144e-05   2.78759315e-05\n",
        "   2.23007452e-05   1.78405962e-05   1.42724769e-05   1.14179815e-05\n",
        "   9.13438523e-06   7.30750819e-06   5.84600655e-06   4.67680524e-06\n",
        "   3.74144419e-06   2.99315535e-06   2.39452428e-06   1.91561943e-06\n",
        "   1.53249554e-06   1.22599643e-06   9.80797146e-07   7.84637717e-07\n",
        "   6.27710174e-07   5.02168139e-07   4.01734511e-07   3.21387609e-07\n",
        "   2.57110087e-07   2.05688070e-07   1.64550456e-07   1.31640365e-07\n",
        "   1.05312292e-07   8.42498333e-08   6.73998667e-08   5.39198933e-08\n",
        "   4.31359147e-08   3.45087317e-08   2.76069854e-08   2.20855883e-08\n",
        "   1.76684706e-08   1.41347765e-08   1.13078212e-08   9.04625697e-09\n",
        "   7.23700558e-09   5.78960446e-09   4.63168357e-09   3.70534686e-09\n",
        "   2.96427748e-09   2.37142199e-09   1.89713759e-09   1.51771007e-09\n",
        "   1.21416806e-09   9.71334446e-10   7.77067557e-10   6.21654046e-10\n",
        "   4.97323236e-10   3.97858589e-10   3.18286871e-10   2.54629497e-10\n",
        "   2.03703598e-10]\n"
       ]
      }
     ],
     "prompt_number": 9
    },
    {
     "cell_type": "code",
     "collapsed": false,
     "input": [
      "plot(t,x, label=\"aprox\")\n",
      "plot(t,x_exac, label=\"exac\")\n",
      "legend()"
     ],
     "language": "python",
     "metadata": {},
     "outputs": [
      {
       "metadata": {},
       "output_type": "pyout",
       "prompt_number": 12,
       "text": [
        "<matplotlib.legend.Legend at 0x10f7e4fd0>"
       ]
      },
      {
       "metadata": {},
       "output_type": "display_data",
       "png": "[encoded data removed]",
       "text": [
        "<matplotlib.figure.Figure at 0x10f744510>"
       ]
      }
     ],
     "prompt_number": 12
    },
    {
     "cell_type": "markdown",
     "metadata": {},
     "source": [
      "Para revisar el tiempo que toman estos calculos vamos a usar el comando\n",
      "```python\n",
      "%%timeit\n",
      "```"
     ]
    },
    {
     "cell_type": "markdown",
     "metadata": {},
     "source": [
      "Primero ejecutamos el calculo con las condiciones iniciales:\n",
      "\n",
      "$x(0) = 1$\n",
      "\n",
      "$\\dot{x} = -2 x$\n",
      "\n",
      "$dt = 0.001$\n",
      "\n",
      "$t_0 = 0$\n",
      "\n",
      "$t_f = 1$"
     ]
    },
    {
     "cell_type": "code",
     "collapsed": false,
     "input": [
      "t0 = 0\n",
      "tf = 1\n",
      "dt = 0.001\n",
      "x0 = 1"
     ],
     "language": "python",
     "metadata": {},
     "outputs": [],
     "prompt_number": 13
    },
    {
     "cell_type": "code",
     "collapsed": false,
     "input": [
      "t = arange(t0, tf + dt, dt)\n",
      "x = zeros(len(t))\n",
      "x[0] = x0"
     ],
     "language": "python",
     "metadata": {},
     "outputs": [],
     "prompt_number": 14
    },
    {
     "cell_type": "code",
     "collapsed": false,
     "input": [
      "for i in range(len(x)-1):\n",
      "    x[i+1] = x[i] - 2*dt*x[i]"
     ],
     "language": "python",
     "metadata": {},
     "outputs": [],
     "prompt_number": 15
    },
    {
     "cell_type": "code",
     "collapsed": false,
     "input": [
      "%%timeit\n",
      "x0 = 0.5\n",
      "x_cc = zeros(len(t))\n",
      "x_cc[0] = x0\n",
      "for i in range(len(x)-1):\n",
      "    x_cc[i+1] = x_cc[i] - 2*dt*x_cc[i]"
     ],
     "language": "python",
     "metadata": {},
     "outputs": [
      {
       "output_type": "stream",
       "stream": "stdout",
       "text": [
        "100 loops, best of 3: 4.16 ms per loop\n"
       ]
      }
     ],
     "prompt_number": 17
    },
    {
     "cell_type": "code",
     "collapsed": false,
     "input": [
      "%%timeit\n",
      "x_mc = 0.5*x"
     ],
     "language": "python",
     "metadata": {},
     "outputs": [
      {
       "output_type": "stream",
       "stream": "stdout",
       "text": [
        "100000 loops, best of 3: 7.38 \u00b5s per loop\n"
       ]
      }
     ],
     "prompt_number": 18
    },
    {
     "cell_type": "code",
     "collapsed": false,
     "input": [
      "(4.16*10**(-3)) / (7.38*10**(-6))"
     ],
     "language": "python",
     "metadata": {},
     "outputs": [
      {
       "metadata": {},
       "output_type": "pyout",
       "prompt_number": 19,
       "text": [
        "563.6856368563687"
       ]
      }
     ],
     "prompt_number": 19
    },
    {
     "cell_type": "heading",
     "level": 1,
     "metadata": {},
     "source": [
      "Tarea - Semana 4"
     ]
    },
    {
     "cell_type": "markdown",
     "metadata": {},
     "source": [
      "Tenemos que hacer la integracion de Euler para aproximar el valor de $x(10.0)$ de un sistema masa-resorte-amortiguador.\n",
      "\n",
      "Para este sistema la EDO es:\n",
      "\n",
      "$\\ddot{x} = - \\frac{k}{m} x - \\frac{b}{m} \\dot{x}$\n",
      "\n",
      "Tambien consideremos las siguientes constantes $k = 1$, $m = 2$, $b = 4$ y con las condiciones $dt = 0.01$, $x(0) = 1$ y $\\dot{x}(0) = 0$.\n",
      "\n",
      "Para poder usar la integracion de Euler tenemos que definir dos estados $x$ y $\\dot{x}$, o bien $x$ y $v$. Escrito con estos dos ultimos conceptos la EDO ser\u00e1:\n",
      "\n",
      "$\\dot{v} = - \\frac{k}{m} x - \\frac{b}{m} v$\n",
      "\n",
      "Por lo que visto asi, esta no es una EDO de segundo orden, sino de primer orden, y en lugar de depender de solo la condicion inicial de la posicion, depende de $x_0$ y $v_0$.\n",
      "\n",
      "De la misma manera podemos notar que $\\dot{x} = v$, por lo que ya tenemos los dos estados bien definidos, y podemos verlo como un sistema de la forma $\\dot{w} = A w$, siendo $w = \\left[\\begin{array}{c} x\\\\v \\end{array}\\right]$ y $A = \\left[\\begin{array}{c} 0 & 1\\\\-\\frac{k}{m} & -\\frac{b}{m} \\end{array}\\right]$.\n",
      "\n",
      "Para estas ecuaciones la condicion inicial seria $w_0 = \\left[\\begin{array}{c} x_0 \\\\ v_0 \\end{array}\\right] = \\left[\\begin{array}{c} 1\\\\0 \\end{array}\\right]$."
     ]
    },
    {
     "cell_type": "code",
     "collapsed": false,
     "input": [
      "# Se establecen las condiciones iniciales y finales del tiempo\n",
      "t0 = 0.0\n",
      "tf = 10.0\n",
      "dt = 0.01\n",
      "# Se inicializan los parametros del sistema\n",
      "k = 1\n",
      "m = 2\n",
      "b = 4\n",
      "# Se establecen las condiciones iniciales del sistema\n",
      "x0 = 1\n",
      "v0 = 0\n",
      "# Se crea el arreglo de las condiciones iniciales del sistema\n",
      "w0 = array([x0,v0])\n",
      "# Se crea el arreglo donde se establecen los parametros del sistema\n",
      "A =  array([[0, 1], [-k/m, -b/m]])\n",
      "# Se crean los arreglos para el tiempo y el estado del sistema\n",
      "t = arange(t0, tf + dt, dt)\n",
      "w = zeros(len(w0)*len(t)).reshape(len(t), len(w0))\n",
      "w[0] = w0\n",
      "# Se calcula el estado del sistema en cada punto del tiempo\n",
      "for i in range(len(w)-1):\n",
      "    w[i+1] = w[i] + dt*dot(A,w[i])\n",
      "# Se imprime el estado del sistema calculado\n",
      "plot(t, w.T[0], label=\"x\")\n",
      "plot(t,w.T[1], label=\"v\")\n",
      "legend()\n",
      "\n",
      "print w[-1]"
     ],
     "language": "python",
     "metadata": {},
     "outputs": [
      {
       "output_type": "stream",
       "stream": "stdout",
       "text": [
        "[ 0.00047924 -0.00043607]\n"
       ]
      },
      {
       "metadata": {},
       "output_type": "display_data",
       "png": "[encoded data removed]",
       "text": [
        "<matplotlib.figure.Figure at 0x10efdc110>"
       ]
      }
     ],
     "prompt_number": 8
    },
    {
     "cell_type": "markdown",
     "metadata": {},
     "source": [
      "Se nos pide simular el sistema $\\dot{w} = A w$ donde $A = \\left[\\begin{array}{c} 0 & 1\\\\-1 & 0 \\end{array}\\right]$ para las condiciones iniciales $w(0.0) = \\left[\\begin{array}{c} 1\\\\0 \\end{array}\\right]$ y calcular $w(1.0)$ con integracion de Euler y por metodos analiticos para obtener la diferencia entre la solucion analitica y la solucion aproximada de la primer componente, teniendo $dt = 0.1$.\n",
      "\n",
      "Primero realizamos la integraci\u00f3n de Euler:"
     ]
    },
    {
     "cell_type": "code",
     "collapsed": false,
     "input": [
      "# Se establecen las condiciones iniciales y finales del tiempo\n",
      "t0 = 0.0\n",
      "tf = 9.0\n",
      "dt = 0.01\n",
      "# Se crea el arreglo de las condiciones iniciales del sistema\n",
      "w0 = array([1, 0])\n",
      "# Se crea el arreglo donde se establecen los parametros del sistema\n",
      "A =  array([[0, 1], [-2, 0]])\n",
      "# Se crean los arreglos para el tiempo y el estado del sistema\n",
      "t = arange(t0, tf + dt, dt)\n",
      "w_aprox = zeros(len(w0)*len(t)).reshape(len(t), len(w0))\n",
      "w_aprox[0] = w0\n",
      "# Se calcula el estado del sistema en cada punto del tiempo\n",
      "for i in range(len(w_aprox)-1):\n",
      "    w_aprox[i+1] = w_aprox[i] + dt*dot(A,w_aprox[i])\n",
      "# Se imprime el estado del sistema calculado\n",
      "plot(t, w_aprox.T[0], label=\"w(0)\")\n",
      "plot(t,w_aprox.T[1], label=\"w(1)\")\n",
      "legend()\n",
      "\n",
      "print w_aprox[-1]"
     ],
     "language": "python",
     "metadata": {},
     "outputs": [
      {
       "output_type": "stream",
       "stream": "stdout",
       "text": [
        "[ 1.08006617 -0.24760004]\n"
       ]
      },
      {
       "metadata": {},
       "output_type": "display_data",
       "png": "[encoded data removed]",
       "text": [
        "<matplotlib.figure.Figure at 0x1051ac550>"
       ]
      }
     ],
     "prompt_number": 43
    },
    {
     "cell_type": "markdown",
     "metadata": {},
     "source": [
      "Asi pues procedemos a calcular la solucion analitica de este sistema tomando en cuenta que los eigenvalores y eigenvectores proveen una solucion compuesta.\n",
      "\n",
      "Para cualquier sistema $\\dot{w} = A w$, tenemos que podemos usar la solucion exponencial $w(t) = e^{ht} w_0$ y atraves de calculos descubriremos que $h$ seran los eigenvalores y $w_0$ los eigenvectores (para cada eigenvalor, correspondera un eigenvector).\n",
      "\n",
      "Al final podremos componer nuestra solucion total como:\n",
      "\n",
      "$w(t) = e^{h_1 t} w_{0_1} + e^{h_2 t} w_{0_2}$\n",
      "\n",
      "Por lo que obtendremos son estos eigenvectores y eigenvalores para obtener el modelo analitico del sistema, y poder comparar asi los resultados."
     ]
    },
    {
     "cell_type": "code",
     "collapsed": false,
     "input": [
      "h,w = linalg.eig(A)\n",
      "print w"
     ],
     "language": "python",
     "metadata": {},
     "outputs": [
      {
       "output_type": "stream",
       "stream": "stdout",
       "text": [
        "[[ 0.00000000-0.57735027j  0.00000000+0.57735027j]\n",
        " [ 0.81649658+0.j          0.81649658+0.j        ]]\n"
       ]
      }
     ],
     "prompt_number": 50
    },
    {
     "cell_type": "markdown",
     "metadata": {},
     "source": [
      "Una vez que tenemos estos, podemos sacar los valores de la solucion exacta:"
     ]
    },
    {
     "cell_type": "code",
     "collapsed": false,
     "input": [
      "# Se establecen las condiciones iniciales y finales del tiempo\n",
      "t0 = 0.0\n",
      "tf = 9.0\n",
      "dt = 0.01\n",
      "# Se crea el arreglo de las condiciones iniciales del sistema\n",
      "w01 = array(w[0])\n",
      "w02 = array(w[1])\n",
      "# Se crean los arreglos para el tiempo y el estado del sistema\n",
      "t = arange(t0, tf + dt, dt)\n",
      "w_exac = zeros(len(w01)*len(t)).reshape(len(t), len(w01))\n",
      "w_exac[0] = w01 + w02\n",
      "# Se calcula el estado del sistema en cada punto del tiempo\n",
      "for i in range(len(w_exac) - 1):\n",
      "    w_exac[i+1] = exp(h[0]*t[i+1])*w01 + exp(h[1]*t[i+1])*w02\n",
      "# Se imprime el estado del sistema calculado\n",
      "plot(t, w_exac.T[0], label=\"w(0)\")\n",
      "plot(t,w_exac.T[1], label=\"w(1)\")\n",
      "legend()\n",
      "\n",
      "print w_exac[-1]"
     ],
     "language": "python",
     "metadata": {},
     "outputs": [
      {
       "output_type": "stream",
       "stream": "stdout",
       "text": [
        "[ 0.8987315   0.71299833]\n"
       ]
      },
      {
       "metadata": {},
       "output_type": "display_data",
       "png": "[encoded data removed]",
       "text": [
        "<matplotlib.figure.Figure at 0x1051bb390>"
       ]
      }
     ],
     "prompt_number": 46
    },
    {
     "cell_type": "code",
     "collapsed": false,
     "input": [
      "print w_exac - w_aprox"
     ],
     "language": "python",
     "metadata": {},
     "outputs": [
      {
       "output_type": "stream",
       "stream": "stdout",
       "text": [
        "[[-0.18350342  0.81649658]\n",
        " [-0.17542037  0.82825024]\n",
        " [-0.16730224  0.83984225]\n",
        " ..., \n",
        " [-0.19839731  0.93680863]\n",
        " [-0.18988518  0.94879621]\n",
        " [-0.18133467  0.96059837]]\n"
       ]
      }
     ],
     "prompt_number": 48
    },
    {
     "cell_type": "markdown",
     "metadata": {},
     "source": [
      "Tambien nos piden los eigenvalores de la matriz $A = \\left[\\begin{array}{c} 0 & 0 & 1\\\\0 & -2 & 0\\\\-1 & 0 & 0 \\end{array}\\right]$."
     ]
    },
    {
     "cell_type": "code",
     "collapsed": false,
     "input": [
      "A = array([[0, 0, 1],[0, -2, 0],[-1, 0, 0]])\n",
      "print linalg.eigvals(A)"
     ],
     "language": "python",
     "metadata": {},
     "outputs": [
      {
       "output_type": "stream",
       "stream": "stdout",
       "text": [
        "[ 0.+1.j  0.-1.j -2.+0.j]\n"
       ]
      }
     ],
     "prompt_number": 31
    },
    {
     "cell_type": "code",
     "collapsed": false,
     "input": [
      "A = array([[0, 1],[-1, -3]])\n",
      "h,w = linalg.eig(A)\n",
      "print w[0]/w[0][1]"
     ],
     "language": "python",
     "metadata": {},
     "outputs": [
      {
       "output_type": "stream",
       "stream": "stdout",
       "text": [
        "[-2.61803399  1.        ]\n"
       ]
      }
     ],
     "prompt_number": 36
    },
    {
     "cell_type": "markdown",
     "metadata": {},
     "source": [
      "Nos piden simular el sistema $\\dot{x} = v$ y $\\dot{v} = - \\frac{2 k}{m} x$, por lo tanto podemos definir el sistema como $\\dot{w} = A w$ con la matriz $A = \\left[\\begin{array}{c} 0 & 1\\\\-\\frac{2 k}{m} & 0 \\end{array}\\right]$ donde las condiciones iniciales y del sistema son:\n",
      "\n",
      "$k = 2$\n",
      "\n",
      "$m = 1$\n",
      "\n",
      "$x_0 = 1$\n",
      "\n",
      "$v_0 = -0.5$\n",
      "\n",
      "$dt = 0.01$\n",
      "\n",
      "Y lo que se nos pide es:\n",
      "\n",
      "$x(1.0)$"
     ]
    },
    {
     "cell_type": "code",
     "collapsed": false,
     "input": [
      "# Se establecen las condiciones iniciales y finales del tiempo\n",
      "t0 = 0.0\n",
      "tf = 1.0\n",
      "dt = 0.01\n",
      "# Se inicializan los parametros del sistema\n",
      "k = 2\n",
      "m = 1\n",
      "# Se establecen las condiciones iniciales del sistema\n",
      "x0 = 1\n",
      "v0 = -0.5\n",
      "# Se crea el arreglo de las condiciones iniciales del sistema\n",
      "w0 = array([x0,v0])\n",
      "# Se crea el arreglo donde se establecen los parametros del sistema\n",
      "A =  array([[0, 1], [-2*k/m, 0]])\n",
      "# Se crean los arreglos para el tiempo y el estado del sistema\n",
      "t = arange(t0, tf + dt, dt)\n",
      "w = zeros(len(w0)*len(t)).reshape(len(t), len(w0))\n",
      "w[0] = w0\n",
      "# Se calcula el estado del sistema en cada punto del tiempo\n",
      "for i in range(len(w)-1):\n",
      "    w[i+1] = w[i] + dt*dot(A,w[i])\n",
      "# Se imprime el estado del sistema calculado\n",
      "plot(t, w.T[0], label=\"x\")\n",
      "plot(t,w.T[1], label=\"v\")\n",
      "legend()\n",
      "\n",
      "print w[-1]"
     ],
     "language": "python",
     "metadata": {},
     "outputs": [
      {
       "output_type": "stream",
       "stream": "stdout",
       "text": [
        "[-0.6562485  -1.64339953]\n"
       ]
      },
      {
       "metadata": {},
       "output_type": "display_data",
       "png": "[encoded data removed]",
       "text": [
        "<matplotlib.figure.Figure at 0x105102dd0>"
       ]
      }
     ],
     "prompt_number": 38
    },
    {
     "cell_type": "markdown",
     "metadata": {},
     "source": [
      "Para la siguiente pregunta tenemos que modelar un sistema de dos masas con un resorte entre ellas y no han sido fijadas.\n",
      "\n",
      "$\\dot{w} = A w$\n",
      "\n",
      "$A = \\left[\\begin{array}{c} 0 & 1 & 0 & 0\\\\-k & 0 & k & 0\\\\ 0 & 0 & 0 & 1 \\\\ k & 0 & -k & 0 \\end{array}\\right]$\n",
      "\n",
      "$x_1(0) = 1$\n",
      "\n",
      "$x_2(0) = 2$\n",
      "\n",
      "$v_1(0) = 0$\n",
      "\n",
      "$v_2(0) = 1$\n",
      "\n",
      "$dt = 0.01$\n",
      "\n",
      "Tenemos que obtener $x_1(5)$ y $x_2(5)$"
     ]
    },
    {
     "cell_type": "code",
     "collapsed": false,
     "input": [
      "# Se establecen las condiciones iniciales y finales del tiempo\n",
      "t0 = 0.0\n",
      "tf = 5.0\n",
      "dt = 0.01\n",
      "# Se inicializan los parametros del sistema\n",
      "k = 2\n",
      "m = 1\n",
      "# Se establecen las condiciones iniciales del sistema\n",
      "x10 = 1\n",
      "v10 = 0\n",
      "x20 = 2\n",
      "v20 = 1\n",
      "# Se crea el arreglo de las condiciones iniciales del sistema\n",
      "w0 = array([x10, v10, x20, v20])\n",
      "# Se crea el arreglo donde se establecen los parametros del sistema\n",
      "A =  array([[0, 1, 0, 0], [-k, 0, k, 0], [0, 0, 0, 1], [k, 0, -k, 0]])\n",
      "# Se crean los arreglos para el tiempo y el estado del sistema\n",
      "t = arange(t0, tf + dt, dt)\n",
      "w = zeros(len(w0)*len(t)).reshape(len(t), len(w0))\n",
      "w[0] = w0\n",
      "# Se calcula el estado del sistema en cada punto del tiempo\n",
      "for i in range(len(w)-1):\n",
      "    w[i+1] = w[i] + dt*dot(A,w[i])\n",
      "# Se imprime el estado del sistema calculado\n",
      "plot(t, w.T[0], label=\"x1\")\n",
      "plot(t, w.T[1], label=\"v1\")\n",
      "plot(t, w.T[2], label=\"x2\")\n",
      "plot(t, w.T[3], label=\"v2\")\n",
      "legend()\n",
      "\n",
      "print w[-1]"
     ],
     "language": "python",
     "metadata": {},
     "outputs": [
      {
       "output_type": "stream",
       "stream": "stdout",
       "text": [
        "[ 4.61404668  0.36406211  3.38595332  0.63593789]\n"
       ]
      },
      {
       "metadata": {},
       "output_type": "display_data",
       "png": "[encoded data removed]",
       "text": [
        "<matplotlib.figure.Figure at 0x111155610>"
       ]
      }
     ],
     "prompt_number": 21
    },
    {
     "cell_type": "code",
     "collapsed": false,
     "input": [
      "cos(sqrt(2)*9)"
     ],
     "language": "python",
     "metadata": {},
     "outputs": [
      {
       "metadata": {},
       "output_type": "pyout",
       "prompt_number": 49,
       "text": [
        "0.98697892159952683"
       ]
      }
     ],
     "prompt_number": 49
    },
    {
     "cell_type": "heading",
     "level": 1,
     "metadata": {},
     "source": [
      "Tarea - Semana 5"
     ]
    },
    {
     "cell_type": "markdown",
     "metadata": {},
     "source": [
      "Esta tarea fue principalmente de analisis, tan solo tenemos que simular un sistema de difusion quimica, en la que la ecuacion diferencial es la siguiente:\n",
      "\n",
      "$a(C(x)) + D \\frac{d^2 C(x)}{dx^2} = 0$\n",
      "\n",
      "Teniendo en cuenta que $a = C(x)^2$, $D = 1$, $C(x = 0) = 1$, $\\frac{\\partial C}{\\partial x} (x = 0) = 0$ podemos reescribir en primera instancia la ecuacion diferencial de la siguiente manera:\n",
      "\n",
      "$C'' = -C^2$ con $C(0) = 0$ y $C'(0) = 0$, si consideramos a $C_1 = C$ y $C_2 = C'$ a la EDO la podemos ver como:\n",
      "\n",
      "$C_1' = C_2$\n",
      "\n",
      "$C_2' = -C_1^2$\n",
      "\n",
      "Lo cual significa que ya tengo dos ecuaciones diferenciales de primer orden, pero que no son lineales, por lo que puedo usar la integracion de Euler para resolverlo, simplemente no en un enfoque matricial.\n",
      "\n",
      "Por cierto las condiciones iniciales las puedo ver como:\n",
      "\n",
      "$C_1(0) = 1$\n",
      "\n",
      "$C_2(0) = 0$\n",
      "\n",
      "Y lo que queremos obtener es $C_1(1)$ con un paso de $dx = 0.01$"
     ]
    },
    {
     "cell_type": "code",
     "collapsed": false,
     "input": [
      "# Se establecen las condiciones iniciales y finales de distancia\n",
      "x0 = 0.0\n",
      "xf = 1.0\n",
      "dx = 0.01\n",
      "# Se establecen las condiciones iniciales del sistema\n",
      "C10 = 1\n",
      "C20 = 0\n",
      "# Se crean los arreglos para la distancia y los estados del sistema\n",
      "x = arange(x0, xf + dx, dx)\n",
      "C1 = zeros(len(x))\n",
      "C2 = zeros(len(x))\n",
      "C1[0] = C10\n",
      "C2[0] = C20\n",
      "# Se calculan los estados del sistema en cada punto de x\n",
      "for i in range(len(x)-1):\n",
      "    c1 = C1[i]\n",
      "    c2 = C2[i]\n",
      "    C1[i+1] = C1[i] + dx*c2\n",
      "    C2[i+1] = C2[i] - dx*c1*c1\n",
      "    \n",
      "# Se imprime el estado del sistema calculado\n",
      "plot(x, C1, label=\"C\")\n",
      "plot(x, C2, label=\"C'\")\n",
      "legend()\n",
      "\n",
      "print C1[-1], C2[-1]"
     ],
     "language": "python",
     "metadata": {},
     "outputs": [
      {
       "output_type": "stream",
       "stream": "stdout",
       "text": [
        "0.57250018443 -0.742301898155\n"
       ]
      },
      {
       "metadata": {},
       "output_type": "display_data",
       "png": "[encoded data removed]",
       "text": [
        "<matplotlib.figure.Figure at 0x10cba5390>"
       ]
      }
     ],
     "prompt_number": 7
    },
    {
     "cell_type": "heading",
     "level": 1,
     "metadata": {},
     "source": [
      "Tarea - Semana 6"
     ]
    },
    {
     "cell_type": "markdown",
     "metadata": {},
     "source": [
      "El primer ejercicio para el que tenemos que simular un sistema es de difusion quimica con concentracion variable en el tiempo.\n",
      "\n",
      "Lo primero que notamos es la formula general:\n",
      "\n",
      "$C(x,t) = Q_0 \\frac{1}{\\sqrt{4 \\pi D t}} e^{\\frac{-(x - x_0)^2}{4 D t}}$\n",
      "\n",
      "Podemos usar el principio de superposici\u00f3n, y sumamos los efectos de las dos gotas de tinte. La gota en $x_1 = 0.5$ tiene una concentraci\u00f3n inicial de $Q_{0_1} = 0.75$ y la gota en $x_2 = 0.7$ tiene una concentraci\u00f3n inicial de $Q_{0_2} = 0.25$, asi pues la soluci\u00f3n analitica para la concentraci\u00f3n nos queda:\n",
      "\n",
      "$C(x,t) = 0.75 \\frac{1}{\\sqrt{4 \\pi D t}} e^{\\frac{-(x - 0.5)^2}{4 D t}} + 0.25 \\frac{1}{\\sqrt{4 \\pi D t}} e^{\\frac{-(x - 0.7)^2}{4 D t}}$\n",
      "\n",
      "Si queremos saber como se vera la grafica con $x = 0 \\implies 1$ y $t = 1$ podemos evaluar la funcion para todos los valores entre $0$ y $1$."
     ]
    },
    {
     "cell_type": "code",
     "collapsed": false,
     "input": [
      "#Condiciones del sistema\n",
      "tau = 2*pi\n",
      "t = 1\n",
      "D = 1\n",
      "x0 = 0.0\n",
      "xf = 1.0\n",
      "dx = 0.01\n",
      "#Arreglo de x\n",
      "x = arange(x0, xf + dx, dx)\n",
      "C = zeros(len(x))\n",
      "#Calculamos los valores de C para cada x y t\n",
      "for i in range(len(x)):\n",
      "    C[i] = 0.75*(1/sqrt(2*tau*D*t))*exp(-(x[i]-0.5)**2/(4*D*t)) + 0.25*(1/sqrt(2*tau*D*t))*exp(-(x[i]-0.7)**2/(4*D*t))\n",
      "    \n",
      "plot(x, C)"
     ],
     "language": "python",
     "metadata": {},
     "outputs": [
      {
       "metadata": {},
       "output_type": "pyout",
       "prompt_number": 2,
       "text": [
        "[<matplotlib.lines.Line2D at 0x10cfe8a90>]"
       ]
      },
      {
       "metadata": {},
       "output_type": "display_data",
       "png": "[encoded data removed]",
       "text": [
        "<matplotlib.figure.Figure at 0x10cf77f90>"
       ]
      }
     ],
     "prompt_number": 2
    },
    {
     "cell_type": "markdown",
     "metadata": {},
     "source": [
      "Por otro lado, si tan solo queremos un valor en especifico podemos imprimirlo de la siguiente manera:"
     ]
    },
    {
     "cell_type": "code",
     "collapsed": false,
     "input": [
      "tau = 2*pi\n",
      "D = 1\n",
      "x = 0.4\n",
      "t = 1\n",
      "C = 0.75*(1/sqrt(2*tau*D*t))*exp(-(x-0.5)**2/(4*D*t)) + 0.25*(1/sqrt(2*tau*D*t))*exp(-(x-0.7)**2/(4*D*t))\n",
      "print C"
     ],
     "language": "python",
     "metadata": {},
     "outputs": [
      {
       "output_type": "stream",
       "stream": "stdout",
       "text": [
        "0.279997459621\n"
       ]
      }
     ],
     "prompt_number": 3
    },
    {
     "cell_type": "markdown",
     "metadata": {},
     "source": [
      "Lo siguiente que nos piden es aproximar la solucion a un sistema no linear con la integraci\u00f3n de Euler, la cual podemos realizar de manera similar a la de la semana pasada.\n",
      "\n",
      "$\\ddot{x} = -x + \\sin(t)$\n",
      "\n",
      "Tomando en cuenta las condiciones iniciales $x(0.0) = 0.0$, $\\dot{x}(0.0) = 0.0$,  $dt = 0.01$ y $x(1.0)$ como nuestra incognita. Reacomodando las variables para tener EDO's de primer orden, tendremos:\n",
      "\n",
      "$\\dot{x} = v$\n",
      "\n",
      "$\\dot{v} = -x + \\sin(t)$\n",
      "\n",
      "Pero esto aun no es lineal, por lo que no podemos usar notaci\u00f3n matricial, pero si podemos usar estos estados para conseguir el calculo."
     ]
    },
    {
     "cell_type": "code",
     "collapsed": false,
     "input": [
      "# Se establecen las condiciones iniciales y finales del tiempo\n",
      "t0 = 0.0\n",
      "tf = 1.0\n",
      "dt = 0.01\n",
      "# Se establecen las condiciones iniciales del sistema\n",
      "x0 = 0\n",
      "v0 = 0\n",
      "# Se crean los arreglos para el tiempo y los estados del sistema\n",
      "t = arange(t0, tf + dt, dt)\n",
      "X = zeros(len(t))\n",
      "V = zeros(len(t))\n",
      "X[0] = x0\n",
      "V[0] = v0\n",
      "# Se calculan los estados del sistema en cada momento\n",
      "for i in range(len(t)-1):\n",
      "    x = X[i]\n",
      "    v = V[i]\n",
      "    X[i+1] = X[i] + dt*v\n",
      "    V[i+1] = V[i] + dt*(-x + sin(t[i]))\n",
      "    \n",
      "# Se imprime el estado del sistema calculado\n",
      "plot(t, X, label=\"x\")\n",
      "plot(t, V, label=\"v\")\n",
      "legend()\n",
      "\n",
      "print X[-1], V[-1]"
     ],
     "language": "python",
     "metadata": {},
     "outputs": [
      {
       "output_type": "stream",
       "stream": "stdout",
       "text": [
        "0.146756029254 0.418674313709\n"
       ]
      },
      {
       "metadata": {},
       "output_type": "display_data",
       "png": "[encoded data removed]",
       "text": [
        "<matplotlib.figure.Figure at 0x111155910>"
       ]
      }
     ],
     "prompt_number": 14
    },
    {
     "cell_type": "markdown",
     "metadata": {},
     "source": [
      "De la misma manera nos piden aproximar la soluci\u00f3n a un sistema similar, con ecuaci\u00f3n\n",
      "\n",
      "$\\ddot{x} = -x + \\cos(2t)$\n",
      "\n",
      "Tomando en cuenta las condiciones iniciales $x(0.0) = 0.0$, $\\dot{x}(0.0) = 0.0$,  $dt = 0.01$ y $x(1.0)$ como nuestra incognita. Reacomodando las variables para tener EDO's de primer orden, tendremos:\n",
      "\n",
      "$\\dot{x} = v$\n",
      "\n",
      "$\\dot{v} = -x + \\cos(2t)$\n",
      "\n",
      "Y realizamos el calculo de manera analoga:"
     ]
    },
    {
     "cell_type": "code",
     "collapsed": false,
     "input": [
      "# Se establecen las condiciones iniciales y finales del tiempo\n",
      "t0 = 0.0\n",
      "tf = 1.0\n",
      "dt = 0.01\n",
      "# Se establecen las condiciones iniciales del sistema\n",
      "x0 = 0\n",
      "v0 = 0\n",
      "# Se crean los arreglos para el tiempo y los estados del sistema\n",
      "t = arange(t0, tf + dt, dt)\n",
      "X = zeros(len(t))\n",
      "V = zeros(len(t))\n",
      "X[0] = x0\n",
      "V[0] = v0\n",
      "# Se calculan los estados del sistema en cada momento\n",
      "for i in range(len(t)-1):\n",
      "    x = X[i]\n",
      "    v = V[i]\n",
      "    X[i+1] = X[i] + dt*v\n",
      "    V[i+1] = V[i] + dt*(-x + cos(2*t[i]))\n",
      "    \n",
      "# Se imprime el estado del sistema calculado\n",
      "plot(t, X, label=\"x\")\n",
      "plot(t, V, label=\"v\")\n",
      "legend()\n",
      "\n",
      "print X[-1], V[-1]"
     ],
     "language": "python",
     "metadata": {},
     "outputs": [
      {
       "output_type": "stream",
       "stream": "stdout",
       "text": [
        "0.320914442421 0.334955643943\n"
       ]
      },
      {
       "metadata": {},
       "output_type": "display_data",
       "png": "[encoded data removed]",
       "text": [
        "<matplotlib.figure.Figure at 0x111117350>"
       ]
      }
     ],
     "prompt_number": 15
    },
    {
     "cell_type": "markdown",
     "metadata": {},
     "source": [
      "Despues nos piden que apliquemos superposici\u00f3n para encontrar la solucion a la EDO, $\\ddot{x} = -x + \\sin{(t)} + 3 \\cos{(2t)}$, por lo que tenemos que sumar las soluciones de las anteriores de la siguiente manera:\n",
      "\n",
      "$\\ddot{x} = (-x + \\sin{(t)}) + 3 (-x + \\cos{(2t)}) + 3 x$\n",
      "\n",
      "Sin embargo, notamos que la soluci\u00f3n para un sistema como el del ultimo termino, con las condiciones iniciales dadas, sera siempre $0$, por lo que podemos simplemente sumar la primera solucion al triple de la segunda."
     ]
    },
    {
     "cell_type": "code",
     "collapsed": false,
     "input": [
      "0.146756029254 + 3*0.320914442421"
     ],
     "language": "python",
     "metadata": {},
     "outputs": [
      {
       "metadata": {},
       "output_type": "pyout",
       "prompt_number": 16,
       "text": [
        "1.109499356517"
       ]
      }
     ],
     "prompt_number": 16
    },
    {
     "cell_type": "markdown",
     "metadata": {},
     "source": [
      "Si usamos la integraci\u00f3n de Euler para asegurarnos de ello, se ver\u00e1 asi:"
     ]
    },
    {
     "cell_type": "code",
     "collapsed": false,
     "input": [
      "# Se establecen las condiciones iniciales y finales del tiempo\n",
      "t0 = 0.0\n",
      "tf = 1.0\n",
      "dt = 0.01\n",
      "# Se establecen las condiciones iniciales del sistema\n",
      "x0 = 0\n",
      "v0 = 0\n",
      "# Se crean los arreglos para el tiempo y los estados del sistema\n",
      "t = arange(t0, tf + dt, dt)\n",
      "X = zeros(len(t))\n",
      "V = zeros(len(t))\n",
      "X[0] = x0\n",
      "V[0] = v0\n",
      "# Se calculan los estados del sistema en cada momento\n",
      "for i in range(len(t)-1):\n",
      "    x = X[i]\n",
      "    v = V[i]\n",
      "    X[i+1] = X[i] + dt*v\n",
      "    V[i+1] = V[i] + dt*(3*(-x + cos(2*t[i])) + (-x + sin(t[i])) + 3*x)\n",
      "    \n",
      "# Se imprime el estado del sistema calculado\n",
      "plot(t, X, label=\"x\")\n",
      "plot(t, V, label=\"v\")\n",
      "legend()\n",
      "\n",
      "print X[-1], V[-1]"
     ],
     "language": "python",
     "metadata": {},
     "outputs": [
      {
       "output_type": "stream",
       "stream": "stdout",
       "text": [
        "1.10949935652 1.42354124554\n"
       ]
      },
      {
       "metadata": {},
       "output_type": "display_data",
       "png": "[encoded data removed]",
       "text": [
        "<matplotlib.figure.Figure at 0x110f8add0>"
       ]
      }
     ],
     "prompt_number": 19
    },
    {
     "cell_type": "markdown",
     "metadata": {},
     "source": [
      "Ahora nos piden simular el sistema $\\ddot{x} = -x$ teniendo en cuenta las condiciones iniciales $x(0.0) = 1$, $\\dot{x}(0.0) = 0$ y $dt = 0.01$. Queremos aproximar $x(1.0)$"
     ]
    },
    {
     "cell_type": "code",
     "collapsed": false,
     "input": [
      "# Se establecen las condiciones iniciales y finales del tiempo\n",
      "t0 = 0.0\n",
      "tf = 1.0\n",
      "dt = 0.01\n",
      "# Se establecen las condiciones iniciales del sistema\n",
      "x0 = 1\n",
      "v0 = 0\n",
      "# Se crean los arreglos para el tiempo y los estados del sistema\n",
      "t = arange(t0, tf + dt, dt)\n",
      "X = zeros(len(t))\n",
      "V = zeros(len(t))\n",
      "X[0] = x0\n",
      "V[0] = v0\n",
      "# Se calculan los estados del sistema en cada momento\n",
      "for i in range(len(t)-1):\n",
      "    x = X[i]\n",
      "    v = V[i]\n",
      "    X[i+1] = X[i] + dt*v\n",
      "    V[i+1] = V[i] - dt*x\n",
      "    \n",
      "# Se imprime el estado del sistema calculado\n",
      "plot(t, X, label=\"x\")\n",
      "plot(t, V, label=\"v\")\n",
      "legend()\n",
      "\n",
      "print X[-1], V[-1]"
     ],
     "language": "python",
     "metadata": {},
     "outputs": [
      {
       "output_type": "stream",
       "stream": "stdout",
       "text": [
        "0.543038634332 -0.845670564532\n"
       ]
      },
      {
       "metadata": {},
       "output_type": "display_data",
       "png": "[encoded data removed]",
       "text": [
        "<matplotlib.figure.Figure at 0x111110c10>"
       ]
      }
     ],
     "prompt_number": 23
    },
    {
     "cell_type": "code",
     "collapsed": false,
     "input": [
      "# Se establecen las condiciones iniciales y finales del tiempo\n",
      "t0 = 0.0\n",
      "tf = 1.0\n",
      "dt = 0.01\n",
      "# Se establecen las condiciones iniciales del sistema\n",
      "x0 = 1\n",
      "v0 = 0\n",
      "# Se crean los arreglos para el tiempo y los estados del sistema\n",
      "t = arange(t0, tf + dt, dt)\n",
      "X = zeros(len(t))\n",
      "V = zeros(len(t))\n",
      "X[0] = x0\n",
      "V[0] = v0\n",
      "# Se calculan los estados del sistema en cada momento\n",
      "for i in range(len(t)-1):\n",
      "    x = X[i]\n",
      "    v = V[i]\n",
      "    X[i+1] = X[i] + dt*v\n",
      "    V[i+1] = V[i] + dt*(-x + sin(t[i]) + 3* cos(2*t[i]))\n",
      "    \n",
      "# Se imprime el estado del sistema calculado\n",
      "plot(t, X, label=\"x\")\n",
      "plot(t, V, label=\"v\")\n",
      "legend()\n",
      "\n",
      "print X[-1], V[-1]"
     ],
     "language": "python",
     "metadata": {},
     "outputs": [
      {
       "output_type": "stream",
       "stream": "stdout",
       "text": [
        "1.65253799085 0.577870681008\n"
       ]
      },
      {
       "metadata": {},
       "output_type": "display_data",
       "png": "[encoded data removed]",
       "text": [
        "<matplotlib.figure.Figure at 0x111115ad0>"
       ]
      }
     ],
     "prompt_number": 24
    },
    {
     "cell_type": "code",
     "collapsed": false,
     "input": [],
     "language": "python",
     "metadata": {},
     "outputs": []
    }
   ],
   "metadata": {}
  }
 ]
}