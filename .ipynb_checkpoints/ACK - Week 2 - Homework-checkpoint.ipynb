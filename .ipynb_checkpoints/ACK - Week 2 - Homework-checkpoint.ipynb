{
 "metadata": {
  "name": ""
 },
 "nbformat": 3,
 "nbformat_minor": 0,
 "worksheets": [
  {
   "cells": [
    {
     "cell_type": "markdown",
     "metadata": {},
     "source": [
      "Para la segunda semana de la clase de Analisis Complejo nos piden evaluar ciertas funciones con dominio complejo. Primero importamos el modulo de evaluacion simbolica y la herramienta para desplegar en $\\LaTeX$."
     ]
    },
    {
     "cell_type": "code",
     "collapsed": false,
     "input": [
      "from IPython.display import display\n",
      "\n",
      "from sympy.interactive import printing\n",
      "printing.init_printing()\n",
      "\n",
      "from sympy import var, I, expand, simplify"
     ],
     "language": "python",
     "metadata": {},
     "outputs": [],
     "prompt_number": 23
    },
    {
     "cell_type": "code",
     "collapsed": false,
     "input": [
      "var(\"x,y\")"
     ],
     "language": "python",
     "metadata": {},
     "outputs": [
      {
       "latex": [
        "$$\\begin{pmatrix}x, & y\\end{pmatrix}$$"
       ],
       "metadata": {},
       "output_type": "pyout",
       "png": "[encoded data removed]",
       "prompt_number": 12,
       "text": [
        "(x, y)"
       ]
      }
     ],
     "prompt_number": 12
    },
    {
     "cell_type": "code",
     "collapsed": false,
     "input": [
      "def f(z):\n",
      "    return z**2 + 1\n",
      "\n",
      "def g(z):\n",
      "    return z**3"
     ],
     "language": "python",
     "metadata": {},
     "outputs": [],
     "prompt_number": 4
    },
    {
     "cell_type": "code",
     "collapsed": false,
     "input": [
      "g(g(g(g(g(g(g(g(g(g(x))))))))))"
     ],
     "language": "python",
     "metadata": {},
     "outputs": [
      {
       "latex": [
        "$$x^{59049}$$"
       ],
       "metadata": {},
       "output_type": "pyout",
       "png": "[encoded data removed]",
       "prompt_number": 17,
       "text": [
        " 59049\n",
        "x     "
       ]
      }
     ],
     "prompt_number": 17
    },
    {
     "cell_type": "code",
     "collapsed": false,
     "input": [
      "g(g(g(I)))"
     ],
     "language": "python",
     "metadata": {},
     "outputs": [
      {
       "latex": [
        "$$- i$$"
       ],
       "metadata": {},
       "output_type": "pyout",
       "png": "[encoded data removed]",
       "prompt_number": 16,
       "text": [
        "-\u2148"
       ]
      }
     ],
     "prompt_number": 16
    },
    {
     "cell_type": "code",
     "collapsed": false,
     "input": [
      "f(f(f(f(0))))"
     ],
     "language": "python",
     "metadata": {},
     "outputs": [
      {
       "latex": [
        "$$26$$"
       ],
       "metadata": {},
       "output_type": "pyout",
       "png": "[encoded data removed]",
       "prompt_number": 19,
       "text": [
        "26"
       ]
      }
     ],
     "prompt_number": 19
    },
    {
     "cell_type": "markdown",
     "metadata": {},
     "source": [
      "La siguiente pregunta involucra la composici\u00f3n de funciones para hacer una transformaci\u00f3n lineal, en donde $p(z) = z^2+6z+1$ y $\\varphi(z) = z+3$. Entonces definimos a $f = \\varphi \\circ p \\circ \\varphi^{-1}$"
     ]
    },
    {
     "cell_type": "code",
     "collapsed": false,
     "input": [
      "def p(z):\n",
      "    return z**2 + 6*z + 1\n",
      "\n",
      "def phi(z):\n",
      "    return z + 3\n",
      "\n",
      "def phiinv(z):\n",
      "    return z - 3"
     ],
     "language": "python",
     "metadata": {},
     "outputs": [],
     "prompt_number": 20
    },
    {
     "cell_type": "markdown",
     "metadata": {},
     "source": [
      "As\u00ed pues, podemos obtener la funcion $f$ componiendo $\\varphi \\circ p \\circ \\varphi^{-1}$."
     ]
    },
    {
     "cell_type": "code",
     "collapsed": false,
     "input": [
      "simplify(expand(phi(p(phiinv(x)))))\n"
     ],
     "language": "python",
     "metadata": {},
     "outputs": [
      {
       "latex": [
        "$$x^{2} - 5$$"
       ],
       "metadata": {},
       "output_type": "pyout",
       "png": "[encoded data removed]",
       "prompt_number": 24,
       "text": [
        " 2    \n",
        "x  - 5"
       ]
      }
     ],
     "prompt_number": 24
    },
    {
     "cell_type": "markdown",
     "metadata": {},
     "source": [
      "De las misma manera, podemos obtener la funci\u00f3n $p$ a traves de la transformaci\u00f3n lineal inversa $p = \\varphi^{-1} \\circ f \\circ \\varphi$, y $p^2 = \\varphi^{-1} \\circ f^2 \\circ \\varphi = \\varphi^{-1} \\circ f \\circ f \\circ \\varphi$."
     ]
    },
    {
     "cell_type": "code",
     "collapsed": false,
     "input": [
      "def f(z):\n",
      "    return z**2 - 5\n",
      "\n",
      "simplify(expand(phiinv(f(f(phi(x))))))"
     ],
     "language": "python",
     "metadata": {},
     "outputs": [
      {
       "latex": [
        "$$x^{4} + 12 x^{3} + 44 x^{2} + 48 x + 8$$"
       ],
       "metadata": {},
       "output_type": "pyout",
       "png": "[encoded data removed]",
       "prompt_number": 26,
       "text": [
        " 4       3       2           \n",
        "x  + 12\u22c5x  + 44\u22c5x  + 48\u22c5x + 8"
       ]
      }
     ],
     "prompt_number": 26
    },
    {
     "cell_type": "markdown",
     "metadata": {},
     "source": [
      "Si evaluamos el numero $z_1 = -3 + 2 i$:"
     ]
    },
    {
     "cell_type": "code",
     "collapsed": false,
     "input": [
      "z1 = -3 + 2*I\n",
      "phiinv(f(f(phi(z1))))"
     ],
     "language": "python",
     "metadata": {},
     "outputs": [
      {
       "latex": [
        "$$73$$"
       ],
       "metadata": {},
       "output_type": "pyout",
       "png": "[encoded data removed]",
       "prompt_number": 27,
       "text": [
        "73"
       ]
      }
     ],
     "prompt_number": 27
    },
    {
     "cell_type": "code",
     "collapsed": false,
     "input": [],
     "language": "python",
     "metadata": {},
     "outputs": []
    }
   ],
   "metadata": {}
  }
 ]
}