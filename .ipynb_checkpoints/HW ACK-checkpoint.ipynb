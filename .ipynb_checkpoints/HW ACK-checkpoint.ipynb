{
 "metadata": {
  "name": ""
 },
 "nbformat": 3,
 "nbformat_minor": 0,
 "worksheets": [
  {
   "cells": [
    {
     "cell_type": "heading",
     "level": 1,
     "metadata": {},
     "source": [
      "Problem 1 a"
     ]
    },
    {
     "cell_type": "markdown",
     "metadata": {},
     "source": [
      "$\\{z\\in\\mathbb{C}\\mid |z-3-2i|\\leq 1\\}$\n",
      "\n",
      "If we define $z = x + y i$ then we would have:\n",
      "\n",
      "$|x + y i - 3 - 2 i| \\leq 1$\n",
      "\n",
      "$|(x-3) + (y - 2) i| \\leq 1$\n",
      "\n",
      "$\\sqrt{(x - 3)^2 + (y - 2)^2} \\leq 1$\n",
      "\n",
      "$(x-3)^2 + (y-2)^2 \\leq 1$\n",
      "\n",
      "So, in this example, we have a disk and its boundary in the definition of the set. The disk has center $(3, 2)$ and radius $1$."
     ]
    },
    {
     "cell_type": "code",
     "collapsed": false,
     "input": [
      "cir = Circle((3,2), 1, fc=\"b\", ec=\"b\")\n",
      "fig = gcf()\n",
      "fig.gca().add_artist(cir)\n",
      "ax = gca()\n",
      "ax.annotate(\"The disk\", (3,2), (4,3), arrowprops=dict(arrowstyle=\"fancy\", connectionstyle=\"arc3\", fc=\"cyan\", ec=\"cyan\"))\n",
      "ax.annotate(\"The boundary\", (3,3), (4,3.5), arrowprops=dict(arrowstyle=\"fancy\", connectionstyle=\"arc3\", fc=\"cyan\", ec=\"cyan\"))\n",
      "ax.annotate(\"This set includes the disk and the boundary\", (0.5,0.5))\n",
      "ax.set_xlim((0,6))\n",
      "ax.set_ylim((0,4))\n",
      "xlabel(\"Real axis\")\n",
      "ylabel(\"Imaginary axis\")\n",
      "grid(True)"
     ],
     "language": "python",
     "metadata": {},
     "outputs": [
      {
       "metadata": {},
       "output_type": "display_data",
       "png": "[encoded data removed]",
       "text": [
        "<matplotlib.figure.Figure at 0x110982950>"
       ]
      }
     ],
     "prompt_number": 2
    },
    {
     "cell_type": "heading",
     "level": 1,
     "metadata": {},
     "source": [
      "Problem 1 b"
     ]
    },
    {
     "cell_type": "markdown",
     "metadata": {},
     "source": [
      "$\\{z\\in\\mathbb{C}\\mid \\textrm{Im } z = 2\\}$\n",
      "\n",
      "If we define $z = x + y i$ then we would have:\n",
      "\n",
      "$z = x + 2 i$\n",
      "\n",
      "Where $x$ can have any value we want, and the imaginary part of $z$ is $2$ always. This describes a horizontal line."
     ]
    },
    {
     "cell_type": "heading",
     "level": 1,
     "metadata": {},
     "source": [
      "Problem 1 c"
     ]
    },
    {
     "cell_type": "markdown",
     "metadata": {},
     "source": [
      "$\\{z\\in\\mathbb{C}\\setminus\\{0\\}\\mid 0\\lt \\textrm{arg } z\\lt \\pi/6\\}$"
     ]
    },
    {
     "cell_type": "heading",
     "level": 1,
     "metadata": {},
     "source": [
      "Problem 1 d"
     ]
    },
    {
     "cell_type": "markdown",
     "metadata": {},
     "source": [
      "$\\{z\\in\\mathbb{C}\\mid |z-1|\\lt|z|\\}$"
     ]
    },
    {
     "cell_type": "heading",
     "level": 1,
     "metadata": {},
     "source": [
      "Problem 2"
     ]
    },
    {
     "cell_type": "markdown",
     "metadata": {},
     "source": [
      "Please find and plot the 6th roots of unity."
     ]
    },
    {
     "cell_type": "code",
     "collapsed": false,
     "input": [],
     "language": "python",
     "metadata": {},
     "outputs": []
    }
   ],
   "metadata": {}
  }
 ]
}