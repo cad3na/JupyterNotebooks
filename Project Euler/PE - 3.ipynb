{
 "metadata": {
  "name": ""
 },
 "nbformat": 3,
 "nbformat_minor": 0,
 "worksheets": [
  {
   "cells": [
    {
     "cell_type": "code",
     "collapsed": false,
     "input": [
      "number = 600851475143"
     ],
     "language": "python",
     "metadata": {},
     "outputs": [],
     "prompt_number": 1
    },
    {
     "cell_type": "code",
     "collapsed": false,
     "input": [
      "def is_prime(n, primes):\n",
      "    \"\"\"\n",
      "    Returns True if the number given is a prime and False if it's even.\n",
      "    Also takes a list of previously calculated primes.\n",
      "    \"\"\"\n",
      "    for i in primes:\n",
      "        if n % i == 0:\n",
      "            return False\n",
      "    return True"
     ],
     "language": "python",
     "metadata": {},
     "outputs": [],
     "prompt_number": 2
    },
    {
     "cell_type": "code",
     "collapsed": false,
     "input": [
      "def lowest_prime(n):\n",
      "    \"\"\"\n",
      "    Returns the lowest prime of the given number.\n",
      "    \"\"\"\n",
      "    top = int(sqrt(n))\n",
      "    primes = []\n",
      "    for i in range(2, top + 1):\n",
      "        if is_prime(i, primes):\n",
      "            primes.append(i)\n",
      "            if n % i == 0:\n",
      "                return i\n",
      "    return n"
     ],
     "language": "python",
     "metadata": {},
     "outputs": [],
     "prompt_number": 3
    },
    {
     "cell_type": "code",
     "collapsed": false,
     "input": [
      "def highest_prime(n):\n",
      "    \"\"\"\n",
      "    Returns the highest prime of the given number.\n",
      "    \"\"\"\n",
      "    low = lowest_prime(n)\n",
      "    high = n / low\n",
      "    if low < high:\n",
      "        return highest_prime(high)\n",
      "    else:\n",
      "        return low"
     ],
     "language": "python",
     "metadata": {},
     "outputs": [],
     "prompt_number": 4
    },
    {
     "cell_type": "code",
     "collapsed": false,
     "input": [
      "lowest_prime(number)"
     ],
     "language": "python",
     "metadata": {},
     "outputs": [
      {
       "metadata": {},
       "output_type": "pyout",
       "prompt_number": 5,
       "text": [
        "71"
       ]
      }
     ],
     "prompt_number": 5
    },
    {
     "cell_type": "code",
     "collapsed": false,
     "input": [
      "highest_prime(number)"
     ],
     "language": "python",
     "metadata": {},
     "outputs": [
      {
       "metadata": {},
       "output_type": "pyout",
       "prompt_number": 6,
       "text": [
        "6857"
       ]
      }
     ],
     "prompt_number": 6
    }
   ],
   "metadata": {}
  }
 ]
}