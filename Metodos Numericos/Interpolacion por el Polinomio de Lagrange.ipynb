{
 "metadata": {
  "name": "",
  "signature": "sha256:1077c609ba9ebb1bc996a22f5702492db71596a27020e33cfb9853abf4bbf25f"
 },
 "nbformat": 3,
 "nbformat_minor": 0,
 "worksheets": [
  {
   "cells": [
    {
     "cell_type": "code",
     "collapsed": false,
     "input": [
      "from IPython.display import display\n",
      "\n",
      "from sympy.interactive import printing\n",
      "printing.init_printing()\n",
      "\n",
      "from sympy import var, simplify"
     ],
     "language": "python",
     "metadata": {},
     "outputs": [],
     "prompt_number": 6
    },
    {
     "cell_type": "code",
     "collapsed": false,
     "input": [
      "def funcmul(funcs):\n",
      "    if len(funcs) > 1:\n",
      "        return lambda x: funcs[0](x)*funcmul(funcs[1:])(x)\n",
      "    else:\n",
      "        return funcs[0]\n",
      "    \n",
      "def funcsum(funcs):\n",
      "    if len(funcs) > 1:\n",
      "        return lambda x: funcs[0](x) + funcsum(funcs[1:])(x)\n",
      "    else:\n",
      "        return funcs[0]\n",
      "            \n",
      "def lagrange(xs, i):\n",
      "    L = [(lambda xi, xj: (lambda x: (x - xj)/(xi - xj)))(xs[i], xj) for j, xj in enumerate(xs) if j != i]\n",
      "    return funcmul(L)\n",
      "\n",
      "def interpolacionLagrange(xs, ys):\n",
      "    LY = [(lambda y, i: (lambda x: lagrange(xs, i)(x)*y))(y, i) for i, y in enumerate(ys)]\n",
      "    return funcsum(LY)"
     ],
     "language": "python",
     "metadata": {},
     "outputs": [],
     "prompt_number": 1
    },
    {
     "cell_type": "markdown",
     "metadata": {},
     "source": [
      "Se tienen los siguientes puntos:\n",
      "$$p_1 = (1,2)$$\n",
      "$$p_2 = (3,5)$$\n",
      "$$p_3 = (2,8)$$\n",
      "$$p_4 = (6,2)$$\n",
      "$$p_5 = (7,1)$$"
     ]
    },
    {
     "cell_type": "code",
     "collapsed": false,
     "input": [
      "xs = [1, 3, 2, 6, 7, 5, 8]\n",
      "ys = [2, 5, 8, 2, 1, 10, 0]\n",
      "\n",
      "f = interpolacionLagrange(xs, ys)\n",
      "\n",
      "x = linspace(0, 10, 100)\n",
      "y = f(x)\n",
      "\n",
      "plot(xs, ys, \"o\")\n",
      "plot(x, y)\n",
      "var(\"x\")\n",
      "simplify(f(x))"
     ],
     "language": "python",
     "metadata": {},
     "outputs": [
      {
       "latex": [
        "$$- \\frac{2 x^{6}}{35} + \\frac{11 x^{5}}{7} - \\frac{7097 x^{4}}{420} + \\frac{3141 x^{3}}{35} - \\frac{102793 x^{2}}{420} + \\frac{22427 x}{70} - 148$$"
       ],
       "metadata": {},
       "output_type": "pyout",
       "png": "[encoded data removed]",
       "prompt_number": 7,
       "text": [
        "     6       5         4         3           2                \n",
        "  2\u22c5x    11\u22c5x    7097\u22c5x    3141\u22c5x    102793\u22c5x    22427\u22c5x      \n",
        "- \u2500\u2500\u2500\u2500 + \u2500\u2500\u2500\u2500\u2500 - \u2500\u2500\u2500\u2500\u2500\u2500\u2500 + \u2500\u2500\u2500\u2500\u2500\u2500\u2500 - \u2500\u2500\u2500\u2500\u2500\u2500\u2500\u2500\u2500 + \u2500\u2500\u2500\u2500\u2500\u2500\u2500 - 148\n",
        "   35      7       420        35        420         70        "
       ]
      },
      {
       "metadata": {},
       "output_type": "display_data",
       "png": "[encoded data removed]",
       "text": [
        "<matplotlib.figure.Figure at 0x105dae910>"
       ]
      }
     ],
     "prompt_number": 7
    },
    {
     "cell_type": "code",
     "collapsed": false,
     "input": [],
     "language": "python",
     "metadata": {},
     "outputs": []
    }
   ],
   "metadata": {}
  }
 ]
}