{
 "cells": [
  {
   "cell_type": "markdown",
   "metadata": {},
   "source": [
    "![](./dis-IRB-140.jpg)"
   ]
  },
  {
   "cell_type": "code",
   "execution_count": 1,
   "metadata": {},
   "outputs": [],
   "source": [
    "def dh(params):\n",
    "    from sympy import sin, cos, Matrix\n",
    "    a, d, α, θ = params\n",
    "    A = Matrix([[cos(θ), -sin(θ)*cos(α), sin(θ)*sin(α), a*cos(θ)],\n",
    "                [sin(θ), cos(θ)*cos(α), -cos(θ)*sin(α), a*sin(θ)],\n",
    "                [0, sin(α), cos(α), d],\n",
    "                [0, 0, 0, 1]])\n",
    "    return A"
   ]
  },
  {
   "cell_type": "code",
   "execution_count": 94,
   "metadata": {},
   "outputs": [],
   "source": [
    "l1 = 70\n",
    "l2 = 352\n",
    "l3 = 712 - 352\n",
    "l4 = 380\n",
    "l5 = 65"
   ]
  },
  {
   "cell_type": "code",
   "execution_count": 33,
   "metadata": {},
   "outputs": [],
   "source": [
    "from sympy import var, Rational, trigsimp, sin, cos, pi\n",
    "from sympy.physics.mechanics import mechanics_printing\n",
    "mechanics_printing()"
   ]
  },
  {
   "cell_type": "code",
   "execution_count": 5,
   "metadata": {},
   "outputs": [
    {
     "data": {
      "image/png": "[encoded data removed]",
      "text/latex": [
       "$\\displaystyle \\left( l_{1}, \\  l_{2}, \\  l_{3}, \\  l_{4}, \\  l_{5}\\right)$"
      ],
      "text/plain": [
       "(l₁, l₂, l₃, l₄, l₅)"
      ]
     },
     "execution_count": 5,
     "metadata": {},
     "output_type": "execute_result"
    }
   ],
   "source": [
    "var(\"l1:6\")"
   ]
  },
  {
   "cell_type": "code",
   "execution_count": 35,
   "metadata": {},
   "outputs": [
    {
     "data": {
      "image/png": "[encoded data removed]",
      "text/latex": [
       "$\\displaystyle \\left( q_{1}, \\  q_{2}, \\  q_{3}, \\  q_{4}, \\  q_{5}, \\  q_{6}\\right)$"
      ],
      "text/plain": [
       "(q₁, q₂, q₃, q₄, q₅, q₆)"
      ]
     },
     "execution_count": 35,
     "metadata": {},
     "output_type": "execute_result"
    }
   ],
   "source": [
    "var(\"q1:7\")"
   ]
  },
  {
   "cell_type": "code",
   "execution_count": 62,
   "metadata": {},
   "outputs": [],
   "source": [
    "params = [[l1, l2, pi/2, q1],\n",
    "          [l3, 0, 0, -q2+pi/2],\n",
    "          [l4, 0, pi/2, -q3],\n",
    "          [0, 0, -pi/2, q4],\n",
    "          [0, 0, pi/2, -q5],\n",
    "          [0, l5, 0, q6]]"
   ]
  },
  {
   "cell_type": "code",
   "execution_count": 63,
   "metadata": {},
   "outputs": [],
   "source": [
    "trans = [dh(param).applyfunc(trigsimp) for param in params]"
   ]
  },
  {
   "cell_type": "code",
   "execution_count": 69,
   "metadata": {},
   "outputs": [
    {
     "data": {
      "image/png": "[encoded data removed]",
      "text/latex": [
       "$\\displaystyle \\left[\\begin{matrix}\\operatorname{cos}\\left(q_{4}\\right) & 0 & - \\operatorname{sin}\\left(q_{4}\\right) & 0\\\\\\operatorname{sin}\\left(q_{4}\\right) & 0 & \\operatorname{cos}\\left(q_{4}\\right) & 0\\\\0 & -1 & 0 & 0\\\\0 & 0 & 0 & 1\\end{matrix}\\right]$"
      ],
      "text/plain": [
       "⎡cos(q₄)  0   -sin(q₄)  0⎤\n",
       "⎢                        ⎥\n",
       "⎢sin(q₄)  0   cos(q₄)   0⎥\n",
       "⎢                        ⎥\n",
       "⎢   0     -1     0      0⎥\n",
       "⎢                        ⎥\n",
       "⎣   0     0      0      1⎦"
      ]
     },
     "execution_count": 69,
     "metadata": {},
     "output_type": "execute_result"
    }
   ],
   "source": [
    "trans[3]"
   ]
  },
  {
   "cell_type": "code",
   "execution_count": 78,
   "metadata": {},
   "outputs": [],
   "source": [
    "H = trans[0]*trans[1]*trans[2]\n",
    "ME = trans[3]*trans[4]*trans[5]"
   ]
  },
  {
   "cell_type": "code",
   "execution_count": 79,
   "metadata": {},
   "outputs": [],
   "source": [
    "o = H.applyfunc(trigsimp)[:3, 3:4]\n",
    "R = H.applyfunc(trigsimp)[:3, :3]\n",
    "RME = ME.applyfunc(trigsimp)[:3, :3]"
   ]
  },
  {
   "cell_type": "code",
   "execution_count": 80,
   "metadata": {},
   "outputs": [
    {
     "data": {
      "image/png": "[encoded data removed]",
      "text/latex": [
       "$\\displaystyle \\left[\\begin{matrix}\\left(l_{1} + l_{3} \\operatorname{sin}\\left(q_{2}\\right) + l_{4} \\operatorname{sin}\\left(q_{2} + q_{3}\\right)\\right) \\operatorname{cos}\\left(q_{1}\\right)\\\\\\left(l_{1} + l_{3} \\operatorname{sin}\\left(q_{2}\\right) + l_{4} \\operatorname{sin}\\left(q_{2} + q_{3}\\right)\\right) \\operatorname{sin}\\left(q_{1}\\right)\\\\l_{2} + l_{3} \\operatorname{cos}\\left(q_{2}\\right) + l_{4} \\operatorname{cos}\\left(q_{2} + q_{3}\\right)\\end{matrix}\\right]$"
      ],
      "text/plain": [
       "⎡(l₁ + l₃⋅sin(q₂) + l₄⋅sin(q₂ + q₃))⋅cos(q₁)⎤\n",
       "⎢                                           ⎥\n",
       "⎢(l₁ + l₃⋅sin(q₂) + l₄⋅sin(q₂ + q₃))⋅sin(q₁)⎥\n",
       "⎢                                           ⎥\n",
       "⎣     l₂ + l₃⋅cos(q₂) + l₄⋅cos(q₂ + q₃)     ⎦"
      ]
     },
     "execution_count": 80,
     "metadata": {},
     "output_type": "execute_result"
    }
   ],
   "source": [
    "o"
   ]
  },
  {
   "cell_type": "code",
   "execution_count": 81,
   "metadata": {},
   "outputs": [
    {
     "data": {
      "image/png": "[encoded data removed]",
      "text/latex": [
       "$\\displaystyle \\left[\\begin{matrix}\\operatorname{sin}\\left(q_{2} + q_{3}\\right) \\operatorname{cos}\\left(q_{1}\\right) & \\operatorname{sin}\\left(q_{1}\\right) & \\operatorname{cos}\\left(q_{1}\\right) \\operatorname{cos}\\left(q_{2} + q_{3}\\right)\\\\\\operatorname{sin}\\left(q_{1}\\right) \\operatorname{sin}\\left(q_{2} + q_{3}\\right) & - \\operatorname{cos}\\left(q_{1}\\right) & \\operatorname{sin}\\left(q_{1}\\right) \\operatorname{cos}\\left(q_{2} + q_{3}\\right)\\\\\\operatorname{cos}\\left(q_{2} + q_{3}\\right) & 0 & - \\operatorname{sin}\\left(q_{2} + q_{3}\\right)\\end{matrix}\\right]$"
      ],
      "text/plain": [
       "⎡sin(q₂ + q₃)⋅cos(q₁)  sin(q₁)   cos(q₁)⋅cos(q₂ + q₃)⎤\n",
       "⎢                                                    ⎥\n",
       "⎢sin(q₁)⋅sin(q₂ + q₃)  -cos(q₁)  sin(q₁)⋅cos(q₂ + q₃)⎥\n",
       "⎢                                                    ⎥\n",
       "⎣    cos(q₂ + q₃)         0         -sin(q₂ + q₃)    ⎦"
      ]
     },
     "execution_count": 81,
     "metadata": {},
     "output_type": "execute_result"
    }
   ],
   "source": [
    "R"
   ]
  },
  {
   "cell_type": "code",
   "execution_count": 82,
   "metadata": {},
   "outputs": [
    {
     "data": {
      "image/png": "[encoded data removed]",
      "text/latex": [
       "$\\displaystyle \\left[\\begin{matrix}- \\operatorname{sin}\\left(q_{4}\\right) \\operatorname{sin}\\left(q_{6}\\right) + \\operatorname{cos}\\left(q_{4}\\right) \\operatorname{cos}\\left(q_{5}\\right) \\operatorname{cos}\\left(q_{6}\\right) & - \\operatorname{sin}\\left(q_{4}\\right) \\operatorname{cos}\\left(q_{6}\\right) - \\operatorname{sin}\\left(q_{6}\\right) \\operatorname{cos}\\left(q_{4}\\right) \\operatorname{cos}\\left(q_{5}\\right) & - \\operatorname{sin}\\left(q_{5}\\right) \\operatorname{cos}\\left(q_{4}\\right)\\\\\\operatorname{sin}\\left(q_{4}\\right) \\operatorname{cos}\\left(q_{5}\\right) \\operatorname{cos}\\left(q_{6}\\right) + \\operatorname{sin}\\left(q_{6}\\right) \\operatorname{cos}\\left(q_{4}\\right) & - \\operatorname{sin}\\left(q_{4}\\right) \\operatorname{sin}\\left(q_{6}\\right) \\operatorname{cos}\\left(q_{5}\\right) + \\operatorname{cos}\\left(q_{4}\\right) \\operatorname{cos}\\left(q_{6}\\right) & - \\operatorname{sin}\\left(q_{4}\\right) \\operatorname{sin}\\left(q_{5}\\right)\\\\\\operatorname{sin}\\left(q_{5}\\right) \\operatorname{cos}\\left(q_{6}\\right) & - \\operatorname{sin}\\left(q_{5}\\right) \\operatorname{sin}\\left(q_{6}\\right) & \\operatorname{cos}\\left(q_{5}\\right)\\end{matrix}\\right]$"
      ],
      "text/plain": [
       "⎡-sin(q₄)⋅sin(q₆) + cos(q₄)⋅cos(q₅)⋅cos(q₆)  -sin(q₄)⋅cos(q₆) - sin(q₆)⋅cos(q₄\n",
       "⎢                                                                             \n",
       "⎢sin(q₄)⋅cos(q₅)⋅cos(q₆) + sin(q₆)⋅cos(q₄)   -sin(q₄)⋅sin(q₆)⋅cos(q₅) + cos(q₄\n",
       "⎢                                                                             \n",
       "⎣             sin(q₅)⋅cos(q₆)                             -sin(q₅)⋅sin(q₆)    \n",
       "\n",
       ")⋅cos(q₅)  -sin(q₅)⋅cos(q₄)⎤\n",
       "                           ⎥\n",
       ")⋅cos(q₆)  -sin(q₄)⋅sin(q₅)⎥\n",
       "                           ⎥\n",
       "               cos(q₅)     ⎦"
      ]
     },
     "execution_count": 82,
     "metadata": {},
     "output_type": "execute_result"
    }
   ],
   "source": [
    "RME"
   ]
  },
  {
   "cell_type": "markdown",
   "metadata": {},
   "source": [
    "$$\n",
    "q_1 = \\tan{\\frac{y_f}{x_f}}\n",
    "$$"
   ]
  },
  {
   "cell_type": "markdown",
   "metadata": {},
   "source": [
    "$$\n",
    "q_2 = 90^o - \\tan^{-1}{\\left( \\frac{y_f}{x_f} \\right)} - \\cos^{-1}{\\left( \\frac{\\left( \\sqrt{x_f^2+y_f^2} - l_1 \\right)^2 + \\left( z_f - l_1 \\right)^2 + l_3^2 - l_4^2}{2 l_3 \\sqrt{\\left( \\sqrt{x_f^2+y_f^2} - l_1 \\right)^2 + \\left( z_f - l_1 \\right)^2}} \\right)}\n",
    "$$"
   ]
  },
  {
   "cell_type": "markdown",
   "metadata": {},
   "source": [
    "$$\n",
    "q_3 = \\sin^{-1}{\\left( \\frac{l_3^2 + l_4^2 - \\left( \\sqrt{x_f^2+y_f^2} - l_1 \\right)^2 - \\left( z_f - l_1 \\right)^2}{2 l_3 l_4} \\right)}\n",
    "$$"
   ]
  },
  {
   "cell_type": "markdown",
   "metadata": {},
   "source": [
    "$$\n",
    "q_4\n",
    "$$"
   ]
  },
  {
   "cell_type": "markdown",
   "metadata": {},
   "source": [
    "$$\n",
    "q_5\n",
    "$$"
   ]
  },
  {
   "cell_type": "markdown",
   "metadata": {},
   "source": [
    "$$\n",
    "q_6\n",
    "$$"
   ]
  },
  {
   "cell_type": "code",
   "execution_count": null,
   "metadata": {},
   "outputs": [],
   "source": []
  },
  {
   "cell_type": "code",
   "execution_count": null,
   "metadata": {},
   "outputs": [],
   "source": []
  },
  {
   "cell_type": "code",
   "execution_count": null,
   "metadata": {},
   "outputs": [],
   "source": []
  },
  {
   "cell_type": "code",
   "execution_count": null,
   "metadata": {},
   "outputs": [],
   "source": []
  }
 ],
 "metadata": {
  "kernelspec": {
   "display_name": "Python 3",
   "language": "python",
   "name": "python3"
  },
  "language_info": {
   "codemirror_mode": {
    "name": "ipython",
    "version": 3
   },
   "file_extension": ".py",
   "mimetype": "text/x-python",
   "name": "python",
   "nbconvert_exporter": "python",
   "pygments_lexer": "ipython3",
   "version": "3.7.3"
  }
 },
 "nbformat": 4,
 "nbformat_minor": 4
}
