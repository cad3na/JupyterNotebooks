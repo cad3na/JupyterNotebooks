{
 "cells": [
  {
   "cell_type": "code",
   "execution_count": 17,
   "metadata": {},
   "outputs": [],
   "source": [
    "# Esta libreria tiene las funciones principales que utilizaremos\n",
    "from sympy import var, Matrix, Function, sin, cos, pi, trigsimp\n",
    "# Esta libreria contiene una funcion que la va a dar un formato \"bonito\" a nuestras ecuaciones\n",
    "from sympy.physics.mechanics import mechanics_printing\n",
    "mechanics_printing()\n",
    "τ = 2*pi"
   ]
  },
  {
   "cell_type": "code",
   "execution_count": 2,
   "metadata": {},
   "outputs": [],
   "source": [
    "def dh(a, d, α, θ):\n",
    "    A = Matrix([[cos(θ), -sin(θ)*cos(α), sin(θ)*sin(α), a*cos(θ)],\n",
    "                [sin(θ), cos(θ)*cos(α), -cos(θ)*sin(α), a*sin(θ)],\n",
    "                [0, sin(α), cos(α), d],\n",
    "                [0, 0, 0, 1]])\n",
    "    return A"
   ]
  },
  {
   "cell_type": "code",
   "execution_count": 5,
   "metadata": {},
   "outputs": [
    {
     "data": {
      "image/png": "[encoded data removed]",
      "text/latex": [
       "$$\\left ( t, \\quad q_{1}, \\quad q_{2}, \\quad q_{3}, \\quad q_{4}\\right )$$"
      ],
      "text/plain": [
       "(t, q₁, q₂, q₃, q₄)"
      ]
     },
     "execution_count": 5,
     "metadata": {},
     "output_type": "execute_result"
    }
   ],
   "source": [
    "var(\"t q1:5\")"
   ]
  },
  {
   "cell_type": "code",
   "execution_count": 6,
   "metadata": {},
   "outputs": [
    {
     "data": {
      "image/png": "[encoded data removed]",
      "text/latex": [
       "$$\\left ( l_{1}, \\quad l_{2}\\right )$$"
      ],
      "text/plain": [
       "(l₁, l₂)"
      ]
     },
     "execution_count": 6,
     "metadata": {},
     "output_type": "execute_result"
    }
   ],
   "source": [
    "var(\"l1:3\")"
   ]
  },
  {
   "cell_type": "code",
   "execution_count": 7,
   "metadata": {},
   "outputs": [
    {
     "data": {
      "image/png": "[encoded data removed]",
      "text/latex": [
       "$$a$$"
      ],
      "text/plain": [
       "a"
      ]
     },
     "execution_count": 7,
     "metadata": {},
     "output_type": "execute_result"
    }
   ],
   "source": [
    "var(\"a\")"
   ]
  },
  {
   "cell_type": "code",
   "execution_count": 20,
   "metadata": {},
   "outputs": [
    {
     "data": {
      "image/png": "[encoded data removed]",
      "text/latex": [
       "$$\\left[\\begin{matrix}1 & 0 & 0 & q_{1}\\\\0 & 1 & 0 & 0\\\\0 & 0 & 1 & 0\\\\0 & 0 & 0 & 1\\end{matrix}\\right]$$"
      ],
      "text/plain": [
       "⎡1  0  0  q₁⎤\n",
       "⎢           ⎥\n",
       "⎢0  1  0  0 ⎥\n",
       "⎢           ⎥\n",
       "⎢0  0  1  0 ⎥\n",
       "⎢           ⎥\n",
       "⎣0  0  0  1 ⎦"
      ]
     },
     "execution_count": 20,
     "metadata": {},
     "output_type": "execute_result"
    }
   ],
   "source": [
    "A1 = dh(q1, 0, 0, 0)\n",
    "A1"
   ]
  },
  {
   "cell_type": "code",
   "execution_count": 21,
   "metadata": {},
   "outputs": [
    {
     "data": {
      "image/png": "[encoded data removed]",
      "text/latex": [
       "$$\\left[\\begin{matrix}\\operatorname{cos}\\left(q_{2}\\right) & - \\operatorname{sin}\\left(q_{2}\\right) & 0 & l_{2} \\operatorname{cos}\\left(q_{2}\\right)\\\\\\operatorname{sin}\\left(q_{2}\\right) & \\operatorname{cos}\\left(q_{2}\\right) & 0 & l_{2} \\operatorname{sin}\\left(q_{2}\\right)\\\\0 & 0 & 1 & l_{1}\\\\0 & 0 & 0 & 1\\end{matrix}\\right]$$"
      ],
      "text/plain": [
       "⎡cos(q₂)  -sin(q₂)  0  l₂⋅cos(q₂)⎤\n",
       "⎢                                ⎥\n",
       "⎢sin(q₂)  cos(q₂)   0  l₂⋅sin(q₂)⎥\n",
       "⎢                                ⎥\n",
       "⎢   0        0      1      l₁    ⎥\n",
       "⎢                                ⎥\n",
       "⎣   0        0      0      1     ⎦"
      ]
     },
     "execution_count": 21,
     "metadata": {},
     "output_type": "execute_result"
    }
   ],
   "source": [
    "A2 = dh(l2, l1, 0, q2)\n",
    "A2"
   ]
  },
  {
   "cell_type": "code",
   "execution_count": 22,
   "metadata": {},
   "outputs": [
    {
     "data": {
      "image/png": "[encoded data removed]",
      "text/latex": [
       "$$\\left[\\begin{matrix}1 & 0 & 0 & 0\\\\0 & 1 & 0 & 0\\\\0 & 0 & 1 & - q_{3}\\\\0 & 0 & 0 & 1\\end{matrix}\\right]$$"
      ],
      "text/plain": [
       "⎡1  0  0   0 ⎤\n",
       "⎢            ⎥\n",
       "⎢0  1  0   0 ⎥\n",
       "⎢            ⎥\n",
       "⎢0  0  1  -q₃⎥\n",
       "⎢            ⎥\n",
       "⎣0  0  0   1 ⎦"
      ]
     },
     "execution_count": 22,
     "metadata": {},
     "output_type": "execute_result"
    }
   ],
   "source": [
    "A3 = dh(0, -q3, 0, 0)\n",
    "A3"
   ]
  },
  {
   "cell_type": "code",
   "execution_count": 23,
   "metadata": {},
   "outputs": [
    {
     "data": {
      "image/png": "[encoded data removed]",
      "text/latex": [
       "$$\\left[\\begin{matrix}\\operatorname{cos}\\left(q_{4}\\right) & - \\operatorname{sin}\\left(q_{4}\\right) & 0 & 0\\\\\\operatorname{sin}\\left(q_{4}\\right) & \\operatorname{cos}\\left(q_{4}\\right) & 0 & 0\\\\0 & 0 & 1 & - a\\\\0 & 0 & 0 & 1\\end{matrix}\\right]$$"
      ],
      "text/plain": [
       "⎡cos(q₄)  -sin(q₄)  0  0 ⎤\n",
       "⎢                        ⎥\n",
       "⎢sin(q₄)  cos(q₄)   0  0 ⎥\n",
       "⎢                        ⎥\n",
       "⎢   0        0      1  -a⎥\n",
       "⎢                        ⎥\n",
       "⎣   0        0      0  1 ⎦"
      ]
     },
     "execution_count": 23,
     "metadata": {},
     "output_type": "execute_result"
    }
   ],
   "source": [
    "A4 = dh(0, -a, 0, q4)\n",
    "A4"
   ]
  },
  {
   "cell_type": "code",
   "execution_count": 24,
   "metadata": {},
   "outputs": [],
   "source": [
    "H = A1*A2*A3*A4"
   ]
  },
  {
   "cell_type": "code",
   "execution_count": 25,
   "metadata": {},
   "outputs": [
    {
     "data": {
      "image/png": "[encoded data removed]",
      "text/latex": [
       "$$\\left[\\begin{matrix}\\operatorname{cos}\\left(q_{2} + q_{4}\\right) & - \\operatorname{sin}\\left(q_{2} + q_{4}\\right) & 0 & l_{2} \\operatorname{cos}\\left(q_{2}\\right) + q_{1}\\\\\\operatorname{sin}\\left(q_{2} + q_{4}\\right) & \\operatorname{cos}\\left(q_{2} + q_{4}\\right) & 0 & l_{2} \\operatorname{sin}\\left(q_{2}\\right)\\\\0 & 0 & 1 & - a + l_{1} - q_{3}\\\\0 & 0 & 0 & 1\\end{matrix}\\right]$$"
      ],
      "text/plain": [
       "⎡cos(q₂ + q₄)  -sin(q₂ + q₄)  0  l₂⋅cos(q₂) + q₁⎤\n",
       "⎢                                               ⎥\n",
       "⎢sin(q₂ + q₄)  cos(q₂ + q₄)   0    l₂⋅sin(q₂)   ⎥\n",
       "⎢                                               ⎥\n",
       "⎢     0              0        1   -a + l₁ - q₃  ⎥\n",
       "⎢                                               ⎥\n",
       "⎣     0              0        0         1       ⎦"
      ]
     },
     "execution_count": 25,
     "metadata": {},
     "output_type": "execute_result"
    }
   ],
   "source": [
    "trigsimp(H)"
   ]
  },
  {
   "cell_type": "code",
   "execution_count": null,
   "metadata": {},
   "outputs": [],
   "source": []
  }
 ],
 "metadata": {
  "kernelspec": {
   "display_name": "Python 3",
   "language": "python",
   "name": "python3"
  },
  "language_info": {
   "codemirror_mode": {
    "name": "ipython",
    "version": 3
   },
   "file_extension": ".py",
   "mimetype": "text/x-python",
   "name": "python",
   "nbconvert_exporter": "python",
   "pygments_lexer": "ipython3",
   "version": "3.6.5"
  }
 },
 "nbformat": 4,
 "nbformat_minor": 2
}
