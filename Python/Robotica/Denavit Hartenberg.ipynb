{
 "cells": [
  {
   "cell_type": "code",
   "execution_count": 1,
   "metadata": {
    "collapsed": true
   },
   "outputs": [],
   "source": [
    "# Esta libreria tiene las funciones principales que utilizaremos\n",
    "from sympy import var, Matrix, Function, sin, cos, pi\n",
    "# Esta libreria contiene una funcion que la va a dar un formato \"bonito\" a nuestras ecuaciones\n",
    "from sympy.physics.mechanics import mechanics_printing\n",
    "mechanics_printing()\n",
    "τ = 2*pi"
   ]
  },
  {
   "cell_type": "code",
   "execution_count": 2,
   "metadata": {
    "collapsed": true
   },
   "outputs": [],
   "source": [
    "def dh(a, d, α, θ):\n",
    "    A = Matrix([[cos(θ), -sin(θ)*cos(α), sin(θ)*sin(α), a*cos(θ)],\n",
    "                [sin(θ), cos(θ)*cos(α), -cos(θ)*sin(α), a*sin(θ)],\n",
    "                [0, sin(α), cos(α), d],\n",
    "                [0, 0, 0, 1]])\n",
    "    return A"
   ]
  },
  {
   "cell_type": "code",
   "execution_count": 3,
   "metadata": {},
   "outputs": [
    {
     "data": {
      "image/png": "[encoded data removed]",
      "text/latex": [
       "$$\\left ( t, \\quad q_{1}, \\quad q_{2}, \\quad q_{3}, \\quad q_{4}\\right )$$"
      ],
      "text/plain": [
       "(t, q₁, q₂, q₃, q₄)"
      ]
     },
     "execution_count": 3,
     "metadata": {},
     "output_type": "execute_result"
    }
   ],
   "source": [
    "var(\"t q1 q2 q3 q4\")"
   ]
  },
  {
   "cell_type": "code",
   "execution_count": 4,
   "metadata": {},
   "outputs": [
    {
     "data": {
      "image/png": "[encoded data removed]",
      "text/latex": [
       "$$\\left ( l_{1}, \\quad l_{2}, \\quad l_{3}\\right )$$"
      ],
      "text/plain": [
       "(l₁, l₂, l₃)"
      ]
     },
     "execution_count": 4,
     "metadata": {},
     "output_type": "execute_result"
    }
   ],
   "source": [
    "var(\"l1:4\")"
   ]
  },
  {
   "cell_type": "code",
   "execution_count": 5,
   "metadata": {},
   "outputs": [
    {
     "data": {
      "image/png": "[encoded data removed]",
      "text/latex": [
       "$$a$$"
      ],
      "text/plain": [
       "a"
      ]
     },
     "execution_count": 5,
     "metadata": {},
     "output_type": "execute_result"
    }
   ],
   "source": [
    "var(\"a\")"
   ]
  },
  {
   "cell_type": "code",
   "execution_count": 6,
   "metadata": {},
   "outputs": [
    {
     "data": {
      "image/png": "[encoded data removed]",
      "text/latex": [
       "$$\\left ( r_{11}, \\quad r_{12}, \\quad r_{13}, \\quad r_{21}, \\quad r_{22}, \\quad r_{23}, \\quad r_{31}, \\quad r_{32}, \\quad r_{33}\\right )$$"
      ],
      "text/plain": [
       "(r₁₁, r₁₂, r₁₃, r₂₁, r₂₂, r₂₃, r₃₁, r₃₂, r₃₃)"
      ]
     },
     "execution_count": 6,
     "metadata": {},
     "output_type": "execute_result"
    }
   ],
   "source": [
    "var(\"r11 r12 r13 r21 r22 r23 r31 r32 r33\")"
   ]
  },
  {
   "cell_type": "code",
   "execution_count": 7,
   "metadata": {},
   "outputs": [
    {
     "data": {
      "image/png": "[encoded data removed]",
      "text/latex": [
       "$$\\left ( o_{x}, \\quad o_{y}, \\quad o_{z}\\right )$$"
      ],
      "text/plain": [
       "(oₓ, o_y, o_z)"
      ]
     },
     "execution_count": 7,
     "metadata": {},
     "output_type": "execute_result"
    }
   ],
   "source": [
    "ox, oy, oz = var(\"o_x o_y o_z\")\n",
    "ox, oy, oz"
   ]
  },
  {
   "cell_type": "code",
   "execution_count": 9,
   "metadata": {},
   "outputs": [
    {
     "data": {
      "image/png": "[encoded data removed]",
      "text/latex": [
       "$$\\left[\\begin{matrix}\\operatorname{cos}\\left(q_{1}\\right) & - \\operatorname{sin}\\left(q_{1}\\right) & 0 & 0\\\\\\operatorname{sin}\\left(q_{1}\\right) & \\operatorname{cos}\\left(q_{1}\\right) & 0 & 0\\\\0 & 0 & 1 & l_{1}\\\\0 & 0 & 0 & 1\\end{matrix}\\right]$$"
      ],
      "text/plain": [
       "⎡cos(q₁)  -sin(q₁)  0  0 ⎤\n",
       "⎢                        ⎥\n",
       "⎢sin(q₁)  cos(q₁)   0  0 ⎥\n",
       "⎢                        ⎥\n",
       "⎢   0        0      1  l₁⎥\n",
       "⎢                        ⎥\n",
       "⎣   0        0      0  1 ⎦"
      ]
     },
     "execution_count": 9,
     "metadata": {},
     "output_type": "execute_result"
    }
   ],
   "source": [
    "A1 = dh(0, l1, 0, q1)\n",
    "A1"
   ]
  },
  {
   "cell_type": "code",
   "execution_count": 10,
   "metadata": {
    "collapsed": true
   },
   "outputs": [
    {
     "data": {
      "image/png": "[encoded data removed]",
      "text/latex": [
       "$$\\left[\\begin{matrix}0 & 0 & 1 & 0\\\\1 & 0 & 0 & 0\\\\0 & 1 & 0 & q_{2}\\\\0 & 0 & 0 & 1\\end{matrix}\\right]$$"
      ],
      "text/plain": [
       "⎡0  0  1  0 ⎤\n",
       "⎢           ⎥\n",
       "⎢1  0  0  0 ⎥\n",
       "⎢           ⎥\n",
       "⎢0  1  0  q₂⎥\n",
       "⎢           ⎥\n",
       "⎣0  0  0  1 ⎦"
      ]
     },
     "execution_count": 10,
     "metadata": {},
     "output_type": "execute_result"
    }
   ],
   "source": [
    "A2 = dh(0, q2, τ/4, τ/4)\n",
    "A2"
   ]
  },
  {
   "cell_type": "code",
   "execution_count": 11,
   "metadata": {
    "collapsed": true
   },
   "outputs": [
    {
     "data": {
      "image/png": "[encoded data removed]",
      "text/latex": [
       "$$\\left[\\begin{matrix}1 & 0 & 0 & 0\\\\0 & 1 & 0 & 0\\\\0 & 0 & 1 & q_{3}\\\\0 & 0 & 0 & 1\\end{matrix}\\right]$$"
      ],
      "text/plain": [
       "⎡1  0  0  0 ⎤\n",
       "⎢           ⎥\n",
       "⎢0  1  0  0 ⎥\n",
       "⎢           ⎥\n",
       "⎢0  0  1  q₃⎥\n",
       "⎢           ⎥\n",
       "⎣0  0  0  1 ⎦"
      ]
     },
     "execution_count": 11,
     "metadata": {},
     "output_type": "execute_result"
    }
   ],
   "source": [
    "A3 = dh(0, q3, 0, 0)\n",
    "A3"
   ]
  },
  {
   "cell_type": "code",
   "execution_count": 12,
   "metadata": {},
   "outputs": [
    {
     "data": {
      "image/png": "[encoded data removed]",
      "text/latex": [
       "$$\\left[\\begin{matrix}\\operatorname{cos}\\left(q_{4}\\right) & - \\operatorname{sin}\\left(q_{4}\\right) & 0 & 0\\\\\\operatorname{sin}\\left(q_{4}\\right) & \\operatorname{cos}\\left(q_{4}\\right) & 0 & 0\\\\0 & 0 & 1 & a\\\\0 & 0 & 0 & 1\\end{matrix}\\right]$$"
      ],
      "text/plain": [
       "⎡cos(q₄)  -sin(q₄)  0  0⎤\n",
       "⎢                       ⎥\n",
       "⎢sin(q₄)  cos(q₄)   0  0⎥\n",
       "⎢                       ⎥\n",
       "⎢   0        0      1  a⎥\n",
       "⎢                       ⎥\n",
       "⎣   0        0      0  1⎦"
      ]
     },
     "execution_count": 12,
     "metadata": {},
     "output_type": "execute_result"
    }
   ],
   "source": [
    "A4 = dh(0, a, 0, q4)\n",
    "A4"
   ]
  },
  {
   "cell_type": "code",
   "execution_count": 13,
   "metadata": {
    "collapsed": true
   },
   "outputs": [],
   "source": [
    "H = A1*A2*A3*A4"
   ]
  },
  {
   "cell_type": "code",
   "execution_count": 14,
   "metadata": {},
   "outputs": [
    {
     "data": {
      "image/png": "[encoded data removed]",
      "text/latex": [
       "$$\\left[\\begin{matrix}- \\operatorname{sin}\\left(q_{1}\\right) \\operatorname{cos}\\left(q_{4}\\right) & \\operatorname{sin}\\left(q_{1}\\right) \\operatorname{sin}\\left(q_{4}\\right) & \\operatorname{cos}\\left(q_{1}\\right) & a \\operatorname{cos}\\left(q_{1}\\right) + q_{3} \\operatorname{cos}\\left(q_{1}\\right)\\\\\\operatorname{cos}\\left(q_{1}\\right) \\operatorname{cos}\\left(q_{4}\\right) & - \\operatorname{sin}\\left(q_{4}\\right) \\operatorname{cos}\\left(q_{1}\\right) & \\operatorname{sin}\\left(q_{1}\\right) & a \\operatorname{sin}\\left(q_{1}\\right) + q_{3} \\operatorname{sin}\\left(q_{1}\\right)\\\\\\operatorname{sin}\\left(q_{4}\\right) & \\operatorname{cos}\\left(q_{4}\\right) & 0 & l_{1} + q_{2}\\\\0 & 0 & 0 & 1\\end{matrix}\\right]$$"
      ],
      "text/plain": [
       "⎡-sin(q₁)⋅cos(q₄)  sin(q₁)⋅sin(q₄)   cos(q₁)  a⋅cos(q₁) + q₃⋅cos(q₁)⎤\n",
       "⎢                                                                   ⎥\n",
       "⎢cos(q₁)⋅cos(q₄)   -sin(q₄)⋅cos(q₁)  sin(q₁)  a⋅sin(q₁) + q₃⋅sin(q₁)⎥\n",
       "⎢                                                                   ⎥\n",
       "⎢    sin(q₄)           cos(q₄)          0            l₁ + q₂        ⎥\n",
       "⎢                                                                   ⎥\n",
       "⎣       0                 0             0               1           ⎦"
      ]
     },
     "execution_count": 14,
     "metadata": {},
     "output_type": "execute_result"
    }
   ],
   "source": [
    "H"
   ]
  },
  {
   "cell_type": "code",
   "execution_count": 13,
   "metadata": {},
   "outputs": [
    {
     "data": {
      "image/png": "[encoded data removed]",
      "text/latex": [
       "$$\\left[\\begin{matrix}\\operatorname{cos}\\left(q_{1}\\right) & - \\operatorname{sin}\\left(q_{1}\\right) & 0 & 0\\\\\\operatorname{sin}\\left(q_{1}\\right) & \\operatorname{cos}\\left(q_{1}\\right) & 0 & 0\\\\0 & 0 & 1 & l_{1}\\\\0 & 0 & 0 & 1\\end{matrix}\\right]$$"
      ],
      "text/plain": [
       "⎡cos(q₁)  -sin(q₁)  0  0 ⎤\n",
       "⎢                        ⎥\n",
       "⎢sin(q₁)  cos(q₁)   0  0 ⎥\n",
       "⎢                        ⎥\n",
       "⎢   0        0      1  l₁⎥\n",
       "⎢                        ⎥\n",
       "⎣   0        0      0  1 ⎦"
      ]
     },
     "execution_count": 13,
     "metadata": {},
     "output_type": "execute_result"
    }
   ],
   "source": [
    "A1"
   ]
  },
  {
   "cell_type": "code",
   "execution_count": 14,
   "metadata": {},
   "outputs": [
    {
     "data": {
      "image/png": "[encoded data removed]",
      "text/latex": [
       "$$\\left[\\begin{matrix}- \\operatorname{sin}\\left(q_{1}\\right) & 0 & \\operatorname{cos}\\left(q_{1}\\right) & 0\\\\\\operatorname{cos}\\left(q_{1}\\right) & 0 & \\operatorname{sin}\\left(q_{1}\\right) & 0\\\\0 & 1 & 0 & l_{1} + q_{2}\\\\0 & 0 & 0 & 1\\end{matrix}\\right]$$"
      ],
      "text/plain": [
       "⎡-sin(q₁)  0  cos(q₁)     0   ⎤\n",
       "⎢                             ⎥\n",
       "⎢cos(q₁)   0  sin(q₁)     0   ⎥\n",
       "⎢                             ⎥\n",
       "⎢   0      1     0     l₁ + q₂⎥\n",
       "⎢                             ⎥\n",
       "⎣   0      0     0        1   ⎦"
      ]
     },
     "execution_count": 14,
     "metadata": {},
     "output_type": "execute_result"
    }
   ],
   "source": [
    "A1*A2"
   ]
  },
  {
   "cell_type": "code",
   "execution_count": 15,
   "metadata": {},
   "outputs": [
    {
     "data": {
      "image/png": "[encoded data removed]",
      "text/latex": [
       "$$\\left[\\begin{matrix}- \\operatorname{sin}\\left(q_{1}\\right) & 0 & \\operatorname{cos}\\left(q_{1}\\right) & q_{3} \\operatorname{cos}\\left(q_{1}\\right)\\\\\\operatorname{cos}\\left(q_{1}\\right) & 0 & \\operatorname{sin}\\left(q_{1}\\right) & q_{3} \\operatorname{sin}\\left(q_{1}\\right)\\\\0 & 1 & 0 & l_{1} + q_{2}\\\\0 & 0 & 0 & 1\\end{matrix}\\right]$$"
      ],
      "text/plain": [
       "⎡-sin(q₁)  0  cos(q₁)  q₃⋅cos(q₁)⎤\n",
       "⎢                                ⎥\n",
       "⎢cos(q₁)   0  sin(q₁)  q₃⋅sin(q₁)⎥\n",
       "⎢                                ⎥\n",
       "⎢   0      1     0      l₁ + q₂  ⎥\n",
       "⎢                                ⎥\n",
       "⎣   0      0     0         1     ⎦"
      ]
     },
     "execution_count": 15,
     "metadata": {},
     "output_type": "execute_result"
    }
   ],
   "source": [
    "A1*A2*A3"
   ]
  },
  {
   "cell_type": "code",
   "execution_count": 22,
   "metadata": {
    "collapsed": true
   },
   "outputs": [],
   "source": [
    "T = Matrix([[r11, r12, r13, ox],[r21, r22, r23, oy],[r31, r32, r33, oz],[0, 0, 0, 1]])"
   ]
  },
  {
   "cell_type": "code",
   "execution_count": 23,
   "metadata": {},
   "outputs": [
    {
     "data": {
      "image/png": "[encoded data removed]",
      "text/latex": [
       "$$\\left[\\begin{matrix}r_{11} & r_{12} & r_{13} & o_{x}\\\\r_{21} & r_{22} & r_{23} & o_{y}\\\\r_{31} & r_{32} & r_{33} & o_{z}\\\\0 & 0 & 0 & 1\\end{matrix}\\right]$$"
      ],
      "text/plain": [
       "⎡r₁₁  r₁₂  r₁₃  oₓ ⎤\n",
       "⎢                  ⎥\n",
       "⎢r₂₁  r₂₂  r₂₃  o_y⎥\n",
       "⎢                  ⎥\n",
       "⎢r₃₁  r₃₂  r₃₃  o_z⎥\n",
       "⎢                  ⎥\n",
       "⎣ 0    0    0    1 ⎦"
      ]
     },
     "execution_count": 23,
     "metadata": {},
     "output_type": "execute_result"
    }
   ],
   "source": [
    "T"
   ]
  },
  {
   "cell_type": "code",
   "execution_count": 28,
   "metadata": {},
   "outputs": [
    {
     "data": {
      "image/png": "[encoded data removed]",
      "text/latex": [
       "$$\\left[\\begin{matrix}\\frac{1}{\\operatorname{cos}\\left(q_{1}\\right)} \\left(- \\operatorname{sin}^{2}\\left(q_{1}\\right) + 1\\right) & \\operatorname{sin}\\left(q_{1}\\right) & 0 & 0\\\\- \\operatorname{sin}\\left(q_{1}\\right) & \\operatorname{cos}\\left(q_{1}\\right) & 0 & 0\\\\0 & 0 & 1 & - l_{1}\\\\0 & 0 & 0 & 1\\end{matrix}\\right]$$"
      ],
      "text/plain": [
       "⎡     2                         ⎤\n",
       "⎢- sin (q₁) + 1                 ⎥\n",
       "⎢──────────────  sin(q₁)  0   0 ⎥\n",
       "⎢   cos(q₁)                     ⎥\n",
       "⎢                               ⎥\n",
       "⎢   -sin(q₁)     cos(q₁)  0   0 ⎥\n",
       "⎢                               ⎥\n",
       "⎢      0            0     1  -l₁⎥\n",
       "⎢                               ⎥\n",
       "⎣      0            0     0   1 ⎦"
      ]
     },
     "execution_count": 28,
     "metadata": {},
     "output_type": "execute_result"
    }
   ],
   "source": [
    "A1.inv()"
   ]
  },
  {
   "cell_type": "code",
   "execution_count": null,
   "metadata": {
    "collapsed": true
   },
   "outputs": [],
   "source": []
  }
 ],
 "metadata": {
  "kernelspec": {
   "display_name": "Python 3",
   "language": "python",
   "name": "python3"
  },
  "language_info": {
   "codemirror_mode": {
    "name": "ipython",
    "version": 3
   },
   "file_extension": ".py",
   "mimetype": "text/x-python",
   "name": "python",
   "nbconvert_exporter": "python",
   "pygments_lexer": "ipython3",
   "version": "3.6.4"
  }
 },
 "nbformat": 4,
 "nbformat_minor": 2
}
