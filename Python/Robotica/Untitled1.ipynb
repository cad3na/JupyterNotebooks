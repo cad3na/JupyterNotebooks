{
 "cells": [
  {
   "cell_type": "code",
   "execution_count": 1,
   "metadata": {},
   "outputs": [],
   "source": [
    "def dh(a, d, α, θ):\n",
    "    from numpy import sin, cos, matrix\n",
    "    c = cos\n",
    "    s = sin\n",
    "    m = matrix\n",
    "    A = matrix([[c(θ), -s(θ)*c(α),  s(θ)*s(α), a*c(θ)],\n",
    "                [s(θ),  c(θ)*c(α), -c(θ)*s(α), a*s(θ)],\n",
    "                [   0,       s(α),       c(α),      d],\n",
    "                [   0,          0,          0,      1]])\n",
    "    return A"
   ]
  },
  {
   "cell_type": "code",
   "execution_count": 2,
   "metadata": {},
   "outputs": [
    {
     "data": {
      "text/plain": [
       "matrix([[ 0.99500417, -0.09933467,  0.00996671,  0.99500417],\n",
       "        [ 0.09983342,  0.99003329, -0.09933467,  0.09983342],\n",
       "        [ 0.        ,  0.09983342,  0.99500417,  2.        ],\n",
       "        [ 0.        ,  0.        ,  0.        ,  1.        ]])"
      ]
     },
     "execution_count": 2,
     "metadata": {},
     "output_type": "execute_result"
    }
   ],
   "source": [
    "dh(1, 2, 0.1, 0.1)"
   ]
  },
  {
   "cell_type": "code",
   "execution_count": null,
   "metadata": {},
   "outputs": [],
   "source": [
    "class robot():\n",
    "    transformaciones = []\n",
    "    \n",
    "    def CD(self)\n",
    "    \n",
    "    def dh(self, a, d, α, θ):\n",
    "        from numpy import sin, cos, matrix\n",
    "        c = cos\n",
    "        s = sin\n",
    "        m = matrix\n",
    "        A = matrix([[c(θ), -s(θ)*c(α),  s(θ)*s(α), a*c(θ)],\n",
    "                    [s(θ),  c(θ)*c(α), -c(θ)*s(α), a*s(θ)],\n",
    "                    [   0,       s(α),       c(α),      d],\n",
    "                    [   0,          0,          0,      1]])\n",
    "        return A"
   ]
  }
 ],
 "metadata": {
  "kernelspec": {
   "display_name": "Python 3",
   "language": "python",
   "name": "python3"
  },
  "language_info": {
   "codemirror_mode": {
    "name": "ipython",
    "version": 3
   },
   "file_extension": ".py",
   "mimetype": "text/x-python",
   "name": "python",
   "nbconvert_exporter": "python",
   "pygments_lexer": "ipython3",
   "version": "3.6.5"
  }
 },
 "nbformat": 4,
 "nbformat_minor": 2
}
