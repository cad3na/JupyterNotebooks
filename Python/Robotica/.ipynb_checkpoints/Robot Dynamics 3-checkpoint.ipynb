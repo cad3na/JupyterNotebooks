{
 "cells": [
  {
   "cell_type": "code",
   "execution_count": 99,
   "metadata": {
    "collapsed": false
   },
   "outputs": [],
   "source": [
    "from IPython.display import display\n",
    "\n",
    "from sympy.interactive import printing\n",
    "printing.init_printing()\n",
    "\n",
    "from sympy import var, simplify, collect, expand, solve, sin, cos, Matrix, diff, Function, expand_power_base\n",
    "from sympy.physics.mechanics import mlatex, mechanics_printing"
   ]
  },
  {
   "cell_type": "code",
   "execution_count": 3,
   "metadata": {
    "collapsed": false
   },
   "outputs": [],
   "source": [
    "def position(x, y, z):\n",
    "    \"\"\"\n",
    "    Takes the x and y coordinates of a body, and returns\n",
    "    a sympy Matrix with the position.\n",
    "    \"\"\"\n",
    "    return Matrix([x, y, z])"
   ]
  },
  {
   "cell_type": "code",
   "execution_count": 4,
   "metadata": {
    "collapsed": false
   },
   "outputs": [],
   "source": [
    "def velocity(r):\n",
    "    \"\"\"\n",
    "    Takes the position of a body in the form of a sympy\n",
    "    Matrix and returns it's velocity.\n",
    "    \"\"\"\n",
    "    return r.diff(t)"
   ]
  },
  {
   "cell_type": "code",
   "execution_count": 5,
   "metadata": {
    "collapsed": false
   },
   "outputs": [],
   "source": [
    "def square_velocity(v):\n",
    "    \"\"\"\n",
    "    Takes the velocity of a body in the form of a sympy\n",
    "    Matrix and returns it's square.\n",
    "    \"\"\"\n",
    "    return collect(simplify((v.T*v)[0]), [q_1.diff(t)*q_2.diff(t), q_1.diff(t), q_2.diff(t), q_1.diff(t)**2, q_2.diff(t)**2])"
   ]
  },
  {
   "cell_type": "code",
   "execution_count": 6,
   "metadata": {
    "collapsed": false
   },
   "outputs": [],
   "source": [
    "def kinetic_energy(m, v2, cI, om):\n",
    "    \"\"\"\n",
    "    Takes the mass (m), squared velocity (v2), Inertial\n",
    "    tensor (cI), and angular velocity (om) of a body, and\n",
    "    returns the kinetic energy of the body.\n",
    "    \"\"\"\n",
    "    return (m*v2)/2 + (om.T*cI*om)[0]/2"
   ]
  },
  {
   "cell_type": "code",
   "execution_count": 40,
   "metadata": {
    "collapsed": false
   },
   "outputs": [],
   "source": [
    "def potential_energy(m, h):\n",
    "    \"\"\"\n",
    "    Takes the mass (m), and height (h) of a body and\n",
    "    returns the potential energy of the body (this\n",
    "    assumes that the acceleration due to the gravitational\n",
    "    forces is 9.81 m/s^2).\n",
    "    \"\"\"\n",
    "    g = var(\"g\")\n",
    "    return (m*g*h)"
   ]
  },
  {
   "cell_type": "code",
   "execution_count": 8,
   "metadata": {
    "collapsed": false
   },
   "outputs": [],
   "source": [
    "def lagrange_function(K, U):\n",
    "    \"\"\"\n",
    "    Takes the kinetic and potential energy of a system\n",
    "    (K and U) and returns the Langrange Function of the\n",
    "    system.\n",
    "    \"\"\"\n",
    "    return K - U"
   ]
  },
  {
   "cell_type": "code",
   "execution_count": 76,
   "metadata": {
    "collapsed": false
   },
   "outputs": [],
   "source": [
    "def torque_function(L, q):\n",
    "    \"\"\"\n",
    "    Takes the Langrange function (L) and derives with\n",
    "    respect of the Freedom Degree specified (q).\n",
    "    \"\"\"\n",
    "    return collect(simplify(expand(L).diff(q.diff(t)).diff(t) - expand(L).diff(q)), [q.diff(t), q.diff(t).diff(t)])"
   ]
  },
  {
   "cell_type": "code",
   "execution_count": 113,
   "metadata": {
    "collapsed": false
   },
   "outputs": [],
   "source": [
    "mechanics_printing(order=\"grlex\")"
   ]
  },
  {
   "cell_type": "code",
   "execution_count": 114,
   "metadata": {
    "collapsed": false
   },
   "outputs": [],
   "source": [
    "var(\"m_1 m_2 l_1 t\")\n",
    "q_1 = Function(\"q_1\")(t)\n",
    "q_2 = Function(\"q_2\")(t)"
   ]
  },
  {
   "cell_type": "code",
   "execution_count": 115,
   "metadata": {
    "collapsed": false
   },
   "outputs": [],
   "source": [
    "ixx1, ixx2, iyy1, iyy2, izz1, izz2 = var(\"I_{xx_1} I_{xx_2} I_{yy_1} I_{yy_2} I_{zz_1} I_{zz_2} \")"
   ]
  },
  {
   "cell_type": "code",
   "execution_count": 116,
   "metadata": {
    "collapsed": false
   },
   "outputs": [],
   "source": [
    "cI1 = Matrix([[ixx1, 0, 0],\n",
    "              [0, iyy1, 0],\n",
    "              [0, 0, izz1]])\n",
    "\n",
    "cI2 = Matrix([[ixx2, 0, 0],\n",
    "              [0, iyy2, 0],\n",
    "              [0, 0, izz2]])\n",
    "\n",
    "om1 = Matrix([0, 0, q_1.diff(t)])\n",
    "om2 = Matrix([0, 0, q_1.diff(t)])"
   ]
  },
  {
   "cell_type": "code",
   "execution_count": 117,
   "metadata": {
    "collapsed": false
   },
   "outputs": [
    {
     "data": {
      "image/png": "[encoded data removed]",
      "text/latex": [
       "$$\\begin{pmatrix}\\left[\\begin{matrix}I_{{xx 1}} & 0 & 0\\\\0 & I_{{yy 1}} & 0\\\\0 & 0 & I_{{zz 1}}\\end{matrix}\\right], & \\left[\\begin{matrix}I_{{xx 2}} & 0 & 0\\\\0 & I_{{yy 2}} & 0\\\\0 & 0 & I_{{zz 2}}\\end{matrix}\\right]\\end{pmatrix}$$"
      ],
      "text/plain": [
       "⎛⎡I_{xx_1}     0         0    ⎤, ⎡I_{xx_2}     0         0    ⎤⎞\n",
       "⎜⎢                            ⎥  ⎢                            ⎥⎟\n",
       "⎜⎢   0      I_{yy_1}     0    ⎥  ⎢   0      I_{yy_2}     0    ⎥⎟\n",
       "⎜⎢                            ⎥  ⎢                            ⎥⎟\n",
       "⎝⎣   0         0      I_{zz_1}⎦  ⎣   0         0      I_{zz_2}⎦⎠"
      ]
     },
     "execution_count": 117,
     "metadata": {},
     "output_type": "execute_result"
    }
   ],
   "source": [
    "cI1, cI2"
   ]
  },
  {
   "cell_type": "code",
   "execution_count": 144,
   "metadata": {
    "collapsed": false
   },
   "outputs": [
    {
     "data": {
      "image/png": "[encoded data removed]",
      "text/latex": [
       "$$\\begin{pmatrix}\\left[\\begin{matrix}l_{1} \\operatorname{cos}\\left(q_{1}\\right)\\\\l_{1} \\operatorname{sin}\\left(q_{1}\\right)\\\\0\\end{matrix}\\right], & \\left[\\begin{matrix}q_{2} \\operatorname{cos}\\left(q_{1}\\right)\\\\q_{2} \\operatorname{sin}\\left(q_{1}\\right)\\\\0\\end{matrix}\\right]\\end{pmatrix}$$"
      ],
      "text/plain": [
       "⎛⎡l₁⋅cos(q₁)⎤, ⎡q₂⋅cos(q₁)⎤⎞\n",
       "⎜⎢          ⎥  ⎢          ⎥⎟\n",
       "⎜⎢l₁⋅sin(q₁)⎥  ⎢q₂⋅sin(q₁)⎥⎟\n",
       "⎜⎢          ⎥  ⎢          ⎥⎟\n",
       "⎝⎣    0     ⎦  ⎣    0     ⎦⎠"
      ]
     },
     "execution_count": 144,
     "metadata": {},
     "output_type": "execute_result"
    }
   ],
   "source": [
    "r_1 = position(l_1*cos(q_1), l_1*sin(q_1), 0)\n",
    "r_2 = position(q_2*cos(q_1), q_2*sin(q_1), 0)\n",
    "r_1, r_2"
   ]
  },
  {
   "cell_type": "code",
   "execution_count": 145,
   "metadata": {
    "collapsed": false
   },
   "outputs": [
    {
     "data": {
      "image/png": "[encoded data removed]",
      "text/latex": [
       "$$\\begin{pmatrix}\\left[\\begin{matrix}- l_{1} \\operatorname{sin}\\left(q_{1}\\right) \\dot{q}_{1}\\\\l_{1} \\operatorname{cos}\\left(q_{1}\\right) \\dot{q}_{1}\\\\0\\end{matrix}\\right], & \\left[\\begin{matrix}- q_{2} \\operatorname{sin}\\left(q_{1}\\right) \\dot{q}_{1} + \\operatorname{cos}\\left(q_{1}\\right) \\dot{q}_{2}\\\\q_{2} \\operatorname{cos}\\left(q_{1}\\right) \\dot{q}_{1} + \\operatorname{sin}\\left(q_{1}\\right) \\dot{q}_{2}\\\\0\\end{matrix}\\right]\\end{pmatrix}$$"
      ],
      "text/plain": [
       "⎛⎡-l₁⋅sin(q₁)⋅q₁̇⎤, ⎡-q₂⋅sin(q₁)⋅q₁̇ + cos(q₁)⋅q₂̇⎤⎞\n",
       "⎜⎢               ⎥  ⎢                             ⎥⎟\n",
       "⎜⎢l₁⋅cos(q₁)⋅q₁̇ ⎥  ⎢q₂⋅cos(q₁)⋅q₁̇ + sin(q₁)⋅q₂̇ ⎥⎟\n",
       "⎜⎢               ⎥  ⎢                             ⎥⎟\n",
       "⎝⎣       0       ⎦  ⎣              0              ⎦⎠"
      ]
     },
     "execution_count": 145,
     "metadata": {},
     "output_type": "execute_result"
    }
   ],
   "source": [
    "v_1 = velocity(r_1)\n",
    "v_2 = velocity(r_2)\n",
    "v_1, v_2"
   ]
  },
  {
   "cell_type": "code",
   "execution_count": 146,
   "metadata": {
    "collapsed": false
   },
   "outputs": [
    {
     "data": {
      "image/png": "[encoded data removed]",
      "text/latex": [
       "$$\\begin{pmatrix}l_{1}^{2} \\left(\\dot{q}_{1}\\right)^{2}, & q^{2}_{2} \\left(\\dot{q}_{1}\\right)^{2} + \\left(\\dot{q}_{2}\\right)^{2}\\end{pmatrix}$$"
      ],
      "text/plain": [
       "⎛  2    2    2    2      2⎞\n",
       "⎝l₁ ⋅q₁̇ , q₂ ⋅q₁̇  + q₂̇ ⎠"
      ]
     },
     "execution_count": 146,
     "metadata": {},
     "output_type": "execute_result"
    }
   ],
   "source": [
    "v_12 = square_velocity(v_1)\n",
    "v_22 = square_velocity(v_2)\n",
    "v_12, v_22"
   ]
  },
  {
   "cell_type": "code",
   "execution_count": 147,
   "metadata": {
    "collapsed": false
   },
   "outputs": [
    {
     "data": {
      "image/png": "[encoded data removed]",
      "text/latex": [
       "$$\\begin{pmatrix}\\frac{l_{1}^{2} m_{1}}{2} \\left(\\dot{q}_{1}\\right)^{2} + \\frac{I_{{zz 1}}}{2} \\left(\\dot{q}_{1}\\right)^{2}, & \\frac{I_{{zz 2}}}{2} \\left(\\dot{q}_{1}\\right)^{2} + \\frac{m_{2}}{2} \\left(q^{2}_{2} \\left(\\dot{q}_{1}\\right)^{2} + \\left(\\dot{q}_{2}\\right)^{2}\\right)\\end{pmatrix}$$"
      ],
      "text/plain": [
       "⎛  2       2               2              2      ⎛  2    2      2⎞⎞\n",
       "⎜l₁ ⋅m₁⋅q₁̇    I_{zz_1}⋅q₁̇   I_{zz_2}⋅q₁̇    m₂⋅⎝q₂ ⋅q₁̇  + q₂̇ ⎠⎟\n",
       "⎜─────────── + ─────────────, ───────────── + ────────────────────⎟\n",
       "⎝     2              2              2                  2          ⎠"
      ]
     },
     "execution_count": 147,
     "metadata": {},
     "output_type": "execute_result"
    }
   ],
   "source": [
    "k_1 = kinetic_energy(m_1, v_12, cI1, om1)\n",
    "k_2 = kinetic_energy(m_2, v_22, cI2, om2)\n",
    "k_1, k_2"
   ]
  },
  {
   "cell_type": "code",
   "execution_count": 148,
   "metadata": {
    "collapsed": false
   },
   "outputs": [
    {
     "data": {
      "image/png": "[encoded data removed]",
      "text/latex": [
       "$$\\begin{pmatrix}g l_{1} m_{1} \\operatorname{sin}\\left(q_{1}\\right), & g m_{2} q_{2} \\operatorname{sin}\\left(q_{1}\\right)\\end{pmatrix}$$"
      ],
      "text/plain": [
       "(g⋅l₁⋅m₁⋅sin(q₁), g⋅m₂⋅q₂⋅sin(q₁))"
      ]
     },
     "execution_count": 148,
     "metadata": {},
     "output_type": "execute_result"
    }
   ],
   "source": [
    "U_1 = potential_energy(m_1, l_1*sin(q_1))\n",
    "U_2 = potential_energy(m_2, q_2*sin(q_1))\n",
    "U_1, U_2"
   ]
  },
  {
   "cell_type": "code",
   "execution_count": 149,
   "metadata": {
    "collapsed": false
   },
   "outputs": [
    {
     "data": {
      "image/png": "[encoded data removed]",
      "text/latex": [
       "$$\\frac{l_{1}^{2} m_{1}}{2} \\left(\\dot{q}_{1}\\right)^{2} - g l_{1} m_{1} \\operatorname{sin}\\left(q_{1}\\right) - g m_{2} q_{2} \\operatorname{sin}\\left(q_{1}\\right) + \\frac{I_{{zz 1}}}{2} \\left(\\dot{q}_{1}\\right)^{2} + \\frac{I_{{zz 2}}}{2} \\left(\\dot{q}_{1}\\right)^{2} + \\frac{m_{2}}{2} \\left(q^{2}_{2} \\left(\\dot{q}_{1}\\right)^{2} + \\left(\\dot{q}_{2}\\right)^{2}\\right)$$"
      ],
      "text/plain": [
       "  2       2                                                   2               \n",
       "l₁ ⋅m₁⋅q₁̇                                        I_{zz_1}⋅q₁̇    I_{zz_2}⋅q₁̇\n",
       "─────────── - g⋅l₁⋅m₁⋅sin(q₁) - g⋅m₂⋅q₂⋅sin(q₁) + ───────────── + ────────────\n",
       "     2                                                  2               2     \n",
       "\n",
       "2      ⎛  2    2      2⎞\n",
       "    m₂⋅⎝q₂ ⋅q₁̇  + q₂̇ ⎠\n",
       "─ + ────────────────────\n",
       "             2          "
      ]
     },
     "execution_count": 149,
     "metadata": {},
     "output_type": "execute_result"
    }
   ],
   "source": [
    "L = lagrange_function(k_1 + k_2, U_1 + U_2)\n",
    "L"
   ]
  },
  {
   "cell_type": "code",
   "execution_count": 124,
   "metadata": {
    "collapsed": false
   },
   "outputs": [],
   "source": [
    "tau_1 = torque_function(L, q_1)\n",
    "tau_2 = torque_function(L, q_2)"
   ]
  },
  {
   "cell_type": "code",
   "execution_count": 125,
   "metadata": {
    "collapsed": false
   },
   "outputs": [
    {
     "data": {
      "image/png": "[encoded data removed]",
      "text/latex": [
       "$$\\left[\\begin{matrix}g l_{1} m_{1} \\operatorname{cos}\\left(q_{1}\\right) + g m_{2} q_{2} \\operatorname{cos}\\left(q_{1}\\right) + 2 m_{2} q_{2} \\dot{q}_{1} \\dot{q}_{2} + \\left(l_{1}^{2} m_{1} + m_{2} q^{2}_{2} + I_{{zz 1}} + I_{{zz 2}}\\right) \\ddot{q}_{1}\\\\m_{2} \\left(- q_{2} \\left(\\dot{q}_{1}\\right)^{2} + g \\operatorname{sin}\\left(q_{1}\\right) + \\ddot{q}_{2}\\right)\\end{matrix}\\right]$$"
      ],
      "text/plain": [
       "⎡                                                      ⎛  2           2       \n",
       "⎢g⋅l₁⋅m₁⋅cos(q₁) + g⋅m₂⋅q₂⋅cos(q₁) + 2⋅m₂⋅q₂⋅q₁̇⋅q₂̇ + ⎝l₁ ⋅m₁ + m₂⋅q₂  + I_{z\n",
       "⎢                                                                             \n",
       "⎢                                   ⎛        2                  ⎞             \n",
       "⎣                                m₂⋅⎝- q₂⋅q₁̇  + g⋅sin(q₁) + q₂̈⎠             \n",
       "\n",
       "               ⎞    ⎤\n",
       "z_1} + I_{zz_2}⎠⋅q₁̈⎥\n",
       "                    ⎥\n",
       "                    ⎥\n",
       "                    ⎦"
      ]
     },
     "execution_count": 125,
     "metadata": {},
     "output_type": "execute_result"
    }
   ],
   "source": [
    "Matrix([tau_1, tau_2])"
   ]
  },
  {
   "cell_type": "markdown",
   "metadata": {},
   "source": [
    "# Problema 2"
   ]
  },
  {
   "cell_type": "markdown",
   "metadata": {},
   "source": [
    "Si las formulas para este problema son:\n",
    "\n",
    "$$\n",
    "\\theta = \\frac{T \\rho}{J G}\n",
    "$$\n",
    "\n",
    "$$\n",
    "J_{cilindro} = \\frac{\\pi r^4}{2}\n",
    "$$\n",
    "\n",
    "Sustituyendo tenemos:\n",
    "\n",
    "$$\n",
    "\\theta = \\frac{T r}{\\frac{\\pi r^4}{2} G}\n",
    "$$\n",
    "\n",
    "$$\n",
    "\\theta = \\frac{2 T}{\\pi r^3 G}\n",
    "$$\n",
    "\n",
    "$$\n",
    "r^3 = \\frac{2 T}{\\pi \\theta G}\n",
    "$$\n",
    "\n",
    "$$\n",
    "r = \\sqrt[3]{\\frac{2 T}{\\pi \\theta G}}\n",
    "$$\n",
    "\n",
    "Por lo que los calculos nos quedan:"
   ]
  },
  {
   "cell_type": "code",
   "execution_count": 1,
   "metadata": {
    "collapsed": false
   },
   "outputs": [],
   "source": [
    "import pint"
   ]
  },
  {
   "cell_type": "code",
   "execution_count": 27,
   "metadata": {
    "collapsed": false
   },
   "outputs": [],
   "source": [
    "UR = pint.UnitRegistry()\n",
    "UR.default_format = '~'"
   ]
  },
  {
   "cell_type": "code",
   "execution_count": 28,
   "metadata": {
    "collapsed": false
   },
   "outputs": [],
   "source": [
    "m = 10*UR.kilogram\n",
    "a = 2*9.81*UR.meter/UR.second**2\n",
    "d = 0.30*UR.meter\n",
    "F = m*a\n",
    "T = (F*d).to(\"newton*meter\")"
   ]
  },
  {
   "cell_type": "code",
   "execution_count": 29,
   "metadata": {
    "collapsed": false
   },
   "outputs": [
    {
     "data": {
      "text/html": [
       "58.86 meter newton"
      ],
      "text/latex": [
       "$58.86 meter \\cdot newton$"
      ],
      "text/plain": [
       "<Quantity(58.86, 'meter * newton')>"
      ]
     },
     "execution_count": 29,
     "metadata": {},
     "output_type": "execute_result"
    }
   ],
   "source": [
    "T"
   ]
  },
  {
   "cell_type": "code",
   "execution_count": 30,
   "metadata": {
    "collapsed": false
   },
   "outputs": [],
   "source": [
    "G = 80*UR.gigapascal.to(\"newton/meter**2\")\n",
    "theta = 0.1"
   ]
  },
  {
   "cell_type": "code",
   "execution_count": 31,
   "metadata": {
    "collapsed": false
   },
   "outputs": [],
   "source": [
    "r = ((2*T)/(pi*theta*G))**(1.0/3.0)"
   ]
  },
  {
   "cell_type": "code",
   "execution_count": 32,
   "metadata": {
    "collapsed": false
   },
   "outputs": [
    {
     "data": {
      "text/html": [
       "0.00167315739757 meter"
      ],
      "text/latex": [
       "$0.00167315739757 meter$"
      ],
      "text/plain": [
       "<Quantity(0.00167315739757, 'meter')>"
      ]
     },
     "execution_count": 32,
     "metadata": {},
     "output_type": "execute_result"
    }
   ],
   "source": [
    "r"
   ]
  },
  {
   "cell_type": "code",
   "execution_count": 33,
   "metadata": {
    "collapsed": false
   },
   "outputs": [],
   "source": [
    "diam = 2*r"
   ]
  },
  {
   "cell_type": "code",
   "execution_count": 34,
   "metadata": {
    "collapsed": false
   },
   "outputs": [
    {
     "data": {
      "text/html": [
       "3.34631479514 millimeter"
      ],
      "text/latex": [
       "$3.34631479514 millimeter$"
      ],
      "text/plain": [
       "<Quantity(3.34631479514, 'millimeter')>"
      ]
     },
     "execution_count": 34,
     "metadata": {},
     "output_type": "execute_result"
    }
   ],
   "source": [
    "diam.to(\"millimeter\")"
   ]
  }
 ],
 "metadata": {
  "kernelspec": {
   "display_name": "Python [default]",
   "language": "python",
   "name": "python3"
  },
  "language_info": {
   "codemirror_mode": {
    "name": "ipython",
    "version": 3
   },
   "file_extension": ".py",
   "mimetype": "text/x-python",
   "name": "python",
   "nbconvert_exporter": "python",
   "pygments_lexer": "ipython3",
   "version": "3.5.2"
  }
 },
 "nbformat": 4,
 "nbformat_minor": 0
}
