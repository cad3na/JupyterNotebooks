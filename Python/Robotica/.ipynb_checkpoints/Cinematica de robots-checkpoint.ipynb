{
 "metadata": {
  "css": [
   ""
  ],
  "name": ""
 },
 "nbformat": 3,
 "nbformat_minor": 0,
 "worksheets": [
  {
   "cells": [
    {
     "cell_type": "code",
     "collapsed": false,
     "input": [
      "from IPython.display import display\n",
      "\n",
      "from sympy.interactive import printing\n",
      "printing.init_printing()\n",
      "\n",
      "from sympy import var, latex, simplify, collect, expand, solve, sin, cos, Matrix\n",
      "var(\"c_1, c_2, c_3, c_4, s_1, s_2, s_3, s_4, l_1, l_2, l_3, l_4\")"
     ],
     "language": "python",
     "metadata": {},
     "outputs": [
      {
       "latex": [
        "$$\\begin{pmatrix}c_{1}, & c_{2}, & c_{3}, & c_{4}, & s_{1}, & s_{2}, & s_{3}, & s_{4}, & l_{1}, & l_{2}, & l_{3}, & l_{4}\\end{pmatrix}$$"
       ],
       "metadata": {},
       "output_type": "pyout",
       "prompt_number": 1,
       "text": [
        "(c\u2081, c\u2082, c\u2083, c\u2084, s\u2081, s\u2082, s\u2083, s\u2084, l\u2081, l\u2082, l\u2083, l\u2084)"
       ]
      }
     ],
     "prompt_number": 1
    },
    {
     "cell_type": "code",
     "collapsed": false,
     "input": [
      "Rz = Matrix([[c_1, -s_1, 0, 0],\n",
      "             [s_1, c_1, 0, 0],\n",
      "             [0, 0, 1, 0],\n",
      "             [0, 0, 0, 1]])"
     ],
     "language": "python",
     "metadata": {},
     "outputs": [],
     "prompt_number": 2
    },
    {
     "cell_type": "code",
     "collapsed": false,
     "input": [
      "Tz = Matrix([[1, 0, 0, ],\n",
      "             [],\n",
      "             [],\n",
      "             []])"
     ],
     "language": "python",
     "metadata": {},
     "outputs": []
    },
    {
     "cell_type": "code",
     "collapsed": false,
     "input": [],
     "language": "python",
     "metadata": {},
     "outputs": []
    },
    {
     "cell_type": "code",
     "collapsed": false,
     "input": [
      "A01 = Matrix([[c_1, -s_1, 0, 0],[s_1, c_1, 0, 0],[0, 0, 1, 0],[0, 0, 0, 1]])"
     ],
     "language": "python",
     "metadata": {},
     "outputs": [],
     "prompt_number": 8
    },
    {
     "cell_type": "code",
     "collapsed": false,
     "input": [
      "A01"
     ],
     "language": "python",
     "metadata": {},
     "outputs": [
      {
       "latex": [
        "$$\\left[\\begin{smallmatrix}{}c_{1} & - s_{1} & 0 & 0\\\\s_{1} & c_{1} & 0 & 0\\\\0 & 0 & 1 & 0\\\\0 & 0 & 0 & 1\\end{smallmatrix}\\right]$$"
       ],
       "metadata": {},
       "output_type": "pyout",
       "png": "[encoded data removed]",
       "prompt_number": 9,
       "text": [
        "\u23a1c\u2081  -s\u2081  0  0\u23a4\n",
        "\u23a2             \u23a5\n",
        "\u23a2s\u2081  c\u2081   0  0\u23a5\n",
        "\u23a2             \u23a5\n",
        "\u23a20    0   1  0\u23a5\n",
        "\u23a2             \u23a5\n",
        "\u23a30    0   0  1\u23a6"
       ]
      }
     ],
     "prompt_number": 9
    },
    {
     "cell_type": "code",
     "collapsed": false,
     "input": [
      "A12 = Matrix([[c_2, -s_2, 0, l_1],[s_2, c_2, 0, 0],[0, 0, 1, 0],[0, 0, 0, 1]])"
     ],
     "language": "python",
     "metadata": {},
     "outputs": [],
     "prompt_number": 6
    },
    {
     "cell_type": "code",
     "collapsed": false,
     "input": [
      "A12"
     ],
     "language": "python",
     "metadata": {},
     "outputs": [
      {
       "latex": [
        "$$\\left[\\begin{smallmatrix}{}c_{2} & - s_{2} & 0 & l_{1}\\\\s_{2} & c_{2} & 0 & 0\\\\0 & 0 & 1 & 0\\\\0 & 0 & 0 & 1\\end{smallmatrix}\\right]$$"
       ],
       "metadata": {},
       "output_type": "pyout",
       "png": "[encoded data removed]",
       "prompt_number": 7,
       "text": [
        "\u23a1c\u2082  -s\u2082  0  l\u2081\u23a4\n",
        "\u23a2              \u23a5\n",
        "\u23a2s\u2082  c\u2082   0  0 \u23a5\n",
        "\u23a2              \u23a5\n",
        "\u23a20    0   1  0 \u23a5\n",
        "\u23a2              \u23a5\n",
        "\u23a30    0   0  1 \u23a6"
       ]
      }
     ],
     "prompt_number": 7
    },
    {
     "cell_type": "code",
     "collapsed": false,
     "input": [
      "A23 = Matrix([[1, 0, 0, l_2],[0, 1, 0, 0],[0, 0, 1, 0],[0, 0, 0, 1]])"
     ],
     "language": "python",
     "metadata": {},
     "outputs": [],
     "prompt_number": 10
    },
    {
     "cell_type": "code",
     "collapsed": false,
     "input": [
      "A23"
     ],
     "language": "python",
     "metadata": {},
     "outputs": [
      {
       "latex": [
        "$$\\left[\\begin{smallmatrix}{}1 & 0 & 0 & l_{2}\\\\0 & 1 & 0 & 0\\\\0 & 0 & 1 & 0\\\\0 & 0 & 0 & 1\\end{smallmatrix}\\right]$$"
       ],
       "metadata": {},
       "output_type": "pyout",
       "png": "[encoded data removed]",
       "prompt_number": 11,
       "text": [
        "\u23a11  0  0  l\u2082\u23a4\n",
        "\u23a2           \u23a5\n",
        "\u23a20  1  0  0 \u23a5\n",
        "\u23a2           \u23a5\n",
        "\u23a20  0  1  0 \u23a5\n",
        "\u23a2           \u23a5\n",
        "\u23a30  0  0  1 \u23a6"
       ]
      }
     ],
     "prompt_number": 11
    },
    {
     "cell_type": "code",
     "collapsed": false,
     "input": [
      "A23*A12*A01"
     ],
     "language": "python",
     "metadata": {},
     "outputs": [
      {
       "latex": [
        "$$\\left[\\begin{smallmatrix}{}c_{1} c_{2} - s_{1} s_{2} & - c_{1} s_{2} - c_{2} s_{1} & 0 & l_{1} + l_{2}\\\\c_{1} s_{2} + c_{2} s_{1} & c_{1} c_{2} - s_{1} s_{2} & 0 & 0\\\\0 & 0 & 1 & 0\\\\0 & 0 & 0 & 1\\end{smallmatrix}\\right]$$"
       ],
       "metadata": {},
       "output_type": "pyout",
       "png": "[encoded data removed]",
       "prompt_number": 12,
       "text": [
        "\u23a1c\u2081\u22c5c\u2082 - s\u2081\u22c5s\u2082  -c\u2081\u22c5s\u2082 - c\u2082\u22c5s\u2081  0  l\u2081 + l\u2082\u23a4\n",
        "\u23a2                                         \u23a5\n",
        "\u23a2c\u2081\u22c5s\u2082 + c\u2082\u22c5s\u2081  c\u2081\u22c5c\u2082 - s\u2081\u22c5s\u2082   0     0   \u23a5\n",
        "\u23a2                                         \u23a5\n",
        "\u23a2      0              0         1     0   \u23a5\n",
        "\u23a2                                         \u23a5\n",
        "\u23a3      0              0         0     1   \u23a6"
       ]
      }
     ],
     "prompt_number": 12
    },
    {
     "cell_type": "code",
     "collapsed": false,
     "input": [
      "A01*A12*A23"
     ],
     "language": "python",
     "metadata": {},
     "outputs": [
      {
       "latex": [
        "$$\\left[\\begin{smallmatrix}{}c_{1} c_{2} - s_{1} s_{2} & - c_{1} s_{2} - c_{2} s_{1} & 0 & c_{1} l_{1} + l_{2} \\left(c_{1} c_{2} - s_{1} s_{2}\\right)\\\\c_{1} s_{2} + c_{2} s_{1} & c_{1} c_{2} - s_{1} s_{2} & 0 & l_{1} s_{1} + l_{2} \\left(c_{1} s_{2} + c_{2} s_{1}\\right)\\\\0 & 0 & 1 & 0\\\\0 & 0 & 0 & 1\\end{smallmatrix}\\right]$$"
       ],
       "metadata": {},
       "output_type": "pyout",
       "png": "[encoded data removed]",
       "prompt_number": 13,
       "text": [
        "\u23a1c\u2081\u22c5c\u2082 - s\u2081\u22c5s\u2082  -c\u2081\u22c5s\u2082 - c\u2082\u22c5s\u2081  0  c\u2081\u22c5l\u2081 + l\u2082\u22c5(c\u2081\u22c5c\u2082 - s\u2081\u22c5s\u2082)\u23a4\n",
        "\u23a2                                                            \u23a5\n",
        "\u23a2c\u2081\u22c5s\u2082 + c\u2082\u22c5s\u2081  c\u2081\u22c5c\u2082 - s\u2081\u22c5s\u2082   0  l\u2081\u22c5s\u2081 + l\u2082\u22c5(c\u2081\u22c5s\u2082 + c\u2082\u22c5s\u2081)\u23a5\n",
        "\u23a2                                                            \u23a5\n",
        "\u23a2      0              0         1              0             \u23a5\n",
        "\u23a2                                                            \u23a5\n",
        "\u23a3      0              0         0              1             \u23a6"
       ]
      }
     ],
     "prompt_number": 13
    },
    {
     "cell_type": "code",
     "collapsed": false,
     "input": [
      "A1 = Matrix([[c_1, -s_1, 0, 0],[0, 0, -1, -l_1],[s_1, c_1, 0, 0],[0, 0, 0, 1]])"
     ],
     "language": "python",
     "metadata": {},
     "outputs": [],
     "prompt_number": 4
    },
    {
     "cell_type": "code",
     "collapsed": false,
     "input": [
      "A2 =  Matrix([[c_2, -s_2, 0, l_2],[s_2, c_2, 0, 0],[0, 0, 1, 0],[0, 0, 0, 1]])"
     ],
     "language": "python",
     "metadata": {},
     "outputs": [],
     "prompt_number": 5
    },
    {
     "cell_type": "code",
     "collapsed": false,
     "input": [
      "A3 =  Matrix([[c_3, -s_3, 0, l_3],[s_3, c_3, 0, 0],[0, 0, 1, 0],[0, 0, 0, 1]])"
     ],
     "language": "python",
     "metadata": {},
     "outputs": [],
     "prompt_number": 6
    },
    {
     "cell_type": "code",
     "collapsed": false,
     "input": [
      "A4 =  Matrix([[c_4, -s_4, 0, l_4],[s_4, c_4, 0, 0],[0, 0, 1, 0],[0, 0, 0, 1]])"
     ],
     "language": "python",
     "metadata": {},
     "outputs": [],
     "prompt_number": 7
    },
    {
     "cell_type": "code",
     "collapsed": false,
     "input": [
      "A1*A2*A3*A4"
     ],
     "language": "python",
     "metadata": {},
     "outputs": [
      {
       "latex": [
        "$$\\left[\\begin{matrix}c_{4} \\left(c_{3} \\left(c_{1} c_{2} - s_{1} s_{2}\\right) + s_{3} \\left(- c_{1} s_{2} - c_{2} s_{1}\\right)\\right) + s_{4} \\left(c_{3} \\left(- c_{1} s_{2} - c_{2} s_{1}\\right) - s_{3} \\left(c_{1} c_{2} - s_{1} s_{2}\\right)\\right) & c_{4} \\left(c_{3} \\left(- c_{1} s_{2} - c_{2} s_{1}\\right) - s_{3} \\left(c_{1} c_{2} - s_{1} s_{2}\\right)\\right) - s_{4} \\left(c_{3} \\left(c_{1} c_{2} - s_{1} s_{2}\\right) + s_{3} \\left(- c_{1} s_{2} - c_{2} s_{1}\\right)\\right) & 0 & c_{1} l_{2} + l_{3} \\left(c_{1} c_{2} - s_{1} s_{2}\\right) + l_{4} \\left(c_{3} \\left(c_{1} c_{2} - s_{1} s_{2}\\right) + s_{3} \\left(- c_{1} s_{2} - c_{2} s_{1}\\right)\\right)\\\\0 & 0 & -1 & - l_{1}\\\\c_{4} \\left(c_{3} \\left(c_{1} s_{2} + c_{2} s_{1}\\right) + s_{3} \\left(c_{1} c_{2} - s_{1} s_{2}\\right)\\right) + s_{4} \\left(c_{3} \\left(c_{1} c_{2} - s_{1} s_{2}\\right) - s_{3} \\left(c_{1} s_{2} + c_{2} s_{1}\\right)\\right) & c_{4} \\left(c_{3} \\left(c_{1} c_{2} - s_{1} s_{2}\\right) - s_{3} \\left(c_{1} s_{2} + c_{2} s_{1}\\right)\\right) - s_{4} \\left(c_{3} \\left(c_{1} s_{2} + c_{2} s_{1}\\right) + s_{3} \\left(c_{1} c_{2} - s_{1} s_{2}\\right)\\right) & 0 & l_{2} s_{1} + l_{3} \\left(c_{1} s_{2} + c_{2} s_{1}\\right) + l_{4} \\left(c_{3} \\left(c_{1} s_{2} + c_{2} s_{1}\\right) + s_{3} \\left(c_{1} c_{2} - s_{1} s_{2}\\right)\\right)\\\\0 & 0 & 0 & 1\\end{matrix}\\right]$$"
       ],
       "metadata": {},
       "output_type": "pyout",
       "png": "[encoded data removed]",
       "prompt_number": 8,
       "text": [
        "\u23a1c\u2084\u22c5(c\u2083\u22c5(c\u2081\u22c5c\u2082 - s\u2081\u22c5s\u2082) + s\u2083\u22c5(-c\u2081\u22c5s\u2082 - c\u2082\u22c5s\u2081)) + s\u2084\u22c5(c\u2083\u22c5(-c\u2081\u22c5s\u2082 - c\u2082\u22c5s\u2081) - s\u2083\u22c5\n",
        "\u23a2                                                                             \n",
        "\u23a2                                              0                              \n",
        "\u23a2                                                                             \n",
        "\u23a2 c\u2084\u22c5(c\u2083\u22c5(c\u2081\u22c5s\u2082 + c\u2082\u22c5s\u2081) + s\u2083\u22c5(c\u2081\u22c5c\u2082 - s\u2081\u22c5s\u2082)) + s\u2084\u22c5(c\u2083\u22c5(c\u2081\u22c5c\u2082 - s\u2081\u22c5s\u2082) - s\u2083\u22c5(\n",
        "\u23a2                                                                             \n",
        "\u23a3                                              0                              \n",
        "\n",
        "(c\u2081\u22c5c\u2082 - s\u2081\u22c5s\u2082))  c\u2084\u22c5(c\u2083\u22c5(-c\u2081\u22c5s\u2082 - c\u2082\u22c5s\u2081) - s\u2083\u22c5(c\u2081\u22c5c\u2082 - s\u2081\u22c5s\u2082)) - s\u2084\u22c5(c\u2083\u22c5(c\u2081\u22c5c\n",
        "                                                                              \n",
        "                                                                0             \n",
        "                                                                              \n",
        "c\u2081\u22c5s\u2082 + c\u2082\u22c5s\u2081))    c\u2084\u22c5(c\u2083\u22c5(c\u2081\u22c5c\u2082 - s\u2081\u22c5s\u2082) - s\u2083\u22c5(c\u2081\u22c5s\u2082 + c\u2082\u22c5s\u2081)) - s\u2084\u22c5(c\u2083\u22c5(c\u2081\u22c5s\n",
        "                                                                              \n",
        "                                                                0             \n",
        "\n",
        "\u2082 - s\u2081\u22c5s\u2082) + s\u2083\u22c5(-c\u2081\u22c5s\u2082 - c\u2082\u22c5s\u2081))  0   c\u2081\u22c5l\u2082 + l\u2083\u22c5(c\u2081\u22c5c\u2082 - s\u2081\u22c5s\u2082) + l\u2084\u22c5(c\u2083\u22c5(c\u2081\n",
        "                                                                              \n",
        "                                   -1                                     -l\u2081 \n",
        "                                                                              \n",
        "\u2082 + c\u2082\u22c5s\u2081) + s\u2083\u22c5(c\u2081\u22c5c\u2082 - s\u2081\u22c5s\u2082))   0   l\u2082\u22c5s\u2081 + l\u2083\u22c5(c\u2081\u22c5s\u2082 + c\u2082\u22c5s\u2081) + l\u2084\u22c5(c\u2083\u22c5(c\u2081\n",
        "                                                                              \n",
        "                                   0                                       1  \n",
        "\n",
        "\u22c5c\u2082 - s\u2081\u22c5s\u2082) + s\u2083\u22c5(-c\u2081\u22c5s\u2082 - c\u2082\u22c5s\u2081))\u23a4\n",
        "                                   \u23a5\n",
        "                                   \u23a5\n",
        "                                   \u23a5\n",
        "\u22c5s\u2082 + c\u2082\u22c5s\u2081) + s\u2083\u22c5(c\u2081\u22c5c\u2082 - s\u2081\u22c5s\u2082)) \u23a5\n",
        "                                   \u23a5\n",
        "                                   \u23a6"
       ]
      }
     ],
     "prompt_number": 8
    },
    {
     "cell_type": "code",
     "collapsed": false,
     "input": [
      "def matrotz()"
     ],
     "language": "python",
     "metadata": {},
     "outputs": []
    }
   ],
   "metadata": {}
  }
 ]
}