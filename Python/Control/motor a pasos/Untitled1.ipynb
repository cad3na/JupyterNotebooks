{
 "cells": [
  {
   "cell_type": "code",
   "execution_count": 60,
   "metadata": {},
   "outputs": [],
   "source": [
    "from control import NonlinearIOSystem, input_output_response, InterconnectedSystem\n",
    "from numpy import linspace, matrix, arctan2\n",
    "\n",
    "from matplotlib.pyplot import figure, style\n",
    "from matplotlib import rcParams\n",
    "\n",
    "style.use(\"dark_background\")\n",
    "\n",
    "rcParams[\"figure.facecolor\"] = (43/256, 43/256, 43/256)\n",
    "rcParams[\"axes.facecolor\"] = (43/256, 43/256, 43/256)\n",
    "rcParams[\"legend.facecolor\"] = (43/256, 43/256, 43/256)\n",
    "rcParams[\"axes.grid\"] = True\n",
    "rcParams[\"lines.linewidth\"] = 2.5\n",
    "rcParams[\"grid.linewidth\"] = 0.5"
   ]
  },
  {
   "cell_type": "code",
   "execution_count": 146,
   "metadata": {},
   "outputs": [],
   "source": [
    "def embobinados(t, x, u, params):\n",
    "    n = params.get(\"n\", 200)\n",
    "    \n",
    "    m1, m2, m3, m4 = u\n",
    "    \n",
    "    ϕx = m1 - m2\n",
    "    ϕy = m3 - m4\n",
    "    \n",
    "    return [ϕx, ϕy]"
   ]
  },
  {
   "cell_type": "code",
   "execution_count": 150,
   "metadata": {},
   "outputs": [],
   "source": [
    "io_embobinados = NonlinearIOSystem(None, embobinados,\n",
    "                                   inputs=(\"m1\", \"m2\", \"m3\", \"m4\"),\n",
    "                                   outputs=(\"ϕx\", \"ϕy\"),\n",
    "                                   name=\"embobinado\")"
   ]
  },
  {
   "cell_type": "code",
   "execution_count": 151,
   "metadata": {},
   "outputs": [],
   "source": [
    "def angulo(t, x, u, params):\n",
    "    from numpy import arctan2, degrees\n",
    "    n = params.get(\"n\", 200)\n",
    "    \n",
    "    ϕx, ϕy = u\n",
    "    \n",
    "    ϕ = arctan2(ϕy, ϕx)\n",
    "    \n",
    "    return degrees(ϕ)"
   ]
  },
  {
   "cell_type": "code",
   "execution_count": 152,
   "metadata": {},
   "outputs": [],
   "source": [
    "io_angulo = NonlinearIOSystem(None, angulo,\n",
    "                              inputs=(\"ϕx\", \"ϕy\"), outputs=(\"ϕ\"), name=\"angulo\")"
   ]
  },
  {
   "cell_type": "code",
   "execution_count": 153,
   "metadata": {},
   "outputs": [],
   "source": [
    "secuencia = [[1,0,0,0],[1,0,1,0],[1,1,1,0],[0,1,1,0],\n",
    "             [0,1,1,1],[0,1,0,1],[0,0,0,1],[1,0,0,1]]\n",
    "\n",
    "def control(t, x, u, params):\n",
    "    δ = 0.1\n",
    "    n = t/δ\n",
    "    \n",
    "    señal_actual = secuencia[int(n%8)]\n",
    "    \n",
    "    return señal_actual"
   ]
  },
  {
   "cell_type": "code",
   "execution_count": 154,
   "metadata": {},
   "outputs": [],
   "source": [
    "io_control = NonlinearIOSystem(None, control, inputs=(\"u\"),\n",
    "                               outputs=(\"m1\", \"m2\", \"m3\", \"m4\"),\n",
    "                               name=\"control\")"
   ]
  },
  {
   "cell_type": "code",
   "execution_count": 158,
   "metadata": {},
   "outputs": [],
   "source": [
    "motor = InterconnectedSystem(syslist=(io_control, io_embobinados, io_angulo),\n",
    "                             connections=((\"angulo.ϕx\", \"embobinado.ϕx\"),\n",
    "                                          (\"angulo.ϕy\", \"embobinado.ϕy\"),\n",
    "                                          (\"embobinado.m1\", \"control.m1\"),\n",
    "                                          (\"embobinado.m2\", \"control.m2\"),\n",
    "                                          (\"embobinado.m3\", \"control.m3\"),\n",
    "                                          (\"embobinado.m4\", \"control.m4\")),\n",
    "                             inplist=(\"control.u\"),\n",
    "                             outlist=(\"angulo.ϕ\"))"
   ]
  },
  {
   "cell_type": "code",
   "execution_count": 159,
   "metadata": {},
   "outputs": [],
   "source": [
    "x0 = [1,0,0,0]\n",
    "ts = linspace(0, 1, 1000)"
   ]
  },
  {
   "cell_type": "code",
   "execution_count": 161,
   "metadata": {},
   "outputs": [],
   "source": [
    "t, y = input_output_response(sys=motor, T=ts, U=ts, X0=[0,0])"
   ]
  },
  {
   "cell_type": "code",
   "execution_count": 162,
   "metadata": {},
   "outputs": [
    {
     "data": {
      "text/plain": [
       "(0.0, 1.0)"
      ]
     },
     "execution_count": 162,
     "metadata": {},
     "output_type": "execute_result"
    },
    {
     "data": {
      "image/png": "[encoded data removed]",
      "text/plain": [
       "<Figure size 864x360 with 1 Axes>"
      ]
     },
     "metadata": {},
     "output_type": "display_data"
    }
   ],
   "source": [
    "#t = linspace(0, 1, 100)\n",
    "fig = figure(figsize=(12,5))\n",
    "ax = fig.gca()\n",
    "\n",
    "ax.plot(t, y, label=\"prueba\")\n",
    "#ax.plot(t,[0 for a in t], label=\"hola\")\n",
    "ax.legend()\n",
    "ax.set_xlim(min(t), max(t))"
   ]
  },
  {
   "cell_type": "code",
   "execution_count": null,
   "metadata": {},
   "outputs": [],
   "source": []
  }
 ],
 "metadata": {
  "kernelspec": {
   "display_name": "Python 3",
   "language": "python",
   "name": "python3"
  },
  "language_info": {
   "codemirror_mode": {
    "name": "ipython",
    "version": 3
   },
   "file_extension": ".py",
   "mimetype": "text/x-python",
   "name": "python",
   "nbconvert_exporter": "python",
   "pygments_lexer": "ipython3",
   "version": "3.7.5"
  }
 },
 "nbformat": 4,
 "nbformat_minor": 4
}
