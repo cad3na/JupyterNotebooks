{
 "cells": [
  {
   "cell_type": "code",
   "execution_count": 39,
   "metadata": {},
   "outputs": [],
   "source": [
    "from control import NonlinearIOSystem, input_output_response, InterconnectedSystem\n",
    "from numpy import linspace, matrix, arctan2, degrees\n",
    "\n",
    "from matplotlib.pyplot import figure, rcParams\n",
    "from conf_matplotlib import conf_matplotlib_oscuro\n",
    "conf_matplotlib_oscuro()"
   ]
  },
  {
   "cell_type": "code",
   "execution_count": 62,
   "metadata": {},
   "outputs": [],
   "source": [
    "def logic_ctl(t, x, u, params):\n",
    "    \n",
    "    n, te = u\n",
    "    \n",
    "    δt = 0.1\n",
    "    \n",
    "    N = int(t/δt)\n",
    "    \n",
    "    if n > N:\n",
    "        s, d = 1, 1\n",
    "    elif n < N:\n",
    "        s, d = 1, 0\n",
    "    else:\n",
    "        s, d = 0, 0\n",
    "    \n",
    "    return [s, d]\n",
    "\n",
    "def driver_state(t, x, u, params):\n",
    "    nom_sec = params.get(\"secuencia_pasos\", \"HSD\")\n",
    "    \n",
    "    if   nom_sec ==  \"WD\":\n",
    "        # Wave drive\n",
    "        lon_sec = 4\n",
    "        \n",
    "    elif nom_sec == \"FSD\":\n",
    "        # Full step drive\n",
    "        lon_sec = 4\n",
    "        \n",
    "    elif nom_sec == \"HSD\":\n",
    "        # Half step drive\n",
    "        lon_sec = 8\n",
    "    \n",
    "    s, d = u\n",
    "    n = x\n",
    "    \n",
    "    N = n + s*(-1)**(d+1)\n",
    "        \n",
    "    return int(N % lon_sec)\n",
    "    \n",
    "def driver_ctl(t, x, u, params):\n",
    "    nom_sec = params.get(\"secuencia_pasos\", \"HSD\")\n",
    "    \n",
    "    if   nom_sec ==  \"WD\":\n",
    "        # Wave drive\n",
    "        secuencia = [[1,0,0,0], [0,0,1,0], [0,1,0,0], [0,0,0,1]]\n",
    "        \n",
    "    elif nom_sec == \"FSD\":\n",
    "        # Full step drive\n",
    "        secuencia = [[1,0,1,0], [0,1,1,0], [0,1,0,1], [1,0,0,1]]\n",
    "        \n",
    "    elif nom_sec == \"HSD\":\n",
    "        # Half step drive\n",
    "        secuencia = [[1,0,0,0],[1,0,1,0],[1,1,1,0],[0,1,1,0],\n",
    "                     [0,1,1,1],[0,1,0,1],[0,0,0,1],[1,0,0,1]]\n",
    "        \n",
    "    #δ = 0.1\n",
    "    #n = t/δ\n",
    "    n = u\n",
    "    \n",
    "    m1, m2, m3, m4 = secuencia[int(n)%8]\n",
    "    \n",
    "    return [m1, m2, m3, m4]"
   ]
  },
  {
   "cell_type": "code",
   "execution_count": 63,
   "metadata": {},
   "outputs": [],
   "source": [
    "io_log_ctl = NonlinearIOSystem(None, logic_ctl,\n",
    "                               inputs=(\"n\", \"te\"),\n",
    "                               outputs=(\"s\", \"d\"),\n",
    "                               name=\"logic_ctl\")\n",
    "\n",
    "io_drv_state = NonlinearIOSystem(driver_state, None,\n",
    "                                 inputs=(\"s\", \"d\"),\n",
    "                                 outputs=(\"n\"),\n",
    "                                 states=(\"n\"),\n",
    "                                 name=\"driver_state\")\n",
    "\n",
    "io_drv_ctl = NonlinearIOSystem(None, driver_ctl,\n",
    "                               inputs=(\"n\"),\n",
    "                               outputs=(\"m1\", \"m2\", \"m3\", \"m4\"),\n",
    "                               name=\"driver_ctl\")"
   ]
  },
  {
   "cell_type": "code",
   "execution_count": 64,
   "metadata": {},
   "outputs": [],
   "source": [
    "driver = InterconnectedSystem(syslist=(io_log_ctl, io_drv_state, io_drv_ctl),\n",
    "                             connections=((\"driver_ctl.n\", \"driver_state.n\"),\n",
    "                                          (\"driver_state.s\", \"logic_ctl.s\"),\n",
    "                                          (\"driver_state.d\", \"logic_ctl.d\"), \n",
    "                                          (\"logic_ctl.n\", \"driver_state.n\")),\n",
    "                             inplist=(\"logic_ctl.te\"),\n",
    "                             outlist=(\"driver_ctl.m1\", \"driver_ctl.m2\", \"driver_ctl.m3\", \"driver_ctl.m4\", \"driver_state.n\"))"
   ]
  },
  {
   "cell_type": "code",
   "execution_count": 65,
   "metadata": {},
   "outputs": [],
   "source": [
    "ts = linspace(0, 1, 1000)"
   ]
  },
  {
   "cell_type": "code",
   "execution_count": 66,
   "metadata": {},
   "outputs": [],
   "source": [
    "t, y = input_output_response(sys=driver, T=ts, U=ts, X0=[0], params={\"secuencia_pasos\":\"HSD\"})"
   ]
  },
  {
   "cell_type": "code",
   "execution_count": 72,
   "metadata": {},
   "outputs": [
    {
     "data": {
      "image/png": "[encoded data removed]",
      "text/plain": [
       "<Figure size 1296x288 with 5 Axes>"
      ]
     },
     "metadata": {},
     "output_type": "display_data"
    }
   ],
   "source": [
    "fig = figure(figsize=(18,4))\n",
    "ax1, ax2, ax3, ax4, ax5 = fig.subplots(5, 1, sharex='all', gridspec_kw={'height_ratios': [4, 1, 1, 1, 1]})\n",
    "cycle = rcParams['axes.prop_cycle'].by_key()['color']\n",
    "\n",
    "ax1.plot(t, y[4], c=cycle[4], label=r\"n\")\n",
    "\n",
    "ax2.plot(t, y[0], c=cycle[0], label=r\"$m_1$\")\n",
    "ax3.plot(t, y[2], c=cycle[1], label=r\"$m_2$\")\n",
    "ax4.plot(t, y[1], c=cycle[2], label=r\"$m_3$\")\n",
    "ax5.plot(t, y[3], c=cycle[3], label=r\"$m_4$\")\n",
    "\n",
    "\n",
    "ax1.set_ylim(0, 8)\n",
    "ax2.set_ylim(0, 1)\n",
    "ax3.set_ylim(0, 1)\n",
    "ax4.set_ylim(0, 1)\n",
    "ax5.set_ylim(0, 1)\n",
    "ax5.set_xlim(min(t), max(t))\n",
    "fig.legend()\n",
    "fig.tight_layout();"
   ]
  },
  {
   "cell_type": "code",
   "execution_count": 17,
   "metadata": {},
   "outputs": [],
   "source": [
    "def driver_pot(t, x, u, params):\n",
    "    V = params.get(\"Vin\", 5)\n",
    "    \n",
    "    m1, m2, m3, m4 = u\n",
    "    \n",
    "    v1 = (m1 - m2)*V\n",
    "    v2 = (m3 - m4)*V\n",
    "    \n",
    "    return [v1, v2]\n",
    "\n",
    "def coil_elec(t, x, u, params):\n",
    "    L = params.get(\"L\", 0.0015)\n",
    "    R = params.get(\"R\", 0.55)\n",
    "    \n",
    "    v1, v2, e1, e2 = u\n",
    "    i1, i2 = x\n",
    "    \n",
    "    di1 = (v1 - e1 - R*i1)/L\n",
    "    di2 = (v2 - e2 - R*i2)/L\n",
    "    \n",
    "    return [di1, di2]\n",
    "\n",
    "def coil_torque(t, x, u, params):\n",
    "    from numpy import arctan2, sqrt, sin, cos, pi\n",
    "    Km = params.get(\"Km\", 0.19)\n",
    "    n_polos = params.get(\"n_polos\", 50)\n",
    "    R = params.get(\"R\", 0.55)\n",
    "    \n",
    "    i1, i2, e1, e2, θ = u\n",
    "    \n",
    "    τ1 = -Km*(i1 - e1/R)*sin(θ*n_polos)\n",
    "    τ2 =  Km*(i2 - e2/R)*cos(θ*n_polos)\n",
    "    \n",
    "    τ = τ1 + τ2\n",
    "    \n",
    "    return τ\n",
    "\n",
    "def motor_mech(t, x, u, params):\n",
    "    J = params.get(\"J\", 0.000045)\n",
    "    B = params.get(\"B\", 0.0008)\n",
    "    \n",
    "    τ = u\n",
    "    θ, ω = x\n",
    "    \n",
    "    dθ = ω\n",
    "    ddθ = (τ - B*ω)/J\n",
    "    \n",
    "    return [dθ, ddθ]\n",
    "\n",
    "def back_emf(t, x, u, params):\n",
    "    from numpy import arctan2, degrees, sqrt, sin, cos, radians, pi\n",
    "    Km = params.get(\"Km\", 0.19)\n",
    "    n_polos = params.get(\"n_polos\", 50)\n",
    "    \n",
    "    θ, ω, i1, i2 = u\n",
    "    \n",
    "    e1 = -Km*ω*sin(θ*n_polos)\n",
    "    e2 =  Km*ω*cos(θ*n_polos)\n",
    "    \n",
    "    return [e1, e2]"
   ]
  },
  {
   "cell_type": "code",
   "execution_count": 18,
   "metadata": {},
   "outputs": [],
   "source": [
    "io_drv_pot = NonlinearIOSystem(None, driver_pot,\n",
    "                               inputs=(\"m1\", \"m2\", \"m3\", \"m4\"),\n",
    "                               outputs=(\"v1\", \"v2\"),\n",
    "                               name=\"driver_pot\")\n",
    "\n",
    "io_coil_elec = NonlinearIOSystem(coil_elec, None,\n",
    "                                 inputs=(\"v1\", \"v2\", \"e1\", \"e2\"),\n",
    "                                 outputs=(\"i1\", \"i2\"),\n",
    "                                 states=(\"i1\", \"i2\"),\n",
    "                                 name=\"coil_elec\")\n",
    "\n",
    "io_coil_torque = NonlinearIOSystem(None, coil_torque,\n",
    "                                   inputs=(\"i1\", \"i2\", \"e1\", \"e2\", \"θ\"),\n",
    "                                   outputs=(\"τ\"),\n",
    "                                   name=\"coil_torque\")\n",
    "\n",
    "io_motor_mech = NonlinearIOSystem(motor_mech, None,\n",
    "                                  inputs=(\"τ\"),\n",
    "                                  outputs=(\"θ\", \"ω\"),\n",
    "                                  states=(\"θ\", \"ω\"),\n",
    "                                  name=\"motor_mech\")\n",
    "\n",
    "io_back_emf = NonlinearIOSystem(None, back_emf,\n",
    "                                inputs=(\"θ\", \"ω\", \"i1\", \"i2\"),\n",
    "                                outputs=(\"e1\", \"e2\"),\n",
    "                                name=\"back_emf\")"
   ]
  },
  {
   "cell_type": "code",
   "execution_count": 19,
   "metadata": {},
   "outputs": [],
   "source": [
    "motor = InterconnectedSystem(syslist=(io_drv_pot, io_coil_elec, io_coil_torque, io_motor_mech, io_back_emf),\n",
    "                             connections=((\"coil_elec.v1\", \"driver_pot.v1\"),  (\"coil_elec.v2\", \"driver_pot.v2\"),\n",
    "                                          (\"coil_torque.i1\", \"coil_elec.i1\"), (\"coil_torque.i2\", \"coil_elec.i2\"),\n",
    "                                          (\"coil_torque.θ\", \"motor_mech.θ\"),  (\"motor_mech.τ\", \"coil_torque.τ\"),\n",
    "                                          (\"back_emf.θ\", \"motor_mech.θ\"),     (\"back_emf.ω\", \"motor_mech.ω\"),\n",
    "                                          (\"back_emf.i1\", \"coil_elec.i1\"),    (\"back_emf.i2\", \"coil_elec.i2\"),\n",
    "                                          (\"coil_elec.e1\", \"back_emf.e1\"),    (\"coil_elec.e2\", \"back_emf.e2\"),\n",
    "                                          (\"coil_torque.e1\", \"back_emf.e1\"),  (\"coil_torque.e2\", \"back_emf.e2\")),\n",
    "                             inplist=(\"driver_pot.m1\", \"driver_pot.m2\", \"driver_pot.m3\", \"driver_pot.m4\"),\n",
    "                             outlist=(\"coil_elec.i1\", \"coil_elec.i2\", \"motor_mech.θ\", \"motor_mech.ω\", \"coil_torque.τ\"))"
   ]
  },
  {
   "cell_type": "code",
   "execution_count": 20,
   "metadata": {},
   "outputs": [],
   "source": [
    "ts = linspace(0, 1, 1000)"
   ]
  },
  {
   "cell_type": "code",
   "execution_count": 21,
   "metadata": {},
   "outputs": [],
   "source": [
    "t, y = input_output_response(sys=motor, T=ts, U=ts, X0=[0,0,0,0,0], params={\"secuencia_pasos\":\"HSD\"})"
   ]
  },
  {
   "cell_type": "code",
   "execution_count": 23,
   "metadata": {},
   "outputs": [
    {
     "data": {
      "image/png": "[encoded data removed]",
      "text/plain": [
       "<Figure size 1296x576 with 9 Axes>"
      ]
     },
     "metadata": {},
     "output_type": "display_data"
    }
   ],
   "source": [
    "fig = figure(figsize=(18,8))\n",
    "ax1, ax2, ax3, ax4, ax5, ax6, ax7, ax8, ax9 = fig.subplots(9, 1, sharex='all',\n",
    "                                                      gridspec_kw={'height_ratios': [1, 1, 1, 1, 2, 4, 8, 8, 8]})\n",
    "cycle = rcParams['axes.prop_cycle'].by_key()['color']\n",
    "\n",
    "ax1.plot(t, y[2], c=cycle[0], label=r\"$m_1$\")\n",
    "ax2.plot(t, y[4], c=cycle[1], label=r\"$m_2$\")\n",
    "ax3.plot(t, y[3], c=cycle[2], label=r\"$m_3$\")\n",
    "ax4.plot(t, y[5], c=cycle[3], label=r\"$m_4$\")\n",
    "\n",
    "ax5.plot(t, y[0], c=cycle[4], label=r\"$i_1$\")\n",
    "ax5.plot(t, y[1], c=cycle[5], label=r\"$i_2$\")\n",
    "\n",
    "ax6.plot(t, degrees(y[7]), c=cycle[6], label=r\"$\\omega$\")\n",
    "\n",
    "ax7.plot(t, y[8], c=cycle[7], label=r\"$\\tau$\")\n",
    "\n",
    "ax8.plot(t, degrees(y[6]), c=cycle[8], label=r\"$\\theta$\")\n",
    "ax9.plot(t, degrees(y[9]), c=cycle[9], label=r\"n\")\n",
    "\n",
    "ax1.set_ylim(0, 1)\n",
    "ax2.set_ylim(0, 1)\n",
    "ax3.set_ylim(0, 1)\n",
    "ax4.set_ylim(0, 1)\n",
    "ax7.set_xlim(min(t), max(t))\n",
    "fig.legend()\n",
    "fig.tight_layout();"
   ]
  },
  {
   "cell_type": "code",
   "execution_count": null,
   "metadata": {},
   "outputs": [],
   "source": []
  }
 ],
 "metadata": {
  "kernelspec": {
   "display_name": "Python 3",
   "language": "python",
   "name": "python3"
  },
  "language_info": {
   "codemirror_mode": {
    "name": "ipython",
    "version": 3
   },
   "file_extension": ".py",
   "mimetype": "text/x-python",
   "name": "python",
   "nbconvert_exporter": "python",
   "pygments_lexer": "ipython3",
   "version": "3.7.6"
  }
 },
 "nbformat": 4,
 "nbformat_minor": 4
}
