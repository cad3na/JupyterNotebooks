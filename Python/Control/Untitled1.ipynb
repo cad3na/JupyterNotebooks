{
 "cells": [
  {
   "cell_type": "code",
   "execution_count": 2,
   "metadata": {},
   "outputs": [],
   "source": [
    "from control import ss, place"
   ]
  },
  {
   "cell_type": "code",
   "execution_count": 3,
   "metadata": {},
   "outputs": [],
   "source": [
    "from numpy import matrix"
   ]
  },
  {
   "cell_type": "code",
   "execution_count": 4,
   "metadata": {},
   "outputs": [],
   "source": [
    "A = matrix([[0,1,0], [0, 0,1], [0, 2, 1]])\n",
    "B = matrix([[0], [0], [1]])\n",
    "C = matrix([[2, 1, 0]])\n",
    "D = matrix([[0]])"
   ]
  },
  {
   "cell_type": "code",
   "execution_count": 6,
   "metadata": {},
   "outputs": [],
   "source": [
    "sis1 = ss(A, B, C, D)"
   ]
  },
  {
   "cell_type": "code",
   "execution_count": 9,
   "metadata": {},
   "outputs": [
    {
     "data": {
      "text/plain": [
       "array([[20., 24., 13.]])"
      ]
     },
     "execution_count": 9,
     "metadata": {},
     "output_type": "execute_result"
    }
   ],
   "source": [
    "place(A, B, [-1+1j, -1-1j, -10])"
   ]
  },
  {
   "cell_type": "code",
   "execution_count": 8,
   "metadata": {},
   "outputs": [
    {
     "data": {
      "text/plain": [
       "\u001b[0;31mSignature:\u001b[0m \u001b[0mplace\u001b[0m\u001b[0;34m(\u001b[0m\u001b[0mA\u001b[0m\u001b[0;34m,\u001b[0m \u001b[0mB\u001b[0m\u001b[0;34m,\u001b[0m \u001b[0mp\u001b[0m\u001b[0;34m)\u001b[0m\u001b[0;34m\u001b[0m\u001b[0;34m\u001b[0m\u001b[0m\n",
       "\u001b[0;31mDocstring:\u001b[0m\n",
       "Place closed loop eigenvalues\n",
       "K = place(A, B, p)\n",
       "\n",
       "Parameters\n",
       "----------\n",
       "A : 2-d array\n",
       "    Dynamics matrix\n",
       "B : 2-d array\n",
       "    Input matrix\n",
       "p : 1-d list\n",
       "    Desired eigenvalue locations\n",
       "\n",
       "Returns\n",
       "-------\n",
       "K : 2-d array\n",
       "    Gain such that A - B K has eigenvalues given in p\n",
       "\n",
       "Algorithm\n",
       "---------\n",
       "This is a wrapper function for scipy.signal.place_poles, which\n",
       "implements the Tits and Yang algorithm [1]. It will handle SISO,\n",
       "MISO, and MIMO systems. If you want more control over the algorithm,\n",
       "use scipy.signal.place_poles directly.\n",
       "\n",
       "[1] A.L. Tits and Y. Yang, \"Globally convergent algorithms for robust\n",
       "pole assignment by state feedback, IEEE Transactions on Automatic\n",
       "Control, Vol. 41, pp. 1432-1452, 1996.\n",
       "\n",
       "Limitations\n",
       "-----------\n",
       "The algorithm will not place poles at the same location more\n",
       "than rank(B) times.\n",
       "\n",
       "Examples\n",
       "--------\n",
       ">>> A = [[-1, -1], [0, 1]]\n",
       ">>> B = [[0], [1]]\n",
       ">>> K = place(A, B, [-2, -5])\n",
       "\n",
       "See Also\n",
       "--------\n",
       "place_varga, acker\n",
       "\u001b[0;31mFile:\u001b[0m      ~/miniconda3/lib/python3.6/site-packages/control/statefbk.py\n",
       "\u001b[0;31mType:\u001b[0m      function\n"
      ]
     },
     "metadata": {},
     "output_type": "display_data"
    }
   ],
   "source": [
    "place?"
   ]
  },
  {
   "cell_type": "code",
   "execution_count": null,
   "metadata": {},
   "outputs": [],
   "source": []
  }
 ],
 "metadata": {
  "kernelspec": {
   "display_name": "Python 3",
   "language": "python",
   "name": "python3"
  },
  "language_info": {
   "codemirror_mode": {
    "name": "ipython",
    "version": 3
   },
   "file_extension": ".py",
   "mimetype": "text/x-python",
   "name": "python",
   "nbconvert_exporter": "python",
   "pygments_lexer": "ipython3",
   "version": "3.6.8"
  }
 },
 "nbformat": 4,
 "nbformat_minor": 2
}
