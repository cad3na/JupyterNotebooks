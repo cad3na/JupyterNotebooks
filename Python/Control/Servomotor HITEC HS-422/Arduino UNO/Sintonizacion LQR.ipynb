{
 "cells": [
  {
   "cell_type": "code",
   "execution_count": 100,
   "metadata": {},
   "outputs": [],
   "source": [
    "from numpy import matrix, linspace, array, interp\n",
    "from control import ss, lqr, tf, step_response\n",
    "from scipy.integrate import ode"
   ]
  },
  {
   "cell_type": "code",
   "execution_count": 101,
   "metadata": {},
   "outputs": [],
   "source": [
    "%matplotlib inline\n",
    "from matplotlib.pyplot import figure, style\n",
    "from matplotlib import rcParams\n",
    "\n",
    "style.use(\"seaborn\")\n",
    "params = {'text.latex.preamble' : r\"\\usepackage{cmbright}\",\n",
    "          'text.usetex' : True,\n",
    "          'font.family' : 'sans-serif',\n",
    "          'font.sans-serif' : ['Noto Sans'],\n",
    "          'font.size' : 20}\n",
    "rcParams.update(params)"
   ]
  },
  {
   "cell_type": "code",
   "execution_count": 102,
   "metadata": {},
   "outputs": [],
   "source": [
    "a, b = matrix([[11.95872562],[13.8443177]])"
   ]
  },
  {
   "cell_type": "code",
   "execution_count": 103,
   "metadata": {},
   "outputs": [],
   "source": [
    "A = matrix([[0, 1], [0, -a]])\n",
    "B = matrix([[0], [b]])\n",
    "C = matrix([[1, 0]])\n",
    "D = matrix([[0]])"
   ]
  },
  {
   "cell_type": "code",
   "execution_count": 104,
   "metadata": {},
   "outputs": [],
   "source": [
    "servo_HS = ss(A, B, C, D)"
   ]
  },
  {
   "cell_type": "code",
   "execution_count": 105,
   "metadata": {},
   "outputs": [
    {
     "data": {
      "text/plain": [
       "array([  0.        , -11.95872562])"
      ]
     },
     "execution_count": 105,
     "metadata": {},
     "output_type": "execute_result"
    }
   ],
   "source": [
    "servo_HS.pole()"
   ]
  },
  {
   "cell_type": "code",
   "execution_count": 106,
   "metadata": {},
   "outputs": [],
   "source": [
    "Q, R = matrix([[100, 0], [0, 10]]), matrix([[1]])\n",
    "K, S, E = lqr(servo_HS, Q, R)"
   ]
  },
  {
   "cell_type": "code",
   "execution_count": 107,
   "metadata": {},
   "outputs": [
    {
     "data": {
      "text/plain": [
       "array([[10.        ,  2.62773046]])"
      ]
     },
     "execution_count": 107,
     "metadata": {},
     "output_type": "execute_result"
    }
   ],
   "source": [
    "K"
   ]
  },
  {
   "cell_type": "code",
   "execution_count": 108,
   "metadata": {},
   "outputs": [
    {
     "data": {
      "text/plain": [
       "array([ -3.057464+0.j, -45.280396+0.j], dtype=complex64)"
      ]
     },
     "execution_count": 108,
     "metadata": {},
     "output_type": "execute_result"
    }
   ],
   "source": [
    "E"
   ]
  },
  {
   "cell_type": "code",
   "execution_count": 142,
   "metadata": {},
   "outputs": [],
   "source": [
    "def escalon(t, mag):\n",
    "    '''\n",
    "    Esta función toma un vector con el estado del sistema, el tiempo de simulación\n",
    "    y la magnitud del escalon a simular, y da como resultado el valor de la función\n",
    "    escalón en el tiempo requerido.\n",
    "    '''\n",
    "    if t <= 0:\n",
    "        y = 0\n",
    "    else:\n",
    "        y = mag\n",
    "    return y\n",
    "\n",
    "def motor_cd_simple(t, x, alg_control, a, b):\n",
    "    '''\n",
    "    Esta función toma un vector con el estado del sistema, el tiempo de simulación, \n",
    "    y nombre de función de entrada, y da como resultado la derivada del sistema,\n",
    "    calculada a partir de la dinámica simplificada de un motor de corriente directa y de\n",
    "    la señal de entrada del motor.\n",
    "    '''\n",
    "    y, ẏ = x\n",
    "    u = alg_control(t, x)\n",
    "    ÿ = b*u - a*ẏ\n",
    "    return [ẏ, ÿ]\n",
    "\n",
    "def control_pd(t, x, entrada, kp, kd):\n",
    "    p_sat = 255\n",
    "    e = entrada(t) - x[0]\n",
    "    ep = - x[1]\n",
    "    u = kp*e - kd*ep\n",
    "    return int(max(min(p_sat, u), -p_sat))"
   ]
  },
  {
   "cell_type": "code",
   "execution_count": 147,
   "metadata": {},
   "outputs": [],
   "source": [
    "s1 = lambda t: escalon(t, 127)\n",
    "control_HS422 = lambda t, x: control_pd(t, x, s1, K[0][0], K[0][1]*0.18)\n",
    "motor_HS422 = lambda t, x: motor_cd_simple(t, x, control_HS422, a, b)"
   ]
  },
  {
   "cell_type": "code",
   "execution_count": 148,
   "metadata": {},
   "outputs": [],
   "source": [
    "sis = ode(motor_HS422)\n",
    "sis.set_initial_value([0, 0])\n",
    "sis.set_integrator('vode', nsteps=500, method=\"bdf\");"
   ]
  },
  {
   "cell_type": "code",
   "execution_count": 149,
   "metadata": {},
   "outputs": [],
   "source": [
    "t_sim = linspace(0, 10, 1000)\n",
    "y_sim = [sis.integrate(t) for t in t_sim[1:]]\n",
    "y_sim.insert(0, [0, 0])"
   ]
  },
  {
   "cell_type": "code",
   "execution_count": 150,
   "metadata": {},
   "outputs": [
    {
     "data": {
      "image/png": "[encoded data removed]",
      "text/plain": [
       "<Figure size 1152x288 with 1 Axes>"
      ]
     },
     "metadata": {},
     "output_type": "display_data"
    }
   ],
   "source": [
    "fig = figure(figsize=(16, 4))\n",
    "ax = fig.gca()\n",
    "ax.plot(t_sim, array(y_sim).T[0]);"
   ]
  },
  {
   "cell_type": "code",
   "execution_count": 151,
   "metadata": {},
   "outputs": [],
   "source": [
    "def alg_control(xs, ts, kp, kd):\n",
    "    p_sat = 255\n",
    "    e = referencias(ts[-1]) - xs[-1]\n",
    "    ep = (xs[-1] - xs[-2])/(ts[-1] - ts[-2])\n",
    "    u = kp*e - kd*ep\n",
    "    return int(max(min(p_sat,u),-p_sat))\n",
    "\n",
    "def referencias(t):\n",
    "    from numpy import interp\n",
    "    if t >= 5:\n",
    "        return 127\n",
    "    else:\n",
    "        return 0"
   ]
  },
  {
   "cell_type": "code",
   "execution_count": 152,
   "metadata": {},
   "outputs": [],
   "source": [
    "from serial import Serial\n",
    "from time import time, sleep"
   ]
  },
  {
   "cell_type": "code",
   "execution_count": 153,
   "metadata": {},
   "outputs": [],
   "source": [
    "xs = [0]\n",
    "us = [0]\n",
    "ts = [0]\n",
    "\n",
    "with Serial(\"/dev/cu.usbserial-A603QGMH\", baudrate=2000000) as puerto_arduino:\n",
    "    while ts[-1] < 15:\n",
    "        #puerto_arduino.reset_input_buffer()\n",
    "        try:\n",
    "            lec = int.from_bytes(puerto_arduino.read(6), byteorder='little')\n",
    "            xs.append(int(lec/(2**32))/4)\n",
    "            ts.append(int(lec%(2**32))*0.000001)\n",
    "        except KeyboardInterrupt:\n",
    "            break\n",
    "        \n",
    "        if len(xs) > 1:\n",
    "            us.append(alg_control(xs[-2:], ts[-2:], K[0][0], K[0][1]*0.18))\n",
    "        else:\n",
    "            us.append(0)\n",
    "            \n",
    "        if us[-1] > 0:\n",
    "            puerto_arduino.write(bytes([0, us[-1]]))\n",
    "        else:\n",
    "            puerto_arduino.write(bytes([1, abs(us[-1])]))\n",
    "            \n",
    "    puerto_arduino.write(bytes([0, 0]))"
   ]
  },
  {
   "cell_type": "code",
   "execution_count": 154,
   "metadata": {},
   "outputs": [],
   "source": [
    "t_exp = []\n",
    "q_exp = []\n",
    "u_exp = []\n",
    "for i, t in enumerate(ts):\n",
    "    if t > 5:\n",
    "        t_exp.append(ts[i])\n",
    "        q_exp.append(xs[i])\n",
    "        u_exp.append(us[i])"
   ]
  },
  {
   "cell_type": "code",
   "execution_count": 155,
   "metadata": {},
   "outputs": [],
   "source": [
    "t_interp = linspace(5, 15, 1000)\n",
    "q_interp = array([interp(t, t_exp, q_exp) for t in t_interp])\n",
    "u_interp = array([interp(t, t_exp, u_exp) for t in t_interp])"
   ]
  },
  {
   "cell_type": "code",
   "execution_count": 156,
   "metadata": {},
   "outputs": [],
   "source": [
    "t_desf = t_interp - 5"
   ]
  },
  {
   "cell_type": "code",
   "execution_count": 157,
   "metadata": {},
   "outputs": [
    {
     "data": {
      "image/png": "[encoded data removed]",
      "text/plain": [
       "<Figure size 1440x720 with 1 Axes>"
      ]
     },
     "metadata": {},
     "output_type": "display_data"
    }
   ],
   "source": [
    "fig = figure(figsize=(20, 10))\n",
    "ax = fig.gca()\n",
    "ax.plot(t_sim, array(y_sim).T[0])\n",
    "ax.plot(t_desf, q_interp);"
   ]
  },
  {
   "cell_type": "code",
   "execution_count": null,
   "metadata": {},
   "outputs": [],
   "source": []
  }
 ],
 "metadata": {
  "kernelspec": {
   "display_name": "Python 3",
   "language": "python",
   "name": "python3"
  },
  "language_info": {
   "codemirror_mode": {
    "name": "ipython",
    "version": 3
   },
   "file_extension": ".py",
   "mimetype": "text/x-python",
   "name": "python",
   "nbconvert_exporter": "python",
   "pygments_lexer": "ipython3",
   "version": "3.6.7"
  }
 },
 "nbformat": 4,
 "nbformat_minor": 2
}
