{
 "cells": [
  {
   "cell_type": "markdown",
   "metadata": {},
   "source": [
    "Dado un dircuito con un voltaje $E(t)$ y una inductancia de $L$, la primera ley de Kirchoff que lo modela es:\n",
    "\n",
    "$$\n",
    "E = L \\frac{di}{dt} + Ri\n",
    "$$\n",
    "\n",
    "donde $i$ es la corriente en Amperes y $R$ la resistencia en Ohms. La siguiente tabla presenta los valores experimentales de $i$ correspondientes a varios tiempos $t$ dados en segundos. Si la inductancia $L$ es constante e igual a $0.97H$ y la resistencia es igual a $0.14\\Omega$, aproxime el voltaje $E$ en los valores de $t$ dados en la tabla:\n",
    "\n",
    "$t$ | $0.95$ | $0.96$ | $0.97$ | $0.98$ | $0.99$ | $1.00$ |\n",
    "----|--------|--------|--------|--------|--------|--------|\n",
    "$i$ | $0.90$ | $1.92$ | $2.54$ | $2.88$ | $3.04$ | $3.10$ |\n"
   ]
  },
  {
   "cell_type": "code",
   "execution_count": 5,
   "metadata": {},
   "outputs": [],
   "source": [
    "from numpy import linspace, array"
   ]
  },
  {
   "cell_type": "code",
   "execution_count": 4,
   "metadata": {},
   "outputs": [],
   "source": [
    "t = linspace(0.95, 1.0, 6)"
   ]
  },
  {
   "cell_type": "code",
   "execution_count": 6,
   "metadata": {},
   "outputs": [],
   "source": [
    "i = array([0.90, 1.92, 2.54, 2.88, 3.04, 3.10])"
   ]
  },
  {
   "cell_type": "code",
   "execution_count": 8,
   "metadata": {},
   "outputs": [],
   "source": [
    "def deriv_adelante(xs, ys, t):\n",
    "    return (ys[t+1] - ys[t])/(xs[t+1] - xs[t])"
   ]
  },
  {
   "cell_type": "code",
   "execution_count": 9,
   "metadata": {},
   "outputs": [],
   "source": [
    "def deriv_atras(xs, ys, t):\n",
    "    return (ys[t] - ys[t-1])/(xs[t] - xs[t-1])"
   ]
  },
  {
   "cell_type": "code",
   "execution_count": 13,
   "metadata": {},
   "outputs": [],
   "source": [
    "di = []\n",
    "for n in range(len(i)-1):\n",
    "    di.append(deriv_adelante(t, i, n))"
   ]
  },
  {
   "cell_type": "code",
   "execution_count": 15,
   "metadata": {},
   "outputs": [],
   "source": [
    "di.append(deriv_atras(t, i, -1))"
   ]
  },
  {
   "cell_type": "code",
   "execution_count": 17,
   "metadata": {},
   "outputs": [],
   "source": [
    "di = array(di)"
   ]
  },
  {
   "cell_type": "code",
   "execution_count": 18,
   "metadata": {},
   "outputs": [
    {
     "data": {
      "text/plain": [
       "array([ 102.,   62.,   34.,   16.,    6.,    6.])"
      ]
     },
     "execution_count": 18,
     "metadata": {},
     "output_type": "execute_result"
    }
   ],
   "source": [
    "di"
   ]
  },
  {
   "cell_type": "code",
   "execution_count": 19,
   "metadata": {},
   "outputs": [],
   "source": [
    "L = 0.97\n",
    "R = 0.14"
   ]
  },
  {
   "cell_type": "code",
   "execution_count": 21,
   "metadata": {},
   "outputs": [],
   "source": [
    "E = []\n",
    "for n in range(len(i)):\n",
    "    E.append(L*di[n] + R*i[n])"
   ]
  },
  {
   "cell_type": "code",
   "execution_count": 22,
   "metadata": {},
   "outputs": [
    {
     "data": {
      "text/plain": [
       "[99.065999999999917,\n",
       " 60.408799999999957,\n",
       " 33.335599999999957,\n",
       " 15.9232,\n",
       " 6.2456000000000005,\n",
       " 6.2540000000000004]"
      ]
     },
     "execution_count": 22,
     "metadata": {},
     "output_type": "execute_result"
    }
   ],
   "source": [
    "E"
   ]
  },
  {
   "cell_type": "code",
   "execution_count": 23,
   "metadata": {},
   "outputs": [],
   "source": [
    "from matplotlib.pyplot import figure\n",
    "%matplotlib inline"
   ]
  },
  {
   "cell_type": "code",
   "execution_count": 35,
   "metadata": {},
   "outputs": [
    {
     "data": {
      "text/plain": [
       "<matplotlib.legend.Legend at 0x11c909cc0>"
      ]
     },
     "execution_count": 35,
     "metadata": {},
     "output_type": "execute_result"
    },
    {
     "data": {
      "image/png": "[encoded data removed]",
      "text/plain": [
       "<matplotlib.figure.Figure at 0x11bbb8c18>"
      ]
     },
     "metadata": {},
     "output_type": "display_data"
    }
   ],
   "source": [
    "fig = figure(figsize=(15,5))\n",
    "ax1 = fig.add_subplot(1,2,1)\n",
    "ax2 = fig.add_subplot(1,2,2)\n",
    "p1, = ax1.plot(t, i)\n",
    "p2, = ax2.plot(t, E)\n",
    "ax1.legend([p1], [r\"$i$\"])\n",
    "ax2.legend([p2], [r\"$E$\"])"
   ]
  }
 ],
 "metadata": {
  "kernelspec": {
   "display_name": "Python 3",
   "language": "python",
   "name": "python3"
  },
  "language_info": {
   "codemirror_mode": {
    "name": "ipython",
    "version": 3
   },
   "file_extension": ".py",
   "mimetype": "text/x-python",
   "name": "python",
   "nbconvert_exporter": "python",
   "pygments_lexer": "ipython3",
   "version": "3.6.3"
  }
 },
 "nbformat": 4,
 "nbformat_minor": 2
}
