{
 "cells": [
  {
   "cell_type": "code",
   "execution_count": 28,
   "metadata": {},
   "outputs": [],
   "source": [
    "import mido\n",
    "mido.set_backend('mido.backends.rtmidi')\n",
    "\n",
    "outport = mido.open_output(\"Launchpad Mini\")"
   ]
  },
  {
   "cell_type": "code",
   "execution_count": 39,
   "metadata": {},
   "outputs": [],
   "source": [
    "# Colores\n",
    "APA = 12\n",
    "rojo = 13\n",
    "ROJO = 15\n",
    "ambar = 29\n",
    "AMBAR = 63\n",
    "amari = 62\n",
    "verde = 28\n",
    "VERDE = 60\n",
    "# Flash\n",
    "froj = 11\n",
    "famb = 59\n",
    "fama = 58\n",
    "fver = 56"
   ]
  },
  {
   "cell_type": "code",
   "execution_count": 40,
   "metadata": {},
   "outputs": [
    {
     "name": "stdout",
     "output_type": "stream",
     "text": [
      "[144, 83, 127] [144, 83, 59]\n",
      "[144, 83, 0] [144, 83, 12]\n",
      "[144, 67, 127] [144, 67, 59]\n",
      "[144, 67, 0] [144, 67, 12]\n",
      "[144, 51, 127] [144, 51, 59]\n",
      "[144, 51, 0] [144, 51, 12]\n",
      "[144, 35, 127] [144, 35, 59]\n",
      "[144, 35, 0] [144, 35, 12]\n",
      "[144, 19, 127] [144, 19, 59]\n",
      "[144, 19, 0] [144, 19, 12]\n",
      "[144, 3, 127] [144, 3, 59]\n",
      "[144, 3, 0] [144, 3, 12]\n",
      "[144, 4, 127] [144, 4, 59]\n",
      "[144, 4, 0] [144, 4, 12]\n",
      "[144, 20, 127] [144, 20, 59]\n",
      "[144, 20, 0] [144, 20, 12]\n",
      "[144, 36, 127] [144, 36, 59]\n",
      "[144, 36, 0] [144, 36, 12]\n",
      "[144, 52, 127] [144, 52, 59]\n",
      "[144, 52, 0] [144, 52, 12]\n"
     ]
    }
   ],
   "source": [
    "with mido.open_input(\"Launchpad Mini\")as inport:\n",
    "\n",
    "    enc = 127\n",
    "    apa = 0\n",
    "    msg_reboot = mido.Message.from_bytes([0xB0, 0x00, 0x00])\n",
    "    outport.send(msg_reboot)\n",
    "\n",
    "    for i in range(20):\n",
    "        msg = inport.receive()\n",
    "        if msg.bytes()[2] is enc:\n",
    "            msg_on = mido.Message.from_bytes([144, msg.note, famb])\n",
    "            outport.send(msg_on)\n",
    "            print(msg.bytes(), msg_on.bytes())\n",
    "        if msg.bytes()[2] is apa:\n",
    "            msg_off = mido.Message.from_bytes([144, msg.note, 12])\n",
    "            outport.send(msg_off)\n",
    "            print(msg.bytes(), msg_off.bytes())"
   ]
  },
  {
   "cell_type": "code",
   "execution_count": null,
   "metadata": {},
   "outputs": [],
   "source": []
  }
 ],
 "metadata": {
  "kernelspec": {
   "display_name": "Python [default]",
   "language": "python",
   "name": "python3"
  },
  "language_info": {
   "codemirror_mode": {
    "name": "ipython",
    "version": 3
   },
   "file_extension": ".py",
   "mimetype": "text/x-python",
   "name": "python",
   "nbconvert_exporter": "python",
   "pygments_lexer": "ipython3",
   "version": "3.5.4"
  }
 },
 "nbformat": 4,
 "nbformat_minor": 2
}
