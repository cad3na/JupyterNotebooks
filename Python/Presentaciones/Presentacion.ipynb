{
 "cells": [
  {
   "cell_type": "code",
   "execution_count": 1,
   "metadata": {
    "slideshow": {
     "slide_type": "skip"
    }
   },
   "outputs": [],
   "source": [
    "from numpy import linspace, sin, cos, pi\n",
    "from numpy import array, concatenate, where, interp"
   ]
  },
  {
   "cell_type": "code",
   "execution_count": 2,
   "metadata": {
    "slideshow": {
     "slide_type": "skip"
    }
   },
   "outputs": [],
   "source": [
    "from scipy.signal import hilbert"
   ]
  },
  {
   "cell_type": "code",
   "execution_count": 3,
   "metadata": {
    "slideshow": {
     "slide_type": "skip"
    }
   },
   "outputs": [],
   "source": [
    "from ipywidgets import interact"
   ]
  },
  {
   "cell_type": "markdown",
   "metadata": {
    "slideshow": {
     "slide_type": "slide"
    }
   },
   "source": [
    "# Secuencia de rango"
   ]
  },
  {
   "cell_type": "markdown",
   "metadata": {
    "slideshow": {
     "slide_type": "fragment"
    }
   },
   "source": [
    "* Determinación de orbita"
   ]
  },
  {
   "cell_type": "markdown",
   "metadata": {
    "slideshow": {
     "slide_type": "notes"
    }
   },
   "source": [
    "La secuencia de rango tiene como objetivo principal la medición de la distancia del centro de control, necesaria para la **determinación de orbita**."
   ]
  },
  {
   "cell_type": "markdown",
   "metadata": {
    "slideshow": {
     "slide_type": "slide"
    }
   },
   "source": [
    "# Parametros del sistema"
   ]
  },
  {
   "cell_type": "markdown",
   "metadata": {
    "slideshow": {
     "slide_type": "fragment"
    }
   },
   "source": [
    "$$\n",
    "\\omega_M = 27777.78\n",
    "$$"
   ]
  },
  {
   "cell_type": "markdown",
   "metadata": {
    "slideshow": {
     "slide_type": "fragment"
    }
   },
   "source": [
    "$$\n",
    "\\begin{align}\n",
    "\\omega_1 &= 22222.2 \\\\\n",
    "\\omega_2 &= 23333.33 \\\\\n",
    "\\omega_3 &= 22444.44 \\\\\n",
    "\\omega_4 &= 22266.67 \\\\\n",
    "\\omega_5 &= 22231.11 \\\\\n",
    "\\omega_6 &= 22224.00\n",
    "\\end{align}\n",
    "$$"
   ]
  },
  {
   "cell_type": "markdown",
   "metadata": {
    "slideshow": {
     "slide_type": "notes"
    }
   },
   "source": [
    "El sistema de rango utiliza una secuencia de tipo ESA Like, compuesta de 1 tono mayor y 6 tonos menores, los cuales se encuentran entre los $22 KHz$ y $28 KHz$."
   ]
  },
  {
   "cell_type": "markdown",
   "metadata": {
    "slideshow": {
     "slide_type": "subslide"
    }
   },
   "source": [
    "![](./diagrams/range_sequence.png)"
   ]
  },
  {
   "cell_type": "markdown",
   "metadata": {
    "slideshow": {
     "slide_type": "notes"
    }
   },
   "source": [
    "* En primer lugar se recibe una petición para medición de rango y se genera una señal con el tono mayor por $T_a$\n",
    "* En segundo, se añade un tono menor a la señal de mayor para crear el tono virtual necesario por $T$ segundos\n",
    "* En tercero, se tomo un tiempo $IT$ de a lo menos 250ms para la medición del desfasamiento del tono virtual\n",
    "* Se repite este proceso para el resto de los tonos menores\n",
    "* Despues de lo cual, se queda el tono mayor solamente por $T_s$ segundos\n",
    "* Y se procede a tomar $10$ mediciones, una cada $250ms$"
   ]
  },
  {
   "cell_type": "code",
   "execution_count": 4,
   "metadata": {
    "slideshow": {
     "slide_type": "subslide"
    }
   },
   "outputs": [],
   "source": [
    "ωm = 27777.78\n",
    "ωs = [22222.22, 23333.33, 22444.44, 22266.67, 22231.11, 22224.00]"
   ]
  },
  {
   "cell_type": "code",
   "execution_count": 5,
   "metadata": {
    "slideshow": {
     "slide_type": "skip"
    }
   },
   "outputs": [],
   "source": [
    "Ta = Ts = 2\n",
    "T = IT = 2\n",
    "\n",
    "T0 = 0\n",
    "Tf = Ta + 6*(T + IT) + Ts + 10*0.25\n",
    "\n",
    "δt = 0.000005\n",
    "n = int(Tf/δt) + 1\n",
    "\n",
    "ts = linspace(T0, Tf+1, n)\n",
    "\n",
    "tm = linspace(T0, Ta - δt, int(Ta/δt))\n",
    "t1 = linspace(Ta + 0*(T + IT), Ta + 1*(T + IT) - δt, int((T + IT)/δt))\n",
    "t2 = linspace(Ta + 1*(T + IT), Ta + 2*(T + IT) - δt, int((T + IT)/δt))\n",
    "t3 = linspace(Ta + 2*(T + IT), Ta + 3*(T + IT) - δt, int((T + IT)/δt))\n",
    "t4 = linspace(Ta + 3*(T + IT), Ta + 4*(T + IT) - δt, int((T + IT)/δt))\n",
    "t5 = linspace(Ta + 4*(T + IT), Ta + 5*(T + IT) - δt, int((T + IT)/δt))\n",
    "t6 = linspace(Ta + 5*(T + IT), Ta + 6*(T + IT) - δt, int((T + IT)/δt))\n",
    "tw = linspace(Ta + 6*(T + IT), Ta + 6*(T + IT) + Ts - δt, int(Ts/δt))\n",
    "tmeas = linspace(Ta + 6*(T + IT) + Ts, Tf, int(10*0.25/δt))\n",
    "tsil = linspace(Tf, Tf + 1, int(1/δt) + 1)"
   ]
  },
  {
   "cell_type": "code",
   "execution_count": 6,
   "metadata": {
    "slideshow": {
     "slide_type": "skip"
    }
   },
   "outputs": [],
   "source": [
    "maj_ton = lambda ts: sin(2*pi*ωm*ts)\n",
    "tone1   = lambda ts: sin(2*pi*ωs[0]*ts)\n",
    "tone2   = lambda ts: sin(2*pi*ωs[1]*ts)\n",
    "tone3   = lambda ts: sin(2*pi*ωs[2]*ts)\n",
    "tone4   = lambda ts: sin(2*pi*ωs[3]*ts)\n",
    "tone5   = lambda ts: sin(2*pi*ωs[4]*ts)\n",
    "tone6   = lambda ts: sin(2*pi*ωs[5]*ts)\n",
    "\n",
    "sm = maj_ton(tm)\n",
    "s1 = maj_ton(t1) + tone1(t1)\n",
    "s2 = tone1(t2) + tone2(t2)\n",
    "s3 = tone1(t3) + tone3(t3)\n",
    "s4 = tone1(t4) + tone4(t4)\n",
    "s5 = tone1(t5) + tone5(t5)\n",
    "s6 = tone1(t6) + tone6(t6)\n",
    "sw = maj_ton(tw)\n",
    "smeas = maj_ton(tmeas)\n",
    "ssil = array([0 for t in tsil])"
   ]
  },
  {
   "cell_type": "code",
   "execution_count": 7,
   "metadata": {
    "slideshow": {
     "slide_type": "skip"
    }
   },
   "outputs": [],
   "source": [
    "from matplotlib.pyplot import figure, rcParams, subplot2grid\n",
    "from conf_matplotlib import conf_matplotlib_claro\n",
    "conf_matplotlib_claro()\n",
    "\n",
    "cycle = rcParams['axes.prop_cycle'].by_key()['color']\n",
    "colores = [tuple(int(h.lstrip('#')[i:i+2], 16) for i in (0, 2, 4)) for h in cycle]"
   ]
  },
  {
   "cell_type": "code",
   "execution_count": null,
   "metadata": {
    "slideshow": {
     "slide_type": "skip"
    }
   },
   "outputs": [],
   "source": [
    "fig = figure(figsize=(18,9))\n",
    "axm, ax1, ax2, ax3, ax4, ax5, ax6, axw, axmeas = fig.subplots(9, 1, gridspec_kw={'height_ratios': [1,1,1,1,1,1,1,1,1]})\n",
    "\n",
    "axm.plot(tm, sm, c=cycle[0], label=r\"Major tone\")\n",
    "ax1.plot(t1, s1, c=cycle[1], label=r\"Minor tone 1\")\n",
    "ax2.plot(t2, s2, c=cycle[2], label=r\"Minor tone 2\")\n",
    "ax3.plot(t3, s3, c=cycle[3], label=r\"Minor tone 3\")\n",
    "ax4.plot(t4, s4, c=cycle[4], label=r\"Minor tone 4\")\n",
    "ax5.plot(t5, s5, c=cycle[5], label=r\"Minor tone 5\")\n",
    "ax6.plot(t6, s6, c=cycle[6], label=r\"Minor tone 6\")\n",
    "axw.plot(tw, sw, c=cycle[0], label=r\"Wait time\")\n",
    "axmeas.plot(tmeas, smeas, c=cycle[0], label=r\"Measurement time\")\n",
    "\n",
    "axm.set_xlim(tm[0], tm[0] + 0.001)\n",
    "ax1.set_xlim(t1[0], t1[0] + 0.001)\n",
    "ax2.set_xlim(t2[0], t2[0] + 0.001)\n",
    "ax3.set_xlim(t3[0], t3[0] + 0.001)\n",
    "ax4.set_xlim(t4[0], t4[0] + 0.001)\n",
    "ax5.set_xlim(t5[0], t5[0] + 0.001)\n",
    "ax6.set_xlim(t6[0], t6[0] + 0.001)\n",
    "axw.set_xlim(tw[0], tw[0] + 0.001)\n",
    "axmeas.set_xlim(tmeas[0], tmeas[0] + 0.001)\n",
    "\n",
    "fig.legend()\n",
    "fig.tight_layout();\n",
    "fig.savefig(\"muestras-sec-rango.svg\")"
   ]
  },
  {
   "cell_type": "markdown",
   "metadata": {
    "slideshow": {
     "slide_type": "notes"
    }
   },
   "source": [
    "Estos tonos son enviados de acuerdo a la "
   ]
  },
  {
   "cell_type": "markdown",
   "metadata": {
    "slideshow": {
     "slide_type": "slide"
    }
   },
   "source": [
    "![](./muestras-sec-rango.svg)"
   ]
  },
  {
   "cell_type": "code",
   "execution_count": 9,
   "metadata": {
    "slideshow": {
     "slide_type": "skip"
    }
   },
   "outputs": [],
   "source": [
    "ts = concatenate([tm, t1, t2, t3, t4, t5, t6, tw, tmeas, tsil])\n",
    "ss = concatenate([sm, s1, s2, s3, s4, s5, s6, sw, smeas, ssil])"
   ]
  },
  {
   "cell_type": "markdown",
   "metadata": {
    "slideshow": {
     "slide_type": "slide"
    }
   },
   "source": [
    "## Efectos internos"
   ]
  },
  {
   "cell_type": "markdown",
   "metadata": {
    "slideshow": {
     "slide_type": "fragment"
    }
   },
   "source": [
    "* Retraso en equipo de tierra"
   ]
  },
  {
   "cell_type": "markdown",
   "metadata": {
    "slideshow": {
     "slide_type": "fragment"
    }
   },
   "source": [
    "* Amplificación en nave"
   ]
  },
  {
   "cell_type": "markdown",
   "metadata": {
    "slideshow": {
     "slide_type": "slide"
    }
   },
   "source": [
    "## Efectos externos"
   ]
  },
  {
   "cell_type": "markdown",
   "metadata": {
    "slideshow": {
     "slide_type": "fragment"
    }
   },
   "source": [
    "* Distancia del centro de control al satelite"
   ]
  },
  {
   "cell_type": "code",
   "execution_count": 10,
   "metadata": {
    "slideshow": {
     "slide_type": "fragment"
    }
   },
   "outputs": [
    {
     "data": {
      "text/plain": [
       "0.24336937789142113"
      ]
     },
     "execution_count": 10,
     "metadata": {},
     "output_type": "execute_result"
    }
   ],
   "source": [
    "from scipy.constants import c\n",
    "\n",
    "distancia_ant_sat = 36.480152e6\n",
    "delay = 2*distancia_ant_sat/c\n",
    "delay"
   ]
  },
  {
   "cell_type": "markdown",
   "metadata": {
    "slideshow": {
     "slide_type": "fragment"
    }
   },
   "source": [
    "* Efectos de atenuación por fenomenos atmosféricos"
   ]
  },
  {
   "cell_type": "code",
   "execution_count": 11,
   "metadata": {
    "slideshow": {
     "slide_type": "skip"
    }
   },
   "outputs": [],
   "source": [
    "top = concatenate([array([0, ts[0] - δt]), array([t + delay for t in ts])])\n",
    "sop = concatenate([array([0, 0]), ss])\n",
    "\n",
    "to = ts\n",
    "so = array([interp(t, top, sop) for t in to])"
   ]
  },
  {
   "cell_type": "markdown",
   "metadata": {
    "slideshow": {
     "slide_type": "slide"
    }
   },
   "source": [
    "## Tonos virtuales"
   ]
  },
  {
   "cell_type": "code",
   "execution_count": 12,
   "metadata": {
    "slideshow": {
     "slide_type": "skip"
    }
   },
   "outputs": [],
   "source": [
    "hss = abs(hilbert(ss))\n",
    "hso = abs(hilbert(so))"
   ]
  },
  {
   "cell_type": "code",
   "execution_count": 75,
   "metadata": {
    "slideshow": {
     "slide_type": "skip"
    }
   },
   "outputs": [],
   "source": [
    "def tono1_virtual(α = 1):\n",
    "    fig = figure(figsize=(18,4))\n",
    "    ax = fig.gca()\n",
    "    ax.plot(ts, ss, lw=2, c=cycle[0], alpha=α)\n",
    "    ax.plot(ts, hss, \"--\", lw=2, c=cycle[0], alpha=1-α)\n",
    "    ax.plot(to, so, lw=2, c=cycle[1], alpha=α)\n",
    "    ax.plot(to, hso, \"--\", lw=2, c=cycle[1], alpha=1-α)\n",
    "    ax.set_xlim(t1[0] + 0.25, t1[0] + 0.25 + 2/ωsv[0]);"
   ]
  },
  {
   "cell_type": "code",
   "execution_count": 76,
   "metadata": {
    "slideshow": {
     "slide_type": "fragment"
    }
   },
   "outputs": [
    {
     "data": {
      "application/vnd.jupyter.widget-view+json": {
       "model_id": "c37d91987b2a4eaf9ecd5d0c8832690b",
       "version_major": 2,
       "version_minor": 0
      },
      "text/plain": [
       "interactive(children=(FloatSlider(value=1.0, description='α', max=1.0, step=0.01), Output()), _dom_classes=('w…"
      ]
     },
     "metadata": {},
     "output_type": "display_data"
    }
   ],
   "source": [
    "interact(tono1_virtual, α=(0, 1, 0.01));"
   ]
  },
  {
   "cell_type": "code",
   "execution_count": 19,
   "metadata": {
    "slideshow": {
     "slide_type": "fragment"
    }
   },
   "outputs": [],
   "source": [
    "ωsv = [5555.56, 1111.11, 222.22, 44.44, 8.89, 1.78]"
   ]
  },
  {
   "cell_type": "code",
   "execution_count": 25,
   "metadata": {
    "slideshow": {
     "slide_type": "skip"
    }
   },
   "outputs": [],
   "source": [
    "def grafica_liss_sen(periodo=\"Minor tone 1\"):\n",
    "    from numpy import arcsin, degrees\n",
    "    \n",
    "    options = {\"Major tone\": tm,\n",
    "               \"Minor tone 1\": t1,\n",
    "               \"Minor tone 2\": t2,\n",
    "               \"Minor tone 3\": t3,\n",
    "               \"Minor tone 4\": t4,\n",
    "               \"Minor tone 5\": t5,\n",
    "               \"Minor tone 6\": t6,\n",
    "               \"Waiting time\": tw,\n",
    "               \"Measurement time\": tmeas}\n",
    "    \n",
    "    tspans  = {\"Major tone\": 1.2/ωm,\n",
    "               \"Minor tone 1\": 1.2/ωsv[0],\n",
    "               \"Minor tone 2\": 1.2/ωsv[1],\n",
    "               \"Minor tone 3\": 1.2/ωsv[2],\n",
    "               \"Minor tone 4\": 1.2/ωsv[3],\n",
    "               \"Minor tone 5\": 1.2/ωsv[4],\n",
    "               \"Minor tone 6\": 1.2/ωsv[5],\n",
    "               \"Waiting time\": 1.2/ωm,\n",
    "               \"Measurement time\": 1.2/ωm}\n",
    "    \n",
    "    per = options[periodo]\n",
    "    Δt = tspans[periodo]\n",
    "    \n",
    "    t0 = per[0] + 0.25\n",
    "    tf = t0 + Δt\n",
    "    ind_ini = where(ts <= t0)[0][-1]\n",
    "    ind_fin = where(ts <= tf)[0][-1]\n",
    "\n",
    "    fig = figure(figsize=(20, 5))\n",
    "    ax1 = subplot2grid((1,4), (0,0))\n",
    "    ax2 = subplot2grid((1,4), (0,1), colspan=3)\n",
    "    \n",
    "    if periodo[0:5] == \"Minor\":\n",
    "        ind_cur1 = where(hss == max(hss[ind_ini:ind_fin]))[0][0]\n",
    "        ind_cur2 = where(hso == max(hso[ind_ini:ind_fin]))[0][0]\n",
    "        t_cur1 = ts[ind_cur1]\n",
    "        t_cur2 = ts[ind_cur2]\n",
    "        \n",
    "        ax1.plot(hss[ind_ini:ind_fin], hso[ind_ini:ind_fin], lw=2, c=cycle[3])\n",
    "        ax1.plot(hss[ind_cur1], hso[ind_cur1], \"o\", c=cycle[2])\n",
    "        ax1.plot(hss[ind_cur2], hso[ind_cur2], \"o\", c=cycle[4])\n",
    "        \n",
    "        ax2.plot(ts, ss, lw=2, c=cycle[0], alpha=0.3)\n",
    "        ax2.plot(ts, hss, \"--\", lw=2, c=cycle[0])\n",
    "        ax2.plot(to, so, lw=2, c=cycle[1], alpha=0.3)\n",
    "        ax2.plot(to, hso, \"--\", lw=2, c=cycle[1])\n",
    "    else:\n",
    "        ind_cur1 = where(ss == max(ss[ind_ini:ind_fin]))[0][0]\n",
    "        ind_cur2 = where(so == max(so[ind_ini:ind_fin]))[0][0]\n",
    "        t_cur1 = ts[ind_cur1]\n",
    "        t_cur2 = ts[ind_cur2]\n",
    "        \n",
    "        ax1.plot(ss[ind_ini:ind_fin], so[ind_ini:ind_fin], lw=2, c=cycle[3])\n",
    "        ax1.plot(ss[ind_cur1], so[ind_cur1], \"o\", c=cycle[2])\n",
    "        ax1.plot(ss[ind_cur2], so[ind_cur2], \"o\", c=cycle[4])\n",
    "        \n",
    "        ax2.plot(ts, ss, lw=2, c=cycle[0])\n",
    "        ax2.plot(to, so, lw=2, c=cycle[1])\n",
    "        \n",
    "    ax2.axvline(x=t_cur1, lw=2, c=cycle[2])\n",
    "    ax2.axvline(x=t_cur2, lw=2, c=cycle[4])\n",
    "\n",
    "    ax2.set_xlim(t0, tf);\n",
    "    ϕt = t_cur2 - t_cur1\n",
    "    #print(f\"T = {(T + Δt/2.4)%(Δt/2.4)}\")\n",
    "    print(f\"T = {ϕt}\")"
   ]
  },
  {
   "cell_type": "code",
   "execution_count": 26,
   "metadata": {
    "slideshow": {
     "slide_type": "skip"
    }
   },
   "outputs": [],
   "source": [
    "options = [\"Major tone\",\n",
    "           \"Minor tone 1\",\n",
    "           \"Minor tone 2\",\n",
    "           \"Minor tone 3\",\n",
    "           \"Minor tone 4\",\n",
    "           \"Minor tone 5\",\n",
    "           \"Minor tone 6\",\n",
    "           \"Waiting time\",\n",
    "           \"Measurement time\"]"
   ]
  },
  {
   "cell_type": "code",
   "execution_count": 27,
   "metadata": {
    "scrolled": false,
    "slideshow": {
     "slide_type": "slide"
    }
   },
   "outputs": [
    {
     "data": {
      "application/vnd.jupyter.widget-view+json": {
       "model_id": "83fab2c1f9b84aac97b164458f9e1210",
       "version_major": 2,
       "version_minor": 0
      },
      "text/plain": [
       "interactive(children=(Dropdown(description='periodo', index=1, options=('Major tone', 'Minor tone 1', 'Minor t…"
      ]
     },
     "metadata": {},
     "output_type": "display_data"
    }
   ],
   "source": [
    "interact(grafica_liss_sen, periodo=options);"
   ]
  },
  {
   "cell_type": "code",
   "execution_count": 28,
   "metadata": {
    "slideshow": {
     "slide_type": "skip"
    }
   },
   "outputs": [],
   "source": [
    "def desfasamientos(t0, tf, ω):\n",
    "    ind_ini = where(ts <= t0)[0][-1]\n",
    "    ind_fin = where(ts <= tf)[0][-1]\n",
    "    \n",
    "    ind_cur1 = where(hss == max(hss[ind_ini:ind_fin]))[0][0]\n",
    "    ind_cur2 = where(hso == max(hso[ind_ini:ind_fin]))[0][0]\n",
    "    \n",
    "    t_cur1 = ts[ind_cur1]\n",
    "    t_cur2 = ts[ind_cur2]\n",
    "    \n",
    "    ϕt = t_cur2 - t_cur1\n",
    "    \n",
    "    return ϕt\n",
    "\n",
    "t0s = [t1[0]+0.25, t2[0]+0.25, t3[0]+0.25, t4[0]+0.25, t5[0]+0.25, t6[0]+0.25]\n",
    "tfs = [t + (1.2/ω)*5 for t, ω in zip(*[t0s, ωsv])]\n",
    "\n",
    "ϕts = [desfasamientos(t0, tf, ω) for t0, tf, ω in zip(*[t0s, tfs, ωsv])]"
   ]
  },
  {
   "cell_type": "code",
   "execution_count": 29,
   "metadata": {
    "slideshow": {
     "slide_type": "skip"
    }
   },
   "outputs": [
    {
     "data": {
      "text/plain": [
       "[1.0000012500288591e-05,\n",
       " 0.0003700004625004638,\n",
       " 0.00036500045625054156,\n",
       " -0.0940851176065447,\n",
       " 0.018370022962557186,\n",
       " 0.24337030421326133]"
      ]
     },
     "execution_count": 29,
     "metadata": {},
     "output_type": "execute_result"
    }
   ],
   "source": [
    "ϕts"
   ]
  },
  {
   "cell_type": "code",
   "execution_count": 30,
   "metadata": {
    "slideshow": {
     "slide_type": "skip"
    }
   },
   "outputs": [
    {
     "data": {
      "text/plain": [
       "[0.0001799998560001152,\n",
       " 0.0009000009000009001,\n",
       " 0.004500045000450005,\n",
       " 0.022502250225022502,\n",
       " 0.11248593925759279,\n",
       " 0.5617977528089888]"
      ]
     },
     "execution_count": 30,
     "metadata": {},
     "output_type": "execute_result"
    }
   ],
   "source": [
    "Tvs = [1/ω for ω in ωsv]\n",
    "Tvs"
   ]
  },
  {
   "cell_type": "code",
   "execution_count": 31,
   "metadata": {
    "slideshow": {
     "slide_type": "skip"
    }
   },
   "outputs": [
    {
     "data": {
      "text/plain": [
       "[1.0000012500288591e-05,\n",
       " 0.0003700004625004638,\n",
       " 0.00036500045625054156,\n",
       " 0.01842613351856781,\n",
       " 0.018370022962557186,\n",
       " 0.24337030421326133]"
      ]
     },
     "execution_count": 31,
     "metadata": {},
     "output_type": "execute_result"
    }
   ],
   "source": [
    "delays = [ϕ%t for ϕ, t in zip(*[ϕts, Tvs])]\n",
    "delays"
   ]
  },
  {
   "cell_type": "code",
   "execution_count": 32,
   "metadata": {
    "slideshow": {
     "slide_type": "skip"
    }
   },
   "outputs": [],
   "source": [
    "distancias = [delay*c for delay in delays]"
   ]
  },
  {
   "cell_type": "code",
   "execution_count": 33,
   "metadata": {
    "slideshow": {
     "slide_type": "skip"
    }
   },
   "outputs": [
    {
     "data": {
      "text/plain": [
       "[2997.9283274922423,\n",
       " 110923.34811415087,\n",
       " 109424.38395047133,\n",
       " 5524015.858967633,\n",
       " 5507194.337461461,\n",
       " 72960581.70430137]"
      ]
     },
     "execution_count": 33,
     "metadata": {},
     "output_type": "execute_result"
    }
   ],
   "source": [
    "distancias"
   ]
  },
  {
   "cell_type": "code",
   "execution_count": 65,
   "metadata": {
    "slideshow": {
     "slide_type": "skip"
    }
   },
   "outputs": [
    {
     "data": {
      "text/plain": [
       "1391"
      ]
     },
     "execution_count": 65,
     "metadata": {},
     "output_type": "execute_result"
    }
   ],
   "source": [
    "dis1 = [distancias[0]]\n",
    "i = 0\n",
    "while(dis1[-1] < 75e6):\n",
    "    dis1.append(dis1[-1] + Tvs[0]*c)\n",
    "    \n",
    "len(dis1)"
   ]
  },
  {
   "cell_type": "code",
   "execution_count": 66,
   "metadata": {
    "slideshow": {
     "slide_type": "skip"
    }
   },
   "outputs": [
    {
     "data": {
      "text/plain": [
       "279"
      ]
     },
     "execution_count": 66,
     "metadata": {},
     "output_type": "execute_result"
    }
   ],
   "source": [
    "dis2 = [distancias[1]]\n",
    "i = 0\n",
    "while(dis2[-1] < 75e6):\n",
    "    dis2.append(dis2[-1] + Tvs[1]*c)\n",
    "    \n",
    "len(dis2)"
   ]
  },
  {
   "cell_type": "code",
   "execution_count": 67,
   "metadata": {
    "slideshow": {
     "slide_type": "skip"
    }
   },
   "outputs": [
    {
     "data": {
      "text/plain": [
       "57"
      ]
     },
     "execution_count": 67,
     "metadata": {},
     "output_type": "execute_result"
    }
   ],
   "source": [
    "dis3 = [distancias[2]]\n",
    "i = 0\n",
    "while(dis3[-1] < 75e6):\n",
    "    dis3.append(dis3[-1] + Tvs[2]*c)\n",
    "    \n",
    "len(dis3)"
   ]
  },
  {
   "cell_type": "code",
   "execution_count": 68,
   "metadata": {
    "slideshow": {
     "slide_type": "skip"
    }
   },
   "outputs": [
    {
     "data": {
      "text/plain": [
       "12"
      ]
     },
     "execution_count": 68,
     "metadata": {},
     "output_type": "execute_result"
    }
   ],
   "source": [
    "dis4 = [distancias[3]]\n",
    "i = 0\n",
    "while(dis4[-1] < 75e6):\n",
    "    dis4.append(dis4[-1] + Tvs[3]*c)\n",
    "    \n",
    "len(dis4)"
   ]
  },
  {
   "cell_type": "code",
   "execution_count": 69,
   "metadata": {
    "slideshow": {
     "slide_type": "skip"
    }
   },
   "outputs": [
    {
     "data": {
      "text/plain": [
       "4"
      ]
     },
     "execution_count": 69,
     "metadata": {},
     "output_type": "execute_result"
    }
   ],
   "source": [
    "dis5 = [distancias[4]]\n",
    "i = 0\n",
    "while(dis5[-1] < 75e6):\n",
    "    dis5.append(dis5[-1] + Tvs[4]*c)\n",
    "    \n",
    "len(dis5)"
   ]
  },
  {
   "cell_type": "code",
   "execution_count": 70,
   "metadata": {
    "slideshow": {
     "slide_type": "skip"
    }
   },
   "outputs": [
    {
     "data": {
      "text/plain": [
       "2"
      ]
     },
     "execution_count": 70,
     "metadata": {},
     "output_type": "execute_result"
    }
   ],
   "source": [
    "dis6 = [distancias[5]]\n",
    "i = 0\n",
    "while(dis6[-1] < 75e6):\n",
    "    dis6.append(dis6[-1] + Tvs[5]*c)\n",
    "    \n",
    "len(dis6)"
   ]
  },
  {
   "cell_type": "code",
   "execution_count": 71,
   "metadata": {
    "slideshow": {
     "slide_type": "skip"
    }
   },
   "outputs": [],
   "source": [
    "def graficar_dist(ax, μ, v, color, α):\n",
    "    from numpy import sqrt, linspace\n",
    "    from scipy.stats import norm\n",
    "    σ = sqrt(v)\n",
    "    x = linspace(μ - 3*σ, μ + 3*σ, 100)\n",
    "    ax.plot(x, norm.pdf(x, μ, σ), lw=2, color=color, alpha=α)"
   ]
  },
  {
   "cell_type": "code",
   "execution_count": 72,
   "metadata": {
    "slideshow": {
     "slide_type": "skip"
    }
   },
   "outputs": [],
   "source": [
    "def graficar_mediciones(zoom=\"Completo\"):\n",
    "    fig = figure(figsize=(15,5))\n",
    "    ax = fig.gca()\n",
    "    ax.ticklabel_format(style=\"plain\")\n",
    "\n",
    "    plts1 = [graficar_dist(ax, dis, Tvs[0]*c*32, cycle[0], 0.5) for dis in dis1]\n",
    "    plts2 = [graficar_dist(ax, dis, Tvs[1]*c*16, cycle[1], 0.6) for dis in dis2]\n",
    "    plts3 = [graficar_dist(ax, dis,  Tvs[2]*c*8, cycle[2], 0.7) for dis in dis3]\n",
    "    plts4 = [graficar_dist(ax, dis,  Tvs[3]*c*4, cycle[3], 0.8) for dis in dis4]\n",
    "    plts5 = [graficar_dist(ax, dis,  Tvs[4]*c*2, cycle[4], 0.9) for dis in dis5]\n",
    "    plts6 = [graficar_dist(ax, dis,    Tvs[5]*c, cycle[5], 1.0) for dis in dis6]\n",
    "\n",
    "    ax.set_ylim(0,0.00032)\n",
    "    ax.axvline(x=distancia_ant_sat*2, lw=1, c=cycle[6]);\n",
    "    \n",
    "    if zoom == \"Completo\":\n",
    "        ax.set_xlim(0, 75e6)\n",
    "    if zoom == \"Acercamiento\":\n",
    "        ax.set_xlim(70e6, 74e6)\n",
    "    if zoom == \"Zona de interes\":\n",
    "        ax.set_xlim(72.9e6, 73.02e6)"
   ]
  },
  {
   "cell_type": "code",
   "execution_count": 73,
   "metadata": {
    "slideshow": {
     "slide_type": "slide"
    }
   },
   "outputs": [
    {
     "data": {
      "application/vnd.jupyter.widget-view+json": {
       "model_id": "d52709077fdc4a49afb972868760aafb",
       "version_major": 2,
       "version_minor": 0
      },
      "text/plain": [
       "interactive(children=(Dropdown(description='zoom', options=('Completo', 'Acercamiento', 'Zona de interes'), va…"
      ]
     },
     "metadata": {},
     "output_type": "display_data"
    },
    {
     "data": {
      "text/plain": [
       "<function __main__.graficar_mediciones(zoom='Completo')>"
      ]
     },
     "execution_count": 73,
     "metadata": {},
     "output_type": "execute_result"
    }
   ],
   "source": [
    "interact(graficar_mediciones, zoom=[\"Completo\", \"Acercamiento\", \"Zona de interes\"])"
   ]
  },
  {
   "cell_type": "markdown",
   "metadata": {
    "slideshow": {
     "slide_type": "slide"
    }
   },
   "source": [
    "![](./diagrams/rng_screen.png)"
   ]
  },
  {
   "cell_type": "markdown",
   "metadata": {
    "slideshow": {
     "slide_type": "subslide"
    }
   },
   "source": [
    "```\n",
    "SIGNATURE:     Epoch Track File\n",
    "DESCRIPTION:   Raw Range Measurement File\n",
    "FILE TYPE:     TRACKING\n",
    "PATH:          /home/epochtc/output/mx3/ranging/rng_data/mx3_IZ3_202002252030.trk\n",
    "\n",
    "SPACECRAFT:    mx3\n",
    "STATION:       IZ3\n",
    "PHASE TYPE:    LAG\n",
    "TIME UNITS:    YmdHMs3\n",
    "\n",
    "#TONE TYPE       : ESA-Like Standard\n",
    "#RANGING TYPE    : Beacon Telemetry\n",
    "#GND CAL FILENAME: /home/epochtc/output/mx3/ranging/gnd_cal/izm3tbbu1_rf_string1.cal\n",
    "#RANGE SEED      : 0.000000 km\n",
    "#BASEBAND        : izm3tbbu1\n",
    "\n",
    "\n",
    "CALIBRATION:   IZ3\n",
    "\n",
    "2020/02/25 20:30:36.000 RANGE     0.000000 KILOMETERS\n",
    "# Set ground cal to zero. Correction in range values.\n",
    "\n",
    "\n",
    "TRACKING DATA:\n",
    "\n",
    "#Corrected Tracking Data:\n",
    "2020/02/25 20:30:45.134  RANGE 36461.051414 KILOMETERS\n",
    "2020/02/25 20:30:45.384  RANGE 36461.051264 KILOMETERS\n",
    "2020/02/25 20:30:45.634  RANGE 36461.051714 KILOMETERS\n",
    "2020/02/25 20:30:45.884  RANGE 36461.051714 KILOMETERS\n",
    "2020/02/25 20:30:46.134  RANGE 36461.051864 KILOMETERS\n",
    "2020/02/25 20:30:46.384  RANGE 36461.052463 KILOMETERS\n",
    "2020/02/25 20:30:46.634  RANGE 36461.052463 KILOMETERS\n",
    "2020/02/25 20:30:46.884  RANGE 36461.052014 KILOMETERS\n",
    "2020/02/25 20:30:47.134  RANGE 36461.052164 KILOMETERS\n",
    "2020/02/25 20:30:47.384  RANGE 36461.051864 KILOMETERS\n",
    "#Quality Factor         :        +100.000000\n",
    "#Baseband Raw Time Meas :  +121684688.100000 ns,      +36480.151746 km (one-way average)\n",
    "#RAW_GND_CAL            :      +63710.250701 ns,         +19.099853 km (one-way average delay subtracted from baseband raw meas)\n",
    "#Fully Corrected Range  :  +121620977.849299 ns,      +36461.051894 km (one-way average)\n",
    "#Baseband Timetag       : 2020/02/25 20:30:45.134 (1582662645 sec 134000 usec)\n",
    "\n",
    "2020/02/25 20:30:57.258  RANGE 36461.051564 KILOMETERS\n",
    "2020/02/25 20:30:57.508  RANGE 36461.051714 KILOMETERS\n",
    "2020/02/25 20:30:57.758  RANGE 36461.052613 KILOMETERS\n",
    "2020/02/25 20:30:58.008  RANGE 36461.052463 KILOMETERS\n",
    "2020/02/25 20:30:58.258  RANGE 36461.052164 KILOMETERS\n",
    "2020/02/25 20:30:58.508  RANGE 36461.051564 KILOMETERS\n",
    "2020/02/25 20:30:58.758  RANGE 36461.052463 KILOMETERS\n",
    "2020/02/25 20:30:59.008  RANGE 36461.052164 KILOMETERS\n",
    "2020/02/25 20:30:59.258  RANGE 36461.052314 KILOMETERS\n",
    "2020/02/25 20:30:59.508  RANGE 36461.052763 KILOMETERS\n",
    "#Quality Factor         :        +100.000000\n",
    "#Baseband Raw Time Meas :  +121684689.050000 ns,      +36480.152031 km (one-way average)\n",
    "#RAW_GND_CAL            :      +63710.250701 ns,         +19.099853 km (one-way average delay subtracted from baseband raw meas)\n",
    "#Fully Corrected Range  :  +121620978.799299 ns,      +36461.052179 km (one-way average)\n",
    "#Baseband Timetag       : 2020/02/25 20:30:57.258 (1582662657 sec 258000 usec)\n",
    "\n",
    "```"
   ]
  },
  {
   "cell_type": "markdown",
   "metadata": {
    "slideshow": {
     "slide_type": "slide"
    }
   },
   "source": [
    "## Equipo (salida) \n",
    "### Configuración actual"
   ]
  },
  {
   "cell_type": "markdown",
   "metadata": {
    "slideshow": {
     "slide_type": "fragment"
    }
   },
   "source": [
    "* izopsfep1"
   ]
  },
  {
   "cell_type": "markdown",
   "metadata": {
    "slideshow": {
     "slide_type": "fragment"
    }
   },
   "source": [
    "* BBU1 [BBU2]"
   ]
  },
  {
   "cell_type": "markdown",
   "metadata": {
    "slideshow": {
     "slide_type": "fragment"
    }
   },
   "source": [
    "* UC1 [UCR]"
   ]
  },
  {
   "cell_type": "markdown",
   "metadata": {
    "slideshow": {
     "slide_type": "fragment"
    }
   },
   "source": [
    "* HPA1 [HPAR]"
   ]
  },
  {
   "cell_type": "markdown",
   "metadata": {
    "slideshow": {
     "slide_type": "fragment"
    }
   },
   "source": [
    "* Antenna Feeder"
   ]
  },
  {
   "cell_type": "markdown",
   "metadata": {
    "slideshow": {
     "slide_type": "slide"
    }
   },
   "source": [
    "## Equipo (entrada)\n",
    "### Configuración actual"
   ]
  },
  {
   "cell_type": "markdown",
   "metadata": {
    "slideshow": {
     "slide_type": "fragment"
    }
   },
   "source": [
    "* Antenna Feeder"
   ]
  },
  {
   "cell_type": "markdown",
   "metadata": {
    "slideshow": {
     "slide_type": "fragment"
    }
   },
   "source": [
    "* [LNA1] LNA2 [LNA3]"
   ]
  },
  {
   "cell_type": "markdown",
   "metadata": {
    "slideshow": {
     "slide_type": "fragment"
    }
   },
   "source": [
    "* DC1\n",
    "* DCR"
   ]
  },
  {
   "cell_type": "markdown",
   "metadata": {
    "slideshow": {
     "slide_type": "fragment"
    }
   },
   "source": [
    "* BBU1\n",
    "* BBU2"
   ]
  },
  {
   "cell_type": "code",
   "execution_count": null,
   "metadata": {
    "slideshow": {
     "slide_type": "skip"
    }
   },
   "outputs": [],
   "source": [
    "%%file diagrams/diagrama_mx3\n",
    "blockdiag {\n",
    "    A [label = \"izopsfep1\"];\n",
    "    B [label = \"BBU1\"];\n",
    "    C [label = \"UC1\"];\n",
    "    D [label = \"HPA1\"];\n",
    "    E [label = \"Antenna Feeder\"];\n",
    "    F [label = \"Spacecraft\"];\n",
    "    \n",
    "    I [label = \"LNA2\"];\n",
    "    J [label = \"DC1\"];\n",
    "    K [label = \"DCR\"];\n",
    "\n",
    "    B -> C;\n",
    "    C -> D;\n",
    "    D -> E;\n",
    "    E -> F [dir = \"both\"];\n",
    "    \n",
    "    A -> B [dir = \"both\"];\n",
    "    B -> J [dir = \"back\"];\n",
    "    B -> K [dir = \"back\"];\n",
    "    J -> I [dir = \"back\"];\n",
    "    K -> I [dir = \"back\"];\n",
    "    I -> E [dir = \"back\"];\n",
    "    \n",
    "}"
   ]
  },
  {
   "cell_type": "code",
   "execution_count": null,
   "metadata": {
    "slideshow": {
     "slide_type": "skip"
    }
   },
   "outputs": [],
   "source": [
    "!blockdiag --size=2000x1200 diagrams/diagrama_mx3"
   ]
  },
  {
   "cell_type": "markdown",
   "metadata": {
    "slideshow": {
     "slide_type": "slide"
    }
   },
   "source": [
    "### En conclusión"
   ]
  },
  {
   "cell_type": "markdown",
   "metadata": {
    "slideshow": {
     "slide_type": "fragment"
    }
   },
   "source": [
    "![](./diagrams/diagrama_mx3.png)"
   ]
  }
 ],
 "metadata": {
  "celltoolbar": "Slideshow",
  "kernelspec": {
   "display_name": "Python 3",
   "language": "python",
   "name": "python3"
  },
  "language_info": {
   "codemirror_mode": {
    "name": "ipython",
    "version": 3
   },
   "file_extension": ".py",
   "mimetype": "text/x-python",
   "name": "python",
   "nbconvert_exporter": "python",
   "pygments_lexer": "ipython3",
   "version": "3.7.6"
  },
  "rise": {
   "reveal_shortcuts": {
    "chalkboard": {
     "clear": "alt-k"
    },
    "main": {
     "toggleOverview": "tab"
    }
   }
  }
 },
 "nbformat": 4,
 "nbformat_minor": 4
}
