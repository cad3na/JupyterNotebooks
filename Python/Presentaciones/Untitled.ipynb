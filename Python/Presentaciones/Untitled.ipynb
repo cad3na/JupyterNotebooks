{
 "cells": [
  {
   "cell_type": "code",
   "execution_count": 1,
   "metadata": {},
   "outputs": [],
   "source": [
    "from numpy import matrix, abs, sqrt, linspace, array\n",
    "from scipy.constants import G\n",
    "\n",
    "from matplotlib.pyplot import figure, rcParams\n",
    "from conf_matplotlib import conf_matplotlib_oscuro\n",
    "conf_matplotlib_oscuro()"
   ]
  },
  {
   "cell_type": "code",
   "execution_count": 2,
   "metadata": {},
   "outputs": [],
   "source": [
    "from control import NonlinearIOSystem, input_output_response, InterconnectedSystem"
   ]
  },
  {
   "cell_type": "markdown",
   "metadata": {},
   "source": [
    "\\begin{align}\n",
    "\\ddot{x} &= x \\dot{\\theta}^2 + \\frac{GM}{x^2} \\\\\n",
    "\\ddot{\\theta} &= - \\frac{2 \\dot{x} \\dot{\\theta}}{x} \\\\\n",
    "\\end{align}"
   ]
  },
  {
   "cell_type": "code",
   "execution_count": 3,
   "metadata": {},
   "outputs": [],
   "source": [
    "def sistema_satelital(t, X, u, params):\n",
    "    m = params.get(\"masa\", 5.972e24)\n",
    "    ΔV = u\n",
    "    x, y, z, ẋ, ẏ, ż = X\n",
    "    \n",
    "    p = matrix([[x], [y], [z]])\n",
    "    v = matrix([[ẋ], [ẏ], [ż]])\n",
    "    \n",
    "    r = sqrt(p.T*p)[0,0]\n",
    "    r̂ = p/r\n",
    "    \n",
    "    a = G*m/(r**2)\n",
    "    a⃗ = -r̂*a\n",
    "    \n",
    "    return [ẋ, ẏ, ż, a⃗[0,0], a⃗[1,0], a⃗[2,0]]"
   ]
  },
  {
   "cell_type": "code",
   "execution_count": 4,
   "metadata": {},
   "outputs": [],
   "source": [
    "io_satelite = NonlinearIOSystem(sistema_satelital, None,\n",
    "                                inputs=(\"ΔV\"),\n",
    "                                outputs=(\"x\", \"θ\", \"ẋ\", \"θ̇\"),\n",
    "                                states=(\"x\", \"θ\", \"ẋ\", \"θ̇\"),\n",
    "                                name=\"satelite\")"
   ]
  },
  {
   "cell_type": "code",
   "execution_count": 5,
   "metadata": {},
   "outputs": [],
   "source": [
    "ts = linspace(0, 1*365*24*60*60, 1000000)\n",
    "us = array([0 for t in ts])"
   ]
  },
  {
   "cell_type": "code",
   "execution_count": 6,
   "metadata": {},
   "outputs": [
    {
     "ename": "IndexError",
     "evalue": "index 26553 is out of bounds for axis 1 with size 26553",
     "output_type": "error",
     "traceback": [
      "\u001b[0;31m---------------------------------------------------------------------------\u001b[0m",
      "\u001b[0;31mIndexError\u001b[0m                                Traceback (most recent call last)",
      "\u001b[0;32m<ipython-input-6-3cc534ed47bd>\u001b[0m in \u001b[0;36m<module>\u001b[0;34m\u001b[0m\n\u001b[1;32m      1\u001b[0m t, X = input_output_response(sys=io_satelite, T=ts, U=us,\n\u001b[0;32m----> 2\u001b[0;31m                              X0=[0, 42.164e6, 0, 3.0746e3, 0, 0])\n\u001b[0m",
      "\u001b[0;32m/usr/local/Caskroom/miniconda/base/lib/python3.7/site-packages/control/iosys.py\u001b[0m in \u001b[0;36minput_output_response\u001b[0;34m(sys, T, U, X0, params, method, return_x, squeeze)\u001b[0m\n\u001b[1;32m   1408\u001b[0m         \u001b[0;32mfor\u001b[0m \u001b[0mi\u001b[0m \u001b[0;32min\u001b[0m \u001b[0mrange\u001b[0m\u001b[0;34m(\u001b[0m\u001b[0mlen\u001b[0m\u001b[0;34m(\u001b[0m\u001b[0mT\u001b[0m\u001b[0;34m)\u001b[0m\u001b[0;34m)\u001b[0m\u001b[0;34m:\u001b[0m\u001b[0;34m\u001b[0m\u001b[0;34m\u001b[0m\u001b[0m\n\u001b[1;32m   1409\u001b[0m             \u001b[0mu\u001b[0m \u001b[0;34m=\u001b[0m \u001b[0mU\u001b[0m\u001b[0;34m[\u001b[0m\u001b[0mi\u001b[0m\u001b[0;34m]\u001b[0m \u001b[0;32mif\u001b[0m \u001b[0mlen\u001b[0m\u001b[0;34m(\u001b[0m\u001b[0mU\u001b[0m\u001b[0;34m.\u001b[0m\u001b[0mshape\u001b[0m\u001b[0;34m)\u001b[0m \u001b[0;34m==\u001b[0m \u001b[0;36m1\u001b[0m \u001b[0;32melse\u001b[0m \u001b[0mU\u001b[0m\u001b[0;34m[\u001b[0m\u001b[0;34m:\u001b[0m\u001b[0;34m,\u001b[0m \u001b[0mi\u001b[0m\u001b[0;34m]\u001b[0m\u001b[0;34m\u001b[0m\u001b[0;34m\u001b[0m\u001b[0m\n\u001b[0;32m-> 1410\u001b[0;31m             \u001b[0my\u001b[0m\u001b[0;34m[\u001b[0m\u001b[0;34m:\u001b[0m\u001b[0;34m,\u001b[0m \u001b[0mi\u001b[0m\u001b[0;34m]\u001b[0m \u001b[0;34m=\u001b[0m \u001b[0msys\u001b[0m\u001b[0;34m.\u001b[0m\u001b[0m_out\u001b[0m\u001b[0;34m(\u001b[0m\u001b[0mT\u001b[0m\u001b[0;34m[\u001b[0m\u001b[0mi\u001b[0m\u001b[0;34m]\u001b[0m\u001b[0;34m,\u001b[0m \u001b[0msoln\u001b[0m\u001b[0;34m.\u001b[0m\u001b[0my\u001b[0m\u001b[0;34m[\u001b[0m\u001b[0;34m:\u001b[0m\u001b[0;34m,\u001b[0m \u001b[0mi\u001b[0m\u001b[0;34m]\u001b[0m\u001b[0;34m,\u001b[0m \u001b[0mu\u001b[0m\u001b[0;34m)\u001b[0m\u001b[0;34m\u001b[0m\u001b[0;34m\u001b[0m\u001b[0m\n\u001b[0m\u001b[1;32m   1411\u001b[0m \u001b[0;34m\u001b[0m\u001b[0m\n\u001b[1;32m   1412\u001b[0m     \u001b[0;32melif\u001b[0m \u001b[0misdtime\u001b[0m\u001b[0;34m(\u001b[0m\u001b[0msys\u001b[0m\u001b[0;34m)\u001b[0m\u001b[0;34m:\u001b[0m\u001b[0;34m\u001b[0m\u001b[0;34m\u001b[0m\u001b[0m\n",
      "\u001b[0;31mIndexError\u001b[0m: index 26553 is out of bounds for axis 1 with size 26553"
     ]
    }
   ],
   "source": [
    "t, X = input_output_response(sys=io_satelite, T=ts, U=us,\n",
    "                             X0=[0, 42.164e6, 0, 3.0746e3, 0, 0])"
   ]
  },
  {
   "cell_type": "code",
   "execution_count": null,
   "metadata": {},
   "outputs": [],
   "source": [
    "fig = figure(figsize=(8,10))\n",
    "ax1, ax2, ax3, ax4, ax5, ax6 = fig.subplots(6, 1, sharex='all',\n",
    "                                            gridspec_kw={'height_ratios':\n",
    "                                                         [1, 1, 1, 1, 1, 1]})\n",
    "cycle = rcParams['axes.prop_cycle'].by_key()['color']\n",
    "\n",
    "ax1.plot(t, X[0], c=cycle[0], label=r\"$x$\")\n",
    "ax2.plot(t, X[1], c=cycle[1], label=r\"$y$\")\n",
    "ax3.plot(t, X[2], c=cycle[2], label=r\"$z$\")\n",
    "ax4.plot(t, X[3], c=cycle[3], label=r\"$\\dot{x}$\")\n",
    "ax5.plot(t, X[4], c=cycle[4], label=r\"$\\dot{y}$\")\n",
    "ax6.plot(t, X[5], c=cycle[5], label=r\"$\\dot{z}$\")\n",
    "\n",
    "\n",
    "#ax1.set_ylim(0, 8)\n",
    "#ax2.set_ylim(0, 1)\n",
    "#ax3.set_ylim(0, 1)\n",
    "#ax4.set_ylim(0, 1)\n",
    "#ax5.set_ylim(0, 1)\n",
    "#ax5.set_xlim(min(t), max(t))\n",
    "fig.legend()\n",
    "fig.tight_layout();"
   ]
  },
  {
   "cell_type": "code",
   "execution_count": null,
   "metadata": {},
   "outputs": [],
   "source": [
    "x, y, z, vx, vy, vz = X"
   ]
  },
  {
   "cell_type": "code",
   "execution_count": null,
   "metadata": {},
   "outputs": [],
   "source": [
    "fig = figure(figsize=(8,8))\n",
    "ax = fig.gca()\n",
    "ax.plot(x,y)"
   ]
  },
  {
   "cell_type": "code",
   "execution_count": null,
   "metadata": {},
   "outputs": [],
   "source": []
  }
 ],
 "metadata": {
  "kernelspec": {
   "display_name": "Python 3",
   "language": "python",
   "name": "python3"
  },
  "language_info": {
   "codemirror_mode": {
    "name": "ipython",
    "version": 3
   },
   "file_extension": ".py",
   "mimetype": "text/x-python",
   "name": "python",
   "nbconvert_exporter": "python",
   "pygments_lexer": "ipython3",
   "version": "3.7.7"
  }
 },
 "nbformat": 4,
 "nbformat_minor": 4
}
