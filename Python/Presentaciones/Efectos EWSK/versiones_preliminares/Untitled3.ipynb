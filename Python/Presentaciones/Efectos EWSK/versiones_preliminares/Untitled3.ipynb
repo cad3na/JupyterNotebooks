{
 "cells": [
  {
   "cell_type": "code",
   "execution_count": 7,
   "metadata": {},
   "outputs": [],
   "source": [
    "using SatelliteDynamics\n",
    "using SatelliteDynamics.Simulation\n",
    "#using SatelliteDynamics.EarthEnvironment\n",
    "#using Plots"
   ]
  },
  {
   "cell_type": "code",
   "execution_count": 26,
   "metadata": {},
   "outputs": [
    {
     "data": {
      "text/plain": [
       "6-element Array{Float64,1}:\n",
       "      2.1679133021427494e7\n",
       "     -3.61602705299949e7\n",
       " -22121.10546611149\n",
       "   2637.027500028049\n",
       "   1581.4467489957235\n",
       "     -5.166219917248376"
      ]
     },
     "execution_count": 26,
     "metadata": {},
     "output_type": "execute_result"
    }
   ],
   "source": [
    "a = 42163996.97591\n",
    "e = 0.0001488\n",
    "i = 0.10085322\n",
    "Ω = 103.6017778\n",
    "ω = 258.88231762\n",
    "f = 360-61.52516827\n",
    "\n",
    "eci0 = sOSCtoCART([a,e,i,Ω,ω,f], use_degrees=true)"
   ]
  },
  {
   "cell_type": "code",
   "execution_count": 51,
   "metadata": {},
   "outputs": [
    {
     "data": {
      "text/plain": [
       "Epoch(2020-03-27T16:22:00.000Z)"
      ]
     },
     "execution_count": 51,
     "metadata": {},
     "output_type": "execute_result"
    }
   ],
   "source": [
    "epoch_0 = Epoch(\"2020-03-27 15:22:00 UTC\")\n",
    "epoch_f = Epoch(\"2020-03-27 16:22:00 UTC\")"
   ]
  },
  {
   "cell_type": "code",
   "execution_count": 52,
   "metadata": {},
   "outputs": [
    {
     "data": {
      "text/plain": [
       "EarthInertialState(RK4(SatelliteDynamics.Simulation.Propagators.fderiv_earth_orbit, Base.Iterators.Pairs{Symbol,Real,NTuple{8,Symbol},NamedTuple{(:mass, :n_grav, :m_grav, :drag, :srp, :moon, :sun, :relativity),Tuple{Float64,Int64,Int64,Bool,Bool,Bool,Bool,Bool}}}(:mass => 1.0,:n_grav => 0,:m_grav => 0,:drag => false,:srp => false,:moon => false,:sun => false,:relativity => false)), 1.0, Epoch(2020-03-27T15:22:00.000Z), [2.1679133021427494e7, -3.61602705299949e7, -22121.10546611149, 2637.027500028049, 1581.4467489957235, -5.166219917248376], nothing)"
      ]
     },
     "execution_count": 52,
     "metadata": {},
     "output_type": "execute_result"
    }
   ],
   "source": [
    "orb  = Simulation.EarthInertialState(epoch_0, eci0, dt=1.0, mass=1.0,\n",
    "                                    n_grav=0, m_grav=0,\n",
    "                                    drag=false, srp=false, moon=false,\n",
    "                                    sun=false, relativity=false)"
   ]
  },
  {
   "cell_type": "code",
   "execution_count": 53,
   "metadata": {},
   "outputs": [
    {
     "ename": "KeyError",
     "evalue": "KeyError: key 58935 not found",
     "output_type": "error",
     "traceback": [
      "KeyError: key 58935 not found",
      "",
      "Stacktrace:",
      " [1] getindex at ./dict.jl:477 [inlined]",
      " [2] UT1_UTC(::EarthOrientationData, ::Float64; interp::Bool) at /Users/roberto/.julia/packages/SatelliteDynamics/yiUAr/src/universe.jl:203",
      " [3] UT1_UTC(::Float64; interp::Bool) at /Users/roberto/.julia/packages/SatelliteDynamics/yiUAr/src/universe.jl:207",
      " [4] UT1_UTC at /Users/roberto/.julia/packages/SatelliteDynamics/yiUAr/src/universe.jl:207 [inlined]",
      " [5] time_system_offset(::Int64, ::Float64, ::Symbol, ::Symbol) at /Users/roberto/.julia/packages/SatelliteDynamics/yiUAr/src/time.jl:728",
      " [6] time_system_offset at /Users/roberto/.julia/packages/SatelliteDynamics/yiUAr/src/time.jl:739 [inlined]",
      " [7] mjd(::Epoch; tsys::Symbol) at /Users/roberto/.julia/packages/SatelliteDynamics/yiUAr/src/time.jl:501",
      " [8] earth_rotation at /Users/roberto/.julia/packages/SatelliteDynamics/yiUAr/src/reference_systems.jl:186 [inlined]",
      " [9] fderiv_earth_orbit(::Epoch, ::Array{Float64,1}; mass::Float64, area_drag::Float64, coef_drag::Float64, area_srp::Float64, coef_srp::Float64, n_grav::Int64, m_grav::Int64, drag::Bool, srp::Bool, moon::Bool, sun::Bool, relativity::Bool) at /Users/roberto/.julia/packages/SatelliteDynamics/yiUAr/src/simulation/propagators.jl:53",
      " [10] istep(::RK4, ::Epoch, ::Float64, ::Array{Float64,1}) at /Users/roberto/.julia/packages/SatelliteDynamics/yiUAr/src/simulation/integrators.jl:87",
      " [11] step!(::EarthInertialState, ::Float64) at /Users/roberto/.julia/packages/SatelliteDynamics/yiUAr/src/simulation/propagators.jl:169",
      " [12] sim!(::EarthInertialState, ::Epoch) at /Users/roberto/.julia/packages/SatelliteDynamics/yiUAr/src/simulation/propagators.jl:267",
      " [13] top-level scope at In[53]:1"
     ]
    }
   ],
   "source": [
    "t, epochs, states, phi = Simulation.sim!(orb, epoch_f)"
   ]
  },
  {
   "cell_type": "code",
   "execution_count": null,
   "metadata": {},
   "outputs": [],
   "source": []
  }
 ],
 "metadata": {
  "kernelspec": {
   "display_name": "Julia 1.4.0",
   "language": "julia",
   "name": "julia-1.4"
  },
  "language_info": {
   "file_extension": ".jl",
   "mimetype": "application/julia",
   "name": "julia",
   "version": "1.4.0"
  }
 },
 "nbformat": 4,
 "nbformat_minor": 4
}
