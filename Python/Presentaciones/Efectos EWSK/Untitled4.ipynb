{
 "cells": [
  {
   "cell_type": "code",
   "execution_count": 1,
   "metadata": {},
   "outputs": [],
   "source": [
    "using SatelliteDynamics\n",
    "using SatelliteDynamics.Simulation"
   ]
  },
  {
   "cell_type": "code",
   "execution_count": 3,
   "metadata": {},
   "outputs": [
    {
     "data": {
      "text/plain": [
       "6-element Array{Float64,1}:\n",
       "    6.8781363e6\n",
       "    0.0\n",
       "    0.0\n",
       "   -0.0\n",
       "    4.66137835169495e-13\n",
       " 7612.608557733353"
      ]
     },
     "execution_count": 3,
     "metadata": {},
     "output_type": "execute_result"
    }
   ],
   "source": [
    "# Declare simulation initial Epoch\n",
    "epc0 = Epoch(2019, 1, 1, 12, 0, 0, 0.0) \n",
    "\n",
    "# Declare initial state in terms of osculating orbital elements\n",
    "oe0  = [R_EARTH + 500e3, 0.0, 90.0, 0, 0, 0]\n",
    "\n",
    "# Convert osculating elements to Cartesean state\n",
    "eci0 = sOSCtoCART(oe0, use_degrees=true)"
   ]
  },
  {
   "cell_type": "code",
   "execution_count": 17,
   "metadata": {},
   "outputs": [
    {
     "data": {
      "text/plain": [
       "Epoch(2019-01-01T13:33:59.977Z)"
      ]
     },
     "execution_count": 17,
     "metadata": {},
     "output_type": "execute_result"
    }
   ],
   "source": [
    "epcf"
   ]
  },
  {
   "cell_type": "code",
   "execution_count": 11,
   "metadata": {},
   "outputs": [
    {
     "data": {
      "text/plain": [
       "([0.0, 1.0, 2.0, 3.0, 4.0, 5.0, 6.0, 7.0, 8.0, 9.0  …  5668.0, 5669.0, 5670.0, 5671.0, 5672.0, 5673.0, 5674.0, 5675.0, 5676.0, 5676.977164028287], Epoch[Epoch(2019-01-01T11:59:23.000Z), Epoch(2019-01-01T11:59:24.000Z), Epoch(2019-01-01T11:59:25.000Z), Epoch(2019-01-01T11:59:26.000Z), Epoch(2019-01-01T11:59:27.000Z), Epoch(2019-01-01T11:59:28.000Z), Epoch(2019-01-01T11:59:29.000Z), Epoch(2019-01-01T11:59:30.000Z), Epoch(2019-01-01T11:59:31.000Z), Epoch(2019-01-01T11:59:32.000Z)  …  Epoch(2019-01-01T13:33:51.000Z), Epoch(2019-01-01T13:33:52.000Z), Epoch(2019-01-01T13:33:53.000Z), Epoch(2019-01-01T13:33:54.000Z), Epoch(2019-01-01T13:33:55.000Z), Epoch(2019-01-01T13:33:56.000Z), Epoch(2019-01-01T13:33:57.000Z), Epoch(2019-01-01T13:33:58.000Z), Epoch(2019-01-01T13:33:59.000Z), Epoch(2019-01-01T13:33:59.977Z)], [6.8781363e6 6.87813208724522e6 … 6.8781322774529485e6 6.878136299999921e6; 0.0 4.662713462143537e-13 … 3.8715503856021504e-11 3.8290706704810955e-11; … ; 4.66137835169495e-13 4.663965454307799e-13 … -4.347611355916024e-13 -4.348459933967145e-13; 7612.608557733353 7612.60389512539 … 7612.6041056443255 7612.608557733404])"
      ]
     },
     "execution_count": 11,
     "metadata": {},
     "output_type": "execute_result"
    }
   ],
   "source": [
    "# Set the propagation end time to one orbit period after the start\n",
    "T    = orbit_period(oe0[1])\n",
    "epcf = epc0 + T\n",
    "\n",
    "# Create an EarthInertialState orbit propagagator\n",
    "orb  = EarthInertialState(epc0, eci0, dt=1.0,\n",
    "            mass=1.0, n_grav=0, m_grav=0,\n",
    "            drag=false, srp=false,\n",
    "            moon=false, sun=false,\n",
    "            relativity=false\n",
    ")\n",
    "\n",
    "# Propagate the orbit\n",
    "t, epc, eci = sim!(orb, epcf)"
   ]
  },
  {
   "cell_type": "code",
   "execution_count": 3,
   "metadata": {},
   "outputs": [
    {
     "data": {
      "text/plain": [
       "([0.0, 1.0, 2.0, 3.0, 4.0, 5.0, 6.0, 7.0, 8.0, 9.0  …  5668.0, 5669.0, 5670.0, 5671.0, 5672.0, 5673.0, 5674.0, 5675.0, 5676.0, 5676.977164028287], Epoch[Epoch(2019-01-01T11:59:23.000Z), Epoch(2019-01-01T11:59:24.000Z), Epoch(2019-01-01T11:59:25.000Z), Epoch(2019-01-01T11:59:26.000Z), Epoch(2019-01-01T11:59:27.000Z), Epoch(2019-01-01T11:59:28.000Z), Epoch(2019-01-01T11:59:29.000Z), Epoch(2019-01-01T11:59:30.000Z), Epoch(2019-01-01T11:59:31.000Z), Epoch(2019-01-01T11:59:32.000Z)  …  Epoch(2019-01-01T13:33:51.000Z), Epoch(2019-01-01T13:33:52.000Z), Epoch(2019-01-01T13:33:53.000Z), Epoch(2019-01-01T13:33:54.000Z), Epoch(2019-01-01T13:33:55.000Z), Epoch(2019-01-01T13:33:56.000Z), Epoch(2019-01-01T13:33:57.000Z), Epoch(2019-01-01T13:33:58.000Z), Epoch(2019-01-01T13:33:59.000Z), Epoch(2019-01-01T13:33:59.977Z)], [2.1679133021427494e7 2.168176999126864e7 … 3.439180473322827e7 3.439354228259257e7; -3.61602705299949e7 -3.6158688987082094e7 … -2.438383858129754e7 -2.438138710550183e7; … ; 1581.4467489957235 1581.6390752127497 … 2508.7025286181242 2508.829275059189; -5.166219917248376 -5.166104922815459 … -4.0916029835133365 -4.091350587813199])"
      ]
     },
     "execution_count": 3,
     "metadata": {},
     "output_type": "execute_result"
    }
   ],
   "source": [
    "# Declare simulation initial Epoch\n",
    "epc0 = Epoch(2019, 1, 1, 12, 0, 0, 0.0) \n",
    "\n",
    "# Declare initial state in terms of osculating orbital elements\n",
    "oe0  = [R_EARTH + 500e3, 0.01, 75.0, 45.0, 30.0, 0.0]\n",
    "\n",
    "a = 42163996.97591\n",
    "e = 0.0001488\n",
    "i = 0.10085322\n",
    "Ω = 103.6017778\n",
    "ω = 258.88231762\n",
    "f = 360-61.52516827\n",
    "\n",
    "eci0 = sOSCtoCART([a,e,i,Ω,ω,f], use_degrees=true)\n",
    "\n",
    "# Convert osculating elements to Cartesean state\n",
    "#eci0 = sOSCtoCART(oe0, use_degrees=true)\n",
    "\n",
    "# Set the propagation end time to one orbit period after the start\n",
    "T    = orbit_period(oe0[1])\n",
    "epcf = epc0 + T\n",
    "\n",
    "# Initialize State Vector\n",
    "orb  = EarthInertialState(epc0, eci0, dt=1.0,\n",
    "        mass=100.0, n_grav=20, m_grav=20,\n",
    "        drag=true, srp=true,\n",
    "        moon=true, sun=true,\n",
    "        relativity=true\n",
    ")\n",
    "\n",
    "# Propagate the orbit\n",
    "t, epc, eci = sim!(orb, epcf)"
   ]
  },
  {
   "cell_type": "code",
   "execution_count": 19,
   "metadata": {},
   "outputs": [
    {
     "data": {
      "text/plain": [
       "6×5678 Array{Float64,2}:\n",
       "      2.16791e7       2.16818e7  …       3.43918e7       3.43935e7\n",
       "     -3.61603e7      -3.61587e7         -2.43838e7      -2.43814e7\n",
       " -22121.1        -22126.3           -48780.7        -48784.7\n",
       "   2637.03         2636.91            1778.24         1778.07\n",
       "   1581.45         1581.64            2508.7          2508.83\n",
       "     -5.16622        -5.1661     …      -4.0916         -4.09135"
      ]
     },
     "execution_count": 19,
     "metadata": {},
     "output_type": "execute_result"
    }
   ],
   "source": [
    "eci"
   ]
  },
  {
   "cell_type": "code",
   "execution_count": null,
   "metadata": {},
   "outputs": [],
   "source": []
  }
 ],
 "metadata": {
  "kernelspec": {
   "display_name": "Julia 1.4.0",
   "language": "julia",
   "name": "julia-1.4"
  },
  "language_info": {
   "file_extension": ".jl",
   "mimetype": "application/julia",
   "name": "julia",
   "version": "1.4.0"
  }
 },
 "nbformat": 4,
 "nbformat_minor": 4
}
