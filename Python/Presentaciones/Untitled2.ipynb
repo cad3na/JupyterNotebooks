{
 "cells": [
  {
   "cell_type": "code",
   "execution_count": 1,
   "metadata": {},
   "outputs": [],
   "source": [
    "using SatelliteToolbox"
   ]
  },
  {
   "cell_type": "code",
   "execution_count": 2,
   "metadata": {},
   "outputs": [],
   "source": [
    "using Plots"
   ]
  },
  {
   "cell_type": "code",
   "execution_count": 16,
   "metadata": {},
   "outputs": [
    {
     "data": {
      "text/plain": []
     },
     "execution_count": 16,
     "metadata": {},
     "output_type": "execute_result"
    },
    {
     "name": "stdout",
     "output_type": "stream",
     "text": [
      "Orbit{Float64,Float64}:\n",
      "                 \u001b[32;1mOrbit\u001b[0m\n",
      "\u001b[33;1m  ======================================\u001b[0m\n",
      "\u001b[1m                  t = \u001b[0m 2458936.14028\n",
      "\u001b[1m    Semi-major axis = \u001b[0m   42163.9970 km\n",
      "\u001b[1m       Eccentricity = \u001b[0m       0.000149\n",
      "\u001b[1m        Inclination = \u001b[0m       0.1009 ˚\n",
      "\u001b[1m               RAAN = \u001b[0m     103.6018 ˚\n",
      "\u001b[1m    Arg. of Perigee = \u001b[0m     258.8823 ˚\n",
      "\u001b[1m       True Anomaly = \u001b[0m     -61.5252 ˚"
     ]
    }
   ],
   "source": [
    "t = DatetoJD(2020,3,27,15,22,0)\n",
    "a = 42163996.97591\n",
    "e = 0.0001488\n",
    "i = deg2rad(0.10085322)\n",
    "Ω = deg2rad(103.6017778)\n",
    "ω = deg2rad(258.88231762)\n",
    "f = deg2rad(-61.52516827)\n",
    "\n",
    "o0 = Orbit(t, a, e, i, Ω, ω, f)"
   ]
  },
  {
   "cell_type": "code",
   "execution_count": 17,
   "metadata": {},
   "outputs": [],
   "source": [
    "p0 = init_orbit_propagator(Val(:J4), o0);"
   ]
  },
  {
   "cell_type": "code",
   "execution_count": 22,
   "metadata": {},
   "outputs": [],
   "source": [
    "t = DatetoJD(2020,3,27,16,37,5)\n",
    "ephem1 = propagate_to_epoch!(p0, t);"
   ]
  },
  {
   "cell_type": "code",
   "execution_count": 23,
   "metadata": {},
   "outputs": [
    {
     "data": {
      "text/plain": []
     },
     "execution_count": 23,
     "metadata": {},
     "output_type": "execute_result"
    },
    {
     "name": "stdout",
     "output_type": "stream",
     "text": [
      "Orbit{Float64,Float64}:\n",
      "                 \u001b[32;1mOrbit\u001b[0m\n",
      "\u001b[33;1m  ======================================\u001b[0m\n",
      "\u001b[1m                  t = \u001b[0m 2458936.19242\n",
      "\u001b[1m    Semi-major axis = \u001b[0m   42163.9970 km\n",
      "\u001b[1m       Eccentricity = \u001b[0m       0.000149\n",
      "\u001b[1m        Inclination = \u001b[0m       0.1009 ˚\n",
      "\u001b[1m               RAAN = \u001b[0m     103.6011 ˚\n",
      "\u001b[1m    Arg. of Perigee = \u001b[0m     258.8837 ˚\n",
      "\u001b[1m       True Anomaly = \u001b[0m     317.3013 ˚"
     ]
    }
   ],
   "source": [
    "ephem1[1]"
   ]
  },
  {
   "cell_type": "code",
   "execution_count": 25,
   "metadata": {},
   "outputs": [
    {
     "data": {
      "text/plain": [
       "3-element StaticArrays.SArray{Tuple{3},Float64,1,3} with indices SOneTo(3):\n",
       "      3.219452798680554e7\n",
       "     -2.7219923618341245e7\n",
       " -43813.0572475884"
      ]
     },
     "execution_count": 25,
     "metadata": {},
     "output_type": "execute_result"
    }
   ],
   "source": [
    "ephem1[2]"
   ]
  },
  {
   "cell_type": "code",
   "execution_count": 27,
   "metadata": {},
   "outputs": [
    {
     "data": {
      "text/plain": [
       "(-0.0010402780290753137, -0.7018658157278301, 3.5781248617102936e7)"
      ]
     },
     "execution_count": 27,
     "metadata": {},
     "output_type": "execute_result"
    }
   ],
   "source": [
    "lat, long, ran = ECEFtoGeodetic(ephem1[2])"
   ]
  },
  {
   "cell_type": "code",
   "execution_count": 31,
   "metadata": {},
   "outputs": [
    {
     "data": {
      "text/plain": [
       "-40.21394902571142"
      ]
     },
     "execution_count": 31,
     "metadata": {},
     "output_type": "execute_result"
    }
   ],
   "source": [
    "rad2deg(long)"
   ]
  },
  {
   "cell_type": "code",
   "execution_count": null,
   "metadata": {},
   "outputs": [],
   "source": []
  },
  {
   "cell_type": "code",
   "execution_count": 9,
   "metadata": {},
   "outputs": [],
   "source": [
    "init_space_indices()"
   ]
  },
  {
   "cell_type": "code",
   "execution_count": 14,
   "metadata": {},
   "outputs": [
    {
     "data": {
      "text/plain": [
       "                             \u001b[32;1mTLE\u001b[0m\n",
       "\u001b[33;1m    ==========================================================\u001b[0m\n",
       "\u001b[1m                            Name: \u001b[0mMEXSAT 3\n",
       "\u001b[1m                Satellite number: \u001b[0m39035\n",
       "\u001b[1m        International designator: \u001b[0m12075B  \n",
       "\u001b[1m                    Epoch (Year): \u001b[0m20\n",
       "\u001b[1m                     Epoch (Day): \u001b[0m104.63977855\n",
       "\u001b[1m              Epoch (Julian Day): \u001b[0m2458953.13978\n",
       "\u001b[1m              Element set number: \u001b[0m999\n",
       "\u001b[1m                    Eccentricity: \u001b[0m  0.00018170 deg\n",
       "\u001b[1m                     Inclination: \u001b[0m  0.01690000 deg\n",
       "\u001b[1m                            RAAN: \u001b[0m195.12960000 deg\n",
       "\u001b[1m             Argument of perigee: \u001b[0m197.87670000 deg\n",
       "\u001b[1m                    Mean anomaly: \u001b[0m284.77090000 deg\n",
       "\u001b[1m                 Mean motion (n): \u001b[0m  1.00271106 revs/day\n",
       "\u001b[1m               Revolution number: \u001b[0m2685\n",
       "\n",
       "\u001b[1m                              B*: \u001b[0m0.000000 1/[er]\n",
       "\n",
       "\u001b[1m                        1   d\n",
       "\u001b[0m\u001b[1m                       ---.--- n: \u001b[0m-0.000000 rev/day²\n",
       "\u001b[1m                        2  dt\n",
       "\u001b[0m\n",
       "\u001b[1m                        1   d²\n",
       "\u001b[0m\u001b[1m                       ---.--- n: \u001b[0m0.000000 rev/day³\n",
       "\u001b[1m                        6  dt²\n",
       "\u001b[0m\u001b[33;1m    ==========================================================\u001b[0m"
      ]
     },
     "execution_count": 14,
     "metadata": {},
     "output_type": "execute_result"
    }
   ],
   "source": [
    "mx3_tle = tle\"\"\"\n",
    "MEXSAT 3                \n",
    "1 39035U 12075B   20104.63977855 -.00000044  00000-0  00000+0 0  9990\n",
    "2 39035   0.0169 195.1296 0001817 197.8767 284.7709  1.00271106 26859\n",
    "\"\"\"[1]"
   ]
  },
  {
   "cell_type": "code",
   "execution_count": 17,
   "metadata": {},
   "outputs": [
    {
     "data": {
      "text/plain": [
       "2.45895313977855e6"
      ]
     },
     "execution_count": 17,
     "metadata": {},
     "output_type": "execute_result"
    }
   ],
   "source": [
    "epoch_mx3 = mx3_tle.epoch"
   ]
  },
  {
   "cell_type": "code",
   "execution_count": null,
   "metadata": {},
   "outputs": [],
   "source": [
    "orbp = init_orbit_propagator(Val(:sgp4), mx3_tle)"
   ]
  },
  {
   "cell_type": "code",
   "execution_count": 18,
   "metadata": {},
   "outputs": [
    {
     "data": {
      "text/plain": [
       "OrbitPropagatorSGP4{Float64}(Orbit{Float64,Float64}(2.45895313977855e6, 4.216596890128557e7, 0.0001817, 0.00029496064358704166, 3.4056539880995276, 3.4535999279810636, 4.969838407804691), SGP4_GravCte{Float64}\n",
       "  R0: Float64 6378.137\n",
       "  XKE: Float64 0.07436685316871385\n",
       "  J2: Float64 0.00108262998905\n",
       "  J3: Float64 -2.53215306e-6\n",
       "  J4: Float64 -1.61098761e-6\n",
       ", SGP4_Structure{Float64}\n",
       "  epoch: Float64 2.45895313977855e6\n",
       "  n_0: Float64 0.004375152360790603\n",
       "  e_0: Float64 0.0001817\n",
       "  i_0: Float64 0.00029496064358704166\n",
       "  Ω_0: Float64 3.4056539880995276\n",
       "  ω_0: Float64 3.4535999279810636\n",
       "  M_0: Float64 4.97018981886752\n",
       "  bstar: Float64 0.0\n",
       "  Δt: Float64 0.0\n",
       "  a_k: Float64 6.611016492948579\n",
       "  e_k: Float64 0.0001817\n",
       "  i_k: Float64 0.00029496064358704166\n",
       "  Ω_k: Float64 3.4056539880995276\n",
       "  ω_k: Float64 3.4535999279810636\n",
       "  M_k: Float64 4.97018981886752\n",
       "  n_k: Float64 0.004374989789401693\n",
       "  all_0: Float64 6.611016492948579\n",
       "  nll_0: Float64 0.004374989789401693\n",
       "  AE: Float64 1.0\n",
       "  QOMS2T: Float64 1.880276800610929e-9\n",
       "  β_0: Float64 0.9999999834925548\n",
       "  ξ: Float64 0.17861010988882264\n",
       "  η: Float64 0.00021455033926070564\n",
       "  sin_i_0: Float64 0.00029496063931002477\n",
       "  θ: Float64 0.9999999564991097\n",
       "  θ²: Float64 0.9999999129982212\n",
       "  A_30: Float64 2.53215306e-6\n",
       "  k_2: Float64 0.000541314994525\n",
       "  k_4: Float64 6.0412035375e-7\n",
       "  C1: Float64 0.0\n",
       "  C3: Float64 1.135476250035028e-17\n",
       "  C4: Float64 7.698136162599519e-17\n",
       "  C5: Float64 2.5301387133445344e-11\n",
       "  D2: Float64 0.0\n",
       "  D3: Float64 0.0\n",
       "  D4: Float64 0.0\n",
       "  dotM: Float64 0.004375152357768966\n",
       "  dotω: Float64 3.2518254046801753e-7\n",
       "  dotΩ1: Float64 -1.6255932389639088e-7\n",
       "  dotΩ: Float64 -1.6258826077624226e-7\n",
       "  algorithm: Symbol sdp4\n",
       "  sgp4_gc: SGP4_GravCte{Float64}\n",
       "  sgp4_ds: SatelliteToolbox.SGP4.SGP4_DeepSpace{Float64}\n",
       ")"
      ]
     },
     "execution_count": 18,
     "metadata": {},
     "output_type": "execute_result"
    }
   ],
   "source": [
    "orbp = init_orbit_propagator(Val(:sgp4), mx3_tle)"
   ]
  },
  {
   "cell_type": "code",
   "execution_count": 19,
   "metadata": {},
   "outputs": [
    {
     "data": {
      "text/plain": [
       "(Orbit{Float64,Float64}(2.4589361924189813e6, 4.2166579428107135e7, 0.00018221060280808983, 0.0008031129235678635, 3.424343197243554, 3.4254494751675164, 5.020511675227828), [3.2354858014913566e7, -2.7034305252738204e7, 28099.12807706969], [1971.1604099156723, 2359.9302269265595, -1.3783601110664312])"
      ]
     },
     "execution_count": 19,
     "metadata": {},
     "output_type": "execute_result"
    }
   ],
   "source": [
    "o,r_teme,v_teme = propagate_to_epoch!(orbp, DatetoJD(2020,3,27,16,37,5))"
   ]
  },
  {
   "cell_type": "code",
   "execution_count": 20,
   "metadata": {},
   "outputs": [
    {
     "data": {
      "text/plain": [
       "3-element StaticArrays.SArray{Tuple{3},Float64,1,3} with indices SOneTo(3):\n",
       "     3.2354858014913566e7\n",
       "    -2.7034305252738204e7\n",
       " 28099.12807706969"
      ]
     },
     "execution_count": 20,
     "metadata": {},
     "output_type": "execute_result"
    }
   ],
   "source": [
    "r_teme"
   ]
  },
  {
   "cell_type": "code",
   "execution_count": 21,
   "metadata": {},
   "outputs": [
    {
     "data": {
      "text/plain": [
       "3-element StaticArrays.SArray{Tuple{3},Float64,1,3} with indices SOneTo(3):\n",
       " 1971.1604099156723\n",
       " 2359.9302269265595\n",
       "   -1.3783601110664312"
      ]
     },
     "execution_count": 21,
     "metadata": {},
     "output_type": "execute_result"
    }
   ],
   "source": [
    "v_teme"
   ]
  },
  {
   "cell_type": "code",
   "execution_count": 22,
   "metadata": {},
   "outputs": [
    {
     "name": "stdout",
     "output_type": "stream",
     "text": [
      "Orbit{Float64"
     ]
    },
    {
     "data": {
      "text/plain": []
     },
     "execution_count": 22,
     "metadata": {},
     "output_type": "execute_result"
    },
    {
     "name": "stdout",
     "output_type": "stream",
     "text": [
      ",Float64}:\n",
      "                 \u001b[32;1mOrbit\u001b[0m\n",
      "\u001b[33;1m  ======================================\u001b[0m\n",
      "\u001b[1m                  t = \u001b[0m 2458936.19242\n",
      "\u001b[1m    Semi-major axis = \u001b[0m   42166.5794 km\n",
      "\u001b[1m       Eccentricity = \u001b[0m       0.000182\n",
      "\u001b[1m        Inclination = \u001b[0m       0.0460 ˚\n",
      "\u001b[1m               RAAN = \u001b[0m     196.2004 ˚\n",
      "\u001b[1m    Arg. of Perigee = \u001b[0m     196.2638 ˚\n",
      "\u001b[1m       True Anomaly = \u001b[0m     287.6541 ˚"
     ]
    }
   ],
   "source": [
    "o"
   ]
  },
  {
   "cell_type": "code",
   "execution_count": null,
   "metadata": {},
   "outputs": [],
   "source": []
  }
 ],
 "metadata": {
  "kernelspec": {
   "display_name": "Julia 1.4.0",
   "language": "julia",
   "name": "julia-1.4"
  },
  "language_info": {
   "file_extension": ".jl",
   "mimetype": "application/julia",
   "name": "julia",
   "version": "1.4.0"
  }
 },
 "nbformat": 4,
 "nbformat_minor": 4
}
