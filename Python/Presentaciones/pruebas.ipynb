{
 "nbformat": 4,
 "nbformat_minor": 2,
 "metadata": {
  "language_info": {
   "name": "python",
   "codemirror_mode": {
    "name": "ipython",
    "version": 3
   },
   "version": "3.7.6-final"
  },
  "orig_nbformat": 2,
  "file_extension": ".py",
  "mimetype": "text/x-python",
  "name": "python",
  "npconvert_exporter": "python",
  "pygments_lexer": "ipython3",
  "version": 3,
  "kernelspec": {
   "name": "python3",
   "display_name": "Python 3"
  }
 },
 "cells": [
  {
   "cell_type": "markdown",
   "metadata": {},
   "source": [
    "La fuerza de una masa sobre otra debido a la gravedad.\n",
    "\n",
    "$$\n",
    "F_G = G \\frac{m_1 m_2}{r^2}\n",
    "$$\n",
    "\n",
    "La aceleración entonces será:\n",
    "\n",
    "$$\n",
    "a_G = G \\frac{m}{r^2}\n",
    "$$\n",
    "\n",
    "en donde $G$ es la constante de gravitación universal y tiene un valor de $G = 6.6743 \\times 10^{-11} \\frac{N \\cdot m^2}{kg^2}$, $m$ es la masa que causa la aceleración y $r$ la distancia entre las masas."
   ]
  },
  {
   "cell_type": "code",
   "execution_count": 1,
   "metadata": {},
   "outputs": [],
   "source": [
    "from scipy.constants import G"
   ]
  },
  {
   "cell_type": "code",
   "execution_count": 2,
   "metadata": {},
   "outputs": [
    {
     "output_type": "execute_result",
     "data": {
      "text/plain": "6.6743e-11"
     },
     "metadata": {},
     "execution_count": 2
    }
   ],
   "source": [
    "G"
   ]
  },
  {
   "cell_type": "code",
   "execution_count": null,
   "metadata": {},
   "outputs": [],
   "source": []
  }
 ]
}