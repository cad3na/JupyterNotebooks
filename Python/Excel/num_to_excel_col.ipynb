{
 "cells": [
  {
   "cell_type": "code",
   "execution_count": 31,
   "metadata": {},
   "outputs": [],
   "source": [
    "def num_to_excel_col(num):\n",
    "    if num < 27:\n",
    "        return chr(ord(\"@\") + num)\n",
    "    else:\n",
    "        from math import floor\n",
    "        \n",
    "        rem = num % 26\n",
    "        div = floor(num/26)\n",
    "        \n",
    "        if rem == 0:\n",
    "            rem = 26\n",
    "            div -= 1\n",
    "            \n",
    "        return num_to_excel_col(div) + chr(ord(\"@\") + rem)"
   ]
  },
  {
   "cell_type": "code",
   "execution_count": 34,
   "metadata": {},
   "outputs": [
    {
     "name": "stdout",
     "output_type": "stream",
     "text": [
      "ZX\n",
      "ZY\n",
      "ZZ\n",
      "AAA\n",
      "AAB\n",
      "AAC\n",
      "AAD\n",
      "AAE\n",
      "AAF\n",
      "AAG\n",
      "AAH\n",
      "AAI\n",
      "AAJ\n",
      "AAK\n",
      "AAL\n",
      "AAM\n",
      "AAN\n",
      "AAO\n",
      "AAP\n",
      "AAQ\n",
      "AAR\n",
      "AAS\n",
      "AAT\n",
      "AAU\n",
      "AAV\n",
      "AAW\n",
      "AAX\n",
      "AAY\n",
      "AAZ\n",
      "ABA\n",
      "ABB\n",
      "ABC\n",
      "ABD\n",
      "ABE\n",
      "ABF\n",
      "ABG\n",
      "ABH\n",
      "ABI\n",
      "ABJ\n",
      "ABK\n",
      "ABL\n",
      "ABM\n",
      "ABN\n",
      "ABO\n",
      "ABP\n",
      "ABQ\n",
      "ABR\n",
      "ABS\n",
      "ABT\n",
      "ABU\n",
      "ABV\n",
      "ABW\n",
      "ABX\n",
      "ABY\n",
      "ABZ\n",
      "ACA\n",
      "ACB\n",
      "ACC\n",
      "ACD\n",
      "ACE\n",
      "ACF\n",
      "ACG\n",
      "ACH\n",
      "ACI\n",
      "ACJ\n",
      "ACK\n",
      "ACL\n",
      "ACM\n",
      "ACN\n",
      "ACO\n",
      "ACP\n",
      "ACQ\n",
      "ACR\n",
      "ACS\n",
      "ACT\n",
      "ACU\n",
      "ACV\n",
      "ACW\n",
      "ACX\n",
      "ACY\n",
      "ACZ\n",
      "ADA\n",
      "ADB\n",
      "ADC\n",
      "ADD\n",
      "ADE\n",
      "ADF\n",
      "ADG\n",
      "ADH\n",
      "ADI\n",
      "ADJ\n",
      "ADK\n",
      "ADL\n",
      "ADM\n",
      "ADN\n",
      "ADO\n",
      "ADP\n",
      "ADQ\n",
      "ADR\n",
      "ADS\n"
     ]
    }
   ],
   "source": [
    "for i in range(700,800):\n",
    "    print(num_to_excel_col(i))"
   ]
  },
  {
   "cell_type": "code",
   "execution_count": 1,
   "metadata": {},
   "outputs": [
    {
     "data": {
      "text/plain": [
       "1"
      ]
     },
     "execution_count": 1,
     "metadata": {},
     "output_type": "execute_result"
    }
   ],
   "source": [
    "char = \"a\"\n",
    "ord(char) - 96"
   ]
  },
  {
   "cell_type": "code",
   "execution_count": 4,
   "metadata": {},
   "outputs": [
    {
     "data": {
      "text/plain": [
       "'A'"
      ]
     },
     "execution_count": 4,
     "metadata": {},
     "output_type": "execute_result"
    }
   ],
   "source": [
    "number = 1\n",
    "chr(ord('@')+number)"
   ]
  },
  {
   "cell_type": "code",
   "execution_count": null,
   "metadata": {},
   "outputs": [],
   "source": []
  }
 ],
 "metadata": {
  "kernelspec": {
   "display_name": "Python 3",
   "language": "python",
   "name": "python3"
  },
  "language_info": {
   "codemirror_mode": {
    "name": "ipython",
    "version": 3
   },
   "file_extension": ".py",
   "mimetype": "text/x-python",
   "name": "python",
   "nbconvert_exporter": "python",
   "pygments_lexer": "ipython3",
   "version": "3.8.5"
  }
 },
 "nbformat": 4,
 "nbformat_minor": 4
}
