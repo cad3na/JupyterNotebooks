{
 "cells": [
  {
   "cell_type": "code",
   "execution_count": 1,
   "id": "e205ed67-647a-483a-8576-88055ed75ff8",
   "metadata": {},
   "outputs": [],
   "source": [
    "base_url = \"https://www.briansolis.com/2009/10/revealing-the-people-defining-social-networks/\""
   ]
  },
  {
   "cell_type": "code",
   "execution_count": 3,
   "id": "8709094d-2a12-4b28-b671-15a9119891ed",
   "metadata": {},
   "outputs": [],
   "source": [
    "import requests"
   ]
  },
  {
   "cell_type": "code",
   "execution_count": 5,
   "id": "e7f22f83-4c95-45f9-81a6-110b3d3b033b",
   "metadata": {},
   "outputs": [],
   "source": [
    "pag = requests.get(base_url)"
   ]
  },
  {
   "cell_type": "code",
   "execution_count": 7,
   "id": "e64a190f-2407-40de-91a5-7dc033740c52",
   "metadata": {},
   "outputs": [
    {
     "data": {
      "text/plain": [
       "'<html>\\r\\n<head><title>403 Forbidden</title></head>\\r\\n<body>\\r\\n<center><h1>403 Forbidden</h1></center>\\r\\n<hr><center>nginx</center>\\r\\n</body>\\r\\n</html>\\r\\n'"
      ]
     },
     "execution_count": 7,
     "metadata": {},
     "output_type": "execute_result"
    }
   ],
   "source": [
    "pag.text"
   ]
  },
  {
   "cell_type": "code",
   "execution_count": null,
   "id": "ab78e95d-05c9-4ba9-ae60-b6a1c827509f",
   "metadata": {},
   "outputs": [],
   "source": []
  }
 ],
 "metadata": {
  "kernelspec": {
   "display_name": "Python 3",
   "language": "python",
   "name": "python3"
  },
  "language_info": {
   "codemirror_mode": {
    "name": "ipython",
    "version": 3
   },
   "file_extension": ".py",
   "mimetype": "text/x-python",
   "name": "python",
   "nbconvert_exporter": "python",
   "pygments_lexer": "ipython3",
   "version": "3.8.10"
  }
 },
 "nbformat": 4,
 "nbformat_minor": 5
}
