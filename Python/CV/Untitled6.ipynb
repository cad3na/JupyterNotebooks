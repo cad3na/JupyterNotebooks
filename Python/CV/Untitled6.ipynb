{
 "cells": [
  {
   "cell_type": "code",
   "execution_count": 1,
   "metadata": {},
   "outputs": [],
   "source": [
    "def asistencia(materia, sesion):\n",
    "    from pydub import AudioSegment\n",
    "    from pydub.playback import play\n",
    "\n",
    "    from matplotlib.pyplot import figure, ion, pause, axis\n",
    "    from matplotlib.patches import Rectangle\n",
    "    from time import sleep\n",
    "\n",
    "    import cv2\n",
    "    import signal\n",
    "    from pyzbar.pyzbar import decode, ZBarSymbol\n",
    "    \n",
    "    from yaml import safe_load, YAMLError, safe_dump\n",
    "    \n",
    "    def signal_handler(signal, frame):\n",
    "        # KeyboardInterrupt detected, exiting\n",
    "        global is_interrupted\n",
    "        is_interrupted = True\n",
    "        \n",
    "    vc = cv2.VideoCapture(0)\n",
    "\n",
    "    fig = figure()\n",
    "    ax = fig.gca()\n",
    "    ion()\n",
    "    axis('off')\n",
    "    ax.get_xaxis().set_visible(False)\n",
    "    ax.get_yaxis().set_visible(False)\n",
    "    fig.canvas.draw()\n",
    "    song = AudioSegment.from_wav(\"Frog.wav\")\n",
    "\n",
    "    if vc.isOpened(): # try to get the first frame\n",
    "        is_capturing, frame = vc.read()\n",
    "        frame = cv2.cvtColor(frame, cv2.COLOR_BGR2GRAY)\n",
    "        ax.clear()\n",
    "        #datos = decode(frame, symbols=[ZBarSymbol.CODE39])\n",
    "        webcam_preview = ax.imshow(cv2.flip(frame, 1), cmap='gray')\n",
    "        fig.canvas.draw()\n",
    "    else:\n",
    "        is_capturing = False\n",
    "\n",
    "    signal.signal(signal.SIGINT, signal_handler)\n",
    "    is_interrupted = False\n",
    "\n",
    "    codigos = []\n",
    "    cuadros = []\n",
    "\n",
    "    while is_capturing:\n",
    "        is_capturing, frame = vc.read()\n",
    "        frame = cv2.cvtColor(frame, cv2.COLOR_BGR2GRAY)\n",
    "        datos = decode(frame, symbols=[ZBarSymbol.CODE39])\n",
    "        [p.remove() for p in reversed(ax.patches)]\n",
    "        webcam_preview.set_data(cv2.flip(frame, 1))\n",
    "\n",
    "        if len(datos) > 0:\n",
    "            play(song)\n",
    "            datos_r = datos[0][2]\n",
    "            cod = datos[0][0]\n",
    "            rect = Rectangle((1280-datos_r[0], datos_r[1]), -datos_r[2], datos_r[3],\n",
    "                             linewidth=1, edgecolor=(0,1,0), facecolor=(0,1,0,0.3))\n",
    "            ax.add_patch(rect)\n",
    "            codigos.append(cod)\n",
    "            cuadros.append(frame)\n",
    "            fig.canvas.draw()\n",
    "            sleep(2)\n",
    "\n",
    "        fig.canvas.draw()\n",
    "\n",
    "        try:\n",
    "            pause(0.01)\n",
    "        except Exception:\n",
    "            pass\n",
    "        if is_interrupted:\n",
    "            vc.release()\n",
    "            break\n",
    "    \n",
    "    with open(materia+str(sesion), \"w\") as outfile:\n",
    "        safe_dump({\"cuentas\": codigos}, outfile,\n",
    "                  encoding='utf-8', allow_unicode=True, default_flow_style=False)\n",
    "    return codigos"
   ]
  },
  {
   "cell_type": "code",
   "execution_count": null,
   "metadata": {},
   "outputs": [
    {
     "data": {
      "application/vnd.jupyter.widget-view+json": {
       "model_id": "4ea037804c334271abfa101d5380cead",
       "version_major": 2,
       "version_minor": 0
      },
      "text/plain": [
       "FigureCanvasNbAgg()"
      ]
     },
     "metadata": {},
     "output_type": "display_data"
    }
   ],
   "source": [
    "%matplotlib widget\n",
    "asistencia(\"Interfaces y perifericos para robots\", 2)"
   ]
  },
  {
   "cell_type": "code",
   "execution_count": null,
   "metadata": {},
   "outputs": [],
   "source": []
  }
 ],
 "metadata": {
  "kernelspec": {
   "display_name": "Python 3",
   "language": "python",
   "name": "python3"
  },
  "language_info": {
   "codemirror_mode": {
    "name": "ipython",
    "version": 3
   },
   "file_extension": ".py",
   "mimetype": "text/x-python",
   "name": "python",
   "nbconvert_exporter": "python",
   "pygments_lexer": "ipython3",
   "version": "3.6.8"
  }
 },
 "nbformat": 4,
 "nbformat_minor": 2
}
