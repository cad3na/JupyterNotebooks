{
 "cells": [
  {
   "cell_type": "code",
   "execution_count": null,
   "metadata": {},
   "outputs": [],
   "source": [
    "import cv2\n",
    "#camera = cv2.VideoCapture(0)"
   ]
  },
  {
   "cell_type": "code",
   "execution_count": null,
   "metadata": {},
   "outputs": [],
   "source": [
    "camera = cv2.VideoCapture(0)\n",
    "while True:\n",
    "    # loop continuously reading frame-by-frame\n",
    "    success, frame = camera.read()\n",
    "    if success:\n",
    "        # a frame was successfully read\n",
    "        # we'll just show it in a window\n",
    "        cv2.imshow(\"Live Video\", frame)\n",
    "\n",
    "        # if the 'q' key is pressed, stop the loop\n",
    "        if cv2.waitKey(1) & 0xFF == ord(\"q\"):\n",
    "            camera.release()\n",
    "            break\n",
    "    else:\n",
    "        # frame wasn't read, handle that problem, for example\n",
    "        camera.release()\n",
    "        break"
   ]
  },
  {
   "cell_type": "code",
   "execution_count": null,
   "metadata": {},
   "outputs": [],
   "source": [
    "%matplotlib qt"
   ]
  },
  {
   "cell_type": "code",
   "execution_count": null,
   "metadata": {},
   "outputs": [],
   "source": [
    "# For more info: http://docs.opencv.org/3.0-beta/doc/py_tutorials/py_gui/py_video_display/py_video_display.html\n",
    "import cv2\n",
    "import numpy as np\n",
    "import os\n",
    "\n",
    "FILE_OUTPUT = 'output.avi'\n",
    "\n",
    "if os.path.isfile(FILE_OUTPUT):\n",
    "    os.remove(FILE_OUTPUT)\n",
    "\n",
    "cap = cv2.VideoCapture(0)\n",
    "\n",
    "currentFrame = 0\n",
    "\n",
    "# Get current width of frame\n",
    "width = cap.get(cv2.cv.CV_CAP_PROP_FRAME_WIDTH)   # float\n",
    "# Get current height of frame\n",
    "height = cap.get(cv2.cv.CV_CAP_PROP_FRAME_HEIGHT) # float\n",
    "\n",
    "fourcc = cv2.cv.CV_FOURCC(*'X264')\n",
    "out = cv2.VideoWriter(FILE_OUTPUT,fourcc, 20.0, (int(width),int(height)))\n",
    "\n",
    "# while(True):\n",
    "while(cap.isOpened()):\n",
    "    # Capture frame-by-frame\n",
    "    ret, frame = cap.read()\n",
    "\n",
    "    if ret == True:\n",
    "        # Handles the mirroring of the current frame\n",
    "        frame = cv2.flip(frame,1)\n",
    "\n",
    "        # Saves for video\n",
    "        out.write(frame)\n",
    "\n",
    "        # Display the resulting frame\n",
    "        cv2.imshow('frame',frame)\n",
    "    else:\n",
    "        break\n",
    "    if cv2.waitKey(1) & 0xFF == ord('q'):\n",
    "        break\n",
    "\n",
    "    currentFrame += 1\n",
    "\n",
    "# When everything done, release the capture\n",
    "cap.release()\n",
    "out.release()\n",
    "cv2.destroyAllWindows()"
   ]
  },
  {
   "cell_type": "code",
   "execution_count": null,
   "metadata": {},
   "outputs": [],
   "source": []
  }
 ],
 "metadata": {
  "kernelspec": {
   "display_name": "Python 3",
   "language": "python",
   "name": "python3"
  },
  "language_info": {
   "codemirror_mode": {
    "name": "ipython",
    "version": 3
   },
   "file_extension": ".py",
   "mimetype": "text/x-python",
   "name": "python",
   "nbconvert_exporter": "python",
   "pygments_lexer": "ipython3",
   "version": "3.6.7"
  }
 },
 "nbformat": 4,
 "nbformat_minor": 2
}
