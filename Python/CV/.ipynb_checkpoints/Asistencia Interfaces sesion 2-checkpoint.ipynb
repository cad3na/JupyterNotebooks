{
 "cells": [
  {
   "cell_type": "code",
   "execution_count": 6,
   "metadata": {},
   "outputs": [],
   "source": [
    "from pydub import AudioSegment\n",
    "from pydub.playback import play"
   ]
  },
  {
   "cell_type": "code",
   "execution_count": 7,
   "metadata": {},
   "outputs": [],
   "source": [
    "%matplotlib widget\n",
    "from matplotlib.pyplot import figure, ion, pause, axis\n",
    "from matplotlib.patches import Rectangle\n",
    "from time import sleep\n",
    "\n",
    "import cv2\n",
    "import signal\n",
    "from pyzbar.pyzbar import decode, ZBarSymbol"
   ]
  },
  {
   "cell_type": "code",
   "execution_count": 8,
   "metadata": {},
   "outputs": [],
   "source": [
    "def signal_handler(signal, frame):\n",
    "    # KeyboardInterrupt detected, exiting\n",
    "    global is_interrupted\n",
    "    is_interrupted = True"
   ]
  },
  {
   "cell_type": "code",
   "execution_count": 11,
   "metadata": {},
   "outputs": [
    {
     "data": {
      "application/vnd.jupyter.widget-view+json": {
       "model_id": "c0228771e5f046ab8bceb7751c75be14",
       "version_major": 2,
       "version_minor": 0
      },
      "text/plain": [
       "FigureCanvasNbAgg()"
      ]
     },
     "metadata": {},
     "output_type": "display_data"
    }
   ],
   "source": [
    "vc = cv2.VideoCapture(0)\n",
    "\n",
    "fig = figure()\n",
    "ax = fig.gca()\n",
    "ion()\n",
    "axis('off')\n",
    "ax.get_xaxis().set_visible(False)\n",
    "ax.get_yaxis().set_visible(False)\n",
    "fig.canvas.draw()\n",
    "song = AudioSegment.from_wav(\"Frog.wav\")\n",
    "\n",
    "if vc.isOpened(): # try to get the first frame\n",
    "    is_capturing, frame = vc.read()\n",
    "    frame = cv2.cvtColor(frame, cv2.COLOR_BGR2GRAY)\n",
    "    ax.clear()\n",
    "    #datos = decode(frame, symbols=[ZBarSymbol.CODE39])\n",
    "    webcam_preview = ax.imshow(cv2.flip(frame, 1), cmap='gray')\n",
    "    fig.canvas.draw()\n",
    "else:\n",
    "    is_capturing = False\n",
    "\n",
    "signal.signal(signal.SIGINT, signal_handler)\n",
    "is_interrupted = False\n",
    "\n",
    "codigos = []\n",
    "cuadros = []\n",
    "\n",
    "while is_capturing:\n",
    "    is_capturing, frame = vc.read()\n",
    "    frame = cv2.cvtColor(frame, cv2.COLOR_BGR2GRAY)\n",
    "    datos = decode(frame, symbols=[ZBarSymbol.CODE39])\n",
    "    [p.remove() for p in reversed(ax.patches)]\n",
    "    webcam_preview.set_data(cv2.flip(frame, 1))\n",
    "    \n",
    "    if len(datos) > 0:\n",
    "        play(song)\n",
    "        datos_r = datos[0][2]\n",
    "        cod = datos[0][0]\n",
    "        rect = Rectangle((1280-datos_r[0], datos_r[1]), -datos_r[2], datos_r[3],\n",
    "                         linewidth=1, edgecolor=(0,1,0), facecolor=(0,1,0,0.3))\n",
    "        ax.add_patch(rect)\n",
    "        codigos.append(cod)\n",
    "        cuadros.append(frame)\n",
    "        fig.canvas.draw()\n",
    "        sleep(2)\n",
    "        \n",
    "    fig.canvas.draw()\n",
    "\n",
    "    try:\n",
    "        pause(0.01)\n",
    "    except Exception:\n",
    "        pass\n",
    "    if is_interrupted:\n",
    "        vc.release()\n",
    "        break"
   ]
  },
  {
   "cell_type": "code",
   "execution_count": 12,
   "metadata": {},
   "outputs": [],
   "source": [
    "for i, (cod, cuad) in enumerate(zip(codigos, cuadros)):\n",
    "    cv2.imwrite(\"imagen\" + str(i+1) + \".jpg\", cv2.cvtColor(cuad, cv2.COLOR_BGR2RGB))"
   ]
  },
  {
   "cell_type": "code",
   "execution_count": 5,
   "metadata": {},
   "outputs": [
    {
     "data": {
      "text/plain": [
       "[b'98384',\n",
       " b'98384',\n",
       " b'98384',\n",
       " b'98384',\n",
       " b'98384',\n",
       " b'98384',\n",
       " b'98384',\n",
       " b'98384']"
      ]
     },
     "execution_count": 5,
     "metadata": {},
     "output_type": "execute_result"
    }
   ],
   "source": [
    "codigos"
   ]
  },
  {
   "cell_type": "code",
   "execution_count": null,
   "metadata": {},
   "outputs": [],
   "source": []
  }
 ],
 "metadata": {
  "kernelspec": {
   "display_name": "Python 3",
   "language": "python",
   "name": "python3"
  },
  "language_info": {
   "codemirror_mode": {
    "name": "ipython",
    "version": 3
   },
   "file_extension": ".py",
   "mimetype": "text/x-python",
   "name": "python",
   "nbconvert_exporter": "python",
   "pygments_lexer": "ipython3",
   "version": "3.6.8"
  }
 },
 "nbformat": 4,
 "nbformat_minor": 2
}
