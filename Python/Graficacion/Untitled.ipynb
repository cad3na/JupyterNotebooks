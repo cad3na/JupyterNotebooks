{
 "cells": [
  {
   "cell_type": "code",
   "execution_count": 69,
   "metadata": {},
   "outputs": [],
   "source": [
    "%matplotlib inline\n",
    "from matplotlib.pyplot import figure, plot, style\n",
    "from mpl_toolkits.mplot3d import Axes3D\n",
    "from mpl_toolkits.mplot3d.art3d import Poly3DCollection, Line3DCollection\n",
    "style.use(\"ggplot\")"
   ]
  },
  {
   "cell_type": "code",
   "execution_count": 89,
   "metadata": {},
   "outputs": [],
   "source": [
    "from numpy import matrix, sin, cos, pi, array, sum, abs, linspace, meshgrid, sqrt\n",
    "τ = 2*pi"
   ]
  },
  {
   "cell_type": "code",
   "execution_count": 62,
   "metadata": {},
   "outputs": [],
   "source": [
    "from itertools import product, combinations"
   ]
  },
  {
   "cell_type": "code",
   "execution_count": 38,
   "metadata": {},
   "outputs": [],
   "source": [
    "def ejes(axis, origen, orientacion, long=0.5):\n",
    "    '''\n",
    "    Esta función grafica un sistema de ejes coordenados, tomando en cuenta a axis como el\n",
    "    area principal de la figura sobre la que se quiere dibujar, origen como el vector de\n",
    "    posición sobre el que se dibujará el sistema de ejes coordenados y orientación, la\n",
    "    matriz de rotación que define la orientación del sistema de ejes coordenados y la\n",
    "    longitud requerida para cada vector.\n",
    "    \n",
    "    Para graficar un sistema de ejes coordenados en el origen, con orientación normal, se\n",
    "    puede hacer lo siguiente\n",
    "    \n",
    "    fig = figure()\n",
    "    ax = fig.gca()\n",
    "    \n",
    "    ejes(ax, matrix([0, 0, 0]), eye(3), 0.5)\n",
    "    '''\n",
    "    i = orientacion[:3, :1].T.tolist()[0]\n",
    "    j = orientacion[:3, 1:2].T.tolist()[0]\n",
    "    k = orientacion[:3, 2:3].T.tolist()[0]    \n",
    "    \n",
    "    xs, ys, zs = origen.T.tolist()[0]\n",
    "    us, vs, ws = zip(i)\n",
    "    axis.quiver(xs, ys, zs, us, vs, ws, pivot='tail', length=long, color='k')\n",
    "\n",
    "    us, vs, ws = zip(j)\n",
    "    axis.quiver(xs, ys, zs, us, vs, ws, pivot='tail', length=long, color='k')\n",
    "\n",
    "    us, vs, ws = zip(k)\n",
    "    axis.quiver(xs, ys, zs, us, vs, ws, pivot='tail', length=long, color='k')"
   ]
  },
  {
   "cell_type": "code",
   "execution_count": 39,
   "metadata": {},
   "outputs": [],
   "source": [
    "l = 1\n",
    "θ = τ/12\n",
    "\n",
    "A1 = matrix([[cos(θ), -sin(θ), 0, l*cos(θ)],\n",
    "             [sin(θ), cos(θ), 0, l*sin(θ)],\n",
    "             [0, 0, 1, 0],\n",
    "             [0, 0, 0, 1]])\n",
    "\n",
    "o1 = A1[:3, 3:]\n",
    "R1 = A1[:3, :3]"
   ]
  },
  {
   "cell_type": "code",
   "execution_count": 40,
   "metadata": {},
   "outputs": [],
   "source": [
    "from numpy import eye, matrix\n",
    "o0 = matrix([[0],[0],[0]])\n",
    "R0 = eye(3)\n",
    "xs = [o0.item(0), o1.item(0)]\n",
    "ys = [o0.item(1), o1.item(1)]\n",
    "zs = [o0.item(2), o1.item(2)]"
   ]
  },
  {
   "cell_type": "code",
   "execution_count": 42,
   "metadata": {},
   "outputs": [
    {
     "data": {
      "image/png": "[encoded data removed]",
      "text/plain": [
       "<Figure size 576x576 with 1 Axes>"
      ]
     },
     "metadata": {},
     "output_type": "display_data"
    }
   ],
   "source": [
    "f1 = figure(figsize=(8, 8))\n",
    "a1 = f1.add_subplot(111, projection='3d')\n",
    "a1.set_facecolor((1.0, 1.0, 1.0, 1.0))\n",
    "a1._axis3don = False\n",
    "a1.view_init(elev=30., azim=-45.)\n",
    "\n",
    "ejes(a1, o0, R0, 0.5)\n",
    "ejes(a1, o1, R1, 0.5)\n",
    "\n",
    "#p1, = a1.plot(xs, ys, zs, '-o', lw=10, solid_capstyle='round')\n",
    "\n",
    "a1.set_xlim(-2.1, 2.1)\n",
    "a1.set_ylim(-2.1, 2.1)\n",
    "a1.set_zlim(-0.1, 4.1);"
   ]
  },
  {
   "cell_type": "code",
   "execution_count": 43,
   "metadata": {},
   "outputs": [],
   "source": [
    "def cuboid_data(center, size=(1,1,1)):\n",
    "    o = [a - b / 2 for a, b in zip(center, size)]\n",
    "    # get the length, width, and height\n",
    "    l, w, h = size\n",
    "    x = [[o[0], o[0] + l, o[0] + l, o[0], o[0]],  # x coordinate of points in bottom surface\n",
    "         [o[0], o[0] + l, o[0] + l, o[0], o[0]],  # x coordinate of points in upper surface\n",
    "         [o[0], o[0] + l, o[0] + l, o[0], o[0]],  # x coordinate of points in outside surface\n",
    "         [o[0], o[0] + l, o[0] + l, o[0], o[0]]]  # x coordinate of points in inside surface\n",
    "    y = [[o[1], o[1], o[1] + w, o[1] + w, o[1]],  # y coordinate of points in bottom surface\n",
    "         [o[1], o[1], o[1] + w, o[1] + w, o[1]],  # y coordinate of points in upper surface\n",
    "         [o[1], o[1], o[1], o[1], o[1]],          # y coordinate of points in outside surface\n",
    "         [o[1] + w, o[1] + w, o[1] + w, o[1] + w, o[1] + w]]    # y coordinate of points in inside surface\n",
    "    z = [[o[2], o[2], o[2], o[2], o[2]],                        # z coordinate of points in bottom surface\n",
    "         [o[2] + h, o[2] + h, o[2] + h, o[2] + h, o[2] + h],    # z coordinate of points in upper surface\n",
    "         [o[2], o[2], o[2] + h, o[2] + h, o[2]],                # z coordinate of points in outside surface\n",
    "         [o[2], o[2], o[2] + h, o[2] + h, o[2]]]                # z coordinate of points in inside surface\n",
    "    return x, y, z\n",
    "\n",
    "def plotCubeAt(pos=(0,0), N=0, ax=None):\n",
    "    # Plotting N cube elements at position pos\n",
    "    if ax !=None:\n",
    "        if N > 0:\n",
    "            for n in range(N):\n",
    "                X, Y, Z = cuboid_data( (pos[0],pos[1],n) )\n",
    "                ax.plot_surface(X, Y, Z, color='b', rstride=1, cstride=1, alpha=1)\n",
    "\n",
    "def plotIsoMatrix(ax, matrix):\n",
    "    # plot a Matrix \n",
    "    # where matrix[i,j] cubes are added at position (i,j) \n",
    "    for i  in range(matrix.shape[0]):\n",
    "            for j in range(matrix.shape[1]):\n",
    "                plotCubeAt(pos=(i,j), N=matrix[i,j], ax=ax)\n",
    "\n",
    "    l = max(matrix.shape[0], matrix.shape[1], matrix.max())\n",
    "    bb = np.array([(0,0,0), (0,l,0), (l,0,0), (l,l,0),(0,0,l), (0,l,l), (l,0,l), (l,l,l)])\n",
    "    ax.plot(bb[:,0], bb[:,1], bb[:,2], \"w\", alpha=0.0)     "
   ]
  },
  {
   "cell_type": "code",
   "execution_count": 47,
   "metadata": {},
   "outputs": [],
   "source": [
    "matrix = array([[3,2],[1,1]])"
   ]
  },
  {
   "cell_type": "code",
   "execution_count": 60,
   "metadata": {},
   "outputs": [
    {
     "data": {
      "text/plain": [
       "([[-0.5, 0.5, 0.5, -0.5, -0.5],\n",
       "  [-0.5, 0.5, 0.5, -0.5, -0.5],\n",
       "  [-0.5, 0.5, 0.5, -0.5, -0.5],\n",
       "  [-0.5, 0.5, 0.5, -0.5, -0.5]],\n",
       " [[-0.5, -0.5, 0.5, 0.5, -0.5],\n",
       "  [-0.5, -0.5, 0.5, 0.5, -0.5],\n",
       "  [-0.5, -0.5, -0.5, -0.5, -0.5],\n",
       "  [0.5, 0.5, 0.5, 0.5, 0.5]],\n",
       " [[-0.5, -0.5, -0.5, -0.5, -0.5],\n",
       "  [0.5, 0.5, 0.5, 0.5, 0.5],\n",
       "  [-0.5, -0.5, 0.5, 0.5, -0.5],\n",
       "  [-0.5, -0.5, 0.5, 0.5, -0.5]])"
      ]
     },
     "execution_count": 60,
     "metadata": {},
     "output_type": "execute_result"
    }
   ],
   "source": [
    "cuboid_data((0,0,0))"
   ]
  },
  {
   "cell_type": "code",
   "execution_count": 88,
   "metadata": {},
   "outputs": [
    {
     "data": {
      "image/png": "[encoded data removed]",
      "text/plain": [
       "<Figure size 576x576 with 1 Axes>"
      ]
     },
     "metadata": {},
     "output_type": "display_data"
    }
   ],
   "source": [
    "f1 = figure(figsize=(8, 8))\n",
    "a1 = f1.add_subplot(111, projection='3d')\n",
    "a1.set_facecolor((1.0, 1.0, 1.0, 1.0))\n",
    "a1._axis3don = False\n",
    "a1.view_init(elev=30., azim=-45.)\n",
    "\n",
    "#ejes(a1, o0, R0, 0.5)\n",
    "#ejes(a1, o1, R1, 0.5)\n",
    "#plotIsoMatrix(a1, matrix)\n",
    "#plotCubeAt((0, 0, 0),  1, a1)\n",
    "\n",
    "# draw cube\n",
    "#r = [-1, 1]\n",
    "#for s, e in combinations(array(list(product(r, r, r))), 2):\n",
    "#    if sum(abs(s-e)) == r[1]-r[0]:\n",
    "#        a1.plot3D(*zip(s, e), color=\"k\")\n",
    "\n",
    "#p1, = a1.plot(xs, ys, zs, '-o', lw=10, solid_capstyle='round')\n",
    "\n",
    "centro_inf = [0,0,0]\n",
    "largo = 2\n",
    "centro_sup = [centro_inf[0],centro_inf[1],largo]\n",
    "ancho_x = 1\n",
    "ancho_y = 1\n",
    "\n",
    "v = array([[centro_inf[0]-ancho_x/2,centro_inf[1]-ancho_y/2,centro_inf[2]],\n",
    "           [centro_inf[0]-ancho_x/2,centro_inf[1]+ancho_y/2,centro_inf[2]],\n",
    "           [centro_inf[0]+ancho_x/2,centro_inf[1]-ancho_y/2,centro_inf[2]],\n",
    "           [centro_inf[0]+ancho_x/2,centro_inf[1]+ancho_y/2,centro_inf[2]],\n",
    "           [centro_inf[0]-ancho_x/2,centro_inf[1]-ancho_y/2,centro_sup[2]],\n",
    "           [centro_inf[0]-ancho_x/2,centro_inf[1]+ancho_y/2,centro_sup[2]],\n",
    "           [centro_inf[0]+ancho_x/2,centro_inf[1]-ancho_y/2,centro_sup[2]],\n",
    "           [centro_inf[0]+ancho_x/2,centro_inf[1]+ancho_y/2,centro_sup[2]]])\n",
    "\n",
    "# generate list of sides' polygons of our pyramid\n",
    "verts = [[v[0],v[1],v[3],v[2]],\n",
    "         [v[4],v[5],v[7],v[6]],\n",
    "         [v[0],v[1],v[5],v[4]],\n",
    "         [v[1],v[3],v[7],v[5]],\n",
    "         [v[2],v[3],v[7],v[6]],\n",
    "         [v[0],v[2],v[6],v[4]]]\n",
    "\n",
    "# plot sides\n",
    "a1.add_collection3d(Poly3DCollection(verts, facecolors='white', linewidths=1, edgecolors='k'))\n",
    "\n",
    "a1.set_xlim(-2.1, 2.1)\n",
    "a1.set_ylim(-2.1, 2.1)\n",
    "a1.set_zlim(-0.1, 4.1);"
   ]
  },
  {
   "cell_type": "code",
   "execution_count": 118,
   "metadata": {},
   "outputs": [
    {
     "data": {
      "image/png": "[encoded data removed]",
      "text/plain": [
       "<Figure size 576x576 with 1 Axes>"
      ]
     },
     "metadata": {},
     "output_type": "display_data"
    }
   ],
   "source": [
    "def data_for_cylinder_along_z(center_x,center_y,radius,height_z):\n",
    "    z = linspace(0, height_z, 50)\n",
    "    theta = linspace(0, 2*pi, 50)\n",
    "    theta_grid, z_grid = meshgrid(theta, z)\n",
    "    x_grid = radius*cos(theta_grid) + center_x\n",
    "    y_grid = radius*sin(theta_grid) + center_y\n",
    "    return x_grid,y_grid,z_grid\n",
    "\n",
    "f1 = figure(figsize=(8, 8))\n",
    "a1 = f1.add_subplot(111, projection='3d')\n",
    "a1.set_facecolor((1.0, 1.0, 1.0, 1.0))\n",
    "a1._axis3don = False\n",
    "a1.view_init(elev=30., azim=-45.)\n",
    "\n",
    "Xc,Yc,Zc = data_for_cylinder_along_z(0,0,1,2)\n",
    "a1.plot_surface(Xc, -Yc, Zc, alpha=1, color=\"w\")\n",
    "\n",
    "a1.set_xlim(-2.1, 2.1)\n",
    "a1.set_ylim(-2.1, 2.1)\n",
    "a1.set_zlim(-0.1, 4.1);"
   ]
  },
  {
   "cell_type": "code",
   "execution_count": null,
   "metadata": {},
   "outputs": [],
   "source": []
  }
 ],
 "metadata": {
  "kernelspec": {
   "display_name": "Python 3",
   "language": "python",
   "name": "python3"
  },
  "language_info": {
   "codemirror_mode": {
    "name": "ipython",
    "version": 3
   },
   "file_extension": ".py",
   "mimetype": "text/x-python",
   "name": "python",
   "nbconvert_exporter": "python",
   "pygments_lexer": "ipython3",
   "version": "3.6.5"
  }
 },
 "nbformat": 4,
 "nbformat_minor": 2
}
