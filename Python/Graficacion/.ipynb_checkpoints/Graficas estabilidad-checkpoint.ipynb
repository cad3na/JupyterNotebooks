{
 "cells": [
  {
   "cell_type": "code",
   "execution_count": 1,
   "metadata": {},
   "outputs": [],
   "source": [
    "%matplotlib inline\n",
    "from matplotlib.pyplot import figure"
   ]
  },
  {
   "cell_type": "code",
   "execution_count": 14,
   "metadata": {},
   "outputs": [],
   "source": [
    "def graficar(xs, ys, cursores_x={}, cursores_y={}, tamaño=(9, 6), imprimir_etiquetas=True):\n",
    "    \n",
    "    def imprimir_cursores(cursores, margenes, eje, axis, δ):\n",
    "        etiquetas = cursores.keys()\n",
    "        if eje is \"x\":\n",
    "            for etiqueta in etiquetas:\n",
    "                valor = cursores[etiqueta]\n",
    "                axis.plot([valor, valor], [margenes[0], margenes[1]], '--r')\n",
    "                axis.text(valor, -δ, etiqueta, color='red')\n",
    "        if eje is \"y\":\n",
    "            for etiqueta in etiquetas:\n",
    "                valor = cursores[etiqueta]\n",
    "                axis.plot([margenes[0], margenes[1]], [valor, valor], '--r')\n",
    "                axis.text(-10*δ, valor, etiqueta, horizontalalignment=\"right\", color='red')\n",
    "                \n",
    "    from matplotlib.pyplot import figure\n",
    "    from matplotlib import rc\n",
    "    rc('font',**{'family':'sans-serif','sans-serif':['Noto Sans']})\n",
    "    #rc('font',**{'family':'serif','serif':['Palatino'], 'size':14.0})\n",
    "    #rc('text', usetex=True)\n",
    "    \n",
    "    δx = 0.01*abs(max(xs) - min(xs))\n",
    "    δy = 0.01*abs(max(ys) - min(ys))\n",
    "    \n",
    "    margenes_x = [min(xs) - δx, max(xs) + δx]\n",
    "    margenes_y = [min(ys) - δy, max(ys) + δy]\n",
    "    \n",
    "    fig = figure(figsize=tamaño)\n",
    "    ax = fig.gca()\n",
    "\n",
    "    ax.axes.spines[\"top\"].set_color(\"none\")\n",
    "    ax.axes.spines[\"right\"].set_color(\"none\")\n",
    "    ax.tick_params(top=\"off\", right=\"off\")\n",
    "\n",
    "    ax.axes.spines[\"left\"].set_position(\"zero\")\n",
    "    #ax.axes.spines[\"left\"].set_axisline_style(\"->\")\n",
    "    ax.axes.spines[\"bottom\"].set_position(\"zero\")\n",
    "    ax.spines[\"left\"].set_linewidth(2)\n",
    "    ax.spines[\"bottom\"].set_linewidth(2)\n",
    "\n",
    "    ax.plot(xs, ys, 'k')\n",
    "    ax.axes.set_xlim(margenes_x[0], margenes_x[1])\n",
    "    ax.axes.set_ylim(margenes_y[0], margenes_y[1])\n",
    "    fig.canvas.draw()\n",
    "    \n",
    "    #for direction in [\"xzero\", \"yzero\"]:\n",
    "    #    ax.axis[direction].set_visible(True)\n",
    "    #    ax.axis[direction].set_axisline_style(\"->\")\n",
    "    \n",
    "    if imprimir_etiquetas == False:\n",
    "        ax.axes.get_xaxis().set_ticks([])\n",
    "        ax.axes.get_yaxis().set_ticks([])\n",
    "        \n",
    "    if len(cursores_x) > 0:\n",
    "        imprimir_cursores(cursores_x, margenes_y, \"x\", ax, δx)\n",
    "    if len(cursores_y) > 0:\n",
    "        imprimir_cursores(cursores_y, margenes_x, \"y\", ax, δy)\n",
    "\n",
    "    labels = ax.xaxis.get_ticklabels()\n",
    "    for label in labels:\n",
    "        if label.get_text() == r'$0$' or label.get_text() == r'$0.0$':\n",
    "            label.set_visible(False)\n",
    "\n",
    "    labels = ax.yaxis.get_ticklabels()\n",
    "    for label in labels:\n",
    "        if label.get_text() == r'$0$' or label.get_text() == r'$0.0$':\n",
    "            label.set_visible(False)\n",
    "            \n",
    "    return ax"
   ]
  },
  {
   "cell_type": "code",
   "execution_count": 15,
   "metadata": {},
   "outputs": [],
   "source": [
    "from control import tf, step"
   ]
  },
  {
   "cell_type": "code",
   "execution_count": 16,
   "metadata": {},
   "outputs": [],
   "source": [
    "G = tf([1],[1, 1, 1])\n",
    "t, y = step(G)"
   ]
  },
  {
   "cell_type": "code",
   "execution_count": 18,
   "metadata": {},
   "outputs": [
    {
     "name": "stderr",
     "output_type": "stream",
     "text": [
      "/Users/roberto/miniconda3/lib/python3.6/site-packages/matplotlib/font_manager.py:1328: UserWarning: findfont: Font family ['sans-serif'] not found. Falling back to DejaVu Sans\n",
      "  (prop.get_family(), self.defaultFamily[fontext]))\n"
     ]
    },
    {
     "data": {
      "text/plain": [
       "'/Users/roberto/miniconda3/lib/python3.6/site-packages/matplotlib/mpl-data/fonts/ttf/DejaVuSans.ttf'"
      ]
     },
     "execution_count": 18,
     "metadata": {},
     "output_type": "execute_result"
    }
   ],
   "source": [
    ">>> from matplotlib.font_manager import findfont, FontProperties\n",
    ">>> font = findfont(FontProperties(family=['sans-serif']))\n",
    ">>> font"
   ]
  },
  {
   "cell_type": "code",
   "execution_count": 19,
   "metadata": {},
   "outputs": [
    {
     "data": {
      "text/plain": [
       "'/Users/roberto/.matplotlib'"
      ]
     },
     "execution_count": 19,
     "metadata": {},
     "output_type": "execute_result"
    }
   ],
   "source": [
    ">>> import matplotlib as mpl\n",
    ">>> mpl.get_configdir()"
   ]
  },
  {
   "cell_type": "code",
   "execution_count": 17,
   "metadata": {},
   "outputs": [
    {
     "name": "stderr",
     "output_type": "stream",
     "text": [
      "/Users/roberto/miniconda3/lib/python3.6/site-packages/matplotlib/cbook/deprecation.py:107: MatplotlibDeprecationWarning: Passing one of 'on', 'true', 'off', 'false' as a boolean is deprecated; use an actual boolean (True/False) instead.\n",
      "  warnings.warn(message, mplDeprecation, stacklevel=1)\n",
      "/Users/roberto/miniconda3/lib/python3.6/site-packages/matplotlib/font_manager.py:1328: UserWarning: findfont: Font family ['sans-serif'] not found. Falling back to DejaVu Sans\n",
      "  (prop.get_family(), self.defaultFamily[fontext]))\n"
     ]
    },
    {
     "data": {
      "text/plain": [
       "[<matplotlib.lines.Line2D at 0x1c22d137b8>]"
      ]
     },
     "execution_count": 17,
     "metadata": {},
     "output_type": "execute_result"
    },
    {
     "data": {
      "image/png": "[encoded data removed]",
      "text/plain": [
       "<Figure size 648x432 with 1 Axes>"
      ]
     },
     "metadata": {},
     "output_type": "display_data"
    }
   ],
   "source": [
    "ax2 = graficar(y, t)\n",
    "\n",
    "#ax2.plot(t, y, 'r')\n",
    "ax2.plot([-1, 1000], [1, 1], \"--r\")\n",
    "#ax2.plot([-1000, 1000], [ys2[2], ys2[2]], \"--r\")\n",
    "#ax2.text(-0.35, 0.0 + ys2[1], r'$y_{i}$', color='red')\n",
    "#ax2.text(-0.35, 0.0 + ys2[2], r'$y_{i+1}$', color='red');\n",
    "\n",
    "\n",
    "#ax2.plot([ts2[1], ts2[1]], [-1000, 1000], \"--r\")\n",
    "#ax2.plot([ts2[2], ts2[2]], [-1000, 1000], \"--r\")\n",
    "#ax2.text(0.6, -0.1 , r'$x_{i}$', color='red')\n",
    "#ax2.text(1.2, -0.1 , r'$x_{i+1}$', color='red');"
   ]
  },
  {
   "cell_type": "code",
   "execution_count": 115,
   "metadata": {},
   "outputs": [
    {
     "data": {
      "image/png": "[encoded data removed]",
      "text/plain": [
       "<matplotlib.figure.Figure at 0x1c13032be0>"
      ]
     },
     "metadata": {},
     "output_type": "display_data"
    }
   ],
   "source": [
    "ax2 = graficar(y, t, cursores_y={r\"r\":1})"
   ]
  },
  {
   "cell_type": "code",
   "execution_count": 36,
   "metadata": {},
   "outputs": [
    {
     "data": {
      "image/png": "[encoded data removed]",
      "text/plain": [
       "<matplotlib.figure.Figure at 0x1c1306ce80>"
      ]
     },
     "metadata": {},
     "output_type": "display_data"
    }
   ],
   "source": [
    "f = lambda x: x**3 + 2*x**2 + 10*x - 20\n",
    "\n",
    "xs = linspace(0, 3, 100)\n",
    "ys = f(xs)\n",
    "\n",
    "ax1 = graficar(xs, ys)\n",
    "ax1.plot([1, 1], [-1000, 1000], '--k')\n",
    "ax1.plot([2, 2], [-1000, 1000], '--k')\n",
    "ax1.plot([1.5, 1.5], [-1000, 1000], '--r')\n",
    "ax1.text(0.9, 40, r'$x_1$')\n",
    "ax1.text(1.9, 40, r'$x_2$')\n",
    "ax1.text(1.4, 40, r'$x_m$', color='red');"
   ]
  },
  {
   "cell_type": "code",
   "execution_count": 37,
   "metadata": {},
   "outputs": [],
   "source": [
    "tam=(6, 6)\n",
    "tls=True"
   ]
  },
  {
   "cell_type": "code",
   "execution_count": 39,
   "metadata": {},
   "outputs": [
    {
     "data": {
      "image/png": "[encoded data removed]",
      "text/plain": [
       "<matplotlib.figure.Figure at 0x1511b5f5c0>"
      ]
     },
     "metadata": {},
     "output_type": "display_data"
    }
   ],
   "source": [
    "%matplotlib inline\n",
    "from matplotlib.pyplot import figure\n",
    "from matplotlib import rc\n",
    "from matplotlib.patches import Arc\n",
    "#rc('font',**{'family':'sans-serif','sans-serif':['Helvetica']})\n",
    "## for Palatino and other serif fonts use:\n",
    "rc('font',**{'family':'serif','serif':['Palatino'], 'size':14.0})\n",
    "#rc('font', **{'family':'cursive', 'cursive':['Zapf Chancery'], 'size':14.0})\n",
    "#rc('font', **{'family':'fantasy', 'fantasy':['Humor Sans'], 'size':14.0})\n",
    "rc('text', usetex=True)\n",
    "\n",
    "fig = figure(figsize=tam)\n",
    "ax = fig.gca()\n",
    "\n",
    "#ax.axes.get_xaxis().set_visible(False)\n",
    "#ax.axes.get_yaxis().set_visible(False)\n",
    "\n",
    "ax.axes.spines[\"top\"].set_color(\"none\")\n",
    "ax.axes.spines[\"right\"].set_color(\"none\")\n",
    "ax.tick_params(top=\"off\", right=\"off\")\n",
    "\n",
    "ax.axes.spines[\"left\"].set_position(\"zero\")\n",
    "ax.axes.spines[\"bottom\"].set_position(\"zero\")\n",
    "ax.spines[\"left\"].set_linewidth(2)\n",
    "ax.spines[\"bottom\"].set_linewidth(2)\n",
    "\n",
    "#ax.plot(xs, ys, 'k')\n",
    "ax.axes.set_xlim(-0.1, 1 + 0.1)\n",
    "ax.axes.set_ylim(-0.1, 1 + 0.1)\n",
    "\n",
    "elpse = Arc([0, 0], 1, 1, 0, 0, 45)\n",
    "ax.add_patch(elpse)\n",
    "\n",
    "ax.quiver([0], [0], [1], [1], scale=1.2, color=\"r\");\n",
    "#ax.quiver?\n",
    "\n",
    "fig.canvas.draw()\n",
    "if tls == False:\n",
    "    ax.axes.get_xaxis().set_ticks([])\n",
    "    ax.axes.get_yaxis().set_ticks([])\n",
    "\n",
    "labels = ax.xaxis.get_ticklabels()\n",
    "#ticklabels[0].set_visible(False)\n",
    "for label in labels:\n",
    "    if label.get_text() == r'$0$' or label.get_text() == r'$0.0$':\n",
    "        label.set_visible(False)\n",
    "\n",
    "labels = ax.yaxis.get_ticklabels()\n",
    "#ticklabels[0].set_visible(False)\n",
    "for label in labels:\n",
    "    if label.get_text() == r'$0$' or label.get_text() == r'$0.0$':\n",
    "        label.set_visible(False)\n",
    "        \n",
    "ax.text(0.5, 0.2, r'$\\theta$', size=30);"
   ]
  },
  {
   "cell_type": "code",
   "execution_count": 40,
   "metadata": {},
   "outputs": [],
   "source": [
    "prueba = {r\"$x_i$\":1}\n",
    "p = prueba.keys()"
   ]
  },
  {
   "cell_type": "code",
   "execution_count": 41,
   "metadata": {},
   "outputs": [
    {
     "name": "stdout",
     "output_type": "stream",
     "text": [
      "$x_i$ 1\n"
     ]
    }
   ],
   "source": [
    "for c in p:\n",
    "    print(c, prueba[c])"
   ]
  },
  {
   "cell_type": "code",
   "execution_count": 15,
   "metadata": {},
   "outputs": [
    {
     "data": {
      "text/plain": [
       "1"
      ]
     },
     "execution_count": 15,
     "metadata": {},
     "output_type": "execute_result"
    }
   ],
   "source": [
    "len(prueba)"
   ]
  },
  {
   "cell_type": "code",
   "execution_count": 12,
   "metadata": {},
   "outputs": [],
   "source": [
    "%matplotlib inline"
   ]
  },
  {
   "cell_type": "code",
   "execution_count": 31,
   "metadata": {},
   "outputs": [
    {
     "ename": "ValueError",
     "evalue": "v must contain [xmin xmax ymin ymax]",
     "output_type": "error",
     "traceback": [
      "\u001b[0;31m---------------------------------------------------------------------------\u001b[0m",
      "\u001b[0;31mValueError\u001b[0m                                Traceback (most recent call last)",
      "\u001b[0;32m<ipython-input-31-ce71c524721e>\u001b[0m in \u001b[0;36m<module>\u001b[0;34m()\u001b[0m\n\u001b[1;32m      1\u001b[0m \u001b[0mfig\u001b[0m \u001b[0;34m=\u001b[0m \u001b[0mfigure\u001b[0m\u001b[0;34m(\u001b[0m\u001b[0mfigsize\u001b[0m\u001b[0;34m=\u001b[0m\u001b[0;34m(\u001b[0m\u001b[0;36m18\u001b[0m\u001b[0;34m,\u001b[0m\u001b[0;36m6\u001b[0m\u001b[0;34m)\u001b[0m\u001b[0;34m)\u001b[0m\u001b[0;34m\u001b[0m\u001b[0m\n\u001b[1;32m      2\u001b[0m \u001b[0max\u001b[0m \u001b[0;34m=\u001b[0m \u001b[0mfig\u001b[0m\u001b[0;34m.\u001b[0m\u001b[0mgca\u001b[0m\u001b[0;34m(\u001b[0m\u001b[0;34m)\u001b[0m\u001b[0;34m\u001b[0m\u001b[0m\n\u001b[0;32m----> 3\u001b[0;31m \u001b[0max\u001b[0m\u001b[0;34m.\u001b[0m\u001b[0maxis\u001b[0m\u001b[0;34m(\u001b[0m\u001b[0;34m[\u001b[0m\u001b[0;34m\"xzero\"\u001b[0m\u001b[0;34m]\u001b[0m\u001b[0;34m)\u001b[0m\u001b[0;34m\u001b[0m\u001b[0m\n\u001b[0m",
      "\u001b[0;32m~/miniconda3/lib/python3.6/site-packages/matplotlib/axes/_base.py\u001b[0m in \u001b[0;36maxis\u001b[0;34m(self, *v, **kwargs)\u001b[0m\n\u001b[1;32m   1626\u001b[0m         \u001b[0mv\u001b[0m \u001b[0;34m=\u001b[0m \u001b[0mv\u001b[0m\u001b[0;34m[\u001b[0m\u001b[0;36m0\u001b[0m\u001b[0;34m]\u001b[0m\u001b[0;34m\u001b[0m\u001b[0m\n\u001b[1;32m   1627\u001b[0m         \u001b[0;32mif\u001b[0m \u001b[0mlen\u001b[0m\u001b[0;34m(\u001b[0m\u001b[0mv\u001b[0m\u001b[0;34m)\u001b[0m \u001b[0;34m!=\u001b[0m \u001b[0;36m4\u001b[0m\u001b[0;34m:\u001b[0m\u001b[0;34m\u001b[0m\u001b[0m\n\u001b[0;32m-> 1628\u001b[0;31m             \u001b[0;32mraise\u001b[0m \u001b[0mValueError\u001b[0m\u001b[0;34m(\u001b[0m\u001b[0;34m'v must contain [xmin xmax ymin ymax]'\u001b[0m\u001b[0;34m)\u001b[0m\u001b[0;34m\u001b[0m\u001b[0m\n\u001b[0m\u001b[1;32m   1629\u001b[0m \u001b[0;34m\u001b[0m\u001b[0m\n\u001b[1;32m   1630\u001b[0m         \u001b[0mself\u001b[0m\u001b[0;34m.\u001b[0m\u001b[0mset_xlim\u001b[0m\u001b[0;34m(\u001b[0m\u001b[0;34m[\u001b[0m\u001b[0mv\u001b[0m\u001b[0;34m[\u001b[0m\u001b[0;36m0\u001b[0m\u001b[0;34m]\u001b[0m\u001b[0;34m,\u001b[0m \u001b[0mv\u001b[0m\u001b[0;34m[\u001b[0m\u001b[0;36m1\u001b[0m\u001b[0;34m]\u001b[0m\u001b[0;34m]\u001b[0m\u001b[0;34m,\u001b[0m \u001b[0memit\u001b[0m\u001b[0;34m=\u001b[0m\u001b[0memit\u001b[0m\u001b[0;34m,\u001b[0m \u001b[0mauto\u001b[0m\u001b[0;34m=\u001b[0m\u001b[0;32mFalse\u001b[0m\u001b[0;34m)\u001b[0m\u001b[0;34m\u001b[0m\u001b[0m\n",
      "\u001b[0;31mValueError\u001b[0m: v must contain [xmin xmax ymin ymax]"
     ]
    },
    {
     "data": {
      "image/png": "[encoded data removed]",
      "text/plain": [
       "<matplotlib.figure.Figure at 0x151926b940>"
      ]
     },
     "metadata": {},
     "output_type": "display_data"
    }
   ],
   "source": [
    "fig = figure(figsize=(18,6))\n",
    "ax = fig.gca()\n",
    "ax.axis([\"xzero\"])"
   ]
  },
  {
   "cell_type": "code",
   "execution_count": null,
   "metadata": {},
   "outputs": [],
   "source": []
  }
 ],
 "metadata": {
  "anaconda-cloud": {},
  "kernelspec": {
   "display_name": "Python 3",
   "language": "python",
   "name": "python3"
  },
  "language_info": {
   "codemirror_mode": {
    "name": "ipython",
    "version": 3
   },
   "file_extension": ".py",
   "mimetype": "text/x-python",
   "name": "python",
   "nbconvert_exporter": "python",
   "pygments_lexer": "ipython3",
   "version": "3.6.5"
  }
 },
 "nbformat": 4,
 "nbformat_minor": 2
}
