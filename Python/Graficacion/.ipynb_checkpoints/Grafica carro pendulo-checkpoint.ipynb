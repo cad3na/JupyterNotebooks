{
 "cells": [
  {
   "cell_type": "code",
   "execution_count": 12,
   "metadata": {},
   "outputs": [],
   "source": [
    "%matplotlib widget\n",
    "from matplotlib.pyplot import figure, close\n",
    "from matplotlib import rc, rcParams\n",
    "from matplotlib.patches import Arc, Circle, Wedge, Rectangle\n",
    "\n",
    "from numpy import sin, cos, pi, matrix, array, eye, degrees"
   ]
  },
  {
   "cell_type": "code",
   "execution_count": 6,
   "metadata": {},
   "outputs": [],
   "source": [
    "def rot_z(θ):\n",
    "    from numpy import sin, cos, matrix\n",
    "    A = matrix([[cos(θ), -sin(θ), 0, 0],\n",
    "                [sin(θ), cos(θ), 0, 0],\n",
    "                [0, 0, 1, 0],\n",
    "                [0, 0, 0, 1]])\n",
    "    return A\n",
    "\n",
    "def tras_x(x):\n",
    "    from numpy import matrix\n",
    "    A = matrix([[1, 0, 0, x],\n",
    "                [0, 1, 0, 0],\n",
    "                [0, 0, 1, 0],\n",
    "                [0, 0, 0, 1]])\n",
    "    return A\n",
    "\n",
    "def ejes(axis, origen, orientacion, long=0.5):\n",
    "    \n",
    "    i = orientacion[:3, :1].T.tolist()[0]\n",
    "    j = orientacion[:3, 1:2].T.tolist()[0]\n",
    "    k = orientacion[:3, 2:3].T.tolist()[0]    \n",
    "    \n",
    "    xs, ys, zs = origen.T.tolist()[0]\n",
    "    us, vs, ws = zip(i)\n",
    "    axis.quiver(xs, ys, us, vs, scale=long, scale_units=\"xy\", angles=\"xy\", color=\"k\", width=0.004)\n",
    "\n",
    "    us, vs, ws = zip(j)\n",
    "    axis.quiver(xs, ys, us, vs, scale=long, scale_units=\"xy\", angles=\"xy\", color=\"k\", width=0.004)"
   ]
  },
  {
   "cell_type": "code",
   "execution_count": 7,
   "metadata": {},
   "outputs": [],
   "source": [
    "τ = 2*pi\n",
    "l1 = 1\n",
    "L1 = 1.5\n",
    "q1 = -τ/8\n",
    "\n",
    "A1 = rot_z(q1)*tras_x(L1)\n",
    "Ac = rot_z(q1)*tras_x(l1)\n",
    "\n",
    "Hc = Ac\n",
    "H1 = A1\n",
    "\n",
    "oc = Hc[:3, 3:]\n",
    "xc = Hc[:3, :1]\n",
    "yc = Hc[:3, 1:2]\n",
    "\n",
    "R1 = H1[:3, :3]\n",
    "o1 = H1[:3, 3:]\n",
    "x1 = H1[:3, :1]\n",
    "y1 = H1[:3, 1:2]\n",
    "\n",
    "o0 = matrix([[0, 0, 0]]).T\n",
    "R0 = rot_z(0)\n",
    "δ0 = matrix([-1.0, 0, 0]).T\n",
    "\n",
    "xs = [o0.item(0), o1.item(0)]\n",
    "ys = [o0.item(1), o1.item(1)]\n",
    "\n",
    "p_l1 = o0 + (L1/2)*x1"
   ]
  },
  {
   "cell_type": "code",
   "execution_count": 21,
   "metadata": {},
   "outputs": [
    {
     "data": {
      "application/vnd.jupyter.widget-view+json": {
       "model_id": "af70272281e64f86b8c21c66ff831ab9",
       "version_major": 2,
       "version_minor": 0
      },
      "text/plain": [
       "FigureCanvasNbAgg()"
      ]
     },
     "metadata": {},
     "output_type": "display_data"
    }
   ],
   "source": [
    "δ = 0.1\n",
    "rc('font',**{'family':'sans-serif', 'sans-serif':['Noto Sans'], 'size':16.0})\n",
    "rc('text', usetex=False)\n",
    "#rc('text', \"latex.preamble\"=['\\usepackage[sfdefault]{noto}','\\usepackage[T1]{fontenc}','\\normalfont'])\n",
    "#text.latex.preamble : \\usepackage{bm},\\usepackage{euler}\n",
    "#rcParams[\"text.latex.preamble\"] = \"\\usepackage[stdefault]{noto}, \\usepackage[T1]{fontenc}, \\normalfont\"\n",
    "#\\usepackage[sfdefault]{noto}','\\usepackage[T1]{fontenc}','\\normalfont'\n",
    "\n",
    "tam=(2.7*2, 2*2)\n",
    "tls=True\n",
    "\n",
    "fig = figure(figsize=tam)\n",
    "ax = fig.gca()\n",
    "\n",
    "ax.axes.get_xaxis().set_visible(False)\n",
    "ax.axes.get_yaxis().set_visible(False)\n",
    "\n",
    "ax.axes.spines[\"top\"].set_color(\"none\")\n",
    "ax.axes.spines[\"bottom\"].set_color(\"none\")\n",
    "ax.axes.spines[\"left\"].set_color(\"none\")\n",
    "ax.axes.spines[\"right\"].set_color(\"none\")\n",
    "\n",
    "ax.axes.set_xlim(-δ - 1.0, 1.5 + δ)\n",
    "ax.axes.set_ylim(-1.5 - δ, 0.3 + δ)\n",
    "\n",
    "carro = Rectangle([o0.item(0)-0.15, o0.item(1)-0.1], 0.3, 0.2, fc=(1,1,1,0), color=\"333\")\n",
    "ax.add_patch(carro)\n",
    "riel1 = Rectangle([o0.item(0)-2.15, o0.item(1)-0.05], 2, 0.1, fc=(1,1,1,0), color=\"333\")\n",
    "ax.add_patch(riel1)\n",
    "riel2 = Rectangle([o0.item(0)+0.15, o0.item(1)-0.05], 2, 0.1, fc=(1,1,1,0), color=\"333\")\n",
    "ax.add_patch(riel2)\n",
    "\n",
    "eje0 = Circle([o0.item(0), o0.item(1)], 0.05, ec='333')\n",
    "eje0.set_fill(False)\n",
    "ax.add_patch(eje0)\n",
    "\n",
    "eje1 = Circle([o1.item(0), o1.item(1)], 0.05, ec='333')\n",
    "eje1.set_fill(False)\n",
    "ax.add_patch(eje1)\n",
    "\n",
    "#wedge1 = Wedge([oc.item(0), oc.item(1)], 0.05, 0, 90, ec=\"333\", fc=\"333\")\n",
    "#ax.add_patch(wedge1)\n",
    "#wedge2 = Wedge([oc.item(0), oc.item(1)], 0.05, 180, 270, ec=\"333\", fc=\"333\")\n",
    "#ax.add_patch(wedge2)\n",
    "#eje2 = Circle([oc.item(0), oc.item(1)], 0.05, ec='333')\n",
    "#eje2.set_fill(False)\n",
    "#ax.add_patch(eje2)\n",
    "\n",
    "acot1 = Arc([o0.item(0), o0.item(1)], 0.5, 0.5, 0, degrees(q1), 0, color=\"666\")\n",
    "ax.add_patch(acot1)\n",
    "\n",
    "ax.plot(xs, ys, \"-o\", color=\"333\")\n",
    "\n",
    "ejes(ax, o0 + δ0, R0, 3)\n",
    "ejes(ax, o0, R0, 3)\n",
    "ejes(ax, o1, R1, 3)\n",
    "ax.quiver([1], [-δ], [0], [-0.5], scale=2, scale_units=\"xy\", angles=\"xy\", color=\"k\", width=0.004)\n",
    "\n",
    "ax.text(xs[0] - 1 + 0.3 + δ, ys[0], r'$x_0$', size=12)        \n",
    "ax.text(xs[0] - 1, ys[0] + 0.3 + δ, r'$y_0$', size=12)\n",
    "ax.text(xs[0] + 0.3 + δ, ys[0], r'$x_1$', size=12)        \n",
    "ax.text(xs[0], ys[0] + 0.3 + δ, r'$y_1$', size=12)\n",
    "ax.text(xs[1] + (δ + 0.3)*x1.item(0), ys[1] + (δ + 0.3)*x1.item(1), r'$x_2$', size=12)        \n",
    "ax.text(xs[1] + (δ + 0.3)*y1.item(0), ys[1] + (δ + 0.3)*y1.item(1), r'$y_2$', size=12)\n",
    "\n",
    "ax.text(1 + 0.5*δ, -0.25, r'$g$', size=12) \n",
    "\n",
    "ax.text(p_l1.item(0), p_l1.item(1) + δ, r'$l_1$', size=12)\n",
    "\n",
    "ax.text(xs[0] - 0.4 - δ, xs[0] - 0.1 - δ, r'$q_1$', size=12)\n",
    "ax.text(xs[0] + 0.2 + δ, xs[0] - 0.1 - δ, r'$q_2$', size=12)\n",
    "ax.quiver([-0.5-0.06], [-δ-0.07], [-0.44], [0], scale=1, scale_units=\"xy\", angles=\"xy\", color=\"k\", width=0.002)\n",
    "ax.quiver([-0.5+0.14], [-δ-0.07], [ 0.36], [0], scale=1, scale_units=\"xy\", angles=\"xy\", color=\"k\", width=0.002);"
   ]
  },
  {
   "cell_type": "code",
   "execution_count": 85,
   "metadata": {
    "collapsed": true
   },
   "outputs": [],
   "source": [
    "close(fig)"
   ]
  },
  {
   "cell_type": "code",
   "execution_count": null,
   "metadata": {},
   "outputs": [],
   "source": []
  }
 ],
 "metadata": {
  "kernelspec": {
   "display_name": "Python 3",
   "language": "python",
   "name": "python3"
  },
  "language_info": {
   "codemirror_mode": {
    "name": "ipython",
    "version": 3
   },
   "file_extension": ".py",
   "mimetype": "text/x-python",
   "name": "python",
   "nbconvert_exporter": "python",
   "pygments_lexer": "ipython3",
   "version": "3.6.6"
  }
 },
 "nbformat": 4,
 "nbformat_minor": 2
}
