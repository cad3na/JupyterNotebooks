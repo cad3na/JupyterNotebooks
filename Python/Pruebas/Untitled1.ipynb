{
 "cells": [
  {
   "cell_type": "code",
   "execution_count": 1,
   "metadata": {},
   "outputs": [],
   "source": [
    "url = \"https://celestrak.com/NORAD/elements/gp.php?GROUP=geo&FORMAT=json\""
   ]
  },
  {
   "cell_type": "code",
   "execution_count": 2,
   "metadata": {},
   "outputs": [],
   "source": [
    "from urllib import request\n",
    "from json import loads\n",
    "from pandas import DataFrame\n",
    "from sqlalchemy import create_engine"
   ]
  },
  {
   "cell_type": "code",
   "execution_count": 3,
   "metadata": {},
   "outputs": [],
   "source": [
    "contents = request.urlopen(url).read()\n",
    "info = loads(contents.decode())\n",
    "data = list(filter(lambda d: d['OBJECT_NAME'] in [\"MEXSAT 3\", \"MORELOS 3\"], info))"
   ]
  },
  {
   "cell_type": "code",
   "execution_count": 4,
   "metadata": {},
   "outputs": [],
   "source": [
    "df = DataFrame(data)"
   ]
  },
  {
   "cell_type": "code",
   "execution_count": 5,
   "metadata": {},
   "outputs": [
    {
     "data": {
      "text/html": [
       "<div>\n",
       "<style scoped>\n",
       "    .dataframe tbody tr th:only-of-type {\n",
       "        vertical-align: middle;\n",
       "    }\n",
       "\n",
       "    .dataframe tbody tr th {\n",
       "        vertical-align: top;\n",
       "    }\n",
       "\n",
       "    .dataframe thead th {\n",
       "        text-align: right;\n",
       "    }\n",
       "</style>\n",
       "<table border=\"1\" class=\"dataframe\">\n",
       "  <thead>\n",
       "    <tr style=\"text-align: right;\">\n",
       "      <th></th>\n",
       "      <th>OBJECT_NAME</th>\n",
       "      <th>OBJECT_ID</th>\n",
       "      <th>EPOCH</th>\n",
       "      <th>MEAN_MOTION</th>\n",
       "      <th>ECCENTRICITY</th>\n",
       "      <th>INCLINATION</th>\n",
       "      <th>RA_OF_ASC_NODE</th>\n",
       "      <th>ARG_OF_PERICENTER</th>\n",
       "      <th>MEAN_ANOMALY</th>\n",
       "      <th>EPHEMERIS_TYPE</th>\n",
       "      <th>CLASSIFICATION_TYPE</th>\n",
       "      <th>NORAD_CAT_ID</th>\n",
       "      <th>ELEMENT_SET_NO</th>\n",
       "      <th>REV_AT_EPOCH</th>\n",
       "      <th>BSTAR</th>\n",
       "      <th>MEAN_MOTION_DOT</th>\n",
       "      <th>MEAN_MOTION_DDOT</th>\n",
       "    </tr>\n",
       "  </thead>\n",
       "  <tbody>\n",
       "    <tr>\n",
       "      <th>0</th>\n",
       "      <td>MEXSAT 3</td>\n",
       "      <td>2012-075B</td>\n",
       "      <td>2020-06-25T12:00:21.428928</td>\n",
       "      <td>1.002712</td>\n",
       "      <td>0.000208</td>\n",
       "      <td>0.0129</td>\n",
       "      <td>69.1754</td>\n",
       "      <td>25.8211</td>\n",
       "      <td>244.3851</td>\n",
       "      <td>0</td>\n",
       "      <td>U</td>\n",
       "      <td>39035</td>\n",
       "      <td>999</td>\n",
       "      <td>2729</td>\n",
       "      <td>0</td>\n",
       "      <td>-2.400000e-07</td>\n",
       "      <td>0</td>\n",
       "    </tr>\n",
       "    <tr>\n",
       "      <th>1</th>\n",
       "      <td>MORELOS 3</td>\n",
       "      <td>2015-056A</td>\n",
       "      <td>2020-06-25T12:00:51.577344</td>\n",
       "      <td>1.002721</td>\n",
       "      <td>0.000289</td>\n",
       "      <td>4.8070</td>\n",
       "      <td>328.6830</td>\n",
       "      <td>183.4491</td>\n",
       "      <td>189.0713</td>\n",
       "      <td>0</td>\n",
       "      <td>U</td>\n",
       "      <td>40946</td>\n",
       "      <td>999</td>\n",
       "      <td>1740</td>\n",
       "      <td>0</td>\n",
       "      <td>-4.100000e-07</td>\n",
       "      <td>0</td>\n",
       "    </tr>\n",
       "  </tbody>\n",
       "</table>\n",
       "</div>"
      ],
      "text/plain": [
       "  OBJECT_NAME  OBJECT_ID                       EPOCH  MEAN_MOTION  \\\n",
       "0    MEXSAT 3  2012-075B  2020-06-25T12:00:21.428928     1.002712   \n",
       "1   MORELOS 3  2015-056A  2020-06-25T12:00:51.577344     1.002721   \n",
       "\n",
       "   ECCENTRICITY  INCLINATION  RA_OF_ASC_NODE  ARG_OF_PERICENTER  MEAN_ANOMALY  \\\n",
       "0      0.000208       0.0129         69.1754            25.8211      244.3851   \n",
       "1      0.000289       4.8070        328.6830           183.4491      189.0713   \n",
       "\n",
       "   EPHEMERIS_TYPE CLASSIFICATION_TYPE  NORAD_CAT_ID  ELEMENT_SET_NO  \\\n",
       "0               0                   U         39035             999   \n",
       "1               0                   U         40946             999   \n",
       "\n",
       "   REV_AT_EPOCH  BSTAR  MEAN_MOTION_DOT  MEAN_MOTION_DDOT  \n",
       "0          2729      0    -2.400000e-07                 0  \n",
       "1          1740      0    -4.100000e-07                 0  "
      ]
     },
     "execution_count": 5,
     "metadata": {},
     "output_type": "execute_result"
    }
   ],
   "source": [
    "df"
   ]
  },
  {
   "cell_type": "code",
   "execution_count": 7,
   "metadata": {},
   "outputs": [],
   "source": [
    "engine = create_engine('sqlite:///tles.db', echo=False)"
   ]
  },
  {
   "cell_type": "code",
   "execution_count": 8,
   "metadata": {},
   "outputs": [
    {
     "data": {
      "text/plain": [
       "[(0, 'MEXSAT 3', '2012-075B', '2020-06-25T12:00:21.428928', 1.0027116, 0.000208, 0.0129, 69.1754, 25.8211, 244.3851, 0, 'U', 39035, 999, 2729, 0, -2.4e-07, 0),\n",
       " (1, 'MORELOS 3', '2015-056A', '2020-06-25T12:00:51.577344', 1.00272095, 0.0002885, 4.807, 328.683, 183.4491, 189.0713, 0, 'U', 40946, 999, 1740, 0, -4.1e-07, 0)]"
      ]
     },
     "execution_count": 8,
     "metadata": {},
     "output_type": "execute_result"
    }
   ],
   "source": [
    "df.to_sql('tles', con=engine)\n",
    "engine.execute(\"SELECT * FROM tles\").fetchall()"
   ]
  },
  {
   "cell_type": "code",
   "execution_count": 9,
   "metadata": {},
   "outputs": [
    {
     "data": {
      "text/plain": [
       "[('2012-075B',), ('2015-056A',)]"
      ]
     },
     "execution_count": 9,
     "metadata": {},
     "output_type": "execute_result"
    }
   ],
   "source": [
    "engine.execute(\"SELECT OBJECT_ID FROM tles\").fetchall()"
   ]
  },
  {
   "cell_type": "code",
   "execution_count": null,
   "metadata": {},
   "outputs": [],
   "source": []
  }
 ],
 "metadata": {
  "kernelspec": {
   "display_name": "Python 3",
   "language": "python",
   "name": "python3"
  },
  "language_info": {
   "codemirror_mode": {
    "name": "ipython",
    "version": 3
   },
   "file_extension": ".py",
   "mimetype": "text/x-python",
   "name": "python",
   "nbconvert_exporter": "python",
   "pygments_lexer": "ipython3",
   "version": "3.7.7"
  }
 },
 "nbformat": 4,
 "nbformat_minor": 4
}
