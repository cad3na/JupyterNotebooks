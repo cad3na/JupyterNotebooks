{
 "cells": [
  {
   "cell_type": "markdown",
   "metadata": {},
   "source": [
    "En este notebook implementamos la lectura del puerto serial con la libreria pyserial. El elemento que se manda es una cadena de caracteres con las temperaturas a cada momento del MSP430"
   ]
  },
  {
   "cell_type": "code",
   "execution_count": 41,
   "metadata": {
    "collapsed": false
   },
   "outputs": [],
   "source": [
    "import serial\n",
    "ser = serial.Serial(\"/dev/tty.uart-0AFF4676258A174C\")\n",
    "x = ser.read(100)\n",
    "ser.close()"
   ]
  },
  {
   "cell_type": "code",
   "execution_count": 42,
   "metadata": {
    "collapsed": false
   },
   "outputs": [
    {
     "data": {
      "text/plain": [
       "'H8\\r\\n313\\r\\n318\\r\\n317\\r\\n314\\r\\n317\\r\\n317\\r\\n320\\r\\n314\\r\\n317\\r\\n318\\r\\n318\\r\\n319\\r\\n314\\r\\n318\\r\\n318\\r\\n317\\r\\n319\\r\\n318\\r\\n318\\r\\n3'"
      ]
     },
     "execution_count": 42,
     "metadata": {},
     "output_type": "execute_result"
    }
   ],
   "source": [
    "x"
   ]
  },
  {
   "cell_type": "code",
   "execution_count": 52,
   "metadata": {
    "collapsed": false
   },
   "outputs": [],
   "source": [
    "import serial\n",
    "ser = serial.Serial(\"/dev/tty.uart-0AFF4676258A174C\")\n",
    "ser.writelines(\"255\")\n",
    "ser.close()"
   ]
  },
  {
   "cell_type": "code",
   "execution_count": 1,
   "metadata": {
    "collapsed": false
   },
   "outputs": [],
   "source": [
    "import serial"
   ]
  },
  {
   "cell_type": "code",
   "execution_count": 14,
   "metadata": {},
   "outputs": [],
   "source": [
    "puerto = serial.Serial(\"/dev/cu.usbserial-A603QGMH\", 115200)\n",
    "puerto.writelines(\"800\".encode())\n",
    "puerto.close()"
   ]
  },
  {
   "cell_type": "code",
   "execution_count": null,
   "metadata": {},
   "outputs": [],
   "source": []
  }
 ],
 "metadata": {
  "kernelspec": {
   "display_name": "Python 3",
   "language": "python",
   "name": "python3"
  },
  "language_info": {
   "codemirror_mode": {
    "name": "ipython",
    "version": 3
   },
   "file_extension": ".py",
   "mimetype": "text/x-python",
   "name": "python",
   "nbconvert_exporter": "python",
   "pygments_lexer": "ipython3",
   "version": "3.6.4"
  }
 },
 "nbformat": 4,
 "nbformat_minor": 2
}
