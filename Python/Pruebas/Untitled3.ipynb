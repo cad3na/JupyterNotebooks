{
 "cells": [
  {
   "cell_type": "code",
   "execution_count": 1,
   "metadata": {},
   "outputs": [],
   "source": [
    "from tkinter import ttk\n",
    "import tkinter"
   ]
  },
  {
   "cell_type": "code",
   "execution_count": 3,
   "metadata": {},
   "outputs": [],
   "source": [
    "from tkinter import *\n",
    "\n",
    "root = Tk()\n",
    "\n",
    "frame=Frame(root)\n",
    "root.rowconfigure(0, weight=1)\n",
    "root.columnconfigure(0, weight=1)\n",
    "frame.grid(row=0, column=0, sticky=N+S+E+W)\n",
    "\n",
    "grid=Frame(frame)\n",
    "grid.grid(sticky=N+S+E+W, column=0, row=7, columnspan=2)\n",
    "frame.rowconfigure(7, weight=1)\n",
    "frame.columnconfigure(0, weight=1)\n",
    "\n",
    "#example values\n",
    "for x in range(10):\n",
    "    for y in range(5):\n",
    "        btn = Button(frame)\n",
    "        btn.grid(column=x, row=y, sticky=N+S+E+W)\n",
    "\n",
    "for x in range(10):\n",
    "  frame.columnconfigure(x, weight=1)\n",
    "\n",
    "for y in range(5):\n",
    "  frame.rowconfigure(y, weight=1)\n",
    "\n",
    "root.mainloop()"
   ]
  },
  {
   "cell_type": "code",
   "execution_count": null,
   "metadata": {},
   "outputs": [],
   "source": []
  }
 ],
 "metadata": {
  "kernelspec": {
   "display_name": "Python 3",
   "language": "python",
   "name": "python3"
  },
  "language_info": {
   "codemirror_mode": {
    "name": "ipython",
    "version": 3
   },
   "file_extension": ".py",
   "mimetype": "text/x-python",
   "name": "python",
   "nbconvert_exporter": "python",
   "pygments_lexer": "ipython3",
   "version": "3.7.7"
  }
 },
 "nbformat": 4,
 "nbformat_minor": 4
}
