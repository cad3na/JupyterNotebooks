{
 "nbformat": 4,
 "nbformat_minor": 2,
 "metadata": {
  "language_info": {
   "name": "python",
   "codemirror_mode": {
    "name": "ipython",
    "version": 3
   },
   "version": "3.7.6-final"
  },
  "orig_nbformat": 2,
  "file_extension": ".py",
  "mimetype": "text/x-python",
  "name": "python",
  "npconvert_exporter": "python",
  "pygments_lexer": "ipython3",
  "version": 3,
  "kernelspec": {
   "name": "python3",
   "display_name": "Python 3"
  }
 },
 "cells": [
  {
   "cell_type": "code",
   "execution_count": 24,
   "metadata": {},
   "outputs": [],
   "source": [
    "from pandas import read_csv"
   ]
  },
  {
   "cell_type": "code",
   "execution_count": 77,
   "metadata": {},
   "outputs": [],
   "source": [
    "def normalizar_nombre(nombre):\n",
    "    nombres = nombre.split(\" \")\n",
    "    nombres = [nombre.capitalize() for nombre in nombres]\n",
    "    for i, nombre in enumerate(nombres):\n",
    "        if nombre == \"Ma.\":\n",
    "            nombres = nombres[:i] + [\"Maria\"] + nombres[i+1:]\n",
    "        if nombre == \"Gpe.\":\n",
    "            nombres = nombres[:i] + [\"Guadalupe\"] + nombres[i+1:]\n",
    "    nombre_final = \" \".join(nombres[2:] + nombres[:2])\n",
    "    return nombre_final\n",
    "\n",
    "def extraer_nombre(nombre):\n",
    "    nombres = nombre.split(\" \")\n",
    "    return \" \".join(nombres[:-2])\n",
    "\n",
    "def extraer_apellidos(nombre):\n",
    "    nombres = nombre.split(\" \")\n",
    "    return \" \".join(nombres[-2:])\n",
    "\n",
    "def const_email1type(nombre):\n",
    "    return \"Trabajo\"\n",
    "\n",
    "def const_email2type(nombre):\n",
    "    return \"Personal\"\n",
    "\n",
    "def const_phone1type(nombre):\n",
    "    return \"Trabajo\"\n",
    "\n",
    "def const_phone2type(nombre):\n",
    "    return \"Personal\"\n",
    "\n",
    "def const_organization(nombre):\n",
    "    return \"Telecomm\"\n",
    "    \n",
    "def const_vacio(nombre):\n",
    "    return \"\""
   ]
  },
  {
   "cell_type": "code",
   "execution_count": 74,
   "metadata": {},
   "outputs": [],
   "source": [
    "inp_df = read_csv(\"directorio.csv\")\n",
    "inp_df.columns = [\"Name\", 'E-mail 1 - Value', 'E-mail 2 - Value', \"Phone 1 - Value\", \"Phone 2 - Value\"]\n",
    "inp_df[\"Name\"] = inp_df[\"Name\"].apply(normalizar_nombre)\n",
    "inp_df[\"Given Name\"] = inp_df[\"Name\"].apply(extraer_nombres)\n",
    "inp_df[\"Family Name\"] = inp_df[\"Name\"].apply(extraer_apellidos)\n",
    "inp_df[\"E-mail 1 - Type\"] = inp_df[\"Name\"].apply(const_email1type)\n",
    "inp_df[\"E-mail 2 - Type\"] = inp_df[\"Name\"].apply(const_email2type)\n",
    "inp_df[\"Phone 1 - Type\"] = inp_df[\"Name\"].apply(const_phone1type)\n",
    "inp_df[\"Phone 2 - Type\"] = inp_df[\"Name\"].apply(const_phone2type)\n",
    "inp_df[\"Organization 1 - Name\"] = inp_df[\"Name\"].apply(const_organization)\n",
    "inp_df = inp_df.fillna(\"\")"
   ]
  },
  {
   "cell_type": "code",
   "execution_count": 78,
   "metadata": {},
   "outputs": [],
   "source": [
    "for columna in out_cols:\n",
    "    if columna in inp_df:\n",
    "        pass\n",
    "    else:\n",
    "        inp_df[columna] = inp_df[\"Name\"].apply(const_vacio)"
   ]
  },
  {
   "cell_type": "code",
   "execution_count": 81,
   "metadata": {},
   "outputs": [],
   "source": [
    "inp_df = inp_df[out_cols]"
   ]
  },
  {
   "cell_type": "code",
   "execution_count": 82,
   "metadata": {},
   "outputs": [],
   "source": [
    "inp_df.to_csv(\"contactos_telecomm.csv\", index=False)"
   ]
  },
  {
   "cell_type": "code",
   "execution_count": 66,
   "metadata": {},
   "outputs": [
    {
     "output_type": "execute_result",
     "data": {
      "text/plain": "    Organization 1 - Type Organization 1 - Name Organization 1 - Yomi Name  \\\n0                     NaN                   NaN                        NaN   \n1                 unknown                UNITEC                        NaN   \n2                     NaN                   NaN                        NaN   \n3                   Other                   DCA                        NaN   \n4                     NaN                   NaN                        NaN   \n..                    ...                   ...                        ...   \n164                   NaN                   NaN                        NaN   \n165                 Other                UNITEC                        NaN   \n166                   NaN                   NaN                        NaN   \n167                 Other             STC Metro                        NaN   \n168                   NaN     Zapatos San Cosme                        NaN   \n\n    Organization 1 - Title Organization 1 - Department  \\\n0                      NaN                         NaN   \n1                      NaN                         NaN   \n2                      NaN                         NaN   \n3                      NaN                         NaN   \n4                      NaN                         NaN   \n..                     ...                         ...   \n164                    NaN                         NaN   \n165                    NaN                         NaN   \n166                    NaN                         NaN   \n167                    NaN                         NaN   \n168                    NaN                         NaN   \n\n    Organization 1 - Symbol Organization 1 - Location  \\\n0                       NaN                       NaN   \n1                       NaN                       NaN   \n2                       NaN                       NaN   \n3                       NaN                       NaN   \n4                       NaN                       NaN   \n..                      ...                       ...   \n164                     NaN                       NaN   \n165                     NaN                       NaN   \n166                     NaN                       NaN   \n167                     NaN                       NaN   \n168                     NaN                       NaN   \n\n    Organization 1 - Job Description  \n0                                NaN  \n1                                NaN  \n2                                NaN  \n3                                NaN  \n4                                NaN  \n..                               ...  \n164                              NaN  \n165                              NaN  \n166                              NaN  \n167                              NaN  \n168                              NaN  \n\n[169 rows x 8 columns]",
      "text/html": "<div>\n<style scoped>\n    .dataframe tbody tr th:only-of-type {\n        vertical-align: middle;\n    }\n\n    .dataframe tbody tr th {\n        vertical-align: top;\n    }\n\n    .dataframe thead th {\n        text-align: right;\n    }\n</style>\n<table border=\"1\" class=\"dataframe\">\n  <thead>\n    <tr style=\"text-align: right;\">\n      <th></th>\n      <th>Organization 1 - Type</th>\n      <th>Organization 1 - Name</th>\n      <th>Organization 1 - Yomi Name</th>\n      <th>Organization 1 - Title</th>\n      <th>Organization 1 - Department</th>\n      <th>Organization 1 - Symbol</th>\n      <th>Organization 1 - Location</th>\n      <th>Organization 1 - Job Description</th>\n    </tr>\n  </thead>\n  <tbody>\n    <tr>\n      <th>0</th>\n      <td>NaN</td>\n      <td>NaN</td>\n      <td>NaN</td>\n      <td>NaN</td>\n      <td>NaN</td>\n      <td>NaN</td>\n      <td>NaN</td>\n      <td>NaN</td>\n    </tr>\n    <tr>\n      <th>1</th>\n      <td>unknown</td>\n      <td>UNITEC</td>\n      <td>NaN</td>\n      <td>NaN</td>\n      <td>NaN</td>\n      <td>NaN</td>\n      <td>NaN</td>\n      <td>NaN</td>\n    </tr>\n    <tr>\n      <th>2</th>\n      <td>NaN</td>\n      <td>NaN</td>\n      <td>NaN</td>\n      <td>NaN</td>\n      <td>NaN</td>\n      <td>NaN</td>\n      <td>NaN</td>\n      <td>NaN</td>\n    </tr>\n    <tr>\n      <th>3</th>\n      <td>Other</td>\n      <td>DCA</td>\n      <td>NaN</td>\n      <td>NaN</td>\n      <td>NaN</td>\n      <td>NaN</td>\n      <td>NaN</td>\n      <td>NaN</td>\n    </tr>\n    <tr>\n      <th>4</th>\n      <td>NaN</td>\n      <td>NaN</td>\n      <td>NaN</td>\n      <td>NaN</td>\n      <td>NaN</td>\n      <td>NaN</td>\n      <td>NaN</td>\n      <td>NaN</td>\n    </tr>\n    <tr>\n      <th>...</th>\n      <td>...</td>\n      <td>...</td>\n      <td>...</td>\n      <td>...</td>\n      <td>...</td>\n      <td>...</td>\n      <td>...</td>\n      <td>...</td>\n    </tr>\n    <tr>\n      <th>164</th>\n      <td>NaN</td>\n      <td>NaN</td>\n      <td>NaN</td>\n      <td>NaN</td>\n      <td>NaN</td>\n      <td>NaN</td>\n      <td>NaN</td>\n      <td>NaN</td>\n    </tr>\n    <tr>\n      <th>165</th>\n      <td>Other</td>\n      <td>UNITEC</td>\n      <td>NaN</td>\n      <td>NaN</td>\n      <td>NaN</td>\n      <td>NaN</td>\n      <td>NaN</td>\n      <td>NaN</td>\n    </tr>\n    <tr>\n      <th>166</th>\n      <td>NaN</td>\n      <td>NaN</td>\n      <td>NaN</td>\n      <td>NaN</td>\n      <td>NaN</td>\n      <td>NaN</td>\n      <td>NaN</td>\n      <td>NaN</td>\n    </tr>\n    <tr>\n      <th>167</th>\n      <td>Other</td>\n      <td>STC Metro</td>\n      <td>NaN</td>\n      <td>NaN</td>\n      <td>NaN</td>\n      <td>NaN</td>\n      <td>NaN</td>\n      <td>NaN</td>\n    </tr>\n    <tr>\n      <th>168</th>\n      <td>NaN</td>\n      <td>Zapatos San Cosme</td>\n      <td>NaN</td>\n      <td>NaN</td>\n      <td>NaN</td>\n      <td>NaN</td>\n      <td>NaN</td>\n      <td>NaN</td>\n    </tr>\n  </tbody>\n</table>\n<p>169 rows × 8 columns</p>\n</div>"
     },
     "metadata": {},
     "execution_count": 66
    }
   ],
   "source": [
    "out_exa = read_csv(\"contacts.csv\")\n",
    "out_cols = out_exa.columns.tolist()\n",
    "out_exa.filter(regex=\"Organization*\")"
   ]
  },
  {
   "cell_type": "code",
   "execution_count": 20,
   "metadata": {},
   "outputs": [
    {
     "output_type": "execute_result",
     "data": {
      "text/plain": "['Name',\n 'Given Name',\n 'Additional Name',\n 'Family Name',\n 'Yomi Name',\n 'Given Name Yomi',\n 'Additional Name Yomi',\n 'Family Name Yomi',\n 'Name Prefix',\n 'Name Suffix',\n 'Initials',\n 'Nickname',\n 'Short Name',\n 'Maiden Name',\n 'Birthday',\n 'Gender',\n 'Location',\n 'Billing Information',\n 'Directory Server',\n 'Mileage',\n 'Occupation',\n 'Hobby',\n 'Sensitivity',\n 'Priority',\n 'Subject',\n 'Notes',\n 'Language',\n 'Photo',\n 'Group Membership',\n 'E-mail 1 - Type',\n 'E-mail 1 - Value',\n 'E-mail 2 - Type',\n 'E-mail 2 - Value',\n 'E-mail 3 - Type',\n 'E-mail 3 - Value',\n 'E-mail 4 - Type',\n 'E-mail 4 - Value',\n 'E-mail 5 - Type',\n 'E-mail 5 - Value',\n 'E-mail 6 - Type',\n 'E-mail 6 - Value',\n 'IM 1 - Type',\n 'IM 1 - Service',\n 'IM 1 - Value',\n 'Phone 1 - Type',\n 'Phone 1 - Value',\n 'Phone 2 - Type',\n 'Phone 2 - Value',\n 'Phone 3 - Type',\n 'Phone 3 - Value',\n 'Phone 4 - Type',\n 'Phone 4 - Value',\n 'Address 1 - Type',\n 'Address 1 - Formatted',\n 'Address 1 - Street',\n 'Address 1 - City',\n 'Address 1 - PO Box',\n 'Address 1 - Region',\n 'Address 1 - Postal Code',\n 'Address 1 - Country',\n 'Address 1 - Extended Address',\n 'Address 2 - Type',\n 'Address 2 - Formatted',\n 'Address 2 - Street',\n 'Address 2 - City',\n 'Address 2 - PO Box',\n 'Address 2 - Region',\n 'Address 2 - Postal Code',\n 'Address 2 - Country',\n 'Address 2 - Extended Address',\n 'Organization 1 - Type',\n 'Organization 1 - Name',\n 'Organization 1 - Yomi Name',\n 'Organization 1 - Title',\n 'Organization 1 - Department',\n 'Organization 1 - Symbol',\n 'Organization 1 - Location',\n 'Organization 1 - Job Description',\n 'Relation 1 - Type',\n 'Relation 1 - Value',\n 'Website 1 - Type',\n 'Website 1 - Value',\n 'Website 2 - Type',\n 'Website 2 - Value']"
     },
     "metadata": {},
     "execution_count": 20
    }
   ],
   "source": [
    "out_cols"
   ]
  },
  {
   "cell_type": "code",
   "execution_count": 38,
   "metadata": {},
   "outputs": [
    {
     "output_type": "execute_result",
     "data": {
      "text/plain": "                             Name  ... Website 2 - Value\n0                Abigail Martinez  ...               NaN\n1        Abigail Martinez Estrada  ...               NaN\n2        Abigail Martínez Estrada  ...               NaN\n3               Adolfo Perrusquia  ...               NaN\n4    Adriana Aglaé Cortés Rosales  ...               NaN\n..                            ...  ...               ...\n164             Vrani Soto Cachon  ...               NaN\n165                 Yazmin Torres  ...               NaN\n166                         Yenny  ...               NaN\n167             Yuval Rios Aranda  ...               NaN\n168                           NaN  ...               NaN\n\n[169 rows x 84 columns]",
      "text/html": "<div>\n<style scoped>\n    .dataframe tbody tr th:only-of-type {\n        vertical-align: middle;\n    }\n\n    .dataframe tbody tr th {\n        vertical-align: top;\n    }\n\n    .dataframe thead th {\n        text-align: right;\n    }\n</style>\n<table border=\"1\" class=\"dataframe\">\n  <thead>\n    <tr style=\"text-align: right;\">\n      <th></th>\n      <th>Name</th>\n      <th>Given Name</th>\n      <th>Additional Name</th>\n      <th>Family Name</th>\n      <th>Yomi Name</th>\n      <th>Given Name Yomi</th>\n      <th>Additional Name Yomi</th>\n      <th>Family Name Yomi</th>\n      <th>Name Prefix</th>\n      <th>Name Suffix</th>\n      <th>Initials</th>\n      <th>Nickname</th>\n      <th>Short Name</th>\n      <th>Maiden Name</th>\n      <th>Birthday</th>\n      <th>Gender</th>\n      <th>Location</th>\n      <th>Billing Information</th>\n      <th>Directory Server</th>\n      <th>Mileage</th>\n      <th>Occupation</th>\n      <th>Hobby</th>\n      <th>Sensitivity</th>\n      <th>Priority</th>\n      <th>Subject</th>\n      <th>Notes</th>\n      <th>Language</th>\n      <th>Photo</th>\n      <th>Group Membership</th>\n      <th>E-mail 1 - Type</th>\n      <th>E-mail 1 - Value</th>\n      <th>E-mail 2 - Type</th>\n      <th>E-mail 2 - Value</th>\n      <th>E-mail 3 - Type</th>\n      <th>E-mail 3 - Value</th>\n      <th>E-mail 4 - Type</th>\n      <th>E-mail 4 - Value</th>\n      <th>E-mail 5 - Type</th>\n      <th>E-mail 5 - Value</th>\n      <th>E-mail 6 - Type</th>\n      <th>...</th>\n      <th>Phone 1 - Type</th>\n      <th>Phone 1 - Value</th>\n      <th>Phone 2 - Type</th>\n      <th>Phone 2 - Value</th>\n      <th>Phone 3 - Type</th>\n      <th>Phone 3 - Value</th>\n      <th>Phone 4 - Type</th>\n      <th>Phone 4 - Value</th>\n      <th>Address 1 - Type</th>\n      <th>Address 1 - Formatted</th>\n      <th>Address 1 - Street</th>\n      <th>Address 1 - City</th>\n      <th>Address 1 - PO Box</th>\n      <th>Address 1 - Region</th>\n      <th>Address 1 - Postal Code</th>\n      <th>Address 1 - Country</th>\n      <th>Address 1 - Extended Address</th>\n      <th>Address 2 - Type</th>\n      <th>Address 2 - Formatted</th>\n      <th>Address 2 - Street</th>\n      <th>Address 2 - City</th>\n      <th>Address 2 - PO Box</th>\n      <th>Address 2 - Region</th>\n      <th>Address 2 - Postal Code</th>\n      <th>Address 2 - Country</th>\n      <th>Address 2 - Extended Address</th>\n      <th>Organization 1 - Type</th>\n      <th>Organization 1 - Name</th>\n      <th>Organization 1 - Yomi Name</th>\n      <th>Organization 1 - Title</th>\n      <th>Organization 1 - Department</th>\n      <th>Organization 1 - Symbol</th>\n      <th>Organization 1 - Location</th>\n      <th>Organization 1 - Job Description</th>\n      <th>Relation 1 - Type</th>\n      <th>Relation 1 - Value</th>\n      <th>Website 1 - Type</th>\n      <th>Website 1 - Value</th>\n      <th>Website 2 - Type</th>\n      <th>Website 2 - Value</th>\n    </tr>\n  </thead>\n  <tbody>\n    <tr>\n      <th>0</th>\n      <td>Abigail Martinez</td>\n      <td>Abigail</td>\n      <td>NaN</td>\n      <td>Martinez</td>\n      <td>NaN</td>\n      <td>NaN</td>\n      <td>NaN</td>\n      <td>NaN</td>\n      <td>NaN</td>\n      <td>NaN</td>\n      <td>NaN</td>\n      <td>NaN</td>\n      <td>NaN</td>\n      <td>NaN</td>\n      <td>NaN</td>\n      <td>NaN</td>\n      <td>NaN</td>\n      <td>NaN</td>\n      <td>NaN</td>\n      <td>NaN</td>\n      <td>NaN</td>\n      <td>NaN</td>\n      <td>NaN</td>\n      <td>NaN</td>\n      <td>NaN</td>\n      <td>NaN</td>\n      <td>NaN</td>\n      <td>NaN</td>\n      <td>* myContacts</td>\n      <td>NaN</td>\n      <td>NaN</td>\n      <td>NaN</td>\n      <td>NaN</td>\n      <td>NaN</td>\n      <td>NaN</td>\n      <td>NaN</td>\n      <td>NaN</td>\n      <td>NaN</td>\n      <td>NaN</td>\n      <td>NaN</td>\n      <td>...</td>\n      <td>Móvil</td>\n      <td>+52 1 55 1048 2331</td>\n      <td>NaN</td>\n      <td>NaN</td>\n      <td>NaN</td>\n      <td>NaN</td>\n      <td>NaN</td>\n      <td>NaN</td>\n      <td>NaN</td>\n      <td>NaN</td>\n      <td>NaN</td>\n      <td>NaN</td>\n      <td>NaN</td>\n      <td>NaN</td>\n      <td>NaN</td>\n      <td>NaN</td>\n      <td>NaN</td>\n      <td>NaN</td>\n      <td>NaN</td>\n      <td>NaN</td>\n      <td>NaN</td>\n      <td>NaN</td>\n      <td>NaN</td>\n      <td>NaN</td>\n      <td>NaN</td>\n      <td>NaN</td>\n      <td>NaN</td>\n      <td>NaN</td>\n      <td>NaN</td>\n      <td>NaN</td>\n      <td>NaN</td>\n      <td>NaN</td>\n      <td>NaN</td>\n      <td>NaN</td>\n      <td>NaN</td>\n      <td>NaN</td>\n      <td>NaN</td>\n      <td>NaN</td>\n      <td>NaN</td>\n      <td>NaN</td>\n    </tr>\n    <tr>\n      <th>1</th>\n      <td>Abigail Martinez Estrada</td>\n      <td>Abigail</td>\n      <td>Martinez</td>\n      <td>Estrada</td>\n      <td>NaN</td>\n      <td>NaN</td>\n      <td>NaN</td>\n      <td>NaN</td>\n      <td>NaN</td>\n      <td>NaN</td>\n      <td>NaN</td>\n      <td>NaN</td>\n      <td>NaN</td>\n      <td>NaN</td>\n      <td>NaN</td>\n      <td>NaN</td>\n      <td>NaN</td>\n      <td>NaN</td>\n      <td>NaN</td>\n      <td>NaN</td>\n      <td>NaN</td>\n      <td>NaN</td>\n      <td>NaN</td>\n      <td>NaN</td>\n      <td>NaN</td>\n      <td>NaN</td>\n      <td>NaN</td>\n      <td>NaN</td>\n      <td>* myContacts</td>\n      <td>*</td>\n      <td>abmarest@mail.unitec.mx</td>\n      <td>NaN</td>\n      <td>NaN</td>\n      <td>NaN</td>\n      <td>NaN</td>\n      <td>NaN</td>\n      <td>NaN</td>\n      <td>NaN</td>\n      <td>NaN</td>\n      <td>NaN</td>\n      <td>...</td>\n      <td>NaN</td>\n      <td>NaN</td>\n      <td>NaN</td>\n      <td>NaN</td>\n      <td>NaN</td>\n      <td>NaN</td>\n      <td>NaN</td>\n      <td>NaN</td>\n      <td>NaN</td>\n      <td>NaN</td>\n      <td>NaN</td>\n      <td>NaN</td>\n      <td>NaN</td>\n      <td>NaN</td>\n      <td>NaN</td>\n      <td>NaN</td>\n      <td>NaN</td>\n      <td>NaN</td>\n      <td>NaN</td>\n      <td>NaN</td>\n      <td>NaN</td>\n      <td>NaN</td>\n      <td>NaN</td>\n      <td>NaN</td>\n      <td>NaN</td>\n      <td>NaN</td>\n      <td>unknown</td>\n      <td>UNITEC</td>\n      <td>NaN</td>\n      <td>NaN</td>\n      <td>NaN</td>\n      <td>NaN</td>\n      <td>NaN</td>\n      <td>NaN</td>\n      <td>NaN</td>\n      <td>NaN</td>\n      <td>NaN</td>\n      <td>NaN</td>\n      <td>NaN</td>\n      <td>NaN</td>\n    </tr>\n    <tr>\n      <th>2</th>\n      <td>Abigail Martínez Estrada</td>\n      <td>Abigail</td>\n      <td>NaN</td>\n      <td>Martínez Estrada</td>\n      <td>NaN</td>\n      <td>NaN</td>\n      <td>NaN</td>\n      <td>NaN</td>\n      <td>NaN</td>\n      <td>NaN</td>\n      <td>NaN</td>\n      <td>NaN</td>\n      <td>NaN</td>\n      <td>NaN</td>\n      <td>NaN</td>\n      <td>NaN</td>\n      <td>NaN</td>\n      <td>NaN</td>\n      <td>NaN</td>\n      <td>NaN</td>\n      <td>NaN</td>\n      <td>NaN</td>\n      <td>NaN</td>\n      <td>NaN</td>\n      <td>NaN</td>\n      <td>NaN</td>\n      <td>NaN</td>\n      <td>NaN</td>\n      <td>* myContacts</td>\n      <td>NaN</td>\n      <td>NaN</td>\n      <td>NaN</td>\n      <td>NaN</td>\n      <td>NaN</td>\n      <td>NaN</td>\n      <td>NaN</td>\n      <td>NaN</td>\n      <td>NaN</td>\n      <td>NaN</td>\n      <td>NaN</td>\n      <td>...</td>\n      <td>NaN</td>\n      <td>NaN</td>\n      <td>NaN</td>\n      <td>NaN</td>\n      <td>NaN</td>\n      <td>NaN</td>\n      <td>NaN</td>\n      <td>NaN</td>\n      <td>NaN</td>\n      <td>NaN</td>\n      <td>NaN</td>\n      <td>NaN</td>\n      <td>NaN</td>\n      <td>NaN</td>\n      <td>NaN</td>\n      <td>NaN</td>\n      <td>NaN</td>\n      <td>NaN</td>\n      <td>NaN</td>\n      <td>NaN</td>\n      <td>NaN</td>\n      <td>NaN</td>\n      <td>NaN</td>\n      <td>NaN</td>\n      <td>NaN</td>\n      <td>NaN</td>\n      <td>NaN</td>\n      <td>NaN</td>\n      <td>NaN</td>\n      <td>NaN</td>\n      <td>NaN</td>\n      <td>NaN</td>\n      <td>NaN</td>\n      <td>NaN</td>\n      <td>NaN</td>\n      <td>NaN</td>\n      <td>NaN</td>\n      <td>NaN</td>\n      <td>NaN</td>\n      <td>NaN</td>\n    </tr>\n    <tr>\n      <th>3</th>\n      <td>Adolfo Perrusquia</td>\n      <td>Adolfo</td>\n      <td>NaN</td>\n      <td>Perrusquia</td>\n      <td>NaN</td>\n      <td>NaN</td>\n      <td>NaN</td>\n      <td>NaN</td>\n      <td>NaN</td>\n      <td>NaN</td>\n      <td>NaN</td>\n      <td>NaN</td>\n      <td>NaN</td>\n      <td>NaN</td>\n      <td>NaN</td>\n      <td>NaN</td>\n      <td>NaN</td>\n      <td>NaN</td>\n      <td>NaN</td>\n      <td>NaN</td>\n      <td>NaN</td>\n      <td>NaN</td>\n      <td>NaN</td>\n      <td>NaN</td>\n      <td>NaN</td>\n      <td>NaN</td>\n      <td>NaN</td>\n      <td>NaN</td>\n      <td>* myContacts</td>\n      <td>NaN</td>\n      <td>NaN</td>\n      <td>NaN</td>\n      <td>NaN</td>\n      <td>NaN</td>\n      <td>NaN</td>\n      <td>NaN</td>\n      <td>NaN</td>\n      <td>NaN</td>\n      <td>NaN</td>\n      <td>NaN</td>\n      <td>...</td>\n      <td>Mobile</td>\n      <td>(595) 101 7877</td>\n      <td>NaN</td>\n      <td>NaN</td>\n      <td>NaN</td>\n      <td>NaN</td>\n      <td>NaN</td>\n      <td>NaN</td>\n      <td>NaN</td>\n      <td>NaN</td>\n      <td>NaN</td>\n      <td>NaN</td>\n      <td>NaN</td>\n      <td>NaN</td>\n      <td>NaN</td>\n      <td>NaN</td>\n      <td>NaN</td>\n      <td>NaN</td>\n      <td>NaN</td>\n      <td>NaN</td>\n      <td>NaN</td>\n      <td>NaN</td>\n      <td>NaN</td>\n      <td>NaN</td>\n      <td>NaN</td>\n      <td>NaN</td>\n      <td>Other</td>\n      <td>DCA</td>\n      <td>NaN</td>\n      <td>NaN</td>\n      <td>NaN</td>\n      <td>NaN</td>\n      <td>NaN</td>\n      <td>NaN</td>\n      <td>NaN</td>\n      <td>NaN</td>\n      <td>NaN</td>\n      <td>NaN</td>\n      <td>NaN</td>\n      <td>NaN</td>\n    </tr>\n    <tr>\n      <th>4</th>\n      <td>Adriana Aglaé Cortés Rosales</td>\n      <td>Adriana Aglaé</td>\n      <td>NaN</td>\n      <td>Cortés Rosales</td>\n      <td>NaN</td>\n      <td>NaN</td>\n      <td>NaN</td>\n      <td>NaN</td>\n      <td>NaN</td>\n      <td>NaN</td>\n      <td>NaN</td>\n      <td>Adriana</td>\n      <td>NaN</td>\n      <td>NaN</td>\n      <td>1985-12-14</td>\n      <td>NaN</td>\n      <td>NaN</td>\n      <td>NaN</td>\n      <td>NaN</td>\n      <td>NaN</td>\n      <td>NaN</td>\n      <td>NaN</td>\n      <td>NaN</td>\n      <td>NaN</td>\n      <td>NaN</td>\n      <td>NaN</td>\n      <td>NaN</td>\n      <td>NaN</td>\n      <td>Batiz ::: * friends ::: * myContacts</td>\n      <td>* Other</td>\n      <td>adri.c14@gmail.com</td>\n      <td>Other</td>\n      <td>adri_c14@hotmail.com</td>\n      <td>NaN</td>\n      <td>NaN</td>\n      <td>NaN</td>\n      <td>NaN</td>\n      <td>NaN</td>\n      <td>NaN</td>\n      <td>NaN</td>\n      <td>...</td>\n      <td>Home</td>\n      <td>2873 2653</td>\n      <td>homeFax</td>\n      <td>3317475154</td>\n      <td>NaN</td>\n      <td>NaN</td>\n      <td>NaN</td>\n      <td>NaN</td>\n      <td>NaN</td>\n      <td>NaN</td>\n      <td>NaN</td>\n      <td>NaN</td>\n      <td>NaN</td>\n      <td>NaN</td>\n      <td>NaN</td>\n      <td>NaN</td>\n      <td>NaN</td>\n      <td>NaN</td>\n      <td>NaN</td>\n      <td>NaN</td>\n      <td>NaN</td>\n      <td>NaN</td>\n      <td>NaN</td>\n      <td>NaN</td>\n      <td>NaN</td>\n      <td>NaN</td>\n      <td>NaN</td>\n      <td>NaN</td>\n      <td>NaN</td>\n      <td>NaN</td>\n      <td>NaN</td>\n      <td>NaN</td>\n      <td>NaN</td>\n      <td>NaN</td>\n      <td>NaN</td>\n      <td>NaN</td>\n      <td>Other</td>\n      <td>fb://profile/667293659 ::: http://www.google.c...</td>\n      <td>NaN</td>\n      <td>NaN</td>\n    </tr>\n    <tr>\n      <th>...</th>\n      <td>...</td>\n      <td>...</td>\n      <td>...</td>\n      <td>...</td>\n      <td>...</td>\n      <td>...</td>\n      <td>...</td>\n      <td>...</td>\n      <td>...</td>\n      <td>...</td>\n      <td>...</td>\n      <td>...</td>\n      <td>...</td>\n      <td>...</td>\n      <td>...</td>\n      <td>...</td>\n      <td>...</td>\n      <td>...</td>\n      <td>...</td>\n      <td>...</td>\n      <td>...</td>\n      <td>...</td>\n      <td>...</td>\n      <td>...</td>\n      <td>...</td>\n      <td>...</td>\n      <td>...</td>\n      <td>...</td>\n      <td>...</td>\n      <td>...</td>\n      <td>...</td>\n      <td>...</td>\n      <td>...</td>\n      <td>...</td>\n      <td>...</td>\n      <td>...</td>\n      <td>...</td>\n      <td>...</td>\n      <td>...</td>\n      <td>...</td>\n      <td>...</td>\n      <td>...</td>\n      <td>...</td>\n      <td>...</td>\n      <td>...</td>\n      <td>...</td>\n      <td>...</td>\n      <td>...</td>\n      <td>...</td>\n      <td>...</td>\n      <td>...</td>\n      <td>...</td>\n      <td>...</td>\n      <td>...</td>\n      <td>...</td>\n      <td>...</td>\n      <td>...</td>\n      <td>...</td>\n      <td>...</td>\n      <td>...</td>\n      <td>...</td>\n      <td>...</td>\n      <td>...</td>\n      <td>...</td>\n      <td>...</td>\n      <td>...</td>\n      <td>...</td>\n      <td>...</td>\n      <td>...</td>\n      <td>...</td>\n      <td>...</td>\n      <td>...</td>\n      <td>...</td>\n      <td>...</td>\n      <td>...</td>\n      <td>...</td>\n      <td>...</td>\n      <td>...</td>\n      <td>...</td>\n      <td>...</td>\n      <td>...</td>\n    </tr>\n    <tr>\n      <th>164</th>\n      <td>Vrani Soto Cachon</td>\n      <td>Vrani</td>\n      <td>NaN</td>\n      <td>Soto Cachon</td>\n      <td>NaN</td>\n      <td>NaN</td>\n      <td>NaN</td>\n      <td>NaN</td>\n      <td>NaN</td>\n      <td>NaN</td>\n      <td>NaN</td>\n      <td>NaN</td>\n      <td>NaN</td>\n      <td>NaN</td>\n      <td>1985-05-20</td>\n      <td>NaN</td>\n      <td>NaN</td>\n      <td>NaN</td>\n      <td>NaN</td>\n      <td>NaN</td>\n      <td>NaN</td>\n      <td>NaN</td>\n      <td>NaN</td>\n      <td>NaN</td>\n      <td>NaN</td>\n      <td>NaN</td>\n      <td>NaN</td>\n      <td>https://www.google.com/s2/photos/private/AIbEi...</td>\n      <td>UNITEC Alumno ::: * myContacts</td>\n      <td>* Other</td>\n      <td>ark_vs@hotmail.com</td>\n      <td>Other</td>\n      <td>ark_vs@yahoo.com.mx</td>\n      <td>NaN</td>\n      <td>NaN</td>\n      <td>NaN</td>\n      <td>NaN</td>\n      <td>NaN</td>\n      <td>NaN</td>\n      <td>NaN</td>\n      <td>...</td>\n      <td>Mobile</td>\n      <td>(55) 4351 9331</td>\n      <td>NaN</td>\n      <td>NaN</td>\n      <td>NaN</td>\n      <td>NaN</td>\n      <td>NaN</td>\n      <td>NaN</td>\n      <td>NaN</td>\n      <td>NaN</td>\n      <td>NaN</td>\n      <td>NaN</td>\n      <td>NaN</td>\n      <td>NaN</td>\n      <td>NaN</td>\n      <td>NaN</td>\n      <td>NaN</td>\n      <td>NaN</td>\n      <td>NaN</td>\n      <td>NaN</td>\n      <td>NaN</td>\n      <td>NaN</td>\n      <td>NaN</td>\n      <td>NaN</td>\n      <td>NaN</td>\n      <td>NaN</td>\n      <td>NaN</td>\n      <td>NaN</td>\n      <td>NaN</td>\n      <td>NaN</td>\n      <td>NaN</td>\n      <td>NaN</td>\n      <td>NaN</td>\n      <td>NaN</td>\n      <td>NaN</td>\n      <td>NaN</td>\n      <td>Other</td>\n      <td>fb://profile/655562991 ::: http://www.google.c...</td>\n      <td>NaN</td>\n      <td>NaN</td>\n    </tr>\n    <tr>\n      <th>165</th>\n      <td>Yazmin Torres</td>\n      <td>Yazmin</td>\n      <td>NaN</td>\n      <td>Torres</td>\n      <td>NaN</td>\n      <td>NaN</td>\n      <td>NaN</td>\n      <td>NaN</td>\n      <td>NaN</td>\n      <td>NaN</td>\n      <td>NaN</td>\n      <td>NaN</td>\n      <td>NaN</td>\n      <td>NaN</td>\n      <td>NaN</td>\n      <td>NaN</td>\n      <td>NaN</td>\n      <td>NaN</td>\n      <td>NaN</td>\n      <td>NaN</td>\n      <td>NaN</td>\n      <td>NaN</td>\n      <td>NaN</td>\n      <td>NaN</td>\n      <td>NaN</td>\n      <td>NaN</td>\n      <td>NaN</td>\n      <td>NaN</td>\n      <td>* myContacts</td>\n      <td>NaN</td>\n      <td>NaN</td>\n      <td>NaN</td>\n      <td>NaN</td>\n      <td>NaN</td>\n      <td>NaN</td>\n      <td>NaN</td>\n      <td>NaN</td>\n      <td>NaN</td>\n      <td>NaN</td>\n      <td>NaN</td>\n      <td>...</td>\n      <td>Mobile</td>\n      <td>(55) 3188 2997</td>\n      <td>NaN</td>\n      <td>NaN</td>\n      <td>NaN</td>\n      <td>NaN</td>\n      <td>NaN</td>\n      <td>NaN</td>\n      <td>NaN</td>\n      <td>NaN</td>\n      <td>NaN</td>\n      <td>NaN</td>\n      <td>NaN</td>\n      <td>NaN</td>\n      <td>NaN</td>\n      <td>NaN</td>\n      <td>NaN</td>\n      <td>NaN</td>\n      <td>NaN</td>\n      <td>NaN</td>\n      <td>NaN</td>\n      <td>NaN</td>\n      <td>NaN</td>\n      <td>NaN</td>\n      <td>NaN</td>\n      <td>NaN</td>\n      <td>Other</td>\n      <td>UNITEC</td>\n      <td>NaN</td>\n      <td>NaN</td>\n      <td>NaN</td>\n      <td>NaN</td>\n      <td>NaN</td>\n      <td>NaN</td>\n      <td>NaN</td>\n      <td>NaN</td>\n      <td>NaN</td>\n      <td>NaN</td>\n      <td>NaN</td>\n      <td>NaN</td>\n    </tr>\n    <tr>\n      <th>166</th>\n      <td>Yenny</td>\n      <td>Yenny</td>\n      <td>NaN</td>\n      <td>NaN</td>\n      <td>NaN</td>\n      <td>NaN</td>\n      <td>NaN</td>\n      <td>NaN</td>\n      <td>NaN</td>\n      <td>NaN</td>\n      <td>NaN</td>\n      <td>NaN</td>\n      <td>NaN</td>\n      <td>NaN</td>\n      <td>NaN</td>\n      <td>NaN</td>\n      <td>NaN</td>\n      <td>NaN</td>\n      <td>NaN</td>\n      <td>NaN</td>\n      <td>NaN</td>\n      <td>NaN</td>\n      <td>NaN</td>\n      <td>NaN</td>\n      <td>NaN</td>\n      <td>NaN</td>\n      <td>NaN</td>\n      <td>NaN</td>\n      <td>UNITEC Maestro ::: * myContacts</td>\n      <td>NaN</td>\n      <td>NaN</td>\n      <td>NaN</td>\n      <td>NaN</td>\n      <td>NaN</td>\n      <td>NaN</td>\n      <td>NaN</td>\n      <td>NaN</td>\n      <td>NaN</td>\n      <td>NaN</td>\n      <td>NaN</td>\n      <td>...</td>\n      <td>Mobile</td>\n      <td>+5215538031434</td>\n      <td>NaN</td>\n      <td>NaN</td>\n      <td>NaN</td>\n      <td>NaN</td>\n      <td>NaN</td>\n      <td>NaN</td>\n      <td>NaN</td>\n      <td>NaN</td>\n      <td>NaN</td>\n      <td>NaN</td>\n      <td>NaN</td>\n      <td>NaN</td>\n      <td>NaN</td>\n      <td>NaN</td>\n      <td>NaN</td>\n      <td>NaN</td>\n      <td>NaN</td>\n      <td>NaN</td>\n      <td>NaN</td>\n      <td>NaN</td>\n      <td>NaN</td>\n      <td>NaN</td>\n      <td>NaN</td>\n      <td>NaN</td>\n      <td>NaN</td>\n      <td>NaN</td>\n      <td>NaN</td>\n      <td>NaN</td>\n      <td>NaN</td>\n      <td>NaN</td>\n      <td>NaN</td>\n      <td>NaN</td>\n      <td>NaN</td>\n      <td>NaN</td>\n      <td>NaN</td>\n      <td>NaN</td>\n      <td>NaN</td>\n      <td>NaN</td>\n    </tr>\n    <tr>\n      <th>167</th>\n      <td>Yuval Rios Aranda</td>\n      <td>Yuval</td>\n      <td>NaN</td>\n      <td>Rios Aranda</td>\n      <td>NaN</td>\n      <td>NaN</td>\n      <td>NaN</td>\n      <td>NaN</td>\n      <td>NaN</td>\n      <td>NaN</td>\n      <td>NaN</td>\n      <td>NaN</td>\n      <td>NaN</td>\n      <td>NaN</td>\n      <td>NaN</td>\n      <td>NaN</td>\n      <td>NaN</td>\n      <td>NaN</td>\n      <td>NaN</td>\n      <td>NaN</td>\n      <td>NaN</td>\n      <td>NaN</td>\n      <td>NaN</td>\n      <td>NaN</td>\n      <td>NaN</td>\n      <td>NaN</td>\n      <td>NaN</td>\n      <td>https://www.google.com/s2/photos/private/AIbEi...</td>\n      <td>UNITEC Alumno ::: * myContacts</td>\n      <td>* Other</td>\n      <td>master_190@live.com</td>\n      <td>NaN</td>\n      <td>NaN</td>\n      <td>NaN</td>\n      <td>NaN</td>\n      <td>NaN</td>\n      <td>NaN</td>\n      <td>NaN</td>\n      <td>NaN</td>\n      <td>NaN</td>\n      <td>...</td>\n      <td>Mobile</td>\n      <td>(55) 2268 6686</td>\n      <td>NaN</td>\n      <td>NaN</td>\n      <td>NaN</td>\n      <td>NaN</td>\n      <td>NaN</td>\n      <td>NaN</td>\n      <td>NaN</td>\n      <td>NaN</td>\n      <td>NaN</td>\n      <td>NaN</td>\n      <td>NaN</td>\n      <td>NaN</td>\n      <td>NaN</td>\n      <td>NaN</td>\n      <td>NaN</td>\n      <td>NaN</td>\n      <td>NaN</td>\n      <td>NaN</td>\n      <td>NaN</td>\n      <td>NaN</td>\n      <td>NaN</td>\n      <td>NaN</td>\n      <td>NaN</td>\n      <td>NaN</td>\n      <td>Other</td>\n      <td>STC Metro</td>\n      <td>NaN</td>\n      <td>NaN</td>\n      <td>NaN</td>\n      <td>NaN</td>\n      <td>NaN</td>\n      <td>NaN</td>\n      <td>NaN</td>\n      <td>NaN</td>\n      <td>Other</td>\n      <td>fb://profile/1255161277</td>\n      <td>NaN</td>\n      <td>NaN</td>\n    </tr>\n    <tr>\n      <th>168</th>\n      <td>NaN</td>\n      <td>NaN</td>\n      <td>NaN</td>\n      <td>NaN</td>\n      <td>NaN</td>\n      <td>NaN</td>\n      <td>NaN</td>\n      <td>NaN</td>\n      <td>NaN</td>\n      <td>NaN</td>\n      <td>NaN</td>\n      <td>NaN</td>\n      <td>NaN</td>\n      <td>NaN</td>\n      <td>NaN</td>\n      <td>NaN</td>\n      <td>NaN</td>\n      <td>NaN</td>\n      <td>NaN</td>\n      <td>NaN</td>\n      <td>NaN</td>\n      <td>NaN</td>\n      <td>NaN</td>\n      <td>NaN</td>\n      <td>NaN</td>\n      <td>NaN</td>\n      <td>NaN</td>\n      <td>NaN</td>\n      <td>* myContacts</td>\n      <td>NaN</td>\n      <td>NaN</td>\n      <td>NaN</td>\n      <td>NaN</td>\n      <td>NaN</td>\n      <td>NaN</td>\n      <td>NaN</td>\n      <td>NaN</td>\n      <td>NaN</td>\n      <td>NaN</td>\n      <td>NaN</td>\n      <td>...</td>\n      <td>NaN</td>\n      <td>(55) 3523 26</td>\n      <td>NaN</td>\n      <td>NaN</td>\n      <td>NaN</td>\n      <td>NaN</td>\n      <td>NaN</td>\n      <td>NaN</td>\n      <td>NaN</td>\n      <td>NaN</td>\n      <td>NaN</td>\n      <td>NaN</td>\n      <td>NaN</td>\n      <td>NaN</td>\n      <td>NaN</td>\n      <td>NaN</td>\n      <td>NaN</td>\n      <td>NaN</td>\n      <td>NaN</td>\n      <td>NaN</td>\n      <td>NaN</td>\n      <td>NaN</td>\n      <td>NaN</td>\n      <td>NaN</td>\n      <td>NaN</td>\n      <td>NaN</td>\n      <td>NaN</td>\n      <td>Zapatos San Cosme</td>\n      <td>NaN</td>\n      <td>NaN</td>\n      <td>NaN</td>\n      <td>NaN</td>\n      <td>NaN</td>\n      <td>NaN</td>\n      <td>NaN</td>\n      <td>NaN</td>\n      <td>NaN</td>\n      <td>NaN</td>\n      <td>NaN</td>\n      <td>NaN</td>\n    </tr>\n  </tbody>\n</table>\n<p>169 rows × 84 columns</p>\n</div>"
     },
     "metadata": {},
     "execution_count": 38
    }
   ],
   "source": [
    "read_csv(\"contacts.csv\")"
   ]
  },
  {
   "cell_type": "code",
   "execution_count": null,
   "metadata": {},
   "outputs": [],
   "source": []
  }
 ]
}