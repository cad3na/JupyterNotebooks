{
 "cells": [
  {
   "cell_type": "code",
   "execution_count": 1,
   "metadata": {},
   "outputs": [],
   "source": [
    "from datetime import datetime\n",
    "from re import findall\n",
    "from Crypto.Hash import SHA\n",
    "from requests import Session\n",
    "from bs4 import BeautifulSoup as bs"
   ]
  },
  {
   "cell_type": "code",
   "execution_count": 2,
   "metadata": {},
   "outputs": [],
   "source": [
    "# Usuario y contraseña de la pagina web de monitoreo de temperaturas\n",
    "user=\"mexsat\"\n",
    "pswd=\"mexsat\"\n",
    "\n",
    "# Se utiliza algoritmo SHA256 para hasheo de contraseña\n",
    "h=SHA.new()\n",
    "h.update(pswd.encode())\n",
    "pswd_sha=h.hexdigest()\n",
    "\n",
    "# La dirección base de la pagina de monitoreo de temperaturas\n",
    "base_url=\"http://192.168.169.3:81/\"\n",
    "\n",
    "# Se establece la información a enviar para login en pagina de monitoreo\n",
    "# de temperaturas\n",
    "login_data = {\"uid_in\":\"mexsat\", \"pid_in\":\"\", \"hex_in\":pswd_sha}"
   ]
  },
  {
   "cell_type": "code",
   "execution_count": 3,
   "metadata": {},
   "outputs": [],
   "source": [
    "docs = []\n",
    "# Se inicia sesion de web scraping\n",
    "with Session() as ses:\n",
    "    try:\n",
    "        # Se envía peticion a la página web agregando el header inicial y\n",
    "        # la información de login\n",
    "        response = ses.post(base_url + \".html?get=${|mexsat|}\", login_data)\n",
    "        # A la respuesta de esta petición se le decodifica con un parser\n",
    "        # para html\n",
    "        doc      = bs(response.text, 'html.parser')\n",
    "        docs.append(doc)\n",
    "        # Se obtiene el primer bloque de la página identificado como script\n",
    "        # lo que nos indica que es Javascript\n",
    "        script   = doc.find_all(\"script\")[0].contents[0]\n",
    "        \n",
    "        # Dentro de este script se encuentra el identificador de la pagina,\n",
    "        # usuario y sessionID necesarios para la siguiente petición\n",
    "        pag, user, sessionID = findall(\".*\\$(\\w*)\\|(\\w*)\\|(\\w*)';\", script)[0]\n",
    "        \n",
    "        # Se construye header de respuesta para acceder a página principal\n",
    "        response_header = f\".html?get=${pag}|{user}|{sessionID}\"\n",
    "        # Se envía petición de página principal\n",
    "        response  = ses.get(base_url + response_header)\n",
    "        # Se decodifica respuesta\n",
    "        doc       = bs(response.text, 'html.parser')\n",
    "        docs.append(doc)\n",
    "        # Se obtiene bloque de script\n",
    "        script    = doc.find_all(\"script\")[0].contents[0]\n",
    "        # Se obtiene sessionID\n",
    "        sessionID = findall('.*var sessionID = \"([^\\n\\r]*)\";', script)[0]\n",
    "        # Se define un arreglo con los headers para las peticiones y el\n",
    "        # numero de tag en donde se localiza la temperatura en cada página\n",
    "        param = [[f\".html?get=$AHU01\", \"0\"],\n",
    "                 [f\".html?get=$AHU02\", \"0\"],\n",
    "                 [f\".html?get=$AHU03\", \"0\"],\n",
    "                 [f\".html?get=$AHU04\", \"0\"],\n",
    "                 [f\".html?get=$AHU05\", \"0\"],\n",
    "                 [f\".html?get=$AHU10\", \"2\"],\n",
    "                 [f\".html?get=$AHU11\", \"37\"],\n",
    "                 [f\".html?get=$CHILLER\", \"0\"],\n",
    "                 [f\".html?get=$CH02\", \"0\"]]\n",
    "\n",
    "        # Se inicializa una variable para guardar las temperaturas\n",
    "        temps = []\n",
    "        # Para cada una de las páginas a revisar\n",
    "        for i in param:\n",
    "            # Se construye header de respuesta\n",
    "            response_header = i[0] + f\"|{user}|{sessionID}\"\n",
    "            # Se envía petición\n",
    "            response = ses.get(base_url + response_header)\n",
    "            # Se decodifica respuesta\n",
    "            doc = bs(response.text, 'html.parser')\n",
    "            docs.append(doc)\n",
    "            # Se obtiene bloque de script\n",
    "            script = doc.find_all(\"script\")[0].contents[0]\n",
    "            # Se obtiene sessionID\n",
    "            sessionID = findall('.*var sessionID = \"([^\\n\\r]*)\";', script)[0]\n",
    "            # Se obtiene el cuerpo de la página\n",
    "            cont = doc.find_all(\"body\")[0]\n",
    "            # Se construye el patron de busqueda para la temperatura\n",
    "            patron  = 'id=\"tag'\n",
    "            patron +=  i[1]\n",
    "            patron += '\" nowrap=\"\" style=\"color: #0040e0\" width=\"100%\">[\\n\\r]\\s*(\\d{2})'\n",
    "            # Se aplica la busqueda\n",
    "            #t = findall(patron, cont.prettify())[0]\n",
    "            #temps.append(int(t))\n",
    "            \n",
    "    # En caso de que ocurra algun error, se apaga la bandera de obtencion\n",
    "    # de temperaturas exitosa\n",
    "    except Exception:\n",
    "        current = False"
   ]
  },
  {
   "cell_type": "code",
   "execution_count": 4,
   "metadata": {},
   "outputs": [],
   "source": [
    "for i, doc in enumerate(docs):\n",
    "    with open(\"./pags/pag\" + str(i) + \".html\", \"w\") as file:\n",
    "        file.write(doc.prettify())"
   ]
  },
  {
   "cell_type": "code",
   "execution_count": 5,
   "metadata": {},
   "outputs": [],
   "source": [
    "test_str = '<img alt=\"Active Value 24\" id=\"tag0\" src=\"images/LEDs/green_on.gif\"/>'"
   ]
  },
  {
   "cell_type": "code",
   "execution_count": 36,
   "metadata": {},
   "outputs": [
    {
     "data": {
      "text/plain": [
       "True"
      ]
     },
     "execution_count": 36,
     "metadata": {},
     "output_type": "execute_result"
    }
   ],
   "source": [
    "findall('<img .*\"tag0\".*src=\"(.*)\"/>', docs[1].prettify())[0] in ['images/LEDs/green_on.gif', 'images/LEDs/LED_GRN_ON.gif']"
   ]
  },
  {
   "cell_type": "code",
   "execution_count": 38,
   "metadata": {},
   "outputs": [
    {
     "data": {
      "text/plain": [
       "True"
      ]
     },
     "execution_count": 38,
     "metadata": {},
     "output_type": "execute_result"
    }
   ],
   "source": [
    "findall('<img .*\"tag1\".*src=\"(.*)\"/>', docs[1].prettify())[0] in ['images/LEDs/green_on.gif', 'images/LEDs/LED_GRN_ON.gif']"
   ]
  },
  {
   "cell_type": "code",
   "execution_count": 39,
   "metadata": {},
   "outputs": [
    {
     "data": {
      "text/plain": [
       "True"
      ]
     },
     "execution_count": 39,
     "metadata": {},
     "output_type": "execute_result"
    }
   ],
   "source": [
    "findall('<img .*\"tag2\".*src=\"(.*)\"/>', docs[1].prettify())[0] in ['images/LEDs/green_on.gif', 'images/LEDs/LED_GRN_ON.gif']"
   ]
  },
  {
   "cell_type": "code",
   "execution_count": 49,
   "metadata": {},
   "outputs": [],
   "source": [
    "a=1"
   ]
  },
  {
   "cell_type": "code",
   "execution_count": 50,
   "metadata": {},
   "outputs": [
    {
     "data": {
      "text/plain": [
       "'pizza01'"
      ]
     },
     "execution_count": 50,
     "metadata": {},
     "output_type": "execute_result"
    }
   ],
   "source": [
    "f'pizza{a:02}'"
   ]
  },
  {
   "cell_type": "code",
   "execution_count": 51,
   "metadata": {},
   "outputs": [],
   "source": [
    "with open(\"conf_matplotlib.py\", \"r\") as file:\n",
    "    prueba = file.read()"
   ]
  },
  {
   "cell_type": "code",
   "execution_count": 52,
   "metadata": {},
   "outputs": [
    {
     "data": {
      "text/plain": [
       "'def conf_matplotlib_oscuro():\\n    from matplotlib.pyplot import style, rcParams\\n\\n    style.use(\"dark_background\")\\n\\n    rcParams[\"figure.facecolor\"] = (43/256, 43/256, 43/256)\\n    rcParams[\"axes.facecolor\"]   = (43/256, 43/256, 43/256)\\n    rcParams[\"legend.facecolor\"] = (43/256, 43/256, 43/256)\\n    \\n    rcParams[\"legend.edgecolor\"] = (43*4/256, 43*4/256, 43*4/256, 0.5)\\n    rcParams[\"axes.edgecolor\"]   = (43*3/256, 43*3/256, 43*3/256, 0.5)\\n    \\n    rcParams[\"axes.grid\"]        = True\\n    \\n    rcParams[\"grid.color\"]       = (43*4/256, 43*4/256, 43*4/256, 0.5)\\n    \\n    rcParams[\"xtick.color\"]      = (43*4/256, 43*4/256, 43*4/256, 0.8)\\n    rcParams[\"ytick.color\"]      = (43*4/256, 43*4/256, 43*4/256, 0.8)\\n    \\n    rcParams[\"lines.linewidth\"]  = 5\\n    rcParams[\"grid.linewidth\"]   = 0.5\\n    \\ndef conf_matplotlib_claro():\\n    from matplotlib.pyplot import style, rcParams\\n\\n    style.use(\"ggplot\")\\n\\n    #rcParams[\"figure.facecolor\"] = (43/256, 43/256, 43/256)\\n    #rcParams[\"axes.facecolor\"]   = (43/256, 43/256, 43/256)\\n    #rcParams[\"legend.facecolor\"] = (43/256, 43/256, 43/256)\\n    \\n    #rcParams[\"legend.edgecolor\"] = (43*4/256, 43*4/256, 43*4/256, 0.5)\\n    #rcParams[\"axes.edgecolor\"]   = (43*3/256, 43*3/256, 43*3/256, 0.5)\\n    \\n    rcParams[\"axes.grid\"]        = True\\n    \\n    #rcParams[\"grid.color\"]       = (43*4/256, 43*4/256, 43*4/256, 0.5)\\n    \\n    #rcParams[\"xtick.color\"]      = (43*4/256, 43*4/256, 43*4/256, 0.8)\\n    #rcParams[\"ytick.color\"]      = (43*4/256, 43*4/256, 43*4/256, 0.8)\\n    \\n    rcParams[\"lines.linewidth\"]  = 2\\n    rcParams[\"grid.linewidth\"]   = 1'"
      ]
     },
     "execution_count": 52,
     "metadata": {},
     "output_type": "execute_result"
    }
   ],
   "source": [
    "prueba"
   ]
  },
  {
   "cell_type": "code",
   "execution_count": null,
   "metadata": {},
   "outputs": [],
   "source": []
  }
 ],
 "metadata": {
  "kernelspec": {
   "display_name": "Python 3",
   "language": "python",
   "name": "python3"
  },
  "language_info": {
   "codemirror_mode": {
    "name": "ipython",
    "version": 3
   },
   "file_extension": ".py",
   "mimetype": "text/x-python",
   "name": "python",
   "nbconvert_exporter": "python",
   "pygments_lexer": "ipython3",
   "version": "3.7.7"
  }
 },
 "nbformat": 4,
 "nbformat_minor": 4
}
