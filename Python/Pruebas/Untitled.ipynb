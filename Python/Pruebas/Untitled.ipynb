{
 "cells": [
  {
   "cell_type": "code",
   "execution_count": 1,
   "metadata": {},
   "outputs": [],
   "source": [
    "# -----------\n",
    "# User Instructions:\n",
    "#\n",
    "# Modify the the search function so that it returns\n",
    "# a shortest path as follows:\n",
    "# \n",
    "# [['>', 'v', ' ', ' ', ' ', ' '],\n",
    "#  [' ', '>', '>', '>', '>', 'v'],\n",
    "#  [' ', ' ', ' ', ' ', ' ', 'v'],\n",
    "#  [' ', ' ', ' ', ' ', ' ', 'v'],\n",
    "#  [' ', ' ', ' ', ' ', ' ', '*']]\n",
    "#\n",
    "# Where '>', '<', '^', and 'v' refer to right, left, \n",
    "# up, and down motions. Note that the 'v' should be \n",
    "# lowercase. '*' should mark the goal cell.\n",
    "#\n",
    "# You may assume that all test cases for this function\n",
    "# will have a path from init to goal.\n",
    "# ----------"
   ]
  },
  {
   "cell_type": "code",
   "execution_count": 2,
   "metadata": {},
   "outputs": [],
   "source": [
    "grid = [[0, 0, 1, 0, 0, 0],\n",
    "        [0, 0, 0, 0, 0, 0],\n",
    "        [0, 0, 1, 0, 1, 0],\n",
    "        [0, 0, 1, 0, 1, 0],\n",
    "        [0, 0, 1, 0, 1, 0]]\n",
    "init = [0, 0]\n",
    "goal = [len(grid)-1, len(grid[0])-1]\n",
    "cost = 1\n",
    "\n",
    "delta = [[-1, 0 ], # go up\n",
    "         [ 0, -1], # go left\n",
    "         [ 1, 0 ], # go down\n",
    "         [ 0, 1 ]] # go right\n",
    "\n",
    "delta_name = ['^', '<', 'v', '>']"
   ]
  },
  {
   "cell_type": "code",
   "execution_count": 3,
   "metadata": {},
   "outputs": [],
   "source": [
    "def minimo_exc(lista):\n",
    "    ind_min = 0\n",
    "    minimo = max(lista)\n",
    "    for i, elem in enumerate(lista):\n",
    "        if 0 < elem < minimo:\n",
    "            minimo = elem\n",
    "            ind_min = i\n",
    "    return minimo, ind_min"
   ]
  },
  {
   "cell_type": "code",
   "execution_count": 35,
   "metadata": {},
   "outputs": [],
   "source": [
    "def search(grid,init,goal,cost):\n",
    "    # ----------------------------------------\n",
    "    # modify code below\n",
    "    # ----------------------------------------\n",
    "    closed = [[0 for row in range(len(grid[0]))] for col in range(len(grid))]\n",
    "    closed[init[0]][init[1]] = 1\n",
    "    result = [[\" \" for row in range(len(grid[0]))] for col in range(len(grid))]\n",
    "    costs = [[0 for row in range(len(grid[0]))] for col in range(len(grid))]\n",
    "\n",
    "    x = init[0]\n",
    "    y = init[1]\n",
    "    g = 0\n",
    "\n",
    "    open = [[g, x, y]]\n",
    "\n",
    "    found = False  # flag that is set when search is complete\n",
    "    resign = False # flag set if we can't find expand\n",
    "\n",
    "    while not found and not resign:\n",
    "        if len(open) == 0:\n",
    "            resign = True\n",
    "            return 'fail'\n",
    "        else:\n",
    "            open.sort()\n",
    "            open.reverse()\n",
    "            next = open.pop()\n",
    "            x = next[1]\n",
    "            y = next[2]\n",
    "            g = next[0]\n",
    "            \n",
    "            if x == goal[0] and y == goal[1]:\n",
    "                found = True\n",
    "                result[x][y] = \"*\"\n",
    "            else:\n",
    "                for i in range(len(delta)):\n",
    "                    x2 = x + delta[i][0]\n",
    "                    y2 = y + delta[i][1]\n",
    "                    if 0 <= x2 < len(grid) and 0 <= y2 < len(grid[0]):\n",
    "                        if closed[x2][y2] == 0 and grid[x2][y2] == 0:\n",
    "                            g2 = g + cost\n",
    "                            open.append([g2, x2, y2])\n",
    "                            costs[x2][y2] = g2 + 1\n",
    "                            closed[x2][y2] = 1\n",
    "                            \n",
    "    next = goal\n",
    "    not_concluded = True\n",
    "    costs[0][0]=1\n",
    "    \n",
    "    while not_concluded:\n",
    "        x = next[0]\n",
    "        y = next[1]\n",
    "        costos = []\n",
    "        \n",
    "        for direc, sym in zip(*[delta, delta_name]):\n",
    "            x2 = x + direc[0]\n",
    "            y2 = y + direc[1]\n",
    "            \n",
    "            if 0 <= x2 < len(grid) and 0 <= y2 < len(grid[0]):\n",
    "                costos.append(costs[x2][y2])\n",
    "            else:\n",
    "                costos.append(0)\n",
    "                \n",
    "        minimo, i = minimo_exc(costos)\n",
    "        direc = delta[i]\n",
    "        xmin = x + direc[0]\n",
    "        ymin = y + direc[1]\n",
    "        \n",
    "        simbolo = delta_name[(i+2)%4]\n",
    "        result[xmin][ymin] = simbolo\n",
    "        next = [xmin, ymin]\n",
    "        \n",
    "        if next[0] == 0 and next[1] == 0:\n",
    "            not_concluded = False\n",
    "        #for line in costs:\n",
    "        #    print(line)\n",
    "        #print(\"\\n\")\n",
    "        #print(costos, minimo, i)\n",
    "        #print(costs, result)\n",
    "        \n",
    "    expand = result\n",
    "    return expand # make sure you return the shortest path"
   ]
  },
  {
   "cell_type": "code",
   "execution_count": 36,
   "metadata": {},
   "outputs": [
    {
     "name": "stdout",
     "output_type": "stream",
     "text": [
      "[['>', 'v', ' ', ' ', ' ', ' '], [' ', '>', '>', '>', '>', 'v'], [' ', ' ', ' ', ' ', ' ', 'v'], [' ', ' ', ' ', ' ', ' ', 'v'], [' ', ' ', ' ', ' ', ' ', '*']]\n"
     ]
    }
   ],
   "source": [
    "print(search(grid, init, goal, cost))"
   ]
  },
  {
   "cell_type": "code",
   "execution_count": null,
   "metadata": {},
   "outputs": [],
   "source": [
    "# [['>', 'v', ' ', ' ', ' ', ' '],\n",
    "#  [' ', '>', '>', '>', '>', 'v'],\n",
    "#  [' ', ' ', ' ', ' ', ' ', 'v'],\n",
    "#  [' ', ' ', ' ', ' ', ' ', 'v'],\n",
    "#  [' ', ' ', ' ', ' ', ' ', '*']]"
   ]
  }
 ],
 "metadata": {
  "kernelspec": {
   "display_name": "Python 3",
   "language": "python",
   "name": "python3"
  },
  "language_info": {
   "codemirror_mode": {
    "name": "ipython",
    "version": 3
   },
   "file_extension": ".py",
   "mimetype": "text/x-python",
   "name": "python",
   "nbconvert_exporter": "python",
   "pygments_lexer": "ipython3",
   "version": "3.6.10"
  }
 },
 "nbformat": 4,
 "nbformat_minor": 4
}
