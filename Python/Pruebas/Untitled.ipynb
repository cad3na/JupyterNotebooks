{
 "cells": [
  {
   "cell_type": "code",
   "execution_count": 1,
   "metadata": {},
   "outputs": [],
   "source": [
<<<<<<< HEAD
    "# -----------\n",
    "# User Instructions:\n",
    "#\n",
    "# Modify the the search function so that it returns\n",
    "# a shortest path as follows:\n",
    "# \n",
    "# [['>', 'v', ' ', ' ', ' ', ' '],\n",
    "#  [' ', '>', '>', '>', '>', 'v'],\n",
    "#  [' ', ' ', ' ', ' ', ' ', 'v'],\n",
    "#  [' ', ' ', ' ', ' ', ' ', 'v'],\n",
    "#  [' ', ' ', ' ', ' ', ' ', '*']]\n",
    "#\n",
    "# Where '>', '<', '^', and 'v' refer to right, left, \n",
    "# up, and down motions. Note that the 'v' should be \n",
    "# lowercase. '*' should mark the goal cell.\n",
    "#\n",
    "# You may assume that all test cases for this function\n",
    "# will have a path from init to goal.\n",
    "# ----------"
=======
    "from datetime import datetime\n",
    "from re import findall\n",
    "from Crypto.Hash import SHA\n",
    "from requests import Session\n",
    "from bs4 import BeautifulSoup as bs"
>>>>>>> 0c9a759b4a78806276b53a1e43a708f69c7144b5
   ]
  },
  {
   "cell_type": "code",
   "execution_count": 2,
   "metadata": {},
   "outputs": [],
   "source": [
<<<<<<< HEAD
    "grid = [[0, 0, 1, 0, 0, 0],\n",
    "        [0, 0, 0, 0, 0, 0],\n",
    "        [0, 0, 1, 0, 1, 0],\n",
    "        [0, 0, 1, 0, 1, 0],\n",
    "        [0, 0, 1, 0, 1, 0]]\n",
    "init = [0, 0]\n",
    "goal = [len(grid)-1, len(grid[0])-1]\n",
    "cost = 1\n",
    "\n",
    "delta = [[-1, 0 ], # go up\n",
    "         [ 0, -1], # go left\n",
    "         [ 1, 0 ], # go down\n",
    "         [ 0, 1 ]] # go right\n",
    "\n",
    "delta_name = ['^', '<', 'v', '>']"
=======
    "# Usuario y contraseña de la pagina web de monitoreo de temperaturas\n",
    "user=\"mexsat\"\n",
    "pswd=\"mexsat\"\n",
    "\n",
    "# Se utiliza algoritmo SHA256 para hasheo de contraseña\n",
    "h=SHA.new()\n",
    "h.update(pswd.encode())\n",
    "pswd_sha=h.hexdigest()\n",
    "\n",
    "# La dirección base de la pagina de monitoreo de temperaturas\n",
    "base_url=\"http://192.168.169.3:81/\"\n",
    "\n",
    "# Se establece la información a enviar para login en pagina de monitoreo\n",
    "# de temperaturas\n",
    "login_data = {\"uid_in\":\"mexsat\", \"pid_in\":\"\", \"hex_in\":pswd_sha}"
>>>>>>> 0c9a759b4a78806276b53a1e43a708f69c7144b5
   ]
  },
  {
   "cell_type": "code",
   "execution_count": 3,
   "metadata": {},
   "outputs": [],
   "source": [
<<<<<<< HEAD
    "def minimo_exc(lista):\n",
    "    ind_min = 0\n",
    "    minimo = max(lista)\n",
    "    for i, elem in enumerate(lista):\n",
    "        if 0 < elem < minimo:\n",
    "            minimo = elem\n",
    "            ind_min = i\n",
    "    return minimo, ind_min"
=======
    "docs = []\n",
    "# Se inicia sesion de web scraping\n",
    "with Session() as ses:\n",
    "    try:\n",
    "        # Se envía peticion a la página web agregando el header inicial y\n",
    "        # la información de login\n",
    "        response = ses.post(base_url + \".html?get=${|mexsat|}\", login_data)\n",
    "        # A la respuesta de esta petición se le decodifica con un parser\n",
    "        # para html\n",
    "        doc      = bs(response.text, 'html.parser')\n",
    "        docs.append(doc)\n",
    "        # Se obtiene el primer bloque de la página identificado como script\n",
    "        # lo que nos indica que es Javascript\n",
    "        script   = doc.find_all(\"script\")[0].contents[0]\n",
    "        \n",
    "        # Dentro de este script se encuentra el identificador de la pagina,\n",
    "        # usuario y sessionID necesarios para la siguiente petición\n",
    "        pag, user, sessionID = findall(\".*\\$(\\w*)\\|(\\w*)\\|(\\w*)';\", script)[0]\n",
    "        \n",
    "        # Se construye header de respuesta para acceder a página principal\n",
    "        response_header = f\".html?get=${pag}|{user}|{sessionID}\"\n",
    "        # Se envía petición de página principal\n",
    "        response  = ses.get(base_url + response_header)\n",
    "        # Se decodifica respuesta\n",
    "        doc       = bs(response.text, 'html.parser')\n",
    "        docs.append(doc)\n",
    "        # Se obtiene bloque de script\n",
    "        script    = doc.find_all(\"script\")[0].contents[0]\n",
    "        # Se obtiene sessionID\n",
    "        sessionID = findall('.*var sessionID = \"([^\\n\\r]*)\";', script)[0]\n",
    "        # Se define un arreglo con los headers para las peticiones y el\n",
    "        # numero de tag en donde se localiza la temperatura en cada página\n",
    "        param = [[f\".html?get=$AHU01\", \"0\"],\n",
    "                 [f\".html?get=$AHU02\", \"0\"],\n",
    "                 [f\".html?get=$AHU03\", \"0\"],\n",
    "                 [f\".html?get=$AHU04\", \"0\"],\n",
    "                 [f\".html?get=$AHU05\", \"0\"],\n",
    "                 [f\".html?get=$AHU10\", \"2\"],\n",
    "                 [f\".html?get=$AHU11\", \"37\"],\n",
    "                 [f\".html?get=$CHILLER\", \"0\"],\n",
    "                 [f\".html?get=$CH02\", \"0\"]]\n",
    "\n",
    "        # Se inicializa una variable para guardar las temperaturas\n",
    "        temps = []\n",
    "        # Para cada una de las páginas a revisar\n",
    "        for i in param:\n",
    "            # Se construye header de respuesta\n",
    "            response_header = i[0] + f\"|{user}|{sessionID}\"\n",
    "            # Se envía petición\n",
    "            response = ses.get(base_url + response_header)\n",
    "            # Se decodifica respuesta\n",
    "            doc = bs(response.text, 'html.parser')\n",
    "            docs.append(doc)\n",
    "            # Se obtiene bloque de script\n",
    "            script = doc.find_all(\"script\")[0].contents[0]\n",
    "            # Se obtiene sessionID\n",
    "            sessionID = findall('.*var sessionID = \"([^\\n\\r]*)\";', script)[0]\n",
    "            # Se obtiene el cuerpo de la página\n",
    "            cont = doc.find_all(\"body\")[0]\n",
    "            # Se construye el patron de busqueda para la temperatura\n",
    "            patron  = 'id=\"tag'\n",
    "            patron +=  i[1]\n",
    "            patron += '\" nowrap=\"\" style=\"color: #0040e0\" width=\"100%\">[\\n\\r]\\s*(\\d{2})'\n",
    "            # Se aplica la busqueda\n",
    "            #t = findall(patron, cont.prettify())[0]\n",
    "            #temps.append(int(t))\n",
    "            \n",
    "    # En caso de que ocurra algun error, se apaga la bandera de obtencion\n",
    "    # de temperaturas exitosa\n",
    "    except Exception:\n",
    "        current = False"
>>>>>>> 0c9a759b4a78806276b53a1e43a708f69c7144b5
   ]
  },
  {
   "cell_type": "code",
<<<<<<< HEAD
   "execution_count": 35,
   "metadata": {},
   "outputs": [],
   "source": [
    "def search(grid,init,goal,cost):\n",
    "    # ----------------------------------------\n",
    "    # modify code below\n",
    "    # ----------------------------------------\n",
    "    closed = [[0 for row in range(len(grid[0]))] for col in range(len(grid))]\n",
    "    closed[init[0]][init[1]] = 1\n",
    "    result = [[\" \" for row in range(len(grid[0]))] for col in range(len(grid))]\n",
    "    costs = [[0 for row in range(len(grid[0]))] for col in range(len(grid))]\n",
    "\n",
    "    x = init[0]\n",
    "    y = init[1]\n",
    "    g = 0\n",
    "\n",
    "    open = [[g, x, y]]\n",
    "\n",
    "    found = False  # flag that is set when search is complete\n",
    "    resign = False # flag set if we can't find expand\n",
    "\n",
    "    while not found and not resign:\n",
    "        if len(open) == 0:\n",
    "            resign = True\n",
    "            return 'fail'\n",
    "        else:\n",
    "            open.sort()\n",
    "            open.reverse()\n",
    "            next = open.pop()\n",
    "            x = next[1]\n",
    "            y = next[2]\n",
    "            g = next[0]\n",
    "            \n",
    "            if x == goal[0] and y == goal[1]:\n",
    "                found = True\n",
    "                result[x][y] = \"*\"\n",
    "            else:\n",
    "                for i in range(len(delta)):\n",
    "                    x2 = x + delta[i][0]\n",
    "                    y2 = y + delta[i][1]\n",
    "                    if 0 <= x2 < len(grid) and 0 <= y2 < len(grid[0]):\n",
    "                        if closed[x2][y2] == 0 and grid[x2][y2] == 0:\n",
    "                            g2 = g + cost\n",
    "                            open.append([g2, x2, y2])\n",
    "                            costs[x2][y2] = g2 + 1\n",
    "                            closed[x2][y2] = 1\n",
    "                            \n",
    "    next = goal\n",
    "    not_concluded = True\n",
    "    costs[0][0]=1\n",
    "    \n",
    "    while not_concluded:\n",
    "        x = next[0]\n",
    "        y = next[1]\n",
    "        costos = []\n",
    "        \n",
    "        for direc, sym in zip(*[delta, delta_name]):\n",
    "            x2 = x + direc[0]\n",
    "            y2 = y + direc[1]\n",
    "            \n",
    "            if 0 <= x2 < len(grid) and 0 <= y2 < len(grid[0]):\n",
    "                costos.append(costs[x2][y2])\n",
    "            else:\n",
    "                costos.append(0)\n",
    "                \n",
    "        minimo, i = minimo_exc(costos)\n",
    "        direc = delta[i]\n",
    "        xmin = x + direc[0]\n",
    "        ymin = y + direc[1]\n",
    "        \n",
    "        simbolo = delta_name[(i+2)%4]\n",
    "        result[xmin][ymin] = simbolo\n",
    "        next = [xmin, ymin]\n",
    "        \n",
    "        if next[0] == 0 and next[1] == 0:\n",
    "            not_concluded = False\n",
    "        #for line in costs:\n",
    "        #    print(line)\n",
    "        #print(\"\\n\")\n",
    "        #print(costos, minimo, i)\n",
    "        #print(costs, result)\n",
    "        \n",
    "    expand = result\n",
    "    return expand # make sure you return the shortest path"
=======
   "execution_count": 4,
   "metadata": {},
   "outputs": [],
   "source": [
    "for i, doc in enumerate(docs):\n",
    "    with open(\"./pags/pag\" + str(i) + \".html\", \"w\") as file:\n",
    "        file.write(doc.prettify())"
   ]
  },
  {
   "cell_type": "code",
   "execution_count": 5,
   "metadata": {},
   "outputs": [],
   "source": [
    "test_str = '<img alt=\"Active Value 24\" id=\"tag0\" src=\"images/LEDs/green_on.gif\"/>'"
>>>>>>> 0c9a759b4a78806276b53a1e43a708f69c7144b5
   ]
  },
  {
   "cell_type": "code",
   "execution_count": 36,
   "metadata": {},
   "outputs": [
    {
<<<<<<< HEAD
     "name": "stdout",
     "output_type": "stream",
     "text": [
      "[['>', 'v', ' ', ' ', ' ', ' '], [' ', '>', '>', '>', '>', 'v'], [' ', ' ', ' ', ' ', ' ', 'v'], [' ', ' ', ' ', ' ', ' ', 'v'], [' ', ' ', ' ', ' ', ' ', '*']]\n"
     ]
    }
   ],
   "source": [
    "print(search(grid, init, goal, cost))"
=======
     "data": {
      "text/plain": [
       "True"
      ]
     },
     "execution_count": 36,
     "metadata": {},
     "output_type": "execute_result"
    }
   ],
   "source": [
    "findall('<img .*\"tag0\".*src=\"(.*)\"/>', docs[1].prettify())[0] in ['images/LEDs/green_on.gif', 'images/LEDs/LED_GRN_ON.gif']"
>>>>>>> 0c9a759b4a78806276b53a1e43a708f69c7144b5
   ]
  },
  {
   "cell_type": "code",
<<<<<<< HEAD
   "execution_count": null,
   "metadata": {},
   "outputs": [],
   "source": [
    "# [['>', 'v', ' ', ' ', ' ', ' '],\n",
    "#  [' ', '>', '>', '>', '>', 'v'],\n",
    "#  [' ', ' ', ' ', ' ', ' ', 'v'],\n",
    "#  [' ', ' ', ' ', ' ', ' ', 'v'],\n",
    "#  [' ', ' ', ' ', ' ', ' ', '*']]"
   ]
=======
   "execution_count": 38,
   "metadata": {},
   "outputs": [
    {
     "data": {
      "text/plain": [
       "True"
      ]
     },
     "execution_count": 38,
     "metadata": {},
     "output_type": "execute_result"
    }
   ],
   "source": [
    "findall('<img .*\"tag1\".*src=\"(.*)\"/>', docs[1].prettify())[0] in ['images/LEDs/green_on.gif', 'images/LEDs/LED_GRN_ON.gif']"
   ]
  },
  {
   "cell_type": "code",
   "execution_count": 39,
   "metadata": {},
   "outputs": [
    {
     "data": {
      "text/plain": [
       "True"
      ]
     },
     "execution_count": 39,
     "metadata": {},
     "output_type": "execute_result"
    }
   ],
   "source": [
    "findall('<img .*\"tag2\".*src=\"(.*)\"/>', docs[1].prettify())[0] in ['images/LEDs/green_on.gif', 'images/LEDs/LED_GRN_ON.gif']"
   ]
  },
  {
   "cell_type": "code",
   "execution_count": 49,
   "metadata": {},
   "outputs": [],
   "source": [
    "a=1"
   ]
  },
  {
   "cell_type": "code",
   "execution_count": 50,
   "metadata": {},
   "outputs": [
    {
     "data": {
      "text/plain": [
       "'pizza01'"
      ]
     },
     "execution_count": 50,
     "metadata": {},
     "output_type": "execute_result"
    }
   ],
   "source": [
    "f'pizza{a:02}'"
   ]
  },
  {
   "cell_type": "code",
   "execution_count": 51,
   "metadata": {},
   "outputs": [],
   "source": [
    "with open(\"conf_matplotlib.py\", \"r\") as file:\n",
    "    prueba = file.read()"
   ]
  },
  {
   "cell_type": "code",
   "execution_count": 52,
   "metadata": {},
   "outputs": [
    {
     "data": {
      "text/plain": [
       "'def conf_matplotlib_oscuro():\\n    from matplotlib.pyplot import style, rcParams\\n\\n    style.use(\"dark_background\")\\n\\n    rcParams[\"figure.facecolor\"] = (43/256, 43/256, 43/256)\\n    rcParams[\"axes.facecolor\"]   = (43/256, 43/256, 43/256)\\n    rcParams[\"legend.facecolor\"] = (43/256, 43/256, 43/256)\\n    \\n    rcParams[\"legend.edgecolor\"] = (43*4/256, 43*4/256, 43*4/256, 0.5)\\n    rcParams[\"axes.edgecolor\"]   = (43*3/256, 43*3/256, 43*3/256, 0.5)\\n    \\n    rcParams[\"axes.grid\"]        = True\\n    \\n    rcParams[\"grid.color\"]       = (43*4/256, 43*4/256, 43*4/256, 0.5)\\n    \\n    rcParams[\"xtick.color\"]      = (43*4/256, 43*4/256, 43*4/256, 0.8)\\n    rcParams[\"ytick.color\"]      = (43*4/256, 43*4/256, 43*4/256, 0.8)\\n    \\n    rcParams[\"lines.linewidth\"]  = 5\\n    rcParams[\"grid.linewidth\"]   = 0.5\\n    \\ndef conf_matplotlib_claro():\\n    from matplotlib.pyplot import style, rcParams\\n\\n    style.use(\"ggplot\")\\n\\n    #rcParams[\"figure.facecolor\"] = (43/256, 43/256, 43/256)\\n    #rcParams[\"axes.facecolor\"]   = (43/256, 43/256, 43/256)\\n    #rcParams[\"legend.facecolor\"] = (43/256, 43/256, 43/256)\\n    \\n    #rcParams[\"legend.edgecolor\"] = (43*4/256, 43*4/256, 43*4/256, 0.5)\\n    #rcParams[\"axes.edgecolor\"]   = (43*3/256, 43*3/256, 43*3/256, 0.5)\\n    \\n    rcParams[\"axes.grid\"]        = True\\n    \\n    #rcParams[\"grid.color\"]       = (43*4/256, 43*4/256, 43*4/256, 0.5)\\n    \\n    #rcParams[\"xtick.color\"]      = (43*4/256, 43*4/256, 43*4/256, 0.8)\\n    #rcParams[\"ytick.color\"]      = (43*4/256, 43*4/256, 43*4/256, 0.8)\\n    \\n    rcParams[\"lines.linewidth\"]  = 2\\n    rcParams[\"grid.linewidth\"]   = 1'"
      ]
     },
     "execution_count": 52,
     "metadata": {},
     "output_type": "execute_result"
    }
   ],
   "source": [
    "prueba"
   ]
  },
  {
   "cell_type": "code",
   "execution_count": null,
   "metadata": {},
   "outputs": [],
   "source": []
>>>>>>> 0c9a759b4a78806276b53a1e43a708f69c7144b5
  }
 ],
 "metadata": {
  "kernelspec": {
   "display_name": "Python 3",
   "language": "python",
   "name": "python3"
  },
  "language_info": {
   "codemirror_mode": {
    "name": "ipython",
    "version": 3
   },
   "file_extension": ".py",
   "mimetype": "text/x-python",
   "name": "python",
   "nbconvert_exporter": "python",
   "pygments_lexer": "ipython3",
<<<<<<< HEAD
   "version": "3.6.10"
=======
   "version": "3.7.7"
>>>>>>> 0c9a759b4a78806276b53a1e43a708f69c7144b5
  }
 },
 "nbformat": 4,
 "nbformat_minor": 4
}
