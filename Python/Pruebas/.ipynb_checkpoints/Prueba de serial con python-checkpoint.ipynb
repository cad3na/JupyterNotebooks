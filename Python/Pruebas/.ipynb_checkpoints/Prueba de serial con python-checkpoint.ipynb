{
 "metadata": {
  "name": ""
 },
 "nbformat": 3,
 "nbformat_minor": 0,
 "worksheets": [
  {
   "cells": [
    {
     "cell_type": "markdown",
     "metadata": {},
     "source": [
      "En este notebook implementamos la lectura del puerto serial con la libreria pyserial. El elemento que se manda es una cadena de caracteres con las temperaturas a cada momento del MSP430"
     ]
    },
    {
     "cell_type": "code",
     "collapsed": false,
     "input": [
      "import serial\n",
      "ser = serial.Serial(\"/dev/tty.uart-0AFF4676258A174C\")\n",
      "x = ser.read(100)\n",
      "ser.close()"
     ],
     "language": "python",
     "metadata": {},
     "outputs": [],
     "prompt_number": 41
    },
    {
     "cell_type": "code",
     "collapsed": false,
     "input": [
      "x"
     ],
     "language": "python",
     "metadata": {},
     "outputs": [
      {
       "metadata": {},
       "output_type": "pyout",
       "prompt_number": 42,
       "text": [
        "'H8\\r\\n313\\r\\n318\\r\\n317\\r\\n314\\r\\n317\\r\\n317\\r\\n320\\r\\n314\\r\\n317\\r\\n318\\r\\n318\\r\\n319\\r\\n314\\r\\n318\\r\\n318\\r\\n317\\r\\n319\\r\\n318\\r\\n318\\r\\n3'"
       ]
      }
     ],
     "prompt_number": 42
    },
    {
     "cell_type": "code",
     "collapsed": false,
     "input": [
      "import serial\n",
      "ser = serial.Serial(\"/dev/tty.uart-0AFF4676258A174C\")\n",
      "ser.writelines(\"255\")\n",
      "ser.close()"
     ],
     "language": "python",
     "metadata": {},
     "outputs": [],
     "prompt_number": 52
    },
    {
     "cell_type": "code",
     "collapsed": false,
     "input": [],
     "language": "python",
     "metadata": {},
     "outputs": []
    }
   ],
   "metadata": {}
  }
 ]
}