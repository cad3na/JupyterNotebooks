{
 "cells": [
  {
   "cell_type": "code",
   "execution_count": 6,
   "metadata": {
    "collapsed": false
   },
   "outputs": [
    {
     "name": "stdout",
     "output_type": "stream",
     "text": [
      "%1\n",
      "%1\n",
      "%1\n",
      "%2\n",
      "%2\n",
      "%3\n",
      "%3\n",
      "%3\n",
      "%4\n",
      "%4\n",
      "%4\n",
      "%5\n",
      "%5\n",
      "%6\n",
      "%6\n",
      "%6\n",
      "%6\n",
      "%7\n",
      "%8\n",
      "%8\n",
      "%9\n",
      "%9\n",
      "%9\n",
      "%9\n",
      "%10\n",
      "%11\n",
      "%11\n",
      "%11\n",
      "%12\n",
      "%12\n",
      "%13\n",
      "%14\n",
      "%14\n",
      "%15\n",
      "%15\n",
      "%15\n",
      "%15\n",
      "%16\n",
      "%16\n",
      "%17\n",
      "%17\n",
      "%18\n",
      "%18\n",
      "%19\n",
      "%19\n",
      "%20\n",
      "%20\n",
      "%20\n",
      "%21\n",
      "%21\n",
      "%22\n",
      "%22\n",
      "%22\n",
      "%23\n",
      "%23\n",
      "%25\n",
      "%25\n",
      "%26\n",
      "%27\n",
      "%28\n",
      "%28\n",
      "%28\n",
      "%29\n",
      "%30\n",
      "%31\n",
      "%31\n",
      "%32\n",
      "%33\n",
      "%33\n",
      "%34\n",
      "%35\n",
      "%36\n",
      "%37\n",
      "%37\n",
      "%38\n",
      "%38\n",
      "%38\n",
      "%39\n",
      "%40\n",
      "%40\n",
      "%40\n",
      "%41\n",
      "%41\n",
      "%42\n",
      "%42\n",
      "%43\n",
      "%43\n",
      "%44\n",
      "%45\n",
      "%46\n",
      "%46\n",
      "%46\n",
      "%47\n",
      "%47\n",
      "%48\n",
      "%48\n",
      "%49\n",
      "%49\n",
      "%50\n",
      "%50\n",
      "%52\n",
      "%52\n",
      "%53\n",
      "%53\n",
      "%54\n",
      "%55\n",
      "%55\n",
      "%56\n",
      "%56\n",
      "%57\n",
      "%58\n",
      "%58\n",
      "%58\n",
      "%58\n",
      "%59\n",
      "%60\n",
      "%61\n",
      "%61\n",
      "%61\n",
      "%62\n",
      "%63\n",
      "%63\n",
      "%63\n",
      "%63\n",
      "%64\n",
      "%65\n",
      "%65\n",
      "%66\n",
      "%67\n",
      "%67\n",
      "%67\n",
      "%67\n",
      "%67\n",
      "%68\n",
      "%68\n",
      "%68\n",
      "%69\n",
      "%69\n",
      "%70\n",
      "%70\n",
      "%71\n",
      "%71\n",
      "%72\n",
      "%72\n",
      "%72\n",
      "%73\n",
      "%73\n",
      "%74\n",
      "%75\n",
      "%75\n",
      "%75\n",
      "%75\n",
      "%76\n",
      "%76\n",
      "%77\n",
      "%77\n",
      "%77\n",
      "%77\n",
      "%78\n",
      "%78\n",
      "%79\n",
      "%79\n",
      "%80\n",
      "%80\n",
      "%81\n",
      "%81\n",
      "%82\n",
      "%82\n",
      "%83\n",
      "%83\n",
      "%84\n",
      "%85\n",
      "%85\n",
      "%86\n",
      "%86\n",
      "%87\n",
      "%87\n",
      "%88\n",
      "%88\n",
      "%89\n",
      "%90\n",
      "%91\n",
      "%92\n",
      "%93\n",
      "%93\n",
      "%94\n",
      "%94\n",
      "%96\n",
      "%96\n",
      "%96\n",
      "%97\n",
      "%98\n",
      "%99\n",
      "%99\n",
      "%100\n"
     ]
    }
   ],
   "source": [
    "# Diffusion Limited Aggregation fractal\n",
    "# FB - 201004036\n",
    "from PIL import Image\n",
    "import random\n",
    "import math\n",
    "\n",
    "imgx = 256\n",
    "imgy = 256\n",
    "image = Image.new(\"L\", (imgx, imgy))\n",
    "\n",
    "# neighbor pixel directions\n",
    "nx = [-1, -1, 0, 1, 1, 1, 0, -1]\n",
    "ny = [0, 1, 1, 1, 0, -1, -1, -1]\n",
    "\n",
    "maxIt = 256\n",
    "\n",
    "xc = (imgx - 1) / 2\n",
    "yc = (imgy - 1) / 2\n",
    "rmax = min(xc, yc) - 1\n",
    "# seed\n",
    "image.putpixel((int(xc), int(yc)), 255) \n",
    "\n",
    "rm = 0.9\n",
    "while rm < rmax:\n",
    "    a = random.random() * math.pi * 2.0\n",
    "    x = xc + rm * math.cos(a)\n",
    "    y = yc + rm * math.sin(a)\n",
    "    # random walk\n",
    "    flag = False\n",
    "    for i in range(maxIt):\n",
    "        a = random.randint(0, 7)\n",
    "        x = x + nx[a]\n",
    "        y = y + ny[a]\n",
    "        if x < 0 or x > (imgx - 1) or y < 0 or y > (imgy - 1):\n",
    "            break\n",
    "        if image.getpixel((x, y)) == 0:\n",
    "            # check the neighbors\n",
    "            for k in range(8):\n",
    "                xn = x + nx[k]\n",
    "                yn = y + ny[k]\n",
    "                if image.getpixel((xn, yn)) > 0:\n",
    "                    image.putpixel((int(x), int(y)), 255)\n",
    "                    r = math.sqrt((x - xc) ** 2.0 + (y - yc) ** 2.0)\n",
    "                    if r > rm:\n",
    "                        rm = r\n",
    "                        print (\"%\" + str(int(100 * rm / rmax)))\n",
    "                    flag = True\n",
    "                    break\n",
    "        if flag == True:\n",
    "            break\n",
    "\n",
    "image.save(\"DLA.png\", \"PNG\")"
   ]
  },
  {
   "cell_type": "markdown",
   "metadata": {},
   "source": [
    "![](DLA.png)"
   ]
  },
  {
   "cell_type": "code",
   "execution_count": 27,
   "metadata": {
    "collapsed": true
   },
   "outputs": [],
   "source": [
    "%matplotlib inline"
   ]
  },
  {
   "cell_type": "code",
   "execution_count": 28,
   "metadata": {
    "collapsed": true
   },
   "outputs": [],
   "source": [
    "from matplotlib.pyplot import imshow, cm, figure"
   ]
  },
  {
   "cell_type": "code",
   "execution_count": 46,
   "metadata": {
    "collapsed": false
   },
   "outputs": [],
   "source": [
    "import random\n",
    "import math\n",
    "from numpy import zeros\n",
    "\n",
    "imgx = 1024\n",
    "imgy = 1024\n",
    "#image = Image.new(\"L\", (imgx, imgy))\n",
    "\n",
    "image = zeros((imgx, imgy))\n",
    "\n",
    "# neighbor pixel directions\n",
    "nx = [-1, -1, 0, 1, 1, 1, 0, -1]\n",
    "ny = [0, 1, 1, 1, 0, -1, -1, -1]\n",
    "\n",
    "maxIt = 512\n",
    "\n",
    "xc = (imgx - 1) / 2\n",
    "yc = (imgy - 1) / 2\n",
    "rmax = min(xc, yc) - 1\n",
    "# seed\n",
    "#image.putpixel((int(xc), int(yc)), 255) \n",
    "image[int(xc)][int(yc)] = 255\n",
    "\n",
    "rm = 0.9\n",
    "while rm < rmax:\n",
    "    a = random.random() * math.pi * 2.0\n",
    "    x = xc + rm * math.cos(a)\n",
    "    y = yc + rm * math.sin(a)\n",
    "    # random walk\n",
    "    flag = False\n",
    "    for i in range(maxIt):\n",
    "        a = random.randint(0, 7)\n",
    "        x = x + nx[a]\n",
    "        y = y + ny[a]\n",
    "        if x < 0 or x > (imgx - 1) or y < 0 or y > (imgy - 1):\n",
    "            break\n",
    "        if image[int(x)][int(y)] == 0:\n",
    "            # check the neighbors\n",
    "            for k in range(8):\n",
    "                xn = x + nx[k]\n",
    "                yn = y + ny[k]\n",
    "                if image[int(xn)][int(yn)] > 0:\n",
    "                    #image.putpixel((int(x), int(y)), 255)\n",
    "                    image[int(x)][int(y)] = i\n",
    "                    r = math.sqrt((x - xc) ** 2.0 + (y - yc) ** 2.0)\n",
    "                    if r > rm:\n",
    "                        rm = r\n",
    "                        #print (\"%\" + str(int(100 * rm / rmax)))\n",
    "                    flag = True\n",
    "                    break\n",
    "        if flag == True:\n",
    "            break\n",
    "\n",
    "#image.save(\"DLA.png\", \"PNG\")"
   ]
  },
  {
   "cell_type": "code",
   "execution_count": 47,
   "metadata": {
    "collapsed": false
   },
   "outputs": [
    {
     "data": {
      "text/plain": [
       "array([[ 0.,  0.,  0., ...,  0.,  0.,  0.],\n",
       "       [ 0.,  0.,  0., ...,  0.,  0.,  0.],\n",
       "       [ 0.,  0.,  0., ...,  0.,  0.,  0.],\n",
       "       ..., \n",
       "       [ 0.,  0.,  0., ...,  0.,  0.,  0.],\n",
       "       [ 0.,  0.,  0., ...,  0.,  0.,  0.],\n",
       "       [ 0.,  0.,  0., ...,  0.,  0.,  0.]])"
      ]
     },
     "execution_count": 47,
     "metadata": {},
     "output_type": "execute_result"
    }
   ],
   "source": [
    "image"
   ]
  },
  {
   "cell_type": "code",
   "execution_count": 52,
   "metadata": {
    "collapsed": false
   },
   "outputs": [
    {
     "data": {
      "image/png": "[encoded data removed]",
      "text/plain": [
       "<matplotlib.figure.Figure at 0x110794860>"
      ]
     },
     "metadata": {},
     "output_type": "display_data"
    }
   ],
   "source": [
    "f  = figure(figsize=(10,10))\n",
    "ax = imshow(image, cmap=cm.bone_r, interpolation='none');\n",
    "\n",
    "ax.axes.get_xaxis().set_visible(False)\n",
    "ax.axes.get_yaxis().set_visible(False)\n",
    "\n",
    "ax.axes.spines[\"right\"].set_color(\"none\")\n",
    "ax.axes.spines[\"left\"].set_color(\"none\")\n",
    "ax.axes.spines[\"top\"].set_color(\"none\")\n",
    "ax.axes.spines[\"bottom\"].set_color(\"none\")"
   ]
  },
  {
   "cell_type": "code",
   "execution_count": 36,
   "metadata": {
    "collapsed": false
   },
   "outputs": [
    {
     "data": {
      "text/plain": [
       "<matplotlib.colors.LinearSegmentedColormap at 0x109fb2f98>"
      ]
     },
     "execution_count": 36,
     "metadata": {},
     "output_type": "execute_result"
    }
   ],
   "source": [
    "cm."
   ]
  },
  {
   "cell_type": "code",
   "execution_count": null,
   "metadata": {
    "collapsed": true
   },
   "outputs": [],
   "source": []
  },
  {
   "cell_type": "code",
   "execution_count": null,
   "metadata": {
    "collapsed": true
   },
   "outputs": [],
   "source": []
  },
  {
   "cell_type": "code",
   "execution_count": null,
   "metadata": {
    "collapsed": true
   },
   "outputs": [],
   "source": []
  }
 ],
 "metadata": {
  "kernelspec": {
   "display_name": "Python [conda root]",
   "language": "python",
   "name": "conda-root-py"
  },
  "language_info": {
   "codemirror_mode": {
    "name": "ipython",
    "version": 3
   },
   "file_extension": ".py",
   "mimetype": "text/x-python",
   "name": "python",
   "nbconvert_exporter": "python",
   "pygments_lexer": "ipython3",
   "version": "3.5.2"
  }
 },
 "nbformat": 4,
 "nbformat_minor": 2
}
