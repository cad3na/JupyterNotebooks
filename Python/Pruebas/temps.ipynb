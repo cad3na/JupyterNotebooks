{
 "cells": [
  {
   "cell_type": "code",
   "execution_count": 21,
   "metadata": {},
   "outputs": [],
   "source": [
    "from numpy.random import randint\n",
    "from numpy import array\n",
    "from datetime import datetime, timedelta"
   ]
  },
  {
   "cell_type": "code",
   "execution_count": 11,
   "metadata": {},
   "outputs": [],
   "source": [
    "temps = [[randint(5) + 18 for i in range(12)] for i in range(7)]"
   ]
  },
  {
   "cell_type": "code",
   "execution_count": 23,
   "metadata": {},
   "outputs": [],
   "source": [
    "hoy = datetime.now()\n",
    "horas = [datetime(hoy.year, hoy.month, hoy.day, 7+i,0,0) + timedelta(minutes = randint(30) - 15) for i in range(12)]"
   ]
  },
  {
   "cell_type": "code",
   "execution_count": 20,
   "metadata": {},
   "outputs": [],
   "source": [
    "zonas = [\"RF1\", \"RF2\", \"RF3\", \"RF4\", \"RF5\", \"SR1\", \"SR2\"]\n",
    "temps_zonas = {zona:{h.strftime(\"%H:%M\"):t for h, t in zip(*[hora, temp])} for zona, hora, temp in zip(*[zonas, horas, temps])}"
   ]
  },
  {
   "cell_type": "code",
   "execution_count": 38,
   "metadata": {},
   "outputs": [],
   "source": [
    "header = \",\".join([\"hora\"] + zonas)\n",
    "\n",
    "filas_val = array(temps).T.tolist()\n",
    "valores = [\",\".join([hora.strftime(\"%Y-%m-%d %H:%M\")] + list(map(str, fila))) for hora, fila in zip(*[horas, filas_val])]\n",
    "filas = \"\\n\".join(valores)\n",
    "\n",
    "archivo = header + \"\\n\" + filas + \"\\n\""
   ]
  },
  {
   "cell_type": "code",
   "execution_count": 39,
   "metadata": {},
   "outputs": [],
   "source": [
    "with open(\"valores.csv\", \"w\") as file:\n",
    "    file.write(archivo)"
   ]
  },
  {
   "cell_type": "code",
   "execution_count": 30,
   "metadata": {},
   "outputs": [
    {
     "data": {
      "text/plain": [
       "['19', '20', '22', '21', '21', '22', '18', '20', '20', '21', '22', '18']"
      ]
     },
     "execution_count": 30,
     "metadata": {},
     "output_type": "execute_result"
    }
   ],
   "source": [
    "list(map(str, temps[0]))"
   ]
  },
  {
   "cell_type": "code",
   "execution_count": null,
   "metadata": {},
   "outputs": [],
   "source": []
  }
 ],
 "metadata": {
  "file_extension": ".py",
  "kernelspec": {
   "display_name": "Python 3",
   "language": "python",
   "name": "python3"
  },
  "language_info": {
   "codemirror_mode": {
    "name": "ipython",
    "version": 3
   },
   "file_extension": ".py",
   "mimetype": "text/x-python",
   "name": "python",
   "nbconvert_exporter": "python",
   "pygments_lexer": "ipython3",
   "version": "3.7.7"
  },
  "mimetype": "text/x-python",
  "name": "python",
  "npconvert_exporter": "python",
  "pygments_lexer": "ipython3",
  "version": 3
 },
 "nbformat": 4,
 "nbformat_minor": 4
}
