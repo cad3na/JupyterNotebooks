{
 "cells": [
  {
   "cell_type": "code",
   "execution_count": 1,
   "metadata": {},
   "outputs": [],
   "source": [
    "from sqlalchemy import create_engine\n",
    "from sqlalchemy.ext.declarative import declarative_base\n",
    "from sqlalchemy import Column, Integer, String, ForeignKey"
   ]
  },
  {
   "cell_type": "code",
   "execution_count": 2,
   "metadata": {},
   "outputs": [],
   "source": [
    "engine = create_engine(\"sqlite:///prueba.sqlite\", echo=True)"
   ]
  },
  {
   "cell_type": "code",
   "execution_count": 3,
   "metadata": {},
   "outputs": [],
   "source": [
    "Base = declarative_base()"
   ]
  },
  {
   "cell_type": "code",
   "execution_count": 4,
   "metadata": {},
   "outputs": [],
   "source": [
    "class User(Base):\n",
    "    __tablename__ = \"users\"\n",
    "    \n",
    "    id = Column(Integer, primary_key=True)\n",
    "    name = Column(String)\n",
    "    fullname = Column(String)\n",
    "    nickname = Column(String)\n",
    "    \n",
    "    def __repr__(self):\n",
    "        return f\"<User(name='{self.name}', fullname='{self.fullname}', nickname='{self.nickname}')>\""
   ]
  },
  {
   "cell_type": "code",
   "execution_count": 5,
   "metadata": {},
   "outputs": [
    {
     "data": {
      "text/plain": [
       "Table('users', MetaData(bind=None), Column('id', Integer(), table=<users>, primary_key=True, nullable=False), Column('name', String(), table=<users>), Column('fullname', String(), table=<users>), Column('nickname', String(), table=<users>), schema=None)"
      ]
     },
     "execution_count": 5,
     "metadata": {},
     "output_type": "execute_result"
    }
   ],
   "source": [
    "User.__table__"
   ]
  },
  {
   "cell_type": "code",
   "execution_count": 6,
   "metadata": {},
   "outputs": [
    {
     "name": "stdout",
     "output_type": "stream",
     "text": [
      "2019-12-08 19:19:48,573 INFO sqlalchemy.engine.base.Engine SELECT CAST('test plain returns' AS VARCHAR(60)) AS anon_1\n",
      "2019-12-08 19:19:48,576 INFO sqlalchemy.engine.base.Engine ()\n",
      "2019-12-08 19:19:48,578 INFO sqlalchemy.engine.base.Engine SELECT CAST('test unicode returns' AS VARCHAR(60)) AS anon_1\n",
      "2019-12-08 19:19:48,580 INFO sqlalchemy.engine.base.Engine ()\n",
      "2019-12-08 19:19:48,583 INFO sqlalchemy.engine.base.Engine PRAGMA main.table_info(\"users\")\n",
      "2019-12-08 19:19:48,585 INFO sqlalchemy.engine.base.Engine ()\n",
      "2019-12-08 19:19:48,587 INFO sqlalchemy.engine.base.Engine PRAGMA temp.table_info(\"users\")\n",
      "2019-12-08 19:19:48,589 INFO sqlalchemy.engine.base.Engine ()\n",
      "2019-12-08 19:19:48,602 INFO sqlalchemy.engine.base.Engine \n",
      "CREATE TABLE users (\n",
      "\tid INTEGER NOT NULL, \n",
      "\tname VARCHAR, \n",
      "\tfullname VARCHAR, \n",
      "\tnickname VARCHAR, \n",
      "\tPRIMARY KEY (id)\n",
      ")\n",
      "\n",
      "\n",
      "2019-12-08 19:19:48,610 INFO sqlalchemy.engine.base.Engine ()\n",
      "2019-12-08 19:19:48,618 INFO sqlalchemy.engine.base.Engine COMMIT\n"
     ]
    }
   ],
   "source": [
    "Base.metadata.create_all(engine)"
   ]
  },
  {
   "cell_type": "code",
   "execution_count": 7,
   "metadata": {},
   "outputs": [],
   "source": [
    "usuario1 = User(name=\"roberto\", fullname=\"Roberto Cadena Vega\", nickname=\"rob\")"
   ]
  },
  {
   "cell_type": "code",
   "execution_count": 8,
   "metadata": {},
   "outputs": [],
   "source": [
    "from sqlalchemy.orm import sessionmaker"
   ]
  },
  {
   "cell_type": "code",
   "execution_count": 9,
   "metadata": {},
   "outputs": [],
   "source": [
    "sesion = sessionmaker(bind=engine)"
   ]
  },
  {
   "cell_type": "code",
   "execution_count": 10,
   "metadata": {},
   "outputs": [],
   "source": [
    "ses1 = sesion()"
   ]
  },
  {
   "cell_type": "code",
   "execution_count": 11,
   "metadata": {},
   "outputs": [],
   "source": [
    "ses1.add(usuario1)"
   ]
  },
  {
   "cell_type": "code",
   "execution_count": 12,
   "metadata": {},
   "outputs": [
    {
     "name": "stdout",
     "output_type": "stream",
     "text": [
      "2019-12-08 19:20:34,319 INFO sqlalchemy.engine.base.Engine BEGIN (implicit)\n",
      "2019-12-08 19:20:34,321 INFO sqlalchemy.engine.base.Engine INSERT INTO users (name, fullname, nickname) VALUES (?, ?, ?)\n",
      "2019-12-08 19:20:34,322 INFO sqlalchemy.engine.base.Engine ('roberto', 'Roberto Cadena Vega', 'rob')\n",
      "2019-12-08 19:20:34,327 INFO sqlalchemy.engine.base.Engine SELECT users.id AS users_id, users.name AS users_name, users.fullname AS users_fullname, users.nickname AS users_nickname \n",
      "FROM users \n",
      "WHERE users.name = ?\n",
      " LIMIT ? OFFSET ?\n",
      "2019-12-08 19:20:34,332 INFO sqlalchemy.engine.base.Engine ('roberto', 1, 0)\n"
     ]
    }
   ],
   "source": [
    "datos = ses1.query(User).filter_by(name='roberto').first() "
   ]
  },
  {
   "cell_type": "code",
   "execution_count": 13,
   "metadata": {},
   "outputs": [
    {
     "data": {
      "text/plain": [
       "<User(name='roberto', fullname='Roberto Cadena Vega', nickname='rob')>"
      ]
     },
     "execution_count": 13,
     "metadata": {},
     "output_type": "execute_result"
    }
   ],
   "source": [
    "datos"
   ]
  },
  {
   "cell_type": "code",
   "execution_count": 14,
   "metadata": {},
   "outputs": [
    {
     "data": {
      "text/plain": [
       "True"
      ]
     },
     "execution_count": 14,
     "metadata": {},
     "output_type": "execute_result"
    }
   ],
   "source": [
    "datos == usuario1"
   ]
  },
  {
   "cell_type": "code",
   "execution_count": 15,
   "metadata": {},
   "outputs": [
    {
     "name": "stdout",
     "output_type": "stream",
     "text": [
      "2019-12-08 19:20:39,670 INFO sqlalchemy.engine.base.Engine COMMIT\n"
     ]
    }
   ],
   "source": [
    "ses1.commit()"
   ]
  },
  {
   "cell_type": "code",
   "execution_count": 16,
   "metadata": {},
   "outputs": [],
   "source": [
    "usuarios_nuevos = [{\"name\":\"leticia\" , \"fullname\":\"Maria Leticia Vega Quiroz\" , \"nickname\":\"lety\"},\n",
    "                   {\"name\":\"francisco\" , \"fullname\":\"Francisco Cadena Cruz\" , \"nickname\":\"paco\"},\n",
    "                   {\"name\":\"alberto\" , \"fullname\":\"Alberto Cadena Vega\" , \"nickname\":\"bebe\"}]"
   ]
  },
  {
   "cell_type": "code",
   "execution_count": 17,
   "metadata": {},
   "outputs": [],
   "source": [
    "for usuario in usuarios_nuevos:\n",
    "    ses1.add(User(name=usuario[\"name\"], fullname=usuario[\"fullname\"], nickname=usuario[\"nickname\"]))"
   ]
  },
  {
   "cell_type": "code",
   "execution_count": 18,
   "metadata": {},
   "outputs": [
    {
     "name": "stdout",
     "output_type": "stream",
     "text": [
      "2019-12-08 19:20:50,677 INFO sqlalchemy.engine.base.Engine BEGIN (implicit)\n",
      "2019-12-08 19:20:50,680 INFO sqlalchemy.engine.base.Engine INSERT INTO users (name, fullname, nickname) VALUES (?, ?, ?)\n",
      "2019-12-08 19:20:50,682 INFO sqlalchemy.engine.base.Engine ('leticia', 'Maria Leticia Vega Quiroz', 'lety')\n",
      "2019-12-08 19:20:50,684 INFO sqlalchemy.engine.base.Engine INSERT INTO users (name, fullname, nickname) VALUES (?, ?, ?)\n",
      "2019-12-08 19:20:50,688 INFO sqlalchemy.engine.base.Engine ('francisco', 'Francisco Cadena Cruz', 'paco')\n",
      "2019-12-08 19:20:50,690 INFO sqlalchemy.engine.base.Engine INSERT INTO users (name, fullname, nickname) VALUES (?, ?, ?)\n",
      "2019-12-08 19:20:50,691 INFO sqlalchemy.engine.base.Engine ('alberto', 'Alberto Cadena Vega', 'bebe')\n",
      "2019-12-08 19:20:50,693 INFO sqlalchemy.engine.base.Engine COMMIT\n"
     ]
    }
   ],
   "source": [
    "ses1.commit()"
   ]
  },
  {
   "cell_type": "code",
   "execution_count": 19,
   "metadata": {},
   "outputs": [],
   "source": [
    "class Event(Base):\n",
    "    __tablename__ = \"events\"\n",
    "    \n",
    "    id = Column(Integer, primary_key=True)\n",
    "    user = Column(Integer, ForeignKey('users.id'))\n",
    "    date = Column(String)\n",
    "    event = Column(String)\n",
    "    \n",
    "    def __repr__(self):\n",
    "        return f\"<Event(date='{self.date}', event='{self.event}')>\""
   ]
  },
  {
   "cell_type": "code",
   "execution_count": 20,
   "metadata": {},
   "outputs": [
    {
     "name": "stdout",
     "output_type": "stream",
     "text": [
      "2019-12-08 19:22:13,664 INFO sqlalchemy.engine.base.Engine PRAGMA main.table_info(\"users\")\n",
      "2019-12-08 19:22:13,668 INFO sqlalchemy.engine.base.Engine ()\n",
      "2019-12-08 19:22:13,675 INFO sqlalchemy.engine.base.Engine PRAGMA main.table_info(\"events\")\n",
      "2019-12-08 19:22:13,677 INFO sqlalchemy.engine.base.Engine ()\n",
      "2019-12-08 19:22:13,679 INFO sqlalchemy.engine.base.Engine PRAGMA temp.table_info(\"events\")\n",
      "2019-12-08 19:22:13,680 INFO sqlalchemy.engine.base.Engine ()\n",
      "2019-12-08 19:22:13,700 INFO sqlalchemy.engine.base.Engine \n",
      "CREATE TABLE events (\n",
      "\tid INTEGER NOT NULL, \n",
      "\tuser INTEGER, \n",
      "\tdate VARCHAR, \n",
      "\tevent VARCHAR, \n",
      "\tPRIMARY KEY (id), \n",
      "\tFOREIGN KEY(user) REFERENCES users (id)\n",
      ")\n",
      "\n",
      "\n",
      "2019-12-08 19:22:13,704 INFO sqlalchemy.engine.base.Engine ()\n",
      "2019-12-08 19:22:13,713 INFO sqlalchemy.engine.base.Engine COMMIT\n"
     ]
    }
   ],
   "source": [
    "Base.metadata.create_all(engine)"
   ]
  },
  {
   "cell_type": "code",
   "execution_count": 21,
   "metadata": {},
   "outputs": [],
   "source": [
    "def logger(sesion, nom_usuario, evento):\n",
    "    from datetime import datetime\n",
    "    datos = sesion.query(User).filter_by(name=nom_usuario).all()\n",
    "    if len(datos) == 1:\n",
    "        evento1 = Event(user=datos[0].id, date=datetime.now().strftime(\"%y/%m/%d %H:%M\"), event=evento)\n",
    "        sesion.add(evento1)\n",
    "        sesion.commit()\n",
    "    else:\n",
    "        print(\"El usuario no pertenece al sistema.\")"
   ]
  },
  {
   "cell_type": "code",
   "execution_count": 22,
   "metadata": {},
   "outputs": [
    {
     "name": "stdout",
     "output_type": "stream",
     "text": [
      "2019-12-08 19:22:18,963 INFO sqlalchemy.engine.base.Engine BEGIN (implicit)\n",
      "2019-12-08 19:22:18,967 INFO sqlalchemy.engine.base.Engine SELECT users.id AS users_id, users.name AS users_name, users.fullname AS users_fullname, users.nickname AS users_nickname \n",
      "FROM users \n",
      "WHERE users.name = ?\n",
      "2019-12-08 19:22:18,969 INFO sqlalchemy.engine.base.Engine ('roberto',)\n",
      "2019-12-08 19:22:18,978 INFO sqlalchemy.engine.base.Engine INSERT INTO events (user, date, event) VALUES (?, ?, ?)\n",
      "2019-12-08 19:22:18,982 INFO sqlalchemy.engine.base.Engine (1, '19/12/08 19:22', 'desayuno')\n",
      "2019-12-08 19:22:18,989 INFO sqlalchemy.engine.base.Engine COMMIT\n"
     ]
    }
   ],
   "source": [
    "logger(ses1, \"roberto\", \"desayuno\")"
   ]
  },
  {
   "cell_type": "code",
   "execution_count": 23,
   "metadata": {},
   "outputs": [
    {
     "name": "stdout",
     "output_type": "stream",
     "text": [
      "2019-12-08 19:22:19,814 INFO sqlalchemy.engine.base.Engine BEGIN (implicit)\n",
      "2019-12-08 19:22:19,817 INFO sqlalchemy.engine.base.Engine SELECT users.id AS users_id, users.name AS users_name, users.fullname AS users_fullname, users.nickname AS users_nickname \n",
      "FROM users \n",
      "WHERE users.name = ?\n",
      "2019-12-08 19:22:19,819 INFO sqlalchemy.engine.base.Engine ('francisco',)\n",
      "2019-12-08 19:22:19,822 INFO sqlalchemy.engine.base.Engine INSERT INTO events (user, date, event) VALUES (?, ?, ?)\n",
      "2019-12-08 19:22:19,824 INFO sqlalchemy.engine.base.Engine (3, '19/12/08 19:22', 'Salida a YMCA')\n",
      "2019-12-08 19:22:19,827 INFO sqlalchemy.engine.base.Engine COMMIT\n"
     ]
    }
   ],
   "source": [
    "logger(ses1, \"francisco\", \"Salida a YMCA\")"
   ]
  },
  {
   "cell_type": "code",
   "execution_count": 24,
   "metadata": {},
   "outputs": [],
   "source": [
    "def tabla_eventos(sesion):\n",
    "    for evento in sesion.query(Event).order_by(Event.date)[-5:]:\n",
    "        print(evento)"
   ]
  },
  {
   "cell_type": "code",
   "execution_count": 25,
   "metadata": {},
   "outputs": [
    {
     "name": "stdout",
     "output_type": "stream",
     "text": [
      "2019-12-08 19:22:29,987 INFO sqlalchemy.engine.base.Engine BEGIN (implicit)\n",
      "2019-12-08 19:22:29,990 INFO sqlalchemy.engine.base.Engine SELECT events.id AS events_id, events.user AS events_user, events.date AS events_date, events.event AS events_event \n",
      "FROM events ORDER BY events.date\n",
      "2019-12-08 19:22:29,992 INFO sqlalchemy.engine.base.Engine ()\n",
      "<Event(date='19/12/08 19:22', event='desayuno')>\n",
      "<Event(date='19/12/08 19:22', event='Salida a YMCA')>\n"
     ]
    }
   ],
   "source": [
    "tabla_eventos(ses1)"
   ]
  },
  {
   "cell_type": "code",
   "execution_count": 26,
   "metadata": {},
   "outputs": [
    {
     "name": "stdout",
     "output_type": "stream",
     "text": [
      "2019-12-08 19:22:31,299 INFO sqlalchemy.engine.base.Engine SELECT events.id AS events_id, events.user AS events_user, events.date AS events_date, events.event AS events_event \n",
      "FROM events ORDER BY events.date\n",
      "2019-12-08 19:22:31,301 INFO sqlalchemy.engine.base.Engine ()\n"
     ]
    },
    {
     "ename": "MultipleResultsFound",
     "evalue": "Multiple rows were found for one()",
     "output_type": "error",
     "traceback": [
      "\u001b[0;31m---------------------------------------------------------------------------\u001b[0m",
      "\u001b[0;31mMultipleResultsFound\u001b[0m                      Traceback (most recent call last)",
      "\u001b[0;32m/usr/local/Caskroom/miniconda/base/lib/python3.7/site-packages/sqlalchemy/orm/query.py\u001b[0m in \u001b[0;36mone\u001b[0;34m(self)\u001b[0m\n\u001b[1;32m   3324\u001b[0m         \u001b[0;32mtry\u001b[0m\u001b[0;34m:\u001b[0m\u001b[0;34m\u001b[0m\u001b[0;34m\u001b[0m\u001b[0m\n\u001b[0;32m-> 3325\u001b[0;31m             \u001b[0mret\u001b[0m \u001b[0;34m=\u001b[0m \u001b[0mself\u001b[0m\u001b[0;34m.\u001b[0m\u001b[0mone_or_none\u001b[0m\u001b[0;34m(\u001b[0m\u001b[0;34m)\u001b[0m\u001b[0;34m\u001b[0m\u001b[0;34m\u001b[0m\u001b[0m\n\u001b[0m\u001b[1;32m   3326\u001b[0m         \u001b[0;32mexcept\u001b[0m \u001b[0morm_exc\u001b[0m\u001b[0;34m.\u001b[0m\u001b[0mMultipleResultsFound\u001b[0m\u001b[0;34m:\u001b[0m\u001b[0;34m\u001b[0m\u001b[0;34m\u001b[0m\u001b[0m\n",
      "\u001b[0;32m/usr/local/Caskroom/miniconda/base/lib/python3.7/site-packages/sqlalchemy/orm/query.py\u001b[0m in \u001b[0;36mone_or_none\u001b[0;34m(self)\u001b[0m\n\u001b[1;32m   3302\u001b[0m             raise orm_exc.MultipleResultsFound(\n\u001b[0;32m-> 3303\u001b[0;31m                 \u001b[0;34m\"Multiple rows were found for one_or_none()\"\u001b[0m\u001b[0;34m\u001b[0m\u001b[0;34m\u001b[0m\u001b[0m\n\u001b[0m\u001b[1;32m   3304\u001b[0m             )\n",
      "\u001b[0;31mMultipleResultsFound\u001b[0m: Multiple rows were found for one_or_none()",
      "\nDuring handling of the above exception, another exception occurred:\n",
      "\u001b[0;31mMultipleResultsFound\u001b[0m                      Traceback (most recent call last)",
      "\u001b[0;32m<ipython-input-26-651e498cb5a6>\u001b[0m in \u001b[0;36m<module>\u001b[0;34m\u001b[0m\n\u001b[0;32m----> 1\u001b[0;31m \u001b[0mses1\u001b[0m\u001b[0;34m.\u001b[0m\u001b[0mquery\u001b[0m\u001b[0;34m(\u001b[0m\u001b[0mEvent\u001b[0m\u001b[0;34m)\u001b[0m\u001b[0;34m.\u001b[0m\u001b[0morder_by\u001b[0m\u001b[0;34m(\u001b[0m\u001b[0mEvent\u001b[0m\u001b[0;34m.\u001b[0m\u001b[0mdate\u001b[0m\u001b[0;34m)\u001b[0m\u001b[0;34m.\u001b[0m\u001b[0mscalar\u001b[0m\u001b[0;34m(\u001b[0m\u001b[0;34m)\u001b[0m\u001b[0;34m\u001b[0m\u001b[0;34m\u001b[0m\u001b[0m\n\u001b[0m",
      "\u001b[0;32m/usr/local/Caskroom/miniconda/base/lib/python3.7/site-packages/sqlalchemy/orm/query.py\u001b[0m in \u001b[0;36mscalar\u001b[0;34m(self)\u001b[0m\n\u001b[1;32m   3353\u001b[0m         \"\"\"\n\u001b[1;32m   3354\u001b[0m         \u001b[0;32mtry\u001b[0m\u001b[0;34m:\u001b[0m\u001b[0;34m\u001b[0m\u001b[0;34m\u001b[0m\u001b[0m\n\u001b[0;32m-> 3355\u001b[0;31m             \u001b[0mret\u001b[0m \u001b[0;34m=\u001b[0m \u001b[0mself\u001b[0m\u001b[0;34m.\u001b[0m\u001b[0mone\u001b[0m\u001b[0;34m(\u001b[0m\u001b[0;34m)\u001b[0m\u001b[0;34m\u001b[0m\u001b[0;34m\u001b[0m\u001b[0m\n\u001b[0m\u001b[1;32m   3356\u001b[0m             \u001b[0;32mif\u001b[0m \u001b[0;32mnot\u001b[0m \u001b[0misinstance\u001b[0m\u001b[0;34m(\u001b[0m\u001b[0mret\u001b[0m\u001b[0;34m,\u001b[0m \u001b[0mtuple\u001b[0m\u001b[0;34m)\u001b[0m\u001b[0;34m:\u001b[0m\u001b[0;34m\u001b[0m\u001b[0;34m\u001b[0m\u001b[0m\n\u001b[1;32m   3357\u001b[0m                 \u001b[0;32mreturn\u001b[0m \u001b[0mret\u001b[0m\u001b[0;34m\u001b[0m\u001b[0;34m\u001b[0m\u001b[0m\n",
      "\u001b[0;32m/usr/local/Caskroom/miniconda/base/lib/python3.7/site-packages/sqlalchemy/orm/query.py\u001b[0m in \u001b[0;36mone\u001b[0;34m(self)\u001b[0m\n\u001b[1;32m   3326\u001b[0m         \u001b[0;32mexcept\u001b[0m \u001b[0morm_exc\u001b[0m\u001b[0;34m.\u001b[0m\u001b[0mMultipleResultsFound\u001b[0m\u001b[0;34m:\u001b[0m\u001b[0;34m\u001b[0m\u001b[0;34m\u001b[0m\u001b[0m\n\u001b[1;32m   3327\u001b[0m             raise orm_exc.MultipleResultsFound(\n\u001b[0;32m-> 3328\u001b[0;31m                 \u001b[0;34m\"Multiple rows were found for one()\"\u001b[0m\u001b[0;34m\u001b[0m\u001b[0;34m\u001b[0m\u001b[0m\n\u001b[0m\u001b[1;32m   3329\u001b[0m             )\n\u001b[1;32m   3330\u001b[0m         \u001b[0;32melse\u001b[0m\u001b[0;34m:\u001b[0m\u001b[0;34m\u001b[0m\u001b[0;34m\u001b[0m\u001b[0m\n",
      "\u001b[0;31mMultipleResultsFound\u001b[0m: Multiple rows were found for one()"
     ]
    }
   ],
   "source": [
    "ses1.query(Event).order_by(Event.date).scalar()"
   ]
  },
  {
   "cell_type": "code",
   "execution_count": 27,
   "metadata": {},
   "outputs": [
    {
     "name": "stdout",
     "output_type": "stream",
     "text": [
      "2019-12-08 19:22:34,620 INFO sqlalchemy.engine.base.Engine SELECT users.id AS users_id, users.name AS users_name, users.fullname AS users_fullname, users.nickname AS users_nickname \n",
      "FROM users \n",
      "WHERE users.name = ?\n",
      "2019-12-08 19:22:34,623 INFO sqlalchemy.engine.base.Engine ('francisco',)\n",
      "2019-12-08 19:22:34,626 INFO sqlalchemy.engine.base.Engine INSERT INTO events (user, date, event) VALUES (?, ?, ?)\n",
      "2019-12-08 19:22:34,627 INFO sqlalchemy.engine.base.Engine (3, '19/12/08 19:22', 'partido del america')\n",
      "2019-12-08 19:22:34,631 INFO sqlalchemy.engine.base.Engine COMMIT\n"
     ]
    }
   ],
   "source": [
    "logger(ses1, \"francisco\", \"partido del america\")"
   ]
  },
  {
   "cell_type": "code",
   "execution_count": 28,
   "metadata": {},
   "outputs": [
    {
     "name": "stdout",
     "output_type": "stream",
     "text": [
      "2019-12-08 19:22:35,452 INFO sqlalchemy.engine.base.Engine BEGIN (implicit)\n",
      "2019-12-08 19:22:35,456 INFO sqlalchemy.engine.base.Engine SELECT users.id AS users_id, users.name AS users_name, users.fullname AS users_fullname, users.nickname AS users_nickname \n",
      "FROM users \n",
      "WHERE users.name = ?\n",
      "2019-12-08 19:22:35,458 INFO sqlalchemy.engine.base.Engine ('roberto',)\n",
      "2019-12-08 19:22:35,463 INFO sqlalchemy.engine.base.Engine INSERT INTO events (user, date, event) VALUES (?, ?, ?)\n",
      "2019-12-08 19:22:35,465 INFO sqlalchemy.engine.base.Engine (1, '19/12/08 19:22', 'snacks')\n",
      "2019-12-08 19:22:35,468 INFO sqlalchemy.engine.base.Engine COMMIT\n"
     ]
    }
   ],
   "source": [
    "logger(ses1, \"roberto\", \"snacks\")"
   ]
  },
  {
   "cell_type": "code",
   "execution_count": 29,
   "metadata": {},
   "outputs": [
    {
     "name": "stdout",
     "output_type": "stream",
     "text": [
      "2019-12-08 19:22:36,105 INFO sqlalchemy.engine.base.Engine BEGIN (implicit)\n",
      "2019-12-08 19:22:36,108 INFO sqlalchemy.engine.base.Engine SELECT users.id AS users_id, users.name AS users_name, users.fullname AS users_fullname, users.nickname AS users_nickname \n",
      "FROM users \n",
      "WHERE users.name = ?\n",
      "2019-12-08 19:22:36,110 INFO sqlalchemy.engine.base.Engine ('leticia',)\n",
      "2019-12-08 19:22:36,113 INFO sqlalchemy.engine.base.Engine INSERT INTO events (user, date, event) VALUES (?, ?, ?)\n",
      "2019-12-08 19:22:36,115 INFO sqlalchemy.engine.base.Engine (2, '19/12/08 19:22', 'partido del monarcas')\n",
      "2019-12-08 19:22:36,118 INFO sqlalchemy.engine.base.Engine COMMIT\n"
     ]
    }
   ],
   "source": [
    "logger(ses1, \"leticia\", \"partido del monarcas\")"
   ]
  },
  {
   "cell_type": "code",
   "execution_count": null,
   "metadata": {},
   "outputs": [],
   "source": []
  }
 ],
 "metadata": {
  "kernelspec": {
   "display_name": "Python 3",
   "language": "python",
   "name": "python3"
  },
  "language_info": {
   "codemirror_mode": {
    "name": "ipython",
    "version": 3
   },
   "file_extension": ".py",
   "mimetype": "text/x-python",
   "name": "python",
   "nbconvert_exporter": "python",
   "pygments_lexer": "ipython3",
   "version": "3.7.5"
  }
 },
 "nbformat": 4,
 "nbformat_minor": 4
}
