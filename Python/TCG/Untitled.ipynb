{
 "cells": [
  {
   "cell_type": "code",
   "execution_count": 28,
   "metadata": {},
   "outputs": [
    {
     "name": "stdout",
     "output_type": "stream",
     "text": [
      "[19, 19, 18, 19, 20, 18, 19]\n"
     ]
    }
   ],
   "source": [
    "from Crypto.Hash import SHA\n",
    "from requests import Session\n",
    "from bs4 import BeautifulSoup as bs\n",
    "from re import findall\n",
    "\n",
    "user=\"mexsat\"\n",
    "pswd=\"mexsat\"\n",
    "\n",
    "h=SHA.new()\n",
    "h.update(pswd.encode())\n",
    "\n",
    "pswd_sha=h.hexdigest()\n",
    "\n",
    "base_url=\"http://192.168.169.3:81/\"\n",
    "login_data = {\"uid_in\":\"mexsat\",\"pid_in\":\"\", \"hex_in\":pswd_sha}\n",
    "\n",
    "with Session() as s:\n",
    "    \n",
    "    response_header=login_data\n",
    "    \n",
    "    \n",
    "    response=s.post(base_url + \".html?get=${|mexsat|}\", login_data)\n",
    "    doc=bs(response.text, 'html.parser')\n",
    "    script=doc.find_all(\"script\")[0].text\n",
    "    pag, user, sessionID = findall(\".*\\$(\\w*)\\|(\\w*)\\|(\\w*)';\", script)[0]\n",
    "    response_header = f\".html?get=${pag}|{user}|{sessionID}\"\n",
    "    response=s.get(base_url + response_header)\n",
    "    doc=bs(response.text, 'html.parser')\n",
    "    script=doc.find_all(\"script\")[0].text\n",
    "    sessionID=findall('.*var sessionID = \"([^\\n\\r]*)\";', script)[0]\n",
    "    \n",
    "    param=[[f\".html?get=$AHU01\",\"0\"],\n",
    "           [f\".html?get=$AHU02\",\"0\"],\n",
    "           [f\".html?get=$AHU03\",\"0\"],\n",
    "           [f\".html?get=$AHU04\",\"0\"],\n",
    "           [f\".html?get=$AHU05\",\"0\"],\n",
    "           [f\".html?get=$AHU10\",\"2\"],\n",
    "           [f\".html?get=$AHU11\",\"37\"],]\n",
    "    \n",
    "    \n",
    "    Temp=[]\n",
    "    \n",
    "    for i in param:    \n",
    "        response_header = i[0]+f\"|{user}|{sessionID}\"\n",
    "        \n",
    "        response=s.get(base_url + response_header)\n",
    "        doc=bs(response.text, 'html.parser')\n",
    "        script=doc.find_all(\"script\")[0].text\n",
    "        sessionID=findall('.*var sessionID = \"([^\\n\\r]*)\";', script)[0]\n",
    "        \n",
    "        cont=doc.find_all(\"body\")[0]\n",
    "        t=findall(\"id=\\\"tag\"+i[1]+\"\\\" nowrap=\\\"\\\" style=\\\"color: #0040e0\\\" width=\\\"100%\\\">[\\n\\r]\\s*(\\d{2})\",cont.prettify())[0]\n",
    "        ''.join(t)\n",
    "        Temp.append(int(t))\n",
    "    \n",
    "    print(Temp)\n",
    "       \n",
    "    \n",
    "    "
   ]
  },
  {
   "cell_type": "code",
   "execution_count": null,
   "metadata": {},
   "outputs": [],
   "source": []
  }
 ],
 "metadata": {
  "kernelspec": {
   "display_name": "Python 3",
   "language": "python",
   "name": "python3"
  },
  "language_info": {
   "codemirror_mode": {
    "name": "ipython",
    "version": 3
   },
   "file_extension": ".py",
   "mimetype": "text/x-python",
   "name": "python",
   "nbconvert_exporter": "python",
   "pygments_lexer": "ipython3",
   "version": "3.7.6"
  }
 },
 "nbformat": 4,
 "nbformat_minor": 4
}
