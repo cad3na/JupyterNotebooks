{
 "metadata": {
  "name": ""
 },
 "nbformat": 3,
 "nbformat_minor": 0,
 "worksheets": [
  {
   "cells": [
    {
     "cell_type": "heading",
     "level": 1,
     "metadata": {},
     "source": [
      "Problem 2"
     ]
    },
    {
     "cell_type": "markdown",
     "metadata": {},
     "source": [
      "Please find and plot the 6th roots of unity.\n",
      "\n",
      "What we have to find is denoted by $(1)^{\\frac{1}{6}}$ or by putting in it's complex part $(1 e^{i 0})^{\\frac{1}{6}}$. So we know that they'll be all of modulus $1$, because $\\sqrt[6]{1} = 1$. What we have to do now, is to find the angle.\n",
      "\n",
      "The general formula states:\n",
      "\n",
      "$\\large{w^{\\frac{1}{n}} = \\sqrt[n]{\\rho} e^{i(\\frac{\\varphi}{n} + \\frac{2 k \\pi}{n})}}$, $\\large{k = 0, 1, 2, ... , n-1}$\n",
      "\n",
      "Where:\n",
      "\n",
      "$w = 1$, $n = 6$, $rho = 1$, $\\varphi = 0$ and $k$ from $0$ to $5$ will give us each of the roots.\n",
      "\n",
      "So we get:\n",
      "\n",
      "$\\large{1^{\\frac{1}{n}} = \\left\\{ \n",
      "  \\begin{array}{l l}\n",
      "    1 e^{i 0} = 1 + 0 i                                                       & \\quad \\text{if $k$ is $0$}\\\\\n",
      "    1 e^{i \\frac{\\pi}{3}} = \\cos(\\frac{\\pi}{3}) + i \\sin(\\frac{\\pi}{3})       & \\quad \\text{if $k$ is $1$}\\\\\n",
      "    1 e^{i \\frac{2 \\pi}{3}} = \\cos(\\frac{2 \\pi}{3}) + i \\sin(\\frac{2 \\pi}{3}) & \\quad \\text{if $k$ is $2$}\\\\\n",
      "    1 e^{i \\pi} = -1 + 0 i                                                    & \\quad \\text{if $k$ is $3$}\\\\\n",
      "    1 e^{i \\frac{4 \\pi}{3}} = \\cos(\\frac{4 \\pi}{3}) + i \\sin(\\frac{4 \\pi}{3}) & \\quad \\text{if $k$ is $4$}\\\\\n",
      "    1 e^{i \\frac{5 \\pi}{3}} = \\cos(\\frac{5 \\pi}{3}) + i \\sin(\\frac{5 \\pi}{3}) & \\quad \\text{if $k$ is $5$}\n",
      "  \\end{array} \\right.}$\n",
      "  \n",
      "Where we can see the angles at which the number will be clearly."
     ]
    },
    {
     "cell_type": "code",
     "collapsed": false,
     "input": [
      "phi = arange(0, 2*pi, pi/3)\n",
      "x = cos(phi)\n",
      "y = sin(phi)\n",
      "plot(x,y, \"ro\")\n",
      "plot((0,0),(-2,2))\n",
      "plot((-3,3),(0,0))\n",
      "ax = gca()\n",
      "ax.annotate(r\"$e^{i 0}$\", (x[0],y[0]),(x[0]+0.5,y[0]+0.5), arrowprops=dict(arrowstyle=\"fancy\", connectionstyle=\"arc3\", fc=\"cyan\", ec=\"cyan\"))\n",
      "ax.annotate(r\"$e^{i \\frac{\\pi}{3}}$\", (x[1],y[1]),(x[1]+0.5,y[1]+0.5), arrowprops=dict(arrowstyle=\"fancy\", connectionstyle=\"arc3\", fc=\"cyan\", ec=\"cyan\"))\n",
      "ax.annotate(r\"$e^{i \\frac{2 \\pi}{3}}$\", (x[2],y[2]),(x[2]+0.5,y[2]+0.5), arrowprops=dict(arrowstyle=\"fancy\", connectionstyle=\"arc3\", fc=\"cyan\", ec=\"cyan\"))\n",
      "ax.annotate(r\"$e^{i \\pi}$\", (x[3],y[3]),(x[3]+0.5,y[3]+0.5), arrowprops=dict(arrowstyle=\"fancy\", connectionstyle=\"arc3\", fc=\"cyan\", ec=\"cyan\"))\n",
      "ax.annotate(r\"$e^{i \\frac{4 \\pi}{3}}$\", (x[4],y[4]),(x[4]+0.5,y[4]+0.5), arrowprops=dict(arrowstyle=\"fancy\", connectionstyle=\"arc3\", fc=\"cyan\", ec=\"cyan\"))\n",
      "ax.annotate(r\"$e^{i \\frac{5 \\pi}{3}}$\", (x[5],y[5]),(x[5]+0.5,y[5]+0.5), arrowprops=dict(arrowstyle=\"fancy\", connectionstyle=\"arc3\", fc=\"cyan\", ec=\"cyan\"))\n",
      "xlim([-3, 3])\n",
      "ylim([-2,2])"
     ],
     "language": "python",
     "metadata": {},
     "outputs": [
      {
       "metadata": {},
       "output_type": "pyout",
       "prompt_number": 23,
       "text": [
        "(-2, 2)"
       ]
      },
      {
       "metadata": {},
       "output_type": "display_data",
       "png": "[encoded data removed]",
       "text": [
        "<matplotlib.figure.Figure at 0x10f336a10>"
       ]
      }
     ],
     "prompt_number": 23
    },
    {
     "cell_type": "markdown",
     "metadata": {},
     "source": [
      "Cadena Vega Roberto"
     ]
    }
   ],
   "metadata": {}
  }
 ]
}