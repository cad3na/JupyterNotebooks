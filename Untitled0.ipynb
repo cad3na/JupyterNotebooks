{
 "metadata": {
  "name": ""
 },
 "nbformat": 3,
 "nbformat_minor": 0,
 "worksheets": [
  {
   "cells": [
    {
     "cell_type": "code",
     "collapsed": false,
     "input": [
      "from IPython.display import display\n",
      "\n",
      "from sympy.interactive import printing\n",
      "printing.init_printing()\n",
      "\n",
      "from sympy import var, latex, simplify, collect, expand, solve, sin, cos, Matrix\n",
      "var(\"c_theta, c_alpha, s_theta, s_alpha, a, d\")"
     ],
     "language": "python",
     "metadata": {},
     "outputs": [
      {
       "latex": [
        "$$\\begin{pmatrix}c_{\\theta}, & c_{\\alpha}, & s_{\\theta}, & s_{\\alpha}, & a, & d\\end{pmatrix}$$"
       ],
       "metadata": {},
       "output_type": "pyout",
       "png": "[encoded data removed]",
       "prompt_number": 1,
       "text": [
        "(c_\u03b8, c_\u03b1, s_\u03b8, s_\u03b1, a, d)"
       ]
      }
     ],
     "prompt_number": 1
    },
    {
     "cell_type": "code",
     "collapsed": false,
     "input": [
      "Rz = Matrix([[c_theta, -s_theta, 0, 0],\n",
      "             [s_theta, c_theta, 0, 0],\n",
      "             [0, 0, 1, 0],\n",
      "             [0, 0, 0, 1]])\n",
      "Rz"
     ],
     "language": "python",
     "metadata": {},
     "outputs": [
      {
       "latex": [
        "$$\\left[\\begin{matrix}c_{\\theta} & - s_{\\theta} & 0 & 0\\\\s_{\\theta} & c_{\\theta} & 0 & 0\\\\0 & 0 & 1 & 0\\\\0 & 0 & 0 & 1\\end{matrix}\\right]$$"
       ],
       "metadata": {},
       "output_type": "pyout",
       "png": "[encoded data removed]",
       "prompt_number": 8,
       "text": [
        "\u23a1c_\u03b8  -s_\u03b8  0  0\u23a4\n",
        "\u23a2               \u23a5\n",
        "\u23a2s_\u03b8  c_\u03b8   0  0\u23a5\n",
        "\u23a2               \u23a5\n",
        "\u23a2 0    0    1  0\u23a5\n",
        "\u23a2               \u23a5\n",
        "\u23a3 0    0    0  1\u23a6"
       ]
      }
     ],
     "prompt_number": 8
    },
    {
     "cell_type": "code",
     "collapsed": false,
     "input": [
      "Tz = Matrix([[1, 0, 0, a],\n",
      "             [0, 1, 0, 0],\n",
      "             [0, 0, 1, 0],\n",
      "             [0, 0, 0, 1]])\n",
      "Tz"
     ],
     "language": "python",
     "metadata": {},
     "outputs": [
      {
       "latex": [
        "$$\\left[\\begin{matrix}1 & 0 & 0 & a\\\\0 & 1 & 0 & 0\\\\0 & 0 & 1 & 0\\\\0 & 0 & 0 & 1\\end{matrix}\\right]$$"
       ],
       "metadata": {},
       "output_type": "pyout",
       "png": "[encoded data removed]",
       "prompt_number": 9,
       "text": [
        "\u23a11  0  0  a\u23a4\n",
        "\u23a2          \u23a5\n",
        "\u23a20  1  0  0\u23a5\n",
        "\u23a2          \u23a5\n",
        "\u23a20  0  1  0\u23a5\n",
        "\u23a2          \u23a5\n",
        "\u23a30  0  0  1\u23a6"
       ]
      }
     ],
     "prompt_number": 9
    },
    {
     "cell_type": "code",
     "collapsed": false,
     "input": [
      "Rx = Matrix([[1, 0, 0, 0],\n",
      "             [0, c_alpha, -s_alpha, 0],\n",
      "             [0, s_alpha, c_alpha, 0],\n",
      "             [0, 0, 0, 1]])\n",
      "Rx"
     ],
     "language": "python",
     "metadata": {},
     "outputs": [
      {
       "latex": [
        "$$\\left[\\begin{matrix}1 & 0 & 0 & 0\\\\0 & c_{\\alpha} & - s_{\\alpha} & 0\\\\0 & s_{\\alpha} & c_{\\alpha} & 0\\\\0 & 0 & 0 & 1\\end{matrix}\\right]$$"
       ],
       "metadata": {},
       "output_type": "pyout",
       "png": "[encoded data removed]",
       "prompt_number": 15,
       "text": [
        "\u23a11   0    0    0\u23a4\n",
        "\u23a2               \u23a5\n",
        "\u23a20  c_\u03b1  -s_\u03b1  0\u23a5\n",
        "\u23a2               \u23a5\n",
        "\u23a20  s_\u03b1  c_\u03b1   0\u23a5\n",
        "\u23a2               \u23a5\n",
        "\u23a30   0    0    1\u23a6"
       ]
      }
     ],
     "prompt_number": 15
    },
    {
     "cell_type": "code",
     "collapsed": false,
     "input": [
      "Tx = Matrix([[1, 0, 0, 0],\n",
      "             [0, 1, 0, 0],\n",
      "             [0, 0, 1, d],\n",
      "             [0, 0, 0, 1]])\n",
      "Tx"
     ],
     "language": "python",
     "metadata": {},
     "outputs": [
      {
       "latex": [
        "$$\\left[\\begin{matrix}1 & 0 & 0 & 0\\\\0 & 1 & 0 & 0\\\\0 & 0 & 1 & d\\\\0 & 0 & 0 & 1\\end{matrix}\\right]$$"
       ],
       "metadata": {},
       "output_type": "pyout",
       "png": "[encoded data removed]",
       "prompt_number": 16,
       "text": [
        "\u23a11  0  0  0\u23a4\n",
        "\u23a2          \u23a5\n",
        "\u23a20  1  0  0\u23a5\n",
        "\u23a2          \u23a5\n",
        "\u23a20  0  1  d\u23a5\n",
        "\u23a2          \u23a5\n",
        "\u23a30  0  0  1\u23a6"
       ]
      }
     ],
     "prompt_number": 16
    },
    {
     "cell_type": "code",
     "collapsed": false,
     "input": [
      "Tx*Rx*Tz*Rz"
     ],
     "language": "python",
     "metadata": {},
     "outputs": [
      {
       "latex": [
        "$$\\left[\\begin{matrix}c_{\\theta} & - s_{\\theta} & 0 & a\\\\c_{\\alpha} s_{\\theta} & c_{\\alpha} c_{\\theta} & - s_{\\alpha} & 0\\\\s_{\\alpha} s_{\\theta} & c_{\\theta} s_{\\alpha} & c_{\\alpha} & d\\\\0 & 0 & 0 & 1\\end{matrix}\\right]$$"
       ],
       "metadata": {},
       "output_type": "pyout",
       "png": "[encoded data removed]",
       "prompt_number": 17,
       "text": [
        "\u23a1  c_\u03b8     -s_\u03b8     0    a\u23a4\n",
        "\u23a2                         \u23a5\n",
        "\u23a2c_\u03b1\u22c5s_\u03b8  c_\u03b1\u22c5c_\u03b8  -s_\u03b1  0\u23a5\n",
        "\u23a2                         \u23a5\n",
        "\u23a2s_\u03b1\u22c5s_\u03b8  c_\u03b8\u22c5s_\u03b1  c_\u03b1   d\u23a5\n",
        "\u23a2                         \u23a5\n",
        "\u23a3   0        0      0    1\u23a6"
       ]
      }
     ],
     "prompt_number": 17
    },
    {
     "cell_type": "code",
     "collapsed": false,
     "input": [],
     "language": "python",
     "metadata": {},
     "outputs": []
    }
   ],
   "metadata": {}
  }
 ]
}