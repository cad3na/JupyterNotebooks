{
 "metadata": {
  "name": ""
 },
 "nbformat": 3,
 "nbformat_minor": 0,
 "worksheets": [
  {
   "cells": [
    {
     "cell_type": "markdown",
     "metadata": {},
     "source": [
      "Para la segunda semana de la clase de Analisis Complejo nos piden evaluar ciertas funciones con dominio complejo. Primero importamos el modulo de evaluacion simbolica y la herramienta para desplegar en $\\LaTeX$."
     ]
    },
    {
     "cell_type": "code",
     "collapsed": false,
     "input": [
      "from IPython.display import display\n",
      "\n",
      "from sympy.interactive import printing\n",
      "printing.init_printing()\n",
      "\n",
      "from sympy import var, I, expand, simplify, solve"
     ],
     "language": "python",
     "metadata": {},
     "outputs": [],
     "prompt_number": 52
    },
    {
     "cell_type": "code",
     "collapsed": false,
     "input": [
      "var(\"x,y,c\")"
     ],
     "language": "python",
     "metadata": {},
     "outputs": [
      {
       "latex": [
        "$$\\begin{pmatrix}x, & y, & c\\end{pmatrix}$$"
       ],
       "metadata": {},
       "output_type": "pyout",
       "png": "[encoded data removed]",
       "prompt_number": 28,
       "text": [
        "(x, y, c)"
       ]
      }
     ],
     "prompt_number": 28
    },
    {
     "cell_type": "code",
     "collapsed": false,
     "input": [
      "def f(z):\n",
      "    return z**2 + 1\n",
      "\n",
      "def g(z):\n",
      "    return z**3"
     ],
     "language": "python",
     "metadata": {},
     "outputs": [],
     "prompt_number": 4
    },
    {
     "cell_type": "code",
     "collapsed": false,
     "input": [
      "g(g(g(g(g(g(g(g(g(g(x))))))))))"
     ],
     "language": "python",
     "metadata": {},
     "outputs": [
      {
       "latex": [
        "$$x^{59049}$$"
       ],
       "metadata": {},
       "output_type": "pyout",
       "png": "[encoded data removed]",
       "prompt_number": 17,
       "text": [
        " 59049\n",
        "x     "
       ]
      }
     ],
     "prompt_number": 17
    },
    {
     "cell_type": "code",
     "collapsed": false,
     "input": [
      "g(g(g(I)))"
     ],
     "language": "python",
     "metadata": {},
     "outputs": [
      {
       "latex": [
        "$$- i$$"
       ],
       "metadata": {},
       "output_type": "pyout",
       "png": "[encoded data removed]",
       "prompt_number": 16,
       "text": [
        "-\u2148"
       ]
      }
     ],
     "prompt_number": 16
    },
    {
     "cell_type": "code",
     "collapsed": false,
     "input": [
      "f(f(f(f(0))))"
     ],
     "language": "python",
     "metadata": {},
     "outputs": [
      {
       "latex": [
        "$$26$$"
       ],
       "metadata": {},
       "output_type": "pyout",
       "png": "[encoded data removed]",
       "prompt_number": 19,
       "text": [
        "26"
       ]
      }
     ],
     "prompt_number": 19
    },
    {
     "cell_type": "markdown",
     "metadata": {},
     "source": [
      "La siguiente pregunta involucra la composici\u00f3n de funciones para hacer una transformaci\u00f3n lineal, en donde $p(z) = z^2+6z+1$ y $\\varphi(z) = z+3$. Entonces definimos a $f = \\varphi \\circ p \\circ \\varphi^{-1}$"
     ]
    },
    {
     "cell_type": "code",
     "collapsed": false,
     "input": [
      "def p(z):\n",
      "    return z**2 + 6*z + 1\n",
      "\n",
      "def phi(z):\n",
      "    return z + 3\n",
      "\n",
      "def phiinv(z):\n",
      "    return z - 3"
     ],
     "language": "python",
     "metadata": {},
     "outputs": [],
     "prompt_number": 20
    },
    {
     "cell_type": "markdown",
     "metadata": {},
     "source": [
      "As\u00ed pues, podemos obtener la funcion $f$ componiendo $\\varphi \\circ p \\circ \\varphi^{-1}$."
     ]
    },
    {
     "cell_type": "code",
     "collapsed": false,
     "input": [
      "simplify(expand(phi(p(phiinv(x)))))\n"
     ],
     "language": "python",
     "metadata": {},
     "outputs": [
      {
       "latex": [
        "$$x^{2} - 5$$"
       ],
       "metadata": {},
       "output_type": "pyout",
       "png": "[encoded data removed]",
       "prompt_number": 24,
       "text": [
        " 2    \n",
        "x  - 5"
       ]
      }
     ],
     "prompt_number": 24
    },
    {
     "cell_type": "markdown",
     "metadata": {},
     "source": [
      "De las misma manera, podemos obtener la funci\u00f3n $p$ a traves de la transformaci\u00f3n lineal inversa $p = \\varphi^{-1} \\circ f \\circ \\varphi$, y $p^2 = \\varphi^{-1} \\circ f^2 \\circ \\varphi = \\varphi^{-1} \\circ f \\circ f \\circ \\varphi$."
     ]
    },
    {
     "cell_type": "code",
     "collapsed": false,
     "input": [
      "def f(z):\n",
      "    return z**2 - 5\n",
      "\n",
      "simplify(expand(phiinv(f(f(phi(x))))))"
     ],
     "language": "python",
     "metadata": {},
     "outputs": [
      {
       "latex": [
        "$$x^{4} + 12 x^{3} + 44 x^{2} + 48 x + 8$$"
       ],
       "metadata": {},
       "output_type": "pyout",
       "png": "[encoded data removed]",
       "prompt_number": 26,
       "text": [
        " 4       3       2           \n",
        "x  + 12\u22c5x  + 44\u22c5x  + 48\u22c5x + 8"
       ]
      }
     ],
     "prompt_number": 26
    },
    {
     "cell_type": "markdown",
     "metadata": {},
     "source": [
      "Si evaluamos el numero $z_1 = -3 + 2 i$:"
     ]
    },
    {
     "cell_type": "code",
     "collapsed": false,
     "input": [
      "z1 = -3 + 2*I\n",
      "phiinv(f(f(phi(z1))))"
     ],
     "language": "python",
     "metadata": {},
     "outputs": [
      {
       "latex": [
        "$$73$$"
       ],
       "metadata": {},
       "output_type": "pyout",
       "png": "[encoded data removed]",
       "prompt_number": 27,
       "text": [
        "73"
       ]
      }
     ],
     "prompt_number": 27
    },
    {
     "cell_type": "markdown",
     "metadata": {},
     "source": [
      "Despues nos piden comprobar si ciertos puntos son puntos Misiurewicz, es decir que $c$ bajo la funci\u00f3n $f(z) = z^2 + c$, da un comportamiento para $z = 0$ pre-periodico."
     ]
    },
    {
     "cell_type": "code",
     "collapsed": false,
     "input": [
      "simplify(expand((c**4 + 2*c**3 + c**2 + c)**2 - c**2))"
     ],
     "language": "python",
     "metadata": {},
     "outputs": [
      {
       "latex": [
        "$$c^{3} \\left(c^{5} + 4 c^{4} + 6 c^{3} + 6 c^{2} + 5 c + 2\\right)$$"
       ],
       "metadata": {},
       "output_type": "pyout",
       "png": "[encoded data removed]",
       "prompt_number": 29,
       "text": [
        " 3 \u239b 5      4      3      2          \u239e\n",
        "c \u22c5\u239dc  + 4\u22c5c  + 6\u22c5c  + 6\u22c5c  + 5\u22c5c + 2\u23a0"
       ]
      }
     ],
     "prompt_number": 29
    },
    {
     "cell_type": "code",
     "collapsed": false,
     "input": [
      "solve((c**4 + 2*c**3 + c**2 + c)**2 - c**2, c)"
     ],
     "language": "python",
     "metadata": {},
     "outputs": [
      {
       "latex": [
        "$$\\begin{bmatrix}-2, & -1, & 0, & - i, & i\\end{bmatrix}$$"
       ],
       "metadata": {},
       "output_type": "pyout",
       "png": "[encoded data removed]",
       "prompt_number": 41,
       "text": [
        "[-2, -1, 0, -\u2148, \u2148]"
       ]
      }
     ],
     "prompt_number": 41
    },
    {
     "cell_type": "code",
     "collapsed": false,
     "input": [
      "def f(z):\n",
      "    return z**2 - 2\n",
      "\n",
      "print f(0), f(f(0)), f(f(f(0))), f(f(f(f(0)))), f(f(f(f(f(0)))))"
     ],
     "language": "python",
     "metadata": {},
     "outputs": [
      {
       "output_type": "stream",
       "stream": "stdout",
       "text": [
        "-2 2 2 2 2\n"
       ]
      }
     ],
     "prompt_number": 59
    },
    {
     "cell_type": "code",
     "collapsed": false,
     "input": [
      "def f(z):\n",
      "    return z**2 - 1\n",
      "\n",
      "print f(0), f(f(0)), f(f(f(0))), f(f(f(f(0)))), f(f(f(f(f(0)))))"
     ],
     "language": "python",
     "metadata": {},
     "outputs": [
      {
       "output_type": "stream",
       "stream": "stdout",
       "text": [
        "-1 0 -1 0 -1\n"
       ]
      }
     ],
     "prompt_number": 60
    },
    {
     "cell_type": "code",
     "collapsed": false,
     "input": [
      "def f(z):\n",
      "    return z**2 - 0\n",
      "\n",
      "print f(0), f(f(0)), f(f(f(0))), f(f(f(f(0)))), f(f(f(f(f(0)))))"
     ],
     "language": "python",
     "metadata": {},
     "outputs": [
      {
       "output_type": "stream",
       "stream": "stdout",
       "text": [
        "0 0 0 0 0\n"
       ]
      }
     ],
     "prompt_number": 61
    },
    {
     "cell_type": "code",
     "collapsed": false,
     "input": [
      "def f(z):\n",
      "    return z**2 - 1j\n",
      "\n",
      "print f(0), f(f(0)), f(f(f(0))), f(f(f(f(0)))), f(f(f(f(f(0)))))"
     ],
     "language": "python",
     "metadata": {},
     "outputs": [
      {
       "output_type": "stream",
       "stream": "stdout",
       "text": [
        "-1j (-1-1j) 1j (-1-1j) 1j\n"
       ]
      }
     ],
     "prompt_number": 63
    },
    {
     "cell_type": "code",
     "collapsed": false,
     "input": [
      "def f(z):\n",
      "    return z**2 + 1j\n",
      "\n",
      "print f(0), f(f(0)), f(f(f(0))), f(f(f(f(0)))), f(f(f(f(f(0)))))"
     ],
     "language": "python",
     "metadata": {},
     "outputs": [
      {
       "output_type": "stream",
       "stream": "stdout",
       "text": [
        "1j (-1+1j) -1j (-1+1j) -1j\n"
       ]
      }
     ],
     "prompt_number": 64
    },
    {
     "cell_type": "code",
     "collapsed": false,
     "input": [
      "simplify(expand((c**4 + 2*c**3 + c**2 + c)**2 + c))"
     ],
     "language": "python",
     "metadata": {},
     "outputs": [
      {
       "latex": [
        "$$c \\left(c^{7} + 4 c^{6} + 6 c^{5} + 6 c^{4} + 5 c^{3} + 2 c^{2} + c + 1\\right)$$"
       ],
       "metadata": {},
       "output_type": "pyout",
       "png": "[encoded data removed]",
       "prompt_number": 65,
       "text": [
        "  \u239b 7      6      5      4      3      2        \u239e\n",
        "c\u22c5\u239dc  + 4\u22c5c  + 6\u22c5c  + 6\u22c5c  + 5\u22c5c  + 2\u22c5c  + c + 1\u23a0"
       ]
      }
     ],
     "prompt_number": 65
    },
    {
     "cell_type": "code",
     "collapsed": false,
     "input": [
      "solve((c**4 + 2*c**3 + c**2 + c)**2 + c, c)"
     ],
     "language": "python",
     "metadata": {},
     "outputs": [
      {
       "latex": [
        "$$\\begin{bmatrix}-1, & 0, & \\operatorname{RootOf} {\\left(c^{6} + 3 c^{5} + 3 c^{4} + 3 c^{3} + 2 c^{2} + 1, 0\\right)}, & \\operatorname{RootOf} {\\left(c^{6} + 3 c^{5} + 3 c^{4} + 3 c^{3} + 2 c^{2} + 1, 1\\right)}, & \\operatorname{RootOf} {\\left(c^{6} + 3 c^{5} + 3 c^{4} + 3 c^{3} + 2 c^{2} + 1, 2\\right)}, & \\operatorname{RootOf} {\\left(c^{6} + 3 c^{5} + 3 c^{4} + 3 c^{3} + 2 c^{2} + 1, 3\\right)}, & \\operatorname{RootOf} {\\left(c^{6} + 3 c^{5} + 3 c^{4} + 3 c^{3} + 2 c^{2} + 1, 4\\right)}, & \\operatorname{RootOf} {\\left(c^{6} + 3 c^{5} + 3 c^{4} + 3 c^{3} + 2 c^{2} + 1, 5\\right)}\\end{bmatrix}$$"
       ],
       "metadata": {},
       "output_type": "pyout",
       "png": "[encoded data removed]",
       "prompt_number": 67,
       "text": [
        "\u23a1             \u239b 6      5      4      3      2       \u239e        \u239b 6      5      4\n",
        "\u23a3-1, 0, RootOf\u239dc  + 3\u22c5c  + 3\u22c5c  + 3\u22c5c  + 2\u22c5c  + 1, 0\u23a0, RootOf\u239dc  + 3\u22c5c  + 3\u22c5c \n",
        "\n",
        "      3      2       \u239e        \u239b 6      5      4      3      2       \u239e        \u239b\n",
        " + 3\u22c5c  + 2\u22c5c  + 1, 1\u23a0, RootOf\u239dc  + 3\u22c5c  + 3\u22c5c  + 3\u22c5c  + 2\u22c5c  + 1, 2\u23a0, RootOf\u239d\n",
        "\n",
        " 6      5      4      3      2       \u239e        \u239b 6      5      4      3      2 \n",
        "c  + 3\u22c5c  + 3\u22c5c  + 3\u22c5c  + 2\u22c5c  + 1, 3\u23a0, RootOf\u239dc  + 3\u22c5c  + 3\u22c5c  + 3\u22c5c  + 2\u22c5c  \n",
        "\n",
        "      \u239e        \u239b 6      5      4      3      2       \u239e\u23a4\n",
        "+ 1, 4\u23a0, RootOf\u239dc  + 3\u22c5c  + 3\u22c5c  + 3\u22c5c  + 2\u22c5c  + 1, 5\u23a0\u23a6"
       ]
      }
     ],
     "prompt_number": 67
    },
    {
     "cell_type": "code",
     "collapsed": false,
     "input": [],
     "language": "python",
     "metadata": {},
     "outputs": []
    }
   ],
   "metadata": {}
  }
 ]
}