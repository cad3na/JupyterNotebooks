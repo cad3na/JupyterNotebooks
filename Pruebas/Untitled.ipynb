{
 "cells": [
  {
   "cell_type": "code",
   "execution_count": 1,
   "metadata": {
    "collapsed": false
   },
   "outputs": [
    {
     "ename": "ReferenceError",
     "evalue": "evalmachine.<anonymous>:1\nhola\n^\nhola is not defined",
     "output_type": "error",
     "traceback": [
      "evalmachine.<anonymous>:1",
      "hola",
      "^",
      "ReferenceError: hola is not defined",
      "    at evalmachine.<anonymous>:1:1",
      "    at Object.exports.runInThisContext (vm.js:74:17)",
      "    at run ([eval]:179:19)",
      "    at onMessage ([eval]:63:41)",
      "    at process.emit (events.js:110:17)",
      "    at handleMessage (child_process.js:324:10)",
      "    at Pipe.channel.onread (child_process.js:352:11)"
     ]
    }
   ],
   "source": [
    "hola"
   ]
  },
  {
   "cell_type": "code",
   "execution_count": null,
   "metadata": {
    "collapsed": true
   },
   "outputs": [],
   "source": []
  }
 ],
 "metadata": {
  "kernelspec": {
   "display_name": "Javascript (Node.js)",
   "language": "javascript",
   "name": "javascript"
  },
  "language_info": {
   "file_extension": "js",
   "mimetype": "application/javascript",
   "name": "javascript",
   "version": "0.12.7"
  }
 },
 "nbformat": 4,
 "nbformat_minor": 0
}
