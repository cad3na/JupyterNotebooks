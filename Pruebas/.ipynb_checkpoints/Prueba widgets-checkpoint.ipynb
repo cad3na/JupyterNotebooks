{
 "metadata": {
  "name": "",
  "signature": "sha256:3086a454a746a14a46c0403b63d22a1072c4d50cdb9b22f4a020a5462098e171"
 },
 "nbformat": 3,
 "nbformat_minor": 0,
 "worksheets": []
}