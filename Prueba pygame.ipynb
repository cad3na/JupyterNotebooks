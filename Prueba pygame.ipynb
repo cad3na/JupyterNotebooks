{
 "metadata": {
  "name": ""
 },
 "nbformat": 3,
 "nbformat_minor": 0,
 "worksheets": [
  {
   "cells": [
    {
     "cell_type": "markdown",
     "metadata": {},
     "source": [
      "Vamos a empezar a probar la libreria pygame como una forma de obtener las entradas de un control de Xbox 360. Primero instalamos la libreria pygame y sus dependencias.\n",
      "\n",
      "    brew install sdl\n",
      "    brew install sdl_image\n",
      "    brew install sdl_mixer\n",
      "    brew install sdl_ttf\n",
      "    brew install portmidi\n",
      "    brew install mercurial\n",
      "    pip install hg+http://bitbucket.org/pygame/pygame\n",
      "\n",
      "Importamos la libreria pygame"
     ]
    },
    {
     "cell_type": "code",
     "collapsed": false,
     "input": [
      "import pygame"
     ],
     "language": "python",
     "metadata": {},
     "outputs": [],
     "prompt_number": 1
    },
    {
     "cell_type": "markdown",
     "metadata": {},
     "source": [
      "Iniciamos el soporte de la libreria con la funci\u00f3n:\n",
      "\n",
      "    pygame.init()"
     ]
    },
    {
     "cell_type": "code",
     "collapsed": false,
     "input": [
      "pygame.init()"
     ],
     "language": "python",
     "metadata": {},
     "outputs": [
      {
       "metadata": {},
       "output_type": "pyout",
       "prompt_number": 2,
       "text": [
        "(6, 0)"
       ]
      }
     ],
     "prompt_number": 2
    },
    {
     "cell_type": "markdown",
     "metadata": {},
     "source": [
      "Aqui asignamos un objeto del tipo Joystick (de hecho el primero que encuentra), a la variable\n",
      "\n",
      "    xcon\n",
      "    \n",
      "Y podemos imprimir el nombre con el que se reconoce al dispositivo con el comando\n",
      "\n",
      "    get_name()"
     ]
    },
    {
     "cell_type": "code",
     "collapsed": false,
     "input": [
      "xcon = pygame.joystick.Joystick(0)\n",
      "xcon.init()\n",
      "\n",
      "xcon.get_name()"
     ],
     "language": "python",
     "metadata": {},
     "outputs": [
      {
       "metadata": {},
       "output_type": "pyout",
       "prompt_number": 3,
       "text": [
        "'Wireless 360 Controller'"
       ]
      }
     ],
     "prompt_number": 3
    },
    {
     "cell_type": "markdown",
     "metadata": {},
     "source": [
      "Mandamos llamar a la funci\u00f3n\n",
      "\n",
      "    pygame.event.pump()\n",
      "    \n",
      "cada que queremos actualizar los datos que tenemos del control y a la funci\u00f3n\n",
      "\n",
      "    get_axis()\n",
      "    \n",
      "con el argumento del numero del eje que queremos obtener informaci\u00f3n."
     ]
    },
    {
     "cell_type": "heading",
     "level": 4,
     "metadata": {},
     "source": [
      "Stick Izquierdo - Horizontal"
     ]
    },
    {
     "cell_type": "markdown",
     "metadata": {},
     "source": [
      "Primero vamos a intentarlo con el eje 0 y el stick izquierdo sin tocar."
     ]
    },
    {
     "cell_type": "code",
     "collapsed": false,
     "input": [
      "pygame.event.pump()\n",
      "print xcon.get_axis(0)"
     ],
     "language": "python",
     "metadata": {},
     "outputs": [
      {
       "output_type": "stream",
       "stream": "stdout",
       "text": [
        "0.139373779297\n"
       ]
      }
     ],
     "prompt_number": 7
    },
    {
     "cell_type": "markdown",
     "metadata": {},
     "source": [
      "Ahora el eje 0 con el stick izquierdo hacia la izquierda."
     ]
    },
    {
     "cell_type": "code",
     "collapsed": false,
     "input": [
      "pygame.event.pump()\n",
      "print xcon.get_axis(0)"
     ],
     "language": "python",
     "metadata": {},
     "outputs": [
      {
       "output_type": "stream",
       "stream": "stdout",
       "text": [
        "-1.0\n"
       ]
      }
     ],
     "prompt_number": 8
    },
    {
     "cell_type": "markdown",
     "metadata": {},
     "source": [
      "Ahora el eje 0 con el stick izquierdo hacia la derecha."
     ]
    },
    {
     "cell_type": "code",
     "collapsed": false,
     "input": [
      "pygame.event.pump()\n",
      "print xcon.get_axis(0)"
     ],
     "language": "python",
     "metadata": {},
     "outputs": [
      {
       "output_type": "stream",
       "stream": "stdout",
       "text": [
        "0.999969482422\n"
       ]
      }
     ],
     "prompt_number": 9
    },
    {
     "cell_type": "markdown",
     "metadata": {},
     "source": [
      "Asi pues, podemos concluir que el eje 0 de nuestro control es el eje horizontal del stick izquierdo y que tiene valores en el rango de $-1$ a $1$ de izquierda a derecha."
     ]
    },
    {
     "cell_type": "heading",
     "level": 4,
     "metadata": {},
     "source": [
      "Stick Izquierdo - Vertical"
     ]
    },
    {
     "cell_type": "markdown",
     "metadata": {},
     "source": [
      "Ahora el eje 1 con el stick izquierdo sin tocar."
     ]
    },
    {
     "cell_type": "code",
     "collapsed": false,
     "input": [
      "pygame.event.pump()\n",
      "print xcon.get_axis(1)"
     ],
     "language": "python",
     "metadata": {},
     "outputs": [
      {
       "output_type": "stream",
       "stream": "stdout",
       "text": [
        "0.0425109863281\n"
       ]
      }
     ],
     "prompt_number": 10
    },
    {
     "cell_type": "markdown",
     "metadata": {},
     "source": [
      "Ahora el eje 1 con el stick izquierdo hacia arriba."
     ]
    },
    {
     "cell_type": "code",
     "collapsed": false,
     "input": [
      "pygame.event.pump()\n",
      "print xcon.get_axis(1)"
     ],
     "language": "python",
     "metadata": {},
     "outputs": [
      {
       "output_type": "stream",
       "stream": "stdout",
       "text": [
        "-1.0\n"
       ]
      }
     ],
     "prompt_number": 11
    },
    {
     "cell_type": "markdown",
     "metadata": {},
     "source": [
      "Ahora el eje 1 con el stick izquierdo hacia abajo."
     ]
    },
    {
     "cell_type": "code",
     "collapsed": false,
     "input": [
      "pygame.event.pump()\n",
      "print xcon.get_axis(1)"
     ],
     "language": "python",
     "metadata": {},
     "outputs": [
      {
       "output_type": "stream",
       "stream": "stdout",
       "text": [
        "0.999969482422\n"
       ]
      }
     ],
     "prompt_number": 12
    },
    {
     "cell_type": "markdown",
     "metadata": {},
     "source": [
      "Concluimos que el eje 1 de nuestro control es el eje vertical del stick izquierdo y que tiene valores en el rango de $-1$ a $1$ de arriba a abajo."
     ]
    },
    {
     "cell_type": "heading",
     "level": 4,
     "metadata": {},
     "source": [
      "Stick Derecho - Horizontal"
     ]
    },
    {
     "cell_type": "markdown",
     "metadata": {},
     "source": [
      "Ahora el eje 2 con el stick derecho sin tocar."
     ]
    },
    {
     "cell_type": "code",
     "collapsed": false,
     "input": [
      "pygame.event.pump()\n",
      "print xcon.get_axis(2)"
     ],
     "language": "python",
     "metadata": {},
     "outputs": [
      {
       "output_type": "stream",
       "stream": "stdout",
       "text": [
        "0.0819396972656\n"
       ]
      }
     ],
     "prompt_number": 13
    },
    {
     "cell_type": "markdown",
     "metadata": {},
     "source": [
      "Ahora el eje 2 con el stick derecho a la izquierda."
     ]
    },
    {
     "cell_type": "code",
     "collapsed": false,
     "input": [
      "pygame.event.pump()\n",
      "print xcon.get_axis(2)"
     ],
     "language": "python",
     "metadata": {},
     "outputs": [
      {
       "output_type": "stream",
       "stream": "stdout",
       "text": [
        "-1.0\n"
       ]
      }
     ],
     "prompt_number": 14
    },
    {
     "cell_type": "markdown",
     "metadata": {},
     "source": [
      "Ahora el eje 2 con el stick derecho a la derecha."
     ]
    },
    {
     "cell_type": "code",
     "collapsed": false,
     "input": [
      "pygame.event.pump()\n",
      "print xcon.get_axis(2)"
     ],
     "language": "python",
     "metadata": {},
     "outputs": [
      {
       "output_type": "stream",
       "stream": "stdout",
       "text": [
        "0.999969482422\n"
       ]
      }
     ],
     "prompt_number": 15
    },
    {
     "cell_type": "markdown",
     "metadata": {},
     "source": [
      "Concluimos que el eje 2 de nuestro control es el eje horizontal del stick derecho y que tiene valores en el rango de $-1$ a $1$ de izquierda a derecha."
     ]
    },
    {
     "cell_type": "heading",
     "level": 4,
     "metadata": {},
     "source": [
      "Stick Derecho - Vertical"
     ]
    },
    {
     "cell_type": "markdown",
     "metadata": {},
     "source": [
      "Ahora el eje 3 con el stick derecho sin tocar."
     ]
    },
    {
     "cell_type": "code",
     "collapsed": false,
     "input": [
      "pygame.event.pump()\n",
      "print xcon.get_axis(3)"
     ],
     "language": "python",
     "metadata": {},
     "outputs": [
      {
       "output_type": "stream",
       "stream": "stdout",
       "text": [
        "0.00900268554688\n"
       ]
      }
     ],
     "prompt_number": 16
    },
    {
     "cell_type": "markdown",
     "metadata": {},
     "source": [
      "Ahora el eje 3 con el stick derecho hacia arriba."
     ]
    },
    {
     "cell_type": "code",
     "collapsed": false,
     "input": [
      "pygame.event.pump()\n",
      "print xcon.get_axis(3)"
     ],
     "language": "python",
     "metadata": {},
     "outputs": [
      {
       "output_type": "stream",
       "stream": "stdout",
       "text": [
        "-1.0\n"
       ]
      }
     ],
     "prompt_number": 17
    },
    {
     "cell_type": "markdown",
     "metadata": {},
     "source": [
      "Ahora el eje 3 con el stick derecho hacia abajo."
     ]
    },
    {
     "cell_type": "code",
     "collapsed": false,
     "input": [
      "pygame.event.pump()\n",
      "print xcon.get_axis(3)"
     ],
     "language": "python",
     "metadata": {},
     "outputs": [
      {
       "output_type": "stream",
       "stream": "stdout",
       "text": [
        "0.999969482422\n"
       ]
      }
     ],
     "prompt_number": 18
    },
    {
     "cell_type": "markdown",
     "metadata": {},
     "source": [
      "Concluimos que el eje 3 de nuestro control es el eje vertical del stick derecho y que tiene valores de $-1$ a $1$ de arriba a abajo."
     ]
    },
    {
     "cell_type": "heading",
     "level": 4,
     "metadata": {},
     "source": [
      "Gatillo Izquierdo"
     ]
    },
    {
     "cell_type": "markdown",
     "metadata": {},
     "source": [
      "Ahora el eje 4 con el gatillo izquierdo sin tocar."
     ]
    },
    {
     "cell_type": "code",
     "collapsed": false,
     "input": [
      "pygame.event.pump()\n",
      "print xcon.get_axis(4)"
     ],
     "language": "python",
     "metadata": {},
     "outputs": [
      {
       "output_type": "stream",
       "stream": "stdout",
       "text": [
        "-1.0\n"
       ]
      }
     ],
     "prompt_number": 19
    },
    {
     "cell_type": "markdown",
     "metadata": {},
     "source": [
      "Ahora el eje 4 con el gatillo izquierdo apretado."
     ]
    },
    {
     "cell_type": "code",
     "collapsed": false,
     "input": [
      "pygame.event.pump()\n",
      "print xcon.get_axis(4)"
     ],
     "language": "python",
     "metadata": {},
     "outputs": [
      {
       "output_type": "stream",
       "stream": "stdout",
       "text": [
        "0.999969482422\n"
       ]
      }
     ],
     "prompt_number": 21
    },
    {
     "cell_type": "markdown",
     "metadata": {},
     "source": [
      "Concluimos que el eje 4 de nuestro control es el gatillo izquierdo y tiene valores entre $-1$ a $1$ desde no apretado a completamente apretado."
     ]
    },
    {
     "cell_type": "heading",
     "level": 4,
     "metadata": {},
     "source": [
      "Gatillo Derecho"
     ]
    },
    {
     "cell_type": "markdown",
     "metadata": {},
     "source": [
      "Ahora el eje 5 con el gatillo derecho sin tocar."
     ]
    },
    {
     "cell_type": "code",
     "collapsed": false,
     "input": [
      "pygame.event.pump()\n",
      "print xcon.get_axis(5)"
     ],
     "language": "python",
     "metadata": {},
     "outputs": [
      {
       "output_type": "stream",
       "stream": "stdout",
       "text": [
        "-1.0\n"
       ]
      }
     ],
     "prompt_number": 22
    },
    {
     "cell_type": "markdown",
     "metadata": {},
     "source": [
      "Ahora el eje 5 con el gatillo derecho apretado."
     ]
    },
    {
     "cell_type": "code",
     "collapsed": false,
     "input": [
      "pygame.event.pump()\n",
      "print xcon.get_axis(5)"
     ],
     "language": "python",
     "metadata": {},
     "outputs": [
      {
       "output_type": "stream",
       "stream": "stdout",
       "text": [
        "0.999969482422\n"
       ]
      }
     ],
     "prompt_number": 23
    },
    {
     "cell_type": "markdown",
     "metadata": {},
     "source": [
      "Concluimos que el eje 5 de nuestro control es el gatillo derecho y tiene valores entre $-1$ a $1$ desde no apretado a completamente apretado."
     ]
    }
   ],
   "metadata": {}
  }
 ]
}