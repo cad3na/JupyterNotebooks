{
 "metadata": {
  "name": ""
 },
 "nbformat": 3,
 "nbformat_minor": 0,
 "worksheets": [
  {
   "cells": [
    {
     "cell_type": "code",
     "collapsed": false,
     "input": [
      "from IPython.display import display\n",
      "\n",
      "from sympy.interactive import printing\n",
      "printing.init_printing()\n",
      "\n",
      "from sympy import var, simplify, collect, expand, solve, sin, cos, Matrix, diff, Function\n",
      "\n",
      "var(\"t\")\n",
      "var(\"m_1, I_1, omega_1, l_1, L_1\")\n",
      "var(\"m_2, I_2, omega_2, l_2, L_2\")\n",
      "q_1 = Function(\"q_1\")(t)\n",
      "q_2 = Function(\"q_2\")(t)"
     ],
     "language": "python",
     "metadata": {},
     "outputs": [],
     "prompt_number": 1
    },
    {
     "cell_type": "code",
     "collapsed": false,
     "input": [
      "def position(x, y):\n",
      "    \"\"\"\n",
      "    Takes the x and y coordinates of a body, and returns\n",
      "    a sympy Matrix with the position.\n",
      "    \"\"\"\n",
      "    return Matrix([x, y])"
     ],
     "language": "python",
     "metadata": {},
     "outputs": [],
     "prompt_number": 2
    },
    {
     "cell_type": "code",
     "collapsed": false,
     "input": [
      "def velocity(r):\n",
      "    \"\"\"\n",
      "    Takes the position of a body in the form of a sympy\n",
      "    Matrix and returns it's velocity.\n",
      "    \"\"\"\n",
      "    return r.diff(t)"
     ],
     "language": "python",
     "metadata": {},
     "outputs": [],
     "prompt_number": 3
    },
    {
     "cell_type": "code",
     "collapsed": false,
     "input": [
      "def square_velocity(v):\n",
      "    \"\"\"\n",
      "    Takes the velocity of a body in the form of a sympy\n",
      "    Matrix and returns it's square.\n",
      "    \"\"\"\n",
      "    return collect(simplify((v.T*v)[0]), [q_1.diff(t)*q_2.diff(t), q_1.diff(t), q_2.diff(t), q_1.diff(t)**2, q_2.diff(t)**2])"
     ],
     "language": "python",
     "metadata": {},
     "outputs": [],
     "prompt_number": 30
    },
    {
     "cell_type": "code",
     "collapsed": false,
     "input": [
      "def kinetic_energy(m, v2, I = 0, om = 0):\n",
      "    \"\"\"\n",
      "    Takes the mass (m), squared velocity (v2), Inertial\n",
      "    moment (I), and angular velocity (om) of a body, and\n",
      "    returns the kinetic energy of the body.\n",
      "    \"\"\"\n",
      "    return (m*v2)/2 + (I*om**2)/2"
     ],
     "language": "python",
     "metadata": {},
     "outputs": [],
     "prompt_number": 5
    },
    {
     "cell_type": "code",
     "collapsed": false,
     "input": [
      "def potential_energy(m, h):\n",
      "    \"\"\"\n",
      "    Takes the mass (m), and height (h) of a body and\n",
      "    returns the potential energy of the body (this\n",
      "    assumes that the acceleration due to the gravitational\n",
      "    forces is 9.81 m/s^2).\n",
      "    \"\"\"\n",
      "    g = 9.81\n",
      "    return (m*g*h)"
     ],
     "language": "python",
     "metadata": {},
     "outputs": [],
     "prompt_number": 6
    },
    {
     "cell_type": "code",
     "collapsed": false,
     "input": [
      "def lagrange_function(K, U):\n",
      "    \"\"\"\n",
      "    Takes the kinetic and potential energy of a system\n",
      "    (K and U) and returns the Langrange Function of the\n",
      "    system.\n",
      "    \"\"\"\n",
      "    return K - U"
     ],
     "language": "python",
     "metadata": {},
     "outputs": [],
     "prompt_number": 7
    },
    {
     "cell_type": "code",
     "collapsed": false,
     "input": [
      "def torque_function(L, q):\n",
      "    \"\"\"\n",
      "    Takes the Langrange function (L) and derives with\n",
      "    respect of the Freedom Degree specified (q).\n",
      "    \"\"\"\n",
      "    return collect(simplify(expand(L).diff(q.diff(t)).diff(t) + expand(L).diff(q)), [q.diff(t), q.diff(t).diff(t)])"
     ],
     "language": "python",
     "metadata": {},
     "outputs": [],
     "prompt_number": 52
    },
    {
     "cell_type": "code",
     "collapsed": false,
     "input": [
      "K_1 = kinetic_energy(m=m_1, v2=v_1**2, I=I_1, om=omega_1)"
     ],
     "language": "python",
     "metadata": {},
     "outputs": [],
     "prompt_number": 8
    },
    {
     "cell_type": "code",
     "collapsed": false,
     "input": [
      "K_1"
     ],
     "language": "python",
     "metadata": {},
     "outputs": [
      {
       "latex": [
        "$$\\frac{I_{1} \\omega_{1}^{2}}{2} + \\frac{m_{1} v_{1}^{2}}{2}$$"
       ],
       "metadata": {},
       "output_type": "pyout",
       "prompt_number": 9,
       "text": [
        "     2        2\n",
        "I\u2081\u22c5\u03c9\u2081    m\u2081\u22c5v\u2081 \n",
        "\u2500\u2500\u2500\u2500\u2500\u2500 + \u2500\u2500\u2500\u2500\u2500\u2500\n",
        "  2        2   "
       ]
      }
     ],
     "prompt_number": 9
    },
    {
     "cell_type": "code",
     "collapsed": false,
     "input": [
      "U_1 = potential_energy(m=m_1, h=0)"
     ],
     "language": "python",
     "metadata": {},
     "outputs": [],
     "prompt_number": 10
    },
    {
     "cell_type": "code",
     "collapsed": false,
     "input": [
      "U_1"
     ],
     "language": "python",
     "metadata": {},
     "outputs": [
      {
       "latex": [
        "$$0$$"
       ],
       "metadata": {},
       "output_type": "pyout",
       "prompt_number": 11,
       "text": [
        "0"
       ]
      }
     ],
     "prompt_number": 11
    },
    {
     "cell_type": "code",
     "collapsed": false,
     "input": [
      "lagrange_function(K_1, U_1)"
     ],
     "language": "python",
     "metadata": {},
     "outputs": [
      {
       "latex": [
        "$$\\frac{I_{1} \\omega_{1}^{2}}{2} + \\frac{m_{1} v_{1}^{2}}{2}$$"
       ],
       "metadata": {},
       "output_type": "pyout",
       "prompt_number": 12,
       "text": [
        "     2        2\n",
        "I\u2081\u22c5\u03c9\u2081    m\u2081\u22c5v\u2081 \n",
        "\u2500\u2500\u2500\u2500\u2500\u2500 + \u2500\u2500\u2500\u2500\u2500\u2500\n",
        "  2        2   "
       ]
      }
     ],
     "prompt_number": 12
    },
    {
     "cell_type": "code",
     "collapsed": false,
     "input": [
      "r_1 = position(l_1*cos(q_1)/2, l_1*sin(q_1)/2)"
     ],
     "language": "python",
     "metadata": {},
     "outputs": [],
     "prompt_number": 13
    },
    {
     "cell_type": "code",
     "collapsed": false,
     "input": [
      "r_1"
     ],
     "language": "python",
     "metadata": {},
     "outputs": [
      {
       "latex": [
        "$$\\left[\\begin{smallmatrix}{}\\frac{l_{1}}{2} \\cos{\\left (\\operatorname{q\\_1}{\\left (t \\right )} \\right )}\\\\\\frac{l_{1}}{2} \\sin{\\left (\\operatorname{q\\_1}{\\left (t \\right )} \\right )}\\end{smallmatrix}\\right]$$"
       ],
       "metadata": {},
       "output_type": "pyout",
       "prompt_number": 14,
       "text": [
        "\u23a1l\u2081\u22c5cos(q\u2081(t))\u23a4\n",
        "\u23a2\u2500\u2500\u2500\u2500\u2500\u2500\u2500\u2500\u2500\u2500\u2500\u2500\u2500\u23a5\n",
        "\u23a2      2      \u23a5\n",
        "\u23a2             \u23a5\n",
        "\u23a2l\u2081\u22c5sin(q\u2081(t))\u23a5\n",
        "\u23a2\u2500\u2500\u2500\u2500\u2500\u2500\u2500\u2500\u2500\u2500\u2500\u2500\u2500\u23a5\n",
        "\u23a3      2      \u23a6"
       ]
      }
     ],
     "prompt_number": 14
    },
    {
     "cell_type": "code",
     "collapsed": false,
     "input": [
      "v_1 = velocity(r_1)"
     ],
     "language": "python",
     "metadata": {},
     "outputs": [],
     "prompt_number": 15
    },
    {
     "cell_type": "code",
     "collapsed": false,
     "input": [
      "v_1"
     ],
     "language": "python",
     "metadata": {},
     "outputs": [
      {
       "latex": [
        "$$\\left[\\begin{smallmatrix}{}- \\frac{l_{1}}{2} \\sin{\\left (\\operatorname{q\\_1}{\\left (t \\right )} \\right )} \\frac{d}{d t} \\operatorname{q\\_1}{\\left (t \\right )}\\\\\\frac{l_{1}}{2} \\cos{\\left (\\operatorname{q\\_1}{\\left (t \\right )} \\right )} \\frac{d}{d t} \\operatorname{q\\_1}{\\left (t \\right )}\\end{smallmatrix}\\right]$$"
       ],
       "metadata": {},
       "output_type": "pyout",
       "prompt_number": 16,
       "text": [
        "\u23a1               d         \u23a4\n",
        "\u23a2-l\u2081\u22c5sin(q\u2081(t))\u22c5\u2500\u2500(q\u2081(t)) \u23a5\n",
        "\u23a2               dt        \u23a5\n",
        "\u23a2\u2500\u2500\u2500\u2500\u2500\u2500\u2500\u2500\u2500\u2500\u2500\u2500\u2500\u2500\u2500\u2500\u2500\u2500\u2500\u2500\u2500\u2500\u2500\u2500\u2500\u23a5\n",
        "\u23a2            2            \u23a5\n",
        "\u23a2                         \u23a5\n",
        "\u23a2               d         \u23a5\n",
        "\u23a2 l\u2081\u22c5cos(q\u2081(t))\u22c5\u2500\u2500(q\u2081(t)) \u23a5\n",
        "\u23a2               dt        \u23a5\n",
        "\u23a2 \u2500\u2500\u2500\u2500\u2500\u2500\u2500\u2500\u2500\u2500\u2500\u2500\u2500\u2500\u2500\u2500\u2500\u2500\u2500\u2500\u2500\u2500\u2500 \u23a5\n",
        "\u23a3            2            \u23a6"
       ]
      }
     ],
     "prompt_number": 16
    },
    {
     "cell_type": "code",
     "collapsed": false,
     "input": [
      "v_12 = square_velocity(v_1)"
     ],
     "language": "python",
     "metadata": {},
     "outputs": [],
     "prompt_number": 24
    },
    {
     "cell_type": "code",
     "collapsed": false,
     "input": [
      "v_12"
     ],
     "language": "python",
     "metadata": {},
     "outputs": [
      {
       "latex": [
        "$$\\frac{l_{1}^{2}}{4} \\left(\\frac{d}{d t} \\operatorname{q\\_1}{\\left (t \\right )}\\right)^{2}$$"
       ],
       "metadata": {},
       "output_type": "pyout",
       "prompt_number": 25,
       "text": [
        "               2\n",
        "  2 \u239bd        \u239e \n",
        "l\u2081 \u22c5\u239c\u2500\u2500(q\u2081(t))\u239f \n",
        "    \u239ddt       \u23a0 \n",
        "\u2500\u2500\u2500\u2500\u2500\u2500\u2500\u2500\u2500\u2500\u2500\u2500\u2500\u2500\u2500\u2500\n",
        "       4        "
       ]
      }
     ],
     "prompt_number": 25
    },
    {
     "cell_type": "code",
     "collapsed": false,
     "input": [
      "k_1 = kinetic_energy(m_1, v_12)"
     ],
     "language": "python",
     "metadata": {},
     "outputs": [],
     "prompt_number": 26
    },
    {
     "cell_type": "code",
     "collapsed": false,
     "input": [
      "k_1"
     ],
     "language": "python",
     "metadata": {},
     "outputs": [
      {
       "latex": [
        "$$\\frac{l_{1}^{2} m_{1}}{8} \\left(\\frac{d}{d t} \\operatorname{q\\_1}{\\left (t \\right )}\\right)^{2}$$"
       ],
       "metadata": {},
       "output_type": "pyout",
       "prompt_number": 27,
       "text": [
        "                  2\n",
        "  2    \u239bd        \u239e \n",
        "l\u2081 \u22c5m\u2081\u22c5\u239c\u2500\u2500(q\u2081(t))\u239f \n",
        "       \u239ddt       \u23a0 \n",
        "\u2500\u2500\u2500\u2500\u2500\u2500\u2500\u2500\u2500\u2500\u2500\u2500\u2500\u2500\u2500\u2500\u2500\u2500\u2500\n",
        "         8         "
       ]
      }
     ],
     "prompt_number": 27
    },
    {
     "cell_type": "code",
     "collapsed": false,
     "input": [
      "L = lagrange_function(k_1, 0)"
     ],
     "language": "python",
     "metadata": {},
     "outputs": [],
     "prompt_number": 28
    },
    {
     "cell_type": "code",
     "collapsed": false,
     "input": [
      "L"
     ],
     "language": "python",
     "metadata": {},
     "outputs": [
      {
       "latex": [
        "$$\\frac{l_{1}^{2} m_{1}}{8} \\left(\\frac{d}{d t} \\operatorname{q\\_1}{\\left (t \\right )}\\right)^{2}$$"
       ],
       "metadata": {},
       "output_type": "pyout",
       "prompt_number": 29,
       "text": [
        "                  2\n",
        "  2    \u239bd        \u239e \n",
        "l\u2081 \u22c5m\u2081\u22c5\u239c\u2500\u2500(q\u2081(t))\u239f \n",
        "       \u239ddt       \u23a0 \n",
        "\u2500\u2500\u2500\u2500\u2500\u2500\u2500\u2500\u2500\u2500\u2500\u2500\u2500\u2500\u2500\u2500\u2500\u2500\u2500\n",
        "         8         "
       ]
      }
     ],
     "prompt_number": 29
    },
    {
     "cell_type": "code",
     "collapsed": false,
     "input": [
      "tau_1 = L.diff(q_1.diff(t)).diff(t) + L.diff(q_1)"
     ],
     "language": "python",
     "metadata": {},
     "outputs": [],
     "prompt_number": 33
    },
    {
     "cell_type": "code",
     "collapsed": false,
     "input": [
      "tau_1"
     ],
     "language": "python",
     "metadata": {},
     "outputs": [
      {
       "latex": [
        "$$\\frac{l_{1}^{2} m_{1}}{4} \\frac{d^{2}}{d t^{2}}  \\operatorname{q\\_1}{\\left (t \\right )}$$"
       ],
       "metadata": {},
       "output_type": "pyout",
       "prompt_number": 34,
       "text": [
        "         2       \n",
        "  2     d        \n",
        "l\u2081 \u22c5m\u2081\u22c5\u2500\u2500\u2500(q\u2081(t))\n",
        "         2       \n",
        "       dt        \n",
        "\u2500\u2500\u2500\u2500\u2500\u2500\u2500\u2500\u2500\u2500\u2500\u2500\u2500\u2500\u2500\u2500\u2500\n",
        "        4        "
       ]
      }
     ],
     "prompt_number": 34
    },
    {
     "cell_type": "code",
     "collapsed": false,
     "input": [
      "tau_1 = torque_function(L, q_1)"
     ],
     "language": "python",
     "metadata": {},
     "outputs": [],
     "prompt_number": 36
    },
    {
     "cell_type": "code",
     "collapsed": false,
     "input": [
      "tau_1"
     ],
     "language": "python",
     "metadata": {},
     "outputs": [
      {
       "latex": [
        "$$\\frac{l_{1}^{2} m_{1}}{4} \\frac{d^{2}}{d t^{2}}  \\operatorname{q\\_1}{\\left (t \\right )}$$"
       ],
       "metadata": {},
       "output_type": "pyout",
       "prompt_number": 37,
       "text": [
        "         2       \n",
        "  2     d        \n",
        "l\u2081 \u22c5m\u2081\u22c5\u2500\u2500\u2500(q\u2081(t))\n",
        "         2       \n",
        "       dt        \n",
        "\u2500\u2500\u2500\u2500\u2500\u2500\u2500\u2500\u2500\u2500\u2500\u2500\u2500\u2500\u2500\u2500\u2500\n",
        "        4        "
       ]
      }
     ],
     "prompt_number": 37
    },
    {
     "cell_type": "code",
     "collapsed": false,
     "input": [
      "r_1 = position(l_1*cos(q_1), l_1*sin(q_1))"
     ],
     "language": "python",
     "metadata": {},
     "outputs": [],
     "prompt_number": 9
    },
    {
     "cell_type": "code",
     "collapsed": false,
     "input": [
      "r_2 = position(L_1*cos(q_1) + l_2*cos(q_1 + q_2), L_1*sin(q_1) + l_2*sin(q_1 + q_2))"
     ],
     "language": "python",
     "metadata": {},
     "outputs": [],
     "prompt_number": 10
    },
    {
     "cell_type": "code",
     "collapsed": false,
     "input": [
      "v_1 = velocity(r_1)"
     ],
     "language": "python",
     "metadata": {},
     "outputs": [],
     "prompt_number": 11
    },
    {
     "cell_type": "code",
     "collapsed": false,
     "input": [
      "v_2 = velocity(r_2)"
     ],
     "language": "python",
     "metadata": {},
     "outputs": [],
     "prompt_number": 12
    },
    {
     "cell_type": "code",
     "collapsed": false,
     "input": [
      "v_12 = square_velocity(v_1)"
     ],
     "language": "python",
     "metadata": {},
     "outputs": [],
     "prompt_number": 13
    },
    {
     "cell_type": "code",
     "collapsed": false,
     "input": [
      "v_22 = square_velocity(v_2)"
     ],
     "language": "python",
     "metadata": {},
     "outputs": [],
     "prompt_number": 31
    },
    {
     "cell_type": "code",
     "collapsed": false,
     "input": [
      "k_1 = kinetic_energy(m_1, v_12, I_1, omega_1)"
     ],
     "language": "python",
     "metadata": {},
     "outputs": [],
     "prompt_number": 33
    },
    {
     "cell_type": "code",
     "collapsed": false,
     "input": [
      "k_2 = kinetic_energy(m_2, v_22, I_2, omega_2)"
     ],
     "language": "python",
     "metadata": {},
     "outputs": [],
     "prompt_number": 35
    },
    {
     "cell_type": "code",
     "collapsed": false,
     "input": [
      "U_1 = potential_energy(m_1, 0)"
     ],
     "language": "python",
     "metadata": {},
     "outputs": [],
     "prompt_number": 38
    },
    {
     "cell_type": "code",
     "collapsed": false,
     "input": [
      "U_2 = potential_energy(m_2, 0)"
     ],
     "language": "python",
     "metadata": {},
     "outputs": [],
     "prompt_number": 39
    },
    {
     "cell_type": "code",
     "collapsed": false,
     "input": [
      "L = lagrange_function(k_1 + k_2, U_1 + U_2)"
     ],
     "language": "python",
     "metadata": {},
     "outputs": [],
     "prompt_number": 40
    },
    {
     "cell_type": "code",
     "collapsed": false,
     "input": [
      "tau_1 = torque_function(L, q_1)"
     ],
     "language": "python",
     "metadata": {},
     "outputs": [],
     "prompt_number": 54
    },
    {
     "cell_type": "code",
     "collapsed": false,
     "input": [
      "tau_2 = torque_function(L, q_2)"
     ],
     "language": "python",
     "metadata": {},
     "outputs": [],
     "prompt_number": 55
    },
    {
     "cell_type": "code",
     "collapsed": false,
     "input": [
      "Matrix([tau_1, tau_2])"
     ],
     "language": "python",
     "metadata": {},
     "outputs": [
      {
       "latex": [
        "$$\\left[\\begin{smallmatrix}{}- 2 L_{1} l_{2} m_{2} \\sin{\\left (\\operatorname{q\\_2}{\\left (t \\right )} \\right )} \\frac{d}{d t} \\operatorname{q\\_1}{\\left (t \\right )} \\frac{d}{d t} \\operatorname{q\\_2}{\\left (t \\right )} - L_{1} l_{2} m_{2} \\sin{\\left (\\operatorname{q\\_2}{\\left (t \\right )} \\right )} \\left(\\frac{d}{d t} \\operatorname{q\\_2}{\\left (t \\right )}\\right)^{2} + L_{1} l_{2} m_{2} \\cos{\\left (\\operatorname{q\\_2}{\\left (t \\right )} \\right )} \\frac{d^{2}}{d t^{2}}  \\operatorname{q\\_2}{\\left (t \\right )} + l_{2}^{2} m_{2} \\frac{d^{2}}{d t^{2}}  \\operatorname{q\\_2}{\\left (t \\right )} + \\left(L_{1}^{2} m_{2} + 2 L_{1} l_{2} m_{2} \\cos{\\left (\\operatorname{q\\_2}{\\left (t \\right )} \\right )} + l_{1}^{2} m_{1} + l_{2}^{2} m_{2}\\right) \\frac{d^{2}}{d t^{2}}  \\operatorname{q\\_1}{\\left (t \\right )}\\\\l_{2} m_{2} \\left(- L_{1} \\sin{\\left (\\operatorname{q\\_2}{\\left (t \\right )} \\right )} \\left(\\frac{d}{d t} \\operatorname{q\\_1}{\\left (t \\right )}\\right)^{2} - 2 L_{1} \\sin{\\left (\\operatorname{q\\_2}{\\left (t \\right )} \\right )} \\frac{d}{d t} \\operatorname{q\\_1}{\\left (t \\right )} \\frac{d}{d t} \\operatorname{q\\_2}{\\left (t \\right )} + L_{1} \\cos{\\left (\\operatorname{q\\_2}{\\left (t \\right )} \\right )} \\frac{d^{2}}{d t^{2}}  \\operatorname{q\\_1}{\\left (t \\right )} + l_{2} \\frac{d^{2}}{d t^{2}}  \\operatorname{q\\_1}{\\left (t \\right )} + l_{2} \\frac{d^{2}}{d t^{2}}  \\operatorname{q\\_2}{\\left (t \\right )}\\right)\\end{smallmatrix}\\right]$$"
       ],
       "metadata": {},
       "output_type": "pyout",
       "png": "[encoded data removed]",
       "prompt_number": 56,
       "text": [
        "\u23a1                                                                             \n",
        "\u23a2                        d         d                               \u239bd        \u239e\n",
        "\u23a2- 2\u22c5L\u2081\u22c5l\u2082\u22c5m\u2082\u22c5sin(q\u2082(t))\u22c5\u2500\u2500(q\u2081(t))\u22c5\u2500\u2500(q\u2082(t)) - L\u2081\u22c5l\u2082\u22c5m\u2082\u22c5sin(q\u2082(t))\u22c5\u239c\u2500\u2500(q\u2082(t))\u239f\n",
        "\u23a2                        dt        dt                              \u239ddt       \u23a0\n",
        "\u23a2                                                                             \n",
        "\u23a2                                                                             \n",
        "\u23a2                                     \u239b                           2           \n",
        "\u23a2                                     \u239c                \u239bd        \u239e            \n",
        "\u23a2                               l\u2082\u22c5m\u2082\u22c5\u239c- L\u2081\u22c5sin(q\u2082(t))\u22c5\u239c\u2500\u2500(q\u2081(t))\u239f  - 2\u22c5L\u2081\u22c5sin\n",
        "\u23a2                                     \u239c                \u239ddt       \u23a0            \n",
        "\u23a3                                     \u239d                                       \n",
        "\n",
        "2                         2                   2                               \n",
        "                         d             2     d           \u239b  2                 \n",
        "  + L\u2081\u22c5l\u2082\u22c5m\u2082\u22c5cos(q\u2082(t))\u22c5\u2500\u2500\u2500(q\u2082(t)) + l\u2082 \u22c5m\u2082\u22c5\u2500\u2500\u2500(q\u2082(t)) + \u239dL\u2081 \u22c5m\u2082 + 2\u22c5L\u2081\u22c5l\u2082\u22c5m\u2082\u22c5\n",
        "                          2                   2                               \n",
        "                        dt                  dt                                \n",
        "                                                                              \n",
        "                                              2               2               \n",
        "        d         d                          d               d               d\n",
        "(q\u2082(t))\u22c5\u2500\u2500(q\u2081(t))\u22c5\u2500\u2500(q\u2082(t)) + L\u2081\u22c5cos(q\u2082(t))\u22c5\u2500\u2500\u2500(q\u2081(t)) + l\u2082\u22c5\u2500\u2500\u2500(q\u2081(t)) + l\u2082\u22c5\u2500\u2500\n",
        "        dt        dt                          2               2               \n",
        "                                            dt              dt              dt\n",
        "\n",
        "                                2       \u23a4\n",
        "               2        2   \u239e  d        \u23a5\n",
        "cos(q\u2082(t)) + l\u2081 \u22c5m\u2081 + l\u2082 \u22c5m\u2082\u23a0\u22c5\u2500\u2500\u2500(q\u2081(t))\u23a5\n",
        "                                2       \u23a5\n",
        "                              dt        \u23a5\n",
        "                                        \u23a5\n",
        "2       \u239e                               \u23a5\n",
        "        \u239f                               \u23a5\n",
        "\u2500(q\u2082(t))\u239f                               \u23a5\n",
        "2       \u239f                               \u23a5\n",
        "        \u23a0                               \u23a6"
       ]
      }
     ],
     "prompt_number": 56
    },
    {
     "cell_type": "code",
     "collapsed": false,
     "input": [],
     "language": "python",
     "metadata": {},
     "outputs": []
    }
   ],
   "metadata": {}
  }
 ]
}