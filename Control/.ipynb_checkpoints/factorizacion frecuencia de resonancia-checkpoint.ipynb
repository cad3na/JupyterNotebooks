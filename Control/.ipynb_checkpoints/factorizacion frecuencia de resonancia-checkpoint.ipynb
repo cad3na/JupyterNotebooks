{
 "metadata": {
  "name": "",
  "signature": "sha256:9bcc2f8ab53c09035beaca3ec07115c034e7e2ca36efa34f57ea00381fde4d35"
 },
 "nbformat": 3,
 "nbformat_minor": 0,
 "worksheets": [
  {
   "cells": [
    {
     "cell_type": "code",
     "collapsed": false,
     "input": [
      "from sympy import init_printing, var\n",
      "init_printing()"
     ],
     "language": "python",
     "metadata": {},
     "outputs": [],
     "prompt_number": 2
    },
    {
     "cell_type": "code",
     "collapsed": false,
     "input": [
      "var(\"zeta, omega, omega_n, omega_r\")"
     ],
     "language": "python",
     "metadata": {},
     "outputs": [
      {
       "latex": [
        "$$\\begin{pmatrix}\\zeta, & \\omega, & \\omega_{n}, & \\omega_{r}\\end{pmatrix}$$"
       ],
       "metadata": {},
       "output_type": "pyout",
       "png": "[encoded data removed]",
       "prompt_number": 3,
       "text": [
        "(\u03b6, \u03c9, \u03c9_n, \u03c9\u1d63)"
       ]
      }
     ],
     "prompt_number": 3
    },
    {
     "cell_type": "code",
     "collapsed": false,
     "input": [
      "g = (1-(omega/omega_n)**2)**2 + (2*zeta*(omega/omega_n))**2\n",
      "g"
     ],
     "language": "python",
     "metadata": {},
     "outputs": [
      {
       "latex": [
        "$$\\frac{4 \\omega^{2}}{\\omega_{n}^{2}} \\zeta^{2} + \\left(- \\frac{\\omega^{2}}{\\omega_{n}^{2}} + 1\\right)^{2}$$"
       ],
       "metadata": {},
       "output_type": "pyout",
       "png": "[encoded data removed]",
       "prompt_number": 10,
       "text": [
        "                      2\n",
        "   2  2   \u239b    2     \u239e \n",
        "4\u22c5\u03c9 \u22c5\u03b6    \u239c   \u03c9      \u239f \n",
        "\u2500\u2500\u2500\u2500\u2500\u2500\u2500 + \u239c- \u2500\u2500\u2500\u2500 + 1\u239f \n",
        "     2    \u239c     2    \u239f \n",
        "  \u03c9_n     \u239d  \u03c9_n     \u23a0 "
       ]
      }
     ],
     "prompt_number": 10
    },
    {
     "cell_type": "code",
     "collapsed": false,
     "input": [
      "g.expand()"
     ],
     "language": "python",
     "metadata": {},
     "outputs": [
      {
       "latex": [
        "$$\\frac{\\omega^{4}}{\\omega_{n}^{4}} + \\frac{4 \\omega^{2}}{\\omega_{n}^{2}} \\zeta^{2} - \\frac{2 \\omega^{2}}{\\omega_{n}^{2}} + 1$$"
       ],
       "metadata": {},
       "output_type": "pyout",
       "png": "[encoded data removed]",
       "prompt_number": 11,
       "text": [
        "  4       2  2      2    \n",
        " \u03c9     4\u22c5\u03c9 \u22c5\u03b6    2\u22c5\u03c9     \n",
        "\u2500\u2500\u2500\u2500 + \u2500\u2500\u2500\u2500\u2500\u2500\u2500 - \u2500\u2500\u2500\u2500 + 1\n",
        "   4        2       2    \n",
        "\u03c9_n      \u03c9_n     \u03c9_n     "
       ]
      }
     ],
     "prompt_number": 11
    },
    {
     "cell_type": "code",
     "collapsed": false,
     "input": [
      "gp = g.diff(omega)\n",
      "gp"
     ],
     "language": "python",
     "metadata": {},
     "outputs": [
      {
       "latex": [
        "$$\\frac{8 \\omega}{\\omega_{n}^{2}} \\zeta^{2} - \\frac{4 \\omega}{\\omega_{n}^{2}} \\left(- \\frac{\\omega^{2}}{\\omega_{n}^{2}} + 1\\right)$$"
       ],
       "metadata": {},
       "output_type": "pyout",
       "png": "[encoded data removed]",
       "prompt_number": 16,
       "text": [
        "             \u239b    2     \u239e\n",
        "             \u239c   \u03c9      \u239f\n",
        "         4\u22c5\u03c9\u22c5\u239c- \u2500\u2500\u2500\u2500 + 1\u239f\n",
        "     2       \u239c     2    \u239f\n",
        "8\u22c5\u03c9\u22c5\u03b6        \u239d  \u03c9_n     \u23a0\n",
        "\u2500\u2500\u2500\u2500\u2500\u2500 - \u2500\u2500\u2500\u2500\u2500\u2500\u2500\u2500\u2500\u2500\u2500\u2500\u2500\u2500\u2500\u2500\n",
        "    2             2      \n",
        " \u03c9_n           \u03c9_n       "
       ]
      }
     ],
     "prompt_number": 16
    },
    {
     "cell_type": "code",
     "collapsed": false,
     "input": [
      "gpe = gp.expand()\n",
      "gpe"
     ],
     "language": "python",
     "metadata": {},
     "outputs": [
      {
       "latex": [
        "$$\\frac{4 \\omega^{3}}{\\omega_{n}^{4}} + \\frac{8 \\omega}{\\omega_{n}^{2}} \\zeta^{2} - \\frac{4 \\omega}{\\omega_{n}^{2}}$$"
       ],
       "metadata": {},
       "output_type": "pyout",
       "png": "[encoded data removed]",
       "prompt_number": 27,
       "text": [
        "   3        2       \n",
        "4\u22c5\u03c9    8\u22c5\u03c9\u22c5\u03b6    4\u22c5\u03c9 \n",
        "\u2500\u2500\u2500\u2500 + \u2500\u2500\u2500\u2500\u2500\u2500 - \u2500\u2500\u2500\u2500\n",
        "   4       2       2\n",
        "\u03c9_n     \u03c9_n     \u03c9_n "
       ]
      }
     ],
     "prompt_number": 27
    },
    {
     "cell_type": "code",
     "collapsed": false,
     "input": [
      "f = 4*omega/omega_n**2\n",
      "f"
     ],
     "language": "python",
     "metadata": {},
     "outputs": [
      {
       "latex": [
        "$$\\frac{4 \\omega}{\\omega_{n}^{2}}$$"
       ],
       "metadata": {},
       "output_type": "pyout",
       "png": "[encoded data removed]",
       "prompt_number": 36,
       "text": [
        "4\u22c5\u03c9 \n",
        "\u2500\u2500\u2500\u2500\n",
        "   2\n",
        "\u03c9_n "
       ]
      }
     ],
     "prompt_number": 36
    },
    {
     "cell_type": "code",
     "collapsed": false,
     "input": [
      "fa = gpe.factor(f)\n",
      "fa"
     ],
     "language": "python",
     "metadata": {},
     "outputs": [
      {
       "latex": [
        "$$\\frac{4 \\omega}{\\omega_{n}^{4}} \\left(\\omega^{2} + 2 \\omega_{n}^{2} \\zeta^{2} - \\omega_{n}^{2}\\right)$$"
       ],
       "metadata": {},
       "output_type": "pyout",
       "png": "[encoded data removed]",
       "prompt_number": 39,
       "text": [
        "    \u239b 2        2  2      2\u239e\n",
        "4\u22c5\u03c9\u22c5\u239d\u03c9  + 2\u22c5\u03c9_n \u22c5\u03b6  - \u03c9_n \u23a0\n",
        "\u2500\u2500\u2500\u2500\u2500\u2500\u2500\u2500\u2500\u2500\u2500\u2500\u2500\u2500\u2500\u2500\u2500\u2500\u2500\u2500\u2500\u2500\u2500\u2500\u2500\u2500\u2500\n",
        "               4           \n",
        "            \u03c9_n            "
       ]
      }
     ],
     "prompt_number": 39
    },
    {
     "cell_type": "code",
     "collapsed": false,
     "input": [],
     "language": "python",
     "metadata": {},
     "outputs": []
    }
   ],
   "metadata": {}
  }
 ]
}