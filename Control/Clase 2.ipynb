{
 "metadata": {
  "name": "",
  "signature": "sha256:23d95105504a534bb35ad43f6299286aecf9e2722e90594fb047f084c34fc8b1"
 },
 "nbformat": 3,
 "nbformat_minor": 0,
 "worksheets": [
  {
   "cells": [
    {
     "cell_type": "code",
     "collapsed": false,
     "input": [
      "from sympy import init_printing\n",
      "init_printing()"
     ],
     "language": "python",
     "metadata": {},
     "outputs": [],
     "prompt_number": 12
    },
    {
     "cell_type": "code",
     "collapsed": false,
     "input": [
      "from tabulate import tabulate\n",
      "\n",
      "def routh_hurwitz(polinomio):\n",
      "    \"\"\"\n",
      "    Este funci\u00f3n toma como entrada un arreglo con los coeficientes\n",
      "    del polinomio caracteristico del sistema para analizar su\n",
      "    estabilidad, por medio de Routh - Hurwitz.\n",
      "    \"\"\"\n",
      "    grado = len(polinomio)\n",
      "    linea_cero = False\n",
      "    long_linea = ceil((grado + 1)/2.0)\n",
      "    def fila(tabla, i):\n",
      "        \"\"\"\n",
      "        Se calcula la fila 'i' de una tabla de Routh - Hurwitz.\n",
      "        \"\"\"\n",
      "        temp = []\n",
      "        long_linea = ceil(grado + 1)/2.0\n",
      "        for j in range(len(tabla[0]) - 1):\n",
      "            # Se calcula por la formula (a1 b2 - a2 b1) / a1\n",
      "            temp.append((tabla[i - 1][0]*tabla[i - 2][j + 1] -\n",
      "                         tabla[i - 1][j + 1]*tabla[i - 2][0]) /\n",
      "                         tabla[i - 1][0])\n",
      "        # Se agrega un 0 en cada fila, por los que no se pueden calcular\n",
      "        temp.append(0)\n",
      "        # Se revisa el caso en que una linea se hace 0 en su totalidad\n",
      "        # lo cual pasa porque la fila es linealmente dependiente con la\n",
      "        # anterior.\n",
      "        if (temp == zeros(long_linea)).all():\n",
      "            linea_cero = True\n",
      "            linea = grado - i - 1\n",
      "            exponentes = [linea - j for j in range(0, linea + 1, 2)]\n",
      "            while long_linea > len(exponentes):\n",
      "                exponentes.append(0)\n",
      "            temp =[]\n",
      "            for j in range(len(tabla[0])):\n",
      "                temp.append(tabla[i - 1][j]*exponentes[j])\n",
      "        return temp\n",
      "    \n",
      "    # Se crean 2 arreglos y se introducen los coeficientes de las potencias\n",
      "    # pares en uno y las impares en otro\n",
      "    temp1 = []\n",
      "    temp2 = []\n",
      "    for i, coef in enumerate(polinomio):\n",
      "        if i%2 == 0:\n",
      "            temp1.append(coef)\n",
      "        else:\n",
      "            temp2.append(coef)\n",
      "            \n",
      "    # Si tiene un numero impar de potencias la longitud de los arreglos\n",
      "    # ser\u00e1 diferente, por lo que se agregar\u00e1 un 0 al final del segundo\n",
      "    # para igualarlos\n",
      "    if len(temp1) != len(temp2):\n",
      "        temp2.append(0)\n",
      "        \n",
      "    # Se agregan los dos arreglos en una tabla\n",
      "    tabla = []\n",
      "    tabla.append(temp1)\n",
      "    tabla.append(temp2)\n",
      "    \n",
      "    # Se itera atraves de las filas de la tabla y se calculan\n",
      "    for i in range(2, len(polinomio)):\n",
      "        tabla.append(fila(tabla, i))\n",
      "        \n",
      "    # Se agrega al inicio de cada fila el grado del polinomio asociado\n",
      "    n = len(tabla)\n",
      "    for i in range(n):\n",
      "        tabla[i] = [\"s**\" + str(n - i - 1)] + tabla[i]\n",
      "        \n",
      "    # Se imprimen cada una de las lineas de la tabla\n",
      "    if linea_cero:\n",
      "        print \"Se saco la derivada de una linea para sacar la siguiente,\"\n",
      "        print \"debido a que es linealmente dependiente de la anterior.\"\n",
      "    print tabulate(tabla)"
     ],
     "language": "python",
     "metadata": {},
     "outputs": [],
     "prompt_number": 3
    },
    {
     "cell_type": "code",
     "collapsed": false,
     "input": [
      "A = [1, 2, 1, 2]\n",
      "for r in roots(A):\n",
      "    print r\n",
      "routh_hurwitz(A)"
     ],
     "language": "python",
     "metadata": {},
     "outputs": [
      {
       "output_type": "stream",
       "stream": "stdout",
       "text": [
        "(-2+0j)\n",
        "(-1.38777878078e-16+1j)\n",
        "(-1.38777878078e-16-1j)\n",
        "----  -  -\n",
        "s**3  1  1\n",
        "s**2  2  2\n",
        "s**1  2  0\n",
        "s**0  2  0\n",
        "----  -  -\n"
       ]
      }
     ],
     "prompt_number": 4
    },
    {
     "cell_type": "code",
     "collapsed": false,
     "input": [
      "A = [1, 0, -3, 2]\n",
      "for r in roots(A):\n",
      "    print r\n",
      "routh_hurwitz(A)"
     ],
     "language": "python",
     "metadata": {},
     "outputs": [
      {
       "output_type": "stream",
       "stream": "stdout",
       "text": [
        "-2.0\n",
        "1.00000001558\n",
        "0.999999984417\n"
       ]
      },
      {
       "ename": "ZeroDivisionError",
       "evalue": "integer division or modulo by zero",
       "output_type": "pyerr",
       "traceback": [
        "\u001b[0;31m---------------------------------------------------------------------------\u001b[0m\n\u001b[0;31mZeroDivisionError\u001b[0m                         Traceback (most recent call last)",
        "\u001b[0;32m<ipython-input-5-b7065b59c08b>\u001b[0m in \u001b[0;36m<module>\u001b[0;34m()\u001b[0m\n\u001b[1;32m      2\u001b[0m \u001b[0;32mfor\u001b[0m \u001b[0mr\u001b[0m \u001b[0;32min\u001b[0m \u001b[0mroots\u001b[0m\u001b[0;34m(\u001b[0m\u001b[0mA\u001b[0m\u001b[0;34m)\u001b[0m\u001b[0;34m:\u001b[0m\u001b[0;34m\u001b[0m\u001b[0m\n\u001b[1;32m      3\u001b[0m     \u001b[0;32mprint\u001b[0m \u001b[0mr\u001b[0m\u001b[0;34m\u001b[0m\u001b[0m\n\u001b[0;32m----> 4\u001b[0;31m \u001b[0mrouth_hurwitz\u001b[0m\u001b[0;34m(\u001b[0m\u001b[0mA\u001b[0m\u001b[0;34m)\u001b[0m\u001b[0;34m\u001b[0m\u001b[0m\n\u001b[0m",
        "\u001b[0;32m<ipython-input-3-4f8c01da03d1>\u001b[0m in \u001b[0;36mrouth_hurwitz\u001b[0;34m(polinomio)\u001b[0m\n\u001b[1;32m     60\u001b[0m     \u001b[0;31m# Se itera atraves de las filas de la tabla y se calculan\u001b[0m\u001b[0;34m\u001b[0m\u001b[0;34m\u001b[0m\u001b[0m\n\u001b[1;32m     61\u001b[0m     \u001b[0;32mfor\u001b[0m \u001b[0mi\u001b[0m \u001b[0;32min\u001b[0m \u001b[0mrange\u001b[0m\u001b[0;34m(\u001b[0m\u001b[0;36m2\u001b[0m\u001b[0;34m,\u001b[0m \u001b[0mlen\u001b[0m\u001b[0;34m(\u001b[0m\u001b[0mpolinomio\u001b[0m\u001b[0;34m)\u001b[0m\u001b[0;34m)\u001b[0m\u001b[0;34m:\u001b[0m\u001b[0;34m\u001b[0m\u001b[0m\n\u001b[0;32m---> 62\u001b[0;31m         \u001b[0mtabla\u001b[0m\u001b[0;34m.\u001b[0m\u001b[0mappend\u001b[0m\u001b[0;34m(\u001b[0m\u001b[0mfila\u001b[0m\u001b[0;34m(\u001b[0m\u001b[0mtabla\u001b[0m\u001b[0;34m,\u001b[0m \u001b[0mi\u001b[0m\u001b[0;34m)\u001b[0m\u001b[0;34m)\u001b[0m\u001b[0;34m\u001b[0m\u001b[0m\n\u001b[0m\u001b[1;32m     63\u001b[0m \u001b[0;34m\u001b[0m\u001b[0m\n\u001b[1;32m     64\u001b[0m     \u001b[0;31m# Se agrega al inicio de cada fila el grado del polinomio asociado\u001b[0m\u001b[0;34m\u001b[0m\u001b[0;34m\u001b[0m\u001b[0m\n",
        "\u001b[0;32m<ipython-input-3-4f8c01da03d1>\u001b[0m in \u001b[0;36mfila\u001b[0;34m(tabla, i)\u001b[0m\n\u001b[1;32m     20\u001b[0m             temp.append((tabla[i - 1][0]*tabla[i - 2][j + 1] -\n\u001b[1;32m     21\u001b[0m                          tabla[i - 1][j + 1]*tabla[i - 2][0]) /\n\u001b[0;32m---> 22\u001b[0;31m                          tabla[i - 1][0])\n\u001b[0m\u001b[1;32m     23\u001b[0m         \u001b[0;31m# Se agrega un 0 en cada fila, por los que no se pueden calcular\u001b[0m\u001b[0;34m\u001b[0m\u001b[0;34m\u001b[0m\u001b[0m\n\u001b[1;32m     24\u001b[0m         \u001b[0mtemp\u001b[0m\u001b[0;34m.\u001b[0m\u001b[0mappend\u001b[0m\u001b[0;34m(\u001b[0m\u001b[0;36m0\u001b[0m\u001b[0;34m)\u001b[0m\u001b[0;34m\u001b[0m\u001b[0m\n",
        "\u001b[0;31mZeroDivisionError\u001b[0m: integer division or modulo by zero"
       ]
      }
     ],
     "prompt_number": 5
    },
    {
     "cell_type": "code",
     "collapsed": false,
     "input": [
      "A = [1, 2, 24, 48, -25, -50]\n",
      "for r in roots(A):\n",
      "    print r\n",
      "routh_hurwitz(A)"
     ],
     "language": "python",
     "metadata": {},
     "outputs": [
      {
       "output_type": "stream",
       "stream": "stdout",
       "text": [
        "(-1.11022302463e-16+5j)\n",
        "(-1.11022302463e-16-5j)\n",
        "(1+0j)\n",
        "(-2+0j)\n",
        "(-1+0j)\n",
        "----  ---  ---  ---\n",
        "s**5    1   24  -25\n",
        "s**4    2   48  -50\n",
        "s**3    6   48    0\n",
        "s**2   32  -50    0\n",
        "s**1   57    0    0\n",
        "s**0  -50    0    0\n",
        "----  ---  ---  ---\n"
       ]
      }
     ],
     "prompt_number": 6
    },
    {
     "cell_type": "code",
     "collapsed": false,
     "input": [
      "A = [1, 2, 3, 4, 5]\n",
      "for r in roots(A):\n",
      "    print r\n",
      "routh_hurwitz(A)"
     ],
     "language": "python",
     "metadata": {},
     "outputs": [
      {
       "output_type": "stream",
       "stream": "stdout",
       "text": [
        "(0.287815479558+1.41609308017j)\n",
        "(0.287815479558-1.41609308017j)\n",
        "(-1.28781547956+0.857896758328j)\n",
        "(-1.28781547956-0.857896758328j)\n",
        "----  --  -  -\n",
        "s**4   1  3  5\n",
        "s**3   2  4  0\n",
        "s**2   1  5  0\n",
        "s**1  -6  0  0\n",
        "s**0   5  0  0\n",
        "----  --  -  -\n"
       ]
      }
     ],
     "prompt_number": 7
    },
    {
     "cell_type": "code",
     "collapsed": false,
     "input": [
      "A = [1,2,3,4,5]"
     ],
     "language": "python",
     "metadata": {},
     "outputs": [],
     "prompt_number": 8
    },
    {
     "cell_type": "code",
     "collapsed": false,
     "input": [
      "from sympy import var, Matrix"
     ],
     "language": "python",
     "metadata": {},
     "outputs": [],
     "prompt_number": 9
    },
    {
     "cell_type": "code",
     "collapsed": false,
     "input": [
      "var(\"epsilon\")"
     ],
     "language": "python",
     "metadata": {},
     "outputs": [
      {
       "latex": [
        "$$\\epsilon$$"
       ],
       "metadata": {},
       "output_type": "pyout",
       "png": "[encoded data removed]",
       "prompt_number": 13,
       "text": [
        "\u03b5"
       ]
      }
     ],
     "prompt_number": 13
    },
    {
     "cell_type": "code",
     "collapsed": false,
     "input": [
      "Matrix(A) / epsilon"
     ],
     "language": "python",
     "metadata": {},
     "outputs": [
      {
       "latex": [
        "$$\\left[\\begin{matrix}\\frac{1}{\\epsilon}\\\\\\frac{2}{\\epsilon}\\\\\\frac{3}{\\epsilon}\\\\\\frac{4}{\\epsilon}\\\\\\frac{5}{\\epsilon}\\end{matrix}\\right]$$"
       ],
       "metadata": {},
       "output_type": "pyout",
       "png": "[encoded data removed]",
       "prompt_number": 14,
       "text": [
        "\u23a11\u23a4\n",
        "\u23a2\u2500\u23a5\n",
        "\u23a2\u03b5\u23a5\n",
        "\u23a2 \u23a5\n",
        "\u23a22\u23a5\n",
        "\u23a2\u2500\u23a5\n",
        "\u23a2\u03b5\u23a5\n",
        "\u23a2 \u23a5\n",
        "\u23a23\u23a5\n",
        "\u23a2\u2500\u23a5\n",
        "\u23a2\u03b5\u23a5\n",
        "\u23a2 \u23a5\n",
        "\u23a24\u23a5\n",
        "\u23a2\u2500\u23a5\n",
        "\u23a2\u03b5\u23a5\n",
        "\u23a2 \u23a5\n",
        "\u23a25\u23a5\n",
        "\u23a2\u2500\u23a5\n",
        "\u23a3\u03b5\u23a6"
       ]
      }
     ],
     "prompt_number": 14
    },
    {
     "cell_type": "code",
     "collapsed": false,
     "input": [],
     "language": "python",
     "metadata": {},
     "outputs": []
    }
   ],
   "metadata": {}
  }
 ]
}