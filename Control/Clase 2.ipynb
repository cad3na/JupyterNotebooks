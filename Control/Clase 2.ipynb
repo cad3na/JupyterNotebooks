{
 "metadata": {
  "name": "",
  "signature": "sha256:20d3714475934d3fd89d878ff9581daf387e50793d6b34d30781afcfdc55bfa7"
 },
 "nbformat": 3,
 "nbformat_minor": 0,
 "worksheets": [
  {
   "cells": [
    {
     "cell_type": "code",
     "collapsed": false,
     "input": [
      "from tabulate import tabulate\n",
      "def routh_hurwitz(polinomio):\n",
      "    \"\"\"\n",
      "    Este funci\u00f3n toma como entrada un arreglo con los coeficientes\n",
      "    del polinomio caracteristico del sistema para analizar su\n",
      "    estabilidad, por medio de Routh - Hurwitz.\n",
      "    \"\"\"\n",
      "    grado = len(polinomio)\n",
      "    def fila(tabla, i):\n",
      "        \"\"\"\n",
      "        Se calcula la fila 'i' de una tabla de Routh - Hurwitz.\n",
      "        \"\"\"\n",
      "        temp = []\n",
      "        for j in range(len(tabla[0]) - 1):\n",
      "            # Se calcula por la formula (a1 b2 - a2 b1) / a1\n",
      "            temp.append((tabla[i - 1][0]*tabla[i - 2][j + 1] -\n",
      "                         tabla[i - 1][j + 1]*tabla[i - 2][0]) /\n",
      "                         tabla[i - 1][0])\n",
      "        # Se agrega un 0 en cada fila, por los que no se pueden calcular\n",
      "        temp.append(0)\n",
      "        if (temp == zeros(5)).all():\n",
      "            linea_cero = True\n",
      "            for n in [grado - i for i in range(0, grado, 2)]:\n",
      "        return temp\n",
      "    \n",
      "    # Se crean 2 arreglos y se introducen los coeficientes de las potencias\n",
      "    # pares en uno y las impares en otro\n",
      "    temp1 = []\n",
      "    temp2 = []\n",
      "    for i, coef in enumerate(polinomio):\n",
      "        if i%2 == 0:\n",
      "            temp1.append(coef)\n",
      "        else:\n",
      "            temp2.append(coef)\n",
      "            \n",
      "    # Si tiene un numero impar de potencias la longitud de los arreglos\n",
      "    # ser\u00e1 diferente, por lo que se agregar\u00e1 un 0 al final del segundo\n",
      "    # para igualarlos\n",
      "    if len(temp1) != len(temp2):\n",
      "        temp2.append(0)\n",
      "        \n",
      "    # Se agregan los dos arreglos en una tabla\n",
      "    tabla = []\n",
      "    tabla.append(temp1)\n",
      "    tabla.append(temp2)\n",
      "    \n",
      "    # Se itera atraves de las filas de la tabla y se calculan\n",
      "    for i in range(2, len(polinomio)):\n",
      "        tabla.append(fila(tabla, i))\n",
      "        \n",
      "    # Se agrega al inicio de cada fila el grado del polinomio asociado\n",
      "    n = len(tabla)\n",
      "    for i in range(n):\n",
      "        tabla[i] = [\"s**\" + str(n - i - 1)] + tabla[i]\n",
      "        \n",
      "    # Se imprimen cada una de las lineas de la tabla\n",
      "    print tabulate(tabla)"
     ],
     "language": "python",
     "metadata": {},
     "outputs": [],
     "prompt_number": 7
    },
    {
     "cell_type": "code",
     "collapsed": false,
     "input": [
      "A = [1, 2, 1, 2]\n",
      "print roots(A)\n",
      "routh_hurwitz(A)"
     ],
     "language": "python",
     "metadata": {},
     "outputs": [
      {
       "output_type": "stream",
       "stream": "stdout",
       "text": [
        "[ -2.00000000e+00+0.j  -1.38777878e-16+1.j  -1.38777878e-16-1.j]\n"
       ]
      },
      {
       "ename": "ZeroDivisionError",
       "evalue": "integer division or modulo by zero",
       "output_type": "pyerr",
       "traceback": [
        "\u001b[0;31m---------------------------------------------------------------------------\u001b[0m\n\u001b[0;31mZeroDivisionError\u001b[0m                         Traceback (most recent call last)",
        "\u001b[0;32m<ipython-input-8-6ca52e310e7f>\u001b[0m in \u001b[0;36m<module>\u001b[0;34m()\u001b[0m\n\u001b[1;32m      1\u001b[0m \u001b[0mA\u001b[0m \u001b[0;34m=\u001b[0m \u001b[0;34m[\u001b[0m\u001b[0;36m1\u001b[0m\u001b[0;34m,\u001b[0m \u001b[0;36m2\u001b[0m\u001b[0;34m,\u001b[0m \u001b[0;36m1\u001b[0m\u001b[0;34m,\u001b[0m \u001b[0;36m2\u001b[0m\u001b[0;34m]\u001b[0m\u001b[0;34m\u001b[0m\u001b[0m\n\u001b[1;32m      2\u001b[0m \u001b[0;32mprint\u001b[0m \u001b[0mroots\u001b[0m\u001b[0;34m(\u001b[0m\u001b[0mA\u001b[0m\u001b[0;34m)\u001b[0m\u001b[0;34m\u001b[0m\u001b[0m\n\u001b[0;32m----> 3\u001b[0;31m \u001b[0mrouth_hurwitz\u001b[0m\u001b[0;34m(\u001b[0m\u001b[0mA\u001b[0m\u001b[0;34m)\u001b[0m\u001b[0;34m\u001b[0m\u001b[0m\n\u001b[0m",
        "\u001b[0;32m<ipython-input-7-063dbe015dc2>\u001b[0m in \u001b[0;36mrouth_hurwitz\u001b[0;34m(polinomio)\u001b[0m\n\u001b[1;32m     43\u001b[0m     \u001b[0;31m# Se itera atraves de las filas de la tabla y se calculan\u001b[0m\u001b[0;34m\u001b[0m\u001b[0;34m\u001b[0m\u001b[0m\n\u001b[1;32m     44\u001b[0m     \u001b[0;32mfor\u001b[0m \u001b[0mi\u001b[0m \u001b[0;32min\u001b[0m \u001b[0mrange\u001b[0m\u001b[0;34m(\u001b[0m\u001b[0;36m2\u001b[0m\u001b[0;34m,\u001b[0m \u001b[0mlen\u001b[0m\u001b[0;34m(\u001b[0m\u001b[0mpolinomio\u001b[0m\u001b[0;34m)\u001b[0m\u001b[0;34m)\u001b[0m\u001b[0;34m:\u001b[0m\u001b[0;34m\u001b[0m\u001b[0m\n\u001b[0;32m---> 45\u001b[0;31m         \u001b[0mtabla\u001b[0m\u001b[0;34m.\u001b[0m\u001b[0mappend\u001b[0m\u001b[0;34m(\u001b[0m\u001b[0mfila\u001b[0m\u001b[0;34m(\u001b[0m\u001b[0mtabla\u001b[0m\u001b[0;34m,\u001b[0m \u001b[0mi\u001b[0m\u001b[0;34m)\u001b[0m\u001b[0;34m)\u001b[0m\u001b[0;34m\u001b[0m\u001b[0m\n\u001b[0m\u001b[1;32m     46\u001b[0m \u001b[0;34m\u001b[0m\u001b[0m\n\u001b[1;32m     47\u001b[0m     \u001b[0;31m# Se agrega al inicio de cada fila el grado del polinomio asociado\u001b[0m\u001b[0;34m\u001b[0m\u001b[0;34m\u001b[0m\u001b[0m\n",
        "\u001b[0;32m<ipython-input-7-063dbe015dc2>\u001b[0m in \u001b[0;36mfila\u001b[0;34m(tabla, i)\u001b[0m\n\u001b[1;32m     15\u001b[0m             temp.append((tabla[i - 1][0]*tabla[i - 2][j + 1] -\n\u001b[1;32m     16\u001b[0m                          tabla[i - 1][j + 1]*tabla[i - 2][0]) /\n\u001b[0;32m---> 17\u001b[0;31m                          tabla[i - 1][0])\n\u001b[0m\u001b[1;32m     18\u001b[0m         \u001b[0;31m# Se agrega un 0 en cada fila, por los que no se pueden calcular\u001b[0m\u001b[0;34m\u001b[0m\u001b[0;34m\u001b[0m\u001b[0m\n\u001b[1;32m     19\u001b[0m         \u001b[0mtemp\u001b[0m\u001b[0;34m.\u001b[0m\u001b[0mappend\u001b[0m\u001b[0;34m(\u001b[0m\u001b[0;36m0\u001b[0m\u001b[0;34m)\u001b[0m\u001b[0;34m\u001b[0m\u001b[0m\n",
        "\u001b[0;31mZeroDivisionError\u001b[0m: integer division or modulo by zero"
       ]
      }
     ],
     "prompt_number": 8
    },
    {
     "cell_type": "code",
     "collapsed": false,
     "input": [
      "A = [1, 0, -3, 2]\n",
      "print roots(A)\n",
      "routh_hurwitz(A)"
     ],
     "language": "python",
     "metadata": {},
     "outputs": [
      {
       "output_type": "stream",
       "stream": "stdout",
       "text": [
        "[-2.          1.00000002  0.99999998]\n"
       ]
      },
      {
       "ename": "ZeroDivisionError",
       "evalue": "integer division or modulo by zero",
       "output_type": "pyerr",
       "traceback": [
        "\u001b[0;31m---------------------------------------------------------------------------\u001b[0m\n\u001b[0;31mZeroDivisionError\u001b[0m                         Traceback (most recent call last)",
        "\u001b[0;32m<ipython-input-9-c68df5e86af6>\u001b[0m in \u001b[0;36m<module>\u001b[0;34m()\u001b[0m\n\u001b[1;32m      1\u001b[0m \u001b[0mA\u001b[0m \u001b[0;34m=\u001b[0m \u001b[0;34m[\u001b[0m\u001b[0;36m1\u001b[0m\u001b[0;34m,\u001b[0m \u001b[0;36m0\u001b[0m\u001b[0;34m,\u001b[0m \u001b[0;34m-\u001b[0m\u001b[0;36m3\u001b[0m\u001b[0;34m,\u001b[0m \u001b[0;36m2\u001b[0m\u001b[0;34m]\u001b[0m\u001b[0;34m\u001b[0m\u001b[0m\n\u001b[1;32m      2\u001b[0m \u001b[0;32mprint\u001b[0m \u001b[0mroots\u001b[0m\u001b[0;34m(\u001b[0m\u001b[0mA\u001b[0m\u001b[0;34m)\u001b[0m\u001b[0;34m\u001b[0m\u001b[0m\n\u001b[0;32m----> 3\u001b[0;31m \u001b[0mrouth_hurwitz\u001b[0m\u001b[0;34m(\u001b[0m\u001b[0mA\u001b[0m\u001b[0;34m)\u001b[0m\u001b[0;34m\u001b[0m\u001b[0m\n\u001b[0m",
        "\u001b[0;32m<ipython-input-7-063dbe015dc2>\u001b[0m in \u001b[0;36mrouth_hurwitz\u001b[0;34m(polinomio)\u001b[0m\n\u001b[1;32m     43\u001b[0m     \u001b[0;31m# Se itera atraves de las filas de la tabla y se calculan\u001b[0m\u001b[0;34m\u001b[0m\u001b[0;34m\u001b[0m\u001b[0m\n\u001b[1;32m     44\u001b[0m     \u001b[0;32mfor\u001b[0m \u001b[0mi\u001b[0m \u001b[0;32min\u001b[0m \u001b[0mrange\u001b[0m\u001b[0;34m(\u001b[0m\u001b[0;36m2\u001b[0m\u001b[0;34m,\u001b[0m \u001b[0mlen\u001b[0m\u001b[0;34m(\u001b[0m\u001b[0mpolinomio\u001b[0m\u001b[0;34m)\u001b[0m\u001b[0;34m)\u001b[0m\u001b[0;34m:\u001b[0m\u001b[0;34m\u001b[0m\u001b[0m\n\u001b[0;32m---> 45\u001b[0;31m         \u001b[0mtabla\u001b[0m\u001b[0;34m.\u001b[0m\u001b[0mappend\u001b[0m\u001b[0;34m(\u001b[0m\u001b[0mfila\u001b[0m\u001b[0;34m(\u001b[0m\u001b[0mtabla\u001b[0m\u001b[0;34m,\u001b[0m \u001b[0mi\u001b[0m\u001b[0;34m)\u001b[0m\u001b[0;34m)\u001b[0m\u001b[0;34m\u001b[0m\u001b[0m\n\u001b[0m\u001b[1;32m     46\u001b[0m \u001b[0;34m\u001b[0m\u001b[0m\n\u001b[1;32m     47\u001b[0m     \u001b[0;31m# Se agrega al inicio de cada fila el grado del polinomio asociado\u001b[0m\u001b[0;34m\u001b[0m\u001b[0;34m\u001b[0m\u001b[0m\n",
        "\u001b[0;32m<ipython-input-7-063dbe015dc2>\u001b[0m in \u001b[0;36mfila\u001b[0;34m(tabla, i)\u001b[0m\n\u001b[1;32m     15\u001b[0m             temp.append((tabla[i - 1][0]*tabla[i - 2][j + 1] -\n\u001b[1;32m     16\u001b[0m                          tabla[i - 1][j + 1]*tabla[i - 2][0]) /\n\u001b[0;32m---> 17\u001b[0;31m                          tabla[i - 1][0])\n\u001b[0m\u001b[1;32m     18\u001b[0m         \u001b[0;31m# Se agrega un 0 en cada fila, por los que no se pueden calcular\u001b[0m\u001b[0;34m\u001b[0m\u001b[0;34m\u001b[0m\u001b[0m\n\u001b[1;32m     19\u001b[0m         \u001b[0mtemp\u001b[0m\u001b[0;34m.\u001b[0m\u001b[0mappend\u001b[0m\u001b[0;34m(\u001b[0m\u001b[0;36m0\u001b[0m\u001b[0;34m)\u001b[0m\u001b[0;34m\u001b[0m\u001b[0m\n",
        "\u001b[0;31mZeroDivisionError\u001b[0m: integer division or modulo by zero"
       ]
      }
     ],
     "prompt_number": 9
    },
    {
     "cell_type": "code",
     "collapsed": false,
     "input": [
      "A = [1, 2, 24, 48, -25, -50]\n",
      "print roots(A)\n",
      "routh_hurwitz(A)"
     ],
     "language": "python",
     "metadata": {},
     "outputs": [
      {
       "output_type": "stream",
       "stream": "stdout",
       "text": [
        "[ -1.11022302e-16+5.j  -1.11022302e-16-5.j   1.00000000e+00+0.j\n",
        "  -2.00000000e+00+0.j  -1.00000000e+00+0.j]\n"
       ]
      },
      {
       "ename": "ZeroDivisionError",
       "evalue": "integer division or modulo by zero",
       "output_type": "pyerr",
       "traceback": [
        "\u001b[0;31m---------------------------------------------------------------------------\u001b[0m\n\u001b[0;31mZeroDivisionError\u001b[0m                         Traceback (most recent call last)",
        "\u001b[0;32m<ipython-input-10-405f4d146c2a>\u001b[0m in \u001b[0;36m<module>\u001b[0;34m()\u001b[0m\n\u001b[1;32m      1\u001b[0m \u001b[0mA\u001b[0m \u001b[0;34m=\u001b[0m \u001b[0;34m[\u001b[0m\u001b[0;36m1\u001b[0m\u001b[0;34m,\u001b[0m \u001b[0;36m2\u001b[0m\u001b[0;34m,\u001b[0m \u001b[0;36m24\u001b[0m\u001b[0;34m,\u001b[0m \u001b[0;36m48\u001b[0m\u001b[0;34m,\u001b[0m \u001b[0;34m-\u001b[0m\u001b[0;36m25\u001b[0m\u001b[0;34m,\u001b[0m \u001b[0;34m-\u001b[0m\u001b[0;36m50\u001b[0m\u001b[0;34m]\u001b[0m\u001b[0;34m\u001b[0m\u001b[0m\n\u001b[1;32m      2\u001b[0m \u001b[0;32mprint\u001b[0m \u001b[0mroots\u001b[0m\u001b[0;34m(\u001b[0m\u001b[0mA\u001b[0m\u001b[0;34m)\u001b[0m\u001b[0;34m\u001b[0m\u001b[0m\n\u001b[0;32m----> 3\u001b[0;31m \u001b[0mrouth_hurwitz\u001b[0m\u001b[0;34m(\u001b[0m\u001b[0mA\u001b[0m\u001b[0;34m)\u001b[0m\u001b[0;34m\u001b[0m\u001b[0m\n\u001b[0m",
        "\u001b[0;32m<ipython-input-7-063dbe015dc2>\u001b[0m in \u001b[0;36mrouth_hurwitz\u001b[0;34m(polinomio)\u001b[0m\n\u001b[1;32m     43\u001b[0m     \u001b[0;31m# Se itera atraves de las filas de la tabla y se calculan\u001b[0m\u001b[0;34m\u001b[0m\u001b[0;34m\u001b[0m\u001b[0m\n\u001b[1;32m     44\u001b[0m     \u001b[0;32mfor\u001b[0m \u001b[0mi\u001b[0m \u001b[0;32min\u001b[0m \u001b[0mrange\u001b[0m\u001b[0;34m(\u001b[0m\u001b[0;36m2\u001b[0m\u001b[0;34m,\u001b[0m \u001b[0mlen\u001b[0m\u001b[0;34m(\u001b[0m\u001b[0mpolinomio\u001b[0m\u001b[0;34m)\u001b[0m\u001b[0;34m)\u001b[0m\u001b[0;34m:\u001b[0m\u001b[0;34m\u001b[0m\u001b[0m\n\u001b[0;32m---> 45\u001b[0;31m         \u001b[0mtabla\u001b[0m\u001b[0;34m.\u001b[0m\u001b[0mappend\u001b[0m\u001b[0;34m(\u001b[0m\u001b[0mfila\u001b[0m\u001b[0;34m(\u001b[0m\u001b[0mtabla\u001b[0m\u001b[0;34m,\u001b[0m \u001b[0mi\u001b[0m\u001b[0;34m)\u001b[0m\u001b[0;34m)\u001b[0m\u001b[0;34m\u001b[0m\u001b[0m\n\u001b[0m\u001b[1;32m     46\u001b[0m \u001b[0;34m\u001b[0m\u001b[0m\n\u001b[1;32m     47\u001b[0m     \u001b[0;31m# Se agrega al inicio de cada fila el grado del polinomio asociado\u001b[0m\u001b[0;34m\u001b[0m\u001b[0;34m\u001b[0m\u001b[0m\n",
        "\u001b[0;32m<ipython-input-7-063dbe015dc2>\u001b[0m in \u001b[0;36mfila\u001b[0;34m(tabla, i)\u001b[0m\n\u001b[1;32m     15\u001b[0m             temp.append((tabla[i - 1][0]*tabla[i - 2][j + 1] -\n\u001b[1;32m     16\u001b[0m                          tabla[i - 1][j + 1]*tabla[i - 2][0]) /\n\u001b[0;32m---> 17\u001b[0;31m                          tabla[i - 1][0])\n\u001b[0m\u001b[1;32m     18\u001b[0m         \u001b[0;31m# Se agrega un 0 en cada fila, por los que no se pueden calcular\u001b[0m\u001b[0;34m\u001b[0m\u001b[0;34m\u001b[0m\u001b[0m\n\u001b[1;32m     19\u001b[0m         \u001b[0mtemp\u001b[0m\u001b[0;34m.\u001b[0m\u001b[0mappend\u001b[0m\u001b[0;34m(\u001b[0m\u001b[0;36m0\u001b[0m\u001b[0;34m)\u001b[0m\u001b[0;34m\u001b[0m\u001b[0m\n",
        "\u001b[0;31mZeroDivisionError\u001b[0m: integer division or modulo by zero"
       ]
      }
     ],
     "prompt_number": 10
    },
    {
     "cell_type": "code",
     "collapsed": false,
     "input": [
      "A = [1, 2, 3, 4, 5]\n",
      "print roots(A)\n",
      "routh_hurwitz(A)"
     ],
     "language": "python",
     "metadata": {},
     "outputs": [
      {
       "output_type": "stream",
       "stream": "stdout",
       "text": [
        "[ 0.28781548+1.41609308j  0.28781548-1.41609308j -1.28781548+0.85789676j\n",
        " -1.28781548-0.85789676j]\n",
        "----  --  -  -\n",
        "s**4   1  3  5\n",
        "s**3   2  4  0\n",
        "s**2   1  5  0\n",
        "s**1  -6  0  0\n",
        "s**0   5  0  0\n",
        "----  --  -  -\n"
       ]
      }
     ],
     "prompt_number": 11
    },
    {
     "cell_type": "code",
     "collapsed": false,
     "input": [],
     "language": "python",
     "metadata": {},
     "outputs": [],
     "prompt_number": 11
    },
    {
     "cell_type": "code",
     "collapsed": false,
     "input": [
      "zeros(1)"
     ],
     "language": "python",
     "metadata": {},
     "outputs": [
      {
       "metadata": {},
       "output_type": "pyout",
       "prompt_number": 12,
       "text": [
        "array([ 0.])"
       ]
      }
     ],
     "prompt_number": 12
    },
    {
     "cell_type": "code",
     "collapsed": false,
     "input": [
      "zeros(10)"
     ],
     "language": "python",
     "metadata": {},
     "outputs": [
      {
       "metadata": {},
       "output_type": "pyout",
       "prompt_number": 13,
       "text": [
        "array([ 0.,  0.,  0.,  0.,  0.,  0.,  0.,  0.,  0.,  0.])"
       ]
      }
     ],
     "prompt_number": 13
    },
    {
     "cell_type": "code",
     "collapsed": false,
     "input": [
      "[0, 0, 0, 0, 0] == zeros(5)"
     ],
     "language": "python",
     "metadata": {},
     "outputs": [
      {
       "metadata": {},
       "output_type": "pyout",
       "prompt_number": 14,
       "text": [
        "array([ True,  True,  True,  True,  True], dtype=bool)"
       ]
      }
     ],
     "prompt_number": 14
    },
    {
     "cell_type": "code",
     "collapsed": false,
     "input": [
      "if ([0, 0, 0, 0, 0] == zeros(5)).all():\n",
      "    print \"hola\""
     ],
     "language": "python",
     "metadata": {},
     "outputs": [
      {
       "output_type": "stream",
       "stream": "stdout",
       "text": [
        "hola\n"
       ]
      }
     ],
     "prompt_number": 16
    },
    {
     "cell_type": "code",
     "collapsed": false,
     "input": [
      "range(0, 5, 2)"
     ],
     "language": "python",
     "metadata": {},
     "outputs": [
      {
       "metadata": {},
       "output_type": "pyout",
       "prompt_number": 21,
       "text": [
        "[0, 2, 4]"
       ]
      }
     ],
     "prompt_number": 21
    },
    {
     "cell_type": "code",
     "collapsed": false,
     "input": [
      "grado = 7\n",
      "linea = 6\n",
      "exponentes = [linea - i for i in range(0, linea + 1, 2)]\n",
      "while ceil(grado/2.0) != len(exponentes):\n",
      "    exponentes.append(0)\n",
      "exponentes"
     ],
     "language": "python",
     "metadata": {},
     "outputs": [
      {
       "metadata": {},
       "output_type": "pyout",
       "prompt_number": 60,
       "text": [
        "[6, 4, 2, 0]"
       ]
      }
     ],
     "prompt_number": 60
    },
    {
     "cell_type": "code",
     "collapsed": false,
     "input": [
      "ceil(grado/2.0)"
     ],
     "language": "python",
     "metadata": {},
     "outputs": [
      {
       "metadata": {},
       "output_type": "pyout",
       "prompt_number": 52,
       "text": [
        "3.0"
       ]
      }
     ],
     "prompt_number": 52
    },
    {
     "cell_type": "code",
     "collapsed": false,
     "input": [
      "exponentes"
     ],
     "language": "python",
     "metadata": {},
     "outputs": [
      {
       "metadata": {},
       "output_type": "pyout",
       "prompt_number": 54,
       "text": [
        "[3, 1, 0]"
       ]
      }
     ],
     "prompt_number": 54
    },
    {
     "cell_type": "code",
     "collapsed": false,
     "input": [],
     "language": "python",
     "metadata": {},
     "outputs": []
    }
   ],
   "metadata": {}
  }
 ]
}