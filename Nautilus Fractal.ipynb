{
 "metadata": {
  "name": ""
 },
 "nbformat": 3,
 "nbformat_minor": 0,
 "worksheets": [
  {
   "cells": [
    {
     "cell_type": "code",
     "collapsed": false,
     "input": [
      "phi = (1+sqrt(5))/2"
     ],
     "language": "python",
     "metadata": {},
     "outputs": [],
     "prompt_number": 7
    },
    {
     "cell_type": "code",
     "collapsed": false,
     "input": [
      "# v (1, 0)            -> (1, 1)\n",
      "# h (1, phi-1)        -> (phi, phi-1)\n",
      "# v (2*phi-2, phi-1)  -> (2*phi-2, 1)\n",
      "# h (1, -2*phi+4)     -> (2*phi-2, -2*phi+4)\n",
      "# v (-3*phi+6, phi-1) -> (-3*phi+6, -2*phi+4)\n",
      "\n",
      "plot([1, 1],               [0, 1],               color=\"Black\")\n",
      "plot([1, phi],             [phi-1, phi-1],       color=\"Black\")\n",
      "plot([2*phi-2, 2*phi-2],   [phi-1, 1],           color=\"Black\")\n",
      "plot([1, 2*phi-2],         [-2*phi+4, -2*phi+4], color=\"Black\")\n",
      "plot([-3*phi+6, -3*phi+6], [phi-1, -2*phi+4],    color=\"Black\")\n",
      "\n",
      "# (0, 1) -> (1, 0) -> (phi, phi-1) -> (2*phi-2, 1) -> (1, -2*phi+4) -> (-3*phi+6, phi-1)\n",
      "\n",
      "xlim(0, phi)\n",
      "ylim(0, 1)\n",
      "\n",
      "xticks([])\n",
      "yticks([]);"
     ],
     "language": "python",
     "metadata": {},
     "outputs": [
      {
       "metadata": {},
       "output_type": "display_data",
       "png": "[encoded data removed]",
       "text": [
        "<matplotlib.figure.Figure at 0x104350990>"
       ]
      }
     ],
     "prompt_number": 27
    },
    {
     "cell_type": "code",
     "collapsed": false,
     "input": [
      "from sympy import var, latex, simplify, collect, expand, solve, init_printing\n",
      "var(\"x, y\")\n",
      "init_printing()"
     ],
     "language": "python",
     "metadata": {},
     "outputs": [],
     "prompt_number": 36
    },
    {
     "cell_type": "code",
     "collapsed": false,
     "input": [
      "-2*(x-2) - x - 1"
     ],
     "language": "python",
     "metadata": {},
     "outputs": [
      {
       "latex": [
        "$$- 3 x + 3$$"
       ],
       "metadata": {},
       "output_type": "pyout",
       "png": "[encoded data removed]",
       "prompt_number": 10,
       "text": [
        "-3\u22c5x + 3"
       ]
      }
     ],
     "prompt_number": 10
    },
    {
     "cell_type": "code",
     "collapsed": false,
     "input": [
      "-2*x + 4 - (x - 1) + 1"
     ],
     "language": "python",
     "metadata": {},
     "outputs": [
      {
       "latex": [
        "$$- 3 x + 6$$"
       ],
       "metadata": {},
       "output_type": "pyout",
       "png": "[encoded data removed]",
       "prompt_number": 22,
       "text": [
        "-3\u22c5x + 6"
       ]
      }
     ],
     "prompt_number": 22
    },
    {
     "cell_type": "code",
     "collapsed": false,
     "input": [
      "solve((x - 1)**2 + (y - 1)**2 = 1)"
     ],
     "language": "python",
     "metadata": {},
     "outputs": [
      {
       "ename": "SyntaxError",
       "evalue": "keyword can't be an expression (<ipython-input-33-212f94961bb6>, line 1)",
       "output_type": "pyerr",
       "traceback": [
        "\u001b[0;36m  File \u001b[0;32m\"<ipython-input-33-212f94961bb6>\"\u001b[0;36m, line \u001b[0;32m1\u001b[0m\n\u001b[0;31m    solve((x - 1)**2 + (y - 1)**2 = 1)\u001b[0m\n\u001b[0;31mSyntaxError\u001b[0m\u001b[0;31m:\u001b[0m keyword can't be an expression\n"
       ]
      }
     ],
     "prompt_number": 33
    },
    {
     "cell_type": "code",
     "collapsed": false,
     "input": [
      "((y-1)**2 - 1)**(1/2) + 1"
     ],
     "language": "python",
     "metadata": {},
     "outputs": [
      {
       "latex": [
        "$$2$$"
       ],
       "metadata": {},
       "output_type": "pyout",
       "png": "[encoded data removed]",
       "prompt_number": 37,
       "text": [
        "2"
       ]
      }
     ],
     "prompt_number": 37
    },
    {
     "cell_type": "code",
     "collapsed": false,
     "input": [],
     "language": "python",
     "metadata": {},
     "outputs": []
    }
   ],
   "metadata": {}
  }
 ]
}