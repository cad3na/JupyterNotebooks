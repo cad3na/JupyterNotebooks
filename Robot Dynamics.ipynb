{
 "metadata": {
  "name": ""
 },
 "nbformat": 3,
 "nbformat_minor": 0,
 "worksheets": [
  {
   "cells": [
    {
     "cell_type": "code",
     "collapsed": false,
     "input": [
      "from IPython.display import display\n",
      "\n",
      "from sympy.interactive import printing\n",
      "printing.init_printing()\n",
      "\n",
      "from sympy import var, simplify, collect, expand, solve, sin, cos, Matrix, diff, Function\n",
      "\n",
      "var(\"m_1, v_1, I_1, omega_1, l_1, l_2, t\")\n",
      "q_1 = Function(\"q_1\")(t)\n",
      "q_2 = Function(\"q_2\")(t)"
     ],
     "language": "python",
     "metadata": {},
     "outputs": [],
     "prompt_number": 80
    },
    {
     "cell_type": "code",
     "collapsed": false,
     "input": [
      "def position(x, y):\n",
      "    \"\"\"\n",
      "    Takes the x and y coordinates of a body, and returns\n",
      "    a sympy Matrix with the position.\n",
      "    \"\"\"\n",
      "    return Matrix([x, y])"
     ],
     "language": "python",
     "metadata": {},
     "outputs": [],
     "prompt_number": 69
    },
    {
     "cell_type": "code",
     "collapsed": false,
     "input": [
      "def velocity(r):\n",
      "    \"\"\"\n",
      "    Takes the position of a body in the form of a sympy\n",
      "    Matrix and returns it's velocity.\n",
      "    \"\"\"\n",
      "    return r.diff(t)"
     ],
     "language": "python",
     "metadata": {},
     "outputs": [],
     "prompt_number": 103
    },
    {
     "cell_type": "code",
     "collapsed": false,
     "input": [
      "def square_velocity(v):\n",
      "    \"\"\"\n",
      "    Takes the velocity of a body in the form of a sympy\n",
      "    Matrix and returns it's square.\n",
      "    \"\"\"\n",
      "    return simplify((v.T*v)[0])"
     ],
     "language": "python",
     "metadata": {},
     "outputs": [],
     "prompt_number": 66
    },
    {
     "cell_type": "code",
     "collapsed": false,
     "input": [
      "def lagrange_function(K, U):\n",
      "    \"\"\"\n",
      "    Takes the kinetic and potential energy of a system\n",
      "    (K and U) and returns the Langrange Function of the\n",
      "    system.\n",
      "    \"\"\"\n",
      "    return K - U"
     ],
     "language": "python",
     "metadata": {},
     "outputs": [],
     "prompt_number": 1
    },
    {
     "cell_type": "code",
     "collapsed": false,
     "input": [
      "def kinetic_energy(m, v2, I = 0, om = 0):\n",
      "    \"\"\"\n",
      "    Takes the mass (m), squared velocity (v2), Inertial\n",
      "    moment (I), and angular velocity (om) of a body, and\n",
      "    returns the kinetic energy of the body.\n",
      "    \"\"\"\n",
      "    return (m*v2)/2 + (I*om**2)/2"
     ],
     "language": "python",
     "metadata": {},
     "outputs": [],
     "prompt_number": 112
    },
    {
     "cell_type": "code",
     "collapsed": false,
     "input": [
      "def potential_energy(m, h):\n",
      "    \"\"\"\n",
      "    Takes the mass (m), and height (h) of a body and\n",
      "    returns the potential energy of the body (this\n",
      "    assumes that the acceleration due to the gravitational\n",
      "    forces is 9.81 m/s^2).\n",
      "    \"\"\"\n",
      "    g = 9.81\n",
      "    return (m*g*h)"
     ],
     "language": "python",
     "metadata": {},
     "outputs": [],
     "prompt_number": 6
    },
    {
     "cell_type": "code",
     "collapsed": false,
     "input": [
      "K_1 = kinetic_energy(m=m_1, v=v_1, I=I_1, om=omega_1)"
     ],
     "language": "python",
     "metadata": {},
     "outputs": [],
     "prompt_number": 9
    },
    {
     "cell_type": "code",
     "collapsed": false,
     "input": [
      "K_1"
     ],
     "language": "python",
     "metadata": {},
     "outputs": [
      {
       "latex": [
        "$$\\frac{I_{1} \\omega_{1}^{2}}{2} + \\frac{m_{1} v_{1}^{2}}{2}$$"
       ],
       "metadata": {},
       "output_type": "pyout",
       "prompt_number": 10,
       "text": [
        "     2        2\n",
        "I\u2081\u22c5\u03c9\u2081    m\u2081\u22c5v\u2081 \n",
        "\u2500\u2500\u2500\u2500\u2500\u2500 + \u2500\u2500\u2500\u2500\u2500\u2500\n",
        "  2        2   "
       ]
      }
     ],
     "prompt_number": 10
    },
    {
     "cell_type": "code",
     "collapsed": false,
     "input": [
      "U_1 = potential_energy(m=m_1, h=0)"
     ],
     "language": "python",
     "metadata": {},
     "outputs": [],
     "prompt_number": 11
    },
    {
     "cell_type": "code",
     "collapsed": false,
     "input": [
      "U_1"
     ],
     "language": "python",
     "metadata": {},
     "outputs": [
      {
       "latex": [
        "$$0$$"
       ],
       "metadata": {},
       "output_type": "pyout",
       "prompt_number": 12,
       "text": [
        "0"
       ]
      }
     ],
     "prompt_number": 12
    },
    {
     "cell_type": "code",
     "collapsed": false,
     "input": [
      "lagrange_function(k_1, U_1)"
     ],
     "language": "python",
     "metadata": {},
     "outputs": [
      {
       "latex": [
        "$$\\frac{I_{1} \\omega_{1}^{2}}{2} + \\frac{m_{1} v_{1}^{2}}{2}$$"
       ],
       "metadata": {},
       "output_type": "pyout",
       "prompt_number": 13,
       "text": [
        "     2        2\n",
        "I\u2081\u22c5\u03c9\u2081    m\u2081\u22c5v\u2081 \n",
        "\u2500\u2500\u2500\u2500\u2500\u2500 + \u2500\u2500\u2500\u2500\u2500\u2500\n",
        "  2        2   "
       ]
      }
     ],
     "prompt_number": 13
    },
    {
     "cell_type": "code",
     "collapsed": false,
     "input": [
      "r_1 = position(l_1*cos(q_1)/2, l_1*sin(q_1)/2)"
     ],
     "language": "python",
     "metadata": {},
     "outputs": [],
     "prompt_number": 104
    },
    {
     "cell_type": "code",
     "collapsed": false,
     "input": [
      "r_1"
     ],
     "language": "python",
     "metadata": {},
     "outputs": [
      {
       "latex": [
        "$$\\left[\\begin{smallmatrix}{}\\frac{l_{1}}{2} \\cos{\\left (\\operatorname{q\\_1}{\\left (t \\right )} \\right )}\\\\\\frac{l_{1}}{2} \\sin{\\left (\\operatorname{q\\_1}{\\left (t \\right )} \\right )}\\end{smallmatrix}\\right]$$"
       ],
       "metadata": {},
       "output_type": "pyout",
       "prompt_number": 105,
       "text": [
        "\u23a1l\u2081\u22c5cos(q\u2081(t))\u23a4\n",
        "\u23a2\u2500\u2500\u2500\u2500\u2500\u2500\u2500\u2500\u2500\u2500\u2500\u2500\u2500\u23a5\n",
        "\u23a2      2      \u23a5\n",
        "\u23a2             \u23a5\n",
        "\u23a2l\u2081\u22c5sin(q\u2081(t))\u23a5\n",
        "\u23a2\u2500\u2500\u2500\u2500\u2500\u2500\u2500\u2500\u2500\u2500\u2500\u2500\u2500\u23a5\n",
        "\u23a3      2      \u23a6"
       ]
      }
     ],
     "prompt_number": 105
    },
    {
     "cell_type": "code",
     "collapsed": false,
     "input": [
      "v_1 = velocity(r_1)"
     ],
     "language": "python",
     "metadata": {},
     "outputs": [],
     "prompt_number": 106
    },
    {
     "cell_type": "code",
     "collapsed": false,
     "input": [
      "v_1"
     ],
     "language": "python",
     "metadata": {},
     "outputs": [
      {
       "latex": [
        "$$\\left[\\begin{smallmatrix}{}- \\frac{l_{1}}{2} \\sin{\\left (\\operatorname{q\\_1}{\\left (t \\right )} \\right )} \\frac{d}{d t} \\operatorname{q\\_1}{\\left (t \\right )}\\\\\\frac{l_{1}}{2} \\cos{\\left (\\operatorname{q\\_1}{\\left (t \\right )} \\right )} \\frac{d}{d t} \\operatorname{q\\_1}{\\left (t \\right )}\\end{smallmatrix}\\right]$$"
       ],
       "metadata": {},
       "output_type": "pyout",
       "prompt_number": 107,
       "text": [
        "\u23a1               d         \u23a4\n",
        "\u23a2-l\u2081\u22c5sin(q\u2081(t))\u22c5\u2500\u2500(q\u2081(t)) \u23a5\n",
        "\u23a2               dt        \u23a5\n",
        "\u23a2\u2500\u2500\u2500\u2500\u2500\u2500\u2500\u2500\u2500\u2500\u2500\u2500\u2500\u2500\u2500\u2500\u2500\u2500\u2500\u2500\u2500\u2500\u2500\u2500\u2500\u23a5\n",
        "\u23a2            2            \u23a5\n",
        "\u23a2                         \u23a5\n",
        "\u23a2               d         \u23a5\n",
        "\u23a2 l\u2081\u22c5cos(q\u2081(t))\u22c5\u2500\u2500(q\u2081(t)) \u23a5\n",
        "\u23a2               dt        \u23a5\n",
        "\u23a2 \u2500\u2500\u2500\u2500\u2500\u2500\u2500\u2500\u2500\u2500\u2500\u2500\u2500\u2500\u2500\u2500\u2500\u2500\u2500\u2500\u2500\u2500\u2500 \u23a5\n",
        "\u23a3            2            \u23a6"
       ]
      }
     ],
     "prompt_number": 107
    },
    {
     "cell_type": "code",
     "collapsed": false,
     "input": [
      "v_12 = square_velocity(r_1)"
     ],
     "language": "python",
     "metadata": {},
     "outputs": [],
     "prompt_number": 109
    },
    {
     "cell_type": "code",
     "collapsed": false,
     "input": [
      "k_1 = kinetic_energy(m_1, v_12)"
     ],
     "language": "python",
     "metadata": {},
     "outputs": [],
     "prompt_number": 114
    },
    {
     "cell_type": "code",
     "collapsed": false,
     "input": [
      "k_1"
     ],
     "language": "python",
     "metadata": {},
     "outputs": [
      {
       "latex": [
        "$$\\frac{l_{1}^{2} m_{1}}{8}$$"
       ],
       "metadata": {},
       "output_type": "pyout",
       "prompt_number": 115,
       "text": [
        "  2   \n",
        "l\u2081 \u22c5m\u2081\n",
        "\u2500\u2500\u2500\u2500\u2500\u2500\n",
        "  8   "
       ]
      }
     ],
     "prompt_number": 115
    },
    {
     "cell_type": "code",
     "collapsed": false,
     "input": [
      "L = lagrange_function(k_1, 0)"
     ],
     "language": "python",
     "metadata": {},
     "outputs": [],
     "prompt_number": 116
    },
    {
     "cell_type": "code",
     "collapsed": false,
     "input": [
      "L"
     ],
     "language": "python",
     "metadata": {},
     "outputs": [
      {
       "latex": [
        "$$\\frac{l_{1}^{2} m_{1}}{8}$$"
       ],
       "metadata": {},
       "output_type": "pyout",
       "prompt_number": 117,
       "text": [
        "  2   \n",
        "l\u2081 \u22c5m\u2081\n",
        "\u2500\u2500\u2500\u2500\u2500\u2500\n",
        "  8   "
       ]
      }
     ],
     "prompt_number": 117
    },
    {
     "cell_type": "code",
     "collapsed": false,
     "input": [],
     "language": "python",
     "metadata": {},
     "outputs": []
    }
   ],
   "metadata": {}
  }
 ]
}