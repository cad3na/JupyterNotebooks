{
 "metadata": {
  "name": "Prueba de polos dominantes"
 },
 "nbformat": 3,
 "nbformat_minor": 0,
 "worksheets": [
  {
   "cells": [
    {
     "cell_type": "code",
     "collapsed": false,
     "input": [
      "%load_ext sympy.interactive.ipythonprinting\n",
      "from sympy import var, latex, simplify, collect, expand\n",
      "var(\"s\")"
     ],
     "language": "python",
     "metadata": {},
     "outputs": [
      {
       "latex": [
        "$$s$$"
       ],
       "output_type": "pyout",
       "png": "[encoded data removed]",
       "prompt_number": 1,
       "text": [
        "s"
       ]
      }
     ],
     "prompt_number": 1
    },
    {
     "cell_type": "code",
     "collapsed": false,
     "input": [
      "G = (1.06)/(s*(s+1)*(s+2))\n",
      "Gf = simplify(expand(G/(1+G)))"
     ],
     "language": "python",
     "metadata": {},
     "outputs": [],
     "prompt_number": 7
    },
    {
     "cell_type": "code",
     "collapsed": false,
     "input": [
      "Gf"
     ],
     "language": "python",
     "metadata": {},
     "outputs": [
      {
       "latex": [
        "$$\\frac{1.06 s^{2} + 3.18 s + 2.12}{1.0 s^{5} + 6.0 s^{4} + 13.0 s^{3} + 13.06 s^{2} + 7.18 s + 2.12}$$"
       ],
       "output_type": "pyout",
       "png": "[encoded data removed]",
       "prompt_number": 8,
       "text": [
        "                    2                               \n",
        "              1.06\u22c5s  + 3.18\u22c5s + 2.12               \n",
        "\u2500\u2500\u2500\u2500\u2500\u2500\u2500\u2500\u2500\u2500\u2500\u2500\u2500\u2500\u2500\u2500\u2500\u2500\u2500\u2500\u2500\u2500\u2500\u2500\u2500\u2500\u2500\u2500\u2500\u2500\u2500\u2500\u2500\u2500\u2500\u2500\u2500\u2500\u2500\u2500\u2500\u2500\u2500\u2500\u2500\u2500\u2500\u2500\u2500\u2500\u2500\u2500\n",
        "     5        4         3          2                \n",
        "1.0\u22c5s  + 6.0\u22c5s  + 13.0\u22c5s  + 13.06\u22c5s  + 7.18\u22c5s + 2.12"
       ]
      }
     ],
     "prompt_number": 8
    },
    {
     "cell_type": "code",
     "collapsed": false,
     "input": [
      "roots([1, 6, 13, 13.06, 7.18, 2.12])"
     ],
     "language": "python",
     "metadata": {},
     "outputs": [
      {
       "output_type": "pyout",
       "prompt_number": 10,
       "text": [
        "[-2.33860677+0.j         -2.00000000+0.j         -1.00000000+0.j\n",
        "        -0.33069661+0.58643079j -0.33069661-0.58643079j]        "
       ]
      }
     ],
     "prompt_number": 10
    },
    {
     "cell_type": "code",
     "collapsed": false,
     "input": [],
     "language": "python",
     "metadata": {},
     "outputs": []
    }
   ],
   "metadata": {}
  }
 ]
}