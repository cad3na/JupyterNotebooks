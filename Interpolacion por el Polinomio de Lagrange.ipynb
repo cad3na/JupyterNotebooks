{
 "metadata": {
  "name": "",
  "signature": "sha256:c2f920172b84427ea0dd2a53e7f51f67aa87992bbe3bd31163af8c463845bb30"
 },
 "nbformat": 3,
 "nbformat_minor": 0,
 "worksheets": [
  {
   "cells": [
    {
     "cell_type": "code",
     "collapsed": false,
     "input": [
      "def funcmul(funcs):\n",
      "    if len(funcs) > 1:\n",
      "        return lambda x: funcs[0](x)*funcmul(funcs[1:])(x)\n",
      "    else:\n",
      "        return funcs[0]\n",
      "    \n",
      "def funcsum(funcs):\n",
      "    if len(funcs) > 1:\n",
      "        return lambda x: funcs[0](x) + funcsum(funcs[1:])(x)\n",
      "    else:\n",
      "        return funcs[0]\n",
      "            \n",
      "def lagrange(xs, i):\n",
      "    L = [(lambda xi, xj: (lambda x: (x - xj)/(xi - xj)))(xs[i], xj) for j, xj in enumerate(xs) if j != i]\n",
      "    return funcmul(L)\n",
      "\n",
      "def interpolacionLagrange(xs, ys):\n",
      "    LY = [(lambda y, i: (lambda x: lagrange(xs, i)(x)*y))(y, i) for i, y in enumerate(ys)]\n",
      "    return funcsum(LY)"
     ],
     "language": "python",
     "metadata": {},
     "outputs": [],
     "prompt_number": 14
    },
    {
     "cell_type": "markdown",
     "metadata": {},
     "source": [
      "Se tienen los siguientes puntos:\n",
      "$$p_1 = (1,2)$$\n",
      "$$p_2 = (3,5)$$\n",
      "$$p_3 = (2,8)$$\n",
      "$$p_4 = (6,2)$$\n",
      "$$p_5 = (7,1)$$"
     ]
    },
    {
     "cell_type": "code",
     "collapsed": false,
     "input": [
      "xs = [1, 3, 2, 6, 7]\n",
      "ys = [2, 5, 8, 2, 1]\n",
      "\n",
      "f = interpolacionLagrange(xs, ys)\n",
      "\n",
      "x = linspace(0, 10, 100)\n",
      "y = f(x)\n",
      "\n",
      "plot(xs, ys, \"o\")\n",
      "plot(x, y)"
     ],
     "language": "python",
     "metadata": {},
     "outputs": [
      {
       "metadata": {},
       "output_type": "pyout",
       "prompt_number": 17,
       "text": [
        "[<matplotlib.lines.Line2D at 0x1052b8510>]"
       ]
      },
      {
       "metadata": {},
       "output_type": "display_data",
       "png": "[encoded data removed]",
       "text": [
        "<matplotlib.figure.Figure at 0x1052b87d0>"
       ]
      }
     ],
     "prompt_number": 17
    },
    {
     "cell_type": "code",
     "collapsed": false,
     "input": [],
     "language": "python",
     "metadata": {},
     "outputs": []
    }
   ],
   "metadata": {}
  }
 ]
}