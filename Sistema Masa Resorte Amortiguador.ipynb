{
 "metadata": {
  "name": "Sistema Masa Resorte Amortiguador"
 },
 "nbformat": 3,
 "nbformat_minor": 0,
 "worksheets": [
  {
   "cells": [
    {
     "cell_type": "markdown",
     "metadata": {},
     "source": [
      "Vamos a analizar el comportamiento de un automovil como un sistema Masa Resorte Amortiguador, analizando lo que pasa en un viaje con muchos baches, y con la masa de un sedan  promedio con una persona adentro.\n",
      "\n",
      "En un sistema Masa Resorte Amortiguador se tiene un comportamiento descrito basicamente por las leyes de Newton.\n",
      "\n",
      "Si tenemos un bloque colgado por medio de un resorte y un amortiguador a un soporte fijo, tenemos que existe una fuerza $\\vec{F}$ en el sentido de la atracci\u00f3n gravitacional, y una fuerza debido al resorte $\\vec{F}_k$ en el sentido contrario, de magnitud $k x$, donde $x$ es la distancia que ha sido elongado o comprimido tal resorte.\n",
      "\n",
      "Tambien tenemos una aportaci\u00f3n debido al amortiguador $\\vec{F}_c$, de sentido contrario al movimiento de la masa y de magnitud $c \\dot{x}$.\n",
      "\n",
      "Por lo que todas estas contribuciones pueden ser sumadas para modelar el comportamiento del sistema en una Ecuacion Diferencial Ordinaria:\n",
      "\n",
      "$\\vec{F} - \\vec{F}_k - \\vec{F}_c = m \\ddot{x}$\n",
      "\n",
      "$m g - k x - c \\dot{x} = m \\ddot{x}$\n",
      "\n",
      "Lo cual escrito de diferente manera es $m \\ddot{x} + c \\dot{x} + k x = m g$ o si lo dividimos por la expresi\u00f3n completa por $m$ tendremos $\\ddot{x} + \\frac{c}{m} \\dot{x} + \\frac{k}{m} x = g$.\n",
      "\n",
      "Por lo que deducimos que la funcion de transferencia (la cual obtenemos sacando la transformada de Laplace) de este sistema ser\u00e1: $FT = \\frac{g}{s^2 +\\frac{c}{m} s + \\frac{k}{m}}$\n",
      "\n",
      "Aqui podemos hacer notar un par de cosas; la gravedad se puede considerar como una constante... a menos que se piense viajar a otro planeta o incluso a penas salir del mismo, lo cual considero improbable con tu vehiculo actual. De igual manera la masa de tu automovil es fija, a menos que se vaya desarmando mientras conduces, pero dejemos ese caso particular para un estudio posterior. Asi pues las variables que tenemos aqui son $c$ y $k$."
     ]
    },
    {
     "cell_type": "markdown",
     "metadata": {},
     "source": [
      "En primera instancia probemos con valores para $c = 1,500\\frac{N s}{m}$ y $k = 15,000 \\frac{N}{m}$ y comprobemos la respuesta al escalon unitario, de la misma manera definamos que la masa tendra un valor de $m = 1200 kg$. Para esto importamos la libreria python-control y declaramos las variables necesarias."
     ]
    },
    {
     "cell_type": "code",
     "collapsed": false,
     "input": [
      "from control import tf, step"
     ],
     "language": "python",
     "metadata": {},
     "outputs": [],
     "prompt_number": 2
    },
    {
     "cell_type": "code",
     "collapsed": false,
     "input": [
      "G = tf([9.81],[1.0, 1500.0/1200.0, 15000.0/1200.0])\n",
      "y,t = step(G)\n",
      "plot(t,y);"
     ],
     "language": "python",
     "metadata": {},
     "outputs": [
      {
       "output_type": "display_data",
       "png": "[encoded data removed]"
      }
     ],
     "prompt_number": 3
    },
    {
     "cell_type": "code",
     "collapsed": false,
     "input": [],
     "language": "python",
     "metadata": {},
     "outputs": []
    }
   ],
   "metadata": {}
  }
 ]
}