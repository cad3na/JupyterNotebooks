{
 "metadata": {
  "name": ""
 },
 "nbformat": 3,
 "nbformat_minor": 0,
 "worksheets": [
  {
   "cells": [
    {
     "cell_type": "code",
     "collapsed": false,
     "input": [
      "from IPython.display import display\n",
      "\n",
      "from sympy.interactive import printing\n",
      "printing.init_printing()\n",
      "\n",
      "from sympy import var, latex, simplify, collect, expand, solve, sin, cos\n",
      "var(\"s,a,b,k,x,y\")"
     ],
     "language": "python",
     "metadata": {},
     "outputs": [
      {
       "latex": [
        "$$\\begin{pmatrix}s, & a, & b, & k, & x, & y\\end{pmatrix}$$"
       ],
       "metadata": {},
       "output_type": "pyout",
       "png": "[encoded data removed]",
       "prompt_number": 1,
       "text": [
        "(s, a, b, k, x, y)"
       ]
      }
     ],
     "prompt_number": 1
    },
    {
     "cell_type": "code",
     "collapsed": false,
     "input": [
      "G = (s-1)/(s*(s+1))\n",
      "Gc = k*(s-a)/(s+b)\n",
      "FTlc = simplify((Gc*G)/(1+Gc*G))"
     ],
     "language": "python",
     "metadata": {},
     "outputs": [],
     "prompt_number": 2
    },
    {
     "cell_type": "code",
     "collapsed": false,
     "input": [
      "FTlc"
     ],
     "language": "python",
     "metadata": {},
     "outputs": [
      {
       "latex": [
        "$$- \\frac{k \\left(a - s\\right) \\left(s -1\\right)}{- k \\left(a - s\\right) \\left(s -1\\right) + s \\left(b + s\\right) \\left(s + 1\\right)}$$"
       ],
       "output_type": "pyout",
       "png": "[encoded data removed]",
       "prompt_number": 3,
       "text": [
        "          -k\u22c5(a - s)\u22c5(s - 1)          \n",
        "\u2500\u2500\u2500\u2500\u2500\u2500\u2500\u2500\u2500\u2500\u2500\u2500\u2500\u2500\u2500\u2500\u2500\u2500\u2500\u2500\u2500\u2500\u2500\u2500\u2500\u2500\u2500\u2500\u2500\u2500\u2500\u2500\u2500\u2500\u2500\u2500\u2500\u2500\n",
        "-k\u22c5(a - s)\u22c5(s - 1) + s\u22c5(b + s)\u22c5(s + 1)"
       ]
      }
     ],
     "prompt_number": 3
    },
    {
     "cell_type": "code",
     "collapsed": false,
     "input": [
      "simplify(solve(-a*b*k - a*k**2 - 2*a*k + b**2 + b - k**2 - k,k))"
     ],
     "language": "python",
     "metadata": {},
     "outputs": [
      {
       "latex": [
        "$$\\begin{bmatrix}\\frac{a b + 2 a + \\sqrt{a^{2} b^{2} + 4 a^{2} b + 4 a^{2} + 4 a b^{2} + 6 a b + 4 a + 4 b^{2} + 4 b + 1} + 1}{- 2 a -2}, & \\frac{- a b - 2 a + \\sqrt{a^{2} b^{2} + 4 a^{2} b + 4 a^{2} + 4 a b^{2} + 6 a b + 4 a + 4 b^{2} + 4 b + 1} -1}{2 a + 2}\\end{bmatrix}$$"
       ],
       "output_type": "pyout",
       "prompt_number": 4,
       "text": [
        "\u23a1               ______________________________________________________________\n",
        "\u23a2              \u2571  2  2      2        2        2                    2          \n",
        "\u23a2a\u22c5b + 2\u22c5a + \u2572\u2571  a \u22c5b  + 4\u22c5a \u22c5b + 4\u22c5a  + 4\u22c5a\u22c5b  + 6\u22c5a\u22c5b + 4\u22c5a + 4\u22c5b  + 4\u22c5b + 1\n",
        "\u23a2\u2500\u2500\u2500\u2500\u2500\u2500\u2500\u2500\u2500\u2500\u2500\u2500\u2500\u2500\u2500\u2500\u2500\u2500\u2500\u2500\u2500\u2500\u2500\u2500\u2500\u2500\u2500\u2500\u2500\u2500\u2500\u2500\u2500\u2500\u2500\u2500\u2500\u2500\u2500\u2500\u2500\u2500\u2500\u2500\u2500\u2500\u2500\u2500\u2500\u2500\u2500\u2500\u2500\u2500\u2500\u2500\u2500\u2500\u2500\u2500\u2500\u2500\u2500\u2500\u2500\u2500\u2500\u2500\u2500\u2500\u2500\u2500\u2500\u2500\u2500\u2500\u2500\n",
        "\u23a3                                     -2\u22c5a - 2                                \n",
        "\n",
        "_                      _______________________________________________________\n",
        "                      \u2571  2  2      2        2        2                    2   \n",
        "  + 1  -a\u22c5b - 2\u22c5a + \u2572\u2571  a \u22c5b  + 4\u22c5a \u22c5b + 4\u22c5a  + 4\u22c5a\u22c5b  + 6\u22c5a\u22c5b + 4\u22c5a + 4\u22c5b  + \n",
        "\u2500\u2500\u2500\u2500\u2500, \u2500\u2500\u2500\u2500\u2500\u2500\u2500\u2500\u2500\u2500\u2500\u2500\u2500\u2500\u2500\u2500\u2500\u2500\u2500\u2500\u2500\u2500\u2500\u2500\u2500\u2500\u2500\u2500\u2500\u2500\u2500\u2500\u2500\u2500\u2500\u2500\u2500\u2500\u2500\u2500\u2500\u2500\u2500\u2500\u2500\u2500\u2500\u2500\u2500\u2500\u2500\u2500\u2500\u2500\u2500\u2500\u2500\u2500\u2500\u2500\u2500\u2500\u2500\u2500\u2500\u2500\u2500\u2500\u2500\u2500\u2500\n",
        "                                            2\u22c5(a + 1)                         \n",
        "\n",
        "________    \u23a4\n",
        "            \u23a5\n",
        "4\u22c5b + 1  - 1\u23a5\n",
        "\u2500\u2500\u2500\u2500\u2500\u2500\u2500\u2500\u2500\u2500\u2500\u2500\u23a5\n",
        "            \u23a6"
       ]
      }
     ],
     "prompt_number": 4
    },
    {
     "cell_type": "code",
     "collapsed": false,
     "input": [
      "simplify(sin(x+y)+cos(x+y))"
     ],
     "language": "python",
     "metadata": {},
     "outputs": [
      {
       "latex": [
        "$$\\sqrt{2} \\sin{\\left (x + y + \\frac{\\pi}{4} \\right )}$$"
       ],
       "metadata": {},
       "output_type": "pyout",
       "png": "[encoded data removed]",
       "prompt_number": 2,
       "text": [
        "  ___    \u239b        \u03c0\u239e\n",
        "\u2572\u2571 2 \u22c5sin\u239cx + y + \u2500\u239f\n",
        "         \u239d        4\u23a0"
       ]
      }
     ],
     "prompt_number": 2
    },
    {
     "cell_type": "code",
     "collapsed": false,
     "input": [],
     "language": "python",
     "metadata": {},
     "outputs": []
    }
   ],
   "metadata": {}
  }
 ]
}