{
 "metadata": {
  "name": ""
 },
 "nbformat": 3,
 "nbformat_minor": 0,
 "worksheets": [
  {
   "cells": [
    {
     "cell_type": "code",
     "collapsed": false,
     "input": [
      "f = lambda x: 0.5*x**3 - 2*x**2 + 3*x + 10\n",
      "x = linspace(-5, 5, 100)"
     ],
     "language": "python",
     "metadata": {},
     "outputs": [],
     "prompt_number": 9
    },
    {
     "cell_type": "code",
     "collapsed": false,
     "input": [
      "plot(x, f(x))"
     ],
     "language": "python",
     "metadata": {},
     "outputs": [
      {
       "metadata": {},
       "output_type": "pyout",
       "prompt_number": 10,
       "text": [
        "[<matplotlib.lines.Line2D at 0x104fd55d0>]"
       ]
      },
      {
       "metadata": {},
       "output_type": "display_data",
       "png": "[encoded data removed]",
       "text": [
        "<matplotlib.figure.Figure at 0x1046d8250>"
       ]
      }
     ],
     "prompt_number": 10
    },
    {
     "cell_type": "code",
     "collapsed": false,
     "input": [
      "roots([0.5, -2, 3, 10])"
     ],
     "language": "python",
     "metadata": {},
     "outputs": [
      {
       "metadata": {},
       "output_type": "pyout",
       "prompt_number": 11,
       "text": [
        "array([ 2.72167481+2.53951626j,  2.72167481-2.53951626j, -1.44334962+0.j        ])"
       ]
      }
     ],
     "prompt_number": 11
    },
    {
     "cell_type": "code",
     "collapsed": false,
     "input": [
      "A = matrix([[4,-1,0,0],\n",
      "            [-1,4,-1,0],\n",
      "            [0,-1,4,-1],\n",
      "            [0,0,-1,4]])\n",
      "b = matrix([[1],\n",
      "            [1],\n",
      "            [1],\n",
      "            [1]])"
     ],
     "language": "python",
     "metadata": {},
     "outputs": [],
     "prompt_number": 62
    },
    {
     "cell_type": "code",
     "collapsed": false,
     "input": [
      "A.I*b"
     ],
     "language": "python",
     "metadata": {},
     "outputs": [
      {
       "metadata": {},
       "output_type": "pyout",
       "prompt_number": 63,
       "text": [
        "matrix([[ 0.36363636],\n",
        "        [ 0.45454545],\n",
        "        [ 0.45454545],\n",
        "        [ 0.36363636]])"
       ]
      }
     ],
     "prompt_number": 63
    },
    {
     "cell_type": "code",
     "collapsed": false,
     "input": [
      "B = - A/4.0 + identity(4)\n",
      "c = b/4.0\n",
      "B"
     ],
     "language": "python",
     "metadata": {},
     "outputs": [
      {
       "metadata": {},
       "output_type": "pyout",
       "prompt_number": 64,
       "text": [
        "matrix([[ 0.  ,  0.25,  0.  ,  0.  ],\n",
        "        [ 0.25,  0.  ,  0.25,  0.  ],\n",
        "        [ 0.  ,  0.25,  0.  ,  0.25],\n",
        "        [ 0.  ,  0.  ,  0.25,  0.  ]])"
       ]
      }
     ],
     "prompt_number": 64
    },
    {
     "cell_type": "code",
     "collapsed": false,
     "input": [
      "x0 = matrix([[0],\n",
      "             [0],\n",
      "             [0],\n",
      "             [0]])"
     ],
     "language": "python",
     "metadata": {},
     "outputs": [],
     "prompt_number": 65
    },
    {
     "cell_type": "code",
     "collapsed": false,
     "input": [
      "x1 = B*x0 + c\n",
      "x1"
     ],
     "language": "python",
     "metadata": {},
     "outputs": [
      {
       "metadata": {},
       "output_type": "pyout",
       "prompt_number": 66,
       "text": [
        "matrix([[ 0.25],\n",
        "        [ 0.25],\n",
        "        [ 0.25],\n",
        "        [ 0.25]])"
       ]
      }
     ],
     "prompt_number": 66
    },
    {
     "cell_type": "code",
     "collapsed": false,
     "input": [
      "x2 = B*x1 + c\n",
      "x2"
     ],
     "language": "python",
     "metadata": {},
     "outputs": [
      {
       "metadata": {},
       "output_type": "pyout",
       "prompt_number": 67,
       "text": [
        "matrix([[ 0.3125],\n",
        "        [ 0.375 ],\n",
        "        [ 0.375 ],\n",
        "        [ 0.3125]])"
       ]
      }
     ],
     "prompt_number": 67
    },
    {
     "cell_type": "code",
     "collapsed": false,
     "input": [
      "x3 = B*x2 + c\n",
      "x3"
     ],
     "language": "python",
     "metadata": {},
     "outputs": [
      {
       "metadata": {},
       "output_type": "pyout",
       "prompt_number": 68,
       "text": [
        "matrix([[ 0.34375 ],\n",
        "        [ 0.421875],\n",
        "        [ 0.421875],\n",
        "        [ 0.34375 ]])"
       ]
      }
     ],
     "prompt_number": 68
    },
    {
     "cell_type": "code",
     "collapsed": false,
     "input": [
      "x4 = B*x3 + c\n",
      "x4"
     ],
     "language": "python",
     "metadata": {},
     "outputs": [
      {
       "metadata": {},
       "output_type": "pyout",
       "prompt_number": 69,
       "text": [
        "matrix([[ 0.35546875],\n",
        "        [ 0.44140625],\n",
        "        [ 0.44140625],\n",
        "        [ 0.35546875]])"
       ]
      }
     ],
     "prompt_number": 69
    },
    {
     "cell_type": "code",
     "collapsed": false,
     "input": [
      "x5 = B*x4 + c\n",
      "x5"
     ],
     "language": "python",
     "metadata": {},
     "outputs": [
      {
       "metadata": {},
       "output_type": "pyout",
       "prompt_number": 70,
       "text": [
        "matrix([[ 0.36035156],\n",
        "        [ 0.44921875],\n",
        "        [ 0.44921875],\n",
        "        [ 0.36035156]])"
       ]
      }
     ],
     "prompt_number": 70
    },
    {
     "cell_type": "code",
     "collapsed": false,
     "input": [
      "x6 = B*x5 + c\n",
      "x6"
     ],
     "language": "python",
     "metadata": {},
     "outputs": [
      {
       "metadata": {},
       "output_type": "pyout",
       "prompt_number": 71,
       "text": [
        "matrix([[ 0.36230469],\n",
        "        [ 0.45239258],\n",
        "        [ 0.45239258],\n",
        "        [ 0.36230469]])"
       ]
      }
     ],
     "prompt_number": 71
    },
    {
     "cell_type": "code",
     "collapsed": false,
     "input": [],
     "language": "python",
     "metadata": {},
     "outputs": []
    }
   ],
   "metadata": {}
  }
 ]
}